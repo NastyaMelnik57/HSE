{
 "cells": [
  {
   "cell_type": "markdown",
   "metadata": {},
   "source": [
    "# WordNet"
   ]
  },
  {
   "cell_type": "markdown",
   "metadata": {},
   "source": [
    "http://wordnetweb.princeton.edu/perl/webwn"
   ]
  },
  {
   "cell_type": "code",
   "execution_count": 1,
   "metadata": {},
   "outputs": [],
   "source": [
    "from nltk.corpus import wordnet"
   ]
  },
  {
   "cell_type": "markdown",
   "metadata": {},
   "source": [
    "Посмотрим на работу WordNet на примере существительного *star*."
   ]
  },
  {
   "cell_type": "markdown",
   "metadata": {},
   "source": [
    "1) Найдем все значения слова *star*."
   ]
  },
  {
   "cell_type": "code",
   "execution_count": 7,
   "metadata": {},
   "outputs": [
    {
     "name": "stdout",
     "output_type": "stream",
     "text": [
      "Synset('star.n.01') (astronomy) a celestial body of hot gases that radiates energy derived from thermonuclear reactions in the interior\n",
      "Synset('ace.n.03') someone who is dazzlingly skilled in any field\n",
      "Synset('star.n.03') any celestial body visible (as a point of light) from the Earth at night\n",
      "Synset('star.n.04') an actor who plays a principal role\n",
      "Synset('star.n.05') a plane figure with 5 or more points; often used as an emblem\n",
      "Synset('headliner.n.01') a performer who receives prominent billing\n",
      "Synset('asterisk.n.01') a star-shaped character * used in printing\n",
      "Synset('star_topology.n.01') the topology of a network whose components are connected to a hub\n",
      "Synset('star.v.01') feature as the star\n",
      "Synset('star.v.02') be the star in a performance\n",
      "Synset('star.v.03') mark with an asterisk\n",
      "Synset('leading.s.01') indicating the most important performer or role\n"
     ]
    }
   ],
   "source": [
    "star = wordnet.synsets('star')\n",
    "for ss in star:\n",
    "    print(ss, ss.definition())"
   ]
  },
  {
   "cell_type": "markdown",
   "metadata": {},
   "source": [
    "2) Выпишем определения для значений (a) \"звезда на небе\" и (b) \"известный актер\""
   ]
  },
  {
   "cell_type": "code",
   "execution_count": 8,
   "metadata": {},
   "outputs": [
    {
     "name": "stdout",
     "output_type": "stream",
     "text": [
      "Synset('star.n.03') any celestial body visible (as a point of light) from the Earth at night\n",
      "Synset('star.n.04') an actor who plays a principal role\n"
     ]
    }
   ],
   "source": [
    "print(star[2], star[2].definition())\n",
    "print(star[3], star[3].definition())"
   ]
  },
  {
   "cell_type": "markdown",
   "metadata": {},
   "source": [
    "3) Найдем два произвольных контекста для слова *star* в значениях \"звезда на небе\" и (b) \"известный актер\""
   ]
  },
  {
   "cell_type": "code",
   "execution_count": 10,
   "metadata": {},
   "outputs": [
    {
     "name": "stdout",
     "output_type": "stream",
     "text": [
      "['Have', 'you', 'ever', 'looked', 'up', 'into', 'the', 'night', 'sky', 'and', 'wondered', 'just', 'how', 'many', 'stars', 'there', 'are', 'in', 'space']\n",
      "['Because', 'every', 'kid', 'thinks', 'they', 'should', 'be', 'a', 'rap', 'mogul', 'or', 'a', 'movie', 'star']\n"
     ]
    }
   ],
   "source": [
    "sent1 = 'Have you ever looked up into the night sky and wondered just how many stars there are in space?'\n",
    "sent2 = 'Because every kid thinks they should be a rap mogul or a movie star.'\n",
    "sent1_tokens = [word.strip('.,?') for word in sent1.split(' ')]\n",
    "sent2_tokens = [word.strip('.,?') for word in sent2.split(' ')]\n",
    "print(sent1_tokens)\n",
    "print(sent2_tokens)"
   ]
  },
  {
   "cell_type": "markdown",
   "metadata": {},
   "source": [
    "Применим алгоритм Леска для разрешения неоднозначности в обоих предложениях:  \n",
    "https://ru.wikipedia.org/wiki/Метод_Леска"
   ]
  },
  {
   "cell_type": "code",
   "execution_count": 11,
   "metadata": {},
   "outputs": [
    {
     "name": "stdout",
     "output_type": "stream",
     "text": [
      "the topology of a network whose components are connected to a hub\n",
      "be the star in a performance\n"
     ]
    }
   ],
   "source": [
    "from nltk.wsd import lesk\n",
    "print(lesk(sent1_tokens, 'star').definition())\n",
    "print(lesk(sent2_tokens, 'star').definition())"
   ]
  },
  {
   "cell_type": "markdown",
   "metadata": {},
   "source": [
    "Алгоритм ошибся в первом случае, а во втором вывела определение, похожее на правильное."
   ]
  },
  {
   "cell_type": "markdown",
   "metadata": {},
   "source": [
    "4) Найдем гиперонимы для значения (a) \"звезда на небе\" и гиперонимы для значения (b) \"известный актер\""
   ]
  },
  {
   "cell_type": "code",
   "execution_count": 12,
   "metadata": {},
   "outputs": [
    {
     "name": "stdout",
     "output_type": "stream",
     "text": [
      "Synset('celestial_body.n.01') natural objects visible in the sky\n",
      "Synset('actor.n.01') a theatrical performer\n"
     ]
    }
   ],
   "source": [
    "for ss in star[2].hypernyms():\n",
    "    print(ss, ss.definition())\n",
    "for ss in star[3].hypernyms():\n",
    "    print(ss, ss.definition())"
   ]
  },
  {
   "cell_type": "markdown",
   "metadata": {},
   "source": [
    "Астрономический объект и актёр."
   ]
  },
  {
   "cell_type": "markdown",
   "metadata": {},
   "source": [
    "5) Вычислим наименьшее расстояние между значением *star* \"известный актер\" и значениями лексемы *movie* и  \n",
    "наименьшее расстояние между значением *star* \"звезда на небе\" и значениями лексемы *sky*.  "
   ]
  },
  {
   "cell_type": "code",
   "execution_count": 20,
   "metadata": {},
   "outputs": [
    {
     "name": "stdout",
     "output_type": "stream",
     "text": [
      "min d(star: \"звезда на небе\", sky): 10\n",
      "closest lemma definition: the atmosphere and outer space as viewed from the earth\n",
      "\n",
      "min d(star: \"известный актер\", film): 8\n",
      "closest lemma definition: a thin coating or layer\n",
      "\n",
      "min d(star: \"звезда на небе\", film): 5\n",
      "closest lemma definition: a thin coating or layer\n",
      "\n",
      "min d(star: \"известный актер\", sky): 11\n",
      "closest lemma definition: the atmosphere and outer space as viewed from the earth\n",
      "\n",
      "min (d(star: \"звезда на небе\", sky), d(star: \"звезда на небе\", film)): 8\n",
      "min (d(star: \"известный актер\", sky), d(star: \"известный актер\", film)): 5\n"
     ]
    }
   ],
   "source": [
    "film = wordnet.synsets('film')\n",
    "sky = wordnet.synsets('sky')\n",
    "\n",
    "def get_dist_sim(ss1, lexeme):\n",
    "    distances = []\n",
    "    similarities = []\n",
    "    for ss2 in lexeme:\n",
    "        dist = ss1.shortest_path_distance(ss2)\n",
    "        if dist is not None:\n",
    "            distances.append(dist)\n",
    "            sim = ss1.path_similarity(ss2)\n",
    "            similarities.append(sim)\n",
    "    return distances, similarities\n",
    "\n",
    "# min d(star: \"звезда на небе\", sky)\n",
    "dist1 = get_dist_sim(star[2], sky)[0]\n",
    "print('min d(star: \"звезда на небе\", sky): {}'.format(min(dist1)))\n",
    "print('closest lemma definition: {}\\n'.format(sky[dist1.index(min(dist1))].definition()))\n",
    "# Правда, здесь выводится только одно ближайшее значение. Их может быть несколько.\n",
    "\n",
    "# min d(star: \"известный актер\", film)\n",
    "dist2 = get_dist_sim(star[3], film)[0]\n",
    "print('min d(star: \"известный актер\", film): {}'.format(min(dist2)))\n",
    "print('closest lemma definition: {}\\n'.format(film[dist2.index(min(dist2))].definition()))\n",
    "\n",
    "# min d(star: \"звезда на небе\", film)\n",
    "dist3 = get_dist_sim(star[2], film)[0]\n",
    "print('min d(star: \"звезда на небе\", film): {}'.format(min(dist3)))\n",
    "print('closest lemma definition: {}\\n'.format(film[dist3.index(min(dist3))].definition()))\n",
    "\n",
    "# min d(star: \"известный актер\", sky)\n",
    "dist4 = get_dist_sim(star[3], sky)[0]\n",
    "print('min d(star: \"известный актер\", sky): {}'.format(min(dist4)))\n",
    "print('closest lemma definition: {}\\n'.format(sky[dist4.index(min(dist4))].definition()))\n",
    "\n",
    "print('min (d(star: \"звезда на небе\", sky), d(star: \"звезда на небе\", film)): {}'.format(min(min(dist1), min(dist2))))\n",
    "print('min (d(star: \"известный актер\", sky), d(star: \"известный актер\", film)): {}'.format(min(min(dist3), min(dist4))))"
   ]
  },
  {
   "cell_type": "markdown",
   "metadata": {},
   "source": [
    "Кратчайшее расстояние от небесной звезды до sky - 10 (значение sky выбрано верное), до film - 5. Логично.  \n",
    "Кратчайшее расстояние от актера до film - 8 и до sky - 11. До film расстояние короче, что неправильно. И определение для film дано неверное."
   ]
  },
  {
   "cell_type": "code",
   "execution_count": 15,
   "metadata": {},
   "outputs": [
    {
     "name": "stdout",
     "output_type": "stream",
     "text": [
      "Synset('sky.n.01') the atmosphere and outer space as viewed from the earth\n",
      "Synset('flip.v.06') throw or toss with a light motion\n"
     ]
    }
   ],
   "source": [
    "sky = wordnet.synsets('sky')\n",
    "for ss in sky:\n",
    "    print(ss, ss.definition())"
   ]
  },
  {
   "cell_type": "code",
   "execution_count": 17,
   "metadata": {},
   "outputs": [
    {
     "name": "stdout",
     "output_type": "stream",
     "text": [
      "Synset('movie.n.01') a form of entertainment that enacts a story by sound and a sequence of images giving the illusion of continuous movement\n",
      "Synset('film.n.02') a medium that disseminates moving pictures\n",
      "Synset('film.n.03') photographic material consisting of a base of celluloid covered with a photographic emulsion; used to make negatives or transparencies\n",
      "Synset('film.n.04') a thin coating or layer\n",
      "Synset('film.n.05') a thin sheet of (usually plastic and usually transparent) material used to wrap or cover things\n",
      "Synset('film.v.01') make a film or photograph of something\n",
      "Synset('film.v.02') record in film\n"
     ]
    }
   ],
   "source": [
    "sky = wordnet.synsets('film')\n",
    "for ss in sky:\n",
    "    print(ss, ss.definition())"
   ]
  },
  {
   "cell_type": "markdown",
   "metadata": {},
   "source": [
    "6) Вычислим вычислим близость значений *star* \"звезда на небе\" и *cosmos*."
   ]
  },
  {
   "cell_type": "code",
   "execution_count": 24,
   "metadata": {},
   "outputs": [
    {
     "name": "stdout",
     "output_type": "stream",
     "text": [
      "Synset('universe.n.01') everything that exists anywhere\n",
      "Synset('cosmos.n.02') any of various mostly Mexican herbs of the genus Cosmos having radiate heads of variously colored flowers and pinnate leaves; popular fall-blooming annuals\n"
     ]
    }
   ],
   "source": [
    "cosmos = wordnet.synsets(\"cosmos\")\n",
    "for ss in cosmos:\n",
    "    print(ss, ss.definition())"
   ]
  },
  {
   "cell_type": "markdown",
   "metadata": {},
   "source": [
    "Посчитаем близость с помощью критериев Path Similarity, Leacock-Chodorow Similarity, Wu-Palmer Similarity, Resnik Similarity, Jiang-Conrath Similarity и Lin Similarity. Для последних трех будем использовать Information Content корпуса Brown."
   ]
  },
  {
   "cell_type": "code",
   "execution_count": 26,
   "metadata": {},
   "outputs": [
    {
     "name": "stdout",
     "output_type": "stream",
     "text": [
      "0.25\n",
      "2.2512917986064953\n",
      "0.7692307692307693\n",
      "4.94037581120928\n",
      "0.1248115233147824\n",
      "0.5522184208452325\n"
     ]
    }
   ],
   "source": [
    "from nltk.corpus import wordnet_ic\n",
    "ic = wordnet_ic.ic('ic-brown.dat')\n",
    "\n",
    "print(star[2].path_similarity(cosmos[0]))\n",
    "\n",
    "#Leacock-Chodorow Similarity\n",
    "print(star[2].lch_similarity(cosmos[0]))\n",
    "\n",
    "#Wu-Palmer Similarity\n",
    "print(star[2].wup_similarity(cosmos[0]))\n",
    "    \n",
    "#Resnik Similarity\n",
    "print(star[2].res_similarity(cosmos[0], ic))\n",
    "    \n",
    "#Jiang-Conrath Similarity\n",
    "print(star[2].jcn_similarity(cosmos[0], ic))\n",
    "    \n",
    "#Lin Similarity\n",
    "print(star[2].lin_similarity(cosmos[0], ic))"
   ]
  },
  {
   "cell_type": "markdown",
   "metadata": {},
   "source": [
    "Вычислим вычислим близость значений *star* \"известный актер\" и *cat* \"домашнее животное\"."
   ]
  },
  {
   "cell_type": "code",
   "execution_count": 27,
   "metadata": {},
   "outputs": [
    {
     "name": "stdout",
     "output_type": "stream",
     "text": [
      "Synset('cat.n.01') feline mammal usually having thick soft fur and no ability to roar: domestic cats; wildcats\n",
      "Synset('guy.n.01') an informal term for a youth or man\n",
      "Synset('cat.n.03') a spiteful woman gossip\n",
      "Synset('kat.n.01') the leaves of the shrub Catha edulis which are chewed like tobacco or used to make tea; has the effect of a euphoric stimulant\n",
      "Synset('cat-o'-nine-tails.n.01') a whip with nine knotted cords\n",
      "Synset('caterpillar.n.02') a large tracked vehicle that is propelled by two endless metal belts; frequently used for moving earth in construction and farm work\n",
      "Synset('big_cat.n.01') any of several large cats typically able to roar and living in the wild\n",
      "Synset('computerized_tomography.n.01') a method of examining body organs by scanning them with X rays and using a computer to construct a series of cross-sectional scans along a single axis\n",
      "Synset('cat.v.01') beat with a cat-o'-nine-tails\n",
      "Synset('vomit.v.01') eject the contents of the stomach through the mouth\n"
     ]
    }
   ],
   "source": [
    "cat = wordnet.synsets(\"cat\")\n",
    "for ss in cat:\n",
    "    print(ss, ss.definition())"
   ]
  },
  {
   "cell_type": "code",
   "execution_count": 28,
   "metadata": {},
   "outputs": [
    {
     "name": "stdout",
     "output_type": "stream",
     "text": [
      "0.07142857142857142\n",
      "0.9985288301111273\n",
      "0.48\n",
      "2.2241504712318556\n",
      "0.0750854700495999\n",
      "0.25037636757776993\n"
     ]
    }
   ],
   "source": [
    "from nltk.corpus import wordnet_ic\n",
    "ic = wordnet_ic.ic('ic-brown.dat')\n",
    "\n",
    "print(star[3].path_similarity(cat[0]))\n",
    "\n",
    "#Leacock-Chodorow Similarity\n",
    "print(star[3].lch_similarity(cat[0]))\n",
    "\n",
    "#Wu-Palmer Similarity\n",
    "print(star[3].wup_similarity(cat[0]))\n",
    "    \n",
    "#Resnik Similarity\n",
    "print(star[3].res_similarity(cat[0], ic))\n",
    "    \n",
    "#Jiang-Conrath Similarity\n",
    "print(star[3].jcn_similarity(cat[0], ic))\n",
    "    \n",
    "#Lin Similarity\n",
    "print(star[3].lin_similarity(cat[0], ic))"
   ]
  },
  {
   "cell_type": "markdown",
   "metadata": {},
   "source": [
    "Мы посчитали значения семантической близости для двух пар слов:  \n",
    "    в первой слова семантически близки и связаны отношением слов и его семантическое поле,  \n",
    "    во второй слова никак семантически не связаны. Соответственно мы ожидаем большее значение метрик для первой пары."
   ]
  },
  {
   "cell_type": "markdown",
   "metadata": {},
   "source": [
    "Все метрики выдают большие значения для схожести первой пары, и меньшее для второй. Лучше всего отражает эти два факта мера семантической схожести Jiang-Conrath (наибольшее частное между двумя значениями - 0.625)."
   ]
  }
 ],
 "metadata": {
  "kernelspec": {
   "display_name": "Python 3.6",
   "language": "python",
   "name": "python3"
  },
  "language_info": {
   "codemirror_mode": {
    "name": "ipython",
    "version": 3
   },
   "file_extension": ".py",
   "mimetype": "text/x-python",
   "name": "python",
   "nbconvert_exporter": "python",
   "pygments_lexer": "ipython3",
   "version": "3.6.3"
  }
 },
 "nbformat": 4,
 "nbformat_minor": 2
}
