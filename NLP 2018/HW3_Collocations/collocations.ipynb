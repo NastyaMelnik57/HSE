{
 "cells": [
  {
   "cell_type": "code",
   "execution_count": 111,
   "metadata": {},
   "outputs": [],
   "source": [
    "import nltk\n",
    "from nltk.collocations import *\n",
    "from nltk.metrics.spearman import *\n",
    "from scipy.stats import spearmanr\n",
    "from nltk.tokenize import sent_tokenize, word_tokenize\n",
    "from gensim.models.phrases import Phraser, Phrases\n",
    "import pandas as pd\n",
    "import re"
   ]
  },
  {
   "cell_type": "code",
   "execution_count": 8,
   "metadata": {},
   "outputs": [
    {
     "data": {
      "text/html": [
       "<div>\n",
       "<style scoped>\n",
       "    .dataframe tbody tr th:only-of-type {\n",
       "        vertical-align: middle;\n",
       "    }\n",
       "\n",
       "    .dataframe tbody tr th {\n",
       "        vertical-align: top;\n",
       "    }\n",
       "\n",
       "    .dataframe thead th {\n",
       "        text-align: right;\n",
       "    }\n",
       "</style>\n",
       "<table border=\"1\" class=\"dataframe\">\n",
       "  <thead>\n",
       "    <tr style=\"text-align: right;\">\n",
       "      <th></th>\n",
       "      <th>0</th>\n",
       "      <th>1</th>\n",
       "      <th>2</th>\n",
       "      <th>3</th>\n",
       "      <th>4</th>\n",
       "    </tr>\n",
       "  </thead>\n",
       "  <tbody>\n",
       "    <tr>\n",
       "      <th>0</th>\n",
       "      <td>СУД</td>\n",
       "      <td>АРЕСТОВАТЬ</td>\n",
       "      <td>ПОДПОЛКОВНИК</td>\n",
       "      <td>ЗАМНАЧАЛЬНИК</td>\n",
       "      <td>ОТДЕЛ</td>\n",
       "    </tr>\n",
       "    <tr>\n",
       "      <th>1</th>\n",
       "      <td>СУД</td>\n",
       "      <td>ВЕСТИ</td>\n",
       "      <td>ПЕРЕГОВОРЫ</td>\n",
       "      <td>ПОСТАВКА</td>\n",
       "      <td>БУДУЩИЙ</td>\n",
       "    </tr>\n",
       "    <tr>\n",
       "      <th>2</th>\n",
       "      <td>СУД</td>\n",
       "      <td>ВЗЯТЬ</td>\n",
       "      <td>РЕАЛИЗАЦИЯ</td>\n",
       "      <td>ЗАКОН</td>\n",
       "      <td>ОБЯЗАТЕЛЬНЫЙ</td>\n",
       "    </tr>\n",
       "    <tr>\n",
       "      <th>3</th>\n",
       "      <td>СУД</td>\n",
       "      <td>ВЫКУПИТЬ</td>\n",
       "      <td>ГОСУДАРСТВО</td>\n",
       "      <td>АКЦИЯ</td>\n",
       "      <td>РАНЕЕ</td>\n",
       "    </tr>\n",
       "    <tr>\n",
       "      <th>4</th>\n",
       "      <td>СУД</td>\n",
       "      <td>ГОВОРИТЬ</td>\n",
       "      <td>ПРЕСС-СЕКРЕТАРЬ</td>\n",
       "      <td>ЕВГЕНИЙ</td>\n",
       "      <td>ВРЕМЕНИТЬ</td>\n",
       "    </tr>\n",
       "  </tbody>\n",
       "</table>\n",
       "</div>"
      ],
      "text/plain": [
       "      0             1                 2              3              4\n",
       "0  СУД    АРЕСТОВАТЬ      ПОДПОЛКОВНИК   ЗАМНАЧАЛЬНИК          ОТДЕЛ \n",
       "1  СУД         ВЕСТИ        ПЕРЕГОВОРЫ       ПОСТАВКА        БУДУЩИЙ \n",
       "2  СУД         ВЗЯТЬ        РЕАЛИЗАЦИЯ          ЗАКОН   ОБЯЗАТЕЛЬНЫЙ \n",
       "3  СУД      ВЫКУПИТЬ       ГОСУДАРСТВО          АКЦИЯ          РАНЕЕ \n",
       "4  СУД      ГОВОРИТЬ   ПРЕСС-СЕКРЕТАРЬ        ЕВГЕНИЙ       ВРЕМЕНИТЬ"
      ]
     },
     "execution_count": 8,
     "metadata": {},
     "output_type": "execute_result"
    }
   ],
   "source": [
    "data = pd.read_csv('court-V-N.csv', header=None)\n",
    "data.head()"
   ]
  },
  {
   "cell_type": "code",
   "execution_count": 29,
   "metadata": {},
   "outputs": [],
   "source": [
    "rows = list(map(list, data.values))\n",
    "tokens = [j for i in rows for j in i]"
   ]
  },
  {
   "cell_type": "markdown",
   "metadata": {},
   "source": [
    "Выделим наиболее типичные для суда действия, применив 2 различных метода (оба являются вариациями алгоритма nltk bigrams, выбирают только те коллокации, которые встречаются больше 10 раз, но используют различные метрики):"
   ]
  },
  {
   "cell_type": "markdown",
   "metadata": {},
   "source": [
    "#### NLTK Bigrams with PMI and Likelihood metrics"
   ]
  },
  {
   "cell_type": "code",
   "execution_count": 78,
   "metadata": {},
   "outputs": [],
   "source": [
    "def freq_bigrams(tokens, metrics, nbest=10, freq_filter=0):\n",
    "    bigram_measures = nltk.collocations.BigramAssocMeasures()\n",
    "    metrics_={'pmi':bigram_measures.pmi, 'lr':bigram_measures.likelihood_ratio}\n",
    "    finder = BigramCollocationFinder.from_words(tokens)\n",
    "    finder.apply_freq_filter(freq_filter)\n",
    "    nbest = finder.nbest(metrics_[metrics], nbest)\n",
    "    return nbest"
   ]
  },
  {
   "cell_type": "code",
   "execution_count": 96,
   "metadata": {},
   "outputs": [
    {
     "data": {
      "text/plain": [
       "['выдать санкция',\n",
       " 'наложить арест',\n",
       " 'санкция арест',\n",
       " 'удовлетворить ходатайство',\n",
       " 'признать виновная',\n",
       " 'принять решение',\n",
       " 'удовлетворить иск',\n",
       " 'вынести решение',\n",
       " 'суд рассмотреть',\n",
       " 'суд дать']"
      ]
     },
     "execution_count": 96,
     "metadata": {},
     "output_type": "execute_result"
    }
   ],
   "source": [
    "bigrams_pmi = freq_bigrams(tokens, 'pmi', nbest=10, freq_filter=10)\n",
    "bigrams_pmi = [''.join(i).lower().strip() for i in bigrams_pmi]\n",
    "bigrams_pmi"
   ]
  },
  {
   "cell_type": "code",
   "execution_count": 97,
   "metadata": {},
   "outputs": [
    {
     "data": {
      "text/plain": [
       "['суд суд',\n",
       " 'суд признать',\n",
       " 'выдать санкция',\n",
       " 'суд удовлетворить',\n",
       " 'удовлетворить иск',\n",
       " 'удовлетворить ходатайство',\n",
       " 'принять решение',\n",
       " 'санкция арест',\n",
       " 'наложить арест',\n",
       " 'суд вынести']"
      ]
     },
     "execution_count": 97,
     "metadata": {},
     "output_type": "execute_result"
    }
   ],
   "source": [
    "bigrams_lr = freq_bigrams(tokens, 'lr', nbest=10, freq_filter=10)\n",
    "bigrams_lr = [''.join(i).lower().strip() for i in bigrams_lr]\n",
    "bigrams_lr"
   ]
  },
  {
   "cell_type": "code",
   "execution_count": 108,
   "metadata": {},
   "outputs": [],
   "source": [
    "import csv\n",
    "for i, l in enumerate([bigrams_pmi, bigrams_lr]):\n",
    "    with open(\"bigrams_{}.csv\".format(['pmi', 'lr'][i]),'w') as resultFile:\n",
    "        wr = csv.writer(resultFile, dialect='excel')\n",
    "        wr.writerows(l)"
   ]
  },
  {
   "cell_type": "markdown",
   "metadata": {},
   "source": [
    "Пользуясь словарями, интуицией и т.п. составить золотой стандарт – ранжированный топ 10 коллокаций."
   ]
  },
  {
   "cell_type": "code",
   "execution_count": 94,
   "metadata": {},
   "outputs": [],
   "source": [
    "gold_standard = pd.read_csv('gold_standard.csv', header=None)"
   ]
  },
  {
   "cell_type": "markdown",
   "metadata": {},
   "source": [
    "Сравним полученные результаты:"
   ]
  },
  {
   "cell_type": "code",
   "execution_count": 95,
   "metadata": {},
   "outputs": [
    {
     "data": {
      "text/html": [
       "<div>\n",
       "<style scoped>\n",
       "    .dataframe tbody tr th:only-of-type {\n",
       "        vertical-align: middle;\n",
       "    }\n",
       "\n",
       "    .dataframe tbody tr th {\n",
       "        vertical-align: top;\n",
       "    }\n",
       "\n",
       "    .dataframe thead th {\n",
       "        text-align: right;\n",
       "    }\n",
       "</style>\n",
       "<table border=\"1\" class=\"dataframe\">\n",
       "  <thead>\n",
       "    <tr style=\"text-align: right;\">\n",
       "      <th></th>\n",
       "      <th>pmi</th>\n",
       "      <th>lr</th>\n",
       "      <th>gold</th>\n",
       "    </tr>\n",
       "  </thead>\n",
       "  <tbody>\n",
       "    <tr>\n",
       "      <th>0</th>\n",
       "      <td>мера пресечение</td>\n",
       "      <td>суд суд</td>\n",
       "      <td>признать виновная</td>\n",
       "    </tr>\n",
       "    <tr>\n",
       "      <th>1</th>\n",
       "      <td>выдать санкция</td>\n",
       "      <td>суд признать</td>\n",
       "      <td>вынести приговор</td>\n",
       "    </tr>\n",
       "    <tr>\n",
       "      <th>2</th>\n",
       "      <td>отказать удовлетворение</td>\n",
       "      <td>выдать санкция</td>\n",
       "      <td>взять перерыв</td>\n",
       "    </tr>\n",
       "    <tr>\n",
       "      <th>3</th>\n",
       "      <td>наложить арест</td>\n",
       "      <td>суд удовлетворить</td>\n",
       "      <td>выслушать защита</td>\n",
       "    </tr>\n",
       "    <tr>\n",
       "      <th>4</th>\n",
       "      <td>санкция арест</td>\n",
       "      <td>удовлетворить иск</td>\n",
       "      <td>вызвать свидетель</td>\n",
       "    </tr>\n",
       "    <tr>\n",
       "      <th>5</th>\n",
       "      <td>санкционировать арест</td>\n",
       "      <td>удовлетворить ходатайство</td>\n",
       "      <td>принять решение</td>\n",
       "    </tr>\n",
       "    <tr>\n",
       "      <th>6</th>\n",
       "      <td>признать правота</td>\n",
       "      <td>принять решение</td>\n",
       "      <td>назначить наказание</td>\n",
       "    </tr>\n",
       "    <tr>\n",
       "      <th>7</th>\n",
       "      <td>удовлетворить ходатайство</td>\n",
       "      <td>санкция арест</td>\n",
       "      <td>вести переговоры</td>\n",
       "    </tr>\n",
       "    <tr>\n",
       "      <th>8</th>\n",
       "      <td>рассмотреть ходатайство</td>\n",
       "      <td>мера пресечение</td>\n",
       "      <td>освободить залог</td>\n",
       "    </tr>\n",
       "    <tr>\n",
       "      <th>9</th>\n",
       "      <td>признать виновная</td>\n",
       "      <td>наложить арест</td>\n",
       "      <td>удовлетворить ходатайство</td>\n",
       "    </tr>\n",
       "  </tbody>\n",
       "</table>\n",
       "</div>"
      ],
      "text/plain": [
       "                         pmi                         lr  \\\n",
       "0            мера пресечение                    суд суд   \n",
       "1             выдать санкция               суд признать   \n",
       "2    отказать удовлетворение             выдать санкция   \n",
       "3             наложить арест          суд удовлетворить   \n",
       "4              санкция арест          удовлетворить иск   \n",
       "5      санкционировать арест  удовлетворить ходатайство   \n",
       "6           признать правота            принять решение   \n",
       "7  удовлетворить ходатайство              санкция арест   \n",
       "8    рассмотреть ходатайство            мера пресечение   \n",
       "9          признать виновная             наложить арест   \n",
       "\n",
       "                        gold  \n",
       "0          признать виновная  \n",
       "1           вынести приговор  \n",
       "2              взять перерыв  \n",
       "3           выслушать защита  \n",
       "4          вызвать свидетель  \n",
       "5            принять решение  \n",
       "6        назначить наказание  \n",
       "7           вести переговоры  \n",
       "8           освободить залог  \n",
       "9  удовлетворить ходатайство  "
      ]
     },
     "execution_count": 95,
     "metadata": {},
     "output_type": "execute_result"
    }
   ],
   "source": [
    "results = pd.concat([pd.Series(bigrams_pmi), pd.Series(bigrams_lr), gold_standard], axis=1)\n",
    "results.columns = ['pmi', 'lr', 'gold']\n",
    "results"
   ]
  },
  {
   "cell_type": "code",
   "execution_count": 118,
   "metadata": {},
   "outputs": [
    {
     "name": "stdout",
     "output_type": "stream",
     "text": [
      "Коэффициент корреляции Спирмана между золотым стандартом и nltk bigrams с метрикой pmi:  -0.19\n"
     ]
    },
    {
     "name": "stderr",
     "output_type": "stream",
     "text": [
      "/Library/Frameworks/Python.framework/Versions/3.6/lib/python3.6/site-packages/scipy/stats/stats.py:245: RuntimeWarning: The input array could not be properly checked for nan values. nan values will be ignored.\n",
      "  \"values. nan values will be ignored.\", RuntimeWarning)\n"
     ]
    }
   ],
   "source": [
    "print('Коэффициент корреляции Спирмана между золотым стандартом и nltk bigrams с метрикой pmi: ', \n",
    "      \"%.2f\" % spearmanr(results['pmi'], results['gold'])[0])"
   ]
  },
  {
   "cell_type": "code",
   "execution_count": 119,
   "metadata": {},
   "outputs": [
    {
     "name": "stdout",
     "output_type": "stream",
     "text": [
      "Коэффициент корреляции Спирмана между золотым стандартом и nltk bigrams с метрикой likelihood ratio:  0.12\n"
     ]
    },
    {
     "name": "stderr",
     "output_type": "stream",
     "text": [
      "/Library/Frameworks/Python.framework/Versions/3.6/lib/python3.6/site-packages/scipy/stats/stats.py:245: RuntimeWarning: The input array could not be properly checked for nan values. nan values will be ignored.\n",
      "  \"values. nan values will be ignored.\", RuntimeWarning)\n"
     ]
    }
   ],
   "source": [
    "print('Коэффициент корреляции Спирмана между золотым стандартом и nltk bigrams с метрикой likelihood ratio: ', \n",
    "      \"%.2f\" % spearmanr(results['lr'], results['gold'])[0])"
   ]
  }
 ],
 "metadata": {
  "kernelspec": {
   "display_name": "Python 3.6",
   "language": "python",
   "name": "python3"
  },
  "language_info": {
   "codemirror_mode": {
    "name": "ipython",
    "version": 3
   },
   "file_extension": ".py",
   "mimetype": "text/x-python",
   "name": "python",
   "nbconvert_exporter": "python",
   "pygments_lexer": "ipython3",
   "version": "3.6.3"
  }
 },
 "nbformat": 4,
 "nbformat_minor": 2
}
