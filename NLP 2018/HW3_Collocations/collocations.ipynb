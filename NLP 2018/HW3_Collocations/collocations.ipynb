{
 "cells": [
  {
   "cell_type": "code",
   "execution_count": 249,
   "metadata": {},
   "outputs": [],
   "source": [
    "import nltk\n",
    "from nltk.collocations import *\n",
    "from scipy.stats import spearmanr\n",
    "from nltk.tokenize import sent_tokenize, word_tokenize\n",
    "from gensim.models.phrases import Phraser, Phrases\n",
    "import pandas as pd\n",
    "import re"
   ]
  },
  {
   "cell_type": "code",
   "execution_count": 8,
   "metadata": {},
   "outputs": [
    {
     "data": {
      "text/html": [
       "<div>\n",
       "<style scoped>\n",
       "    .dataframe tbody tr th:only-of-type {\n",
       "        vertical-align: middle;\n",
       "    }\n",
       "\n",
       "    .dataframe tbody tr th {\n",
       "        vertical-align: top;\n",
       "    }\n",
       "\n",
       "    .dataframe thead th {\n",
       "        text-align: right;\n",
       "    }\n",
       "</style>\n",
       "<table border=\"1\" class=\"dataframe\">\n",
       "  <thead>\n",
       "    <tr style=\"text-align: right;\">\n",
       "      <th></th>\n",
       "      <th>0</th>\n",
       "      <th>1</th>\n",
       "      <th>2</th>\n",
       "      <th>3</th>\n",
       "      <th>4</th>\n",
       "    </tr>\n",
       "  </thead>\n",
       "  <tbody>\n",
       "    <tr>\n",
       "      <th>0</th>\n",
       "      <td>СУД</td>\n",
       "      <td>АРЕСТОВАТЬ</td>\n",
       "      <td>ПОДПОЛКОВНИК</td>\n",
       "      <td>ЗАМНАЧАЛЬНИК</td>\n",
       "      <td>ОТДЕЛ</td>\n",
       "    </tr>\n",
       "    <tr>\n",
       "      <th>1</th>\n",
       "      <td>СУД</td>\n",
       "      <td>ВЕСТИ</td>\n",
       "      <td>ПЕРЕГОВОРЫ</td>\n",
       "      <td>ПОСТАВКА</td>\n",
       "      <td>БУДУЩИЙ</td>\n",
       "    </tr>\n",
       "    <tr>\n",
       "      <th>2</th>\n",
       "      <td>СУД</td>\n",
       "      <td>ВЗЯТЬ</td>\n",
       "      <td>РЕАЛИЗАЦИЯ</td>\n",
       "      <td>ЗАКОН</td>\n",
       "      <td>ОБЯЗАТЕЛЬНЫЙ</td>\n",
       "    </tr>\n",
       "    <tr>\n",
       "      <th>3</th>\n",
       "      <td>СУД</td>\n",
       "      <td>ВЫКУПИТЬ</td>\n",
       "      <td>ГОСУДАРСТВО</td>\n",
       "      <td>АКЦИЯ</td>\n",
       "      <td>РАНЕЕ</td>\n",
       "    </tr>\n",
       "    <tr>\n",
       "      <th>4</th>\n",
       "      <td>СУД</td>\n",
       "      <td>ГОВОРИТЬ</td>\n",
       "      <td>ПРЕСС-СЕКРЕТАРЬ</td>\n",
       "      <td>ЕВГЕНИЙ</td>\n",
       "      <td>ВРЕМЕНИТЬ</td>\n",
       "    </tr>\n",
       "  </tbody>\n",
       "</table>\n",
       "</div>"
      ],
      "text/plain": [
       "      0             1                 2              3              4\n",
       "0  СУД    АРЕСТОВАТЬ      ПОДПОЛКОВНИК   ЗАМНАЧАЛЬНИК          ОТДЕЛ \n",
       "1  СУД         ВЕСТИ        ПЕРЕГОВОРЫ       ПОСТАВКА        БУДУЩИЙ \n",
       "2  СУД         ВЗЯТЬ        РЕАЛИЗАЦИЯ          ЗАКОН   ОБЯЗАТЕЛЬНЫЙ \n",
       "3  СУД      ВЫКУПИТЬ       ГОСУДАРСТВО          АКЦИЯ          РАНЕЕ \n",
       "4  СУД      ГОВОРИТЬ   ПРЕСС-СЕКРЕТАРЬ        ЕВГЕНИЙ       ВРЕМЕНИТЬ"
      ]
     },
     "execution_count": 8,
     "metadata": {},
     "output_type": "execute_result"
    }
   ],
   "source": [
    "data = pd.read_csv('court-V-N.csv', header=None)\n",
    "data.head()"
   ]
  },
  {
   "cell_type": "code",
   "execution_count": 29,
   "metadata": {},
   "outputs": [],
   "source": [
    "rows = list(map(list, data.values))\n",
    "tokens = [j for i in rows for j in i]"
   ]
  },
  {
   "cell_type": "code",
   "execution_count": 123,
   "metadata": {},
   "outputs": [
    {
     "name": "stdout",
     "output_type": "stream",
     "text": [
      "1020 предложений ; 5100 слов\n"
     ]
    }
   ],
   "source": [
    "print(len(rows), 'предложений', ';', len(tokens), 'слов')"
   ]
  },
  {
   "cell_type": "markdown",
   "metadata": {},
   "source": [
    "Выделим наиболее типичные для суда действия, применив 2 различных метода (оба являются вариациями алгоритма nltk bigrams, выбирают только те коллокации, которые встречаются больше 10 раз, но используют различные метрики):"
   ]
  },
  {
   "cell_type": "markdown",
   "metadata": {},
   "source": [
    "#### NLTK Bigrams with PMI and Likelihood metrics"
   ]
  },
  {
   "cell_type": "code",
   "execution_count": 132,
   "metadata": {},
   "outputs": [],
   "source": [
    "def freq_bigrams(tokens, metrics, nbest='all', freq_filter=0):\n",
    "    bigram_measures = nltk.collocations.BigramAssocMeasures()\n",
    "    metrics_={'pmi':bigram_measures.pmi, 'lr':bigram_measures.likelihood_ratio}\n",
    "    finder = BigramCollocationFinder.from_words(tokens)\n",
    "    finder.apply_freq_filter(freq_filter)\n",
    "    if nbest == 'all':\n",
    "        return finder.score_ngrams(metrics_[metrics])\n",
    "    nbest = finder.nbest(metrics_[metrics], nbest)\n",
    "    return nbest"
   ]
  },
  {
   "cell_type": "code",
   "execution_count": 242,
   "metadata": {},
   "outputs": [
    {
     "data": {
      "text/plain": [
       "['выдать санкция',\n",
       " 'наложить арест',\n",
       " 'санкция арест',\n",
       " 'удовлетворить ходатайство',\n",
       " 'признать виновная',\n",
       " 'принять решение',\n",
       " 'удовлетворить иск',\n",
       " 'вынести решение',\n",
       " 'суд рассмотреть',\n",
       " 'суд дать']"
      ]
     },
     "execution_count": 242,
     "metadata": {},
     "output_type": "execute_result"
    }
   ],
   "source": [
    "bigrams_pmi = freq_bigrams(tokens, 'pmi', freq_filter=10)\n",
    "bigrams_pmi = [''.join(i[0]).lower().strip() for i in bigrams_pmi]\n",
    "bigrams_pmi[:10]"
   ]
  },
  {
   "cell_type": "code",
   "execution_count": 243,
   "metadata": {},
   "outputs": [
    {
     "data": {
      "text/plain": [
       "['суд суд',\n",
       " 'суд признать',\n",
       " 'выдать санкция',\n",
       " 'суд удовлетворить',\n",
       " 'удовлетворить иск',\n",
       " 'удовлетворить ходатайство',\n",
       " 'принять решение',\n",
       " 'санкция арест',\n",
       " 'наложить арест',\n",
       " 'суд вынести']"
      ]
     },
     "execution_count": 243,
     "metadata": {},
     "output_type": "execute_result"
    }
   ],
   "source": [
    "bigrams_lr = freq_bigrams(tokens, 'lr', freq_filter=10)\n",
    "bigrams_lr = [''.join(i[0]).lower().strip() for i in bigrams_lr]\n",
    "bigrams_lr[:10]"
   ]
  },
  {
   "cell_type": "code",
   "execution_count": 108,
   "metadata": {},
   "outputs": [],
   "source": [
    "import csv\n",
    "for i, l in enumerate([bigrams_pmi, bigrams_lr]):\n",
    "    with open(\"bigrams_{}.csv\".format(['pmi', 'lr'][i]),'w') as resultFile:\n",
    "        wr = csv.writer(resultFile, dialect='excel')\n",
    "        wr.writerows(l)"
   ]
  },
  {
   "cell_type": "markdown",
   "metadata": {},
   "source": [
    "Пользуясь словарями, интуицией и т.п. составить золотой стандарт – ранжированный топ 10 коллокаций."
   ]
  },
  {
   "cell_type": "code",
   "execution_count": 139,
   "metadata": {},
   "outputs": [],
   "source": [
    "golden_standard = pd.read_csv('gold_standard.csv', header=None)"
   ]
  },
  {
   "cell_type": "markdown",
   "metadata": {},
   "source": [
    "Сравним топ-10 коллокаций в каждом из списков:"
   ]
  },
  {
   "cell_type": "code",
   "execution_count": 140,
   "metadata": {},
   "outputs": [
    {
     "data": {
      "text/html": [
       "<div>\n",
       "<style scoped>\n",
       "    .dataframe tbody tr th:only-of-type {\n",
       "        vertical-align: middle;\n",
       "    }\n",
       "\n",
       "    .dataframe tbody tr th {\n",
       "        vertical-align: top;\n",
       "    }\n",
       "\n",
       "    .dataframe thead th {\n",
       "        text-align: right;\n",
       "    }\n",
       "</style>\n",
       "<table border=\"1\" class=\"dataframe\">\n",
       "  <thead>\n",
       "    <tr style=\"text-align: right;\">\n",
       "      <th></th>\n",
       "      <th>pmi</th>\n",
       "      <th>lr</th>\n",
       "      <th>golden</th>\n",
       "    </tr>\n",
       "  </thead>\n",
       "  <tbody>\n",
       "    <tr>\n",
       "      <th>0</th>\n",
       "      <td>выдать санкция</td>\n",
       "      <td>суд суд</td>\n",
       "      <td>признать виновная</td>\n",
       "    </tr>\n",
       "    <tr>\n",
       "      <th>1</th>\n",
       "      <td>наложить арест</td>\n",
       "      <td>суд признать</td>\n",
       "      <td>вынести приговор</td>\n",
       "    </tr>\n",
       "    <tr>\n",
       "      <th>2</th>\n",
       "      <td>санкция арест</td>\n",
       "      <td>выдать санкция</td>\n",
       "      <td>взять перерыв</td>\n",
       "    </tr>\n",
       "    <tr>\n",
       "      <th>3</th>\n",
       "      <td>удовлетворить ходатайство</td>\n",
       "      <td>суд удовлетворить</td>\n",
       "      <td>выслушать защита</td>\n",
       "    </tr>\n",
       "    <tr>\n",
       "      <th>4</th>\n",
       "      <td>признать виновная</td>\n",
       "      <td>удовлетворить иск</td>\n",
       "      <td>вызвать свидетель</td>\n",
       "    </tr>\n",
       "    <tr>\n",
       "      <th>5</th>\n",
       "      <td>принять решение</td>\n",
       "      <td>удовлетворить ходатайство</td>\n",
       "      <td>принять решение</td>\n",
       "    </tr>\n",
       "    <tr>\n",
       "      <th>6</th>\n",
       "      <td>удовлетворить иск</td>\n",
       "      <td>принять решение</td>\n",
       "      <td>назначить наказание</td>\n",
       "    </tr>\n",
       "    <tr>\n",
       "      <th>7</th>\n",
       "      <td>вынести решение</td>\n",
       "      <td>санкция арест</td>\n",
       "      <td>вести переговоры</td>\n",
       "    </tr>\n",
       "    <tr>\n",
       "      <th>8</th>\n",
       "      <td>суд рассмотреть</td>\n",
       "      <td>наложить арест</td>\n",
       "      <td>освободить залог</td>\n",
       "    </tr>\n",
       "    <tr>\n",
       "      <th>9</th>\n",
       "      <td>суд дать</td>\n",
       "      <td>суд вынести</td>\n",
       "      <td>удовлетворить ходатайство</td>\n",
       "    </tr>\n",
       "  </tbody>\n",
       "</table>\n",
       "</div>"
      ],
      "text/plain": [
       "                         pmi                         lr  \\\n",
       "0             выдать санкция                    суд суд   \n",
       "1             наложить арест               суд признать   \n",
       "2              санкция арест             выдать санкция   \n",
       "3  удовлетворить ходатайство          суд удовлетворить   \n",
       "4          признать виновная          удовлетворить иск   \n",
       "5            принять решение  удовлетворить ходатайство   \n",
       "6          удовлетворить иск            принять решение   \n",
       "7            вынести решение              санкция арест   \n",
       "8            суд рассмотреть             наложить арест   \n",
       "9                   суд дать                суд вынести   \n",
       "\n",
       "                      golden  \n",
       "0          признать виновная  \n",
       "1           вынести приговор  \n",
       "2              взять перерыв  \n",
       "3           выслушать защита  \n",
       "4          вызвать свидетель  \n",
       "5            принять решение  \n",
       "6        назначить наказание  \n",
       "7           вести переговоры  \n",
       "8           освободить залог  \n",
       "9  удовлетворить ходатайство  "
      ]
     },
     "execution_count": 140,
     "metadata": {},
     "output_type": "execute_result"
    }
   ],
   "source": [
    "results = pd.concat([pd.Series(bigrams_pmi[:10]), pd.Series(bigrams_lr[:10]), golden_standard], axis=1)\n",
    "results.columns = ['pmi', 'lr', 'golden']\n",
    "results"
   ]
  },
  {
   "cell_type": "code",
   "execution_count": 273,
   "metadata": {},
   "outputs": [],
   "source": [
    "bigrams_pmi_all = freq_bigrams(tokens, 'pmi', freq_filter=0)\n",
    "for i in range(len(bigrams_pmi_all)):\n",
    "    bigrams_pmi_all[i] = ((bigrams_pmi_all[i][0][0].lower().strip(), bigrams_pmi_all[i][0][1].lower().strip()), \n",
    "                          bigrams_pmi_all[i][1])\n",
    "bigrams_pmi_all_ranks = {bi[0]:i+1 for i, bi in enumerate(bigrams_pmi_all)}"
   ]
  },
  {
   "cell_type": "code",
   "execution_count": 275,
   "metadata": {},
   "outputs": [],
   "source": [
    "bigrams_lr_all = freq_bigrams(tokens, 'lr', freq_filter=0)\n",
    "for i in range(len(bigrams_lr_all)):\n",
    "    bigrams_lr_all[i] = ((bigrams_lr_all[i][0][0].lower().strip(), bigrams_lr_all[i][0][1].lower().strip()), \n",
    "                          bigrams_lr_all[i][1])\n",
    "bigrams_lr_all_ranks = {bi[0]:i+1 for i, bi in enumerate(bigrams_lr_all)}"
   ]
  },
  {
   "cell_type": "code",
   "execution_count": 253,
   "metadata": {},
   "outputs": [],
   "source": [
    "golden_dict = [(i.split()[0], i.split()[1]) for i in results['golden']]"
   ]
  },
  {
   "cell_type": "code",
   "execution_count": 277,
   "metadata": {},
   "outputs": [
    {
     "name": "stdout",
     "output_type": "stream",
     "text": [
      "gold range(1, 11)\n",
      "lr [14, 88, 118, 1592, 1479, 7, 2029, 305, 13, 6]\n",
      "pmi [1967, 1982, 636, 1250, 1043, 1980, 1796, 5, 926, 1928]\n"
     ]
    }
   ],
   "source": [
    "ranks_golden = range(1, 11)\n",
    "ranks_lr = [bigrams_lr_all_ranks[i] for i in golden_dict]\n",
    "ranks_pmi = [bigrams_pmi_all_ranks[i] for i in golden_dict]\n",
    "print('gold', ranks_golden)\n",
    "print('lr', ranks_lr)\n",
    "print('pmi', ranks_pmi)"
   ]
  },
  {
   "cell_type": "code",
   "execution_count": 281,
   "metadata": {},
   "outputs": [
    {
     "name": "stdout",
     "output_type": "stream",
     "text": [
      "Spearman(lr, prmi)\n",
      "SpearmanrResult(correlation=-0.3696969696969697, pvalue=0.2930500752928223) \n",
      "\n",
      "Spearman(lr, golden)\n",
      "SpearmanrResult(correlation=-0.23636363636363633, pvalue=0.5108853175152002) \n",
      "\n",
      "Spearman(pmi, golden)\n",
      "SpearmanrResult(correlation=-0.33333333333333326, pvalue=0.34659350708733405)\n"
     ]
    }
   ],
   "source": [
    "print('Spearman(lr, prmi)')\n",
    "print(spearmanr(ranks_lr, ranks_pmi), '\\n')\n",
    "print('Spearman(lr, golden)')\n",
    "print(spearmanr(ranks_lr,ranks_golden), '\\n')\n",
    "print('Spearman(pmi, golden)')\n",
    "print(spearmanr(ranks_pmi, ranks_golden))"
   ]
  },
  {
   "cell_type": "markdown",
   "metadata": {},
   "source": [
    "Во всех трех попарных корреляциях наблюдается невысокая обратная зависимость ранга, о чем говорит небольшие мо модулю \n",
    "отрицательные коэффициенты. Чем выше ранг в списке коллокаций из алгоритма nltk, тем ниже ранг в ЗС (хотя на 10 объектах говорить о каких-то корреляциях, конечно, нет особо смысла...)."
   ]
  },
  {
   "cell_type": "code",
   "execution_count": null,
   "metadata": {},
   "outputs": [],
   "source": []
  }
 ],
 "metadata": {
  "kernelspec": {
   "display_name": "Python 3.6",
   "language": "python",
   "name": "python3"
  },
  "language_info": {
   "codemirror_mode": {
    "name": "ipython",
    "version": 3
   },
   "file_extension": ".py",
   "mimetype": "text/x-python",
   "name": "python",
   "nbconvert_exporter": "python",
   "pygments_lexer": "ipython3",
   "version": "3.6.3"
  }
 },
 "nbformat": 4,
 "nbformat_minor": 2
}
