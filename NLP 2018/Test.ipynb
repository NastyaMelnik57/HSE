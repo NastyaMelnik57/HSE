{
 "cells": [
  {
   "cell_type": "markdown",
   "metadata": {},
   "source": [
    "### Контрольная работа 2."
   ]
  },
  {
   "cell_type": "markdown",
   "metadata": {},
   "source": [
    "#### Задание 1."
   ]
  },
  {
   "cell_type": "code",
   "execution_count": 24,
   "metadata": {},
   "outputs": [],
   "source": [
    "s1 = 'Словно мы жители королевства, в котором спрятали все острые предметы.'\n",
    "s2 = 'С помощью трафарета вырежьте очень острым ножом ёлочки.'\n",
    "s3 = 'Если соус будет недостаточно острым, то можно добавить перец.'\n",
    "s4 = 'Мексиканцы лучшим лекарством от похмелья считают густой острый соус.'"
   ]
  },
  {
   "cell_type": "code",
   "execution_count": 25,
   "metadata": {},
   "outputs": [],
   "source": [
    "# from https://en.wikibooks.org/wiki/Algorithm_Implementation/Strings/Dice%27s_coefficient#Python\n",
    "\n",
    "def dice_coefficient(a, b):\n",
    "    \"\"\"dice coefficient 2nt/na + nb.\"\"\"\n",
    "    a_bigrams = set(a)\n",
    "    b_bigrams = set(b)\n",
    "    overlap = len(a_bigrams & b_bigrams)\n",
    "    return overlap * 2.0/(len(a_bigrams) + len(b_bigrams))"
   ]
  },
  {
   "cell_type": "code",
   "execution_count": 1,
   "metadata": {},
   "outputs": [],
   "source": [
    "s1 = ['словно', 'мы', 'житель', 'королевство', 'в', 'который', 'спрятать', 'весь', 'острый', 'предмет']\n",
    "s4 = ['Мексиканец', 'лучший', 'лекарство', 'от', 'похмелье', 'считать', 'густой', 'острый', 'соус']"
   ]
  },
  {
   "cell_type": "code",
   "execution_count": null,
   "metadata": {},
   "outputs": [],
   "source": []
  },
  {
   "cell_type": "markdown",
   "metadata": {},
   "source": [
    "#### Задание 2."
   ]
  },
  {
   "cell_type": "code",
   "execution_count": 1,
   "metadata": {},
   "outputs": [],
   "source": [
    "from nltk.corpus import wordnet"
   ]
  },
  {
   "cell_type": "code",
   "execution_count": 3,
   "metadata": {},
   "outputs": [
    {
     "name": "stdout",
     "output_type": "stream",
     "text": [
      "Synset('bass.n.01') the lowest part of the musical range\n",
      "Synset('bass.n.02') the lowest part in polyphonic music\n",
      "Synset('bass.n.03') an adult male singer with the lowest voice\n",
      "Synset('sea_bass.n.01') the lean flesh of a saltwater fish of the family Serranidae\n",
      "Synset('freshwater_bass.n.01') any of various North American freshwater fish with lean flesh (especially of the genus Micropterus)\n",
      "Synset('bass.n.06') the lowest adult male singing voice\n",
      "Synset('bass.n.07') the member with the lowest range of a family of musical instruments\n",
      "Synset('bass.n.08') nontechnical name for any of numerous edible marine and freshwater spiny-finned fishes\n",
      "Synset('bass.s.01') having or denoting a low vocal or instrumental range\n"
     ]
    }
   ],
   "source": [
    "bass = wordnet.synsets('bass')\n",
    "for ss in bass:\n",
    "    print(ss, ss.definition())"
   ]
  },
  {
   "cell_type": "code",
   "execution_count": 5,
   "metadata": {},
   "outputs": [
    {
     "name": "stdout",
     "output_type": "stream",
     "text": [
      "Synset('sea_bass.n.01') the lean flesh of a saltwater fish of the family Serranidae\n"
     ]
    }
   ],
   "source": [
    "print(bass[3], bass[3].definition())"
   ]
  },
  {
   "cell_type": "code",
   "execution_count": 6,
   "metadata": {},
   "outputs": [
    {
     "name": "stdout",
     "output_type": "stream",
     "text": [
      "Synset('saltwater_fish.n.01') flesh of fish from the sea used as food\n",
      "Synset('saltwater_fish.n.01') flesh of fish from the sea used as food\n"
     ]
    }
   ],
   "source": [
    "for ss in bass[3].hypernyms():\n",
    "    print(ss, ss.definition())\n",
    "for ss in bass[3].hypernyms():\n",
    "    print(ss, ss.definition())"
   ]
  },
  {
   "cell_type": "code",
   "execution_count": 7,
   "metadata": {},
   "outputs": [],
   "source": [
    "bass = wordnet.synsets('bass')\n",
    "fish = wordnet.synsets('fish')\n",
    "vertebrate  = wordnet.synsets('vertebrate')"
   ]
  },
  {
   "cell_type": "code",
   "execution_count": 13,
   "metadata": {},
   "outputs": [
    {
     "data": {
      "text/plain": [
       "[Synset('vertebrate.n.01'), Synset('vertebrate.a.01')]"
      ]
     },
     "execution_count": 13,
     "metadata": {},
     "output_type": "execute_result"
    }
   ],
   "source": [
    "vertebrate"
   ]
  },
  {
   "cell_type": "code",
   "execution_count": 8,
   "metadata": {},
   "outputs": [],
   "source": [
    "from nltk.corpus import wordnet_ic\n",
    "ic = wordnet_ic.ic('ic-brown.dat')"
   ]
  },
  {
   "cell_type": "code",
   "execution_count": 23,
   "metadata": {},
   "outputs": [
    {
     "name": "stdout",
     "output_type": "stream",
     "text": [
      "min d(bass, fish): 4\n",
      "min d(fish, vertebrate): 2\n"
     ]
    }
   ],
   "source": [
    "def get_dist_sim(lexeme1, lexeme2):\n",
    "    distances = []\n",
    "    similarities = []\n",
    "    for ss1 in lexeme1:\n",
    "        for ss2 in lexeme2:\n",
    "            dist = ss1.shortest_path_distance(ss2)\n",
    "            if dist is not None:\n",
    "                distances.append(dist)\n",
    "#                print(dist, ss1, ss2)\n",
    "                sim = ss1.path_similarity(ss2)\n",
    "                similarities.append(sim)\n",
    "    return distances, similarities\n",
    "\n",
    "# min d(bass, fish)\n",
    "dist1 = get_dist_sim(bass, fish)[0]\n",
    "print('min d(bass, fish): {}'.format(min(dist1)))\n",
    "# min d(fish, vertebrate)\n",
    "dist2 = get_dist_sim(fish, vertebrate)[0]\n",
    "print('min d(fish, vertebrate): {}'.format(min(dist2)))"
   ]
  },
  {
   "cell_type": "markdown",
   "metadata": {},
   "source": [
    "Минимальное расстояние между bass и fish достигается при значениях bass \"рыба\" и больше, чем между fish и vertebrate. Это не соответствует моим ожиданиям: кажется, что вид рыбы связан с рыбой теснее, чем рыба и вид животных (поскольку это более широкое отношение)."
   ]
  },
  {
   "cell_type": "markdown",
   "metadata": {},
   "source": [
    "#### Задание 3"
   ]
  },
  {
   "cell_type": "code",
   "execution_count": 35,
   "metadata": {},
   "outputs": [],
   "source": [
    "import sys\n",
    "import gensim, logging\n",
    "from gensim.models import KeyedVectors \n",
    "vectors = KeyedVectors.load_word2vec_format('ruscorpora_mean_hs.model.bin', binary=True)"
   ]
  },
  {
   "cell_type": "code",
   "execution_count": 54,
   "metadata": {},
   "outputs": [],
   "source": [
    "# слова привести нет!!!\n",
    "word = 'приводить_V'"
   ]
  },
  {
   "cell_type": "code",
   "execution_count": 53,
   "metadata": {},
   "outputs": [
    {
     "name": "stdout",
     "output_type": "stream",
     "text": [
      "приводить_V\n",
      "приводиться_V 0.5960323810577393\n",
      "повлечь_V 0.5241738557815552\n",
      "последовать_V 0.5113582611083984\n",
      "сопровождаться_V 0.5028161406517029\n",
      "вызывать_V 0.5005214214324951\n"
     ]
    }
   ],
   "source": [
    "if word in vectors:\n",
    "    print(word)\n",
    "else:\n",
    "    print('Слова {} нет в модели'.format(word))\n",
    "for i in vectors.most_similar(positive=[word], topn=5):\n",
    "    print(i[0], i[1])"
   ]
  },
  {
   "cell_type": "markdown",
   "metadata": {},
   "source": [
    "В синсетах в Ворднете\n",
    "в первом значении выдаются глаголы \"обосновать\" и \"аргументировать\", во втором \"выводить\", \"доводить\", в третьем \"повлечь\".\n",
    "Процент пересечения - 20%.\n",
    "\n",
    "На мой взгляд, глаголы из синестов Ворднета более широко охватывают возможные значения глагола \"приводить\" и тем самым в сумме ближе к нему."
   ]
  },
  {
   "cell_type": "code",
   "execution_count": null,
   "metadata": {},
   "outputs": [],
   "source": []
  }
 ],
 "metadata": {
  "kernelspec": {
   "display_name": "Python 3.6",
   "language": "python",
   "name": "python3"
  },
  "language_info": {
   "codemirror_mode": {
    "name": "ipython",
    "version": 3
   },
   "file_extension": ".py",
   "mimetype": "text/x-python",
   "name": "python",
   "nbconvert_exporter": "python",
   "pygments_lexer": "ipython3",
   "version": "3.6.3"
  }
 },
 "nbformat": 4,
 "nbformat_minor": 2
}
