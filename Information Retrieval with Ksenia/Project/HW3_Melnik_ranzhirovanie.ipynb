{
 "cells": [
  {
   "cell_type": "code",
   "execution_count": null,
   "metadata": {
    "collapsed": true
   },
   "outputs": [],
   "source": [
    "Добавить в index_reverse статистики, чтобы быстрее работало."
   ]
  },
  {
   "cell_type": "code",
   "execution_count": 8,
   "metadata": {
    "collapsed": true
   },
   "outputs": [],
   "source": [
    "import re\n",
    "import nltk\n",
    "from nltk.tokenize import word_tokenize\n",
    "import string\n",
    "import pymorphy2\n",
    "import stop_words\n",
    "from stop_words import get_stop_words\n",
    "from IPython.display import HTML, display\n",
    "import numpy as np\n",
    "import pickle"
   ]
  },
  {
   "cell_type": "code",
   "execution_count": null,
   "metadata": {
    "collapsed": true
   },
   "outputs": [],
   "source": []
  },
  {
   "cell_type": "code",
   "execution_count": 2,
   "metadata": {
    "collapsed": true
   },
   "outputs": [],
   "source": [
    "def list_of_news():\n",
    "    collection = [()]*1000\n",
    "    for i in range(0, 1000):\n",
    "        f = open('News_corpus/article{}.txt'.format(i), encoding='utf8')\n",
    "        f1 = f.read()\n",
    "        f.close()\n",
    "        link_text = re.findall('@url (.+?)\\n(.+)', f1)\n",
    "        title = re.findall('@ti (.+?)\\n', f1)[0]\n",
    "        if link_text != []:\n",
    "            text = link_text[0][1]\n",
    "            text = re.sub('&.+?;', '', text)\n",
    "            link = link_text[0][0]\n",
    "        collection[i] = (link, text, title)\n",
    "    return collection"
   ]
  },
  {
   "cell_type": "code",
   "execution_count": 3,
   "metadata": {
    "collapsed": true
   },
   "outputs": [],
   "source": [
    "collection_strings = list_of_news()"
   ]
  },
  {
   "cell_type": "code",
   "execution_count": 51,
   "metadata": {
    "collapsed": true
   },
   "outputs": [],
   "source": [
    "with open('collection_with_data.pickle', 'wb') as f:\n",
    "    pickle.dump(collection_strings, f)"
   ]
  },
  {
   "cell_type": "code",
   "execution_count": 4,
   "metadata": {
    "collapsed": true
   },
   "outputs": [
    {
     "data": {
      "text/plain": [
       "[('http://inmozhaisk.ru/novosti/obschestvo/goryachaya-liniya-po-voprosam-osennego-prizyva-proydyot-v-mozhayskom-rayone-17-oktyabrya',\n",
       "  '17 октября с 10.00 до 11.00 военный комиссар городов Можайск и Руза, Можайского и Рузского районов Московской области проведёт Горячую линию для жителей Можайского и Рузского муниципальных районов по вопросам осеннего призыва граждан на военную службу.На все интересующие вопросы по осеннему призыву вам ответит военный комиссар городов Можайск и Руза, Можайского и Рузского районов Московской области Меладзе Руслан Бесхведович и другие должностные лица военного комиссариата по тел.: 8 (49638) 20-990.',\n",
       "  '«Горячая линия» по вопросам осеннего призыва пройдёт в Можайском районе 17 октября'),\n",
       " ('http://inmozhaisk.ru/novosti/obschestvo/mozhayskie-pozharnye-i-spasateli-otmetili-10-letie-so-dnya-obrazovaniya-gku-mo-mosoblpozhspas',\n",
       "  'Поздравить спасателей Можайского муниципального района и Рузского городского округа пришли главы городских и сельских поселений, представители Московской областной думы и будущие коллеги, которые только делают первые шаги в этой сфере - студенты Можайского техникума. Сотрудники Мособлпожспас были удостоены наград и слов благодарности за мужество и самоотверженность.',\n",
       "  'Можайские пожарные и спасатели отметили 10-летие со дня образования ГКУ МО «Мособлпожспас»'),\n",
       " ('http://inmozhaisk.ru/novosti/obschestvo/mozhayskie-pozharnye-i-spasateli-otmetili-10-letie-so-dnya-obrazovaniya-gku-mo-mosoblpozhspas',\n",
       "  'Поздравить спасателей Можайского муниципального района и Рузского городского округа пришли главы городских и сельских поселений, представители Московской областной думы и будущие коллеги, которые только делают первые шаги в этой сфере - студенты Можайского техникума. Сотрудники Мособлпожспас были удостоены наград и слов благодарности за мужество и самоотверженность.',\n",
       "  'Можайский ансамбль «Сударушка-style» принял участие в съемках легендарной передачи «Поле чудес»')]"
      ]
     },
     "execution_count": 4,
     "metadata": {},
     "output_type": "execute_result"
    }
   ],
   "source": [
    "collection_strings[:3]"
   ]
  },
  {
   "cell_type": "code",
   "execution_count": 5,
   "metadata": {
    "collapsed": true
   },
   "outputs": [],
   "source": [
    "def delete_stop_words(s, lng):\n",
    "    stop_words = get_stop_words(lng)\n",
    "    s -= set(stop_words)\n",
    "    return s\n",
    "\n",
    "morph = pymorphy2.MorphAnalyzer()\n",
    "def preprocessing(text):\n",
    "    text = ''.join([i for i in text if i not in set(string.punctuation)])\n",
    "    text = text.lower()\n",
    "    words = word_tokenize(text)\n",
    "    lemmas = set()\n",
    "    for word in words:\n",
    "        lemmas.add(morph.parse(word)[0].normal_form)\n",
    "    lemmas_new = delete_stop_words(lemmas, 'ru')\n",
    "    return lemmas_new"
   ]
  },
  {
   "cell_type": "code",
   "execution_count": 6,
   "metadata": {
    "collapsed": true
   },
   "outputs": [],
   "source": [
    "collection = []\n",
    "for triple in collection_strings:\n",
    "    collection.append(preprocessing(triple[1]))"
   ]
  },
  {
   "cell_type": "code",
   "execution_count": 9,
   "metadata": {
    "collapsed": true
   },
   "outputs": [],
   "source": [
    "with open('collection.pickle', 'wb') as f:\n",
    "    pickle.dump(collection, f)"
   ]
  },
  {
   "cell_type": "code",
   "execution_count": 10,
   "metadata": {
    "collapsed": true
   },
   "outputs": [
    {
     "data": {
      "text/plain": [
       "{'17',\n",
       " '2000',\n",
       " '500',\n",
       " '540',\n",
       " 'английский',\n",
       " 'благодарственный',\n",
       " 'владеть',\n",
       " 'воспитание',\n",
       " 'вручить',\n",
       " 'выигрывать',\n",
       " 'высокий',\n",
       " 'глава',\n",
       " 'город',\n",
       " 'городашкола',\n",
       " 'грамота',\n",
       " 'гусев',\n",
       " 'дать',\n",
       " 'детейсейчас',\n",
       " 'деятельность',\n",
       " 'директор',\n",
       " 'заведение',\n",
       " 'иностранный',\n",
       " 'культура',\n",
       " 'министерство',\n",
       " 'многие',\n",
       " 'многий',\n",
       " 'можаец',\n",
       " 'москва',\n",
       " 'наградить',\n",
       " 'наталья',\n",
       " 'немецкий',\n",
       " 'номинация',\n",
       " 'обучаться',\n",
       " 'обучение',\n",
       " 'окончить',\n",
       " 'олимп',\n",
       " 'открытый',\n",
       " 'отлично',\n",
       " 'отличный',\n",
       " 'письмо',\n",
       " 'подмосковье',\n",
       " 'преподавательский',\n",
       " 'произношение',\n",
       " 'профессионализм',\n",
       " 'прошедшее',\n",
       " 'путёвка',\n",
       " 'работа',\n",
       " 'родственный',\n",
       " 'среди',\n",
       " 'учебный',\n",
       " 'ученик',\n",
       " 'французский',\n",
       " 'хороший',\n",
       " 'школа',\n",
       " 'язык'}"
      ]
     },
     "execution_count": 10,
     "metadata": {},
     "output_type": "execute_result"
    }
   ],
   "source": [
    "collection[10]"
   ]
  },
  {
   "cell_type": "code",
   "execution_count": 22,
   "metadata": {
    "collapsed": true
   },
   "outputs": [],
   "source": [
    "def index_reverse(collection):\n",
    "    dic = {}\n",
    "    for i in range(0, len(collection)):\n",
    "        s = collection[i]\n",
    "        for j in s:\n",
    "            if j in dic:\n",
    "                dic[j].append(i)\n",
    "            else:\n",
    "                dic[j] = [i]\n",
    "    return dic"
   ]
  },
  {
   "cell_type": "code",
   "execution_count": 23,
   "metadata": {
    "collapsed": true
   },
   "outputs": [],
   "source": [
    "def average_len(D):\n",
    "    return np.mean([len(i) for i in D])"
   ]
  },
  {
   "cell_type": "code",
   "execution_count": 24,
   "metadata": {
    "collapsed": true
   },
   "outputs": [],
   "source": [
    "from math import log\n",
    "\n",
    "k1 = 1.2\n",
    "k2 = 100\n",
    "b = 0.75\n",
    "R = 0.0\n",
    "\n",
    "from math import log\n",
    "\n",
    "k1 = 2.0\n",
    "b = 0.75\n",
    "\n",
    "def score_BM25_i(n, fq, N, dl, avdl):\n",
    "    K = compute_K(dl, avdl)\n",
    "    IDF = log((N - n + 0.5) / (n + 0.5))\n",
    "    frac = ((k1 + 1) * fq) / (K + fq)\n",
    "    return IDF * frac\n",
    "\n",
    "\n",
    "def compute_K(dl, avdl):\n",
    "    return k1 * ((1-b) + b * (float(dl)/float(avdl)))\n",
    "\n",
    "def score_BM25(Q, D, D_j, i_reverse, avdl):\n",
    "    s = 0\n",
    "    for i in Q:\n",
    "        f = 0\n",
    "        if i in i_reverse:\n",
    "            f = len([j==i for j in D_j])\n",
    "            s += score_BM25_i(len(i_reverse[i]), f, len(D), len(D_j), average_len(collection))\n",
    "    return s"
   ]
  },
  {
   "cell_type": "code",
   "execution_count": 25,
   "metadata": {
    "collapsed": true
   },
   "outputs": [],
   "source": [
    "ir = index_reverse(collection)"
   ]
  },
  {
   "cell_type": "code",
   "execution_count": 44,
   "metadata": {
    "collapsed": true
   },
   "outputs": [],
   "source": [
    "with open('ir.pickle', 'wb') as f:\n",
    "    pickle.dump(ir, f)"
   ]
  },
  {
   "cell_type": "code",
   "execution_count": null,
   "metadata": {
    "collapsed": true
   },
   "outputs": [],
   "source": [
    "with open('collection.pickle', 'rb') as f:\n",
    "    D = pickle.load(f)\n",
    "\n",
    "with open('ir.pickle', 'rb') as f:\n",
    "    ir = pickle.load(f)\n",
    "\n",
    "with open('collection_with_data.pickle', 'rb') as f:\n",
    "    collection_with_data = pickle.load(f)"
   ]
  },
  {
   "cell_type": "code",
   "execution_count": 66,
   "metadata": {
    "collapsed": true
   },
   "outputs": [],
   "source": [
    "def search(Q):\n",
    "    if type(Q) != str:\n",
    "        raise BaseException('Request must be str type')\n",
    "    if re.compile(\"\\w+( \\w+)*\").match(Q).span() != (0, len(Q)):\n",
    "        raise BaseException('Input words seperated by spaces')\n",
    "    \n",
    "    Q = Q.lower()\n",
    "    Q_words = word_tokenize(Q)\n",
    "    morph = pymorphy2.MorphAnalyzer()\n",
    "    Q_lemmas = set()\n",
    "    for word in Q_words:\n",
    "        Q_lemmas.add(morph.parse(word)[0].normal_form)\n",
    "    Q_lemmas = delete_stop_words(Q_lemmas, 'ru')\n",
    "        \n",
    "    good_Ds = []\n",
    "    for lemma in Q_lemmas:\n",
    "        if lemma in ir:\n",
    "            good_Ds += ir[lemma]\n",
    "    good_Ds = set(good_Ds)\n",
    "#    print(len(good_Ds))\n",
    "#    print(good_Ds)\n",
    "    scores = {}\n",
    "    for i in good_Ds:\n",
    "        d = collection[i]\n",
    "        link = collection_with_data[i][0]\n",
    "        head = collection_with_data[i][2]\n",
    "#        print(d)\n",
    "        scores[(link, head)] = score_BM25(Q_lemmas, D, d, ir, average_len(D))\n",
    "#    sorted_answer = sorted(scores, key=scores.get)\n",
    "#    for i in sorted_answer[::-1]:\n",
    "#        link = 'http://google.ru/' + '<a href=\"' + collection_strings[i][0] + '\">' + collection_strings[i][2] + '</a>'\n",
    "#        link = '{} — {} — {}'.format(i, collection_strings[i][0], scores[i])\n",
    "#        display(HTML(str(link)))\n",
    "    return sorted(scores, key=scores.get, reverse=True)[:10]"
   ]
  },
  {
   "cell_type": "code",
   "execution_count": 67,
   "metadata": {},
   "outputs": [
    {
     "data": {
      "text/plain": [
       "[('http://inmozhaisk.ru/novosti/guberniya/gubernator-podmoskovya-andrey-vorobev-rasskazal-ob-itogah-aprelya-v-pryamom-efire-telekanala-360deg-podmoskove',\n",
       "  'Губернатор Подмосковья Андрей Воробьев рассказал об итогах апреля в прямом эфире телеканала «360° Подмосковье»'),\n",
       " ('http://inmozhaisk.ru/novosti/guberniya/gubernator-podmoskovya-andrey-vorobev-rasskazal-ob-itogah-aprelya-v-pryamom-efire-telekanala-360deg-podmoskove',\n",
       "  'В Можайском районе формируется &quot;Бессмертный полк&quot;'),\n",
       " ('http://inmozhaisk.ru/novosti/guberniya/gubernator-podmoskovya-andrey-vorobev-rasskazal-ob-itogah-aprelya-v-pryamom-efire-telekanala-360deg-podmoskove',\n",
       "  'Всероссийские акции &quot;Фронтовой хлеб&quot; и &quot;Георгиевская ленточка&quot; состоятся в Можайске'),\n",
       " ('http://inmozhaisk.ru/novosti/guberniya/gubernator-mo-andrey-vorobev-podvel-itogi-mesyaca-v-efire-telekanala-360deg-podmoskove',\n",
       "  'Губернатор МО Андрей Воробьев подвел итоги месяца в эфире телеканала «360° Подмосковье»'),\n",
       " ('http://inmozhaisk.ru/novosti/guberniya/gubernator-prinyal-uchastie-v-soveshchanii-po-podgotovke-podmoskovya-k-chm-2018-po-futbolu',\n",
       "  'Губернатор принял участие в совещании по подготовке Подмосковья к ЧМ-2018 по футболу'),\n",
       " ('http://inmozhaisk.ru/novosti/guberniya/gubernator-prinyal-uchastie-v-soveshchanii-po-podgotovke-podmoskovya-k-chm-2018-po-futbolu',\n",
       "  'График приёма граждан главой Можайского района Л.С. Афанасьевой и депутатами Совета депутатов Можайского района в апреле 2017 года'),\n",
       " ('http://inmozhaisk.ru/novosti/guberniya/sovremennyy-podhod-k-razvitiyu-parkov-regiona-obsudili-na-soveshchanii-s-uchastiem-gubernatora',\n",
       "  'Современный подход к развитию парков региона обсудили на совещании с участием Губернатора МО'),\n",
       " ('http://inmozhaisk.ru/novosti/guberniya/itogi-avgusta-podvel-gubernator-podmoskovya-v-efire-telekanala-360',\n",
       "  'Итоги августа подвел губернатор Подмосковья в эфире телеканала «360»'),\n",
       " ('http://inmozhaisk.ru/novosti/obschestvo/artefakty-200-letney-davnosti-nashli-kraevedy-v-starinnom-dome-v-mozhayske',\n",
       "  'Артефакты 200-летней давности нашли краеведы в старинном доме в Можайске'),\n",
       " ('http://inmozhaisk.ru/novosti/guberniya/voprosy-provedeniya-iii-festivalya-chaykovskogo-v-klinu-obsudili-na-press-konferencii',\n",
       "  'Вопросы проведения III фестиваля Чайковского в Клину обсудили на пресс-конференции')]"
      ]
     },
     "execution_count": 67,
     "metadata": {},
     "output_type": "execute_result"
    }
   ],
   "source": [
    "answer = search('каникулы на новый год и рождество')\n",
    "answer"
   ]
  },
  {
   "cell_type": "code",
   "execution_count": 70,
   "metadata": {},
   "outputs": [
    {
     "data": {
      "text/html": [
       "<a href=\"http://inmozhaisk.ru/novosti/guberniya/gubernator-podmoskovya-andrey-vorobev-rasskazal-ob-itogah-aprelya-v-pryamom-efire-telekanala-360deg-podmoskove\">Губернатор Подмосковья Андрей Воробьев рассказал об итогах апреля в прямом эфире телеканала «360° Подмосковье»</a>"
      ],
      "text/plain": [
       "<IPython.core.display.HTML object>"
      ]
     },
     "metadata": {},
     "output_type": "display_data"
    },
    {
     "data": {
      "text/html": [
       "<a href=\"http://inmozhaisk.ru/novosti/guberniya/gubernator-podmoskovya-andrey-vorobev-rasskazal-ob-itogah-aprelya-v-pryamom-efire-telekanala-360deg-podmoskove\">В Можайском районе формируется &quot;Бессмертный полк&quot;</a>"
      ],
      "text/plain": [
       "<IPython.core.display.HTML object>"
      ]
     },
     "metadata": {},
     "output_type": "display_data"
    },
    {
     "data": {
      "text/html": [
       "<a href=\"http://inmozhaisk.ru/novosti/guberniya/gubernator-podmoskovya-andrey-vorobev-rasskazal-ob-itogah-aprelya-v-pryamom-efire-telekanala-360deg-podmoskove\">Всероссийские акции &quot;Фронтовой хлеб&quot; и &quot;Георгиевская ленточка&quot; состоятся в Можайске</a>"
      ],
      "text/plain": [
       "<IPython.core.display.HTML object>"
      ]
     },
     "metadata": {},
     "output_type": "display_data"
    },
    {
     "data": {
      "text/html": [
       "<a href=\"http://inmozhaisk.ru/novosti/guberniya/gubernator-mo-andrey-vorobev-podvel-itogi-mesyaca-v-efire-telekanala-360deg-podmoskove\">Губернатор МО Андрей Воробьев подвел итоги месяца в эфире телеканала «360° Подмосковье»</a>"
      ],
      "text/plain": [
       "<IPython.core.display.HTML object>"
      ]
     },
     "metadata": {},
     "output_type": "display_data"
    },
    {
     "data": {
      "text/html": [
       "<a href=\"http://inmozhaisk.ru/novosti/guberniya/gubernator-prinyal-uchastie-v-soveshchanii-po-podgotovke-podmoskovya-k-chm-2018-po-futbolu\">Губернатор принял участие в совещании по подготовке Подмосковья к ЧМ-2018 по футболу</a>"
      ],
      "text/plain": [
       "<IPython.core.display.HTML object>"
      ]
     },
     "metadata": {},
     "output_type": "display_data"
    },
    {
     "data": {
      "text/html": [
       "<a href=\"http://inmozhaisk.ru/novosti/guberniya/gubernator-prinyal-uchastie-v-soveshchanii-po-podgotovke-podmoskovya-k-chm-2018-po-futbolu\">График приёма граждан главой Можайского района Л.С. Афанасьевой и депутатами Совета депутатов Можайского района в апреле 2017 года</a>"
      ],
      "text/plain": [
       "<IPython.core.display.HTML object>"
      ]
     },
     "metadata": {},
     "output_type": "display_data"
    },
    {
     "data": {
      "text/html": [
       "<a href=\"http://inmozhaisk.ru/novosti/guberniya/sovremennyy-podhod-k-razvitiyu-parkov-regiona-obsudili-na-soveshchanii-s-uchastiem-gubernatora\">Современный подход к развитию парков региона обсудили на совещании с участием Губернатора МО</a>"
      ],
      "text/plain": [
       "<IPython.core.display.HTML object>"
      ]
     },
     "metadata": {},
     "output_type": "display_data"
    },
    {
     "data": {
      "text/html": [
       "<a href=\"http://inmozhaisk.ru/novosti/guberniya/itogi-avgusta-podvel-gubernator-podmoskovya-v-efire-telekanala-360\">Итоги августа подвел губернатор Подмосковья в эфире телеканала «360»</a>"
      ],
      "text/plain": [
       "<IPython.core.display.HTML object>"
      ]
     },
     "metadata": {},
     "output_type": "display_data"
    },
    {
     "data": {
      "text/html": [
       "<a href=\"http://inmozhaisk.ru/novosti/obschestvo/artefakty-200-letney-davnosti-nashli-kraevedy-v-starinnom-dome-v-mozhayske\">Артефакты 200-летней давности нашли краеведы в старинном доме в Можайске</a>"
      ],
      "text/plain": [
       "<IPython.core.display.HTML object>"
      ]
     },
     "metadata": {},
     "output_type": "display_data"
    },
    {
     "data": {
      "text/html": [
       "<a href=\"http://inmozhaisk.ru/novosti/guberniya/voprosy-provedeniya-iii-festivalya-chaykovskogo-v-klinu-obsudili-na-press-konferencii\">Вопросы проведения III фестиваля Чайковского в Клину обсудили на пресс-конференции</a>"
      ],
      "text/plain": [
       "<IPython.core.display.HTML object>"
      ]
     },
     "metadata": {},
     "output_type": "display_data"
    }
   ],
   "source": [
    "for i in answer[:10]:\n",
    "    display(HTML('<a href=\"{}\">{}</a>'.format(i[0],i[1])))"
   ]
  },
  {
   "cell_type": "code",
   "execution_count": null,
   "metadata": {
    "collapsed": true
   },
   "outputs": [],
   "source": []
  }
 ],
 "metadata": {
  "kernelspec": {
   "display_name": "Python 3",
   "language": "python",
   "name": "python3"
  },
  "language_info": {
   "codemirror_mode": {
    "name": "ipython",
    "version": 3
   },
   "file_extension": ".py",
   "mimetype": "text/x-python",
   "name": "python",
   "nbconvert_exporter": "python",
   "pygments_lexer": "ipython3",
   "version": "3.6.2"
  }
 },
 "nbformat": 4,
 "nbformat_minor": 2
}
