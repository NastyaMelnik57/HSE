{
 "cells": [
  {
   "cell_type": "code",
   "execution_count": 53,
   "metadata": {},
   "outputs": [],
   "source": [
    "import requests\n",
    "from bs4 import BeautifulSoup\n",
    "from BeautifulSoup import BeautifulSoup\n",
    "from IPython.display import HTML, display\n",
    "import lxml"
   ]
  },
  {
   "cell_type": "code",
   "execution_count": 138,
   "metadata": {},
   "outputs": [],
   "source": [
    "news_links = []\n",
    "for i in range(1, 101):\n",
    "    page = requests.get('http://inmozhaisk.ru/novosti?tags_ids=&range-date-start=&range-date-end=&page={}'.format(i)).text\n",
    "    soup = BeautifulSoup(page)\n",
    "    news_blocks = soup.findAll('div', attrs = {'class' : 'news-itm'})\n",
    "    for block in news_blocks:\n",
    "        news_links.append(block.find('a')['href'])"
   ]
  },
  {
   "cell_type": "code",
   "execution_count": 344,
   "metadata": {},
   "outputs": [],
   "source": [
    "news_texts = []\n",
    "for link in news_links:\n",
    "    news_texts.append(BeautifulSoup(requests.get('http://inmozhaisk.ru' + str(link)).text))"
   ]
  },
  {
   "cell_type": "code",
   "execution_count": 357,
   "metadata": {},
   "outputs": [],
   "source": [
    "for n, article in enumerate(news_texts[:1000]):\n",
    "    with open('article{}.txt'.format(n), \"wb\") as f:\n",
    "        f.write('@au Noname\\n')\n",
    "        f.write('@ti ' + st.title.text.encode(\"UTF-8\") + '\\n')\n",
    "        time = article.findAll('p', attrs={'class' : \"b-page__single-date\"})[0].text\n",
    "        time_split = time.split()\n",
    "        f.write('@da ' + time_split[0].encode('UTF-8') + ' ' + time_split[1].encode('UTF-8') + ' ' + time_split[2].encode('UTF-8') + '\\n')\n",
    "        topic = article.find('div', attrs={'class' : 'breadcrumb'}).find('span').text\n",
    "        f.write('@topic ' + topic.encode('UTF-8') + '\\n')\n",
    "        f.write('@url ' + 'http://inmozhaisk.ru' + news_links[n] + '\\n')\n",
    "        t = st.findAll('p', attrs={'style':'text-align: justify;'})\n",
    "        text = ''\n",
    "        for s in t:\n",
    "            text += s.text\n",
    "        f.write(text.encode('UTF-8'))\n",
    "        f.close()"
   ]
  },
  {
   "cell_type": "code",
   "execution_count": null,
   "metadata": {},
   "outputs": [],
   "source": []
  }
 ],
 "metadata": {
  "kernelspec": {
   "display_name": "Python 2",
   "language": "python",
   "name": "python2"
  },
  "language_info": {
   "codemirror_mode": {
    "name": "ipython",
    "version": 2
   },
   "file_extension": ".py",
   "mimetype": "text/x-python",
   "name": "python",
   "nbconvert_exporter": "python",
   "pygments_lexer": "ipython2",
   "version": "2.7.14"
  }
 },
 "nbformat": 4,
 "nbformat_minor": 2
}
