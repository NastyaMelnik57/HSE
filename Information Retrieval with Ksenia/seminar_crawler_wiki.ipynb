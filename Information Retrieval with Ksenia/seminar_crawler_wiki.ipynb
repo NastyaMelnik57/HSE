{
 "cells": [
  {
   "cell_type": "code",
   "execution_count": 1,
   "metadata": {
    "collapsed": true
   },
   "outputs": [],
   "source": [
    "import requests\n",
    "from bs4 import BeautifulSoup\n",
    "from IPython.display import HTML, display"
   ]
  },
  {
   "cell_type": "code",
   "execution_count": 2,
   "metadata": {
    "collapsed": true
   },
   "outputs": [],
   "source": [
    "def parse_page(url):\n",
    "    mainpage = requests.get(url)\n",
    "    soup = BeautifulSoup(mainpage.text, 'lxml')\n",
    "    wiki_links = set()\n",
    "    \n",
    "    for h in soup.findAll('a'):\n",
    "        if 'href' in h.attrs:\n",
    "            link = h['href']\n",
    "            if link.startswith('/wiki/') and ':' not in link:\n",
    "                link = url + link\n",
    "                wiki_links.add(link)\n",
    "    return wiki_links"
   ]
  },
  {
   "cell_type": "code",
   "execution_count": 6,
   "metadata": {
    "collapsed": true
   },
   "outputs": [],
   "source": [
    "def crawler(main_url):\n",
    "    all_wiki_links = set()\n",
    "    main_wiki_links = parse_page(main_url)\n",
    "    all_wiki_links |= main_wiki_links\n",
    "    \n",
    "    current_wiki_links = main_wiki_links\n",
    "    next_level_wiki_links = set()\n",
    "    \n",
    "    for link in current_wiki_links:\n",
    "        all_wiki_links |= parse_page(link)\n",
    "        next_level_wiki_links |= parse_page(link)\n",
    "        \n",
    "    current_wiki_links = next_level_wiki_links\n",
    "    \n",
    "    return all_wiki_links #, len(all_wiki_links)"
   ]
  },
  {
   "cell_type": "code",
   "execution_count": 15,
   "metadata": {},
   "outputs": [
    {
     "data": {
      "text/plain": [
       "{'https://mo.wikipedia.org/wiki/%D0%90%D1%80%D1%85%D0%B8%D1%82%D0%B5%D0%BA%D1%82%D1%83%D1%80%D1%8D',\n",
       " 'https://mo.wikipedia.org/wiki/%D0%90%D1%80%D1%85%D0%B8%D1%82%D0%B5%D0%BA%D1%82%D1%83%D1%80%D1%8D/wiki/%D0%90%D1%80%D1%85%D0%B8%D1%82%D0%B5%D0%BA%D1%82%D1%83%D1%80%D1%8D',\n",
       " 'https://mo.wikipedia.org/wiki/%D0%90%D1%80%D1%85%D0%B8%D1%82%D0%B5%D0%BA%D1%82%D1%83%D1%80%D1%8D/wiki/%D0%9F%D0%B0%D3%82%D0%B8%D0%BD%D0%B0_%D0%BF%D1%80%D0%B8%D0%BD%D1%87%D0%B8%D0%BF%D0%B0%D0%BB%D1%8D',\n",
       " 'https://mo.wikipedia.org/wiki/%D0%92%D0%B8%D0%BA%D0%B8%D0%BC%D0%B5%D0%B4%D0%B8%D1%8F',\n",
       " 'https://mo.wikipedia.org/wiki/%D0%92%D0%B8%D0%BA%D0%B8%D0%BC%D0%B5%D0%B4%D0%B8%D1%8F/wiki/%D0%92%D0%B8%D0%BA%D0%B8%D0%BC%D0%B5%D0%B4%D0%B8%D1%8F',\n",
       " 'https://mo.wikipedia.org/wiki/%D0%92%D0%B8%D0%BA%D0%B8%D0%BC%D0%B5%D0%B4%D0%B8%D1%8F/wiki/%D0%9F%D0%B0%D3%82%D0%B8%D0%BD%D0%B0_%D0%BF%D1%80%D0%B8%D0%BD%D1%87%D0%B8%D0%BF%D0%B0%D0%BB%D1%8D',\n",
       " 'https://mo.wikipedia.org/wiki/%D0%92%D0%B8%D0%BA%D0%B8%D0%BC%D0%B5%D0%B4%D0%B8%D1%8F/wiki/%D0%A1%D1%82%D0%B0%D1%82%D0%B5%D0%BB%D0%B5_%D0%A3%D0%BD%D0%B8%D1%82%D0%B5_%D0%B0%D0%BB%D0%B5_%D0%90%D0%BC%D0%B5%D1%80%D0%B8%D1%87%D0%B8%D0%B9',\n",
       " 'https://mo.wikipedia.org/wiki/%D0%92%D0%B8%D0%BA%D0%B8%D0%BC%D0%B5%D0%B4%D0%B8%D1%8F/wiki/2003',\n",
       " 'https://mo.wikipedia.org/wiki/%D0%92%D0%B8%D0%BA%D0%B8%D0%BF%D0%B5%D0%B4%D0%B8%D1%8F',\n",
       " 'https://mo.wikipedia.org/wiki/%D0%92%D0%B8%D0%BA%D0%B8%D0%BF%D0%B5%D0%B4%D0%B8%D1%8F/wiki/%D0%92%D0%B8%D0%BA%D0%B8',\n",
       " 'https://mo.wikipedia.org/wiki/%D0%92%D0%B8%D0%BA%D0%B8%D0%BF%D0%B5%D0%B4%D0%B8%D1%8F/wiki/%D0%92%D0%B8%D0%BA%D0%B8%D0%BC%D0%B5%D0%B4%D0%B8%D1%8F',\n",
       " 'https://mo.wikipedia.org/wiki/%D0%92%D0%B8%D0%BA%D0%B8%D0%BF%D0%B5%D0%B4%D0%B8%D1%8F/wiki/%D0%92%D0%B8%D0%BA%D0%B8%D0%BF%D0%B5%D0%B4%D0%B8%D1%8F',\n",
       " 'https://mo.wikipedia.org/wiki/%D0%92%D0%B8%D0%BA%D0%B8%D0%BF%D0%B5%D0%B4%D0%B8%D1%8F/wiki/%D0%9F%D0%B0%D3%82%D0%B8%D0%BD%D0%B0_%D0%BF%D1%80%D0%B8%D0%BD%D1%87%D0%B8%D0%BF%D0%B0%D0%BB%D1%8D',\n",
       " 'https://mo.wikipedia.org/wiki/%D0%92%D0%B8%D0%BA%D0%B8%D0%BF%D0%B5%D0%B4%D0%B8%D1%8F/wiki/2001',\n",
       " 'https://mo.wikipedia.org/wiki/%D0%92%D0%B8%D0%BA%D0%B8%D0%BF%D0%B5%D0%B4%D0%B8%D1%8F/wiki/2003',\n",
       " 'https://mo.wikipedia.org/wiki/%D0%98%D1%81%D0%BB%D0%B0%D0%BC%D0%B8%D0%B7%D0%BC',\n",
       " 'https://mo.wikipedia.org/wiki/%D0%98%D1%81%D0%BB%D0%B0%D0%BC%D0%B8%D0%B7%D0%BC/wiki/%D0%98%D1%81%D0%BB%D0%B0%D0%BC',\n",
       " 'https://mo.wikipedia.org/wiki/%D0%98%D1%81%D0%BB%D0%B0%D0%BC%D0%B8%D0%B7%D0%BC/wiki/%D0%9F%D0%B0%D3%82%D0%B8%D0%BD%D0%B0_%D0%BF%D1%80%D0%B8%D0%BD%D1%87%D0%B8%D0%BF%D0%B0%D0%BB%D1%8D',\n",
       " 'https://mo.wikipedia.org/wiki/%D0%9A%D0%B8%D0%BC%D0%B8%D0%B5',\n",
       " 'https://mo.wikipedia.org/wiki/%D0%9A%D0%B8%D0%BC%D0%B8%D0%B5/wiki/%D0%9A%D0%B8%D0%BC%D0%B8%D0%B5',\n",
       " 'https://mo.wikipedia.org/wiki/%D0%9A%D0%B8%D0%BC%D0%B8%D0%B5/wiki/%D0%9F%D0%B0%D3%82%D0%B8%D0%BD%D0%B0_%D0%BF%D1%80%D0%B8%D0%BD%D1%87%D0%B8%D0%BF%D0%B0%D0%BB%D1%8D',\n",
       " 'https://mo.wikipedia.org/wiki/%D0%9A%D0%BE%D0%BC%D1%83%D0%BD%D0%B8%D0%BA%D0%B0%D1%86%D0%B8%D0%B5',\n",
       " 'https://mo.wikipedia.org/wiki/%D0%9A%D0%BE%D0%BC%D1%83%D0%BD%D0%B8%D0%BA%D0%B0%D1%86%D0%B8%D0%B5/wiki/%D0%96%D0%B0%D0%BF%D0%BE%D0%BD%D0%B8%D1%8F',\n",
       " 'https://mo.wikipedia.org/wiki/%D0%9A%D0%BE%D0%BC%D1%83%D0%BD%D0%B8%D0%BA%D0%B0%D1%86%D0%B8%D0%B5/wiki/%D0%98%D0%BD%D1%82%D0%B5%D1%80%D0%BD%D0%B5%D1%82',\n",
       " 'https://mo.wikipedia.org/wiki/%D0%9A%D0%BE%D0%BC%D1%83%D0%BD%D0%B8%D0%BA%D0%B0%D1%86%D0%B8%D0%B5/wiki/%D0%9A%D0%BE%D0%BC%D1%83%D0%BD%D0%B8%D0%BA%D0%B0%D1%86%D0%B8%D0%B5',\n",
       " 'https://mo.wikipedia.org/wiki/%D0%9A%D0%BE%D0%BC%D1%83%D0%BD%D0%B8%D0%BA%D0%B0%D1%86%D0%B8%D0%B5/wiki/%D0%9B%D0%B8%D0%BC%D0%B1%D0%B0_%D0%BC%D0%BE%D0%BB%D0%B4%D0%BE%D0%B2%D0%B5%D0%BD%D1%8F%D1%81%D0%BA%D1%8D',\n",
       " 'https://mo.wikipedia.org/wiki/%D0%9A%D0%BE%D0%BC%D1%83%D0%BD%D0%B8%D0%BA%D0%B0%D1%86%D0%B8%D0%B5/wiki/%D0%9C%D0%BE%D0%BB%D0%B4%D0%BE%D0%B2%D0%B0',\n",
       " 'https://mo.wikipedia.org/wiki/%D0%9A%D0%BE%D0%BC%D1%83%D0%BD%D0%B8%D0%BA%D0%B0%D1%86%D0%B8%D0%B5/wiki/%D0%9F%D0%B0%D3%82%D0%B8%D0%BD%D0%B0_%D0%BF%D1%80%D0%B8%D0%BD%D1%87%D0%B8%D0%BF%D0%B0%D0%BB%D1%8D',\n",
       " 'https://mo.wikipedia.org/wiki/%D0%9A%D1%80%D0%B5%D1%88%D1%82%D0%B8%D0%BD%D0%B8%D0%B7%D0%BC',\n",
       " 'https://mo.wikipedia.org/wiki/%D0%9A%D1%80%D0%B5%D1%88%D1%82%D0%B8%D0%BD%D0%B8%D0%B7%D0%BC/wiki/%D0%98%D1%81%D0%BB%D0%B0%D0%BC',\n",
       " 'https://mo.wikipedia.org/wiki/%D0%9A%D1%80%D0%B5%D1%88%D1%82%D0%B8%D0%BD%D0%B8%D0%B7%D0%BC/wiki/%D0%9A%D1%80%D0%B5%D1%88%D1%82%D0%B8%D0%BD%D0%B8%D0%B7%D0%BC',\n",
       " 'https://mo.wikipedia.org/wiki/%D0%9A%D1%80%D0%B5%D1%88%D1%82%D0%B8%D0%BD%D0%B8%D0%B7%D0%BC/wiki/%D0%9F%D0%B0%D3%82%D0%B8%D0%BD%D0%B0_%D0%BF%D1%80%D0%B8%D0%BD%D1%87%D0%B8%D0%BF%D0%B0%D0%BB%D1%8D',\n",
       " 'https://mo.wikipedia.org/wiki/%D0%9B%D0%B8%D0%BC%D0%B1%D1%8C',\n",
       " 'https://mo.wikipedia.org/wiki/%D0%9B%D0%B8%D0%BC%D0%B1%D1%8C/wiki/%D0%9B%D0%B8%D0%BC%D0%B1%D1%8C',\n",
       " 'https://mo.wikipedia.org/wiki/%D0%9B%D0%B8%D0%BC%D0%B1%D1%8C/wiki/%D0%9F%D0%B0%D3%82%D0%B8%D0%BD%D0%B0_%D0%BF%D1%80%D0%B8%D0%BD%D1%87%D0%B8%D0%BF%D0%B0%D0%BB%D1%8D',\n",
       " 'https://mo.wikipedia.org/wiki/%D0%9B%D0%B8%D0%BD%D0%B3%D0%B2%D0%B8%D1%81%D1%82%D0%B8%D0%BA%D1%8D',\n",
       " 'https://mo.wikipedia.org/wiki/%D0%9B%D0%B8%D0%BD%D0%B3%D0%B2%D0%B8%D1%81%D1%82%D0%B8%D0%BA%D1%8D/wiki/%D0%9B%D0%B8%D0%BC%D0%B1%D1%8C',\n",
       " 'https://mo.wikipedia.org/wiki/%D0%9B%D0%B8%D0%BD%D0%B3%D0%B2%D0%B8%D1%81%D1%82%D0%B8%D0%BA%D1%8D/wiki/%D0%9B%D0%B8%D0%BD%D0%B3%D0%B2%D0%B8%D1%81%D1%82%D0%B8%D0%BA%D1%8D',\n",
       " 'https://mo.wikipedia.org/wiki/%D0%9B%D0%B8%D0%BD%D0%B3%D0%B2%D0%B8%D1%81%D1%82%D0%B8%D0%BA%D1%8D/wiki/%D0%9F%D0%B0%D3%82%D0%B8%D0%BD%D0%B0_%D0%BF%D1%80%D0%B8%D0%BD%D1%87%D0%B8%D0%BF%D0%B0%D0%BB%D1%8D',\n",
       " 'https://mo.wikipedia.org/wiki/%D0%9B%D0%B8%D0%BD%D0%B3%D0%B2%D0%B8%D1%81%D1%82%D0%B8%D0%BA%D1%8D/wiki/%D0%A1%D0%B5%D0%BC%D0%B0%D0%BD%D1%82%D0%B8%D0%BA%D1%8D',\n",
       " 'https://mo.wikipedia.org/wiki/%D0%9C%D1%83%D0%B7%D0%B8%D0%BA%D1%8D',\n",
       " 'https://mo.wikipedia.org/wiki/%D0%9C%D1%83%D0%B7%D0%B8%D0%BA%D1%8D/wiki/%D0%9C%D1%83%D0%B7%D0%B8%D0%BA%D1%8D',\n",
       " 'https://mo.wikipedia.org/wiki/%D0%9C%D1%83%D0%B7%D0%B8%D0%BA%D1%8D/wiki/%D0%9F%D0%B0%D3%82%D0%B8%D0%BD%D0%B0_%D0%BF%D1%80%D0%B8%D0%BD%D1%87%D0%B8%D0%BF%D0%B0%D0%BB%D1%8D',\n",
       " 'https://mo.wikipedia.org/wiki/%D0%9F%D0%B0%D3%82%D0%B8%D0%BD%D0%B0_%D0%BF%D1%80%D0%B8%D0%BD%D1%87%D0%B8%D0%BF%D0%B0%D0%BB%D1%8D',\n",
       " 'https://mo.wikipedia.org/wiki/%D0%9F%D0%B0%D3%82%D0%B8%D0%BD%D0%B0_%D0%BF%D1%80%D0%B8%D0%BD%D1%87%D0%B8%D0%BF%D0%B0%D0%BB%D1%8D/wiki/%D0%90%D1%80%D1%85%D0%B8%D1%82%D0%B5%D0%BA%D1%82%D1%83%D1%80%D1%8D',\n",
       " 'https://mo.wikipedia.org/wiki/%D0%9F%D0%B0%D3%82%D0%B8%D0%BD%D0%B0_%D0%BF%D1%80%D0%B8%D0%BD%D1%87%D0%B8%D0%BF%D0%B0%D0%BB%D1%8D/wiki/%D0%92%D0%B8%D0%BA%D0%B8%D0%BC%D0%B5%D0%B4%D0%B8%D1%8F',\n",
       " 'https://mo.wikipedia.org/wiki/%D0%9F%D0%B0%D3%82%D0%B8%D0%BD%D0%B0_%D0%BF%D1%80%D0%B8%D0%BD%D1%87%D0%B8%D0%BF%D0%B0%D0%BB%D1%8D/wiki/%D0%92%D0%B8%D0%BA%D0%B8%D0%BF%D0%B5%D0%B4%D0%B8%D1%8F',\n",
       " 'https://mo.wikipedia.org/wiki/%D0%9F%D0%B0%D3%82%D0%B8%D0%BD%D0%B0_%D0%BF%D1%80%D0%B8%D0%BD%D1%87%D0%B8%D0%BF%D0%B0%D0%BB%D1%8D/wiki/%D0%98%D1%81%D0%BB%D0%B0%D0%BC%D0%B8%D0%B7%D0%BC',\n",
       " 'https://mo.wikipedia.org/wiki/%D0%9F%D0%B0%D3%82%D0%B8%D0%BD%D0%B0_%D0%BF%D1%80%D0%B8%D0%BD%D1%87%D0%B8%D0%BF%D0%B0%D0%BB%D1%8D/wiki/%D0%9A%D0%B8%D0%BC%D0%B8%D0%B5',\n",
       " 'https://mo.wikipedia.org/wiki/%D0%9F%D0%B0%D3%82%D0%B8%D0%BD%D0%B0_%D0%BF%D1%80%D0%B8%D0%BD%D1%87%D0%B8%D0%BF%D0%B0%D0%BB%D1%8D/wiki/%D0%9A%D0%BE%D0%BC%D1%83%D0%BD%D0%B8%D0%BA%D0%B0%D1%86%D0%B8%D0%B5',\n",
       " 'https://mo.wikipedia.org/wiki/%D0%9F%D0%B0%D3%82%D0%B8%D0%BD%D0%B0_%D0%BF%D1%80%D0%B8%D0%BD%D1%87%D0%B8%D0%BF%D0%B0%D0%BB%D1%8D/wiki/%D0%9A%D1%80%D0%B5%D1%88%D1%82%D0%B8%D0%BD%D0%B8%D0%B7%D0%BC',\n",
       " 'https://mo.wikipedia.org/wiki/%D0%9F%D0%B0%D3%82%D0%B8%D0%BD%D0%B0_%D0%BF%D1%80%D0%B8%D0%BD%D1%87%D0%B8%D0%BF%D0%B0%D0%BB%D1%8D/wiki/%D0%9B%D0%B8%D0%BC%D0%B1%D1%8C',\n",
       " 'https://mo.wikipedia.org/wiki/%D0%9F%D0%B0%D3%82%D0%B8%D0%BD%D0%B0_%D0%BF%D1%80%D0%B8%D0%BD%D1%87%D0%B8%D0%BF%D0%B0%D0%BB%D1%8D/wiki/%D0%9B%D0%B8%D0%BD%D0%B3%D0%B2%D0%B8%D1%81%D1%82%D0%B8%D0%BA%D1%8D',\n",
       " 'https://mo.wikipedia.org/wiki/%D0%9F%D0%B0%D3%82%D0%B8%D0%BD%D0%B0_%D0%BF%D1%80%D0%B8%D0%BD%D1%87%D0%B8%D0%BF%D0%B0%D0%BB%D1%8D/wiki/%D0%9C%D1%83%D0%B7%D0%B8%D0%BA%D1%8D',\n",
       " 'https://mo.wikipedia.org/wiki/%D0%9F%D0%B0%D3%82%D0%B8%D0%BD%D0%B0_%D0%BF%D1%80%D0%B8%D0%BD%D1%87%D0%B8%D0%BF%D0%B0%D0%BB%D1%8D/wiki/%D0%9F%D0%B0%D3%82%D0%B8%D0%BD%D0%B0_%D0%BF%D1%80%D0%B8%D0%BD%D1%87%D0%B8%D0%BF%D0%B0%D0%BB%D1%8D',\n",
       " 'https://mo.wikipedia.org/wiki/%D0%9F%D0%B0%D3%82%D0%B8%D0%BD%D0%B0_%D0%BF%D1%80%D0%B8%D0%BD%D1%87%D0%B8%D0%BF%D0%B0%D0%BB%D1%8D/wiki/%D0%9F%D0%BE%D0%BB%D0%B8%D1%82%D0%B8%D0%BA%D1%8D',\n",
       " 'https://mo.wikipedia.org/wiki/%D0%9F%D0%B0%D3%82%D0%B8%D0%BD%D0%B0_%D0%BF%D1%80%D0%B8%D0%BD%D1%87%D0%B8%D0%BF%D0%B0%D0%BB%D1%8D/wiki/%D0%A1%D0%BE%D0%BB%D0%B4%D0%B0%D1%86%D0%B8%D0%B9',\n",
       " 'https://mo.wikipedia.org/wiki/%D0%9F%D0%B0%D3%82%D0%B8%D0%BD%D0%B0_%D0%BF%D1%80%D0%B8%D0%BD%D1%87%D0%B8%D0%BF%D0%B0%D0%BB%D1%8D/wiki/%D0%A4%D0%B8%D0%BB%D0%BC',\n",
       " 'https://mo.wikipedia.org/wiki/%D0%9F%D0%BE%D0%BB%D0%B8%D1%82%D0%B8%D0%BA%D1%8D',\n",
       " 'https://mo.wikipedia.org/wiki/%D0%9F%D0%BE%D0%BB%D0%B8%D1%82%D0%B8%D0%BA%D1%8D/wiki/%D0%9F%D0%B0%D3%82%D0%B8%D0%BD%D0%B0_%D0%BF%D1%80%D0%B8%D0%BD%D1%87%D0%B8%D0%BF%D0%B0%D0%BB%D1%8D',\n",
       " 'https://mo.wikipedia.org/wiki/%D0%9F%D0%BE%D0%BB%D0%B8%D1%82%D0%B8%D0%BA%D1%8D/wiki/%D0%9F%D0%BE%D0%BB%D0%B8%D1%82%D0%B8%D0%BA%D1%8D',\n",
       " 'https://mo.wikipedia.org/wiki/%D0%A1%D0%BE%D0%BB%D0%B4%D0%B0%D1%86%D0%B8%D0%B9',\n",
       " 'https://mo.wikipedia.org/wiki/%D0%A1%D0%BE%D0%BB%D0%B4%D0%B0%D1%86%D0%B8%D0%B9/wiki/%D0%9F%D0%B0%D3%82%D0%B8%D0%BD%D0%B0_%D0%BF%D1%80%D0%B8%D0%BD%D1%87%D0%B8%D0%BF%D0%B0%D0%BB%D1%8D',\n",
       " 'https://mo.wikipedia.org/wiki/%D0%A1%D0%BE%D0%BB%D0%B4%D0%B0%D1%86%D0%B8%D0%B9/wiki/%D0%A1%D0%BE%D0%BB%D0%B4%D0%B0%D1%86%D0%B8%D0%B9',\n",
       " 'https://mo.wikipedia.org/wiki/%D0%A4%D0%B8%D0%BB%D0%BC',\n",
       " 'https://mo.wikipedia.org/wiki/%D0%A4%D0%B8%D0%BB%D0%BC/wiki/%D0%98%D0%BD%D1%82%D0%B5%D1%80%D0%BD%D0%B5%D1%82',\n",
       " 'https://mo.wikipedia.org/wiki/%D0%A4%D0%B8%D0%BB%D0%BC/wiki/%D0%9F%D0%B0%D3%82%D0%B8%D0%BD%D0%B0_%D0%BF%D1%80%D0%B8%D0%BD%D1%87%D0%B8%D0%BF%D0%B0%D0%BB%D1%8D',\n",
       " 'https://mo.wikipedia.org/wiki/%D0%A4%D0%B8%D0%BB%D0%BC/wiki/%D0%A4%D0%B8%D0%BB%D0%BC'}"
      ]
     },
     "execution_count": 15,
     "metadata": {},
     "output_type": "execute_result"
    }
   ],
   "source": [
    "crawler('https://mo.wikipedia.org')"
   ]
  },
  {
   "cell_type": "code",
   "execution_count": 12,
   "metadata": {},
   "outputs": [],
   "source": [
    "#через рекурсию\n",
    "\n",
    "def crawler_rec(url):\n",
    "    links = set()\n",
    "    links.add(url)\n",
    "    print(len(links))\n",
    "    children = parse_page(url)\n",
    "    for i in children:\n",
    "        children_links = crawler_rec(i)\n",
    "        for j in children_links:\n",
    "            links.add(j)\n",
    "            \n",
    "    return links"
   ]
  }
 ],
 "metadata": {
  "kernelspec": {
   "display_name": "Python 3",
   "language": "python",
   "name": "python3"
  },
  "language_info": {
   "codemirror_mode": {
    "name": "ipython",
    "version": 3
   },
   "file_extension": ".py",
   "mimetype": "text/x-python",
   "name": "python",
   "nbconvert_exporter": "python",
   "pygments_lexer": "ipython3",
   "version": "3.6.2"
  }
 },
 "nbformat": 4,
 "nbformat_minor": 2
}
