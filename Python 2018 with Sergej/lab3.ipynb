{
 "cells": [
  {
   "cell_type": "markdown",
   "metadata": {},
   "source": [
    "## Лабораторная работа 3. Визуализация данных. Метод опорных векторов. "
   ]
  },
  {
   "cell_type": "markdown",
   "metadata": {},
   "source": [
    "Постарайтесь оформить всю работу как один монолитный рассказ/отчет. Избегайте дублирования кода. Избегайте использования циклов, вместо этого ищите готовый алгоритм в пакетах. Подписывайте все графики, а также их оси, если график содержит несколько кривых, то обязательно пользуйтесь легендой. Также неукоснительно соблюдайте PEP8. За несоблюдение этих простейших правил итоговые баллы могут быть снижены безапелляционно."
   ]
  },
  {
   "cell_type": "markdown",
   "metadata": {},
   "source": [
    "### 1. (8 баллов) Pandas and data visualization\n",
    "\n",
    "![](https://imgs.xkcd.com/comics/convincing.png)\n",
    "\n",
    "В этом задании вы будете работать с данными из файла ```articles.csv```."
   ]
  },
  {
   "cell_type": "markdown",
   "metadata": {},
   "source": [
    "**1. (1 балл)** Bизуализируйте соотношение различных издательств, используя [pie plot](http://pandas.pydata.org/pandas-docs/stable/visualization.html#visualization-pie)."
   ]
  },
  {
   "cell_type": "code",
   "execution_count": 4,
   "metadata": {},
   "outputs": [],
   "source": [
    "import pandas as pd\n",
    "import numpy as np\n",
    "from matplotlib.pyplot import pie, axis, show"
   ]
  },
  {
   "cell_type": "code",
   "execution_count": 2,
   "metadata": {},
   "outputs": [
    {
     "data": {
      "text/html": [
       "<div>\n",
       "<style scoped>\n",
       "    .dataframe tbody tr th:only-of-type {\n",
       "        vertical-align: middle;\n",
       "    }\n",
       "\n",
       "    .dataframe tbody tr th {\n",
       "        vertical-align: top;\n",
       "    }\n",
       "\n",
       "    .dataframe thead th {\n",
       "        text-align: right;\n",
       "    }\n",
       "</style>\n",
       "<table border=\"1\" class=\"dataframe\">\n",
       "  <thead>\n",
       "    <tr style=\"text-align: right;\">\n",
       "      <th></th>\n",
       "      <th>id</th>\n",
       "      <th>title</th>\n",
       "      <th>publication</th>\n",
       "      <th>author</th>\n",
       "      <th>date</th>\n",
       "      <th>year</th>\n",
       "      <th>month</th>\n",
       "      <th>content</th>\n",
       "    </tr>\n",
       "  </thead>\n",
       "  <tbody>\n",
       "    <tr>\n",
       "      <th>0</th>\n",
       "      <td>17283</td>\n",
       "      <td>House Republicans Fret About Winning Their Hea...</td>\n",
       "      <td>New York Times</td>\n",
       "      <td>Carl Hulse</td>\n",
       "      <td>2016-12-31</td>\n",
       "      <td>2016</td>\n",
       "      <td>12</td>\n",
       "      <td>WASHINGTON  —   Congressional Republicans have...</td>\n",
       "    </tr>\n",
       "    <tr>\n",
       "      <th>1</th>\n",
       "      <td>17284</td>\n",
       "      <td>Rift Between Officers and Residents as Killing...</td>\n",
       "      <td>New York Times</td>\n",
       "      <td>Benjamin Mueller and Al Baker</td>\n",
       "      <td>2017-06-19</td>\n",
       "      <td>2017</td>\n",
       "      <td>6</td>\n",
       "      <td>After the bullet shells get counted, the blood...</td>\n",
       "    </tr>\n",
       "    <tr>\n",
       "      <th>2</th>\n",
       "      <td>17285</td>\n",
       "      <td>Tyrus Wong, ‘Bambi’ Artist Thwarted by Racial ...</td>\n",
       "      <td>New York Times</td>\n",
       "      <td>Margalit Fox</td>\n",
       "      <td>2017-01-06</td>\n",
       "      <td>2017</td>\n",
       "      <td>1</td>\n",
       "      <td>When Walt Disney’s “Bambi” opened in 1942, cri...</td>\n",
       "    </tr>\n",
       "    <tr>\n",
       "      <th>3</th>\n",
       "      <td>17286</td>\n",
       "      <td>Among Deaths in 2016, a Heavy Toll in Pop Musi...</td>\n",
       "      <td>New York Times</td>\n",
       "      <td>William McDonald</td>\n",
       "      <td>2017-04-10</td>\n",
       "      <td>2017</td>\n",
       "      <td>4</td>\n",
       "      <td>Death may be the great equalizer, but it isn’t...</td>\n",
       "    </tr>\n",
       "    <tr>\n",
       "      <th>4</th>\n",
       "      <td>17287</td>\n",
       "      <td>Kim Jong-un Says North Korea Is Preparing to T...</td>\n",
       "      <td>New York Times</td>\n",
       "      <td>Choe Sang-Hun</td>\n",
       "      <td>2017-01-02</td>\n",
       "      <td>2017</td>\n",
       "      <td>1</td>\n",
       "      <td>SEOUL, South Korea  —   North Korea’s leader, ...</td>\n",
       "    </tr>\n",
       "  </tbody>\n",
       "</table>\n",
       "</div>"
      ],
      "text/plain": [
       "      id                                              title     publication  \\\n",
       "0  17283  House Republicans Fret About Winning Their Hea...  New York Times   \n",
       "1  17284  Rift Between Officers and Residents as Killing...  New York Times   \n",
       "2  17285  Tyrus Wong, ‘Bambi’ Artist Thwarted by Racial ...  New York Times   \n",
       "3  17286  Among Deaths in 2016, a Heavy Toll in Pop Musi...  New York Times   \n",
       "4  17287  Kim Jong-un Says North Korea Is Preparing to T...  New York Times   \n",
       "\n",
       "                          author        date  year  month  \\\n",
       "0                     Carl Hulse  2016-12-31  2016     12   \n",
       "1  Benjamin Mueller and Al Baker  2017-06-19  2017      6   \n",
       "2                   Margalit Fox  2017-01-06  2017      1   \n",
       "3               William McDonald  2017-04-10  2017      4   \n",
       "4                  Choe Sang-Hun  2017-01-02  2017      1   \n",
       "\n",
       "                                             content  \n",
       "0  WASHINGTON  —   Congressional Republicans have...  \n",
       "1  After the bullet shells get counted, the blood...  \n",
       "2  When Walt Disney’s “Bambi” opened in 1942, cri...  \n",
       "3  Death may be the great equalizer, but it isn’t...  \n",
       "4  SEOUL, South Korea  —   North Korea’s leader, ...  "
      ]
     },
     "execution_count": 2,
     "metadata": {},
     "output_type": "execute_result"
    }
   ],
   "source": [
    "df = pd.read_csv('articles.csv')\n",
    "df.head()"
   ]
  },
  {
   "cell_type": "code",
   "execution_count": 3,
   "metadata": {},
   "outputs": [
    {
     "data": {
      "text/plain": [
       "Breitbart           0.4756\n",
       "CNN                 0.2298\n",
       "New York Times      0.1561\n",
       "Business Insider    0.1351\n",
       "Atlantic            0.0034\n",
       "Name: publication, dtype: float64"
      ]
     },
     "execution_count": 3,
     "metadata": {},
     "output_type": "execute_result"
    }
   ],
   "source": [
    "publication_dist = np.round(df['publication'].value_counts() / len(df), 4)\n",
    "publication_dist"
   ]
  },
  {
   "cell_type": "code",
   "execution_count": 4,
   "metadata": {},
   "outputs": [
    {
     "data": {
      "image/png": "[encoded data removed]",
      "text/plain": [
       "<matplotlib.figure.Figure at 0x1049bf940>"
      ]
     },
     "metadata": {},
     "output_type": "display_data"
    }
   ],
   "source": [
    "publication_dist.plot.pie(subplots=True, figsize=(8, 8), autopct='%.2f')\n",
    "show()"
   ]
  },
  {
   "cell_type": "markdown",
   "metadata": {},
   "source": [
    "**2. (2 балла)** Постройте распределение колличества публикаций каждого издания по каждому году, используя [bar plot](http://pandas.pydata.org/pandas-docs/stable/visualization.html#visualization-barplot). В какой год было больше всего публикаций?"
   ]
  },
  {
   "cell_type": "code",
   "execution_count": 5,
   "metadata": {},
   "outputs": [
    {
     "data": {
      "text/plain": [
       "publication       year\n",
       "Atlantic          2016       23\n",
       "                  2017      148\n",
       "Breitbart         2013        2\n",
       "                  2014        1\n",
       "                  2015       72\n",
       "                  2016    16100\n",
       "                  2017     7606\n",
       "Business Insider  2016     4596\n",
       "                  2017     2161\n",
       "CNN               2011        1\n",
       "                  2012       26\n",
       "                  2013      210\n",
       "                  2014       74\n",
       "                  2015     3251\n",
       "                  2016     4104\n",
       "                  2017     3822\n",
       "New York Times    2014        1\n",
       "                  2015        3\n",
       "                  2016     3628\n",
       "                  2017     4171\n",
       "dtype: int64"
      ]
     },
     "execution_count": 5,
     "metadata": {},
     "output_type": "execute_result"
    }
   ],
   "source": [
    "df_groupby_publ_year = df.groupby(['publication', 'year']).size()\n",
    "df_groupby_publ_year"
   ]
  },
  {
   "cell_type": "code",
   "execution_count": 6,
   "metadata": {},
   "outputs": [
    {
     "data": {
      "image/png": "[encoded data removed]",
      "text/plain": [
       "<matplotlib.figure.Figure at 0x109510a90>"
      ]
     },
     "metadata": {},
     "output_type": "display_data"
    }
   ],
   "source": [
    "df_groupby_publ_year.plot.bar(figsize=(8, 8))\n",
    "show()"
   ]
  },
  {
   "cell_type": "markdown",
   "metadata": {},
   "source": [
    "**3. (3 балла)** Опредилите топ-10 авторов для года с наибольшим количеством публикаций (обратите внимание, что у некоторых статей несколько авторов - это нужно учитывать)."
   ]
  },
  {
   "cell_type": "code",
   "execution_count": 11,
   "metadata": {},
   "outputs": [
    {
     "data": {
      "text/plain": [
       "2016"
      ]
     },
     "execution_count": 11,
     "metadata": {},
     "output_type": "execute_result"
    }
   ],
   "source": [
    "df_groupby_year = df.groupby('year').size()\n",
    "np.argmax(df_groupby_year)"
   ]
  },
  {
   "cell_type": "markdown",
   "metadata": {},
   "source": [
    "В 2016 году было издано больше всего публикаций.\n",
    "\n",
    "Данные об авторах в этот год не очень чистые. \n",
    "- избавимся от нанов (2862 объекта)\n",
    "- приведем по-разному записанных одинаковых авторов  к одному виду\n",
    "- разобьем соавторов на несколько авторов"
   ]
  },
  {
   "cell_type": "code",
   "execution_count": 12,
   "metadata": {},
   "outputs": [
    {
     "data": {
      "text/plain": [
       "28451"
      ]
     },
     "execution_count": 12,
     "metadata": {},
     "output_type": "execute_result"
    }
   ],
   "source": [
    "df_2016 = df.loc[df['year'] == 2016].reset_index(drop=True)\n",
    "len(df_2016)"
   ]
  },
  {
   "cell_type": "code",
   "execution_count": 14,
   "metadata": {},
   "outputs": [
    {
     "data": {
      "text/plain": [
       "25589"
      ]
     },
     "execution_count": 14,
     "metadata": {},
     "output_type": "execute_result"
    }
   ],
   "source": [
    "df_2016_nonan_authors = df_2016.dropna(subset=['author']).reset_index(drop=True)\n",
    "len(df_2016_nonan_authors)"
   ]
  },
  {
   "cell_type": "code",
   "execution_count": 8,
   "metadata": {},
   "outputs": [],
   "source": [
    "import re\n",
    "def normalize(author):\n",
    "    author = author.lstrip()\n",
    "    author = re.sub('\\. ', '.', author)\n",
    "    author = re.sub('<.*?>', '', author)\n",
    "    authors = list(set(author.strip(', ').\n",
    "                       replace(' and ', ',').\n",
    "                       replace(' &amp ', ',').\n",
    "                       split(',')))\n",
    "    return authors"
   ]
  },
  {
   "cell_type": "code",
   "execution_count": 15,
   "metadata": {},
   "outputs": [],
   "source": [
    "from tqdm import tqdm"
   ]
  },
  {
   "cell_type": "code",
   "execution_count": 65,
   "metadata": {},
   "outputs": [],
   "source": [
    "for i, author in tqdm(enumerate(df_2016_nonan_authors['author'])):\n",
    "    df_2016_nonan_authors['author'][i] = normalize(author)"
   ]
  },
  {
   "cell_type": "code",
   "execution_count": 5,
   "metadata": {},
   "outputs": [],
   "source": [
    "import pickle\n",
    "# pickle.dump(df_2016_nonan_authors, open(\"articles_2016_without_nan_authors\", \"wb\"))\n",
    "# df_2016_nonan_authors = pickle.load(open(\"articles_2016_without_nan_authors\", \"rb\"))"
   ]
  },
  {
   "cell_type": "code",
   "execution_count": 19,
   "metadata": {},
   "outputs": [
    {
     "data": {
      "text/html": [
       "<div>\n",
       "<style scoped>\n",
       "    .dataframe tbody tr th:only-of-type {\n",
       "        vertical-align: middle;\n",
       "    }\n",
       "\n",
       "    .dataframe tbody tr th {\n",
       "        vertical-align: top;\n",
       "    }\n",
       "\n",
       "    .dataframe thead th {\n",
       "        text-align: right;\n",
       "    }\n",
       "</style>\n",
       "<table border=\"1\" class=\"dataframe\">\n",
       "  <thead>\n",
       "    <tr style=\"text-align: right;\">\n",
       "      <th></th>\n",
       "      <th>id</th>\n",
       "      <th>title</th>\n",
       "      <th>publication</th>\n",
       "      <th>author</th>\n",
       "      <th>date</th>\n",
       "      <th>year</th>\n",
       "      <th>month</th>\n",
       "      <th>content</th>\n",
       "    </tr>\n",
       "  </thead>\n",
       "  <tbody>\n",
       "    <tr>\n",
       "      <th>0</th>\n",
       "      <td>17283</td>\n",
       "      <td>House Republicans Fret About Winning Their Hea...</td>\n",
       "      <td>New York Times</td>\n",
       "      <td>[Carl Hulse]</td>\n",
       "      <td>2016-12-31</td>\n",
       "      <td>2016</td>\n",
       "      <td>12</td>\n",
       "      <td>WASHINGTON  —   Congressional Republicans have...</td>\n",
       "    </tr>\n",
       "    <tr>\n",
       "      <th>1</th>\n",
       "      <td>17291</td>\n",
       "      <td>First, a Mixtape. Then a Romance. - The New Yo...</td>\n",
       "      <td>New York Times</td>\n",
       "      <td>[Katherine Rosman]</td>\n",
       "      <td>2016-12-31</td>\n",
       "      <td>2016</td>\n",
       "      <td>12</td>\n",
       "      <td>Just how   is Hillary Kerr, the    founder of ...</td>\n",
       "    </tr>\n",
       "    <tr>\n",
       "      <th>2</th>\n",
       "      <td>17292</td>\n",
       "      <td>Calling on Angels While Enduring the Trials of...</td>\n",
       "      <td>New York Times</td>\n",
       "      <td>[Andy Newman]</td>\n",
       "      <td>2016-12-31</td>\n",
       "      <td>2016</td>\n",
       "      <td>12</td>\n",
       "      <td>Angels are everywhere in the Muñiz family’s ap...</td>\n",
       "    </tr>\n",
       "    <tr>\n",
       "      <th>3</th>\n",
       "      <td>20113</td>\n",
       "      <td>Clinton, Sanders and the Crowd Bring the Noise...</td>\n",
       "      <td>New York Times</td>\n",
       "      <td>[James Poniewozik]</td>\n",
       "      <td>2016-04-16</td>\n",
       "      <td>2016</td>\n",
       "      <td>4</td>\n",
       "      <td>Thursday night, Democrats did what party peopl...</td>\n",
       "    </tr>\n",
       "    <tr>\n",
       "      <th>4</th>\n",
       "      <td>20114</td>\n",
       "      <td>Yahoo’s Suitors Uncover Few Financial Details ...</td>\n",
       "      <td>New York Times</td>\n",
       "      <td>[Vindu Goel, Michael J.de la Merced]</td>\n",
       "      <td>2016-04-18</td>\n",
       "      <td>2016</td>\n",
       "      <td>4</td>\n",
       "      <td>SAN FRANCISCO  —   As Yahoo prepares to accept...</td>\n",
       "    </tr>\n",
       "  </tbody>\n",
       "</table>\n",
       "</div>"
      ],
      "text/plain": [
       "      id                                              title     publication  \\\n",
       "0  17283  House Republicans Fret About Winning Their Hea...  New York Times   \n",
       "1  17291  First, a Mixtape. Then a Romance. - The New Yo...  New York Times   \n",
       "2  17292  Calling on Angels While Enduring the Trials of...  New York Times   \n",
       "3  20113  Clinton, Sanders and the Crowd Bring the Noise...  New York Times   \n",
       "4  20114  Yahoo’s Suitors Uncover Few Financial Details ...  New York Times   \n",
       "\n",
       "                                 author        date  year  month  \\\n",
       "0                          [Carl Hulse]  2016-12-31  2016     12   \n",
       "1                    [Katherine Rosman]  2016-12-31  2016     12   \n",
       "2                         [Andy Newman]  2016-12-31  2016     12   \n",
       "3                    [James Poniewozik]  2016-04-16  2016      4   \n",
       "4  [Vindu Goel, Michael J.de la Merced]  2016-04-18  2016      4   \n",
       "\n",
       "                                             content  \n",
       "0  WASHINGTON  —   Congressional Republicans have...  \n",
       "1  Just how   is Hillary Kerr, the    founder of ...  \n",
       "2  Angels are everywhere in the Muñiz family’s ap...  \n",
       "3  Thursday night, Democrats did what party peopl...  \n",
       "4  SAN FRANCISCO  —   As Yahoo prepares to accept...  "
      ]
     },
     "execution_count": 19,
     "metadata": {},
     "output_type": "execute_result"
    }
   ],
   "source": [
    "df_2016_nonan_authors.head()"
   ]
  },
  {
   "cell_type": "markdown",
   "metadata": {},
   "source": [
    "Применим модель мешка слов к признаку author, считая каждого автора отдельным словом:"
   ]
  },
  {
   "cell_type": "code",
   "execution_count": 20,
   "metadata": {},
   "outputs": [
    {
     "name": "stderr",
     "output_type": "stream",
     "text": [
      "25589it [36:12, 11.78it/s]\n"
     ]
    }
   ],
   "source": [
    "for i, authors in tqdm(enumerate(df_2016_nonan_authors['author'])):\n",
    "    for author in authors:\n",
    "        if author not in df_2016_nonan_authors.columns:\n",
    "            df_2016_nonan_authors[author] = 0\n",
    "        df_2016_nonan_authors[author][i] += 1"
   ]
  },
  {
   "cell_type": "code",
   "execution_count": 21,
   "metadata": {},
   "outputs": [],
   "source": [
    "# pickle.dump(df_2016_nonan_authors, open(\"articles_2016_without_nan_authors_bow\", \"wb\"))\n",
    "# df_2016_nonan_authors = pickle.load(open(\"articles_2016_without_nan_authors\", \"rb\"))"
   ]
  },
  {
   "cell_type": "code",
   "execution_count": 22,
   "metadata": {},
   "outputs": [],
   "source": [
    "df_authors = pd.DataFrame()\n",
    "df_authors['author'] = ''\n",
    "df_authors['n'] = ''\n",
    "rows = []\n",
    "for column in df_2016_nonan_authors.columns[8:]:\n",
    "    rows.append([column, sum(df_2016_nonan_authors[column])])\n",
    "for row in rows:\n",
    "    df_authors.loc[len(df_authors)] = row"
   ]
  },
  {
   "cell_type": "code",
   "execution_count": 24,
   "metadata": {},
   "outputs": [
    {
     "data": {
      "text/html": [
       "<div>\n",
       "<style scoped>\n",
       "    .dataframe tbody tr th:only-of-type {\n",
       "        vertical-align: middle;\n",
       "    }\n",
       "\n",
       "    .dataframe tbody tr th {\n",
       "        vertical-align: top;\n",
       "    }\n",
       "\n",
       "    .dataframe thead th {\n",
       "        text-align: right;\n",
       "    }\n",
       "</style>\n",
       "<table border=\"1\" class=\"dataframe\">\n",
       "  <thead>\n",
       "    <tr style=\"text-align: right;\">\n",
       "      <th></th>\n",
       "      <th>author</th>\n",
       "      <th>n</th>\n",
       "    </tr>\n",
       "  </thead>\n",
       "  <tbody>\n",
       "    <tr>\n",
       "      <th>0</th>\n",
       "      <td>Carl Hulse</td>\n",
       "      <td>11</td>\n",
       "    </tr>\n",
       "    <tr>\n",
       "      <th>1</th>\n",
       "      <td>Katherine Rosman</td>\n",
       "      <td>1</td>\n",
       "    </tr>\n",
       "  </tbody>\n",
       "</table>\n",
       "</div>"
      ],
      "text/plain": [
       "             author   n\n",
       "0        Carl Hulse  11\n",
       "1  Katherine Rosman   1"
      ]
     },
     "execution_count": 24,
     "metadata": {},
     "output_type": "execute_result"
    }
   ],
   "source": [
    "df_authors.head(2)"
   ]
  },
  {
   "cell_type": "markdown",
   "metadata": {},
   "source": [
    "В выборке всего 1741 автор. Из них в 2016 году больше всего публиковались 10 следующих авторов:"
   ]
  },
  {
   "cell_type": "code",
   "execution_count": 25,
   "metadata": {},
   "outputs": [
    {
     "data": {
      "text/html": [
       "<div>\n",
       "<style scoped>\n",
       "    .dataframe tbody tr th:only-of-type {\n",
       "        vertical-align: middle;\n",
       "    }\n",
       "\n",
       "    .dataframe tbody tr th {\n",
       "        vertical-align: top;\n",
       "    }\n",
       "\n",
       "    .dataframe thead th {\n",
       "        text-align: right;\n",
       "    }\n",
       "</style>\n",
       "<table border=\"1\" class=\"dataframe\">\n",
       "  <thead>\n",
       "    <tr style=\"text-align: right;\">\n",
       "      <th></th>\n",
       "      <th>author</th>\n",
       "      <th>n</th>\n",
       "    </tr>\n",
       "  </thead>\n",
       "  <tbody>\n",
       "    <tr>\n",
       "      <th>1741</th>\n",
       "      <td>Breitbart News</td>\n",
       "      <td>1321</td>\n",
       "    </tr>\n",
       "    <tr>\n",
       "      <th>1740</th>\n",
       "      <td>Pam Key</td>\n",
       "      <td>820</td>\n",
       "    </tr>\n",
       "    <tr>\n",
       "      <th>1739</th>\n",
       "      <td>Charlie Spiering</td>\n",
       "      <td>661</td>\n",
       "    </tr>\n",
       "    <tr>\n",
       "      <th>1738</th>\n",
       "      <td>Alex Swoyer</td>\n",
       "      <td>589</td>\n",
       "    </tr>\n",
       "    <tr>\n",
       "      <th>1737</th>\n",
       "      <td>Daniel Nussbaum</td>\n",
       "      <td>533</td>\n",
       "    </tr>\n",
       "    <tr>\n",
       "      <th>1736</th>\n",
       "      <td>AWR Hawkins</td>\n",
       "      <td>525</td>\n",
       "    </tr>\n",
       "    <tr>\n",
       "      <th>1735</th>\n",
       "      <td>John Hayward</td>\n",
       "      <td>521</td>\n",
       "    </tr>\n",
       "    <tr>\n",
       "      <th>1734</th>\n",
       "      <td>Jerome Hudson</td>\n",
       "      <td>483</td>\n",
       "    </tr>\n",
       "    <tr>\n",
       "      <th>1733</th>\n",
       "      <td>Ian Hanchett</td>\n",
       "      <td>429</td>\n",
       "    </tr>\n",
       "    <tr>\n",
       "      <th>1732</th>\n",
       "      <td>Joel B.Pollak</td>\n",
       "      <td>420</td>\n",
       "    </tr>\n",
       "  </tbody>\n",
       "</table>\n",
       "</div>"
      ],
      "text/plain": [
       "                author     n\n",
       "1741    Breitbart News  1321\n",
       "1740           Pam Key   820\n",
       "1739  Charlie Spiering   661\n",
       "1738       Alex Swoyer   589\n",
       "1737   Daniel Nussbaum   533\n",
       "1736       AWR Hawkins   525\n",
       "1735      John Hayward   521\n",
       "1734     Jerome Hudson   483\n",
       "1733      Ian Hanchett   429\n",
       "1732     Joel B.Pollak   420"
      ]
     },
     "execution_count": 25,
     "metadata": {},
     "output_type": "execute_result"
    }
   ],
   "source": [
    "df_authors_sortby_publ = df_authors.sort_values(by=['n'])\n",
    "df_authors_sortby_publ = df_authors_sortby_publ.reset_index(drop=True)\n",
    "df_authors_sortby_publ_top10 = df_authors_sortby_publ[-10:]\n",
    "df_authors_sortby_publ_top10.iloc[::-1]"
   ]
  },
  {
   "cell_type": "markdown",
   "metadata": {},
   "source": [
    "Breitbart News - самый публикующийся новостной ресурс 2016 года. Pam Key - самый публикующийся автор 2016 года."
   ]
  },
  {
   "cell_type": "markdown",
   "metadata": {},
   "source": [
    "**4. (2 балла)** Постройте распределение количества публикаций авторов из предыдущего задания по месяцам, используя [hist plot](http://pandas.pydata.org/pandas-docs/stable/visualization.html#visualization-hist)."
   ]
  },
  {
   "cell_type": "markdown",
   "metadata": {},
   "source": [
    "Построим и визуализируем распределение количества публикаций по месяцам для 10 самых публикуемых авторов 2016 года с помощью гистограммы:"
   ]
  },
  {
   "cell_type": "code",
   "execution_count": 28,
   "metadata": {},
   "outputs": [
    {
     "data": {
      "text/html": [
       "<div>\n",
       "<style scoped>\n",
       "    .dataframe tbody tr th:only-of-type {\n",
       "        vertical-align: middle;\n",
       "    }\n",
       "\n",
       "    .dataframe tbody tr th {\n",
       "        vertical-align: top;\n",
       "    }\n",
       "\n",
       "    .dataframe thead th {\n",
       "        text-align: right;\n",
       "    }\n",
       "</style>\n",
       "<table border=\"1\" class=\"dataframe\">\n",
       "  <thead>\n",
       "    <tr style=\"text-align: right;\">\n",
       "      <th></th>\n",
       "      <th>Joel B.Pollak</th>\n",
       "      <th>Ian Hanchett</th>\n",
       "      <th>Jerome Hudson</th>\n",
       "      <th>John Hayward</th>\n",
       "      <th>AWR Hawkins</th>\n",
       "      <th>Daniel Nussbaum</th>\n",
       "      <th>Alex Swoyer</th>\n",
       "      <th>Charlie Spiering</th>\n",
       "      <th>Pam Key</th>\n",
       "      <th>Breitbart News</th>\n",
       "    </tr>\n",
       "    <tr>\n",
       "      <th>month</th>\n",
       "      <th></th>\n",
       "      <th></th>\n",
       "      <th></th>\n",
       "      <th></th>\n",
       "      <th></th>\n",
       "      <th></th>\n",
       "      <th></th>\n",
       "      <th></th>\n",
       "      <th></th>\n",
       "      <th></th>\n",
       "    </tr>\n",
       "  </thead>\n",
       "  <tbody>\n",
       "    <tr>\n",
       "      <th>1</th>\n",
       "      <td>22</td>\n",
       "      <td>53</td>\n",
       "      <td>21</td>\n",
       "      <td>29</td>\n",
       "      <td>53</td>\n",
       "      <td>51</td>\n",
       "      <td>61</td>\n",
       "      <td>56</td>\n",
       "      <td>61</td>\n",
       "      <td>134</td>\n",
       "    </tr>\n",
       "    <tr>\n",
       "      <th>2</th>\n",
       "      <td>26</td>\n",
       "      <td>62</td>\n",
       "      <td>22</td>\n",
       "      <td>36</td>\n",
       "      <td>41</td>\n",
       "      <td>42</td>\n",
       "      <td>45</td>\n",
       "      <td>61</td>\n",
       "      <td>61</td>\n",
       "      <td>98</td>\n",
       "    </tr>\n",
       "    <tr>\n",
       "      <th>3</th>\n",
       "      <td>23</td>\n",
       "      <td>48</td>\n",
       "      <td>18</td>\n",
       "      <td>47</td>\n",
       "      <td>37</td>\n",
       "      <td>42</td>\n",
       "      <td>47</td>\n",
       "      <td>38</td>\n",
       "      <td>73</td>\n",
       "      <td>148</td>\n",
       "    </tr>\n",
       "    <tr>\n",
       "      <th>4</th>\n",
       "      <td>19</td>\n",
       "      <td>39</td>\n",
       "      <td>33</td>\n",
       "      <td>31</td>\n",
       "      <td>37</td>\n",
       "      <td>41</td>\n",
       "      <td>65</td>\n",
       "      <td>60</td>\n",
       "      <td>81</td>\n",
       "      <td>124</td>\n",
       "    </tr>\n",
       "    <tr>\n",
       "      <th>5</th>\n",
       "      <td>33</td>\n",
       "      <td>24</td>\n",
       "      <td>48</td>\n",
       "      <td>36</td>\n",
       "      <td>34</td>\n",
       "      <td>47</td>\n",
       "      <td>71</td>\n",
       "      <td>44</td>\n",
       "      <td>75</td>\n",
       "      <td>105</td>\n",
       "    </tr>\n",
       "    <tr>\n",
       "      <th>6</th>\n",
       "      <td>26</td>\n",
       "      <td>13</td>\n",
       "      <td>53</td>\n",
       "      <td>38</td>\n",
       "      <td>77</td>\n",
       "      <td>53</td>\n",
       "      <td>47</td>\n",
       "      <td>52</td>\n",
       "      <td>54</td>\n",
       "      <td>114</td>\n",
       "    </tr>\n",
       "    <tr>\n",
       "      <th>7</th>\n",
       "      <td>60</td>\n",
       "      <td>39</td>\n",
       "      <td>54</td>\n",
       "      <td>36</td>\n",
       "      <td>52</td>\n",
       "      <td>44</td>\n",
       "      <td>47</td>\n",
       "      <td>20</td>\n",
       "      <td>67</td>\n",
       "      <td>143</td>\n",
       "    </tr>\n",
       "    <tr>\n",
       "      <th>8</th>\n",
       "      <td>41</td>\n",
       "      <td>31</td>\n",
       "      <td>66</td>\n",
       "      <td>51</td>\n",
       "      <td>47</td>\n",
       "      <td>45</td>\n",
       "      <td>54</td>\n",
       "      <td>69</td>\n",
       "      <td>69</td>\n",
       "      <td>107</td>\n",
       "    </tr>\n",
       "    <tr>\n",
       "      <th>9</th>\n",
       "      <td>44</td>\n",
       "      <td>27</td>\n",
       "      <td>36</td>\n",
       "      <td>69</td>\n",
       "      <td>38</td>\n",
       "      <td>62</td>\n",
       "      <td>44</td>\n",
       "      <td>83</td>\n",
       "      <td>67</td>\n",
       "      <td>99</td>\n",
       "    </tr>\n",
       "    <tr>\n",
       "      <th>10</th>\n",
       "      <td>43</td>\n",
       "      <td>26</td>\n",
       "      <td>34</td>\n",
       "      <td>46</td>\n",
       "      <td>35</td>\n",
       "      <td>35</td>\n",
       "      <td>43</td>\n",
       "      <td>67</td>\n",
       "      <td>65</td>\n",
       "      <td>89</td>\n",
       "    </tr>\n",
       "    <tr>\n",
       "      <th>11</th>\n",
       "      <td>46</td>\n",
       "      <td>29</td>\n",
       "      <td>42</td>\n",
       "      <td>55</td>\n",
       "      <td>29</td>\n",
       "      <td>33</td>\n",
       "      <td>39</td>\n",
       "      <td>60</td>\n",
       "      <td>71</td>\n",
       "      <td>105</td>\n",
       "    </tr>\n",
       "    <tr>\n",
       "      <th>12</th>\n",
       "      <td>37</td>\n",
       "      <td>38</td>\n",
       "      <td>56</td>\n",
       "      <td>47</td>\n",
       "      <td>45</td>\n",
       "      <td>38</td>\n",
       "      <td>26</td>\n",
       "      <td>51</td>\n",
       "      <td>76</td>\n",
       "      <td>55</td>\n",
       "    </tr>\n",
       "  </tbody>\n",
       "</table>\n",
       "</div>"
      ],
      "text/plain": [
       "       Joel B.Pollak  Ian Hanchett  Jerome Hudson  John Hayward  AWR Hawkins  \\\n",
       "month                                                                          \n",
       "1                 22            53             21            29           53   \n",
       "2                 26            62             22            36           41   \n",
       "3                 23            48             18            47           37   \n",
       "4                 19            39             33            31           37   \n",
       "5                 33            24             48            36           34   \n",
       "6                 26            13             53            38           77   \n",
       "7                 60            39             54            36           52   \n",
       "8                 41            31             66            51           47   \n",
       "9                 44            27             36            69           38   \n",
       "10                43            26             34            46           35   \n",
       "11                46            29             42            55           29   \n",
       "12                37            38             56            47           45   \n",
       "\n",
       "       Daniel Nussbaum  Alex Swoyer  Charlie Spiering  Pam Key  Breitbart News  \n",
       "month                                                                           \n",
       "1                   51           61                56       61             134  \n",
       "2                   42           45                61       61              98  \n",
       "3                   42           47                38       73             148  \n",
       "4                   41           65                60       81             124  \n",
       "5                   47           71                44       75             105  \n",
       "6                   53           47                52       54             114  \n",
       "7                   44           47                20       67             143  \n",
       "8                   45           54                69       69             107  \n",
       "9                   62           44                83       67              99  \n",
       "10                  35           43                67       65              89  \n",
       "11                  33           39                60       71             105  \n",
       "12                  38           26                51       76              55  "
      ]
     },
     "execution_count": 28,
     "metadata": {},
     "output_type": "execute_result"
    }
   ],
   "source": [
    "df_2016_nonan_authors_groupby_month = df_2016_nonan_authors.groupby('month').sum()\n",
    "df_2016_nonan_authors_groupby_month_top10 = df_2016_nonan_authors_groupby_month[list(df_authors_sortby_publ_top10['author'])]\n",
    "df_2016_nonan_authors_groupby_month_top10"
   ]
  },
  {
   "cell_type": "code",
   "execution_count": 516,
   "metadata": {},
   "outputs": [],
   "source": [
    "# df_2016_nonan_authors_groupby_month_top10 = pickle.load(\n",
    "#   open(\"articles_2016_without_nan_authors_groupby_month_top10\", \"rb\"))"
   ]
  },
  {
   "cell_type": "code",
   "execution_count": 518,
   "metadata": {},
   "outputs": [
    {
     "name": "stdout",
     "output_type": "stream",
     "text": [
      "Максимальное количество публикаций одного автора в 2016 году: 1321\n"
     ]
    }
   ],
   "source": [
    "max_publ_2016 = max(df_2016_nonan_authors_groupby_month_top10.sum(axis=0))\n",
    "print('Максимальное количество публикаций одного автора в 2016 году: {}'.format(max_publ_2016))"
   ]
  },
  {
   "cell_type": "code",
   "execution_count": 517,
   "metadata": {},
   "outputs": [
    {
     "data": {
      "text/html": [
       "<div>\n",
       "<style scoped>\n",
       "    .dataframe tbody tr th:only-of-type {\n",
       "        vertical-align: middle;\n",
       "    }\n",
       "\n",
       "    .dataframe tbody tr th {\n",
       "        vertical-align: top;\n",
       "    }\n",
       "\n",
       "    .dataframe thead th {\n",
       "        text-align: right;\n",
       "    }\n",
       "</style>\n",
       "<table border=\"1\" class=\"dataframe\">\n",
       "  <thead>\n",
       "    <tr style=\"text-align: right;\">\n",
       "      <th></th>\n",
       "      <th>Joel B.Pollak</th>\n",
       "      <th>Ian Hanchett</th>\n",
       "      <th>Jerome Hudson</th>\n",
       "      <th>John Hayward</th>\n",
       "      <th>AWR Hawkins</th>\n",
       "      <th>Daniel Nussbaum</th>\n",
       "      <th>Alex Swoyer</th>\n",
       "      <th>Charlie Spiering</th>\n",
       "      <th>Pam Key</th>\n",
       "      <th>Breitbart News</th>\n",
       "    </tr>\n",
       "    <tr>\n",
       "      <th>month</th>\n",
       "      <th></th>\n",
       "      <th></th>\n",
       "      <th></th>\n",
       "      <th></th>\n",
       "      <th></th>\n",
       "      <th></th>\n",
       "      <th></th>\n",
       "      <th></th>\n",
       "      <th></th>\n",
       "      <th></th>\n",
       "    </tr>\n",
       "  </thead>\n",
       "  <tbody>\n",
       "    <tr>\n",
       "      <th>1</th>\n",
       "      <td>22</td>\n",
       "      <td>53</td>\n",
       "      <td>21</td>\n",
       "      <td>29</td>\n",
       "      <td>53</td>\n",
       "      <td>51</td>\n",
       "      <td>61</td>\n",
       "      <td>56</td>\n",
       "      <td>61</td>\n",
       "      <td>134</td>\n",
       "    </tr>\n",
       "    <tr>\n",
       "      <th>2</th>\n",
       "      <td>26</td>\n",
       "      <td>62</td>\n",
       "      <td>22</td>\n",
       "      <td>36</td>\n",
       "      <td>41</td>\n",
       "      <td>42</td>\n",
       "      <td>45</td>\n",
       "      <td>61</td>\n",
       "      <td>61</td>\n",
       "      <td>98</td>\n",
       "    </tr>\n",
       "    <tr>\n",
       "      <th>3</th>\n",
       "      <td>23</td>\n",
       "      <td>48</td>\n",
       "      <td>18</td>\n",
       "      <td>47</td>\n",
       "      <td>37</td>\n",
       "      <td>42</td>\n",
       "      <td>47</td>\n",
       "      <td>38</td>\n",
       "      <td>73</td>\n",
       "      <td>148</td>\n",
       "    </tr>\n",
       "    <tr>\n",
       "      <th>4</th>\n",
       "      <td>19</td>\n",
       "      <td>39</td>\n",
       "      <td>33</td>\n",
       "      <td>31</td>\n",
       "      <td>37</td>\n",
       "      <td>41</td>\n",
       "      <td>65</td>\n",
       "      <td>60</td>\n",
       "      <td>81</td>\n",
       "      <td>124</td>\n",
       "    </tr>\n",
       "    <tr>\n",
       "      <th>5</th>\n",
       "      <td>33</td>\n",
       "      <td>24</td>\n",
       "      <td>48</td>\n",
       "      <td>36</td>\n",
       "      <td>34</td>\n",
       "      <td>47</td>\n",
       "      <td>71</td>\n",
       "      <td>44</td>\n",
       "      <td>75</td>\n",
       "      <td>105</td>\n",
       "    </tr>\n",
       "    <tr>\n",
       "      <th>6</th>\n",
       "      <td>26</td>\n",
       "      <td>13</td>\n",
       "      <td>53</td>\n",
       "      <td>38</td>\n",
       "      <td>77</td>\n",
       "      <td>53</td>\n",
       "      <td>47</td>\n",
       "      <td>52</td>\n",
       "      <td>54</td>\n",
       "      <td>114</td>\n",
       "    </tr>\n",
       "    <tr>\n",
       "      <th>7</th>\n",
       "      <td>60</td>\n",
       "      <td>39</td>\n",
       "      <td>54</td>\n",
       "      <td>36</td>\n",
       "      <td>52</td>\n",
       "      <td>44</td>\n",
       "      <td>47</td>\n",
       "      <td>20</td>\n",
       "      <td>67</td>\n",
       "      <td>143</td>\n",
       "    </tr>\n",
       "    <tr>\n",
       "      <th>8</th>\n",
       "      <td>41</td>\n",
       "      <td>31</td>\n",
       "      <td>66</td>\n",
       "      <td>51</td>\n",
       "      <td>47</td>\n",
       "      <td>45</td>\n",
       "      <td>54</td>\n",
       "      <td>69</td>\n",
       "      <td>69</td>\n",
       "      <td>107</td>\n",
       "    </tr>\n",
       "    <tr>\n",
       "      <th>9</th>\n",
       "      <td>44</td>\n",
       "      <td>27</td>\n",
       "      <td>36</td>\n",
       "      <td>69</td>\n",
       "      <td>38</td>\n",
       "      <td>62</td>\n",
       "      <td>44</td>\n",
       "      <td>83</td>\n",
       "      <td>67</td>\n",
       "      <td>99</td>\n",
       "    </tr>\n",
       "    <tr>\n",
       "      <th>10</th>\n",
       "      <td>43</td>\n",
       "      <td>26</td>\n",
       "      <td>34</td>\n",
       "      <td>46</td>\n",
       "      <td>35</td>\n",
       "      <td>35</td>\n",
       "      <td>43</td>\n",
       "      <td>67</td>\n",
       "      <td>65</td>\n",
       "      <td>89</td>\n",
       "    </tr>\n",
       "    <tr>\n",
       "      <th>11</th>\n",
       "      <td>46</td>\n",
       "      <td>29</td>\n",
       "      <td>42</td>\n",
       "      <td>55</td>\n",
       "      <td>29</td>\n",
       "      <td>33</td>\n",
       "      <td>39</td>\n",
       "      <td>60</td>\n",
       "      <td>71</td>\n",
       "      <td>105</td>\n",
       "    </tr>\n",
       "    <tr>\n",
       "      <th>12</th>\n",
       "      <td>37</td>\n",
       "      <td>38</td>\n",
       "      <td>56</td>\n",
       "      <td>47</td>\n",
       "      <td>45</td>\n",
       "      <td>38</td>\n",
       "      <td>26</td>\n",
       "      <td>51</td>\n",
       "      <td>76</td>\n",
       "      <td>55</td>\n",
       "    </tr>\n",
       "  </tbody>\n",
       "</table>\n",
       "</div>"
      ],
      "text/plain": [
       "       Joel B.Pollak  Ian Hanchett  Jerome Hudson  John Hayward  AWR Hawkins  \\\n",
       "month                                                                          \n",
       "1                 22            53             21            29           53   \n",
       "2                 26            62             22            36           41   \n",
       "3                 23            48             18            47           37   \n",
       "4                 19            39             33            31           37   \n",
       "5                 33            24             48            36           34   \n",
       "6                 26            13             53            38           77   \n",
       "7                 60            39             54            36           52   \n",
       "8                 41            31             66            51           47   \n",
       "9                 44            27             36            69           38   \n",
       "10                43            26             34            46           35   \n",
       "11                46            29             42            55           29   \n",
       "12                37            38             56            47           45   \n",
       "\n",
       "       Daniel Nussbaum  Alex Swoyer  Charlie Spiering  Pam Key  Breitbart News  \n",
       "month                                                                           \n",
       "1                   51           61                56       61             134  \n",
       "2                   42           45                61       61              98  \n",
       "3                   42           47                38       73             148  \n",
       "4                   41           65                60       81             124  \n",
       "5                   47           71                44       75             105  \n",
       "6                   53           47                52       54             114  \n",
       "7                   44           47                20       67             143  \n",
       "8                   45           54                69       69             107  \n",
       "9                   62           44                83       67              99  \n",
       "10                  35           43                67       65              89  \n",
       "11                  33           39                60       71             105  \n",
       "12                  38           26                51       76              55  "
      ]
     },
     "execution_count": 517,
     "metadata": {},
     "output_type": "execute_result"
    }
   ],
   "source": [
    "df_2016_nonan_authors_groupby_month_top10"
   ]
  },
  {
   "cell_type": "code",
   "execution_count": 542,
   "metadata": {},
   "outputs": [
    {
     "name": "stdout",
     "output_type": "stream",
     "text": [
      "Максимальное количество в 1 месяце 2016 года: 580\n"
     ]
    }
   ],
   "source": [
    "max_publ_2016_by_month = max(df_2016_nonan_authors_groupby_month_top10.sum(axis=1))\n",
    "print('Максимальное количество в 1 месяце 2016 года: {}'.format(max_publ_2016_by_month))"
   ]
  },
  {
   "cell_type": "code",
   "execution_count": 520,
   "metadata": {},
   "outputs": [
    {
     "data": {
      "text/plain": [
       "(1321, 10)"
      ]
     },
     "execution_count": 520,
     "metadata": {},
     "output_type": "execute_result"
    }
   ],
   "source": [
    "df_for_hist = pd.DataFrame(np.nan, index=range(max_publ_2016), \n",
    "                           columns=df_2016_nonan_authors_groupby_month_top10.columns)\n",
    "df_for_hist.shape"
   ]
  },
  {
   "cell_type": "code",
   "execution_count": 521,
   "metadata": {},
   "outputs": [],
   "source": [
    "for author in df_2016_nonan_authors_groupby_month_top10.columns:\n",
    "    j = -1\n",
    "    for month in range(1, 13):\n",
    "        for i in range(df_2016_nonan_authors_groupby_month_top10[author][month]):\n",
    "            j += 1\n",
    "            df_for_hist[author][j] = month"
   ]
  },
  {
   "cell_type": "code",
   "execution_count": 541,
   "metadata": {},
   "outputs": [
    {
     "data": {
      "image/png": "[encoded data removed]",
      "text/plain": [
       "<matplotlib.figure.Figure at 0x193017b70>"
      ]
     },
     "metadata": {},
     "output_type": "display_data"
    }
   ],
   "source": [
    "df_for_hist.plot.hist(stacked=True, figsize=(8,8), bins=12)\n",
    "show()"
   ]
  },
  {
   "cell_type": "markdown",
   "metadata": {},
   "source": [
    "Визуализируем распределение количества публикаций по месяцам для 10 самых публикуемых авторов 2016 года с помощью гистограммы:"
   ]
  },
  {
   "cell_type": "markdown",
   "metadata": {},
   "source": [
    "### 2. (12 баллов) Sklearn and support vector machine\n",
    "\n",
    "![](https://www.analyticsvidhya.com/wp-content/uploads/2015/06/10945756_10202550638602268_6848260291113352290_n.jpg)\n",
    "\n",
    "В этом задании вы будете работать с данными из из репозитория UCI. Датасет называется [YouTube Spam Collection Data Set](https://archive.ics.uci.edu/ml/datasets/YouTube+Spam+Collection). На этом датасете вы будете решать задачу определения спама по комментарию к видео-ролику на Youtube.\n"
   ]
  },
  {
   "cell_type": "markdown",
   "metadata": {},
   "source": [
    "**1. (2 балла)** Скачайте данные из репозитория UCI (не меняйте названия исходных датасетов!). Объедените все пять таблиц в одну, добавив колонку ```'CLIP'``` с именем исполнителя в клипе. Выведите основную статиску датасета, ответив на вопросы: топ5 самых коротких/длинных комментариев? каково распределение между классами? сколько уникальных авторов комментариев в данных?"
   ]
  },
  {
   "cell_type": "code",
   "execution_count": 6,
   "metadata": {},
   "outputs": [],
   "source": [
    "import zipfile\n",
    "from io import BytesIO\n",
    "from zipfile import ZipFile\n",
    "from urllib.request import urlopen"
   ]
  },
  {
   "cell_type": "code",
   "execution_count": null,
   "metadata": {},
   "outputs": [],
   "source": [
    "# если ссылка работает\n",
    "url = urlopen(\"https://archive.ics.uci.edu/ml/machine-learning-databases/00380/YouTube-Spam-Collection-v1.zip\")\n",
    "zf = ZipFile(BytesIO(url.read()))\n",
    "match = [s for s in zf.namelist() if \".csv\" in s and '__MACOSX/.' not in s]\n",
    "match_clips = [re.findall('.*?-(.*).csv', s)[0] for s in zf.namelist() if \".csv\" in s and '__MACOSX/.' not in s]\n",
    "dfs = []\n",
    "for csv in match:\n",
    "    dfs.append(pd.read_csv(zf.open(csv), low_memory=False, encoding='utf-8'))\n",
    "match"
   ]
  },
  {
   "cell_type": "code",
   "execution_count": 9,
   "metadata": {},
   "outputs": [],
   "source": [
    "# если ссылка не работает\n",
    "from os import listdir\n",
    "from os.path import isfile, join\n",
    "onlyfiles = [f for f in listdir('YouTube-Spam-Collection-v1') if isfile(join('YouTube-Spam-Collection-v1', f))\n",
    "            and \".csv\" in f and '__MACOSX/.' not in f]\n",
    "match_clips = [re.findall('.*?-(.*).csv', s)[0] for s in onlyfiles if \".csv\" in s and '__MACOSX/.' not in s]\n",
    "dfs = []\n",
    "for csv in onlyfiles:\n",
    "    dfs.append(pd.read_csv('YouTube-Spam-Collection-v1/' + csv, low_memory=False, encoding='utf-8'))"
   ]
  },
  {
   "cell_type": "code",
   "execution_count": 10,
   "metadata": {},
   "outputs": [],
   "source": [
    "for i, df in enumerate(dfs):\n",
    "    df['CLIP'] = match_clips[i]"
   ]
  },
  {
   "cell_type": "code",
   "execution_count": 11,
   "metadata": {},
   "outputs": [
    {
     "name": "stdout",
     "output_type": "stream",
     "text": [
      "1956 comments\n"
     ]
    },
    {
     "data": {
      "text/html": [
       "<div>\n",
       "<style scoped>\n",
       "    .dataframe tbody tr th:only-of-type {\n",
       "        vertical-align: middle;\n",
       "    }\n",
       "\n",
       "    .dataframe tbody tr th {\n",
       "        vertical-align: top;\n",
       "    }\n",
       "\n",
       "    .dataframe thead th {\n",
       "        text-align: right;\n",
       "    }\n",
       "</style>\n",
       "<table border=\"1\" class=\"dataframe\">\n",
       "  <thead>\n",
       "    <tr style=\"text-align: right;\">\n",
       "      <th></th>\n",
       "      <th>COMMENT_ID</th>\n",
       "      <th>AUTHOR</th>\n",
       "      <th>DATE</th>\n",
       "      <th>CONTENT</th>\n",
       "      <th>CLASS</th>\n",
       "      <th>CLIP</th>\n",
       "    </tr>\n",
       "  </thead>\n",
       "  <tbody>\n",
       "    <tr>\n",
       "      <th>0</th>\n",
       "      <td>LZQPQhLyRh80UYxNuaDWhIGQYNQ96IuCg-AYWqNPjpU</td>\n",
       "      <td>Julius NM</td>\n",
       "      <td>2013-11-07T06:20:48</td>\n",
       "      <td>Huh, anyway check out this you[tube] channel: ...</td>\n",
       "      <td>1</td>\n",
       "      <td>Psy</td>\n",
       "    </tr>\n",
       "    <tr>\n",
       "      <th>1</th>\n",
       "      <td>LZQPQhLyRh_C2cTtd9MvFRJedxydaVW-2sNg5Diuo4A</td>\n",
       "      <td>adam riyati</td>\n",
       "      <td>2013-11-07T12:37:15</td>\n",
       "      <td>Hey guys check out my new channel and our firs...</td>\n",
       "      <td>1</td>\n",
       "      <td>Psy</td>\n",
       "    </tr>\n",
       "    <tr>\n",
       "      <th>2</th>\n",
       "      <td>LZQPQhLyRh9MSZYnf8djyk0gEF9BHDPYrrK-qCczIY8</td>\n",
       "      <td>Evgeny Murashkin</td>\n",
       "      <td>2013-11-08T17:34:21</td>\n",
       "      <td>just for test I have to say murdev.com</td>\n",
       "      <td>1</td>\n",
       "      <td>Psy</td>\n",
       "    </tr>\n",
       "    <tr>\n",
       "      <th>3</th>\n",
       "      <td>z13jhp0bxqncu512g22wvzkasxmvvzjaz04</td>\n",
       "      <td>ElNino Melendez</td>\n",
       "      <td>2013-11-09T08:28:43</td>\n",
       "      <td>me shaking my sexy ass on my channel enjoy ^_^ ﻿</td>\n",
       "      <td>1</td>\n",
       "      <td>Psy</td>\n",
       "    </tr>\n",
       "    <tr>\n",
       "      <th>4</th>\n",
       "      <td>z13fwbwp1oujthgqj04chlngpvzmtt3r3dw</td>\n",
       "      <td>GsMega</td>\n",
       "      <td>2013-11-10T16:05:38</td>\n",
       "      <td>watch?v=vtaRGgvGtWQ   Check this out .﻿</td>\n",
       "      <td>1</td>\n",
       "      <td>Psy</td>\n",
       "    </tr>\n",
       "  </tbody>\n",
       "</table>\n",
       "</div>"
      ],
      "text/plain": [
       "                                    COMMENT_ID            AUTHOR  \\\n",
       "0  LZQPQhLyRh80UYxNuaDWhIGQYNQ96IuCg-AYWqNPjpU         Julius NM   \n",
       "1  LZQPQhLyRh_C2cTtd9MvFRJedxydaVW-2sNg5Diuo4A       adam riyati   \n",
       "2  LZQPQhLyRh9MSZYnf8djyk0gEF9BHDPYrrK-qCczIY8  Evgeny Murashkin   \n",
       "3          z13jhp0bxqncu512g22wvzkasxmvvzjaz04   ElNino Melendez   \n",
       "4          z13fwbwp1oujthgqj04chlngpvzmtt3r3dw            GsMega   \n",
       "\n",
       "                  DATE                                            CONTENT  \\\n",
       "0  2013-11-07T06:20:48  Huh, anyway check out this you[tube] channel: ...   \n",
       "1  2013-11-07T12:37:15  Hey guys check out my new channel and our firs...   \n",
       "2  2013-11-08T17:34:21             just for test I have to say murdev.com   \n",
       "3  2013-11-09T08:28:43   me shaking my sexy ass on my channel enjoy ^_^ ﻿   \n",
       "4  2013-11-10T16:05:38            watch?v=vtaRGgvGtWQ   Check this out .﻿   \n",
       "\n",
       "   CLASS CLIP  \n",
       "0      1  Psy  \n",
       "1      1  Psy  \n",
       "2      1  Psy  \n",
       "3      1  Psy  \n",
       "4      1  Psy  "
      ]
     },
     "execution_count": 11,
     "metadata": {},
     "output_type": "execute_result"
    }
   ],
   "source": [
    "df = dfs[0].append(dfs[1:])\n",
    "df = df.reset_index(drop=True)\n",
    "print(len(df), 'comments')\n",
    "df.head()"
   ]
  },
  {
   "cell_type": "markdown",
   "metadata": {},
   "source": [
    "Отсортируем датасет по длине комментария:"
   ]
  },
  {
   "cell_type": "code",
   "execution_count": 50,
   "metadata": {},
   "outputs": [],
   "source": [
    "df['len_of_content'] = pd.Series([len(i) for i in df['CONTENT']])\n",
    "df_sorted_by_len_of_content = df.sort_values(by=['len_of_content'])"
   ]
  },
  {
   "cell_type": "markdown",
   "metadata": {},
   "source": [
    "Топ-5 самых коротких комментариев:"
   ]
  },
  {
   "cell_type": "code",
   "execution_count": 51,
   "metadata": {},
   "outputs": [
    {
     "data": {
      "text/html": [
       "<div>\n",
       "<style scoped>\n",
       "    .dataframe tbody tr th:only-of-type {\n",
       "        vertical-align: middle;\n",
       "    }\n",
       "\n",
       "    .dataframe tbody tr th {\n",
       "        vertical-align: top;\n",
       "    }\n",
       "\n",
       "    .dataframe thead th {\n",
       "        text-align: right;\n",
       "    }\n",
       "</style>\n",
       "<table border=\"1\" class=\"dataframe\">\n",
       "  <thead>\n",
       "    <tr style=\"text-align: right;\">\n",
       "      <th></th>\n",
       "      <th>COMMENT_ID</th>\n",
       "      <th>AUTHOR</th>\n",
       "      <th>DATE</th>\n",
       "      <th>CONTENT</th>\n",
       "      <th>CLASS</th>\n",
       "      <th>CLIP</th>\n",
       "      <th>len_of_content</th>\n",
       "    </tr>\n",
       "  </thead>\n",
       "  <tbody>\n",
       "    <tr>\n",
       "      <th>1821</th>\n",
       "      <td>_2viQ_Qnc6-M2Gjq_TCThUeRGBbSNsclbeFll-ETDD8</td>\n",
       "      <td>ben mashall</td>\n",
       "      <td>2013-10-02T13:42:21.938000</td>\n",
       "      <td>:)</td>\n",
       "      <td>0</td>\n",
       "      <td>Shakira</td>\n",
       "      <td>2</td>\n",
       "    </tr>\n",
       "    <tr>\n",
       "      <th>1825</th>\n",
       "      <td>_2viQ_Qnc6_bcubCrs8YncM7B9016OeduR9RR-cKRb4</td>\n",
       "      <td>Kenji Bustalinio</td>\n",
       "      <td>2013-10-02T11:46:51.783000</td>\n",
       "      <td>:)</td>\n",
       "      <td>0</td>\n",
       "      <td>Shakira</td>\n",
       "      <td>2</td>\n",
       "    </tr>\n",
       "    <tr>\n",
       "      <th>1868</th>\n",
       "      <td>_2viQ_Qnc69saopRmKcZavlgi69aQhlFsDzUkMqZ1xQ</td>\n",
       "      <td>jemy Abdulrahman</td>\n",
       "      <td>2013-09-05T19:30:37.124000</td>\n",
       "      <td>WOw</td>\n",
       "      <td>0</td>\n",
       "      <td>Shakira</td>\n",
       "      <td>3</td>\n",
       "    </tr>\n",
       "    <tr>\n",
       "      <th>1462</th>\n",
       "      <td>z13zdpqz0qflhrha104cdxir0pbct3v4iys0k</td>\n",
       "      <td>France Silva</td>\n",
       "      <td>2015-05-21T21:54:55.768000</td>\n",
       "      <td>BR﻿</td>\n",
       "      <td>0</td>\n",
       "      <td>Eminem</td>\n",
       "      <td>3</td>\n",
       "    </tr>\n",
       "    <tr>\n",
       "      <th>1934</th>\n",
       "      <td>_2viQ_Qnc6-3Nk200KmVtS-kiCS_1CjKJsMIbXakyfI</td>\n",
       "      <td>hsn moghrbi</td>\n",
       "      <td>2013-07-17T21:14:40.168000</td>\n",
       "      <td>wow</td>\n",
       "      <td>0</td>\n",
       "      <td>Shakira</td>\n",
       "      <td>3</td>\n",
       "    </tr>\n",
       "  </tbody>\n",
       "</table>\n",
       "</div>"
      ],
      "text/plain": [
       "                                       COMMENT_ID            AUTHOR  \\\n",
       "1821  _2viQ_Qnc6-M2Gjq_TCThUeRGBbSNsclbeFll-ETDD8       ben mashall   \n",
       "1825  _2viQ_Qnc6_bcubCrs8YncM7B9016OeduR9RR-cKRb4  Kenji Bustalinio   \n",
       "1868  _2viQ_Qnc69saopRmKcZavlgi69aQhlFsDzUkMqZ1xQ  jemy Abdulrahman   \n",
       "1462        z13zdpqz0qflhrha104cdxir0pbct3v4iys0k      France Silva   \n",
       "1934  _2viQ_Qnc6-3Nk200KmVtS-kiCS_1CjKJsMIbXakyfI       hsn moghrbi   \n",
       "\n",
       "                            DATE CONTENT  CLASS     CLIP  len_of_content  \n",
       "1821  2013-10-02T13:42:21.938000      :)      0  Shakira               2  \n",
       "1825  2013-10-02T11:46:51.783000      :)      0  Shakira               2  \n",
       "1868  2013-09-05T19:30:37.124000     WOw      0  Shakira               3  \n",
       "1462  2015-05-21T21:54:55.768000     BR﻿      0   Eminem               3  \n",
       "1934  2013-07-17T21:14:40.168000     wow      0  Shakira               3  "
      ]
     },
     "execution_count": 51,
     "metadata": {},
     "output_type": "execute_result"
    }
   ],
   "source": [
    "df_sorted_by_len_of_content[:5]"
   ]
  },
  {
   "cell_type": "markdown",
   "metadata": {},
   "source": [
    "Топ-5 самых длинных комментариев:"
   ]
  },
  {
   "cell_type": "code",
   "execution_count": 53,
   "metadata": {},
   "outputs": [
    {
     "name": "stdout",
     "output_type": "stream",
     "text": [
      "This great Warning will happen soon. ,0\n",
      "LneaDw26bFst76VHKJL8PxaEy6VMNlvmriUDTSFK6vY,Ali Paša,2013-09-26T22:28:17.047000,Croatia &lt;3,0\n",
      "LneaDw26bFvkAHxpKEnM25FYWkyXthsUpri6JuQsZnU,G Belrus,2013-09-26T22:26:12.832000,Nice one,0\n",
      "LneaDw26bFtvZQt6JUEhasIEFRJG1exI_dVqdnQVPho,exode. comeback.,2013-09-26T22:23:00.710000,600m views.,0\n",
      "LneaDw26bFunOarAg71AwGU6TJO6aZDKFIUn_TZ1_HY,Muhammad Shaeel Abbas,2013-09-26T22:15:45.476000,Fuck off!,0\n",
      "LneaDw26bFt-oToUFj0z3vffLFNaxyKwZSIVQhiMx-E,Notorious Niko,2013-09-26T22:00:43.613000,\"Hey guys im a 17yr old rapper trying to get exposure... I live in belgium where NO ONE speaks english so i have to resort to this gay SPAM...  Check out my 2 latest tracks as they are probably my best.. Audio isnt the best but im gonna invest in some real equipment for my next track..  Please Thumbs this up so others can see.. or hey dont just check me out yourself and leave a response and a like :D  Thanks in advance, you guys will be part of making my dream come TRUE   -Notorious Niko \n",
      "----------------------------------------\n",
      "im sorry for the spam but My name is Jenny. I go to high school where  everyone dresses fashionable but for me I don't because i need money to buy  cute clothes. I have low self esteem . I live with my dad. my mom passed  away when i was 6 so i don't really have a mother figure. I have 2 brothers  who is older than me. Since they are boys they get the attention while i  just be alone. I really want to wear pretty clothes like the girls in my  school and get a boyfriend. i just can't be my self. im very quite and shy  at school because i don't have the confidence in myself to talk to someone.  i did have one friend name Caroline but she moved away so now im alone. if  you could donate some money to me it would be great. i don't care about  expensive brand ill just shop at walmart because they have pretty clothes.  also i wanna get my nails done at a salon . i see alot of girls have these  french tips. i never had my nail did at a salon before i will really  appreciate if i can and get my hair curled too. http://www.gofundme.com/dressprettyonce thanks omg please.﻿\n",
      "----------------------------------------\n",
      "http://www.googleadservices.com/pagead/aclk?sa=L&amp;ai=CSyOEB1wxVPCfL7D27AbGpYDgBJDPm6IH6MHu05wBgJXbv8sBEAEgkN7lJVCF7byH_f____8BYIOFgICAHKABsKG31wPIAQKpAh_KmC0hBpM-qAMByAPBBKoEkwFP0KullxqI1MG6o43HVzE-eFMqRG4Tu5LLBU_fsZ8gn0HBkJhBX-m83W1TS3_3Dx_HwPdX1Kazsj8o7SIEcVJjmBNsWyiJEcqvHXLbdzStUBOFaloYInWm0_rOOCppS2AuAT6zguICKm0lI83duwMAbzqvenE8TRfAzOrltBb037VzYv_XI4hBNQ2nvh19MrBgE0SIBgGgBgKAB7jeyCg&amp;num=1&amp;cid=5Ggs_m_9mA3TI40fS6mVPICS&amp;sig=AOD64_1OFC7Seh_1pOp-jYrbS7X6-heeNQ&amp;client=ca-pub-8252267209931889&amp;adurl=http://blog.2parale.ro/2014/10/challenge-pentru-afiliati-aplica-la-noile-programe-de-afiliere-si-fii-business-boomerul-lunii/&amp;nm=2&amp;mb=2&amp;bg=!A0QoUc7Q48v3_QIAAABpUgAAACsqAR0_VgOQWQxjmPUyvKoSf3K-q1BvKf9ZE4jhNC3ovckKxCbAFzZpAJiBXWBvVq4jrDgZ8q3rInlwgaBy_bXlfw7ma6dk0RJG14ZkRyizwqdi7HxgGE9tNDD9abflTFkBMbFfcJixNtHwbwkJ6N2onLH2D9EvEagPhoEwXOgBnu5ibgtRkgnAcQ1OIbgMzgAFNSc0lsaRiqj8HQR8T12dWv_7biY4k6I3y4yubloTdE_4XVKlnVeADZzF1L_xRYQkE6Wsur3EdLJWGk8fLq_QALdI-wAzNuysgqjNRDY6VucKLplZONyiSdKc9ebX-0dbHjZdW0LbsJBi40gXm0D0p5KRhv8XInQlI53__wQBaHS8zX4MJHw5vWrkPXFOeKs ﻿\n",
      "----------------------------------------\n",
      "Support the fight for your 4th amendment right to privacy in your home.  Stop the NSA spying on Americans with the un Patriot Act Renewal. Rand Paul has spent 10.5 hours on the Senate floor in a Protest and Filibuster fighting for our  Constitution that this Nation is founded on. Join the fight at Rand Paul dot com. Spread The Word. We Have Someone That Cares About Our Nation.  Email your Senators, Congress men and women, tell them to support Rand. Tell the news to support Rand too Senator Rand Paul was up until <a href=\"http://www.youtube.com/watch?v=pRpeEdMmmQ0&amp;t=1m00s\">1:00</a> am this passed Saturday morning fighting for our Constitution buy postponing the vote until this week. Our Constitution Matters join Rand in the fight to protect <a href=\"http://it.ht\">it.ht</a> to privacy in your home and business.. Senator Rand Paul was up until <a href=\"http://www.youtube.com/watch?v=pRpeEdMmmQ0&amp;t=1m00s\">1:00</a> am this passed Saturday  morning fighting for our Constitution buy postponing the vote until this week. Our Constitution Matters To All Of US, Help Rand Protect It by joining the fright for it.﻿\n",
      "----------------------------------------\n",
      "&lt;script&gt;document.write('&lt;a target=\"_self\" href=\" http://rover.ebay.com/rover/1/710-53481-19255-0/1?icep_ff3=1&amp;pub=5575096797&amp;toolid=10001&amp;campid=5337555197&amp;customid=bogdan+grigore&amp;ipn=psmain&amp;icep_vectorid=229508&amp;kwid=902099&amp;mtid=824&amp;kw=lg\"&gt;check  this out new arive on ebay&lt;/a&gt;&lt;img  style=\"text-decoration:none;border:0;padding:0;margin:0;\" src=\" http://rover.ebay.com/roverimp/1/710-53481-19255-0/1?ff3=1&amp;pub=5575096797&amp;toolid=10001&amp;campid=5337555197&amp;customid=bogdan+grigore&amp;mpt='+Math.floor(Math.random()*999999999)+'\"&gt;');&lt;/script&gt;&lt;noscript&gt;&lt;a  target=\"_self\" href=\" http://rover.ebay.com/rover/1/710-53481-19255-0/1?icep_ff3=1&amp;pub=5575096797&amp;toolid=10001&amp;campid=5337555197&amp;customid=bogdan+grigore&amp;ipn=psmain&amp;icep_vectorid=229508&amp;kwid=902099&amp;mtid=824&amp;kw=lg\"&gt;check  this out new arive on ebay&lt;/a&gt;&lt;img  style=\"text-decoration:none;border:0;padding:0;margin:0;\" src=\" http://rover.ebay.com/roverimp/1/710-53481-19255-0/1?ff3=1&amp;pub=5575096797&amp;toolid=10001&amp;campid=5337555197&amp;customid=bogdan+grigore&amp;mpt=[CACHEBUSTER] \"&gt;&lt;/noscript&gt;﻿\n",
      "----------------------------------------\n"
     ]
    }
   ],
   "source": [
    "for comment in df_sorted_by_len_of_content['CONTENT'][-5:]:\n",
    "    print(comment)\n",
    "    print('-'*40)"
   ]
  },
  {
   "cell_type": "code",
   "execution_count": 54,
   "metadata": {},
   "outputs": [
    {
     "name": "stdout",
     "output_type": "stream",
     "text": [
      "Labels of classes: [0 1]\n",
      "Class distribution:\n",
      "1    0.51\n",
      "0    0.49\n",
      "Name: CLASS, dtype: float64\n"
     ]
    }
   ],
   "source": [
    "print('Labels of classes:', np.unique(df['CLASS']))\n",
    "print('Class distribution:',\n",
    "      np.round(df['CLASS'].value_counts() / len(df), 2), sep='\\n')"
   ]
  },
  {
   "cell_type": "code",
   "execution_count": 56,
   "metadata": {},
   "outputs": [
    {
     "name": "stdout",
     "output_type": "stream",
     "text": [
      "1792 authors of comments\n"
     ]
    }
   ],
   "source": [
    "print(len(np.unique(df['AUTHOR'])), 'authors of comments')"
   ]
  },
  {
   "cell_type": "markdown",
   "metadata": {},
   "source": [
    "Классы распределены практически равномерно: 49% выборки является неспамом и 51& - спамом. Самые короткие комментари - смайлики и междометия, самые длинные - спам и ссылки. Всего 1792 автора на 1956 комментариев."
   ]
  },
  {
   "cell_type": "markdown",
   "metadata": {},
   "source": [
    "**2. (2 балла)** Перед тем как воспользоваться методом главных компонент на текстовых данных их надо преобразовать в числовые. В этом задании вам предется самим разобраться с простой векторной моделью ```bag of words```. В этом вам помогут ссылки [wiki](https://en.wikipedia.org/wiki/Bag-of-words_model), [stackoverflow](https://stackoverflow.com/questions/44083683/countvectorizer-with-pandas-dataframe), [github](https://gist.github.com/kovid-rathee/3bdd9334409d583e6ee6430b8e45516d). Создайте векторное представление колонки ```'CONTENT'```, для этого используйте [sklearn.feature_extraction.text.CountVectorizer](http://scikit-learn.org/stable/modules/generated/sklearn.feature_extraction.text.CountVectorizer.html). В конструкторе задайте параметры ```lowercase=True```, ```stop_words='english'```. Полученное преобразование занесите в переменную `X`. Также отделите от исходного датафрейма целевую метку класса в переменную `y`. Разбейте данные на обучающую и тестовую выборки в отношении `7:3`, добавьте сответственно суффиксы `train` и `test` к переменным `X` и `y`."
   ]
  },
  {
   "cell_type": "code",
   "execution_count": 12,
   "metadata": {},
   "outputs": [],
   "source": [
    "from sklearn.feature_extraction.text import TfidfVectorizer, CountVectorizer\n",
    "from sklearn.model_selection import train_test_split"
   ]
  },
  {
   "cell_type": "code",
   "execution_count": 27,
   "metadata": {},
   "outputs": [],
   "source": [
    "def myCountVectorizer(df):\n",
    "    tf_vectorizer = CountVectorizer(lowercase=True,\n",
    "                                stop_words='english')\n",
    "    tf = tf_vectorizer.fit_transform(df['CONTENT'])\n",
    "    X = pd.DataFrame()\n",
    "    for i, col in tqdm(enumerate(tf_vectorizer.get_feature_names())):\n",
    "        X[col] = pd.SparseSeries(tf[:, i].toarray().ravel(), fill_value=0)\n",
    "    y = df['CLASS']\n",
    "    return X, y"
   ]
  },
  {
   "cell_type": "code",
   "execution_count": 86,
   "metadata": {},
   "outputs": [
    {
     "name": "stderr",
     "output_type": "stream",
     "text": [
      "4229it [01:11, 58.75it/s] \n"
     ]
    }
   ],
   "source": [
    "X, y = myCountVectorizer(df)"
   ]
  },
  {
   "cell_type": "code",
   "execution_count": 87,
   "metadata": {},
   "outputs": [
    {
     "data": {
      "text/plain": [
       "(1956, 4229)"
      ]
     },
     "execution_count": 87,
     "metadata": {},
     "output_type": "execute_result"
    }
   ],
   "source": [
    "X.shape"
   ]
  },
  {
   "cell_type": "code",
   "execution_count": 14,
   "metadata": {},
   "outputs": [],
   "source": [
    "# pickle.dump(X, open(\"df_Youtube_CountVect\", \"wb\"))\n",
    "X = pickle.load(open(\"df_Youtube_CountVect\", \"rb\"))\n",
    "y = df['CLASS']"
   ]
  },
  {
   "cell_type": "code",
   "execution_count": 15,
   "metadata": {},
   "outputs": [],
   "source": [
    "X_train, X_test, y_train, y_test = train_test_split(X, y, test_size=0.3, random_state=42)"
   ]
  },
  {
   "cell_type": "markdown",
   "metadata": {},
   "source": [
    "**3. (4 балла)** Обучите метод опорных векторов с различными гиперпараметрами на данных полученных в предыдущем задании. Для этого используйте класс [sklearn.svm.SVC](http://scikit-learn.org/stable/modules/generated/sklearn.svm.SVC.html) с общим параметром `class_weight='balanced'`. Для перебора параметров используйте [sklearn.model_selection.GridSearchCV](http://scikit-learn.org/stable/modules/generated/sklearn.model_selection.GridSearchCV.html) с параметрами `cv=5`, `scoring='accuracy'`. Используйте разные ядра:\n",
    "\n",
    "- `kernel='linear'`, `C=[1.e-4, 1.e-3, 1.e-2, 1.e-1, 1, 2, 10, 50, 100, 1000]`\n",
    "- `kernel='rbf'`, `C=[...]`, `gamma=['auto', 1.e-4, 1.e-3, 1.e-2, 1.e-2]`\n",
    "- `kernel='poly'`, `C=[...]`, `degree=[2, 3, 5, 11]`\n",
    "\n",
    "Ответьте на вопросы. Для каких гиперпараметров модели получились переобученными? Модели с каким ядром работают хуже/лучше? Как вы думаете почему?\n",
    "\n",
    "Выберите лучшую модель и ответьте на вопросы. Сколько опорных векторов в модели? Выведите комментарии, соответствующие опорным векторам-нарушителям, граничным опорным векторам. Для тестовых данных найдите комментарии с наибольшим и наименьшим отступом от разделяющей гиперплоскости. Объясните почему получаются такие результаты. Найдите топ10 слов наиболее голосующих за спамные комментарии. Также объясните почему получаются такие результаты."
   ]
  },
  {
   "cell_type": "code",
   "execution_count": 16,
   "metadata": {},
   "outputs": [],
   "source": [
    "from sklearn.svm import SVC\n",
    "from sklearn.model_selection import GridSearchCV\n",
    "from sklearn.metrics import accuracy_score"
   ]
  },
  {
   "cell_type": "code",
   "execution_count": 17,
   "metadata": {},
   "outputs": [],
   "source": [
    "svc_params_linear = {'kernel': ['linear'],\n",
    "                     'C': [1.e-4, 1.e-3, 1.e-2, 1.e-1, 1, 2, 10, 50, 100, 1000]}\n",
    "svc_params_rbf = {'kernel': ['rbf'],\n",
    "                  'C': [1.e-4, 1.e-3, 1.e-2, 1.e-1, 1, 2, 10, 50, 100, 1000],\n",
    "                  'gamma': ['auto', 1.e-4, 1.e-3, 1.e-2]}\n",
    "svc_params_poly = {'kernel': ['poly'],\n",
    "                   'C': [1.e-4, 1.e-3, 1.e-2, 1.e-1, 1, 2, 10, 50, 100, 1000],\n",
    "                   'degree': [2, 3, 5, 11]}\n",
    "kernels = ['linear', 'rbf', 'poly']\n",
    "# 90 комбинаций"
   ]
  },
  {
   "cell_type": "code",
   "execution_count": 27,
   "metadata": {},
   "outputs": [],
   "source": [
    "def add_metrics(metrics, value, name, kernel):\n",
    "    metrics.loc[name, kernel] = value"
   ]
  },
  {
   "cell_type": "code",
   "execution_count": 30,
   "metadata": {
    "collapsed": true
   },
   "outputs": [
    {
     "name": "stdout",
     "output_type": "stream",
     "text": [
      "Fitting 5 folds for each of 10 candidates, totalling 50 fits\n",
      "[CV] C=0.0001, kernel=linear .........................................\n",
      "[CV] C=0.0001, kernel=linear .........................................\n",
      "[CV] C=0.0001, kernel=linear .........................................\n",
      "[CV] C=0.0001, kernel=linear .........................................\n",
      "[CV]  C=0.0001, kernel=linear, score=0.4927007299270073, total=  16.2s\n",
      "[CV]  C=0.0001, kernel=linear, score=0.4927007299270073, total=  16.3s\n",
      "[CV] C=0.0001, kernel=linear .........................................\n",
      "[CV]  C=0.0001, kernel=linear, score=0.4927007299270073, total=  16.4s\n",
      "[CV] C=0.001, kernel=linear ..........................................\n",
      "[CV] C=0.001, kernel=linear ..........................................\n",
      "[CV]  C=0.0001, kernel=linear, score=0.4927007299270073, total=  16.7s\n",
      "[CV] C=0.001, kernel=linear ..........................................\n",
      "[CV]  C=0.0001, kernel=linear, score=0.4908424908424908, total=  16.0s\n"
     ]
    },
    {
     "name": "stderr",
     "output_type": "stream",
     "text": [
      "[Parallel(n_jobs=4)]: Done   5 tasks      | elapsed:   53.8s\n"
     ]
    },
    {
     "name": "stdout",
     "output_type": "stream",
     "text": [
      "[CV] .. C=0.001, kernel=linear, score=0.551094890510949, total=  15.8s\n",
      "[CV] C=0.001, kernel=linear ..........................................\n",
      "[CV] . C=0.001, kernel=linear, score=0.5218978102189781, total=  16.0s\n",
      "[CV] C=0.001, kernel=linear ..........................................\n",
      "[CV] C=0.01, kernel=linear ...........................................\n",
      "[CV] .. C=0.001, kernel=linear, score=0.583941605839416, total=  16.5s\n",
      "[CV] C=0.01, kernel=linear ...........................................\n",
      "[CV] .. C=0.01, kernel=linear, score=0.8540145985401459, total=  12.9s\n",
      "[CV] C=0.01, kernel=linear ...........................................\n",
      "[CV] .. C=0.01, kernel=linear, score=0.8467153284671532, total=  13.3s\n"
     ]
    },
    {
     "name": "stderr",
     "output_type": "stream",
     "text": [
      "[Parallel(n_jobs=4)]: Done  10 tasks      | elapsed:  1.3min\n"
     ]
    },
    {
     "name": "stdout",
     "output_type": "stream",
     "text": [
      "[CV] . C=0.001, kernel=linear, score=0.5401459854014599, total=  16.2s\n",
      "[CV] C=0.01, kernel=linear ...........................................\n",
      "[CV] . C=0.001, kernel=linear, score=0.5494505494505495, total=  16.1s\n",
      "[CV] C=0.01, kernel=linear ...........................................\n",
      "[CV] C=0.1, kernel=linear ............................................\n",
      "[CV] .... C=0.1, kernel=linear, score=0.916058394160584, total=   9.4s\n",
      "[CV] ... C=0.01, kernel=linear, score=0.864963503649635, total=  12.4s\n",
      "[CV] C=0.1, kernel=linear ............................................\n",
      "[CV] C=0.1, kernel=linear ............................................\n",
      "[CV] .. C=0.01, kernel=linear, score=0.8905109489051095, total=  12.2s\n",
      "[CV] C=0.1, kernel=linear ............................................\n",
      "[CV] .. C=0.01, kernel=linear, score=0.8754578754578755, total=  12.4s\n",
      "[CV] C=0.1, kernel=linear ............................................\n",
      "[CV] ... C=0.1, kernel=linear, score=0.9233576642335767, total=   9.7s\n"
     ]
    },
    {
     "name": "stderr",
     "output_type": "stream",
     "text": [
      "[Parallel(n_jobs=4)]: Done  17 tasks      | elapsed:  1.9min\n"
     ]
    },
    {
     "name": "stdout",
     "output_type": "stream",
     "text": [
      "[CV] ... C=0.1, kernel=linear, score=0.9197080291970803, total=   9.2s\n",
      "[CV] C=1, kernel=linear ..............................................\n",
      "[CV] C=1, kernel=linear ..............................................\n",
      "[CV] .... C=0.1, kernel=linear, score=0.927007299270073, total=   9.5s\n",
      "[CV] C=1, kernel=linear ..............................................\n",
      "[CV] ... C=0.1, kernel=linear, score=0.9267399267399268, total=  10.1s\n",
      "[CV] C=1, kernel=linear ..............................................\n",
      "[CV] ..... C=1, kernel=linear, score=0.9416058394160584, total=   8.6s\n",
      "[CV] ..... C=1, kernel=linear, score=0.9525547445255474, total=   8.3s\n",
      "[CV] C=1, kernel=linear ..............................................\n",
      "[CV] ..... C=1, kernel=linear, score=0.9416058394160584, total=   8.3s\n",
      "[CV] C=2, kernel=linear ..............................................\n",
      "[CV] C=2, kernel=linear ..............................................\n",
      "[CV] ..... C=1, kernel=linear, score=0.9525547445255474, total=   9.8s\n"
     ]
    },
    {
     "name": "stderr",
     "output_type": "stream",
     "text": [
      "[Parallel(n_jobs=4)]: Done  24 tasks      | elapsed:  2.2min\n"
     ]
    },
    {
     "name": "stdout",
     "output_type": "stream",
     "text": [
      "[CV] C=2, kernel=linear ..............................................\n",
      "[CV] ..... C=1, kernel=linear, score=0.9560439560439561, total=  10.4s\n",
      "[CV] ..... C=2, kernel=linear, score=0.9416058394160584, total=   8.9s\n",
      "[CV] C=2, kernel=linear ..............................................\n",
      "[CV] ..... C=2, kernel=linear, score=0.9562043795620438, total=   8.4s\n",
      "[CV] C=2, kernel=linear ..............................................\n",
      "[CV] C=10, kernel=linear .............................................\n",
      "[CV] ..... C=2, kernel=linear, score=0.9343065693430657, total=   8.9s\n",
      "[CV] C=10, kernel=linear .............................................\n",
      "[CV] ..... C=2, kernel=linear, score=0.9562043795620438, total=   8.2s\n",
      "[CV] ..... C=2, kernel=linear, score=0.9560439560439561, total=   7.7s\n",
      "[CV] C=10, kernel=linear .............................................\n",
      "[CV] .... C=10, kernel=linear, score=0.9416058394160584, total=   7.6s\n",
      "[CV] C=10, kernel=linear .............................................\n",
      "[CV] C=10, kernel=linear .............................................\n",
      "[CV] .... C=10, kernel=linear, score=0.9562043795620438, total=   8.3s\n",
      "[CV] C=50, kernel=linear .............................................\n",
      "[CV] .... C=10, kernel=linear, score=0.9233576642335767, total= 7.1min\n"
     ]
    },
    {
     "name": "stderr",
     "output_type": "stream",
     "text": [
      "[Parallel(n_jobs=4)]: Done  33 tasks      | elapsed:  9.7min\n"
     ]
    },
    {
     "name": "stdout",
     "output_type": "stream",
     "text": [
      "[CV] .... C=10, kernel=linear, score=0.9452554744525548, total= 7.1min\n",
      "[CV] C=50, kernel=linear .............................................\n",
      "[CV] .... C=10, kernel=linear, score=0.9523809523809523, total= 7.1min\n",
      "[CV] C=50, kernel=linear .............................................\n",
      "[CV] C=50, kernel=linear .............................................\n",
      "[CV] .... C=50, kernel=linear, score=0.9416058394160584, total= 7.1min\n",
      "[CV] C=50, kernel=linear .............................................\n",
      "[CV] .... C=50, kernel=linear, score=0.9379562043795621, total=   7.9s\n",
      "[CV] C=100, kernel=linear ............................................\n",
      "[CV] .... C=50, kernel=linear, score=0.9087591240875912, total=   7.5s\n",
      "[CV] .... C=50, kernel=linear, score=0.9379562043795621, total=   7.2s\n",
      "[CV] C=100, kernel=linear ............................................\n",
      "[CV] C=100, kernel=linear ............................................\n",
      "[CV] .... C=50, kernel=linear, score=0.9523809523809523, total=   8.2s\n",
      "[CV] C=100, kernel=linear ............................................\n",
      "[CV] ... C=100, kernel=linear, score=0.9416058394160584, total=   8.3s\n",
      "[CV] ... C=100, kernel=linear, score=0.9379562043795621, total=   7.3s\n"
     ]
    },
    {
     "name": "stderr",
     "output_type": "stream",
     "text": [
      "[Parallel(n_jobs=4)]: Done  42 tasks      | elapsed: 10.1min\n"
     ]
    },
    {
     "name": "stdout",
     "output_type": "stream",
     "text": [
      "[CV] C=100, kernel=linear ............................................\n",
      "[CV] ... C=100, kernel=linear, score=0.9087591240875912, total=   7.4s\n",
      "[CV] C=1000, kernel=linear ...........................................\n",
      "[CV] C=1000, kernel=linear ...........................................\n",
      "[CV] ... C=100, kernel=linear, score=0.9379562043795621, total=   8.6s\n",
      "[CV] C=1000, kernel=linear ...........................................\n",
      "[CV] ... C=100, kernel=linear, score=0.9523809523809523, total=   7.7s\n",
      "[CV] C=1000, kernel=linear ...........................................\n",
      "[CV] .. C=1000, kernel=linear, score=0.9379562043795621, total=   6.9s\n",
      "[CV] .. C=1000, kernel=linear, score=0.9416058394160584, total=   7.9s\n",
      "[CV] C=1000, kernel=linear ...........................................\n",
      "[CV] .. C=1000, kernel=linear, score=0.9087591240875912, total=   7.5s\n",
      "[CV] .. C=1000, kernel=linear, score=0.9379562043795621, total=   5.7s\n",
      "[CV] .. C=1000, kernel=linear, score=0.9523809523809523, total=   5.5s\n"
     ]
    },
    {
     "name": "stderr",
     "output_type": "stream",
     "text": [
      "[Parallel(n_jobs=4)]: Done  50 out of  50 | elapsed: 10.5min finished\n"
     ]
    },
    {
     "name": "stdout",
     "output_type": "stream",
     "text": [
      "Fitting 5 folds for each of 40 candidates, totalling 200 fits\n",
      "[CV] C=0.0001, gamma=auto, kernel=rbf ................................\n",
      "[CV] C=0.0001, gamma=auto, kernel=rbf ................................\n",
      "[CV] C=0.0001, gamma=auto, kernel=rbf ................................\n",
      "[CV] C=0.0001, gamma=auto, kernel=rbf ................................\n",
      "[CV]  C=0.0001, gamma=auto, kernel=rbf, score=0.4927007299270073, total=  15.9s\n",
      "[CV]  C=0.0001, gamma=auto, kernel=rbf, score=0.4927007299270073, total=  16.3s\n",
      "[CV] C=0.0001, gamma=auto, kernel=rbf ................................\n",
      "[CV] C=0.0001, gamma=0.0001, kernel=rbf ..............................\n",
      "[CV]  C=0.0001, gamma=auto, kernel=rbf, score=0.4927007299270073, total=  16.6s\n",
      "[CV] C=0.0001, gamma=0.0001, kernel=rbf ..............................\n",
      "[CV]  C=0.0001, gamma=auto, kernel=rbf, score=0.4927007299270073, total=  16.8s\n",
      "[CV] C=0.0001, gamma=0.0001, kernel=rbf ..............................\n",
      "[CV]  C=0.0001, gamma=auto, kernel=rbf, score=0.4908424908424908, total=  17.1s\n"
     ]
    },
    {
     "name": "stderr",
     "output_type": "stream",
     "text": [
      "[Parallel(n_jobs=4)]: Done   5 tasks      | elapsed:   56.1s\n"
     ]
    },
    {
     "name": "stdout",
     "output_type": "stream",
     "text": [
      "[CV]  C=0.0001, gamma=0.0001, kernel=rbf, score=0.4927007299270073, total=  16.8s\n",
      "[CV] C=0.0001, gamma=0.0001, kernel=rbf ..............................\n",
      "[CV]  C=0.0001, gamma=0.0001, kernel=rbf, score=0.4927007299270073, total=  16.7s\n",
      "[CV] C=0.0001, gamma=0.0001, kernel=rbf ..............................\n",
      "[CV]  C=0.0001, gamma=0.0001, kernel=rbf, score=0.4927007299270073, total=  17.2s\n",
      "[CV] C=0.0001, gamma=0.001, kernel=rbf ...............................\n",
      "[CV] C=0.0001, gamma=0.001, kernel=rbf ...............................\n",
      "[CV]  C=0.0001, gamma=0.0001, kernel=rbf, score=0.4927007299270073, total= 1.9min\n",
      "[CV]  C=0.0001, gamma=0.0001, kernel=rbf, score=0.4908424908424908, total= 1.9min\n",
      "[CV] C=0.0001, gamma=0.001, kernel=rbf ...............................\n"
     ]
    },
    {
     "name": "stderr",
     "output_type": "stream",
     "text": [
      "[Parallel(n_jobs=4)]: Done  10 tasks      | elapsed:  3.1min\n"
     ]
    },
    {
     "name": "stdout",
     "output_type": "stream",
     "text": [
      "[CV]  C=0.0001, gamma=0.001, kernel=rbf, score=0.4927007299270073, total= 1.9min\n",
      "[CV] C=0.0001, gamma=0.001, kernel=rbf ...............................\n",
      "[CV] C=0.0001, gamma=0.001, kernel=rbf ...............................\n",
      "[CV]  C=0.0001, gamma=0.001, kernel=rbf, score=0.4927007299270073, total= 1.9min\n",
      "[CV] C=0.0001, gamma=0.01, kernel=rbf ................................\n",
      "[CV]  C=0.0001, gamma=0.001, kernel=rbf, score=0.4927007299270073, total=  16.5s\n",
      "[CV] C=0.0001, gamma=0.01, kernel=rbf ................................\n",
      "[CV]  C=0.0001, gamma=0.001, kernel=rbf, score=0.4927007299270073, total=  16.6s\n",
      "[CV] C=0.0001, gamma=0.01, kernel=rbf ................................\n",
      "[CV]  C=0.0001, gamma=0.001, kernel=rbf, score=0.4908424908424908, total=  16.7s\n",
      "[CV] C=0.0001, gamma=0.01, kernel=rbf ................................\n",
      "[CV]  C=0.0001, gamma=0.01, kernel=rbf, score=0.4927007299270073, total=  17.1s\n",
      "[CV] C=0.0001, gamma=0.01, kernel=rbf ................................\n",
      "[CV]  C=0.0001, gamma=0.01, kernel=rbf, score=0.4927007299270073, total=  20.1s\n"
     ]
    },
    {
     "name": "stderr",
     "output_type": "stream",
     "text": [
      "[Parallel(n_jobs=4)]: Done  17 tasks      | elapsed:  4.1min\n"
     ]
    },
    {
     "name": "stdout",
     "output_type": "stream",
     "text": [
      "[CV] C=0.001, gamma=auto, kernel=rbf .................................\n",
      "[CV]  C=0.0001, gamma=0.01, kernel=rbf, score=0.4927007299270073, total=  19.7s\n",
      "[CV] C=0.001, gamma=auto, kernel=rbf .................................\n",
      "[CV]  C=0.0001, gamma=0.01, kernel=rbf, score=0.4927007299270073, total=  19.3s\n",
      "[CV] C=0.001, gamma=auto, kernel=rbf .................................\n",
      "[CV]  C=0.0001, gamma=0.01, kernel=rbf, score=0.4908424908424908, total=  19.8s\n",
      "[CV] C=0.001, gamma=auto, kernel=rbf .................................\n",
      "[CV]  C=0.001, gamma=auto, kernel=rbf, score=0.4927007299270073, total= 1.0min\n",
      "[CV]  C=0.001, gamma=auto, kernel=rbf, score=0.4927007299270073, total= 1.0min\n",
      "[CV] C=0.001, gamma=auto, kernel=rbf .................................\n",
      "[CV] C=0.001, gamma=0.0001, kernel=rbf ...............................\n",
      "[CV]  C=0.001, gamma=auto, kernel=rbf, score=0.4927007299270073, total= 1.0min\n",
      "[CV] C=0.001, gamma=0.0001, kernel=rbf ...............................\n",
      "[CV]  C=0.001, gamma=auto, kernel=rbf, score=0.4927007299270073, total= 1.1min\n"
     ]
    },
    {
     "name": "stderr",
     "output_type": "stream",
     "text": [
      "[Parallel(n_jobs=4)]: Done  24 tasks      | elapsed:  5.4min\n"
     ]
    },
    {
     "name": "stdout",
     "output_type": "stream",
     "text": [
      "[CV] C=0.001, gamma=0.0001, kernel=rbf ...............................\n",
      "[CV]  C=0.001, gamma=auto, kernel=rbf, score=0.4908424908424908, total=  17.0s\n",
      "[CV]  C=0.001, gamma=0.0001, kernel=rbf, score=0.4927007299270073, total=  16.5s\n",
      "[CV] C=0.001, gamma=0.0001, kernel=rbf ...............................\n",
      "[CV] C=0.001, gamma=0.0001, kernel=rbf ...............................\n",
      "[CV]  C=0.001, gamma=0.0001, kernel=rbf, score=0.4927007299270073, total=  16.1s\n",
      "[CV] C=0.001, gamma=0.001, kernel=rbf ................................\n",
      "[CV]  C=0.001, gamma=0.0001, kernel=rbf, score=0.4927007299270073, total=  17.1s\n",
      "[CV] C=0.001, gamma=0.001, kernel=rbf ................................\n",
      "[CV]  C=0.001, gamma=0.0001, kernel=rbf, score=0.4927007299270073, total=  16.3s\n",
      "[CV]  C=0.001, gamma=0.0001, kernel=rbf, score=0.4908424908424908, total=  16.1s\n",
      "[CV] C=0.001, gamma=0.001, kernel=rbf ................................\n",
      "[CV]  C=0.001, gamma=0.001, kernel=rbf, score=0.4927007299270073, total=  16.5s\n",
      "[CV] C=0.001, gamma=0.001, kernel=rbf ................................\n",
      "[CV] C=0.001, gamma=0.001, kernel=rbf ................................\n",
      "[CV]  C=0.001, gamma=0.001, kernel=rbf, score=0.4927007299270073, total=  17.6s\n",
      "[CV] C=0.001, gamma=0.01, kernel=rbf .................................\n",
      "[CV]  C=0.001, gamma=0.001, kernel=rbf, score=0.4927007299270073, total=  16.5s\n"
     ]
    },
    {
     "name": "stderr",
     "output_type": "stream",
     "text": [
      "[Parallel(n_jobs=4)]: Done  33 tasks      | elapsed:  6.8min\n"
     ]
    },
    {
     "name": "stdout",
     "output_type": "stream",
     "text": [
      "[CV]  C=0.001, gamma=0.001, kernel=rbf, score=0.4927007299270073, total=  15.8s\n",
      "[CV] C=0.001, gamma=0.01, kernel=rbf .................................\n",
      "[CV] C=0.001, gamma=0.01, kernel=rbf .................................\n",
      "[CV]  C=0.001, gamma=0.001, kernel=rbf, score=0.4908424908424908, total=  16.0s\n",
      "[CV] C=0.001, gamma=0.01, kernel=rbf .................................\n",
      "[CV]  C=0.001, gamma=0.01, kernel=rbf, score=0.4927007299270073, total=  17.0s\n",
      "[CV] C=0.001, gamma=0.01, kernel=rbf .................................\n",
      "[CV]  C=0.001, gamma=0.01, kernel=rbf, score=0.4927007299270073, total=  15.9s\n",
      "[CV]  C=0.001, gamma=0.01, kernel=rbf, score=0.4927007299270073, total=  15.7s\n",
      "[CV] C=0.01, gamma=auto, kernel=rbf ..................................\n",
      "[CV] C=0.01, gamma=auto, kernel=rbf ..................................\n",
      "[CV]  C=0.001, gamma=0.01, kernel=rbf, score=0.4927007299270073, total=  16.2s\n",
      "[CV] C=0.01, gamma=auto, kernel=rbf ..................................\n",
      "[CV]  C=0.001, gamma=0.01, kernel=rbf, score=0.4908424908424908, total=  17.0s\n",
      "[CV] C=0.01, gamma=auto, kernel=rbf ..................................\n",
      "[CV]  C=0.01, gamma=auto, kernel=rbf, score=0.4927007299270073, total=  15.7s\n",
      "[CV] C=0.01, gamma=auto, kernel=rbf ..................................\n",
      "[CV]  C=0.01, gamma=auto, kernel=rbf, score=0.4927007299270073, total=  15.5s\n"
     ]
    },
    {
     "name": "stderr",
     "output_type": "stream",
     "text": [
      "[Parallel(n_jobs=4)]: Done  42 tasks      | elapsed:  7.7min\n"
     ]
    },
    {
     "name": "stdout",
     "output_type": "stream",
     "text": [
      "[CV] C=0.01, gamma=0.0001, kernel=rbf ................................\n",
      "[CV]  C=0.01, gamma=auto, kernel=rbf, score=0.4927007299270073, total=  15.9s\n",
      "[CV] C=0.01, gamma=0.0001, kernel=rbf ................................\n",
      "[CV]  C=0.01, gamma=auto, kernel=rbf, score=0.4927007299270073, total=  16.8s\n",
      "[CV] C=0.01, gamma=0.0001, kernel=rbf ................................\n",
      "[CV]  C=0.01, gamma=auto, kernel=rbf, score=0.4908424908424908, total=  15.3s\n",
      "[CV] C=0.01, gamma=0.0001, kernel=rbf ................................\n",
      "[CV]  C=0.01, gamma=0.0001, kernel=rbf, score=0.4927007299270073, total=  15.2s\n",
      "[CV] C=0.01, gamma=0.0001, kernel=rbf ................................\n",
      "[CV]  C=0.01, gamma=0.0001, kernel=rbf, score=0.4927007299270073, total=  15.7s\n",
      "[CV] C=0.01, gamma=0.001, kernel=rbf .................................\n",
      "[CV]  C=0.01, gamma=0.0001, kernel=rbf, score=0.4927007299270073, total=  16.9s\n",
      "[CV] C=0.01, gamma=0.001, kernel=rbf .................................\n",
      "[CV]  C=0.01, gamma=0.0001, kernel=rbf, score=0.4927007299270073, total=  16.3s\n",
      "[CV] C=0.01, gamma=0.001, kernel=rbf .................................\n",
      "[CV]  C=0.01, gamma=0.0001, kernel=rbf, score=0.4908424908424908, total=  16.3s\n",
      "[CV] C=0.01, gamma=0.001, kernel=rbf .................................\n",
      "[CV]  C=0.01, gamma=0.001, kernel=rbf, score=0.4927007299270073, total=  17.0s\n",
      "[CV] C=0.01, gamma=0.001, kernel=rbf .................................\n",
      "[CV]  C=0.01, gamma=0.001, kernel=rbf, score=0.4927007299270073, total=  17.3s\n",
      "[CV] C=0.01, gamma=0.01, kernel=rbf ..................................\n",
      "[CV]  C=0.01, gamma=0.001, kernel=rbf, score=0.4927007299270073, total=  31.7s\n"
     ]
    },
    {
     "name": "stderr",
     "output_type": "stream",
     "text": [
      "[Parallel(n_jobs=4)]: Done  53 tasks      | elapsed:  9.4min\n"
     ]
    },
    {
     "name": "stdout",
     "output_type": "stream",
     "text": [
      "[CV] C=0.01, gamma=0.01, kernel=rbf ..................................\n",
      "[CV]  C=0.01, gamma=0.001, kernel=rbf, score=0.4927007299270073, total=  32.3s\n",
      "[CV] C=0.01, gamma=0.01, kernel=rbf ..................................\n",
      "[CV]  C=0.01, gamma=0.001, kernel=rbf, score=0.4908424908424908, total=  35.1s\n",
      "[CV] C=0.01, gamma=0.01, kernel=rbf ..................................\n",
      "[CV]  C=0.01, gamma=0.01, kernel=rbf, score=0.4927007299270073, total=  36.4s\n",
      "[CV] C=0.01, gamma=0.01, kernel=rbf ..................................\n",
      "[CV]  C=0.01, gamma=0.01, kernel=rbf, score=0.4927007299270073, total=  16.9s\n",
      "[CV] C=0.1, gamma=auto, kernel=rbf ...................................\n",
      "[CV]  C=0.01, gamma=0.01, kernel=rbf, score=0.4927007299270073, total=  16.7s\n",
      "[CV] C=0.1, gamma=auto, kernel=rbf ...................................\n",
      "[CV]  C=0.01, gamma=0.01, kernel=rbf, score=0.4927007299270073, total=  17.6s\n",
      "[CV] C=0.1, gamma=auto, kernel=rbf ...................................\n",
      "[CV]  C=0.01, gamma=0.01, kernel=rbf, score=0.4908424908424908, total=  17.7s\n",
      "[CV] C=0.1, gamma=auto, kernel=rbf ...................................\n",
      "[CV]  C=0.1, gamma=auto, kernel=rbf, score=0.4927007299270073, total=  16.3s\n",
      "[CV] C=0.1, gamma=auto, kernel=rbf ...................................\n",
      "[CV]  C=0.1, gamma=auto, kernel=rbf, score=0.4927007299270073, total=  16.3s\n",
      "[CV] C=0.1, gamma=0.0001, kernel=rbf .................................\n",
      "[CV]  C=0.1, gamma=auto, kernel=rbf, score=0.4927007299270073, total=  17.0s\n",
      "[CV] C=0.1, gamma=0.0001, kernel=rbf .................................\n",
      "[CV]  C=0.1, gamma=auto, kernel=rbf, score=0.4927007299270073, total=  17.1s\n"
     ]
    },
    {
     "name": "stderr",
     "output_type": "stream",
     "text": [
      "[Parallel(n_jobs=4)]: Done  64 tasks      | elapsed: 10.5min\n"
     ]
    },
    {
     "name": "stdout",
     "output_type": "stream",
     "text": [
      "[CV] C=0.1, gamma=0.0001, kernel=rbf .................................\n",
      "[CV]  C=0.1, gamma=auto, kernel=rbf, score=0.4908424908424908, total=  16.2s\n",
      "[CV] C=0.1, gamma=0.0001, kernel=rbf .................................\n",
      "[CV]  C=0.1, gamma=0.0001, kernel=rbf, score=0.4927007299270073, total=  16.2s\n",
      "[CV] C=0.1, gamma=0.0001, kernel=rbf .................................\n",
      "[CV]  C=0.1, gamma=0.0001, kernel=rbf, score=0.4927007299270073, total=  17.3s\n",
      "[CV] C=0.1, gamma=0.001, kernel=rbf ..................................\n",
      "[CV]  C=0.1, gamma=0.0001, kernel=rbf, score=0.4927007299270073, total=  17.1s\n",
      "[CV] C=0.1, gamma=0.001, kernel=rbf ..................................\n",
      "[CV]  C=0.1, gamma=0.0001, kernel=rbf, score=0.4927007299270073, total=  15.7s\n",
      "[CV] C=0.1, gamma=0.001, kernel=rbf ..................................\n",
      "[CV]  C=0.1, gamma=0.0001, kernel=rbf, score=0.4908424908424908, total=  15.8s\n",
      "[CV] C=0.1, gamma=0.001, kernel=rbf ..................................\n",
      "[CV]  C=0.1, gamma=0.001, kernel=rbf, score=0.4927007299270073, total=  16.6s\n",
      "[CV] C=0.1, gamma=0.001, kernel=rbf ..................................\n",
      "[CV]  C=0.1, gamma=0.001, kernel=rbf, score=0.4927007299270073, total=  17.0s\n",
      "[CV] C=0.1, gamma=0.01, kernel=rbf ...................................\n",
      "[CV]  C=0.1, gamma=0.001, kernel=rbf, score=0.4927007299270073, total=  15.8s\n",
      "[CV] C=0.1, gamma=0.01, kernel=rbf ...................................\n",
      "[CV]  C=0.1, gamma=0.001, kernel=rbf, score=0.4927007299270073, total=  15.7s\n",
      "[CV] C=0.1, gamma=0.01, kernel=rbf ...................................\n",
      "[CV]  C=0.1, gamma=0.001, kernel=rbf, score=0.4908424908424908, total=  16.8s\n",
      "[CV] C=0.1, gamma=0.01, kernel=rbf ...................................\n",
      "[CV]  C=0.1, gamma=0.01, kernel=rbf, score=0.6386861313868614, total=  15.9s\n",
      "[CV] C=0.1, gamma=0.01, kernel=rbf ...................................\n",
      "[CV]  C=0.1, gamma=0.01, kernel=rbf, score=0.6167883211678832, total=  14.6s\n"
     ]
    },
    {
     "name": "stderr",
     "output_type": "stream",
     "text": [
      "[Parallel(n_jobs=4)]: Done  77 tasks      | elapsed: 12.1min\n"
     ]
    },
    {
     "name": "stdout",
     "output_type": "stream",
     "text": [
      "[CV] C=1, gamma=auto, kernel=rbf .....................................\n",
      "[CV]  C=0.1, gamma=0.01, kernel=rbf, score=0.6459854014598541, total=  14.7s\n",
      "[CV] C=1, gamma=auto, kernel=rbf .....................................\n",
      "[CV]  C=0.1, gamma=0.01, kernel=rbf, score=0.656934306569343, total=  15.2s\n",
      "[CV] C=1, gamma=auto, kernel=rbf .....................................\n",
      "[CV]  C=0.1, gamma=0.01, kernel=rbf, score=0.6190476190476191, total=  15.3s\n",
      "[CV] C=1, gamma=auto, kernel=rbf .....................................\n",
      "[CV]  C=1, gamma=auto, kernel=rbf, score=0.4927007299270073, total=  15.0s\n",
      "[CV] C=1, gamma=auto, kernel=rbf .....................................\n",
      "[CV]  C=1, gamma=auto, kernel=rbf, score=0.49635036496350365, total=  15.8s\n",
      "[CV] C=1, gamma=0.0001, kernel=rbf ...................................\n",
      "[CV]  C=1, gamma=auto, kernel=rbf, score=0.4927007299270073, total=  16.4s\n",
      "[CV] C=1, gamma=0.0001, kernel=rbf ...................................\n",
      "[CV]  C=1, gamma=auto, kernel=rbf, score=0.4927007299270073, total=  16.8s\n",
      "[CV] C=1, gamma=0.0001, kernel=rbf ...................................\n",
      "[CV]  C=1, gamma=auto, kernel=rbf, score=0.4908424908424908, total=  15.2s\n",
      "[CV] C=1, gamma=0.0001, kernel=rbf ...................................\n",
      "[CV]  C=1, gamma=0.0001, kernel=rbf, score=0.4927007299270073, total=  16.0s\n",
      "[CV] C=1, gamma=0.0001, kernel=rbf ...................................\n",
      "[CV]  C=1, gamma=0.0001, kernel=rbf, score=0.4927007299270073, total=  15.9s\n",
      "[CV] C=1, gamma=0.001, kernel=rbf ....................................\n",
      "[CV]  C=1, gamma=0.0001, kernel=rbf, score=0.4927007299270073, total=  15.9s\n",
      "[CV] C=1, gamma=0.001, kernel=rbf ....................................\n",
      "[CV]  C=1, gamma=0.0001, kernel=rbf, score=0.4927007299270073, total=  15.6s\n",
      "[CV] C=1, gamma=0.001, kernel=rbf ....................................\n",
      "[CV]  C=1, gamma=0.0001, kernel=rbf, score=0.4908424908424908, total=  16.3s\n"
     ]
    },
    {
     "name": "stderr",
     "output_type": "stream",
     "text": [
      "[Parallel(n_jobs=4)]: Done  90 tasks      | elapsed: 13.5min\n"
     ]
    },
    {
     "name": "stdout",
     "output_type": "stream",
     "text": [
      "[CV] C=1, gamma=0.001, kernel=rbf ....................................\n",
      "[CV]  C=1, gamma=0.001, kernel=rbf, score=0.6131386861313869, total=  15.5s\n",
      "[CV] C=1, gamma=0.001, kernel=rbf ....................................\n",
      "[CV]  C=1, gamma=0.001, kernel=rbf, score=0.5948905109489051, total=  15.7s\n",
      "[CV] C=1, gamma=0.01, kernel=rbf .....................................\n",
      "[CV]  C=1, gamma=0.001, kernel=rbf, score=0.6386861313868614, total=  15.2s\n",
      "[CV] C=1, gamma=0.01, kernel=rbf .....................................\n",
      "[CV]  C=1, gamma=0.001, kernel=rbf, score=0.6277372262773723, total=  15.1s\n",
      "[CV] C=1, gamma=0.01, kernel=rbf .....................................\n",
      "[CV]  C=1, gamma=0.01, kernel=rbf, score=0.8941605839416058, total=  12.2s\n",
      "[CV] C=1, gamma=0.01, kernel=rbf .....................................\n",
      "[CV]  C=1, gamma=0.001, kernel=rbf, score=0.6117216117216118, total=  15.3s\n",
      "[CV] C=1, gamma=0.01, kernel=rbf .....................................\n",
      "[CV]  C=1, gamma=0.01, kernel=rbf, score=0.916058394160584, total=  11.2s\n",
      "[CV] C=2, gamma=auto, kernel=rbf .....................................\n",
      "[CV]  C=1, gamma=0.01, kernel=rbf, score=0.9124087591240876, total=  11.0s\n",
      "[CV] C=2, gamma=auto, kernel=rbf .....................................\n",
      "[CV]  C=1, gamma=0.01, kernel=rbf, score=0.9306569343065694, total=  11.1s\n",
      "[CV] C=2, gamma=auto, kernel=rbf .....................................\n",
      "[CV]  C=1, gamma=0.01, kernel=rbf, score=0.9084249084249084, total=  11.3s\n",
      "[CV] C=2, gamma=auto, kernel=rbf .....................................\n",
      "[CV]  C=2, gamma=auto, kernel=rbf, score=0.5474452554744526, total=  15.7s\n",
      "[CV] C=2, gamma=auto, kernel=rbf .....................................\n",
      "[CV]  C=2, gamma=auto, kernel=rbf, score=0.5218978102189781, total=  16.0s\n",
      "[CV] C=2, gamma=0.0001, kernel=rbf ...................................\n",
      "[CV]  C=2, gamma=auto, kernel=rbf, score=0.5620437956204379, total=  15.8s\n",
      "[CV] C=2, gamma=0.0001, kernel=rbf ...................................\n",
      "[CV]  C=2, gamma=auto, kernel=rbf, score=0.5401459854014599, total=  16.1s\n",
      "[CV] C=2, gamma=0.0001, kernel=rbf ...................................\n",
      "[CV]  C=2, gamma=auto, kernel=rbf, score=0.5311355311355311, total=  15.8s\n"
     ]
    },
    {
     "name": "stderr",
     "output_type": "stream",
     "text": [
      "[Parallel(n_jobs=4)]: Done 105 tasks      | elapsed: 15.1min\n"
     ]
    },
    {
     "name": "stdout",
     "output_type": "stream",
     "text": [
      "[CV] C=2, gamma=0.0001, kernel=rbf ...................................\n",
      "[CV]  C=2, gamma=0.0001, kernel=rbf, score=0.4927007299270073, total=  15.6s\n",
      "[CV]  C=2, gamma=0.0001, kernel=rbf, score=0.4927007299270073, total=  15.5s\n",
      "[CV] C=2, gamma=0.0001, kernel=rbf ...................................\n",
      "[CV] C=2, gamma=0.001, kernel=rbf ....................................\n",
      "[CV]  C=2, gamma=0.0001, kernel=rbf, score=0.4927007299270073, total=  16.0s\n",
      "[CV] C=2, gamma=0.001, kernel=rbf ....................................\n",
      "[CV]  C=2, gamma=0.0001, kernel=rbf, score=0.4927007299270073, total=  15.4s\n",
      "[CV] C=2, gamma=0.001, kernel=rbf ....................................\n",
      "[CV]  C=2, gamma=0.001, kernel=rbf, score=0.8065693430656934, total=  13.7s\n",
      "[CV]  C=2, gamma=0.0001, kernel=rbf, score=0.4908424908424908, total=  15.3s\n",
      "[CV] C=2, gamma=0.001, kernel=rbf ....................................\n",
      "[CV] C=2, gamma=0.001, kernel=rbf ....................................\n",
      "[CV]  C=2, gamma=0.001, kernel=rbf, score=0.7481751824817519, total=  14.4s\n",
      "[CV] C=2, gamma=0.01, kernel=rbf .....................................\n",
      "[CV]  C=2, gamma=0.01, kernel=rbf, score=0.9014598540145985, total=  10.5s\n",
      "[CV]  C=2, gamma=0.001, kernel=rbf, score=0.8211678832116789, total=  14.3s\n",
      "[CV] C=2, gamma=0.01, kernel=rbf .....................................\n",
      "[CV] C=2, gamma=0.01, kernel=rbf .....................................\n",
      "[CV]  C=2, gamma=0.001, kernel=rbf, score=0.8029197080291971, total=  14.1s\n",
      "[CV]  C=2, gamma=0.001, kernel=rbf, score=0.7802197802197802, total=  13.9s\n",
      "[CV] C=2, gamma=0.01, kernel=rbf .....................................\n",
      "[CV] C=2, gamma=0.01, kernel=rbf .....................................\n",
      "[CV]  C=2, gamma=0.01, kernel=rbf, score=0.9197080291970803, total=   9.9s\n",
      "[CV]  C=2, gamma=0.01, kernel=rbf, score=0.9124087591240876, total=   9.8s\n",
      "[CV] C=10, gamma=auto, kernel=rbf ....................................\n",
      "[CV] C=10, gamma=auto, kernel=rbf ....................................\n",
      "[CV]  C=2, gamma=0.01, kernel=rbf, score=0.9306569343065694, total=  10.2s\n",
      "[CV]  C=2, gamma=0.01, kernel=rbf, score=0.9084249084249084, total=  10.2s\n",
      "[CV] C=10, gamma=auto, kernel=rbf ....................................\n"
     ]
    },
    {
     "name": "stderr",
     "output_type": "stream",
     "text": [
      "[Parallel(n_jobs=4)]: Done 120 tasks      | elapsed: 16.3min\n"
     ]
    },
    {
     "name": "stdout",
     "output_type": "stream",
     "text": [
      "[CV] C=10, gamma=auto, kernel=rbf ....................................\n",
      "[CV]  C=10, gamma=auto, kernel=rbf, score=0.8284671532846716, total=  17.5s\n",
      "[CV]  C=10, gamma=auto, kernel=rbf, score=0.7737226277372263, total=  17.6s\n",
      "[CV] C=10, gamma=auto, kernel=rbf ....................................\n",
      "[CV] C=10, gamma=0.0001, kernel=rbf ..................................\n",
      "[CV]  C=10, gamma=auto, kernel=rbf, score=0.8357664233576643, total=  19.6s\n",
      "[CV] C=10, gamma=0.0001, kernel=rbf ..................................\n",
      "[CV]  C=10, gamma=auto, kernel=rbf, score=0.8467153284671532, total=  19.8s\n",
      "[CV] C=10, gamma=0.0001, kernel=rbf ..................................\n",
      "[CV]  C=10, gamma=auto, kernel=rbf, score=0.8095238095238095, total=  17.8s\n",
      "[CV] C=10, gamma=0.0001, kernel=rbf ..................................\n",
      "[CV]  C=10, gamma=0.0001, kernel=rbf, score=0.6167883211678832, total=  19.0s\n",
      "[CV] C=10, gamma=0.0001, kernel=rbf ..................................\n",
      "[CV]  C=10, gamma=0.0001, kernel=rbf, score=0.635036496350365, total=  19.7s\n",
      "[CV] C=10, gamma=0.001, kernel=rbf ...................................\n",
      "[CV]  C=10, gamma=0.0001, kernel=rbf, score=0.6386861313868614, total=  20.0s\n",
      "[CV] C=10, gamma=0.001, kernel=rbf ...................................\n",
      "[CV]  C=10, gamma=0.001, kernel=rbf, score=0.8868613138686131, total=  12.3s\n",
      "[CV]  C=10, gamma=0.0001, kernel=rbf, score=0.6240875912408759, total=  16.6s\n",
      "[CV]  C=10, gamma=0.001, kernel=rbf, score=0.9124087591240876, total=  12.3s\n",
      "[CV] C=10, gamma=0.001, kernel=rbf ...................................\n",
      "[CV] C=10, gamma=0.001, kernel=rbf ...................................\n",
      "[CV]  C=10, gamma=0.0001, kernel=rbf, score=0.6117216117216118, total=  16.1s\n",
      "[CV] C=10, gamma=0.001, kernel=rbf ...................................\n",
      "[CV] C=10, gamma=0.01, kernel=rbf ....................................\n",
      "[CV]  C=10, gamma=0.001, kernel=rbf, score=0.9124087591240876, total=  10.6s\n",
      "[CV]  C=10, gamma=0.01, kernel=rbf, score=0.9379562043795621, total=   9.1s\n",
      "[CV] C=10, gamma=0.01, kernel=rbf ....................................\n",
      "[CV]  C=10, gamma=0.001, kernel=rbf, score=0.927007299270073, total=  10.9s\n",
      "[CV] C=10, gamma=0.01, kernel=rbf ....................................\n",
      "[CV]  C=10, gamma=0.001, kernel=rbf, score=0.9120879120879121, total=  10.9s\n",
      "[CV] C=10, gamma=0.01, kernel=rbf ....................................\n",
      "[CV] C=10, gamma=0.01, kernel=rbf ....................................\n",
      "[CV]  C=10, gamma=0.01, kernel=rbf, score=0.9525547445255474, total=   9.1s\n"
     ]
    },
    {
     "name": "stderr",
     "output_type": "stream",
     "text": [
      "[Parallel(n_jobs=4)]: Done 137 tasks      | elapsed: 18.2min\n"
     ]
    },
    {
     "name": "stdout",
     "output_type": "stream",
     "text": [
      "[CV]  C=10, gamma=0.01, kernel=rbf, score=0.9379562043795621, total=   8.8s\n",
      "[CV] C=50, gamma=auto, kernel=rbf ....................................\n",
      "[CV] C=50, gamma=auto, kernel=rbf ....................................\n",
      "[CV]  C=10, gamma=0.01, kernel=rbf, score=0.9525547445255474, total=   9.2s\n",
      "[CV]  C=10, gamma=0.01, kernel=rbf, score=0.9523809523809523, total=   9.2s\n",
      "[CV] C=50, gamma=auto, kernel=rbf ....................................\n",
      "[CV] C=50, gamma=auto, kernel=rbf ....................................\n",
      "[CV]  C=50, gamma=auto, kernel=rbf, score=0.8795620437956204, total=  11.4s\n",
      "[CV]  C=50, gamma=auto, kernel=rbf, score=0.9087591240875912, total=  10.8s\n",
      "[CV] C=50, gamma=auto, kernel=rbf ....................................\n",
      "[CV]  C=50, gamma=auto, kernel=rbf, score=0.9124087591240876, total=  10.5s\n",
      "[CV] C=50, gamma=0.0001, kernel=rbf ..................................\n",
      "[CV] C=50, gamma=0.0001, kernel=rbf ..................................\n",
      "[CV]  C=50, gamma=auto, kernel=rbf, score=0.9306569343065694, total=  11.1s\n",
      "[CV] C=50, gamma=0.0001, kernel=rbf ..................................\n",
      "[CV]  C=50, gamma=auto, kernel=rbf, score=0.9157509157509157, total=  11.0s\n",
      "[CV] C=50, gamma=0.0001, kernel=rbf ..................................\n",
      "[CV]  C=50, gamma=0.0001, kernel=rbf, score=0.8540145985401459, total=  12.5s\n",
      "[CV]  C=50, gamma=0.0001, kernel=rbf, score=0.8540145985401459, total=  12.1s\n",
      "[CV] C=50, gamma=0.0001, kernel=rbf ..................................\n",
      "[CV] C=50, gamma=0.001, kernel=rbf ...................................\n",
      "[CV]  C=50, gamma=0.0001, kernel=rbf, score=0.864963503649635, total=  12.9s\n",
      "[CV] C=50, gamma=0.001, kernel=rbf ...................................\n",
      "[CV]  C=50, gamma=0.001, kernel=rbf, score=0.9233576642335767, total=   9.5s\n",
      "[CV] C=50, gamma=0.001, kernel=rbf ...................................\n",
      "[CV]  C=50, gamma=0.0001, kernel=rbf, score=0.8941605839416058, total=  14.5s\n",
      "[CV] C=50, gamma=0.001, kernel=rbf ...................................\n",
      "[CV]  C=50, gamma=0.001, kernel=rbf, score=0.927007299270073, total=   9.6s\n",
      "[CV] C=50, gamma=0.001, kernel=rbf ...................................\n",
      "[CV]  C=50, gamma=0.0001, kernel=rbf, score=0.8754578754578755, total=  13.1s\n",
      "[CV] C=50, gamma=0.01, kernel=rbf ....................................\n",
      "[CV]  C=50, gamma=0.001, kernel=rbf, score=0.9233576642335767, total=   9.1s\n",
      "[CV] C=50, gamma=0.01, kernel=rbf ....................................\n",
      "[CV]  C=50, gamma=0.001, kernel=rbf, score=0.9379562043795621, total=   8.9s\n"
     ]
    },
    {
     "name": "stderr",
     "output_type": "stream",
     "text": [
      "[Parallel(n_jobs=4)]: Done 154 tasks      | elapsed: 19.4min\n"
     ]
    },
    {
     "name": "stdout",
     "output_type": "stream",
     "text": [
      "[CV] C=50, gamma=0.01, kernel=rbf ....................................\n",
      "[CV]  C=50, gamma=0.001, kernel=rbf, score=0.9267399267399268, total=   9.0s\n",
      "[CV]  C=50, gamma=0.01, kernel=rbf, score=0.9452554744525548, total=   9.1s\n",
      "[CV] C=50, gamma=0.01, kernel=rbf ....................................\n",
      "[CV] C=50, gamma=0.01, kernel=rbf ....................................\n",
      "[CV]  C=50, gamma=0.01, kernel=rbf, score=0.9525547445255474, total=   8.5s\n",
      "[CV] C=100, gamma=auto, kernel=rbf ...................................\n",
      "[CV]  C=50, gamma=0.01, kernel=rbf, score=0.9452554744525548, total=   8.3s\n",
      "[CV] C=100, gamma=auto, kernel=rbf ...................................\n",
      "[CV]  C=50, gamma=0.01, kernel=rbf, score=0.9635036496350365, total=   8.3s\n",
      "[CV] C=100, gamma=auto, kernel=rbf ...................................\n",
      "[CV]  C=50, gamma=0.01, kernel=rbf, score=0.9523809523809523, total=   8.5s\n",
      "[CV] C=100, gamma=auto, kernel=rbf ...................................\n",
      "[CV]  C=100, gamma=auto, kernel=rbf, score=0.8941605839416058, total=  10.6s\n",
      "[CV] C=100, gamma=auto, kernel=rbf ...................................\n",
      "[CV]  C=100, gamma=auto, kernel=rbf, score=0.9087591240875912, total=  10.0s\n",
      "[CV] C=100, gamma=0.0001, kernel=rbf .................................\n",
      "[CV]  C=100, gamma=auto, kernel=rbf, score=0.9051094890510949, total=  10.4s\n",
      "[CV] C=100, gamma=0.0001, kernel=rbf .................................\n",
      "[CV]  C=100, gamma=auto, kernel=rbf, score=0.927007299270073, total=  10.6s\n",
      "[CV] C=100, gamma=0.0001, kernel=rbf .................................\n",
      "[CV]  C=100, gamma=auto, kernel=rbf, score=0.9084249084249084, total=  13.2s\n",
      "[CV] C=100, gamma=0.0001, kernel=rbf .................................\n",
      "[CV]  C=100, gamma=0.0001, kernel=rbf, score=0.8832116788321168, total=  14.6s\n",
      "[CV] C=100, gamma=0.0001, kernel=rbf .................................\n",
      "[CV]  C=100, gamma=0.0001, kernel=rbf, score=0.9051094890510949, total=  13.9s\n",
      "[CV] C=100, gamma=0.001, kernel=rbf ..................................\n",
      "[CV]  C=100, gamma=0.0001, kernel=rbf, score=0.9087591240875912, total=  14.1s\n",
      "[CV] C=100, gamma=0.001, kernel=rbf ..................................\n",
      "[CV]  C=100, gamma=0.0001, kernel=rbf, score=0.927007299270073, total=  14.7s\n",
      "[CV]  C=100, gamma=0.001, kernel=rbf, score=0.9416058394160584, total=  10.4s\n",
      "[CV] C=100, gamma=0.001, kernel=rbf ..................................\n",
      "[CV] C=100, gamma=0.001, kernel=rbf ..................................\n",
      "[CV]  C=100, gamma=0.001, kernel=rbf, score=0.9525547445255474, total=  10.6s\n",
      "[CV]  C=100, gamma=0.0001, kernel=rbf, score=0.9157509157509157, total=  13.7s\n",
      "[CV] C=100, gamma=0.001, kernel=rbf ..................................\n",
      "[CV] C=100, gamma=0.01, kernel=rbf ...................................\n",
      "[CV]  C=100, gamma=0.001, kernel=rbf, score=0.9379562043795621, total=   8.7s\n"
     ]
    },
    {
     "name": "stderr",
     "output_type": "stream",
     "text": [
      "[Parallel(n_jobs=4)]: Done 173 tasks      | elapsed: 20.8min\n"
     ]
    },
    {
     "name": "stdout",
     "output_type": "stream",
     "text": [
      "[CV] C=100, gamma=0.01, kernel=rbf ...................................\n",
      "[CV]  C=100, gamma=0.001, kernel=rbf, score=0.948905109489051, total=   8.7s\n",
      "[CV] C=100, gamma=0.01, kernel=rbf ...................................\n",
      "[CV]  C=100, gamma=0.001, kernel=rbf, score=0.9523809523809523, total=   9.2s\n",
      "[CV]  C=100, gamma=0.01, kernel=rbf, score=0.9525547445255474, total=   9.2s\n",
      "[CV] C=100, gamma=0.01, kernel=rbf ...................................\n",
      "[CV] C=100, gamma=0.01, kernel=rbf ...................................\n",
      "[CV]  C=100, gamma=0.01, kernel=rbf, score=0.9525547445255474, total=   8.7s\n",
      "[CV]  C=100, gamma=0.01, kernel=rbf, score=0.9416058394160584, total=   8.1s\n",
      "[CV] C=1000, gamma=auto, kernel=rbf ..................................\n",
      "[CV] C=1000, gamma=auto, kernel=rbf ..................................\n",
      "[CV]  C=100, gamma=0.01, kernel=rbf, score=0.9671532846715328, total=   8.5s\n",
      "[CV]  C=100, gamma=0.01, kernel=rbf, score=0.9597069597069597, total=   8.4s\n",
      "[CV] C=1000, gamma=auto, kernel=rbf ..................................\n",
      "[CV] C=1000, gamma=auto, kernel=rbf ..................................\n",
      "[CV]  C=1000, gamma=auto, kernel=rbf, score=0.9452554744525548, total=   8.2s\n",
      "[CV] C=1000, gamma=auto, kernel=rbf ..................................\n",
      "[CV]  C=1000, gamma=auto, kernel=rbf, score=0.948905109489051, total=   8.2s\n",
      "[CV] C=1000, gamma=0.0001, kernel=rbf ................................\n",
      "[CV]  C=1000, gamma=auto, kernel=rbf, score=0.9379562043795621, total=   8.2s\n",
      "[CV] C=1000, gamma=0.0001, kernel=rbf ................................\n",
      "[CV]  C=1000, gamma=auto, kernel=rbf, score=0.948905109489051, total=   8.7s\n",
      "[CV] C=1000, gamma=0.0001, kernel=rbf ................................\n",
      "[CV]  C=1000, gamma=auto, kernel=rbf, score=0.9560439560439561, total=   8.5s\n",
      "[CV] C=1000, gamma=0.0001, kernel=rbf ................................\n",
      "[CV]  C=1000, gamma=0.0001, kernel=rbf, score=0.9416058394160584, total=   8.5s\n",
      "[CV] C=1000, gamma=0.0001, kernel=rbf ................................\n",
      "[CV]  C=1000, gamma=0.0001, kernel=rbf, score=0.9452554744525548, total=   8.9s\n",
      "[CV] C=1000, gamma=0.001, kernel=rbf .................................\n",
      "[CV]  C=1000, gamma=0.0001, kernel=rbf, score=0.9343065693430657, total=   9.1s\n",
      "[CV] C=1000, gamma=0.001, kernel=rbf .................................\n",
      "[CV]  C=1000, gamma=0.0001, kernel=rbf, score=0.9416058394160584, total=   9.0s\n",
      "[CV] C=1000, gamma=0.001, kernel=rbf .................................\n",
      "[CV]  C=1000, gamma=0.0001, kernel=rbf, score=0.9523809523809523, total=   8.7s\n",
      "[CV] C=1000, gamma=0.001, kernel=rbf .................................\n",
      "[CV]  C=1000, gamma=0.001, kernel=rbf, score=0.9452554744525548, total=   8.1s\n",
      "[CV] C=1000, gamma=0.001, kernel=rbf .................................\n",
      "[CV]  C=1000, gamma=0.001, kernel=rbf, score=0.9598540145985401, total=   8.4s\n"
     ]
    },
    {
     "name": "stderr",
     "output_type": "stream",
     "text": [
      "[Parallel(n_jobs=4)]: Done 192 tasks      | elapsed: 21.8min\n"
     ]
    },
    {
     "name": "stdout",
     "output_type": "stream",
     "text": [
      "[CV] C=1000, gamma=0.01, kernel=rbf ..................................\n",
      "[CV]  C=1000, gamma=0.001, kernel=rbf, score=0.9379562043795621, total=   7.9s\n",
      "[CV] C=1000, gamma=0.01, kernel=rbf ..................................\n",
      "[CV]  C=1000, gamma=0.001, kernel=rbf, score=0.9598540145985401, total=   8.0s\n",
      "[CV]  C=1000, gamma=0.001, kernel=rbf, score=0.9560439560439561, total=   7.6s\n",
      "[CV] C=1000, gamma=0.01, kernel=rbf ..................................\n",
      "[CV] C=1000, gamma=0.01, kernel=rbf ..................................\n",
      "[CV]  C=1000, gamma=0.01, kernel=rbf, score=0.9525547445255474, total=   8.8s\n",
      "[CV] C=1000, gamma=0.01, kernel=rbf ..................................\n",
      "[CV]  C=1000, gamma=0.01, kernel=rbf, score=0.9452554744525548, total=   7.9s\n",
      "[CV]  C=1000, gamma=0.01, kernel=rbf, score=0.9124087591240876, total=   7.2s\n",
      "[CV]  C=1000, gamma=0.01, kernel=rbf, score=0.9452554744525548, total=   7.0s\n",
      "[CV]  C=1000, gamma=0.01, kernel=rbf, score=0.9560439560439561, total=   7.4s\n"
     ]
    },
    {
     "name": "stderr",
     "output_type": "stream",
     "text": [
      "[Parallel(n_jobs=4)]: Done 200 out of 200 | elapsed: 22.2min finished\n"
     ]
    },
    {
     "name": "stdout",
     "output_type": "stream",
     "text": [
      "Fitting 5 folds for each of 40 candidates, totalling 200 fits\n",
      "[CV] C=0.0001, degree=2, kernel=poly .................................\n",
      "[CV] C=0.0001, degree=2, kernel=poly .................................\n",
      "[CV] C=0.0001, degree=2, kernel=poly .................................\n",
      "[CV] C=0.0001, degree=2, kernel=poly .................................\n",
      "[CV]  C=0.0001, degree=2, kernel=poly, score=0.4927007299270073, total=  15.2s\n",
      "[CV]  C=0.0001, degree=2, kernel=poly, score=0.4927007299270073, total=  15.7s\n",
      "[CV] C=0.0001, degree=2, kernel=poly .................................\n",
      "[CV] C=0.0001, degree=3, kernel=poly .................................\n",
      "[CV]  C=0.0001, degree=2, kernel=poly, score=0.4927007299270073, total=  16.0s\n",
      "[CV] C=0.0001, degree=3, kernel=poly .................................\n",
      "[CV]  C=0.0001, degree=2, kernel=poly, score=0.4927007299270073, total=  16.2s\n",
      "[CV] C=0.0001, degree=3, kernel=poly .................................\n",
      "[CV]  C=0.0001, degree=2, kernel=poly, score=0.4908424908424908, total=  15.6s\n"
     ]
    },
    {
     "name": "stderr",
     "output_type": "stream",
     "text": [
      "[Parallel(n_jobs=4)]: Done   5 tasks      | elapsed:   51.9s\n"
     ]
    },
    {
     "name": "stdout",
     "output_type": "stream",
     "text": [
      "[CV]  C=0.0001, degree=3, kernel=poly, score=0.4927007299270073, total=  15.5s\n",
      "[CV] C=0.0001, degree=3, kernel=poly .................................\n",
      "[CV]  C=0.0001, degree=3, kernel=poly, score=0.4927007299270073, total=  15.3s\n",
      "[CV] C=0.0001, degree=3, kernel=poly .................................\n",
      "[CV] C=0.0001, degree=5, kernel=poly .................................\n",
      "[CV]  C=0.0001, degree=3, kernel=poly, score=0.4927007299270073, total=  16.1s\n",
      "[CV] C=0.0001, degree=5, kernel=poly .................................\n",
      "[CV]  C=0.0001, degree=3, kernel=poly, score=0.4927007299270073, total=  15.3s\n",
      "[CV]  C=0.0001, degree=3, kernel=poly, score=0.4908424908424908, total=  15.2s\n",
      "[CV] C=0.0001, degree=5, kernel=poly .................................\n"
     ]
    },
    {
     "name": "stderr",
     "output_type": "stream",
     "text": [
      "[Parallel(n_jobs=4)]: Done  10 tasks      | elapsed:  1.3min\n"
     ]
    },
    {
     "name": "stdout",
     "output_type": "stream",
     "text": [
      "[CV]  C=0.0001, degree=5, kernel=poly, score=0.4927007299270073, total=  15.1s\n",
      "[CV] C=0.0001, degree=5, kernel=poly .................................\n",
      "[CV] C=0.0001, degree=5, kernel=poly .................................\n",
      "[CV]  C=0.0001, degree=5, kernel=poly, score=0.4927007299270073, total=  15.9s\n",
      "[CV] C=0.0001, degree=11, kernel=poly ................................\n",
      "[CV]  C=0.0001, degree=5, kernel=poly, score=0.4927007299270073, total=  15.6s\n",
      "[CV]  C=0.0001, degree=5, kernel=poly, score=0.4927007299270073, total=  15.3s\n",
      "[CV] C=0.0001, degree=11, kernel=poly ................................\n",
      "[CV] C=0.0001, degree=11, kernel=poly ................................\n",
      "[CV]  C=0.0001, degree=5, kernel=poly, score=0.4908424908424908, total=  15.3s\n",
      "[CV] C=0.0001, degree=11, kernel=poly ................................\n",
      "[CV]  C=0.0001, degree=11, kernel=poly, score=0.4927007299270073, total=  16.5s\n",
      "[CV] C=0.0001, degree=11, kernel=poly ................................\n",
      "[CV]  C=0.0001, degree=11, kernel=poly, score=0.4927007299270073, total=  15.4s\n"
     ]
    },
    {
     "name": "stderr",
     "output_type": "stream",
     "text": [
      "[Parallel(n_jobs=4)]: Done  17 tasks      | elapsed:  2.2min\n"
     ]
    },
    {
     "name": "stdout",
     "output_type": "stream",
     "text": [
      "[CV]  C=0.0001, degree=11, kernel=poly, score=0.4927007299270073, total=  15.2s\n",
      "[CV] C=0.001, degree=2, kernel=poly ..................................\n",
      "[CV] C=0.001, degree=2, kernel=poly ..................................\n",
      "[CV]  C=0.0001, degree=11, kernel=poly, score=0.4927007299270073, total=  15.4s\n",
      "[CV] C=0.001, degree=2, kernel=poly ..................................\n",
      "[CV]  C=0.0001, degree=11, kernel=poly, score=0.4908424908424908, total=  16.9s\n",
      "[CV] C=0.001, degree=2, kernel=poly ..................................\n",
      "[CV]  C=0.001, degree=2, kernel=poly, score=0.4927007299270073, total=  15.3s\n",
      "[CV] C=0.001, degree=2, kernel=poly ..................................\n",
      "[CV]  C=0.001, degree=2, kernel=poly, score=0.4927007299270073, total=  15.2s\n",
      "[CV] C=0.001, degree=3, kernel=poly ..................................\n",
      "[CV]  C=0.001, degree=2, kernel=poly, score=0.4927007299270073, total=  15.2s\n",
      "[CV] C=0.001, degree=3, kernel=poly ..................................\n",
      "[CV]  C=0.001, degree=2, kernel=poly, score=0.4927007299270073, total=  17.0s\n"
     ]
    },
    {
     "name": "stderr",
     "output_type": "stream",
     "text": [
      "[Parallel(n_jobs=4)]: Done  24 tasks      | elapsed:  2.7min\n"
     ]
    },
    {
     "name": "stdout",
     "output_type": "stream",
     "text": [
      "[CV] C=0.001, degree=3, kernel=poly ..................................\n",
      "[CV]  C=0.001, degree=2, kernel=poly, score=0.4908424908424908, total=  15.3s\n",
      "[CV]  C=0.001, degree=3, kernel=poly, score=0.4927007299270073, total=  15.1s\n",
      "[CV] C=0.001, degree=3, kernel=poly ..................................\n",
      "[CV] C=0.001, degree=3, kernel=poly ..................................\n",
      "[CV]  C=0.001, degree=3, kernel=poly, score=0.4927007299270073, total=  15.5s\n",
      "[CV] C=0.001, degree=5, kernel=poly ..................................\n",
      "[CV]  C=0.001, degree=3, kernel=poly, score=0.4927007299270073, total=  17.1s\n",
      "[CV] C=0.001, degree=5, kernel=poly ..................................\n",
      "[CV]  C=0.001, degree=3, kernel=poly, score=0.4927007299270073, total=  15.1s\n",
      "[CV]  C=0.001, degree=3, kernel=poly, score=0.4908424908424908, total=  15.2s\n",
      "[CV] C=0.001, degree=5, kernel=poly ..................................\n",
      "[CV] C=0.001, degree=5, kernel=poly ..................................\n",
      "[CV]  C=0.001, degree=5, kernel=poly, score=0.4927007299270073, total=  15.3s\n",
      "[CV] C=0.001, degree=5, kernel=poly ..................................\n",
      "[CV]  C=0.001, degree=5, kernel=poly, score=0.4927007299270073, total=  17.1s\n",
      "[CV] C=0.001, degree=11, kernel=poly .................................\n",
      "[CV]  C=0.001, degree=5, kernel=poly, score=0.4927007299270073, total=  16.6s\n"
     ]
    },
    {
     "name": "stderr",
     "output_type": "stream",
     "text": [
      "[Parallel(n_jobs=4)]: Done  33 tasks      | elapsed:  4.0min\n"
     ]
    },
    {
     "name": "stdout",
     "output_type": "stream",
     "text": [
      "[CV]  C=0.001, degree=5, kernel=poly, score=0.4927007299270073, total=  16.9s\n",
      "[CV] C=0.001, degree=11, kernel=poly .................................\n",
      "[CV] C=0.001, degree=11, kernel=poly .................................\n",
      "[CV]  C=0.001, degree=5, kernel=poly, score=0.4908424908424908, total=  18.2s\n",
      "[CV] C=0.001, degree=11, kernel=poly .................................\n",
      "[CV]  C=0.001, degree=11, kernel=poly, score=0.4927007299270073, total=  20.9s\n",
      "[CV] C=0.001, degree=11, kernel=poly .................................\n",
      "[CV]  C=0.001, degree=11, kernel=poly, score=0.4927007299270073, total=  19.4s\n",
      "[CV]  C=0.001, degree=11, kernel=poly, score=0.4927007299270073, total=  19.1s\n",
      "[CV] C=0.01, degree=2, kernel=poly ...................................\n",
      "[CV] C=0.01, degree=2, kernel=poly ...................................\n",
      "[CV]  C=0.001, degree=11, kernel=poly, score=0.4927007299270073, total=  20.5s\n",
      "[CV] C=0.01, degree=2, kernel=poly ...................................\n",
      "[CV]  C=0.001, degree=11, kernel=poly, score=0.4908424908424908, total=  20.9s\n",
      "[CV] C=0.01, degree=2, kernel=poly ...................................\n",
      "[CV]  C=0.01, degree=2, kernel=poly, score=0.4927007299270073, total=  19.0s\n",
      "[CV] C=0.01, degree=2, kernel=poly ...................................\n",
      "[CV]  C=0.01, degree=2, kernel=poly, score=0.4927007299270073, total=  18.7s\n"
     ]
    },
    {
     "name": "stderr",
     "output_type": "stream",
     "text": [
      "[Parallel(n_jobs=4)]: Done  42 tasks      | elapsed:  5.1min\n"
     ]
    },
    {
     "name": "stdout",
     "output_type": "stream",
     "text": [
      "[CV] C=0.01, degree=3, kernel=poly ...................................\n",
      "[CV]  C=0.01, degree=2, kernel=poly, score=0.4927007299270073, total=  20.6s\n",
      "[CV] C=0.01, degree=3, kernel=poly ...................................\n",
      "[CV]  C=0.01, degree=2, kernel=poly, score=0.4927007299270073, total=  20.5s\n",
      "[CV] C=0.01, degree=3, kernel=poly ...................................\n",
      "[CV]  C=0.01, degree=2, kernel=poly, score=0.4908424908424908, total=  19.3s\n",
      "[CV]  C=0.01, degree=3, kernel=poly, score=0.4927007299270073, total=  19.0s\n",
      "[CV] C=0.01, degree=3, kernel=poly ...................................\n",
      "[CV] C=0.01, degree=3, kernel=poly ...................................\n",
      "[CV]  C=0.01, degree=3, kernel=poly, score=0.4927007299270073, total=  21.2s\n",
      "[CV] C=0.01, degree=5, kernel=poly ...................................\n",
      "[CV]  C=0.01, degree=3, kernel=poly, score=0.4927007299270073, total=  20.7s\n",
      "[CV] C=0.01, degree=5, kernel=poly ...................................\n",
      "[CV]  C=0.01, degree=3, kernel=poly, score=0.4927007299270073, total=  20.1s\n",
      "[CV]  C=0.01, degree=3, kernel=poly, score=0.4908424908424908, total=  19.8s\n",
      "[CV] C=0.01, degree=5, kernel=poly ...................................\n",
      "[CV] C=0.01, degree=5, kernel=poly ...................................\n",
      "[CV]  C=0.01, degree=5, kernel=poly, score=0.4927007299270073, total=  21.5s\n",
      "[CV] C=0.01, degree=5, kernel=poly ...................................\n",
      "[CV]  C=0.01, degree=5, kernel=poly, score=0.4927007299270073, total=  20.6s\n",
      "[CV] C=0.01, degree=11, kernel=poly ..................................\n",
      "[CV]  C=0.01, degree=5, kernel=poly, score=0.4927007299270073, total=  19.9s\n"
     ]
    },
    {
     "name": "stderr",
     "output_type": "stream",
     "text": [
      "[Parallel(n_jobs=4)]: Done  53 tasks      | elapsed:  6.7min\n"
     ]
    },
    {
     "name": "stdout",
     "output_type": "stream",
     "text": [
      "[CV] C=0.01, degree=11, kernel=poly ..................................\n",
      "[CV]  C=0.01, degree=5, kernel=poly, score=0.4927007299270073, total=  20.1s\n",
      "[CV] C=0.01, degree=11, kernel=poly ..................................\n",
      "[CV]  C=0.01, degree=5, kernel=poly, score=0.4908424908424908, total=  21.3s\n",
      "[CV] C=0.01, degree=11, kernel=poly ..................................\n",
      "[CV]  C=0.01, degree=11, kernel=poly, score=0.4927007299270073, total=  20.4s\n",
      "[CV] C=0.01, degree=11, kernel=poly ..................................\n",
      "[CV]  C=0.01, degree=11, kernel=poly, score=0.4927007299270073, total=  19.8s\n",
      "[CV]  C=0.01, degree=11, kernel=poly, score=0.4927007299270073, total=  19.5s\n",
      "[CV] C=0.1, degree=2, kernel=poly ....................................\n",
      "[CV] C=0.1, degree=2, kernel=poly ....................................\n",
      "[CV]  C=0.01, degree=11, kernel=poly, score=0.4927007299270073, total=  18.7s\n",
      "[CV] C=0.1, degree=2, kernel=poly ....................................\n",
      "[CV]  C=0.01, degree=11, kernel=poly, score=0.4908424908424908, total=  16.6s\n",
      "[CV] C=0.1, degree=2, kernel=poly ....................................\n",
      "[CV]  C=0.1, degree=2, kernel=poly, score=0.4927007299270073, total=  15.2s\n",
      "[CV] C=0.1, degree=2, kernel=poly ....................................\n",
      "[CV]  C=0.1, degree=2, kernel=poly, score=0.4927007299270073, total=  15.4s\n",
      "[CV] C=0.1, degree=3, kernel=poly ....................................\n",
      "[CV]  C=0.1, degree=2, kernel=poly, score=0.4927007299270073, total=  16.4s\n",
      "[CV] C=0.1, degree=3, kernel=poly ....................................\n",
      "[CV]  C=0.1, degree=2, kernel=poly, score=0.4927007299270073, total=  16.2s\n"
     ]
    },
    {
     "name": "stderr",
     "output_type": "stream",
     "text": [
      "[Parallel(n_jobs=4)]: Done  64 tasks      | elapsed:  7.9min\n"
     ]
    },
    {
     "name": "stdout",
     "output_type": "stream",
     "text": [
      "[CV] C=0.1, degree=3, kernel=poly ....................................\n",
      "[CV]  C=0.1, degree=2, kernel=poly, score=0.4908424908424908, total=  15.6s\n",
      "[CV] C=0.1, degree=3, kernel=poly ....................................\n",
      "[CV]  C=0.1, degree=3, kernel=poly, score=0.4927007299270073, total=  15.6s\n",
      "[CV] C=0.1, degree=3, kernel=poly ....................................\n",
      "[CV]  C=0.1, degree=3, kernel=poly, score=0.4927007299270073, total=  16.3s\n",
      "[CV] C=0.1, degree=5, kernel=poly ....................................\n",
      "[CV]  C=0.1, degree=3, kernel=poly, score=0.4927007299270073, total=  16.2s\n",
      "[CV] C=0.1, degree=5, kernel=poly ....................................\n",
      "[CV]  C=0.1, degree=3, kernel=poly, score=0.4927007299270073, total=  15.5s\n",
      "[CV] C=0.1, degree=5, kernel=poly ....................................\n",
      "[CV]  C=0.1, degree=3, kernel=poly, score=0.4908424908424908, total=  15.6s\n",
      "[CV] C=0.1, degree=5, kernel=poly ....................................\n",
      "[CV]  C=0.1, degree=5, kernel=poly, score=0.4927007299270073, total=  16.4s\n",
      "[CV] C=0.1, degree=5, kernel=poly ....................................\n",
      "[CV]  C=0.1, degree=5, kernel=poly, score=0.4927007299270073, total=  16.4s\n",
      "[CV] C=0.1, degree=11, kernel=poly ...................................\n",
      "[CV]  C=0.1, degree=5, kernel=poly, score=0.4927007299270073, total=  15.8s\n",
      "[CV] C=0.1, degree=11, kernel=poly ...................................\n",
      "[CV]  C=0.1, degree=5, kernel=poly, score=0.4927007299270073, total=  15.6s\n",
      "[CV] C=0.1, degree=11, kernel=poly ...................................\n",
      "[CV]  C=0.1, degree=5, kernel=poly, score=0.4908424908424908, total=  16.1s\n",
      "[CV] C=0.1, degree=11, kernel=poly ...................................\n",
      "[CV]  C=0.1, degree=11, kernel=poly, score=0.4927007299270073, total=  16.2s\n",
      "[CV] C=0.1, degree=11, kernel=poly ...................................\n",
      "[CV]  C=0.1, degree=11, kernel=poly, score=0.4927007299270073, total=  15.9s\n"
     ]
    },
    {
     "name": "stderr",
     "output_type": "stream",
     "text": [
      "[Parallel(n_jobs=4)]: Done  77 tasks      | elapsed:  9.3min\n"
     ]
    },
    {
     "name": "stdout",
     "output_type": "stream",
     "text": [
      "[CV] C=1, degree=2, kernel=poly ......................................\n",
      "[CV]  C=0.1, degree=11, kernel=poly, score=0.4927007299270073, total=  15.9s\n",
      "[CV] C=1, degree=2, kernel=poly ......................................\n",
      "[CV]  C=0.1, degree=11, kernel=poly, score=0.4927007299270073, total=  16.2s\n",
      "[CV] C=1, degree=2, kernel=poly ......................................\n",
      "[CV]  C=0.1, degree=11, kernel=poly, score=0.4908424908424908, total=  16.1s\n",
      "[CV] C=1, degree=2, kernel=poly ......................................\n",
      "[CV]  C=1, degree=2, kernel=poly, score=0.4927007299270073, total=  15.8s\n",
      "[CV] C=1, degree=2, kernel=poly ......................................\n",
      "[CV]  C=1, degree=2, kernel=poly, score=0.4927007299270073, total=  15.6s\n",
      "[CV] C=1, degree=3, kernel=poly ......................................\n",
      "[CV]  C=1, degree=2, kernel=poly, score=0.4927007299270073, total=  15.6s\n",
      "[CV] C=1, degree=3, kernel=poly ......................................\n",
      "[CV]  C=1, degree=2, kernel=poly, score=0.4927007299270073, total=  15.9s\n",
      "[CV] C=1, degree=3, kernel=poly ......................................\n",
      "[CV]  C=1, degree=2, kernel=poly, score=0.4908424908424908, total=  15.7s\n",
      "[CV] C=1, degree=3, kernel=poly ......................................\n",
      "[CV]  C=1, degree=3, kernel=poly, score=0.4927007299270073, total=  15.8s\n",
      "[CV] C=1, degree=3, kernel=poly ......................................\n",
      "[CV]  C=1, degree=3, kernel=poly, score=0.4927007299270073, total=  15.7s\n",
      "[CV] C=1, degree=5, kernel=poly ......................................\n",
      "[CV]  C=1, degree=3, kernel=poly, score=0.4927007299270073, total=  15.6s\n",
      "[CV] C=1, degree=5, kernel=poly ......................................\n",
      "[CV]  C=1, degree=3, kernel=poly, score=0.4927007299270073, total=  16.0s\n",
      "[CV] C=1, degree=5, kernel=poly ......................................\n",
      "[CV]  C=1, degree=3, kernel=poly, score=0.4908424908424908, total=  16.2s\n"
     ]
    },
    {
     "name": "stderr",
     "output_type": "stream",
     "text": [
      "[Parallel(n_jobs=4)]: Done  90 tasks      | elapsed: 10.6min\n"
     ]
    },
    {
     "name": "stdout",
     "output_type": "stream",
     "text": [
      "[CV] C=1, degree=5, kernel=poly ......................................\n",
      "[CV]  C=1, degree=5, kernel=poly, score=0.4927007299270073, total=  16.2s\n",
      "[CV] C=1, degree=5, kernel=poly ......................................\n",
      "[CV]  C=1, degree=5, kernel=poly, score=0.4927007299270073, total=  17.3s\n",
      "[CV] C=1, degree=11, kernel=poly .....................................\n",
      "[CV]  C=1, degree=5, kernel=poly, score=0.4927007299270073, total=  17.2s\n",
      "[CV] C=1, degree=11, kernel=poly .....................................\n",
      "[CV]  C=1, degree=5, kernel=poly, score=0.4927007299270073, total=  17.7s\n",
      "[CV] C=1, degree=11, kernel=poly .....................................\n",
      "[CV]  C=1, degree=5, kernel=poly, score=0.4908424908424908, total=  15.9s\n",
      "[CV] C=1, degree=11, kernel=poly .....................................\n",
      "[CV]  C=1, degree=11, kernel=poly, score=0.4927007299270073, total=  16.0s\n",
      "[CV] C=1, degree=11, kernel=poly .....................................\n",
      "[CV]  C=1, degree=11, kernel=poly, score=0.4927007299270073, total=  16.0s\n",
      "[CV] C=2, degree=2, kernel=poly ......................................\n",
      "[CV]  C=1, degree=11, kernel=poly, score=0.4927007299270073, total=  16.4s\n",
      "[CV] C=2, degree=2, kernel=poly ......................................\n",
      "[CV]  C=1, degree=11, kernel=poly, score=0.4927007299270073, total=  16.0s\n",
      "[CV] C=2, degree=2, kernel=poly ......................................\n",
      "[CV]  C=1, degree=11, kernel=poly, score=0.4908424908424908, total=  15.9s\n",
      "[CV] C=2, degree=2, kernel=poly ......................................\n",
      "[CV]  C=2, degree=2, kernel=poly, score=0.4927007299270073, total=  15.8s\n",
      "[CV] C=2, degree=2, kernel=poly ......................................\n",
      "[CV]  C=2, degree=2, kernel=poly, score=0.4927007299270073, total=  16.3s\n",
      "[CV] C=2, degree=3, kernel=poly ......................................\n",
      "[CV]  C=2, degree=2, kernel=poly, score=0.4927007299270073, total=  15.6s\n",
      "[CV] C=2, degree=3, kernel=poly ......................................\n",
      "[CV]  C=2, degree=2, kernel=poly, score=0.4927007299270073, total=  15.6s\n",
      "[CV] C=2, degree=3, kernel=poly ......................................\n",
      "[CV]  C=2, degree=2, kernel=poly, score=0.4908424908424908, total=  15.7s\n"
     ]
    },
    {
     "name": "stderr",
     "output_type": "stream",
     "text": [
      "[Parallel(n_jobs=4)]: Done 105 tasks      | elapsed: 12.3min\n"
     ]
    },
    {
     "name": "stdout",
     "output_type": "stream",
     "text": [
      "[CV] C=2, degree=3, kernel=poly ......................................\n",
      "[CV]  C=2, degree=3, kernel=poly, score=0.4927007299270073, total=  16.5s\n",
      "[CV] C=2, degree=3, kernel=poly ......................................\n",
      "[CV]  C=2, degree=3, kernel=poly, score=0.4927007299270073, total=  15.9s\n",
      "[CV] C=2, degree=5, kernel=poly ......................................\n",
      "[CV]  C=2, degree=3, kernel=poly, score=0.4927007299270073, total=  15.9s\n",
      "[CV] C=2, degree=5, kernel=poly ......................................\n",
      "[CV]  C=2, degree=3, kernel=poly, score=0.4927007299270073, total=  16.0s\n",
      "[CV] C=2, degree=5, kernel=poly ......................................\n",
      "[CV]  C=2, degree=3, kernel=poly, score=0.4908424908424908, total=  16.8s\n",
      "[CV] C=2, degree=5, kernel=poly ......................................\n",
      "[CV]  C=2, degree=5, kernel=poly, score=0.4927007299270073, total=  15.2s\n",
      "[CV] C=2, degree=5, kernel=poly ......................................\n",
      "[CV]  C=2, degree=5, kernel=poly, score=0.4927007299270073, total=  15.3s\n",
      "[CV] C=2, degree=11, kernel=poly .....................................\n",
      "[CV]  C=2, degree=5, kernel=poly, score=0.4927007299270073, total=  15.7s\n",
      "[CV] C=2, degree=11, kernel=poly .....................................\n",
      "[CV]  C=2, degree=5, kernel=poly, score=0.4927007299270073, total=  16.6s\n",
      "[CV] C=2, degree=11, kernel=poly .....................................\n",
      "[CV]  C=2, degree=5, kernel=poly, score=0.4908424908424908, total=  15.5s\n",
      "[CV] C=2, degree=11, kernel=poly .....................................\n",
      "[CV]  C=2, degree=11, kernel=poly, score=0.4927007299270073, total=  15.2s\n",
      "[CV] C=2, degree=11, kernel=poly .....................................\n",
      "[CV]  C=2, degree=11, kernel=poly, score=0.4927007299270073, total=  15.9s\n",
      "[CV] C=10, degree=2, kernel=poly .....................................\n",
      "[CV]  C=2, degree=11, kernel=poly, score=0.4927007299270073, total=  16.6s\n",
      "[CV] C=10, degree=2, kernel=poly .....................................\n",
      "[CV]  C=2, degree=11, kernel=poly, score=0.4927007299270073, total=  15.6s\n",
      "[CV] C=10, degree=2, kernel=poly .....................................\n",
      "[CV]  C=2, degree=11, kernel=poly, score=0.4908424908424908, total=  15.2s\n"
     ]
    },
    {
     "name": "stderr",
     "output_type": "stream",
     "text": [
      "[Parallel(n_jobs=4)]: Done 120 tasks      | elapsed: 14.0min\n"
     ]
    },
    {
     "name": "stdout",
     "output_type": "stream",
     "text": [
      "[CV] C=10, degree=2, kernel=poly .....................................\n",
      "[CV]  C=10, degree=2, kernel=poly, score=0.4927007299270073, total=  16.1s\n",
      "[CV] C=10, degree=2, kernel=poly .....................................\n",
      "[CV]  C=10, degree=2, kernel=poly, score=0.4927007299270073, total=  17.0s\n",
      "[CV] C=10, degree=3, kernel=poly .....................................\n",
      "[CV]  C=10, degree=2, kernel=poly, score=0.4927007299270073, total=  15.4s\n",
      "[CV] C=10, degree=3, kernel=poly .....................................\n",
      "[CV]  C=10, degree=2, kernel=poly, score=0.4927007299270073, total=  15.3s\n",
      "[CV] C=10, degree=3, kernel=poly .....................................\n",
      "[CV]  C=10, degree=2, kernel=poly, score=0.4908424908424908, total=  16.3s\n",
      "[CV] C=10, degree=3, kernel=poly .....................................\n",
      "[CV]  C=10, degree=3, kernel=poly, score=0.4927007299270073, total=  16.8s\n",
      "[CV] C=10, degree=3, kernel=poly .....................................\n",
      "[CV]  C=10, degree=3, kernel=poly, score=0.4927007299270073, total=  15.6s\n",
      "[CV] C=10, degree=5, kernel=poly .....................................\n",
      "[CV]  C=10, degree=3, kernel=poly, score=0.4927007299270073, total=  15.0s\n",
      "[CV] C=10, degree=5, kernel=poly .....................................\n",
      "[CV]  C=10, degree=3, kernel=poly, score=0.4927007299270073, total=  16.1s\n",
      "[CV] C=10, degree=5, kernel=poly .....................................\n",
      "[CV]  C=10, degree=3, kernel=poly, score=0.4908424908424908, total=  16.3s\n",
      "[CV] C=10, degree=5, kernel=poly .....................................\n",
      "[CV]  C=10, degree=5, kernel=poly, score=0.4927007299270073, total=  15.0s\n",
      "[CV] C=10, degree=5, kernel=poly .....................................\n",
      "[CV]  C=10, degree=5, kernel=poly, score=0.4927007299270073, total=  14.9s\n",
      "[CV] C=10, degree=11, kernel=poly ....................................\n",
      "[CV]  C=10, degree=5, kernel=poly, score=0.4927007299270073, total=  16.1s\n",
      "[CV] C=10, degree=11, kernel=poly ....................................\n",
      "[CV]  C=10, degree=5, kernel=poly, score=0.4927007299270073, total=  16.0s\n",
      "[CV] C=10, degree=11, kernel=poly ....................................\n",
      "[CV]  C=10, degree=5, kernel=poly, score=0.4908424908424908, total=  15.1s\n",
      "[CV] C=10, degree=11, kernel=poly ....................................\n",
      "[CV]  C=10, degree=11, kernel=poly, score=0.4927007299270073, total=  14.9s\n",
      "[CV] C=10, degree=11, kernel=poly ....................................\n",
      "[CV]  C=10, degree=11, kernel=poly, score=0.4927007299270073, total=  16.6s\n"
     ]
    },
    {
     "name": "stderr",
     "output_type": "stream",
     "text": [
      "[Parallel(n_jobs=4)]: Done 137 tasks      | elapsed: 15.8min\n"
     ]
    },
    {
     "name": "stdout",
     "output_type": "stream",
     "text": [
      "[CV] C=50, degree=2, kernel=poly .....................................\n",
      "[CV]  C=10, degree=11, kernel=poly, score=0.4927007299270073, total=  16.5s\n",
      "[CV] C=50, degree=2, kernel=poly .....................................\n",
      "[CV]  C=10, degree=11, kernel=poly, score=0.4927007299270073, total=  18.4s\n",
      "[CV] C=50, degree=2, kernel=poly .....................................\n",
      "[CV]  C=10, degree=11, kernel=poly, score=0.4908424908424908, total=  18.8s\n",
      "[CV] C=50, degree=2, kernel=poly .....................................\n",
      "[CV]  C=50, degree=2, kernel=poly, score=0.4927007299270073, total=  21.7s\n",
      "[CV] C=50, degree=2, kernel=poly .....................................\n",
      "[CV]  C=50, degree=2, kernel=poly, score=0.4927007299270073, total=  21.7s\n",
      "[CV] C=50, degree=3, kernel=poly .....................................\n",
      "[CV]  C=50, degree=2, kernel=poly, score=0.4927007299270073, total=  19.6s\n",
      "[CV] C=50, degree=3, kernel=poly .....................................\n",
      "[CV]  C=50, degree=2, kernel=poly, score=0.4927007299270073, total=  19.3s\n",
      "[CV] C=50, degree=3, kernel=poly .....................................\n",
      "[CV]  C=50, degree=2, kernel=poly, score=0.4908424908424908, total=  21.0s\n",
      "[CV] C=50, degree=3, kernel=poly .....................................\n",
      "[CV]  C=50, degree=3, kernel=poly, score=0.4927007299270073, total=  20.6s\n",
      "[CV] C=50, degree=3, kernel=poly .....................................\n",
      "[CV]  C=50, degree=3, kernel=poly, score=0.4927007299270073, total=  19.5s\n",
      "[CV] C=50, degree=5, kernel=poly .....................................\n",
      "[CV]  C=50, degree=3, kernel=poly, score=0.4927007299270073, total=  19.6s\n",
      "[CV] C=50, degree=5, kernel=poly .....................................\n",
      "[CV]  C=50, degree=3, kernel=poly, score=0.4927007299270073, total=  20.9s\n",
      "[CV] C=50, degree=5, kernel=poly .....................................\n",
      "[CV]  C=50, degree=3, kernel=poly, score=0.4908424908424908, total=  20.6s\n",
      "[CV] C=50, degree=5, kernel=poly .....................................\n",
      "[CV]  C=50, degree=5, kernel=poly, score=0.4927007299270073, total=  19.5s\n",
      "[CV] C=50, degree=5, kernel=poly .....................................\n",
      "[CV]  C=50, degree=5, kernel=poly, score=0.4927007299270073, total=  19.8s\n",
      "[CV] C=50, degree=11, kernel=poly ....................................\n",
      "[CV]  C=50, degree=5, kernel=poly, score=0.4927007299270073, total=  20.8s\n",
      "[CV] C=50, degree=11, kernel=poly ....................................\n",
      "[CV]  C=50, degree=5, kernel=poly, score=0.4927007299270073, total=  20.9s\n"
     ]
    },
    {
     "name": "stderr",
     "output_type": "stream",
     "text": [
      "[Parallel(n_jobs=4)]: Done 154 tasks      | elapsed: 18.1min\n"
     ]
    },
    {
     "name": "stdout",
     "output_type": "stream",
     "text": [
      "[CV] C=50, degree=11, kernel=poly ....................................\n",
      "[CV]  C=50, degree=5, kernel=poly, score=0.5091575091575091, total=  19.5s\n",
      "[CV] C=50, degree=11, kernel=poly ....................................\n",
      "[CV]  C=50, degree=11, kernel=poly, score=0.4927007299270073, total=  20.1s\n",
      "[CV] C=50, degree=11, kernel=poly ....................................\n",
      "[CV]  C=50, degree=11, kernel=poly, score=0.4927007299270073, total=  20.3s\n",
      "[CV] C=100, degree=2, kernel=poly ....................................\n",
      "[CV]  C=50, degree=11, kernel=poly, score=0.4927007299270073, total=  20.1s\n",
      "[CV] C=100, degree=2, kernel=poly ....................................\n",
      "[CV]  C=50, degree=11, kernel=poly, score=0.4927007299270073, total=  19.5s\n",
      "[CV] C=100, degree=2, kernel=poly ....................................\n",
      "[CV]  C=50, degree=11, kernel=poly, score=0.5091575091575091, total=  19.6s\n",
      "[CV] C=100, degree=2, kernel=poly ....................................\n",
      "[CV]  C=100, degree=2, kernel=poly, score=0.4927007299270073, total=  20.3s\n",
      "[CV] C=100, degree=2, kernel=poly ....................................\n",
      "[CV]  C=100, degree=2, kernel=poly, score=0.4927007299270073, total=  20.7s\n",
      "[CV] C=100, degree=3, kernel=poly ....................................\n",
      "[CV]  C=100, degree=2, kernel=poly, score=0.4927007299270073, total=  20.2s\n",
      "[CV] C=100, degree=3, kernel=poly ....................................\n",
      "[CV]  C=100, degree=2, kernel=poly, score=0.4927007299270073, total=  20.3s\n",
      "[CV] C=100, degree=3, kernel=poly ....................................\n",
      "[CV]  C=100, degree=2, kernel=poly, score=0.4908424908424908, total=  20.2s\n",
      "[CV] C=100, degree=3, kernel=poly ....................................\n",
      "[CV]  C=100, degree=3, kernel=poly, score=0.4927007299270073, total=  20.5s\n",
      "[CV] C=100, degree=3, kernel=poly ....................................\n",
      "[CV]  C=100, degree=3, kernel=poly, score=0.4927007299270073, total=  20.0s\n",
      "[CV] C=100, degree=5, kernel=poly ....................................\n",
      "[CV]  C=100, degree=3, kernel=poly, score=0.4927007299270073, total=  20.4s\n",
      "[CV] C=100, degree=5, kernel=poly ....................................\n",
      "[CV]  C=100, degree=3, kernel=poly, score=0.4927007299270073, total=  21.0s\n",
      "[CV] C=100, degree=5, kernel=poly ....................................\n",
      "[CV]  C=100, degree=3, kernel=poly, score=0.4908424908424908, total=  19.3s\n",
      "[CV] C=100, degree=5, kernel=poly ....................................\n",
      "[CV]  C=100, degree=5, kernel=poly, score=0.4927007299270073, total=  16.2s\n",
      "[CV] C=100, degree=5, kernel=poly ....................................\n",
      "[CV]  C=100, degree=5, kernel=poly, score=0.4927007299270073, total=  16.3s\n",
      "[CV] C=100, degree=11, kernel=poly ...................................\n",
      "[CV]  C=100, degree=5, kernel=poly, score=0.4927007299270073, total=  16.0s\n"
     ]
    },
    {
     "name": "stderr",
     "output_type": "stream",
     "text": [
      "[Parallel(n_jobs=4)]: Done 173 tasks      | elapsed: 20.6min\n"
     ]
    },
    {
     "name": "stdout",
     "output_type": "stream",
     "text": [
      "[CV] C=100, degree=11, kernel=poly ...................................\n",
      "[CV]  C=100, degree=5, kernel=poly, score=0.4927007299270073, total=  15.7s\n",
      "[CV] C=100, degree=11, kernel=poly ...................................\n",
      "[CV]  C=100, degree=5, kernel=poly, score=0.5091575091575091, total=  16.1s\n",
      "[CV] C=100, degree=11, kernel=poly ...................................\n",
      "[CV]  C=100, degree=11, kernel=poly, score=0.4927007299270073, total=  17.2s\n",
      "[CV] C=100, degree=11, kernel=poly ...................................\n",
      "[CV]  C=100, degree=11, kernel=poly, score=0.4927007299270073, total=  16.8s\n",
      "[CV] C=1000, degree=2, kernel=poly ...................................\n",
      "[CV]  C=100, degree=11, kernel=poly, score=0.4927007299270073, total=  16.4s\n",
      "[CV] C=1000, degree=2, kernel=poly ...................................\n",
      "[CV]  C=100, degree=11, kernel=poly, score=0.4927007299270073, total=  16.1s\n",
      "[CV] C=1000, degree=2, kernel=poly ...................................\n",
      "[CV]  C=100, degree=11, kernel=poly, score=0.5091575091575091, total=  16.5s\n",
      "[CV] C=1000, degree=2, kernel=poly ...................................\n",
      "[CV]  C=1000, degree=2, kernel=poly, score=0.5109489051094891, total=  15.7s\n",
      "[CV] C=1000, degree=2, kernel=poly ...................................\n",
      "[CV]  C=1000, degree=2, kernel=poly, score=0.5109489051094891, total=  15.8s\n",
      "[CV] C=1000, degree=3, kernel=poly ...................................\n",
      "[CV]  C=1000, degree=2, kernel=poly, score=0.5255474452554745, total=  16.9s\n",
      "[CV] C=1000, degree=3, kernel=poly ...................................\n",
      "[CV]  C=1000, degree=2, kernel=poly, score=0.5109489051094891, total=  17.4s\n",
      "[CV] C=1000, degree=3, kernel=poly ...................................\n",
      "[CV]  C=1000, degree=2, kernel=poly, score=0.5054945054945055, total=  18.4s\n",
      "[CV] C=1000, degree=3, kernel=poly ...................................\n",
      "[CV]  C=1000, degree=3, kernel=poly, score=0.4927007299270073, total=  17.7s\n",
      "[CV] C=1000, degree=3, kernel=poly ...................................\n",
      "[CV]  C=1000, degree=3, kernel=poly, score=0.4927007299270073, total=  17.6s\n",
      "[CV] C=1000, degree=5, kernel=poly ...................................\n",
      "[CV]  C=1000, degree=3, kernel=poly, score=0.4927007299270073, total=  17.1s\n",
      "[CV] C=1000, degree=5, kernel=poly ...................................\n",
      "[CV]  C=1000, degree=3, kernel=poly, score=0.4927007299270073, total=  16.7s\n",
      "[CV] C=1000, degree=5, kernel=poly ...................................\n",
      "[CV]  C=1000, degree=3, kernel=poly, score=0.4908424908424908, total=  16.8s\n",
      "[CV] C=1000, degree=5, kernel=poly ...................................\n",
      "[CV]  C=1000, degree=5, kernel=poly, score=0.4927007299270073, total=  17.8s\n",
      "[CV] C=1000, degree=5, kernel=poly ...................................\n",
      "[CV]  C=1000, degree=5, kernel=poly, score=0.4927007299270073, total=  17.9s\n"
     ]
    },
    {
     "name": "stderr",
     "output_type": "stream",
     "text": [
      "[Parallel(n_jobs=4)]: Done 192 tasks      | elapsed: 22.7min\n"
     ]
    },
    {
     "name": "stdout",
     "output_type": "stream",
     "text": [
      "[CV] C=1000, degree=11, kernel=poly ..................................\n",
      "[CV]  C=1000, degree=5, kernel=poly, score=0.4927007299270073, total=  16.3s\n",
      "[CV] C=1000, degree=11, kernel=poly ..................................\n",
      "[CV]  C=1000, degree=5, kernel=poly, score=0.4927007299270073, total=  16.1s\n",
      "[CV] C=1000, degree=11, kernel=poly ..................................\n",
      "[CV]  C=1000, degree=5, kernel=poly, score=0.4908424908424908, total=  17.3s\n",
      "[CV] C=1000, degree=11, kernel=poly ..................................\n",
      "[CV]  C=1000, degree=11, kernel=poly, score=0.4927007299270073, total=  20.8s\n",
      "[CV] C=1000, degree=11, kernel=poly ..................................\n",
      "[CV]  C=1000, degree=11, kernel=poly, score=0.4927007299270073, total=  22.2s\n",
      "[CV]  C=1000, degree=11, kernel=poly, score=0.4927007299270073, total=  21.9s\n",
      "[CV]  C=1000, degree=11, kernel=poly, score=0.4927007299270073, total=  20.3s\n",
      "[CV]  C=1000, degree=11, kernel=poly, score=0.4908424908424908, total=  18.6s\n"
     ]
    },
    {
     "name": "stderr",
     "output_type": "stream",
     "text": [
      "[Parallel(n_jobs=4)]: Done 200 out of 200 | elapsed: 23.8min finished\n"
     ]
    }
   ],
   "source": [
    "best_metrics = pd.DataFrame()\n",
    "best_clfs = dict()\n",
    "clfs = dict()\n",
    "for i, params in enumerate([svc_params_linear, svc_params_rbf, svc_params_poly]):\n",
    "    clf = GridSearchCV(SVC(class_weight='balanced'), params, error_score=0, verbose=10, \n",
    "                       cv=5, scoring='accuracy', n_jobs=4)\n",
    "    clf = clf.fit(X_train, y_train)\n",
    "    clfs[params['kernel'][0]] = clf\n",
    "    add_metrics(best_metrics, clf.best_score_, 'comment_cv', params['kernel'][0])\n",
    "    best_clfs[params['kernel'][0]] = clf.best_estimator_"
   ]
  },
  {
   "cell_type": "code",
   "execution_count": 31,
   "metadata": {},
   "outputs": [],
   "source": [
    "# pickle.dump(best_metrics, open(\"best_metrics\", \"wb\"))\n",
    "# pickle.dump(clfs, open(\"clfs\", \"wb\"))\n",
    "# pickle.dump(best_clfs, open(\"best_clfs\", \"wb\"))"
   ]
  },
  {
   "cell_type": "code",
   "execution_count": 105,
   "metadata": {},
   "outputs": [],
   "source": [
    "def overfitting_add(df, params, delta):\n",
    "    df = df.append(params, ignore_index=True)\n",
    "    df.iloc[-1]['accuracy'] = delta\n",
    "    return df"
   ]
  },
  {
   "cell_type": "code",
   "execution_count": 106,
   "metadata": {},
   "outputs": [],
   "source": [
    "overfitting = pd.DataFrame()\n",
    "for kernel in clfs:\n",
    "    results = clfs[kernel].cv_results_\n",
    "    for i in range(len(results['mean_train_score'])):\n",
    "        delta = results['mean_test_score'][i] - results['mean_train_score'][i]\n",
    "        if delta < 0:\n",
    "            overfitting = overfitting_add(overfitting, results['params'][i], delta)"
   ]
  },
  {
   "cell_type": "code",
   "execution_count": 108,
   "metadata": {},
   "outputs": [
    {
     "data": {
      "text/html": [
       "<div>\n",
       "<style scoped>\n",
       "    .dataframe tbody tr th:only-of-type {\n",
       "        vertical-align: middle;\n",
       "    }\n",
       "\n",
       "    .dataframe tbody tr th {\n",
       "        vertical-align: top;\n",
       "    }\n",
       "\n",
       "    .dataframe thead th {\n",
       "        text-align: right;\n",
       "    }\n",
       "</style>\n",
       "<table border=\"1\" class=\"dataframe\">\n",
       "  <thead>\n",
       "    <tr style=\"text-align: right;\">\n",
       "      <th></th>\n",
       "      <th>C</th>\n",
       "      <th>accuracy</th>\n",
       "      <th>delta_accuracy</th>\n",
       "      <th>kernel</th>\n",
       "      <th>gamma</th>\n",
       "      <th>degree</th>\n",
       "    </tr>\n",
       "  </thead>\n",
       "  <tbody>\n",
       "    <tr>\n",
       "      <th>6</th>\n",
       "      <td>50.000</td>\n",
       "      <td>-0.062820</td>\n",
       "      <td>-0.062820</td>\n",
       "      <td>linear</td>\n",
       "      <td>NaN</td>\n",
       "      <td>NaN</td>\n",
       "    </tr>\n",
       "    <tr>\n",
       "      <th>7</th>\n",
       "      <td>100.000</td>\n",
       "      <td>-0.062820</td>\n",
       "      <td>-0.062820</td>\n",
       "      <td>linear</td>\n",
       "      <td>NaN</td>\n",
       "      <td>NaN</td>\n",
       "    </tr>\n",
       "    <tr>\n",
       "      <th>8</th>\n",
       "      <td>1000.000</td>\n",
       "      <td>-0.062820</td>\n",
       "      <td>-0.062820</td>\n",
       "      <td>linear</td>\n",
       "      <td>NaN</td>\n",
       "      <td>NaN</td>\n",
       "    </tr>\n",
       "    <tr>\n",
       "      <th>32</th>\n",
       "      <td>1000.000</td>\n",
       "      <td>-0.056246</td>\n",
       "      <td>-0.056246</td>\n",
       "      <td>rbf</td>\n",
       "      <td>0.01</td>\n",
       "      <td>NaN</td>\n",
       "    </tr>\n",
       "    <tr>\n",
       "      <th>5</th>\n",
       "      <td>10.000</td>\n",
       "      <td>-0.054237</td>\n",
       "      <td>-0.054237</td>\n",
       "      <td>linear</td>\n",
       "      <td>NaN</td>\n",
       "      <td>NaN</td>\n",
       "    </tr>\n",
       "    <tr>\n",
       "      <th>3</th>\n",
       "      <td>1.000</td>\n",
       "      <td>-0.049123</td>\n",
       "      <td>-0.049123</td>\n",
       "      <td>linear</td>\n",
       "      <td>NaN</td>\n",
       "      <td>NaN</td>\n",
       "    </tr>\n",
       "    <tr>\n",
       "      <th>4</th>\n",
       "      <td>2.000</td>\n",
       "      <td>-0.049123</td>\n",
       "      <td>-0.049123</td>\n",
       "      <td>linear</td>\n",
       "      <td>NaN</td>\n",
       "      <td>NaN</td>\n",
       "    </tr>\n",
       "    <tr>\n",
       "      <th>29</th>\n",
       "      <td>1000.000</td>\n",
       "      <td>-0.046202</td>\n",
       "      <td>-0.046202</td>\n",
       "      <td>rbf</td>\n",
       "      <td>auto</td>\n",
       "      <td>NaN</td>\n",
       "    </tr>\n",
       "    <tr>\n",
       "      <th>24</th>\n",
       "      <td>50.000</td>\n",
       "      <td>-0.046202</td>\n",
       "      <td>-0.046202</td>\n",
       "      <td>rbf</td>\n",
       "      <td>0.01</td>\n",
       "      <td>NaN</td>\n",
       "    </tr>\n",
       "    <tr>\n",
       "      <th>31</th>\n",
       "      <td>1000.000</td>\n",
       "      <td>-0.046202</td>\n",
       "      <td>-0.046202</td>\n",
       "      <td>rbf</td>\n",
       "      <td>0.001</td>\n",
       "      <td>NaN</td>\n",
       "    </tr>\n",
       "    <tr>\n",
       "      <th>28</th>\n",
       "      <td>100.000</td>\n",
       "      <td>-0.043280</td>\n",
       "      <td>-0.043280</td>\n",
       "      <td>rbf</td>\n",
       "      <td>0.01</td>\n",
       "      <td>NaN</td>\n",
       "    </tr>\n",
       "    <tr>\n",
       "      <th>2</th>\n",
       "      <td>0.100</td>\n",
       "      <td>-0.037072</td>\n",
       "      <td>-0.037072</td>\n",
       "      <td>linear</td>\n",
       "      <td>NaN</td>\n",
       "      <td>NaN</td>\n",
       "    </tr>\n",
       "    <tr>\n",
       "      <th>30</th>\n",
       "      <td>1000.000</td>\n",
       "      <td>-0.033966</td>\n",
       "      <td>-0.033966</td>\n",
       "      <td>rbf</td>\n",
       "      <td>0.0001</td>\n",
       "      <td>NaN</td>\n",
       "    </tr>\n",
       "    <tr>\n",
       "      <th>23</th>\n",
       "      <td>50.000</td>\n",
       "      <td>-0.032506</td>\n",
       "      <td>-0.032506</td>\n",
       "      <td>rbf</td>\n",
       "      <td>0.001</td>\n",
       "      <td>NaN</td>\n",
       "    </tr>\n",
       "    <tr>\n",
       "      <th>20</th>\n",
       "      <td>10.000</td>\n",
       "      <td>-0.031592</td>\n",
       "      <td>-0.031592</td>\n",
       "      <td>rbf</td>\n",
       "      <td>0.01</td>\n",
       "      <td>NaN</td>\n",
       "    </tr>\n",
       "    <tr>\n",
       "      <th>27</th>\n",
       "      <td>100.000</td>\n",
       "      <td>-0.030497</td>\n",
       "      <td>-0.030497</td>\n",
       "      <td>rbf</td>\n",
       "      <td>0.001</td>\n",
       "      <td>NaN</td>\n",
       "    </tr>\n",
       "    <tr>\n",
       "      <th>25</th>\n",
       "      <td>100.000</td>\n",
       "      <td>-0.026297</td>\n",
       "      <td>-0.026297</td>\n",
       "      <td>rbf</td>\n",
       "      <td>auto</td>\n",
       "      <td>NaN</td>\n",
       "    </tr>\n",
       "    <tr>\n",
       "      <th>17</th>\n",
       "      <td>10.000</td>\n",
       "      <td>-0.019173</td>\n",
       "      <td>-0.019173</td>\n",
       "      <td>rbf</td>\n",
       "      <td>auto</td>\n",
       "      <td>NaN</td>\n",
       "    </tr>\n",
       "    <tr>\n",
       "      <th>1</th>\n",
       "      <td>0.010</td>\n",
       "      <td>-0.017897</td>\n",
       "      <td>-0.017897</td>\n",
       "      <td>linear</td>\n",
       "      <td>NaN</td>\n",
       "      <td>NaN</td>\n",
       "    </tr>\n",
       "    <tr>\n",
       "      <th>16</th>\n",
       "      <td>2.000</td>\n",
       "      <td>-0.017166</td>\n",
       "      <td>-0.017166</td>\n",
       "      <td>rbf</td>\n",
       "      <td>0.01</td>\n",
       "      <td>NaN</td>\n",
       "    </tr>\n",
       "    <tr>\n",
       "      <th>22</th>\n",
       "      <td>50.000</td>\n",
       "      <td>-0.015705</td>\n",
       "      <td>-0.015705</td>\n",
       "      <td>rbf</td>\n",
       "      <td>0.0001</td>\n",
       "      <td>NaN</td>\n",
       "    </tr>\n",
       "    <tr>\n",
       "      <th>38</th>\n",
       "      <td>1000.000</td>\n",
       "      <td>-0.013696</td>\n",
       "      <td>-0.013696</td>\n",
       "      <td>poly</td>\n",
       "      <td>NaN</td>\n",
       "      <td>2.0</td>\n",
       "    </tr>\n",
       "    <tr>\n",
       "      <th>21</th>\n",
       "      <td>50.000</td>\n",
       "      <td>-0.013149</td>\n",
       "      <td>-0.013149</td>\n",
       "      <td>rbf</td>\n",
       "      <td>auto</td>\n",
       "      <td>NaN</td>\n",
       "    </tr>\n",
       "    <tr>\n",
       "      <th>26</th>\n",
       "      <td>100.000</td>\n",
       "      <td>-0.012601</td>\n",
       "      <td>-0.012601</td>\n",
       "      <td>rbf</td>\n",
       "      <td>0.0001</td>\n",
       "      <td>NaN</td>\n",
       "    </tr>\n",
       "    <tr>\n",
       "      <th>19</th>\n",
       "      <td>10.000</td>\n",
       "      <td>-0.012236</td>\n",
       "      <td>-0.012236</td>\n",
       "      <td>rbf</td>\n",
       "      <td>0.001</td>\n",
       "      <td>NaN</td>\n",
       "    </tr>\n",
       "    <tr>\n",
       "      <th>12</th>\n",
       "      <td>1.000</td>\n",
       "      <td>-0.012053</td>\n",
       "      <td>-0.012053</td>\n",
       "      <td>rbf</td>\n",
       "      <td>0.01</td>\n",
       "      <td>NaN</td>\n",
       "    </tr>\n",
       "    <tr>\n",
       "      <th>15</th>\n",
       "      <td>2.000</td>\n",
       "      <td>-0.012052</td>\n",
       "      <td>-0.012052</td>\n",
       "      <td>rbf</td>\n",
       "      <td>0.001</td>\n",
       "      <td>NaN</td>\n",
       "    </tr>\n",
       "    <tr>\n",
       "      <th>18</th>\n",
       "      <td>10.000</td>\n",
       "      <td>-0.011872</td>\n",
       "      <td>-0.011872</td>\n",
       "      <td>rbf</td>\n",
       "      <td>0.0001</td>\n",
       "      <td>NaN</td>\n",
       "    </tr>\n",
       "    <tr>\n",
       "      <th>11</th>\n",
       "      <td>1.000</td>\n",
       "      <td>-0.008035</td>\n",
       "      <td>-0.008035</td>\n",
       "      <td>rbf</td>\n",
       "      <td>0.001</td>\n",
       "      <td>NaN</td>\n",
       "    </tr>\n",
       "    <tr>\n",
       "      <th>9</th>\n",
       "      <td>0.100</td>\n",
       "      <td>-0.007669</td>\n",
       "      <td>-0.007669</td>\n",
       "      <td>rbf</td>\n",
       "      <td>0.01</td>\n",
       "      <td>NaN</td>\n",
       "    </tr>\n",
       "    <tr>\n",
       "      <th>0</th>\n",
       "      <td>0.001</td>\n",
       "      <td>-0.004749</td>\n",
       "      <td>-0.004749</td>\n",
       "      <td>linear</td>\n",
       "      <td>NaN</td>\n",
       "      <td>NaN</td>\n",
       "    </tr>\n",
       "    <tr>\n",
       "      <th>13</th>\n",
       "      <td>2.000</td>\n",
       "      <td>-0.004384</td>\n",
       "      <td>-0.004384</td>\n",
       "      <td>rbf</td>\n",
       "      <td>auto</td>\n",
       "      <td>NaN</td>\n",
       "    </tr>\n",
       "    <tr>\n",
       "      <th>36</th>\n",
       "      <td>100.000</td>\n",
       "      <td>-0.001095</td>\n",
       "      <td>-0.001095</td>\n",
       "      <td>poly</td>\n",
       "      <td>NaN</td>\n",
       "      <td>2.0</td>\n",
       "    </tr>\n",
       "    <tr>\n",
       "      <th>14</th>\n",
       "      <td>2.000</td>\n",
       "      <td>-0.000730</td>\n",
       "      <td>-0.000730</td>\n",
       "      <td>rbf</td>\n",
       "      <td>0.0001</td>\n",
       "      <td>NaN</td>\n",
       "    </tr>\n",
       "    <tr>\n",
       "      <th>33</th>\n",
       "      <td>10.000</td>\n",
       "      <td>-0.000730</td>\n",
       "      <td>-0.000730</td>\n",
       "      <td>poly</td>\n",
       "      <td>NaN</td>\n",
       "      <td>2.0</td>\n",
       "    </tr>\n",
       "    <tr>\n",
       "      <th>34</th>\n",
       "      <td>50.000</td>\n",
       "      <td>-0.000730</td>\n",
       "      <td>-0.000730</td>\n",
       "      <td>poly</td>\n",
       "      <td>NaN</td>\n",
       "      <td>2.0</td>\n",
       "    </tr>\n",
       "    <tr>\n",
       "      <th>35</th>\n",
       "      <td>50.000</td>\n",
       "      <td>-0.000730</td>\n",
       "      <td>-0.000730</td>\n",
       "      <td>poly</td>\n",
       "      <td>NaN</td>\n",
       "      <td>3.0</td>\n",
       "    </tr>\n",
       "    <tr>\n",
       "      <th>37</th>\n",
       "      <td>100.000</td>\n",
       "      <td>-0.000730</td>\n",
       "      <td>-0.000730</td>\n",
       "      <td>poly</td>\n",
       "      <td>NaN</td>\n",
       "      <td>3.0</td>\n",
       "    </tr>\n",
       "    <tr>\n",
       "      <th>39</th>\n",
       "      <td>1000.000</td>\n",
       "      <td>-0.000730</td>\n",
       "      <td>-0.000730</td>\n",
       "      <td>poly</td>\n",
       "      <td>NaN</td>\n",
       "      <td>3.0</td>\n",
       "    </tr>\n",
       "    <tr>\n",
       "      <th>40</th>\n",
       "      <td>1000.000</td>\n",
       "      <td>-0.000730</td>\n",
       "      <td>-0.000730</td>\n",
       "      <td>poly</td>\n",
       "      <td>NaN</td>\n",
       "      <td>5.0</td>\n",
       "    </tr>\n",
       "    <tr>\n",
       "      <th>10</th>\n",
       "      <td>1.000</td>\n",
       "      <td>-0.000730</td>\n",
       "      <td>-0.000730</td>\n",
       "      <td>rbf</td>\n",
       "      <td>auto</td>\n",
       "      <td>NaN</td>\n",
       "    </tr>\n",
       "  </tbody>\n",
       "</table>\n",
       "</div>"
      ],
      "text/plain": [
       "           C  accuracy  delta_accuracy  kernel   gamma  degree\n",
       "6     50.000 -0.062820       -0.062820  linear     NaN     NaN\n",
       "7    100.000 -0.062820       -0.062820  linear     NaN     NaN\n",
       "8   1000.000 -0.062820       -0.062820  linear     NaN     NaN\n",
       "32  1000.000 -0.056246       -0.056246     rbf    0.01     NaN\n",
       "5     10.000 -0.054237       -0.054237  linear     NaN     NaN\n",
       "3      1.000 -0.049123       -0.049123  linear     NaN     NaN\n",
       "4      2.000 -0.049123       -0.049123  linear     NaN     NaN\n",
       "29  1000.000 -0.046202       -0.046202     rbf    auto     NaN\n",
       "24    50.000 -0.046202       -0.046202     rbf    0.01     NaN\n",
       "31  1000.000 -0.046202       -0.046202     rbf   0.001     NaN\n",
       "28   100.000 -0.043280       -0.043280     rbf    0.01     NaN\n",
       "2      0.100 -0.037072       -0.037072  linear     NaN     NaN\n",
       "30  1000.000 -0.033966       -0.033966     rbf  0.0001     NaN\n",
       "23    50.000 -0.032506       -0.032506     rbf   0.001     NaN\n",
       "20    10.000 -0.031592       -0.031592     rbf    0.01     NaN\n",
       "27   100.000 -0.030497       -0.030497     rbf   0.001     NaN\n",
       "25   100.000 -0.026297       -0.026297     rbf    auto     NaN\n",
       "17    10.000 -0.019173       -0.019173     rbf    auto     NaN\n",
       "1      0.010 -0.017897       -0.017897  linear     NaN     NaN\n",
       "16     2.000 -0.017166       -0.017166     rbf    0.01     NaN\n",
       "22    50.000 -0.015705       -0.015705     rbf  0.0001     NaN\n",
       "38  1000.000 -0.013696       -0.013696    poly     NaN     2.0\n",
       "21    50.000 -0.013149       -0.013149     rbf    auto     NaN\n",
       "26   100.000 -0.012601       -0.012601     rbf  0.0001     NaN\n",
       "19    10.000 -0.012236       -0.012236     rbf   0.001     NaN\n",
       "12     1.000 -0.012053       -0.012053     rbf    0.01     NaN\n",
       "15     2.000 -0.012052       -0.012052     rbf   0.001     NaN\n",
       "18    10.000 -0.011872       -0.011872     rbf  0.0001     NaN\n",
       "11     1.000 -0.008035       -0.008035     rbf   0.001     NaN\n",
       "9      0.100 -0.007669       -0.007669     rbf    0.01     NaN\n",
       "0      0.001 -0.004749       -0.004749  linear     NaN     NaN\n",
       "13     2.000 -0.004384       -0.004384     rbf    auto     NaN\n",
       "36   100.000 -0.001095       -0.001095    poly     NaN     2.0\n",
       "14     2.000 -0.000730       -0.000730     rbf  0.0001     NaN\n",
       "33    10.000 -0.000730       -0.000730    poly     NaN     2.0\n",
       "34    50.000 -0.000730       -0.000730    poly     NaN     2.0\n",
       "35    50.000 -0.000730       -0.000730    poly     NaN     3.0\n",
       "37   100.000 -0.000730       -0.000730    poly     NaN     3.0\n",
       "39  1000.000 -0.000730       -0.000730    poly     NaN     3.0\n",
       "40  1000.000 -0.000730       -0.000730    poly     NaN     5.0\n",
       "10     1.000 -0.000730       -0.000730     rbf    auto     NaN"
      ]
     },
     "execution_count": 108,
     "metadata": {},
     "output_type": "execute_result"
    }
   ],
   "source": [
    "overfitting.sort_values('accuracy').head(10)"
   ]
  },
  {
   "cell_type": "markdown",
   "metadata": {},
   "source": [
    "Переобучение происходит при больших С (чем больше С, тем слабее регуляризация, поскольку С в знаменателе в формуле)."
   ]
  },
  {
   "cell_type": "code",
   "execution_count": 32,
   "metadata": {},
   "outputs": [
    {
     "data": {
      "text/html": [
       "<div>\n",
       "<style scoped>\n",
       "    .dataframe tbody tr th:only-of-type {\n",
       "        vertical-align: middle;\n",
       "    }\n",
       "\n",
       "    .dataframe tbody tr th {\n",
       "        vertical-align: top;\n",
       "    }\n",
       "\n",
       "    .dataframe thead th {\n",
       "        text-align: right;\n",
       "    }\n",
       "</style>\n",
       "<table border=\"1\" class=\"dataframe\">\n",
       "  <thead>\n",
       "    <tr style=\"text-align: right;\">\n",
       "      <th></th>\n",
       "      <th>linear</th>\n",
       "      <th>rbf</th>\n",
       "      <th>poly</th>\n",
       "    </tr>\n",
       "  </thead>\n",
       "  <tbody>\n",
       "    <tr>\n",
       "      <th>comment_cv</th>\n",
       "      <td>0.948868</td>\n",
       "      <td>0.954711</td>\n",
       "      <td>0.512783</td>\n",
       "    </tr>\n",
       "  </tbody>\n",
       "</table>\n",
       "</div>"
      ],
      "text/plain": [
       "              linear       rbf      poly\n",
       "comment_cv  0.948868  0.954711  0.512783"
      ]
     },
     "execution_count": 32,
     "metadata": {},
     "output_type": "execute_result"
    }
   ],
   "source": [
    "best_metrics"
   ]
  },
  {
   "cell_type": "markdown",
   "metadata": {},
   "source": [
    "Модели с линейным и радиальным ядрами имеют очень хорошую предсказательную способность и сравнимы между собой по качеству, в то время как предсказания модели с полиномиальным ядром сравнимы с предсказаниями монетки. Так как мы обучаемся на векторизованных текстах, то размерность данных очень большая поэтому линейная и квадратичная функции работают хорошо, а полиномиальное ядро избыточно и порождает огромное количество ненужных признаков с разреженными значениями, что приводит к переобучению."
   ]
  },
  {
   "cell_type": "code",
   "execution_count": 126,
   "metadata": {},
   "outputs": [
    {
     "name": "stdout",
     "output_type": "stream",
     "text": [
      "SVC(C=100, cache_size=200, class_weight='balanced', coef0=0.0,\n",
      "  decision_function_shape='ovr', degree=3, gamma=0.01, kernel='rbf',\n",
      "  max_iter=-1, probability=False, random_state=None, shrinking=True,\n",
      "  tol=0.001, verbose=False) \n",
      "\n",
      "Кол-во опорных векторов для двух классов:  [258 154]\n"
     ]
    }
   ],
   "source": [
    "# best_clfs = pickle.load(open(\"best_clfs\", \"rb\"))\n",
    "clf_best = best_clfs['rbf']\n",
    "print(clf_best, '\\n')\n",
    "print('Кол-во опорных векторов для двух классов: ', clf_best.n_support_)"
   ]
  },
  {
   "cell_type": "markdown",
   "metadata": {},
   "source": [
    "Лучшей моделью оказалась модель с ядром rbf, коэффициентом регуляризации C=100 и gamma=0.01. Модель имеет 412 опорных векторов (258 для класса 0 и 154 для класса 1)."
   ]
  },
  {
   "cell_type": "markdown",
   "metadata": {},
   "source": [
    "#Выведите комментарии, соответствующие опорным векторам-нарушителям, граничным опорным векторам. \n",
    "#Для тестовых данных найдите комментарии с наибольшим и наименьшим отступом от разделяющей гиперплоскости. Объясните #почему получаются такие результаты. \n",
    "#Найдите топ10 слов наиболее голосующих за спамные комментарии. Также объясните почему получаются такие результаты."
   ]
  },
  {
   "cell_type": "markdown",
   "metadata": {},
   "source": [
    "**4. (2 балла)** В прошлом задании мы учитывали только сам комментарий для классификации и не учитывали другую информацию из исходной таблицы. Добавьте новые признаки: ``'YEAR'``, ``'MONTH'``, `'DAY'` - в качестве вещественных признаков; `'CLIP'` - в качестве категориального признака, используя `one-hot encoding`; `'AUTHOR'` - в рамках модели `bag of words`. Обучите на новых данных метод опорных векторов с гиперпараметрами лучшего классификатора предыдущего задания. Ответьте на вопросы. Как изменились результаты? Как вы думаете почему?"
   ]
  },
  {
   "cell_type": "code",
   "execution_count": 149,
   "metadata": {},
   "outputs": [],
   "source": [
    "from sklearn import preprocessing\n",
    "from sklearn.preprocessing import OneHotEncoder"
   ]
  },
  {
   "cell_type": "code",
   "execution_count": 151,
   "metadata": {},
   "outputs": [],
   "source": [
    "def year(data):\n",
    "    if data == 0:\n",
    "        return data\n",
    "    else:\n",
    "        return int(str(data)[:4])\n",
    "    \n",
    "def month(data):\n",
    "    if data == 0:\n",
    "        return data\n",
    "    else:\n",
    "        return int(str(data)[5:7])\n",
    "\n",
    "def day(data):\n",
    "    if data == 0:\n",
    "        return data\n",
    "    else:\n",
    "        return int(str(data)[8:10])"
   ]
  },
  {
   "cell_type": "code",
   "execution_count": 200,
   "metadata": {},
   "outputs": [],
   "source": [
    "def enc_bow(df, X, author):\n",
    "    enc = OneHotEncoder()\n",
    "    le = preprocessing.LabelEncoder()\n",
    "    \n",
    "    CLIP_le = pd.DataFrame(df['CLIP']).apply(le.fit_transform)\n",
    "    enc_clip_df = pd.DataFrame(enc.fit_transform(CLIP_le).toarray()).to_sparse()\n",
    "    \n",
    "    X['YEAR'] = pd.SparseArray(pd.Series([year(data) for data in list(df['DATE'])]))\n",
    "    X['MONTH'] = pd.SparseArray(pd.Series([month(data) for data in list(df['DATE'])]))\n",
    "    X['DAY'] = pd.SparseArray(pd.Series([day(data) for data in list(df['DATE'])]))\n",
    "    \n",
    "    if author == 'cv':\n",
    "        vectorizer = CountVectorizer()\n",
    "        author_cv = vectorizer.fit_transform(df['AUTHOR'])\n",
    "        author_cv_df = pd.DataFrame(author_cv.toarray()).to_sparse()\n",
    "        X = pd.concat([X, author_cv_df], axis=1)\n",
    "    \n",
    "    if author == 'enc':\n",
    "        author_le = pd.DataFrame(df['AUTHOR']).apply(le.fit_transform)\n",
    "        enc_author_df = pd.DataFrame(enc.fit_transform(author_le).toarray()).to_sparse()\n",
    "        X = pd.concat([X, enc_author_df], axis=1)\n",
    "    \n",
    "    return X"
   ]
  },
  {
   "cell_type": "code",
   "execution_count": 167,
   "metadata": {},
   "outputs": [
    {
     "data": {
      "text/plain": [
       "COMMENT_ID      0\n",
       "AUTHOR          0\n",
       "DATE          245\n",
       "CONTENT         0\n",
       "CLASS           0\n",
       "CLIP            0\n",
       "dtype: int64"
      ]
     },
     "execution_count": 167,
     "metadata": {},
     "output_type": "execute_result"
    }
   ],
   "source": [
    "df.isnull().sum()"
   ]
  },
  {
   "cell_type": "markdown",
   "metadata": {},
   "source": [
    "Поскольку мы будем работать с признаком даты, в котором в изначальном датасете были пропущены значения, попробуем обучить модель а) на данных без пропусков и б) на данных с заполненными пропусками (скажем, значением 0):"
   ]
  },
  {
   "cell_type": "code",
   "execution_count": 201,
   "metadata": {},
   "outputs": [
    {
     "name": "stderr",
     "output_type": "stream",
     "text": [
      "3634it [00:54, 66.82it/s] \n"
     ]
    },
    {
     "data": {
      "text/plain": [
       "(1711, 3634)"
      ]
     },
     "execution_count": 201,
     "metadata": {},
     "output_type": "execute_result"
    }
   ],
   "source": [
    "df_nonan = df.dropna()\n",
    "X_nonan, y_nonan = myCountVectorizer(df_nonan)\n",
    "X_nonan.shape"
   ]
  },
  {
   "cell_type": "code",
   "execution_count": 202,
   "metadata": {},
   "outputs": [
    {
     "name": "stderr",
     "output_type": "stream",
     "text": [
      "4229it [01:06, 64.02it/s] \n"
     ]
    },
    {
     "data": {
      "text/plain": [
       "(1956, 4229)"
      ]
     },
     "execution_count": 202,
     "metadata": {},
     "output_type": "execute_result"
    }
   ],
   "source": [
    "df_nan0 = df.fillna(0)\n",
    "X_nan0, y_nan0 = myCountVectorizer(df_nan0)\n",
    "X_nan0.shape"
   ]
  },
  {
   "cell_type": "code",
   "execution_count": 203,
   "metadata": {},
   "outputs": [
    {
     "data": {
      "text/plain": [
       "(1711, 6306)"
      ]
     },
     "execution_count": 203,
     "metadata": {},
     "output_type": "execute_result"
    }
   ],
   "source": [
    "X_nonan = enc_bow(df_nonan, X_nonan, 'cv')\n",
    "y_nonan = df_nonan['CLASS']\n",
    "X_nonan.shape"
   ]
  },
  {
   "cell_type": "code",
   "execution_count": 204,
   "metadata": {},
   "outputs": [
    {
     "data": {
      "text/plain": [
       "(1956, 7128)"
      ]
     },
     "execution_count": 204,
     "metadata": {},
     "output_type": "execute_result"
    }
   ],
   "source": [
    "X_nan0_author_cv = enc_bow(df_nan0, X_nan0, 'cv')\n",
    "y_nan0_author_cv = df_nan0['CLASS']\n",
    "X_nan0_author_cv.shape"
   ]
  },
  {
   "cell_type": "code",
   "execution_count": 205,
   "metadata": {},
   "outputs": [
    {
     "data": {
      "text/plain": [
       "(1956, 6024)"
      ]
     },
     "execution_count": 205,
     "metadata": {},
     "output_type": "execute_result"
    }
   ],
   "source": [
    "X_nan0_author_enc = enc_bow(df_nan0, X_nan0, 'enc')\n",
    "y_nan0_author_enc = df_nan0['CLASS']\n",
    "X_nan0_author_enc.shape"
   ]
  },
  {
   "cell_type": "code",
   "execution_count": 197,
   "metadata": {},
   "outputs": [],
   "source": [
    "def myaccuracy(X, y, clf):\n",
    "    X_train, X_test, y_train, y_test = \\\n",
    "    train_test_split(X, y, test_size=0.3, random_state=42)\n",
    "    clf_best.fit(X_train, y_train)\n",
    "    accuracy = accuracy_score(clf_best.predict(X_test), y_test)\n",
    "    return accuracy"
   ]
  },
  {
   "cell_type": "code",
   "execution_count": 206,
   "metadata": {},
   "outputs": [],
   "source": [
    "metrics = pd.DataFrame()\n",
    "Xs = ['nonan', 'nan0_author_cv', 'nan0_author_enc']\n",
    "ys = [y_nonan, y_nan0, y_nan0]\n",
    "for i, X in enumerate([X_nonan, X_nan0_author_cv, X_nan0_author_enc]):\n",
    "    add_metrics(metrics, myaccuracy(X, ys[i], clf_best), Xs[i], 'accuracy')"
   ]
  },
  {
   "cell_type": "code",
   "execution_count": null,
   "metadata": {},
   "outputs": [],
   "source": [
    "accuracy_score(clf_best.predict(X_test), y_test)"
   ]
  },
  {
   "cell_type": "code",
   "execution_count": 207,
   "metadata": {},
   "outputs": [
    {
     "data": {
      "text/html": [
       "<div>\n",
       "<style scoped>\n",
       "    .dataframe tbody tr th:only-of-type {\n",
       "        vertical-align: middle;\n",
       "    }\n",
       "\n",
       "    .dataframe tbody tr th {\n",
       "        vertical-align: top;\n",
       "    }\n",
       "\n",
       "    .dataframe thead th {\n",
       "        text-align: right;\n",
       "    }\n",
       "</style>\n",
       "<table border=\"1\" class=\"dataframe\">\n",
       "  <thead>\n",
       "    <tr style=\"text-align: right;\">\n",
       "      <th></th>\n",
       "      <th>accuracy</th>\n",
       "    </tr>\n",
       "  </thead>\n",
       "  <tbody>\n",
       "    <tr>\n",
       "      <th>nonan</th>\n",
       "      <td>0.941634</td>\n",
       "    </tr>\n",
       "    <tr>\n",
       "      <th>nan0_author_cv</th>\n",
       "      <td>0.950596</td>\n",
       "    </tr>\n",
       "    <tr>\n",
       "      <th>nan0_author_enc</th>\n",
       "      <td>0.957411</td>\n",
       "    </tr>\n",
       "  </tbody>\n",
       "</table>\n",
       "</div>"
      ],
      "text/plain": [
       "                 accuracy\n",
       "nonan            0.941634\n",
       "nan0_author_cv   0.950596\n",
       "nan0_author_enc  0.957411"
      ]
     },
     "execution_count": 207,
     "metadata": {},
     "output_type": "execute_result"
    }
   ],
   "source": [
    "metrics"
   ]
  },
  {
   "cell_type": "code",
   "execution_count": 13,
   "metadata": {},
   "outputs": [
    {
     "data": {
      "text/plain": [
       "array([1])"
      ]
     },
     "execution_count": 13,
     "metadata": {},
     "output_type": "execute_result"
    }
   ],
   "source": [
    "np.unique(df[pd.isnull(df['DATE'])]['CLASS'])"
   ]
  },
  {
   "cell_type": "markdown",
   "metadata": {},
   "source": [
    "Модель, обученная на датафрейме с сохраненные пропусками, замененными на какое-то значение (в данном случае число 0) дает лучшее качество чем модель, обученная на датафрейме с удаленными пропусками. Это связано с корреляцией наличия пропуска и тем, что комментарий является спамом (все комментарии с пропуском даты относятся к первому классу). По той же причине лучше присвоить пропускам значение, сильно отличающееся от имеющихся годов, а не брать, к примеру, среднее от значений признака.  \n",
    "\n",
    "К тому же оказывается, что модель, обученная на данных, в которых признак автор закодирован one-hot кодированием дает качество лучше, чем модель, которая обучена на признаке автор, представленном в виде мешка слов. Это вполне объяснимо тем, что именно автор коррелирует с ответом (поскольку спамы часто рассылают одни и те же люди и, наоборот, если человек оставил настоящйи комментарий, то вряд ли он спамер), а не отдельное имя или фамилия."
   ]
  },
  {
   "cell_type": "markdown",
   "metadata": {},
   "source": [
    "**5. (2 балла)** Давайте будем решать другую задачу на этих же данных. Научимся предсказывать клип по комментарию к нему. Теперь целевая переменная `y` - это столбец `'CLIP'` исходных данных, а `X` такой же как и в задании 2. Повторите численный эксперимент заданий 2 и 3 для новой задачи. Выберите лучшую модель. Отличается ли качество решения двух разных задач для одних и тех же данных для обучения? Как вы думаете почему? "
   ]
  },
  {
   "cell_type": "code",
   "execution_count": 111,
   "metadata": {},
   "outputs": [],
   "source": [
    "X = pickle.load(open(\"df_Youtube_CountVect\", \"rb\"))\n",
    "y = df['CLIP']"
   ]
  },
  {
   "cell_type": "code",
   "execution_count": 112,
   "metadata": {},
   "outputs": [],
   "source": [
    "X_train, X_test, y_train, y_test = train_test_split(X, y, test_size=0.3, random_state=42)"
   ]
  },
  {
   "cell_type": "code",
   "execution_count": 114,
   "metadata": {},
   "outputs": [],
   "source": [
    "def add_metrics(metrics, value, name, kernel):\n",
    "    metrics.loc[name, kernel] = value"
   ]
  },
  {
   "cell_type": "code",
   "execution_count": 115,
   "metadata": {},
   "outputs": [
    {
     "name": "stdout",
     "output_type": "stream",
     "text": [
      "Fitting 5 folds for each of 10 candidates, totalling 50 fits\n",
      "[CV] C=0.0001, kernel=linear .........................................\n",
      "[CV] C=0.0001, kernel=linear .........................................\n",
      "[CV] C=0.0001, kernel=linear .........................................\n",
      "[CV] C=0.0001, kernel=linear .........................................\n",
      "[CV]  C=0.0001, kernel=linear, score=0.2210144927536232, total=  24.4s\n",
      "[CV]  C=0.0001, kernel=linear, score=0.2210144927536232, total=  24.4s\n",
      "[CV] C=0.0001, kernel=linear .........................................\n",
      "[CV]  C=0.0001, kernel=linear, score=0.17153284671532848, total=  24.4s\n",
      "[CV] C=0.001, kernel=linear ..........................................\n",
      "[CV] C=0.001, kernel=linear ..........................................\n",
      "[CV]  C=0.0001, kernel=linear, score=0.1801470588235294, total=  24.8s\n",
      "[CV] C=0.001, kernel=linear ..........................................\n",
      "[CV]  C=0.0001, kernel=linear, score=0.18081180811808117, total=  28.5s\n"
     ]
    },
    {
     "name": "stderr",
     "output_type": "stream",
     "text": [
      "[Parallel(n_jobs=4)]: Done   5 tasks      | elapsed:  1.3min\n"
     ]
    },
    {
     "name": "stdout",
     "output_type": "stream",
     "text": [
      "[CV] . C=0.001, kernel=linear, score=0.2318840579710145, total=  27.8s\n",
      "[CV] C=0.001, kernel=linear ..........................................\n",
      "[CV] . C=0.001, kernel=linear, score=0.2608695652173913, total=  28.4s\n",
      "[CV] C=0.001, kernel=linear ..........................................\n",
      "[CV] C=0.01, kernel=linear ...........................................\n",
      "[CV] . C=0.001, kernel=linear, score=0.1897810218978102, total=  28.2s\n",
      "[CV] C=0.01, kernel=linear ...........................................\n",
      "[CV] ............... C=0.001, kernel=linear, score=0.25, total=  24.2s\n",
      "[CV] . C=0.001, kernel=linear, score=0.1918819188191882, total=  24.1s\n",
      "[CV] C=0.01, kernel=linear ...........................................\n"
     ]
    },
    {
     "name": "stderr",
     "output_type": "stream",
     "text": [
      "[Parallel(n_jobs=4)]: Done  10 tasks      | elapsed:  1.9min\n"
     ]
    },
    {
     "name": "stdout",
     "output_type": "stream",
     "text": [
      "[CV] . C=0.01, kernel=linear, score=0.39492753623188404, total=  23.5s\n",
      "[CV] C=0.01, kernel=linear ...........................................\n",
      "[CV] C=0.01, kernel=linear ...........................................\n",
      "[CV] . C=0.01, kernel=linear, score=0.29347826086956524, total=  23.6s\n",
      "[CV] C=0.1, kernel=linear ............................................\n",
      "[CV] . C=0.01, kernel=linear, score=0.38321167883211676, total=  21.9s\n",
      "[CV] . C=0.01, kernel=linear, score=0.33088235294117646, total=  21.6s\n",
      "[CV] C=0.1, kernel=linear ............................................\n",
      "[CV] ... C=0.1, kernel=linear, score=0.4963768115942029, total=  19.7s\n",
      "[CV] C=0.1, kernel=linear ............................................\n",
      "[CV] .. C=0.01, kernel=linear, score=0.4059040590405904, total=  22.0s\n",
      "[CV] C=0.1, kernel=linear ............................................\n",
      "[CV] C=0.1, kernel=linear ............................................\n",
      "[CV] ... C=0.1, kernel=linear, score=0.4746376811594203, total=  20.4s\n"
     ]
    },
    {
     "name": "stderr",
     "output_type": "stream",
     "text": [
      "[Parallel(n_jobs=4)]: Done  17 tasks      | elapsed:  2.9min\n"
     ]
    },
    {
     "name": "stdout",
     "output_type": "stream",
     "text": [
      "[CV] .................. C=0.1, kernel=linear, score=0.5, total=  20.3s\n",
      "[CV] C=1, kernel=linear ..............................................\n",
      "[CV] ... C=0.1, kernel=linear, score=0.4632352941176471, total=  20.0s\n",
      "[CV] C=1, kernel=linear ..............................................\n",
      "[CV] C=1, kernel=linear ..............................................\n",
      "[CV] ... C=0.1, kernel=linear, score=0.5387453874538746, total=  20.9s\n",
      "[CV] C=1, kernel=linear ..............................................\n",
      "[CV] ..... C=1, kernel=linear, score=0.4927536231884058, total=  18.2s\n",
      "[CV] .... C=1, kernel=linear, score=0.48188405797101447, total=  17.0s\n",
      "[CV] C=1, kernel=linear ..............................................\n",
      "[CV] C=2, kernel=linear ..............................................\n",
      "[CV] ..... C=1, kernel=linear, score=0.5182481751824818, total=  18.0s\n",
      "[CV] C=2, kernel=linear ..............................................\n",
      "[CV] .... C=1, kernel=linear, score=0.47058823529411764, total=  18.5s\n"
     ]
    },
    {
     "name": "stderr",
     "output_type": "stream",
     "text": [
      "[Parallel(n_jobs=4)]: Done  24 tasks      | elapsed:  3.5min\n"
     ]
    },
    {
     "name": "stdout",
     "output_type": "stream",
     "text": [
      "[CV] C=2, kernel=linear ..............................................\n",
      "[CV] ..... C=1, kernel=linear, score=0.5239852398523985, total=  18.0s\n",
      "[CV] C=2, kernel=linear ..............................................\n",
      "[CV] ..... C=2, kernel=linear, score=0.4782608695652174, total=  18.9s\n",
      "[CV] .... C=2, kernel=linear, score=0.47101449275362317, total=  17.8s\n",
      "[CV] C=2, kernel=linear ..............................................\n",
      "[CV] C=10, kernel=linear .............................................\n",
      "[CV] ..... C=2, kernel=linear, score=0.5109489051094891, total=  19.3s\n",
      "[CV] C=10, kernel=linear .............................................\n",
      "[CV] ..... C=2, kernel=linear, score=0.4411764705882353, total=  17.9s\n",
      "[CV] C=10, kernel=linear .............................................\n",
      "[CV] .... C=10, kernel=linear, score=0.4492753623188406, total=  17.2s\n",
      "[CV] ..... C=2, kernel=linear, score=0.5129151291512916, total=  18.4s\n",
      "[CV] C=10, kernel=linear .............................................\n",
      "[CV] C=10, kernel=linear .............................................\n",
      "[CV] ..... C=10, kernel=linear, score=0.463768115942029, total=  17.3s\n",
      "[CV] C=50, kernel=linear .............................................\n",
      "[CV] .... C=10, kernel=linear, score=0.4927007299270073, total=  16.7s\n"
     ]
    },
    {
     "name": "stderr",
     "output_type": "stream",
     "text": [
      "[Parallel(n_jobs=4)]: Done  33 tasks      | elapsed:  4.7min\n"
     ]
    },
    {
     "name": "stdout",
     "output_type": "stream",
     "text": [
      "[CV] ................ C=10, kernel=linear, score=0.4375, total=  15.7s\n",
      "[CV] C=50, kernel=linear .............................................\n",
      "[CV] C=50, kernel=linear .............................................\n",
      "[CV] .... C=10, kernel=linear, score=0.4944649446494465, total=  17.1s\n",
      "[CV] ... C=50, kernel=linear, score=0.45652173913043476, total=  16.2s\n",
      "[CV] C=50, kernel=linear .............................................\n",
      "[CV] C=50, kernel=linear .............................................\n",
      "[CV] ... C=50, kernel=linear, score=0.44565217391304346, total=  14.4s\n",
      "[CV] ... C=50, kernel=linear, score=0.48175182481751827, total=  14.6s\n",
      "[CV] C=100, kernel=linear ............................................\n",
      "[CV] C=100, kernel=linear ............................................\n",
      "[CV] ... C=50, kernel=linear, score=0.41544117647058826, total=  14.8s\n",
      "[CV] C=100, kernel=linear ............................................\n",
      "[CV] .... C=50, kernel=linear, score=0.4870848708487085, total=  15.8s\n",
      "[CV] C=100, kernel=linear ............................................\n",
      "[CV] ... C=100, kernel=linear, score=0.4311594202898551, total=  14.7s\n",
      "[CV] ... C=100, kernel=linear, score=0.4384057971014493, total=  14.1s\n"
     ]
    },
    {
     "name": "stderr",
     "output_type": "stream",
     "text": [
      "[Parallel(n_jobs=4)]: Done  42 tasks      | elapsed:  5.5min\n"
     ]
    },
    {
     "name": "stdout",
     "output_type": "stream",
     "text": [
      "[CV] C=100, kernel=linear ............................................\n",
      "[CV] C=1000, kernel=linear ...........................................\n",
      "[CV] ... C=100, kernel=linear, score=0.4927007299270073, total=  14.7s\n",
      "[CV] C=1000, kernel=linear ...........................................\n",
      "[CV] .. C=100, kernel=linear, score=0.41544117647058826, total=  15.5s\n",
      "[CV] C=1000, kernel=linear ...........................................\n",
      "[CV] .. C=100, kernel=linear, score=0.47232472324723246, total=  15.4s\n",
      "[CV] . C=1000, kernel=linear, score=0.44565217391304346, total=  15.4s\n",
      "[CV] C=1000, kernel=linear ...........................................\n",
      "[CV] C=1000, kernel=linear ...........................................\n",
      "[CV] .. C=1000, kernel=linear, score=0.4311594202898551, total=  14.8s\n",
      "[CV] . C=1000, kernel=linear, score=0.48175182481751827, total=  16.3s\n",
      "[CV] . C=1000, kernel=linear, score=0.40808823529411764, total=  11.5s\n",
      "[CV] . C=1000, kernel=linear, score=0.45387453874538747, total=  11.4s\n"
     ]
    },
    {
     "name": "stderr",
     "output_type": "stream",
     "text": [
      "[Parallel(n_jobs=4)]: Done  50 out of  50 | elapsed:  6.2min finished\n"
     ]
    },
    {
     "name": "stdout",
     "output_type": "stream",
     "text": [
      "Fitting 5 folds for each of 40 candidates, totalling 200 fits\n",
      "[CV] C=0.0001, gamma=auto, kernel=rbf ................................\n",
      "[CV] C=0.0001, gamma=auto, kernel=rbf ................................\n",
      "[CV] C=0.0001, gamma=auto, kernel=rbf ................................\n",
      "[CV] C=0.0001, gamma=auto, kernel=rbf ................................\n",
      "[CV]  C=0.0001, gamma=auto, kernel=rbf, score=0.2210144927536232, total=  27.5s\n",
      "[CV]  C=0.0001, gamma=auto, kernel=rbf, score=0.2210144927536232, total=  28.0s\n",
      "[CV] C=0.0001, gamma=auto, kernel=rbf ................................\n",
      "[CV] C=0.0001, gamma=0.0001, kernel=rbf ..............................\n",
      "[CV]  C=0.0001, gamma=auto, kernel=rbf, score=0.17153284671532848, total=  28.6s\n",
      "[CV] C=0.0001, gamma=0.0001, kernel=rbf ..............................\n",
      "[CV]  C=0.0001, gamma=auto, kernel=rbf, score=0.1801470588235294, total=  28.3s\n",
      "[CV] C=0.0001, gamma=0.0001, kernel=rbf ..............................\n",
      "[CV]  C=0.0001, gamma=auto, kernel=rbf, score=0.18081180811808117, total=  27.9s\n"
     ]
    },
    {
     "name": "stderr",
     "output_type": "stream",
     "text": [
      "[Parallel(n_jobs=4)]: Done   5 tasks      | elapsed:  1.4min\n"
     ]
    },
    {
     "name": "stdout",
     "output_type": "stream",
     "text": [
      "[CV]  C=0.0001, gamma=0.0001, kernel=rbf, score=0.2210144927536232, total=  27.2s\n",
      "[CV] C=0.0001, gamma=0.0001, kernel=rbf ..............................\n",
      "[CV]  C=0.0001, gamma=0.0001, kernel=rbf, score=0.2210144927536232, total=  27.0s\n",
      "[CV] C=0.0001, gamma=0.0001, kernel=rbf ..............................\n",
      "[CV] C=0.0001, gamma=0.001, kernel=rbf ...............................\n",
      "[CV]  C=0.0001, gamma=0.0001, kernel=rbf, score=0.17153284671532848, total=  27.6s\n",
      "[CV] C=0.0001, gamma=0.001, kernel=rbf ...............................\n",
      "[CV]  C=0.0001, gamma=0.0001, kernel=rbf, score=0.1801470588235294, total=  27.2s\n",
      "[CV]  C=0.0001, gamma=0.0001, kernel=rbf, score=0.18081180811808117, total=  26.9s\n"
     ]
    },
    {
     "name": "stderr",
     "output_type": "stream",
     "text": [
      "[Parallel(n_jobs=4)]: Done  10 tasks      | elapsed:  2.1min\n"
     ]
    },
    {
     "name": "stdout",
     "output_type": "stream",
     "text": [
      "[CV] C=0.0001, gamma=0.001, kernel=rbf ...............................\n",
      "[CV]  C=0.0001, gamma=0.001, kernel=rbf, score=0.2210144927536232, total=  26.4s\n",
      "[CV] C=0.0001, gamma=0.001, kernel=rbf ...............................\n",
      "[CV] C=0.0001, gamma=0.001, kernel=rbf ...............................\n",
      "[CV]  C=0.0001, gamma=0.001, kernel=rbf, score=0.2210144927536232, total=  27.3s\n",
      "[CV] C=0.0001, gamma=0.01, kernel=rbf ................................\n",
      "[CV]  C=0.0001, gamma=0.001, kernel=rbf, score=0.17153284671532848, total=  26.7s\n",
      "[CV]  C=0.0001, gamma=0.001, kernel=rbf, score=0.1801470588235294, total=  26.8s\n",
      "[CV] C=0.0001, gamma=0.01, kernel=rbf ................................\n",
      "[CV]  C=0.0001, gamma=0.001, kernel=rbf, score=0.18081180811808117, total=  27.0s\n",
      "[CV] C=0.0001, gamma=0.01, kernel=rbf ................................\n",
      "[CV] C=0.0001, gamma=0.01, kernel=rbf ................................\n",
      "[CV]  C=0.0001, gamma=0.01, kernel=rbf, score=0.2210144927536232, total=  27.7s\n",
      "[CV] C=0.0001, gamma=0.01, kernel=rbf ................................\n",
      "[CV]  C=0.0001, gamma=0.01, kernel=rbf, score=0.2210144927536232, total=  26.9s\n"
     ]
    },
    {
     "name": "stderr",
     "output_type": "stream",
     "text": [
      "[Parallel(n_jobs=4)]: Done  17 tasks      | elapsed:  3.4min\n"
     ]
    },
    {
     "name": "stdout",
     "output_type": "stream",
     "text": [
      "[CV] C=0.001, gamma=auto, kernel=rbf .................................\n",
      "[CV]  C=0.0001, gamma=0.01, kernel=rbf, score=0.17153284671532848, total=  26.8s\n",
      "[CV] C=0.001, gamma=auto, kernel=rbf .................................\n",
      "[CV]  C=0.0001, gamma=0.01, kernel=rbf, score=0.1801470588235294, total=  27.0s\n",
      "[CV] C=0.001, gamma=auto, kernel=rbf .................................\n",
      "[CV]  C=0.0001, gamma=0.01, kernel=rbf, score=0.18081180811808117, total=  28.2s\n",
      "[CV] C=0.001, gamma=auto, kernel=rbf .................................\n",
      "[CV]  C=0.001, gamma=auto, kernel=rbf, score=0.2210144927536232, total=  26.9s\n",
      "[CV] C=0.001, gamma=auto, kernel=rbf .................................\n",
      "[CV]  C=0.001, gamma=auto, kernel=rbf, score=0.2210144927536232, total=  26.8s\n",
      "[CV] C=0.001, gamma=0.0001, kernel=rbf ...............................\n",
      "[CV]  C=0.001, gamma=auto, kernel=rbf, score=0.19343065693430658, total=  27.0s\n",
      "[CV] C=0.001, gamma=0.0001, kernel=rbf ...............................\n",
      "[CV]  C=0.001, gamma=auto, kernel=rbf, score=0.22058823529411764, total=  27.8s\n"
     ]
    },
    {
     "name": "stderr",
     "output_type": "stream",
     "text": [
      "[Parallel(n_jobs=4)]: Done  24 tasks      | elapsed:  4.2min\n"
     ]
    },
    {
     "name": "stdout",
     "output_type": "stream",
     "text": [
      "[CV] C=0.001, gamma=0.0001, kernel=rbf ...............................\n",
      "[CV]  C=0.001, gamma=auto, kernel=rbf, score=0.1918819188191882, total=  26.8s\n",
      "[CV]  C=0.001, gamma=0.0001, kernel=rbf, score=0.2210144927536232, total=  26.7s\n",
      "[CV] C=0.001, gamma=0.0001, kernel=rbf ...............................\n",
      "[CV] C=0.001, gamma=0.0001, kernel=rbf ...............................\n",
      "[CV]  C=0.001, gamma=0.0001, kernel=rbf, score=0.2210144927536232, total=  26.6s\n",
      "[CV] C=0.001, gamma=0.001, kernel=rbf ................................\n",
      "[CV]  C=0.001, gamma=0.0001, kernel=rbf, score=0.19343065693430658, total=  28.1s\n",
      "[CV] C=0.001, gamma=0.001, kernel=rbf ................................\n",
      "[CV]  C=0.001, gamma=0.0001, kernel=rbf, score=0.22058823529411764, total=  26.3s\n",
      "[CV] C=0.001, gamma=0.001, kernel=rbf ................................\n",
      "[CV]  C=0.001, gamma=0.0001, kernel=rbf, score=0.1918819188191882, total=  26.5s\n",
      "[CV]  C=0.001, gamma=0.001, kernel=rbf, score=0.2210144927536232, total=  26.4s\n",
      "[CV] C=0.001, gamma=0.001, kernel=rbf ................................\n",
      "[CV] C=0.001, gamma=0.001, kernel=rbf ................................\n",
      "[CV]  C=0.001, gamma=0.001, kernel=rbf, score=0.2210144927536232, total=  28.2s\n",
      "[CV] C=0.001, gamma=0.01, kernel=rbf .................................\n",
      "[CV]  C=0.001, gamma=0.001, kernel=rbf, score=0.19343065693430658, total=  26.4s\n"
     ]
    },
    {
     "name": "stderr",
     "output_type": "stream",
     "text": [
      "[Parallel(n_jobs=4)]: Done  33 tasks      | elapsed:  6.1min\n"
     ]
    },
    {
     "name": "stdout",
     "output_type": "stream",
     "text": [
      "[CV] C=0.001, gamma=0.01, kernel=rbf .................................\n",
      "[CV]  C=0.001, gamma=0.001, kernel=rbf, score=0.22058823529411764, total=  26.5s\n",
      "[CV] C=0.001, gamma=0.01, kernel=rbf .................................\n",
      "[CV]  C=0.001, gamma=0.001, kernel=rbf, score=0.1918819188191882, total=  26.7s\n",
      "[CV] C=0.001, gamma=0.01, kernel=rbf .................................\n",
      "[CV]  C=0.001, gamma=0.01, kernel=rbf, score=0.2210144927536232, total=  28.7s\n",
      "[CV] C=0.001, gamma=0.01, kernel=rbf .................................\n",
      "[CV]  C=0.001, gamma=0.01, kernel=rbf, score=0.2210144927536232, total=  26.5s\n",
      "[CV] C=0.01, gamma=auto, kernel=rbf ..................................\n",
      "[CV]  C=0.001, gamma=0.01, kernel=rbf, score=0.19343065693430658, total=  26.4s\n",
      "[CV] C=0.01, gamma=auto, kernel=rbf ..................................\n",
      "[CV]  C=0.001, gamma=0.01, kernel=rbf, score=0.22058823529411764, total=  26.8s\n",
      "[CV] C=0.01, gamma=auto, kernel=rbf ..................................\n",
      "[CV]  C=0.001, gamma=0.01, kernel=rbf, score=0.1918819188191882, total=  28.9s\n",
      "[CV] C=0.01, gamma=auto, kernel=rbf ..................................\n",
      "[CV]  C=0.01, gamma=auto, kernel=rbf, score=0.2318840579710145, total=  26.1s\n",
      "[CV] C=0.01, gamma=auto, kernel=rbf ..................................\n",
      "[CV]  C=0.01, gamma=auto, kernel=rbf, score=0.2318840579710145, total=  26.1s\n"
     ]
    },
    {
     "name": "stderr",
     "output_type": "stream",
     "text": [
      "[Parallel(n_jobs=4)]: Done  42 tasks      | elapsed:  7.5min\n"
     ]
    },
    {
     "name": "stdout",
     "output_type": "stream",
     "text": [
      "[CV] C=0.01, gamma=0.0001, kernel=rbf ................................\n",
      "[CV]  C=0.01, gamma=auto, kernel=rbf, score=0.17153284671532848, total=  26.8s\n",
      "[CV] C=0.01, gamma=0.0001, kernel=rbf ................................\n",
      "[CV]  C=0.01, gamma=auto, kernel=rbf, score=0.1801470588235294, total=  28.6s\n",
      "[CV] C=0.01, gamma=0.0001, kernel=rbf ................................\n",
      "[CV]  C=0.01, gamma=auto, kernel=rbf, score=0.1918819188191882, total=  26.5s\n",
      "[CV] C=0.01, gamma=0.0001, kernel=rbf ................................\n",
      "[CV]  C=0.01, gamma=0.0001, kernel=rbf, score=0.2318840579710145, total=  26.6s\n",
      "[CV] C=0.01, gamma=0.0001, kernel=rbf ................................\n",
      "[CV]  C=0.01, gamma=0.0001, kernel=rbf, score=0.2318840579710145, total=  27.2s\n",
      "[CV] C=0.01, gamma=0.001, kernel=rbf .................................\n",
      "[CV]  C=0.01, gamma=0.0001, kernel=rbf, score=0.17153284671532848, total=  28.8s\n",
      "[CV] C=0.01, gamma=0.001, kernel=rbf .................................\n",
      "[CV]  C=0.01, gamma=0.0001, kernel=rbf, score=0.1801470588235294, total=  26.2s\n",
      "[CV] C=0.01, gamma=0.001, kernel=rbf .................................\n",
      "[CV]  C=0.01, gamma=0.0001, kernel=rbf, score=0.1918819188191882, total=  26.2s\n",
      "[CV] C=0.01, gamma=0.001, kernel=rbf .................................\n",
      "[CV]  C=0.01, gamma=0.001, kernel=rbf, score=0.2318840579710145, total=  27.2s\n",
      "[CV] C=0.01, gamma=0.001, kernel=rbf .................................\n",
      "[CV]  C=0.01, gamma=0.001, kernel=rbf, score=0.2318840579710145, total=  28.3s\n",
      "[CV] C=0.01, gamma=0.01, kernel=rbf ..................................\n",
      "[CV]  C=0.01, gamma=0.001, kernel=rbf, score=0.17153284671532848, total=  26.1s\n"
     ]
    },
    {
     "name": "stderr",
     "output_type": "stream",
     "text": [
      "[Parallel(n_jobs=4)]: Done  53 tasks      | elapsed:  9.5min\n"
     ]
    },
    {
     "name": "stdout",
     "output_type": "stream",
     "text": [
      "[CV] C=0.01, gamma=0.01, kernel=rbf ..................................\n",
      "[CV]  C=0.01, gamma=0.001, kernel=rbf, score=0.1801470588235294, total=  26.2s\n",
      "[CV] C=0.01, gamma=0.01, kernel=rbf ..................................\n",
      "[CV]  C=0.01, gamma=0.001, kernel=rbf, score=0.1918819188191882, total=  27.6s\n",
      "[CV] C=0.01, gamma=0.01, kernel=rbf ..................................\n",
      "[CV]  C=0.01, gamma=0.01, kernel=rbf, score=0.2318840579710145, total=  28.6s\n",
      "[CV] C=0.01, gamma=0.01, kernel=rbf ..................................\n",
      "[CV]  C=0.01, gamma=0.01, kernel=rbf, score=0.2318840579710145, total=  26.0s\n",
      "[CV] C=0.1, gamma=auto, kernel=rbf ...................................\n",
      "[CV]  C=0.01, gamma=0.01, kernel=rbf, score=0.17153284671532848, total=  26.0s\n",
      "[CV] C=0.1, gamma=auto, kernel=rbf ...................................\n",
      "[CV]  C=0.01, gamma=0.01, kernel=rbf, score=0.1801470588235294, total=  27.7s\n",
      "[CV] C=0.1, gamma=auto, kernel=rbf ...................................\n",
      "[CV]  C=0.01, gamma=0.01, kernel=rbf, score=0.1918819188191882, total=  28.2s\n",
      "[CV] C=0.1, gamma=auto, kernel=rbf ...................................\n",
      "[CV]  C=0.1, gamma=auto, kernel=rbf, score=0.2318840579710145, total=  26.0s\n",
      "[CV] C=0.1, gamma=auto, kernel=rbf ...................................\n",
      "[CV]  C=0.1, gamma=auto, kernel=rbf, score=0.2318840579710145, total=  26.8s\n",
      "[CV] C=0.1, gamma=0.0001, kernel=rbf .................................\n",
      "[CV]  C=0.1, gamma=auto, kernel=rbf, score=0.19343065693430658, total=  28.5s\n",
      "[CV] C=0.1, gamma=0.0001, kernel=rbf .................................\n",
      "[CV]  C=0.1, gamma=auto, kernel=rbf, score=0.22058823529411764, total=  28.4s\n"
     ]
    },
    {
     "name": "stderr",
     "output_type": "stream",
     "text": [
      "[Parallel(n_jobs=4)]: Done  64 tasks      | elapsed: 11.1min\n"
     ]
    },
    {
     "name": "stdout",
     "output_type": "stream",
     "text": [
      "[CV] C=0.1, gamma=0.0001, kernel=rbf .................................\n",
      "[CV]  C=0.1, gamma=auto, kernel=rbf, score=0.1918819188191882, total=  26.0s\n",
      "[CV] C=0.1, gamma=0.0001, kernel=rbf .................................\n",
      "[CV]  C=0.1, gamma=0.0001, kernel=rbf, score=0.2318840579710145, total=  26.1s\n",
      "[CV] C=0.1, gamma=0.0001, kernel=rbf .................................\n",
      "[CV]  C=0.1, gamma=0.0001, kernel=rbf, score=0.2318840579710145, total=  27.8s\n",
      "[CV] C=0.1, gamma=0.001, kernel=rbf ..................................\n",
      "[CV]  C=0.1, gamma=0.0001, kernel=rbf, score=0.19343065693430658, total=  27.9s\n",
      "[CV] C=0.1, gamma=0.001, kernel=rbf ..................................\n",
      "[CV]  C=0.1, gamma=0.0001, kernel=rbf, score=0.22058823529411764, total=  25.8s\n",
      "[CV] C=0.1, gamma=0.001, kernel=rbf ..................................\n",
      "[CV]  C=0.1, gamma=0.0001, kernel=rbf, score=0.1918819188191882, total=  26.6s\n",
      "[CV] C=0.1, gamma=0.001, kernel=rbf ..................................\n",
      "[CV]  C=0.1, gamma=0.001, kernel=rbf, score=0.2318840579710145, total=  28.2s\n",
      "[CV] C=0.1, gamma=0.001, kernel=rbf ..................................\n",
      "[CV]  C=0.1, gamma=0.001, kernel=rbf, score=0.2318840579710145, total=  28.4s\n",
      "[CV] C=0.1, gamma=0.01, kernel=rbf ...................................\n",
      "[CV]  C=0.1, gamma=0.001, kernel=rbf, score=0.19343065693430658, total=  27.0s\n",
      "[CV] C=0.1, gamma=0.01, kernel=rbf ...................................\n",
      "[CV]  C=0.1, gamma=0.001, kernel=rbf, score=0.22058823529411764, total=  27.3s\n",
      "[CV] C=0.1, gamma=0.01, kernel=rbf ...................................\n",
      "[CV]  C=0.1, gamma=0.001, kernel=rbf, score=0.1918819188191882, total=  29.0s\n",
      "[CV] C=0.1, gamma=0.01, kernel=rbf ...................................\n",
      "[CV]  C=0.1, gamma=0.01, kernel=rbf, score=0.2318840579710145, total=  28.5s\n",
      "[CV] C=0.1, gamma=0.01, kernel=rbf ...................................\n",
      "[CV]  C=0.1, gamma=0.01, kernel=rbf, score=0.2318840579710145, total=  28.0s\n"
     ]
    },
    {
     "name": "stderr",
     "output_type": "stream",
     "text": [
      "[Parallel(n_jobs=4)]: Done  77 tasks      | elapsed: 13.6min\n"
     ]
    },
    {
     "name": "stdout",
     "output_type": "stream",
     "text": [
      "[CV] C=1, gamma=auto, kernel=rbf .....................................\n",
      "[CV]  C=0.1, gamma=0.01, kernel=rbf, score=0.22992700729927007, total=  28.3s\n",
      "[CV] C=1, gamma=auto, kernel=rbf .....................................\n",
      "[CV]  C=0.1, gamma=0.01, kernel=rbf, score=0.22058823529411764, total=  28.8s\n",
      "[CV] C=1, gamma=auto, kernel=rbf .....................................\n",
      "[CV]  C=0.1, gamma=0.01, kernel=rbf, score=0.24354243542435425, total=  28.2s\n",
      "[CV] C=1, gamma=auto, kernel=rbf .....................................\n",
      "[CV]  C=1, gamma=auto, kernel=rbf, score=0.2210144927536232, total=  27.0s\n",
      "[CV] C=1, gamma=auto, kernel=rbf .....................................\n",
      "[CV]  C=1, gamma=auto, kernel=rbf, score=0.2210144927536232, total=  27.8s\n",
      "[CV] C=1, gamma=0.0001, kernel=rbf ...................................\n",
      "[CV]  C=1, gamma=auto, kernel=rbf, score=0.21532846715328466, total=  28.4s\n",
      "[CV] C=1, gamma=0.0001, kernel=rbf ...................................\n",
      "[CV]  C=1, gamma=auto, kernel=rbf, score=0.19117647058823528, total=  29.2s\n",
      "[CV] C=1, gamma=0.0001, kernel=rbf ...................................\n",
      "[CV]  C=1, gamma=auto, kernel=rbf, score=0.1918819188191882, total=  27.4s\n",
      "[CV] C=1, gamma=0.0001, kernel=rbf ...................................\n",
      "[CV]  C=1, gamma=0.0001, kernel=rbf, score=0.2210144927536232, total=  27.0s\n",
      "[CV] C=1, gamma=0.0001, kernel=rbf ...................................\n",
      "[CV]  C=1, gamma=0.0001, kernel=rbf, score=0.2210144927536232, total=  27.7s\n",
      "[CV] C=1, gamma=0.001, kernel=rbf ....................................\n",
      "[CV]  C=1, gamma=0.0001, kernel=rbf, score=0.2116788321167883, total=  27.3s\n",
      "[CV] C=1, gamma=0.001, kernel=rbf ....................................\n",
      "[CV]  C=1, gamma=0.0001, kernel=rbf, score=0.1801470588235294, total=  26.3s\n",
      "[CV] C=1, gamma=0.001, kernel=rbf ....................................\n",
      "[CV]  C=1, gamma=0.0001, kernel=rbf, score=0.1918819188191882, total=  26.5s\n"
     ]
    },
    {
     "name": "stderr",
     "output_type": "stream",
     "text": [
      "[Parallel(n_jobs=4)]: Done  90 tasks      | elapsed: 15.7min\n"
     ]
    },
    {
     "name": "stdout",
     "output_type": "stream",
     "text": [
      "[CV] C=1, gamma=0.001, kernel=rbf ....................................\n",
      "[CV]  C=1, gamma=0.001, kernel=rbf, score=0.22826086956521738, total=  27.3s\n",
      "[CV] C=1, gamma=0.001, kernel=rbf ....................................\n",
      "[CV]  C=1, gamma=0.001, kernel=rbf, score=0.2572463768115942, total=  27.2s\n",
      "[CV] C=1, gamma=0.01, kernel=rbf .....................................\n",
      "[CV]  C=1, gamma=0.001, kernel=rbf, score=0.22262773722627738, total=  26.4s\n",
      "[CV] C=1, gamma=0.01, kernel=rbf .....................................\n",
      "[CV]  C=1, gamma=0.001, kernel=rbf, score=0.2757352941176471, total=  26.7s\n",
      "[CV] C=1, gamma=0.01, kernel=rbf .....................................\n",
      "[CV]  C=1, gamma=0.001, kernel=rbf, score=0.34686346863468637, total=  28.1s\n",
      "[CV] C=1, gamma=0.01, kernel=rbf .....................................\n",
      "[CV]  C=1, gamma=0.01, kernel=rbf, score=0.4601449275362319, total=  26.5s\n",
      "[CV] C=1, gamma=0.01, kernel=rbf .....................................\n",
      "[CV]  C=1, gamma=0.01, kernel=rbf, score=0.3804347826086957, total=  25.1s\n",
      "[CV] C=2, gamma=auto, kernel=rbf .....................................\n",
      "[CV]  C=1, gamma=0.01, kernel=rbf, score=0.4233576642335766, total=  25.6s\n",
      "[CV] C=2, gamma=auto, kernel=rbf .....................................\n",
      "[CV]  C=1, gamma=0.01, kernel=rbf, score=0.3786764705882353, total=  26.0s\n",
      "[CV] C=2, gamma=auto, kernel=rbf .....................................\n",
      "[CV]  C=1, gamma=0.01, kernel=rbf, score=0.4981549815498155, total=  26.5s\n",
      "[CV] C=2, gamma=auto, kernel=rbf .....................................\n",
      "[CV]  C=2, gamma=auto, kernel=rbf, score=0.22826086956521738, total=  26.5s\n",
      "[CV] C=2, gamma=auto, kernel=rbf .....................................\n",
      "[CV]  C=2, gamma=auto, kernel=rbf, score=0.30434782608695654, total=  27.3s\n",
      "[CV] C=2, gamma=0.0001, kernel=rbf ...................................\n",
      "[CV]  C=2, gamma=auto, kernel=rbf, score=0.21532846715328466, total=  27.2s\n",
      "[CV] C=2, gamma=0.0001, kernel=rbf ...................................\n",
      "[CV]  C=2, gamma=auto, kernel=rbf, score=0.23161764705882354, total=  27.2s\n",
      "[CV] C=2, gamma=0.0001, kernel=rbf ...................................\n",
      "[CV]  C=2, gamma=auto, kernel=rbf, score=0.1918819188191882, total=  26.3s\n"
     ]
    },
    {
     "name": "stderr",
     "output_type": "stream",
     "text": [
      "[Parallel(n_jobs=4)]: Done 105 tasks      | elapsed: 18.3min\n"
     ]
    },
    {
     "name": "stdout",
     "output_type": "stream",
     "text": [
      "[CV] C=2, gamma=0.0001, kernel=rbf ...................................\n",
      "[CV]  C=2, gamma=0.0001, kernel=rbf, score=0.2210144927536232, total=  27.1s\n",
      "[CV] C=2, gamma=0.0001, kernel=rbf ...................................\n",
      "[CV]  C=2, gamma=0.0001, kernel=rbf, score=0.2210144927536232, total=  27.5s\n",
      "[CV] C=2, gamma=0.001, kernel=rbf ....................................\n",
      "[CV]  C=2, gamma=0.0001, kernel=rbf, score=0.2116788321167883, total=  27.5s\n",
      "[CV] C=2, gamma=0.001, kernel=rbf ....................................\n",
      "[CV] ...... C=2, gamma=0.0001, kernel=rbf, score=0.1875, total=  26.4s\n",
      "[CV] C=2, gamma=0.001, kernel=rbf ....................................\n",
      "[CV]  C=2, gamma=0.0001, kernel=rbf, score=0.1918819188191882, total=  27.8s\n",
      "[CV] C=2, gamma=0.001, kernel=rbf ....................................\n",
      "[CV]  C=2, gamma=0.001, kernel=rbf, score=0.2644927536231884, total=  29.6s\n",
      "[CV] C=2, gamma=0.001, kernel=rbf ....................................\n",
      "[CV]  C=2, gamma=0.001, kernel=rbf, score=0.21739130434782608, total=  28.6s\n",
      "[CV] C=2, gamma=0.01, kernel=rbf .....................................\n",
      "[CV]  C=2, gamma=0.001, kernel=rbf, score=0.291970802919708, total=  27.6s\n",
      "[CV] C=2, gamma=0.01, kernel=rbf .....................................\n",
      "[CV]  C=2, gamma=0.001, kernel=rbf, score=0.24632352941176472, total=  28.5s\n",
      "[CV] C=2, gamma=0.01, kernel=rbf .....................................\n",
      "[CV]  C=2, gamma=0.001, kernel=rbf, score=0.3247232472324723, total=  26.0s\n",
      "[CV] C=2, gamma=0.01, kernel=rbf .....................................\n",
      "[CV]  C=2, gamma=0.01, kernel=rbf, score=0.47101449275362317, total=  23.6s\n",
      "[CV] C=2, gamma=0.01, kernel=rbf .....................................\n",
      "[CV]  C=2, gamma=0.01, kernel=rbf, score=0.4492753623188406, total=  23.8s\n",
      "[CV] C=10, gamma=auto, kernel=rbf ....................................\n",
      "[CV]  C=2, gamma=0.01, kernel=rbf, score=0.4708029197080292, total=  26.3s\n",
      "[CV] C=10, gamma=auto, kernel=rbf ....................................\n",
      "[CV]  C=2, gamma=0.01, kernel=rbf, score=0.4227941176470588, total=  25.8s\n",
      "[CV] C=10, gamma=auto, kernel=rbf ....................................\n",
      "[CV]  C=2, gamma=0.01, kernel=rbf, score=0.5313653136531366, total=  26.5s\n"
     ]
    },
    {
     "name": "stderr",
     "output_type": "stream",
     "text": [
      "[Parallel(n_jobs=4)]: Done 120 tasks      | elapsed: 20.6min\n"
     ]
    },
    {
     "name": "stdout",
     "output_type": "stream",
     "text": [
      "[CV] C=10, gamma=auto, kernel=rbf ....................................\n",
      "[CV]  C=10, gamma=auto, kernel=rbf, score=0.2644927536231884, total=  27.0s\n",
      "[CV] C=10, gamma=auto, kernel=rbf ....................................\n",
      "[CV]  C=10, gamma=auto, kernel=rbf, score=0.213768115942029, total=  25.6s\n",
      "[CV] C=10, gamma=0.0001, kernel=rbf ..................................\n",
      "[CV]  C=10, gamma=auto, kernel=rbf, score=0.3102189781021898, total=  27.1s\n",
      "[CV] C=10, gamma=0.0001, kernel=rbf ..................................\n",
      "[CV]  C=10, gamma=auto, kernel=rbf, score=0.2867647058823529, total=  27.8s\n",
      "[CV] C=10, gamma=0.0001, kernel=rbf ..................................\n",
      "[CV]  C=10, gamma=auto, kernel=rbf, score=0.2693726937269373, total=  26.9s\n",
      "[CV] C=10, gamma=0.0001, kernel=rbf ..................................\n",
      "[CV]  C=10, gamma=0.0001, kernel=rbf, score=0.2826086956521739, total=  29.1s\n",
      "[CV] C=10, gamma=0.0001, kernel=rbf ..................................\n",
      "[CV]  C=10, gamma=0.0001, kernel=rbf, score=0.2572463768115942, total=  27.8s\n",
      "[CV] C=10, gamma=0.001, kernel=rbf ...................................\n",
      "[CV]  C=10, gamma=0.0001, kernel=rbf, score=0.2846715328467153, total=  26.5s\n",
      "[CV] C=10, gamma=0.001, kernel=rbf ...................................\n",
      "[CV]  C=10, gamma=0.0001, kernel=rbf, score=0.22794117647058823, total=  27.4s\n",
      "[CV] C=10, gamma=0.001, kernel=rbf ...................................\n",
      "[CV]  C=10, gamma=0.0001, kernel=rbf, score=0.3062730627306273, total=  30.2s\n",
      "[CV] C=10, gamma=0.001, kernel=rbf ...................................\n",
      "[CV]  C=10, gamma=0.001, kernel=rbf, score=0.4601449275362319, total=  27.8s\n",
      "[CV] C=10, gamma=0.001, kernel=rbf ...................................\n",
      "[CV]  C=10, gamma=0.001, kernel=rbf, score=0.37681159420289856, total=  26.2s\n",
      "[CV] C=10, gamma=0.01, kernel=rbf ....................................\n",
      "[CV]  C=10, gamma=0.001, kernel=rbf, score=0.4416058394160584, total=  22.2s\n",
      "[CV] C=10, gamma=0.01, kernel=rbf ....................................\n",
      "[CV]  C=10, gamma=0.001, kernel=rbf, score=0.3713235294117647, total=  22.0s\n",
      "[CV] C=10, gamma=0.01, kernel=rbf ....................................\n",
      "[CV]  C=10, gamma=0.01, kernel=rbf, score=0.4963768115942029, total=  18.9s\n",
      "[CV]  C=10, gamma=0.001, kernel=rbf, score=0.4870848708487085, total=  21.9s\n",
      "[CV] C=10, gamma=0.01, kernel=rbf ....................................\n",
      "[CV] C=10, gamma=0.01, kernel=rbf ....................................\n",
      "[CV]  C=10, gamma=0.01, kernel=rbf, score=0.4963768115942029, total=  18.0s\n"
     ]
    },
    {
     "name": "stderr",
     "output_type": "stream",
     "text": [
      "[Parallel(n_jobs=4)]: Done 137 tasks      | elapsed: 23.4min\n"
     ]
    },
    {
     "name": "stdout",
     "output_type": "stream",
     "text": [
      "[CV] C=50, gamma=auto, kernel=rbf ....................................\n",
      "[CV]  C=10, gamma=0.01, kernel=rbf, score=0.5145985401459854, total=  18.5s\n",
      "[CV] C=50, gamma=auto, kernel=rbf ....................................\n",
      "[CV]  C=10, gamma=0.01, kernel=rbf, score=0.47058823529411764, total=  17.8s\n",
      "[CV] C=50, gamma=auto, kernel=rbf ....................................\n",
      "[CV]  C=10, gamma=0.01, kernel=rbf, score=0.5571955719557196, total=  18.3s\n",
      "[CV] C=50, gamma=auto, kernel=rbf ....................................\n",
      "[CV]  C=50, gamma=auto, kernel=rbf, score=0.4673913043478261, total=  20.2s\n",
      "[CV] C=50, gamma=auto, kernel=rbf ....................................\n",
      "[CV]  C=50, gamma=auto, kernel=rbf, score=0.4057971014492754, total=  21.5s\n",
      "[CV] C=50, gamma=0.0001, kernel=rbf ..................................\n",
      "[CV]  C=50, gamma=auto, kernel=rbf, score=0.46715328467153283, total=  22.1s\n",
      "[CV] C=50, gamma=0.0001, kernel=rbf ..................................\n",
      "[CV]  C=50, gamma=auto, kernel=rbf, score=0.38235294117647056, total=  22.3s\n",
      "[CV] C=50, gamma=0.0001, kernel=rbf ..................................\n",
      "[CV]  C=50, gamma=auto, kernel=rbf, score=0.4870848708487085, total=  22.0s\n",
      "[CV] C=50, gamma=0.0001, kernel=rbf ..................................\n",
      "[CV]  C=50, gamma=0.0001, kernel=rbf, score=0.39855072463768115, total=  24.1s\n",
      "[CV] C=50, gamma=0.0001, kernel=rbf ..................................\n",
      "[CV]  C=50, gamma=0.0001, kernel=rbf, score=0.2898550724637681, total=  25.0s\n",
      "[CV] C=50, gamma=0.001, kernel=rbf ...................................\n",
      "[CV]  C=50, gamma=0.0001, kernel=rbf, score=0.38686131386861317, total=  27.0s\n",
      "[CV] C=50, gamma=0.001, kernel=rbf ...................................\n",
      "[CV]  C=50, gamma=0.0001, kernel=rbf, score=0.33088235294117646, total=  26.1s\n",
      "[CV] C=50, gamma=0.001, kernel=rbf ...................................\n",
      "[CV] ......... C=50, gamma=0.001, kernel=rbf, score=0.5, total=  24.3s\n",
      "[CV]  C=50, gamma=0.0001, kernel=rbf, score=0.3985239852398524, total=  26.9s\n",
      "[CV] C=50, gamma=0.001, kernel=rbf ...................................\n",
      "[CV]  C=50, gamma=0.001, kernel=rbf, score=0.4782608695652174, total=  25.1s\n",
      "[CV] C=50, gamma=0.001, kernel=rbf ...................................\n",
      "[CV] C=50, gamma=0.01, kernel=rbf ....................................\n",
      "[CV]  C=50, gamma=0.001, kernel=rbf, score=0.48905109489051096, total=  20.9s\n",
      "[CV] C=50, gamma=0.01, kernel=rbf ....................................\n",
      "[CV]  C=50, gamma=0.001, kernel=rbf, score=0.45955882352941174, total=  20.2s\n"
     ]
    },
    {
     "name": "stderr",
     "output_type": "stream",
     "text": [
      "[Parallel(n_jobs=4)]: Done 154 tasks      | elapsed: 26.0min\n"
     ]
    },
    {
     "name": "stdout",
     "output_type": "stream",
     "text": [
      "[CV] C=50, gamma=0.01, kernel=rbf ....................................\n",
      "[CV]  C=50, gamma=0.001, kernel=rbf, score=0.5571955719557196, total=  20.2s\n",
      "[CV]  C=50, gamma=0.01, kernel=rbf, score=0.5036231884057971, total=  19.8s\n",
      "[CV] C=50, gamma=0.01, kernel=rbf ....................................\n",
      "[CV] C=50, gamma=0.01, kernel=rbf ....................................\n",
      "[CV]  C=50, gamma=0.01, kernel=rbf, score=0.4855072463768116, total=  21.3s\n",
      "[CV] C=100, gamma=auto, kernel=rbf ...................................\n",
      "[CV]  C=50, gamma=0.01, kernel=rbf, score=0.5364963503649635, total=  20.9s\n",
      "[CV] C=100, gamma=auto, kernel=rbf ...................................\n",
      "[CV]  C=50, gamma=0.01, kernel=rbf, score=0.46691176470588236, total=  21.0s\n",
      "[CV] C=100, gamma=auto, kernel=rbf ...................................\n",
      "[CV]  C=50, gamma=0.01, kernel=rbf, score=0.5202952029520295, total=  20.3s\n",
      "[CV] C=100, gamma=auto, kernel=rbf ...................................\n",
      "[CV]  C=100, gamma=auto, kernel=rbf, score=0.4855072463768116, total=  20.7s\n",
      "[CV] C=100, gamma=auto, kernel=rbf ...................................\n",
      "[CV]  C=100, gamma=auto, kernel=rbf, score=0.4492753623188406, total=  22.2s\n",
      "[CV] C=100, gamma=0.0001, kernel=rbf .................................\n",
      "[CV] ......... C=100, gamma=auto, kernel=rbf, score=0.5, total=  22.2s\n",
      "[CV]  C=100, gamma=auto, kernel=rbf, score=0.4338235294117647, total=  23.1s\n",
      "[CV] C=100, gamma=0.0001, kernel=rbf .................................\n",
      "[CV] C=100, gamma=0.0001, kernel=rbf .................................\n",
      "[CV]  C=100, gamma=auto, kernel=rbf, score=0.5387453874538746, total=  24.6s\n",
      "[CV] C=100, gamma=0.0001, kernel=rbf .................................\n",
      "[CV]  C=100, gamma=0.0001, kernel=rbf, score=0.4528985507246377, total=  22.9s\n",
      "[CV] C=100, gamma=0.0001, kernel=rbf .................................\n",
      "[CV]  C=100, gamma=0.0001, kernel=rbf, score=0.3804347826086957, total=  22.8s\n",
      "[CV] C=100, gamma=0.001, kernel=rbf ..................................\n",
      "[CV]  C=100, gamma=0.0001, kernel=rbf, score=0.44525547445255476, total=  23.4s\n",
      "[CV] C=100, gamma=0.001, kernel=rbf ..................................\n",
      "[CV]  C=100, gamma=0.0001, kernel=rbf, score=0.3639705882352941, total=  22.3s\n",
      "[CV] C=100, gamma=0.001, kernel=rbf ..................................\n",
      "[CV]  C=100, gamma=0.001, kernel=rbf, score=0.4782608695652174, total=  19.2s\n",
      "[CV] C=100, gamma=0.001, kernel=rbf ..................................\n",
      "[CV]  C=100, gamma=0.001, kernel=rbf, score=0.4927536231884058, total=  19.6s\n",
      "[CV]  C=100, gamma=0.0001, kernel=rbf, score=0.4833948339483395, total=  22.9s\n",
      "[CV] C=100, gamma=0.001, kernel=rbf ..................................\n",
      "[CV] C=100, gamma=0.01, kernel=rbf ...................................\n",
      "[CV]  C=100, gamma=0.001, kernel=rbf, score=0.5145985401459854, total=  24.2s\n"
     ]
    },
    {
     "name": "stderr",
     "output_type": "stream",
     "text": [
      "[Parallel(n_jobs=4)]: Done 173 tasks      | elapsed: 28.8min\n"
     ]
    },
    {
     "name": "stdout",
     "output_type": "stream",
     "text": [
      "[CV] C=100, gamma=0.01, kernel=rbf ...................................\n",
      "[CV]  C=100, gamma=0.001, kernel=rbf, score=0.47058823529411764, total=  23.1s\n",
      "[CV] C=100, gamma=0.01, kernel=rbf ...................................\n",
      "[CV]  C=100, gamma=0.001, kernel=rbf, score=0.5645756457564576, total=  23.3s\n",
      "[CV] C=100, gamma=0.01, kernel=rbf ...................................\n",
      "[CV]  C=100, gamma=0.01, kernel=rbf, score=0.4963768115942029, total=  27.6s\n",
      "[CV] C=100, gamma=0.01, kernel=rbf ...................................\n",
      "[CV]  C=100, gamma=0.01, kernel=rbf, score=0.4782608695652174, total=  27.3s\n",
      "[CV] C=1000, gamma=auto, kernel=rbf ..................................\n",
      "[CV]  C=100, gamma=0.01, kernel=rbf, score=0.5182481751824818, total=  24.3s\n",
      "[CV] C=1000, gamma=auto, kernel=rbf ..................................\n",
      "[CV]  C=100, gamma=0.01, kernel=rbf, score=0.4485294117647059, total=  22.3s\n",
      "[CV] C=1000, gamma=auto, kernel=rbf ..................................\n",
      "[CV]  C=100, gamma=0.01, kernel=rbf, score=0.5202952029520295, total=  24.5s\n",
      "[CV] C=1000, gamma=auto, kernel=rbf ..................................\n",
      "[CV]  C=1000, gamma=auto, kernel=rbf, score=0.4855072463768116, total=  26.8s\n",
      "[CV] C=1000, gamma=auto, kernel=rbf ..................................\n",
      "[CV]  C=1000, gamma=auto, kernel=rbf, score=0.5036231884057971, total=  24.8s\n",
      "[CV] C=1000, gamma=0.0001, kernel=rbf ................................\n",
      "[CV]  C=1000, gamma=auto, kernel=rbf, score=0.5474452554744526, total=  25.2s\n",
      "[CV] C=1000, gamma=0.0001, kernel=rbf ................................\n",
      "[CV]  C=1000, gamma=auto, kernel=rbf, score=0.4632352941176471, total=  26.9s\n",
      "[CV] C=1000, gamma=0.0001, kernel=rbf ................................\n",
      "[CV]  C=1000, gamma=auto, kernel=rbf, score=0.5313653136531366, total=  24.3s\n",
      "[CV] C=1000, gamma=0.0001, kernel=rbf ................................\n",
      "[CV]  C=1000, gamma=0.0001, kernel=rbf, score=0.4782608695652174, total=  23.2s\n",
      "[CV] C=1000, gamma=0.0001, kernel=rbf ................................\n",
      "[CV]  C=1000, gamma=0.0001, kernel=rbf, score=0.4963768115942029, total=  23.6s\n",
      "[CV] C=1000, gamma=0.001, kernel=rbf .................................\n",
      "[CV]  C=1000, gamma=0.0001, kernel=rbf, score=0.5182481751824818, total=  25.6s\n",
      "[CV] C=1000, gamma=0.001, kernel=rbf .................................\n",
      "[CV]  C=1000, gamma=0.0001, kernel=rbf, score=0.4742647058823529, total=  23.7s\n",
      "[CV] C=1000, gamma=0.001, kernel=rbf .................................\n",
      "[CV]  C=1000, gamma=0.0001, kernel=rbf, score=0.5608856088560885, total=  23.9s\n",
      "[CV] C=1000, gamma=0.001, kernel=rbf .................................\n",
      "[CV]  C=1000, gamma=0.001, kernel=rbf, score=0.4782608695652174, total=  25.5s\n",
      "[CV] C=1000, gamma=0.001, kernel=rbf .................................\n",
      "[CV]  C=1000, gamma=0.001, kernel=rbf, score=0.4673913043478261, total=  25.1s\n"
     ]
    },
    {
     "name": "stderr",
     "output_type": "stream",
     "text": [
      "[Parallel(n_jobs=4)]: Done 192 tasks      | elapsed: 31.8min\n"
     ]
    },
    {
     "name": "stdout",
     "output_type": "stream",
     "text": [
      "[CV] C=1000, gamma=0.01, kernel=rbf ..................................\n",
      "[CV]  C=1000, gamma=0.001, kernel=rbf, score=0.5036496350364964, total=  22.0s\n",
      "[CV] C=1000, gamma=0.01, kernel=rbf ..................................\n",
      "[CV]  C=1000, gamma=0.001, kernel=rbf, score=0.4485294117647059, total=  21.3s\n",
      "[CV] C=1000, gamma=0.01, kernel=rbf ..................................\n",
      "[CV]  C=1000, gamma=0.001, kernel=rbf, score=0.5166051660516605, total=  21.4s\n",
      "[CV] C=1000, gamma=0.01, kernel=rbf ..................................\n",
      "[CV]  C=1000, gamma=0.01, kernel=rbf, score=0.4855072463768116, total=  22.8s\n",
      "[CV] C=1000, gamma=0.01, kernel=rbf ..................................\n",
      "[CV]  C=1000, gamma=0.01, kernel=rbf, score=0.47101449275362317, total=  21.9s\n",
      "[CV]  C=1000, gamma=0.01, kernel=rbf, score=0.5182481751824818, total=  23.4s\n",
      "[CV]  C=1000, gamma=0.01, kernel=rbf, score=0.41911764705882354, total=  21.1s\n",
      "[CV]  C=1000, gamma=0.01, kernel=rbf, score=0.45387453874538747, total=  22.7s\n"
     ]
    },
    {
     "name": "stderr",
     "output_type": "stream",
     "text": [
      "[Parallel(n_jobs=4)]: Done 200 out of 200 | elapsed: 32.9min finished\n"
     ]
    },
    {
     "name": "stdout",
     "output_type": "stream",
     "text": [
      "Fitting 5 folds for each of 40 candidates, totalling 200 fits\n",
      "[CV] C=0.0001, degree=2, kernel=poly .................................\n",
      "[CV] C=0.0001, degree=2, kernel=poly .................................\n",
      "[CV] C=0.0001, degree=2, kernel=poly .................................\n",
      "[CV] C=0.0001, degree=2, kernel=poly .................................\n",
      "[CV]  C=0.0001, degree=2, kernel=poly, score=0.2210144927536232, total=  25.7s\n",
      "[CV]  C=0.0001, degree=2, kernel=poly, score=0.2210144927536232, total=  26.5s\n",
      "[CV] C=0.0001, degree=2, kernel=poly .................................\n",
      "[CV] C=0.0001, degree=3, kernel=poly .................................\n",
      "[CV]  C=0.0001, degree=2, kernel=poly, score=0.17153284671532848, total=  27.2s\n",
      "[CV] C=0.0001, degree=3, kernel=poly .................................\n",
      "[CV]  C=0.0001, degree=2, kernel=poly, score=0.1801470588235294, total=  27.7s\n",
      "[CV] C=0.0001, degree=3, kernel=poly .................................\n",
      "[CV]  C=0.0001, degree=2, kernel=poly, score=0.18081180811808117, total=  28.0s\n"
     ]
    },
    {
     "name": "stderr",
     "output_type": "stream",
     "text": [
      "[Parallel(n_jobs=4)]: Done   5 tasks      | elapsed:  1.3min\n"
     ]
    },
    {
     "name": "stdout",
     "output_type": "stream",
     "text": [
      "[CV]  C=0.0001, degree=3, kernel=poly, score=0.2210144927536232, total=  27.7s\n",
      "[CV] C=0.0001, degree=3, kernel=poly .................................\n",
      "[CV] C=0.0001, degree=3, kernel=poly .................................\n",
      "[CV]  C=0.0001, degree=3, kernel=poly, score=0.2210144927536232, total=  27.0s\n",
      "[CV] C=0.0001, degree=5, kernel=poly .................................\n",
      "[CV]  C=0.0001, degree=3, kernel=poly, score=0.17153284671532848, total=  27.7s\n",
      "[CV] C=0.0001, degree=5, kernel=poly .................................\n",
      "[CV]  C=0.0001, degree=3, kernel=poly, score=0.1801470588235294, total=  24.5s\n",
      "[CV]  C=0.0001, degree=3, kernel=poly, score=0.18081180811808117, total=  24.5s\n",
      "[CV] C=0.0001, degree=5, kernel=poly .................................\n"
     ]
    },
    {
     "name": "stderr",
     "output_type": "stream",
     "text": [
      "[Parallel(n_jobs=4)]: Done  10 tasks      | elapsed:  1.9min\n"
     ]
    },
    {
     "name": "stdout",
     "output_type": "stream",
     "text": [
      "[CV]  C=0.0001, degree=5, kernel=poly, score=0.2210144927536232, total=  24.2s\n",
      "[CV] C=0.0001, degree=5, kernel=poly .................................\n",
      "[CV] C=0.0001, degree=5, kernel=poly .................................\n",
      "[CV]  C=0.0001, degree=5, kernel=poly, score=0.2210144927536232, total=  25.2s\n",
      "[CV] C=0.0001, degree=11, kernel=poly ................................\n",
      "[CV]  C=0.0001, degree=5, kernel=poly, score=0.17153284671532848, total=  25.7s\n",
      "[CV]  C=0.0001, degree=5, kernel=poly, score=0.1801470588235294, total=  25.3s\n",
      "[CV] C=0.0001, degree=11, kernel=poly ................................\n",
      "[CV]  C=0.0001, degree=5, kernel=poly, score=0.18081180811808117, total=  25.1s\n",
      "[CV] C=0.0001, degree=11, kernel=poly ................................\n",
      "[CV] C=0.0001, degree=11, kernel=poly ................................\n",
      "[CV]  C=0.0001, degree=11, kernel=poly, score=0.2210144927536232, total=  26.4s\n",
      "[CV] C=0.0001, degree=11, kernel=poly ................................\n",
      "[CV]  C=0.0001, degree=11, kernel=poly, score=0.2210144927536232, total=  23.5s\n"
     ]
    },
    {
     "name": "stderr",
     "output_type": "stream",
     "text": [
      "[Parallel(n_jobs=4)]: Done  17 tasks      | elapsed:  3.1min\n"
     ]
    },
    {
     "name": "stdout",
     "output_type": "stream",
     "text": [
      "[CV]  C=0.0001, degree=11, kernel=poly, score=0.17153284671532848, total=  23.5s\n",
      "[CV] C=0.001, degree=2, kernel=poly ..................................\n",
      "[CV] C=0.001, degree=2, kernel=poly ..................................\n",
      "[CV]  C=0.0001, degree=11, kernel=poly, score=0.1801470588235294, total=  23.7s\n",
      "[CV] C=0.001, degree=2, kernel=poly ..................................\n",
      "[CV]  C=0.0001, degree=11, kernel=poly, score=0.18081180811808117, total=  25.6s\n",
      "[CV] C=0.001, degree=2, kernel=poly ..................................\n",
      "[CV]  C=0.001, degree=2, kernel=poly, score=0.2210144927536232, total=  22.3s\n",
      "[CV] C=0.001, degree=2, kernel=poly ..................................\n",
      "[CV]  C=0.001, degree=2, kernel=poly, score=0.2210144927536232, total=  22.6s\n",
      "[CV] C=0.001, degree=3, kernel=poly ..................................\n",
      "[CV]  C=0.001, degree=2, kernel=poly, score=0.19343065693430658, total=  22.6s\n",
      "[CV] C=0.001, degree=3, kernel=poly ..................................\n",
      "[CV]  C=0.001, degree=2, kernel=poly, score=0.22058823529411764, total=  25.2s\n"
     ]
    },
    {
     "name": "stderr",
     "output_type": "stream",
     "text": [
      "[Parallel(n_jobs=4)]: Done  24 tasks      | elapsed:  3.9min\n"
     ]
    },
    {
     "name": "stdout",
     "output_type": "stream",
     "text": [
      "[CV] C=0.001, degree=3, kernel=poly ..................................\n",
      "[CV]  C=0.001, degree=2, kernel=poly, score=0.1918819188191882, total=  24.0s\n",
      "[CV]  C=0.001, degree=3, kernel=poly, score=0.2210144927536232, total=  23.9s\n",
      "[CV] C=0.001, degree=3, kernel=poly ..................................\n",
      "[CV] C=0.001, degree=3, kernel=poly ..................................\n",
      "[CV]  C=0.001, degree=3, kernel=poly, score=0.2210144927536232, total=  24.0s\n",
      "[CV] C=0.001, degree=5, kernel=poly ..................................\n",
      "[CV]  C=0.001, degree=3, kernel=poly, score=0.19343065693430658, total=  26.9s\n",
      "[CV] C=0.001, degree=5, kernel=poly ..................................\n",
      "[CV]  C=0.001, degree=3, kernel=poly, score=0.22058823529411764, total=  24.3s\n",
      "[CV]  C=0.001, degree=3, kernel=poly, score=0.1918819188191882, total=  23.9s\n",
      "[CV] C=0.001, degree=5, kernel=poly ..................................\n",
      "[CV] C=0.001, degree=5, kernel=poly ..................................\n",
      "[CV]  C=0.001, degree=5, kernel=poly, score=0.2210144927536232, total=  24.5s\n",
      "[CV] C=0.001, degree=5, kernel=poly ..................................\n",
      "[CV]  C=0.001, degree=5, kernel=poly, score=0.2210144927536232, total=  26.7s\n",
      "[CV] C=0.001, degree=11, kernel=poly .................................\n",
      "[CV]  C=0.001, degree=5, kernel=poly, score=0.19343065693430658, total=  22.5s\n"
     ]
    },
    {
     "name": "stderr",
     "output_type": "stream",
     "text": [
      "[Parallel(n_jobs=4)]: Done  33 tasks      | elapsed:  5.5min\n"
     ]
    },
    {
     "name": "stdout",
     "output_type": "stream",
     "text": [
      "[CV]  C=0.001, degree=5, kernel=poly, score=0.22058823529411764, total=  22.2s\n",
      "[CV] C=0.001, degree=11, kernel=poly .................................\n",
      "[CV] C=0.001, degree=11, kernel=poly .................................\n",
      "[CV]  C=0.001, degree=5, kernel=poly, score=0.1918819188191882, total=  22.9s\n",
      "[CV] C=0.001, degree=11, kernel=poly .................................\n",
      "[CV]  C=0.001, degree=11, kernel=poly, score=0.2210144927536232, total=  26.1s\n",
      "[CV] C=0.001, degree=11, kernel=poly .................................\n",
      "[CV]  C=0.001, degree=11, kernel=poly, score=0.2210144927536232, total=  28.8s\n",
      "[CV]  C=0.001, degree=11, kernel=poly, score=0.19343065693430658, total=  28.6s\n",
      "[CV] C=0.01, degree=2, kernel=poly ...................................\n",
      "[CV] C=0.01, degree=2, kernel=poly ...................................\n",
      "[CV]  C=0.001, degree=11, kernel=poly, score=0.22058823529411764, total=  30.1s\n",
      "[CV] C=0.01, degree=2, kernel=poly ...................................\n",
      "[CV]  C=0.001, degree=11, kernel=poly, score=0.1918819188191882, total=  31.4s\n",
      "[CV] C=0.01, degree=2, kernel=poly ...................................\n",
      "[CV]  C=0.01, degree=2, kernel=poly, score=0.2318840579710145, total=  23.6s\n",
      "[CV]  C=0.01, degree=2, kernel=poly, score=0.2318840579710145, total=  23.0s\n",
      "[CV] C=0.01, degree=2, kernel=poly ...................................\n"
     ]
    },
    {
     "name": "stderr",
     "output_type": "stream",
     "text": [
      "[Parallel(n_jobs=4)]: Done  42 tasks      | elapsed:  6.8min\n"
     ]
    },
    {
     "name": "stdout",
     "output_type": "stream",
     "text": [
      "[CV] C=0.01, degree=3, kernel=poly ...................................\n",
      "[CV]  C=0.01, degree=2, kernel=poly, score=0.17153284671532848, total=  23.8s\n",
      "[CV] C=0.01, degree=3, kernel=poly ...................................\n",
      "[CV]  C=0.01, degree=2, kernel=poly, score=0.1801470588235294, total=  26.7s\n",
      "[CV] C=0.01, degree=3, kernel=poly ...................................\n",
      "[CV]  C=0.01, degree=2, kernel=poly, score=0.1918819188191882, total=  24.7s\n",
      "[CV]  C=0.01, degree=3, kernel=poly, score=0.2318840579710145, total=  24.0s\n",
      "[CV] C=0.01, degree=3, kernel=poly ...................................\n",
      "[CV] C=0.01, degree=3, kernel=poly ...................................\n",
      "[CV]  C=0.01, degree=3, kernel=poly, score=0.2318840579710145, total=  24.5s\n",
      "[CV] C=0.01, degree=5, kernel=poly ...................................\n",
      "[CV]  C=0.01, degree=3, kernel=poly, score=0.17153284671532848, total=  25.8s\n",
      "[CV] C=0.01, degree=5, kernel=poly ...................................\n",
      "[CV]  C=0.01, degree=3, kernel=poly, score=0.1801470588235294, total=  24.4s\n",
      "[CV] C=0.01, degree=5, kernel=poly ...................................\n",
      "[CV]  C=0.01, degree=3, kernel=poly, score=0.1918819188191882, total=  24.5s\n",
      "[CV] C=0.01, degree=5, kernel=poly ...................................\n",
      "[CV]  C=0.01, degree=5, kernel=poly, score=0.2318840579710145, total=  24.8s\n",
      "[CV] C=0.01, degree=5, kernel=poly ...................................\n",
      "[CV]  C=0.01, degree=5, kernel=poly, score=0.2318840579710145, total=  26.3s\n",
      "[CV] C=0.01, degree=11, kernel=poly ..................................\n",
      "[CV]  C=0.01, degree=5, kernel=poly, score=0.17153284671532848, total=  24.7s\n"
     ]
    },
    {
     "name": "stderr",
     "output_type": "stream",
     "text": [
      "[Parallel(n_jobs=4)]: Done  53 tasks      | elapsed:  8.7min\n"
     ]
    },
    {
     "name": "stdout",
     "output_type": "stream",
     "text": [
      "[CV] C=0.01, degree=11, kernel=poly ..................................\n",
      "[CV]  C=0.01, degree=5, kernel=poly, score=0.1801470588235294, total=  24.9s\n",
      "[CV] C=0.01, degree=11, kernel=poly ..................................\n",
      "[CV]  C=0.01, degree=5, kernel=poly, score=0.1918819188191882, total=  26.4s\n",
      "[CV] C=0.01, degree=11, kernel=poly ..................................\n",
      "[CV]  C=0.01, degree=11, kernel=poly, score=0.2318840579710145, total=  26.3s\n",
      "[CV] C=0.01, degree=11, kernel=poly ..................................\n",
      "[CV]  C=0.01, degree=11, kernel=poly, score=0.2318840579710145, total=  24.3s\n",
      "[CV]  C=0.01, degree=11, kernel=poly, score=0.17153284671532848, total=  23.3s\n",
      "[CV] C=0.1, degree=2, kernel=poly ....................................\n",
      "[CV] C=0.1, degree=2, kernel=poly ....................................\n",
      "[CV]  C=0.01, degree=11, kernel=poly, score=0.1801470588235294, total=  24.7s\n",
      "[CV] C=0.1, degree=2, kernel=poly ....................................\n",
      "[CV]  C=0.01, degree=11, kernel=poly, score=0.1918819188191882, total=  24.2s\n",
      "[CV] C=0.1, degree=2, kernel=poly ....................................\n",
      "[CV]  C=0.1, degree=2, kernel=poly, score=0.2318840579710145, total=  23.5s\n",
      "[CV]  C=0.1, degree=2, kernel=poly, score=0.2318840579710145, total=  22.8s\n",
      "[CV] C=0.1, degree=2, kernel=poly ....................................\n",
      "[CV] C=0.1, degree=3, kernel=poly ....................................\n",
      "[CV]  C=0.1, degree=2, kernel=poly, score=0.19343065693430658, total=  25.0s\n",
      "[CV] C=0.1, degree=3, kernel=poly ....................................\n",
      "[CV]  C=0.1, degree=2, kernel=poly, score=0.22058823529411764, total=  25.1s\n"
     ]
    },
    {
     "name": "stderr",
     "output_type": "stream",
     "text": [
      "[Parallel(n_jobs=4)]: Done  64 tasks      | elapsed: 10.2min\n"
     ]
    },
    {
     "name": "stdout",
     "output_type": "stream",
     "text": [
      "[CV] C=0.1, degree=3, kernel=poly ....................................\n",
      "[CV]  C=0.1, degree=2, kernel=poly, score=0.1918819188191882, total=  24.1s\n",
      "[CV]  C=0.1, degree=3, kernel=poly, score=0.2318840579710145, total=  23.9s\n",
      "[CV] C=0.1, degree=3, kernel=poly ....................................\n",
      "[CV] C=0.1, degree=3, kernel=poly ....................................\n",
      "[CV]  C=0.1, degree=3, kernel=poly, score=0.2318840579710145, total=  25.2s\n",
      "[CV] C=0.1, degree=5, kernel=poly ....................................\n",
      "[CV]  C=0.1, degree=3, kernel=poly, score=0.19343065693430658, total=  25.9s\n",
      "[CV] C=0.1, degree=5, kernel=poly ....................................\n",
      "[CV]  C=0.1, degree=3, kernel=poly, score=0.22058823529411764, total=  27.0s\n",
      "[CV]  C=0.1, degree=3, kernel=poly, score=0.1918819188191882, total=  27.4s\n",
      "[CV] C=0.1, degree=5, kernel=poly ....................................\n",
      "[CV] C=0.1, degree=5, kernel=poly ....................................\n",
      "[CV]  C=0.1, degree=5, kernel=poly, score=0.2318840579710145, total=  28.3s\n",
      "[CV] C=0.1, degree=5, kernel=poly ....................................\n",
      "[CV]  C=0.1, degree=5, kernel=poly, score=0.2318840579710145, total=  26.9s\n",
      "[CV] C=0.1, degree=11, kernel=poly ...................................\n",
      "[CV]  C=0.1, degree=5, kernel=poly, score=0.19343065693430658, total=  25.8s\n",
      "[CV]  C=0.1, degree=5, kernel=poly, score=0.22058823529411764, total=  25.2s\n",
      "[CV] C=0.1, degree=11, kernel=poly ...................................\n",
      "[CV] C=0.1, degree=11, kernel=poly ...................................\n",
      "[CV]  C=0.1, degree=5, kernel=poly, score=0.1918819188191882, total=  26.1s\n",
      "[CV] C=0.1, degree=11, kernel=poly ...................................\n",
      "[CV]  C=0.1, degree=11, kernel=poly, score=0.2318840579710145, total=  25.6s\n",
      "[CV] C=0.1, degree=11, kernel=poly ...................................\n",
      "[CV]  C=0.1, degree=11, kernel=poly, score=0.2318840579710145, total=  25.0s\n"
     ]
    },
    {
     "name": "stderr",
     "output_type": "stream",
     "text": [
      "[Parallel(n_jobs=4)]: Done  77 tasks      | elapsed: 12.3min\n"
     ]
    },
    {
     "name": "stdout",
     "output_type": "stream",
     "text": [
      "[CV] C=1, degree=2, kernel=poly ......................................\n",
      "[CV]  C=0.1, degree=11, kernel=poly, score=0.19343065693430658, total=  25.0s\n",
      "[CV] C=1, degree=2, kernel=poly ......................................\n",
      "[CV]  C=0.1, degree=11, kernel=poly, score=0.22058823529411764, total=  25.1s\n",
      "[CV] C=1, degree=2, kernel=poly ......................................\n",
      "[CV]  C=0.1, degree=11, kernel=poly, score=0.1918819188191882, total=  26.1s\n",
      "[CV] C=1, degree=2, kernel=poly ......................................\n",
      "[CV]  C=1, degree=2, kernel=poly, score=0.2210144927536232, total=  23.9s\n",
      "[CV] C=1, degree=2, kernel=poly ......................................\n",
      "[CV]  C=1, degree=2, kernel=poly, score=0.2210144927536232, total=  23.7s\n",
      "[CV] C=1, degree=3, kernel=poly ......................................\n",
      "[CV]  C=1, degree=2, kernel=poly, score=0.17153284671532848, total=  24.0s\n",
      "[CV] C=1, degree=3, kernel=poly ......................................\n",
      "[CV]  C=1, degree=2, kernel=poly, score=0.1801470588235294, total=  24.6s\n",
      "[CV] C=1, degree=3, kernel=poly ......................................\n",
      "[CV]  C=1, degree=2, kernel=poly, score=0.1918819188191882, total=  24.1s\n",
      "[CV] C=1, degree=3, kernel=poly ......................................\n",
      "[CV]  C=1, degree=3, kernel=poly, score=0.2210144927536232, total=  24.0s\n",
      "[CV] C=1, degree=3, kernel=poly ......................................\n",
      "[CV]  C=1, degree=3, kernel=poly, score=0.2210144927536232, total=  24.7s\n",
      "[CV] C=1, degree=5, kernel=poly ......................................\n",
      "[CV]  C=1, degree=3, kernel=poly, score=0.17153284671532848, total=  25.9s\n",
      "[CV] C=1, degree=5, kernel=poly ......................................\n",
      "[CV]  C=1, degree=3, kernel=poly, score=0.1801470588235294, total=  27.1s\n",
      "[CV] C=1, degree=5, kernel=poly ......................................\n",
      "[CV]  C=1, degree=3, kernel=poly, score=0.1918819188191882, total=  27.9s\n"
     ]
    },
    {
     "name": "stderr",
     "output_type": "stream",
     "text": [
      "[Parallel(n_jobs=4)]: Done  90 tasks      | elapsed: 14.3min\n"
     ]
    },
    {
     "name": "stdout",
     "output_type": "stream",
     "text": [
      "[CV] C=1, degree=5, kernel=poly ......................................\n",
      "[CV]  C=1, degree=5, kernel=poly, score=0.2210144927536232, total=  32.6s\n",
      "[CV] C=1, degree=5, kernel=poly ......................................\n",
      "[CV]  C=1, degree=5, kernel=poly, score=0.2210144927536232, total=  32.3s\n",
      "[CV] C=1, degree=11, kernel=poly .....................................\n",
      "[CV]  C=1, degree=5, kernel=poly, score=0.17153284671532848, total=  29.3s\n",
      "[CV] C=1, degree=11, kernel=poly .....................................\n",
      "[CV]  C=1, degree=5, kernel=poly, score=0.1801470588235294, total=  29.7s\n",
      "[CV] C=1, degree=11, kernel=poly .....................................\n",
      "[CV]  C=1, degree=5, kernel=poly, score=0.1918819188191882, total=  29.2s\n",
      "[CV] C=1, degree=11, kernel=poly .....................................\n",
      "[CV]  C=1, degree=11, kernel=poly, score=0.2210144927536232, total=  28.2s\n",
      "[CV] C=1, degree=11, kernel=poly .....................................\n",
      "[CV]  C=1, degree=11, kernel=poly, score=0.2210144927536232, total=  27.4s\n",
      "[CV] C=2, degree=2, kernel=poly ......................................\n",
      "[CV]  C=1, degree=11, kernel=poly, score=0.17153284671532848, total=  27.8s\n",
      "[CV] C=2, degree=2, kernel=poly ......................................\n",
      "[CV]  C=1, degree=11, kernel=poly, score=0.1801470588235294, total=  27.3s\n",
      "[CV] C=2, degree=2, kernel=poly ......................................\n",
      "[CV]  C=1, degree=11, kernel=poly, score=0.1918819188191882, total=  31.5s\n",
      "[CV] C=2, degree=2, kernel=poly ......................................\n",
      "[CV]  C=2, degree=2, kernel=poly, score=0.2210144927536232, total=  31.0s\n",
      "[CV] C=2, degree=2, kernel=poly ......................................\n",
      "[CV]  C=2, degree=2, kernel=poly, score=0.2210144927536232, total=  30.5s\n",
      "[CV] C=2, degree=3, kernel=poly ......................................\n",
      "[CV]  C=2, degree=2, kernel=poly, score=0.17153284671532848, total=  31.4s\n",
      "[CV] C=2, degree=3, kernel=poly ......................................\n",
      "[CV]  C=2, degree=2, kernel=poly, score=0.1801470588235294, total=  29.5s\n",
      "[CV] C=2, degree=3, kernel=poly ......................................\n",
      "[CV]  C=2, degree=2, kernel=poly, score=0.1918819188191882, total=  27.5s\n"
     ]
    },
    {
     "name": "stderr",
     "output_type": "stream",
     "text": [
      "[Parallel(n_jobs=4)]: Done 105 tasks      | elapsed: 17.0min\n"
     ]
    },
    {
     "name": "stdout",
     "output_type": "stream",
     "text": [
      "[CV] C=2, degree=3, kernel=poly ......................................\n",
      "[CV]  C=2, degree=3, kernel=poly, score=0.2210144927536232, total=  26.7s\n",
      "[CV] C=2, degree=3, kernel=poly ......................................\n",
      "[CV]  C=2, degree=3, kernel=poly, score=0.2210144927536232, total=  25.6s\n",
      "[CV] C=2, degree=5, kernel=poly ......................................\n",
      "[CV]  C=2, degree=3, kernel=poly, score=0.17153284671532848, total=  25.0s\n",
      "[CV] C=2, degree=5, kernel=poly ......................................\n",
      "[CV]  C=2, degree=3, kernel=poly, score=0.1801470588235294, total=  23.7s\n",
      "[CV] C=2, degree=5, kernel=poly ......................................\n",
      "[CV]  C=2, degree=3, kernel=poly, score=0.1918819188191882, total=  23.8s\n",
      "[CV] C=2, degree=5, kernel=poly ......................................\n",
      "[CV]  C=2, degree=5, kernel=poly, score=0.2210144927536232, total=  22.6s\n",
      "[CV] C=2, degree=5, kernel=poly ......................................\n",
      "[CV]  C=2, degree=5, kernel=poly, score=0.2210144927536232, total=  22.8s\n",
      "[CV] C=2, degree=11, kernel=poly .....................................\n",
      "[CV]  C=2, degree=5, kernel=poly, score=0.17153284671532848, total=  22.5s\n",
      "[CV] C=2, degree=11, kernel=poly .....................................\n",
      "[CV]  C=2, degree=5, kernel=poly, score=0.1801470588235294, total=  22.6s\n",
      "[CV] C=2, degree=11, kernel=poly .....................................\n",
      "[CV]  C=2, degree=5, kernel=poly, score=0.1918819188191882, total=  22.8s\n",
      "[CV] C=2, degree=11, kernel=poly .....................................\n",
      "[CV]  C=2, degree=11, kernel=poly, score=0.2210144927536232, total=  22.7s\n",
      "[CV] C=2, degree=11, kernel=poly .....................................\n",
      "[CV]  C=2, degree=11, kernel=poly, score=0.2210144927536232, total=  22.0s\n",
      "[CV] C=10, degree=2, kernel=poly .....................................\n",
      "[CV]  C=2, degree=11, kernel=poly, score=0.17153284671532848, total=  21.8s\n",
      "[CV] C=10, degree=2, kernel=poly .....................................\n",
      "[CV]  C=2, degree=11, kernel=poly, score=0.1801470588235294, total=  22.3s\n",
      "[CV] C=10, degree=2, kernel=poly .....................................\n",
      "[CV]  C=2, degree=11, kernel=poly, score=0.1918819188191882, total=  23.1s\n"
     ]
    },
    {
     "name": "stderr",
     "output_type": "stream",
     "text": [
      "[Parallel(n_jobs=4)]: Done 120 tasks      | elapsed: 19.2min\n"
     ]
    },
    {
     "name": "stdout",
     "output_type": "stream",
     "text": [
      "[CV] C=10, degree=2, kernel=poly .....................................\n",
      "[CV]  C=10, degree=2, kernel=poly, score=0.2210144927536232, total=  22.3s\n",
      "[CV] C=10, degree=2, kernel=poly .....................................\n",
      "[CV]  C=10, degree=2, kernel=poly, score=0.2318840579710145, total=  22.6s\n",
      "[CV] C=10, degree=3, kernel=poly .....................................\n",
      "[CV]  C=10, degree=2, kernel=poly, score=0.22992700729927007, total=  22.9s\n",
      "[CV] C=10, degree=3, kernel=poly .....................................\n",
      "[CV]  C=10, degree=2, kernel=poly, score=0.22058823529411764, total=  23.3s\n",
      "[CV] C=10, degree=3, kernel=poly .....................................\n",
      "[CV]  C=10, degree=2, kernel=poly, score=0.1918819188191882, total=  22.8s\n",
      "[CV] C=10, degree=3, kernel=poly .....................................\n",
      "[CV]  C=10, degree=3, kernel=poly, score=0.2210144927536232, total=  23.2s\n",
      "[CV] C=10, degree=3, kernel=poly .....................................\n",
      "[CV]  C=10, degree=3, kernel=poly, score=0.2318840579710145, total=  22.4s\n",
      "[CV] C=10, degree=5, kernel=poly .....................................\n",
      "[CV]  C=10, degree=3, kernel=poly, score=0.22992700729927007, total=  23.0s\n",
      "[CV] C=10, degree=5, kernel=poly .....................................\n",
      "[CV]  C=10, degree=3, kernel=poly, score=0.22058823529411764, total=  22.8s\n",
      "[CV] C=10, degree=5, kernel=poly .....................................\n",
      "[CV]  C=10, degree=3, kernel=poly, score=0.1918819188191882, total=  23.8s\n",
      "[CV] C=10, degree=5, kernel=poly .....................................\n",
      "[CV]  C=10, degree=5, kernel=poly, score=0.2210144927536232, total=  23.1s\n",
      "[CV] C=10, degree=5, kernel=poly .....................................\n",
      "[CV]  C=10, degree=5, kernel=poly, score=0.2318840579710145, total=  22.5s\n",
      "[CV] C=10, degree=11, kernel=poly ....................................\n",
      "[CV]  C=10, degree=5, kernel=poly, score=0.22992700729927007, total=  22.5s\n",
      "[CV] C=10, degree=11, kernel=poly ....................................\n",
      "[CV]  C=10, degree=5, kernel=poly, score=0.22058823529411764, total=  22.7s\n",
      "[CV] C=10, degree=11, kernel=poly ....................................\n",
      "[CV]  C=10, degree=5, kernel=poly, score=0.1918819188191882, total=  23.0s\n",
      "[CV] C=10, degree=11, kernel=poly ....................................\n",
      "[CV]  C=10, degree=11, kernel=poly, score=0.2210144927536232, total=  22.6s\n",
      "[CV] C=10, degree=11, kernel=poly ....................................\n",
      "[CV]  C=10, degree=11, kernel=poly, score=0.2318840579710145, total=  22.7s\n"
     ]
    },
    {
     "name": "stderr",
     "output_type": "stream",
     "text": [
      "[Parallel(n_jobs=4)]: Done 137 tasks      | elapsed: 21.5min\n"
     ]
    },
    {
     "name": "stdout",
     "output_type": "stream",
     "text": [
      "[CV] C=50, degree=2, kernel=poly .....................................\n",
      "[CV]  C=10, degree=11, kernel=poly, score=0.22992700729927007, total=  23.3s\n",
      "[CV] C=50, degree=2, kernel=poly .....................................\n",
      "[CV]  C=10, degree=11, kernel=poly, score=0.22058823529411764, total=  23.3s\n",
      "[CV] C=50, degree=2, kernel=poly .....................................\n",
      "[CV]  C=10, degree=11, kernel=poly, score=0.1918819188191882, total=  23.1s\n",
      "[CV] C=50, degree=2, kernel=poly .....................................\n",
      "[CV]  C=50, degree=2, kernel=poly, score=0.17391304347826086, total=  22.9s\n",
      "[CV] C=50, degree=2, kernel=poly .....................................\n",
      "[CV]  C=50, degree=2, kernel=poly, score=0.17391304347826086, total=  23.7s\n",
      "[CV] C=50, degree=3, kernel=poly .....................................\n",
      "[CV]  C=50, degree=2, kernel=poly, score=0.22992700729927007, total=  23.2s\n",
      "[CV] C=50, degree=3, kernel=poly .....................................\n",
      "[CV]  C=50, degree=2, kernel=poly, score=0.23161764705882354, total=  22.8s\n",
      "[CV] C=50, degree=3, kernel=poly .....................................\n",
      "[CV]  C=50, degree=2, kernel=poly, score=0.1918819188191882, total=  22.6s\n",
      "[CV] C=50, degree=3, kernel=poly .....................................\n",
      "[CV]  C=50, degree=3, kernel=poly, score=0.17391304347826086, total=  23.8s\n",
      "[CV] C=50, degree=3, kernel=poly .....................................\n",
      "[CV]  C=50, degree=3, kernel=poly, score=0.17391304347826086, total=  22.2s\n",
      "[CV] C=50, degree=5, kernel=poly .....................................\n",
      "[CV]  C=50, degree=3, kernel=poly, score=0.22992700729927007, total=  22.1s\n",
      "[CV] C=50, degree=5, kernel=poly .....................................\n",
      "[CV]  C=50, degree=3, kernel=poly, score=0.23161764705882354, total=  22.2s\n",
      "[CV] C=50, degree=5, kernel=poly .....................................\n",
      "[CV]  C=50, degree=3, kernel=poly, score=0.1918819188191882, total=  23.2s\n",
      "[CV] C=50, degree=5, kernel=poly .....................................\n",
      "[CV]  C=50, degree=5, kernel=poly, score=0.17391304347826086, total=  21.9s\n",
      "[CV] C=50, degree=5, kernel=poly .....................................\n",
      "[CV]  C=50, degree=5, kernel=poly, score=0.17391304347826086, total=  21.9s\n",
      "[CV] C=50, degree=11, kernel=poly ....................................\n",
      "[CV]  C=50, degree=5, kernel=poly, score=0.22992700729927007, total=  22.1s\n",
      "[CV] C=50, degree=11, kernel=poly ....................................\n",
      "[CV]  C=50, degree=5, kernel=poly, score=0.1801470588235294, total=  23.5s\n"
     ]
    },
    {
     "name": "stderr",
     "output_type": "stream",
     "text": [
      "[Parallel(n_jobs=4)]: Done 154 tasks      | elapsed: 23.8min\n"
     ]
    },
    {
     "name": "stdout",
     "output_type": "stream",
     "text": [
      "[CV] C=50, degree=11, kernel=poly ....................................\n",
      "[CV]  C=50, degree=5, kernel=poly, score=0.1918819188191882, total=  22.3s\n",
      "[CV] C=50, degree=11, kernel=poly ....................................\n",
      "[CV]  C=50, degree=11, kernel=poly, score=0.17391304347826086, total=  21.9s\n",
      "[CV] C=50, degree=11, kernel=poly ....................................\n",
      "[CV]  C=50, degree=11, kernel=poly, score=0.17391304347826086, total=  22.5s\n",
      "[CV] C=100, degree=2, kernel=poly ....................................\n",
      "[CV]  C=50, degree=11, kernel=poly, score=0.22992700729927007, total=  23.3s\n",
      "[CV] C=100, degree=2, kernel=poly ....................................\n",
      "[CV]  C=50, degree=11, kernel=poly, score=0.1801470588235294, total=  21.8s\n",
      "[CV] C=100, degree=2, kernel=poly ....................................\n",
      "[CV]  C=50, degree=11, kernel=poly, score=0.1918819188191882, total=  22.4s\n",
      "[CV] C=100, degree=2, kernel=poly ....................................\n",
      "[CV]  C=100, degree=2, kernel=poly, score=0.17391304347826086, total=  23.5s\n",
      "[CV] C=100, degree=2, kernel=poly ....................................\n",
      "[CV]  C=100, degree=2, kernel=poly, score=0.17391304347826086, total=  25.4s\n",
      "[CV] C=100, degree=3, kernel=poly ....................................\n",
      "[CV]  C=100, degree=2, kernel=poly, score=0.22992700729927007, total=  23.6s\n",
      "[CV] C=100, degree=3, kernel=poly ....................................\n",
      "[CV]  C=100, degree=2, kernel=poly, score=0.23161764705882354, total=  24.0s\n",
      "[CV] C=100, degree=3, kernel=poly ....................................\n",
      "[CV]  C=100, degree=2, kernel=poly, score=0.1918819188191882, total=  24.6s\n",
      "[CV] C=100, degree=3, kernel=poly ....................................\n",
      "[CV]  C=100, degree=3, kernel=poly, score=0.17391304347826086, total=  24.2s\n",
      "[CV] C=100, degree=3, kernel=poly ....................................\n",
      "[CV]  C=100, degree=3, kernel=poly, score=0.17391304347826086, total=  23.0s\n",
      "[CV] C=100, degree=5, kernel=poly ....................................\n",
      "[CV]  C=100, degree=3, kernel=poly, score=0.22992700729927007, total=  23.2s\n",
      "[CV] C=100, degree=5, kernel=poly ....................................\n",
      "[CV]  C=100, degree=3, kernel=poly, score=0.23161764705882354, total=  23.7s\n",
      "[CV] C=100, degree=5, kernel=poly ....................................\n",
      "[CV]  C=100, degree=3, kernel=poly, score=0.1918819188191882, total=  26.8s\n",
      "[CV] C=100, degree=5, kernel=poly ....................................\n",
      "[CV]  C=100, degree=5, kernel=poly, score=0.17391304347826086, total=  24.0s\n",
      "[CV] C=100, degree=5, kernel=poly ....................................\n",
      "[CV]  C=100, degree=5, kernel=poly, score=0.17391304347826086, total=  22.4s\n",
      "[CV] C=100, degree=11, kernel=poly ...................................\n",
      "[CV]  C=100, degree=5, kernel=poly, score=0.22992700729927007, total=  23.3s\n"
     ]
    },
    {
     "name": "stderr",
     "output_type": "stream",
     "text": [
      "[Parallel(n_jobs=4)]: Done 173 tasks      | elapsed: 26.6min\n"
     ]
    },
    {
     "name": "stdout",
     "output_type": "stream",
     "text": [
      "[CV] C=100, degree=11, kernel=poly ...................................\n",
      "[CV]  C=100, degree=5, kernel=poly, score=0.1801470588235294, total=  24.8s\n",
      "[CV] C=100, degree=11, kernel=poly ...................................\n",
      "[CV]  C=100, degree=5, kernel=poly, score=0.1918819188191882, total=  24.7s\n",
      "[CV] C=100, degree=11, kernel=poly ...................................\n",
      "[CV]  C=100, degree=11, kernel=poly, score=0.17391304347826086, total=  24.4s\n",
      "[CV] C=100, degree=11, kernel=poly ...................................\n",
      "[CV]  C=100, degree=11, kernel=poly, score=0.17391304347826086, total=  25.9s\n",
      "[CV] C=1000, degree=2, kernel=poly ...................................\n",
      "[CV]  C=100, degree=11, kernel=poly, score=0.22992700729927007, total=  27.2s\n",
      "[CV] C=1000, degree=2, kernel=poly ...................................\n",
      "[CV]  C=100, degree=11, kernel=poly, score=0.1801470588235294, total=  23.3s\n",
      "[CV] C=1000, degree=2, kernel=poly ...................................\n",
      "[CV]  C=100, degree=11, kernel=poly, score=0.1918819188191882, total=  23.0s\n",
      "[CV] C=1000, degree=2, kernel=poly ...................................\n",
      "[CV]  C=1000, degree=2, kernel=poly, score=0.2427536231884058, total=  23.8s\n",
      "[CV] C=1000, degree=2, kernel=poly ...................................\n",
      "[CV]  C=1000, degree=2, kernel=poly, score=0.22826086956521738, total=  22.9s\n",
      "[CV] C=1000, degree=3, kernel=poly ...................................\n",
      "[CV]  C=1000, degree=2, kernel=poly, score=0.21532846715328466, total=  23.5s\n",
      "[CV] C=1000, degree=3, kernel=poly ...................................\n",
      "[CV]  C=1000, degree=2, kernel=poly, score=0.23897058823529413, total=  23.5s\n",
      "[CV] C=1000, degree=3, kernel=poly ...................................\n",
      "[CV]  C=1000, degree=2, kernel=poly, score=0.24354243542435425, total=  24.3s\n",
      "[CV] C=1000, degree=3, kernel=poly ...................................\n",
      "[CV]  C=1000, degree=3, kernel=poly, score=0.2318840579710145, total=  24.1s\n",
      "[CV] C=1000, degree=3, kernel=poly ...................................\n",
      "[CV]  C=1000, degree=3, kernel=poly, score=0.2318840579710145, total=  23.2s\n",
      "[CV] C=1000, degree=5, kernel=poly ...................................\n",
      "[CV]  C=1000, degree=3, kernel=poly, score=0.17153284671532848, total=  23.3s\n",
      "[CV] C=1000, degree=5, kernel=poly ...................................\n",
      "[CV]  C=1000, degree=3, kernel=poly, score=0.22058823529411764, total=  24.0s\n",
      "[CV] C=1000, degree=5, kernel=poly ...................................\n",
      "[CV]  C=1000, degree=3, kernel=poly, score=0.1918819188191882, total=  23.0s\n",
      "[CV] C=1000, degree=5, kernel=poly ...................................\n",
      "[CV]  C=1000, degree=5, kernel=poly, score=0.2318840579710145, total=  22.8s\n",
      "[CV] C=1000, degree=5, kernel=poly ...................................\n",
      "[CV]  C=1000, degree=5, kernel=poly, score=0.2318840579710145, total=  22.5s\n"
     ]
    },
    {
     "name": "stderr",
     "output_type": "stream",
     "text": [
      "[Parallel(n_jobs=4)]: Done 192 tasks      | elapsed: 29.5min\n"
     ]
    },
    {
     "name": "stdout",
     "output_type": "stream",
     "text": [
      "[CV] C=1000, degree=11, kernel=poly ..................................\n",
      "[CV]  C=1000, degree=5, kernel=poly, score=0.17153284671532848, total=  24.6s\n",
      "[CV] C=1000, degree=11, kernel=poly ..................................\n",
      "[CV]  C=1000, degree=5, kernel=poly, score=0.22058823529411764, total=  24.1s\n",
      "[CV] C=1000, degree=11, kernel=poly ..................................\n",
      "[CV]  C=1000, degree=5, kernel=poly, score=0.1918819188191882, total=  24.8s\n",
      "[CV] C=1000, degree=11, kernel=poly ..................................\n",
      "[CV]  C=1000, degree=11, kernel=poly, score=0.2318840579710145, total=  25.7s\n",
      "[CV] C=1000, degree=11, kernel=poly ..................................\n",
      "[CV]  C=1000, degree=11, kernel=poly, score=0.2318840579710145, total=  27.2s\n",
      "[CV]  C=1000, degree=11, kernel=poly, score=0.17153284671532848, total=  25.6s\n",
      "[CV]  C=1000, degree=11, kernel=poly, score=0.22058823529411764, total=  21.0s\n",
      "[CV]  C=1000, degree=11, kernel=poly, score=0.1918819188191882, total=  20.3s\n"
     ]
    },
    {
     "name": "stderr",
     "output_type": "stream",
     "text": [
      "[Parallel(n_jobs=4)]: Done 200 out of 200 | elapsed: 30.6min finished\n"
     ]
    }
   ],
   "source": [
    "best_clfs_clip = dict()\n",
    "clfs_clip = dict()\n",
    "for i, params in enumerate([svc_params_linear, svc_params_rbf, svc_params_poly]):\n",
    "    clf = GridSearchCV(SVC(class_weight='balanced'), params, error_score=0, verbose=10, \n",
    "                       cv=5, scoring='accuracy', n_jobs=4)\n",
    "    clf = clf.fit(X_train, y_train)\n",
    "    clfs_clip[params['kernel'][0]] = clf\n",
    "    add_metrics(best_metrics, clf.best_score_, 'clip', params['kernel'][0])\n",
    "    best_clfs_clip[params['kernel'][0]] = clf.best_estimator_"
   ]
  },
  {
   "cell_type": "code",
   "execution_count": 117,
   "metadata": {},
   "outputs": [],
   "source": [
    "pickle.dump(best_metrics, open(\"best_metrics\", \"wb\"))\n",
    "pickle.dump(clfs_clip, open(\"clfs_clip\", \"wb\"))\n",
    "pickle.dump(best_clfs_clip, open(\"best_clfs_clip\", \"wb\"))"
   ]
  },
  {
   "cell_type": "code",
   "execution_count": 116,
   "metadata": {},
   "outputs": [
    {
     "data": {
      "text/html": [
       "<div>\n",
       "<style scoped>\n",
       "    .dataframe tbody tr th:only-of-type {\n",
       "        vertical-align: middle;\n",
       "    }\n",
       "\n",
       "    .dataframe tbody tr th {\n",
       "        vertical-align: top;\n",
       "    }\n",
       "\n",
       "    .dataframe thead th {\n",
       "        text-align: right;\n",
       "    }\n",
       "</style>\n",
       "<table border=\"1\" class=\"dataframe\">\n",
       "  <thead>\n",
       "    <tr style=\"text-align: right;\">\n",
       "      <th></th>\n",
       "      <th>linear</th>\n",
       "      <th>rbf</th>\n",
       "      <th>poly</th>\n",
       "    </tr>\n",
       "  </thead>\n",
       "  <tbody>\n",
       "    <tr>\n",
       "      <th>comment_cv</th>\n",
       "      <td>0.948868</td>\n",
       "      <td>0.954711</td>\n",
       "      <td>0.512783</td>\n",
       "    </tr>\n",
       "    <tr>\n",
       "      <th>clip</th>\n",
       "      <td>0.497443</td>\n",
       "      <td>0.506939</td>\n",
       "      <td>0.233747</td>\n",
       "    </tr>\n",
       "  </tbody>\n",
       "</table>\n",
       "</div>"
      ],
      "text/plain": [
       "              linear       rbf      poly\n",
       "comment_cv  0.948868  0.954711  0.512783\n",
       "clip        0.497443  0.506939  0.233747"
      ]
     },
     "execution_count": 116,
     "metadata": {},
     "output_type": "execute_result"
    }
   ],
   "source": [
    "best_metrics"
   ]
  },
  {
   "cell_type": "code",
   "execution_count": 118,
   "metadata": {},
   "outputs": [
    {
     "data": {
      "text/plain": [
       "0.5008517887563884"
      ]
     },
     "execution_count": 118,
     "metadata": {},
     "output_type": "execute_result"
    }
   ],
   "source": [
    "clf = best_clfs['linear']\n",
    "clf.fit(X_train, y_train)\n",
    "accuracy_score(clf.predict(X_test), y_test)"
   ]
  },
  {
   "cell_type": "code",
   "execution_count": 119,
   "metadata": {},
   "outputs": [
    {
     "data": {
      "text/plain": [
       "0.4889267461669506"
      ]
     },
     "execution_count": 119,
     "metadata": {},
     "output_type": "execute_result"
    }
   ],
   "source": [
    "clf = best_clfs['rbf']\n",
    "clf.fit(X_train, y_train)\n",
    "accuracy_score(clf.predict(X_test), y_test)"
   ]
  },
  {
   "cell_type": "code",
   "execution_count": 120,
   "metadata": {},
   "outputs": [
    {
     "data": {
      "text/plain": [
       "0.2572402044293015"
      ]
     },
     "execution_count": 120,
     "metadata": {},
     "output_type": "execute_result"
    }
   ],
   "source": [
    "clf = best_clfs['poly']\n",
    "clf.fit(X_train, y_train)\n",
    "accuracy_score(clf.predict(X_test), y_test)"
   ]
  },
  {
   "cell_type": "markdown",
   "metadata": {},
   "source": [
    "Качество модели svm с подобранными параметрами на задаче предсказания автора клипа сильно хуже, чем на задаче предсказания спама (при этом все так же rbf имеет лучшую предсказательную способность). С ядром poly модель ошибается почти в 80% случаев, с ядром linear и rbf в половине случаев. Это можно объяснить тем, что то, является ли сообщение спамом или нет, напрямую зависит от его содержания (на котором мы и обучаемся в простом представлении, учитывая только то, какие в него входят слова), а корреляция между автором клипа и содержанием комментария к нему, уже, если и существует, то является косвенной: у одного и того же клипа могут быть хорошие и плохие отзывы. Такое предсказание бы работало, если бы люди в большинстве своем одинаково оценивали клипы, но это не так."
   ]
  },
  {
   "cell_type": "markdown",
   "metadata": {},
   "source": [
    "### 3. (10 баллов) Бонусное задание\n",
    "\n",
    "![](http://blog.adnanmasood.com/wp-content/uploads/2015/06/joke1.png)\n",
    "\n",
    "Покажите этим ребятам силу лингвистов, решив следующую задачу:)"
   ]
  },
  {
   "cell_type": "markdown",
   "metadata": {},
   "source": [
    "**1. (10 баллов)** Классический линейный метод опорных векторов приводит к задаче квадратичного программирования:\n",
    "\n",
    "\\begin{cases}\n",
    "\\dfrac{1}{2}||w||^2 + C \\sum_{i=1}^{l}\\xi_i \\to \\min_{w, \\xi} \\\\\n",
    "y_i \\langle w, x_i \\rangle \\geq 1 - \\xi_i, \\ \\forall i=1\\dots l \\\\\n",
    "\\xi_i\\geq0,  \\ \\forall i=1\\dots l\n",
    "\\end{cases}\n",
    "\n",
    "Какую функцию потерь оптимизирует линейный метод опорных векторов, если задачу свести к безусловной оптимизации регуляризованной функции потерь? Постройте задачу квадратичного программирования аналогичную SVM, но для оптимизации регуляризованной функции потерь вида:\n",
    "\\begin{cases}\n",
    "(M-1)^2, \\ M < 1 \\\\\n",
    "0, M\\geq1\n",
    "\\end{cases}\n",
    "Выпишите двойственную к ней задачу."
   ]
  },
  {
   "cell_type": "markdown",
   "metadata": {},
   "source": [
    "Из последних двух неравенств системы следует, что \n",
    "\\begin{cases}\n",
    "\\xi_i \\geq 1 - y_i \\langle w, x_i \\rangle \\\\\n",
    "\\xi_i \\geq 0\n",
    "\\end{cases}"
   ]
  },
  {
   "cell_type": "markdown",
   "metadata": {},
   "source": [
    "Из чего следует, что\n",
    "$$ \\xi_i \\geq \\max(0, 1 - y_i \\langle w, x_i \\rangle) \\qquad (1) \\\\ $$"
   ]
  },
  {
   "cell_type": "markdown",
   "metadata": {},
   "source": [
    "Задача условной оптимизации состоит в нахождении минимальных значений веса и ошибки при выполнении линейных ограничений. При условии (1) минимальная ошибка равна $$ \\xi_{min} = \\max(0, 1 - y_i \\langle w, x_i \\rangle) \\qquad (2) $$ при фиксированном параметре w_i."
   ]
  },
  {
   "cell_type": "markdown",
   "metadata": {},
   "source": [
    "Подставив (2) в первое неравенство системы получаем задачу безусловной оптимизации:\n",
    "$$ \\dfrac{1}{2}||w||^2_2 + C \\sum_{i=1}^{l}\\max(0, 1 - y_i \\langle w, x_i \\rangle) \\to \\min_{w}, $$\n",
    "где функция потерь кусочно-линейная:\n",
    "$$ L(y_i, \\langle w, x_i \\rangle) = \\max(0, 1 - y_i \\langle w, x_i \\rangle) $$"
   ]
  },
  {
   "cell_type": "markdown",
   "metadata": {},
   "source": [
    "Заменим функцию потерь на функцию вида:\n",
    "$$ L(y_i, \\langle w, x_i \\rangle) = (y_i \\langle w, x_i \\rangle - 1)^2 $$"
   ]
  },
  {
   "cell_type": "markdown",
   "metadata": {},
   "source": [
    "Получаем новую задачу:\n",
    "       \n",
    "\\begin{cases}\n",
    "\\dfrac{1}{2}||w||^2 + C \\sum_{i=1}^{l}\\xi_i \\to \\min_{w, \\xi} \\\\\n",
    "\\xi_i \\geq (y_i \\langle w, x_i \\rangle - 1)^2 \\\\\n",
    "\\xi_i\\geq0,  \\ \\forall i=1\\dots l\n",
    "\\end{cases}"
   ]
  },
  {
   "cell_type": "markdown",
   "metadata": {},
   "source": [
    "Рассмотрим функцию Лагранжа:"
   ]
  },
  {
   "cell_type": "markdown",
   "metadata": {},
   "source": [
    "$$\n",
    "L = \\frac{1}{2}||w||^2 + C \\sum_{i=1}^l\\xi_i + \\sum_{i=1}^{l}\\lambda_i((1 - M_i(w))^2 - \\xi_i) - \\sum_{i=1}^l\\xi_i\\eta_i\n",
    "$$"
   ]
  },
  {
   "cell_type": "markdown",
   "metadata": {},
   "source": [
    "Необходимые условия седловой точки функции Лагранжа в случае hard-margin SVM:"
   ]
  },
  {
   "cell_type": "markdown",
   "metadata": {},
   "source": [
    "1) $$ \\dfrac{\\partial L}{\\partial w} = w - 2 \\sum_{i=1}^{l}\\lambda_i y_i x_i + 2 w\\sum_{i=1}^{l}\\lambda_i y_i^2 x_i^2 = 0, \\ i = 1\\dots l $$"
   ]
  },
  {
   "cell_type": "markdown",
   "metadata": {},
   "source": [
    "$$ w = \\frac{2 \\sum_{i=1}^{l}\\lambda_i y_i x_i}{1 + 2 \\sum_{i=1}^{l}\\lambda_i y_i^2 x_i^2} $$"
   ]
  },
  {
   "cell_type": "markdown",
   "metadata": {},
   "source": [
    "2) $$ \\dfrac{\\partial L}{\\partial \\xi} = 0, \\ \\ \\ \\eta_i + \\lambda_i = C, \\ i = 1\\dots l $$\n"
   ]
  },
  {
   "cell_type": "markdown",
   "metadata": {},
   "source": [
    "Подставим 1) и 2) в функцию Лагранжа и найдем двойственную функцию $ g(\\lambda, \\eta) $:"
   ]
  },
  {
   "cell_type": "markdown",
   "metadata": {},
   "source": [
    "Из 2) следует, что $ C \\sum_{j=1}^l\\xi_i $ сокращается с $ - \\sum_{j=1}^l\\lambda_i\\xi_i - \\sum_{j=1}^l\\eta_i\\xi_i $. Остается:"
   ]
  },
  {
   "cell_type": "markdown",
   "metadata": {},
   "source": [
    "$$ g(\\lambda) = \\frac{2\\sum_{i=1}^l\\sum_{j=1}^l\\lambda_i\\lambda_jy_iy_j\\langle x_i, x_j \\rangle}{1 + 4 \\sum_{i=1}^{l}\\lambda_i y_i^2 x_i^2 + 4 \\sum_{i=1}^l\\sum_{j=1}^l\\lambda_i\\lambda_jy_i^2y_j^2x_i^2x_j^{T2}} + \\sum_{i=1}^l\\lambda_i - \\frac{4\\sum_{i=1}^l\\sum_{j=1}^l\\lambda_i\\lambda_jy_iy_j\\langle x_i, x_j \\rangle}{1 + 2 \\sum_{i=1}^{l}\\lambda_i y_i^2 x_i^2} + \\frac{4\\sum_{i=1}^l\\sum_{j=1}^l\\sum_{k=1}^l\\sum_{m=1}^l\\sum_{p=1}\\lambda_i\\lambda_k\\lambda_py_iy_ky_p^2\\langle x_i, x_j \\rangle \\langle x_k, x_m \\rangle}{1 + 4 \\sum_{i=1}^{l}\\lambda_i y_i^2 x_i^2 + 4 \\sum_{i=1}^l\\sum_{j=1}^l\\lambda_i\\lambda_jy_i^2y_j^2x_i^2x_j^{T2}}$$"
   ]
  },
  {
   "cell_type": "markdown",
   "metadata": {},
   "source": [
    "$$ g(\\lambda) = \\frac{2\\sum_{i=1}^l\\sum_{j=1}^l\\lambda_i\\lambda_jy_iy_j\\langle x_i, x_j \\rangle + 4\\sum_{i=1}^l\\sum_{j=1}^l\\sum_{k=1}^l\\sum_{m=1}^l\\sum_{p=1}\\lambda_i\\lambda_k\\lambda_py_iy_ky_p^2\\langle x_i, x_j \\rangle \\langle x_k, x_m \\rangle}{1 + 4 \\sum_{i=1}^{l}\\lambda_i y_i^2 x_i^2 + 4 \\sum_{i=1}^l\\sum_{j=1}^l\\lambda_i\\lambda_jy_i^2y_j^2x_i^2x_j^{T2}} + \\sum_{i=1}^l\\lambda_i - \\frac{4\\sum_{i=1}^l\\sum_{j=1}^l\\lambda_i\\lambda_jy_iy_j\\langle x_i, x_j \\rangle}{1 + 2 \\sum_{i=1}^{l}\\lambda_i y_i^2 x_i^2} $$"
   ]
  },
  {
   "cell_type": "markdown",
   "metadata": {},
   "source": [
    "## Двойственная задача\n",
    "\n",
    "\n",
    "\\begin{cases}\n",
    "g(\\lambda) = \\frac{2\\sum_{i=1}^l\\sum_{j=1}^l\\lambda_i\\lambda_jy_iy_j\\langle x_i, x_j \\rangle + 4\\sum_{i=1}^l\\sum_{j=1}^l\\sum_{k=1}^l\\sum_{m=1}^l\\sum_{p=1}\\lambda_i\\lambda_k\\lambda_py_iy_ky_p^2\\langle x_i, x_j \\rangle \\langle x_k, x_m \\rangle}{1 + 4 \\sum_{i=1}^{l}\\lambda_i y_i^2 x_i^2 + 4 \\sum_{i=1}^l\\sum_{j=1}^l\\lambda_i\\lambda_jy_i^2y_j^2x_i^2x_j^{T2}} + \\sum_{i=1}^l\\lambda_i - \\frac{4\\sum_{i=1}^l\\sum_{j=1}^l\\lambda_i\\lambda_jy_iy_j\\langle x_i, x_j \\rangle}{1 + 2 \\sum_{i=1}^{l}\\lambda_i y_i^2 x_i^2} \\\\\n",
    "0\\geq \\lambda_i \\geq C, \\ i = 1, \\dots, l \\\\\n",
    "\\sum_{i=1}^l\\lambda_iy_i=0\n",
    "\\end{cases}"
   ]
  },
  {
   "cell_type": "markdown",
   "metadata": {},
   "source": [
    "Рассмотрим функцию Лагранжа, добавив свободный коэффициент $w_0$:"
   ]
  },
  {
   "cell_type": "markdown",
   "metadata": {},
   "source": [
    "$$\n",
    "L = \\frac{1}{2}||w||^2 + C \\sum_{i=1}^l\\xi_i + \\sum_{i=1}^{l}\\lambda_i((1 - y_i(\\langle w,x_i \\rangle + w_0))^2 - \\xi_i) - \\sum_{i=1}^l\\xi_i\\eta_i\n",
    "$$"
   ]
  },
  {
   "cell_type": "markdown",
   "metadata": {},
   "source": [
    "1) $$ \\dfrac{\\partial L}{\\partial w} = w - 2 \\sum_{i=1}^{l}\\lambda_i y_i x_i + 2 w\\sum_{i=1}^{l}\\lambda_i y_i^2 x_i^2 = 0, \\ i = 1\\dots l $$"
   ]
  },
  {
   "cell_type": "markdown",
   "metadata": {},
   "source": [
    "2) $$ \\dfrac{\\partial L}{\\partial w_0} = $$"
   ]
  },
  {
   "cell_type": "markdown",
   "metadata": {},
   "source": [
    "3) $$ \\dfrac{\\partial L}{\\partial \\xi} = 0, \\ \\ \\ \\eta_i + \\lambda_i = C, \\ i = 1\\dots l $$"
   ]
  },
  {
   "cell_type": "code",
   "execution_count": null,
   "metadata": {},
   "outputs": [],
   "source": []
  }
 ],
 "metadata": {
  "kernelspec": {
   "display_name": "Python 3.6",
   "language": "python",
   "name": "python3"
  },
  "language_info": {
   "codemirror_mode": {
    "name": "ipython",
    "version": 3
   },
   "file_extension": ".py",
   "mimetype": "text/x-python",
   "name": "python",
   "nbconvert_exporter": "python",
   "pygments_lexer": "ipython3",
   "version": "3.6.3"
  }
 },
 "nbformat": 4,
 "nbformat_minor": 2
}
