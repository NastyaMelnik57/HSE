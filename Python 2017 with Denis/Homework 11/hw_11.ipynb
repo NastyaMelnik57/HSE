{
 "cells": [
  {
   "cell_type": "markdown",
   "metadata": {},
   "source": [
    "# Assignment 11  \n",
    "Implement Hidden Markov Model with supervised training and Viterbi algorithm for finding the most probable sequence of hidden states. Use [Laplace smoothing](https://en.wikipedia.org/wiki/Additive_smoothing) for estimation of probabilities. Apply the developed model to the problems:\n",
    "* part of speech tagging\n",
    "* spelling correction"
   ]
  },
  {
   "cell_type": "code",
   "execution_count": 134,
   "metadata": {},
   "outputs": [],
   "source": [
    "import numpy as np\n",
    "from scipy import sparse\n",
    "from scipy.sparse import csr_matrix\n",
    "from scipy.sparse import lil_matrix\n",
    "from tqdm import tqdm\n",
    "from IPython.display import Image\n",
    "from collections import defaultdict"
   ]
  },
  {
   "cell_type": "markdown",
   "metadata": {},
   "source": [
    "HMM model for 3-grams:\n",
    "\n",
    "$P(x_1, .., x_T, y_1, .., y_T, y_{T+1}) = \\prod_{t=1}^{T+1} q(y_t | y_{t-2}, y_{t-1}) \\prod_{t=1}^T e(x_t | y_t)$\n",
    "\n",
    "$x_1, .., x_T$ - sequence of observed states of length T  \n",
    "$y_1, .., y_T$ - sequence of hidden states of length T  \n",
    "$q(i | u, v) = \\frac {count(u, v, i)} {count(u, v)} $ - transition probability   \n",
    "$e(x_k | i) = \\frac {count(i, x_k)} {count(i)}$ - emission probability  \n",
    "$A_{i,j} = A_{(u,v), j} = q(i | u, v)$ - transition matrix  \n",
    "$B_{j,k} = e(x_k | j)$ - emission matrix  \n",
    "\n",
    "We assume, that $y_{T+1} = TERM$, and $y_0 = y_{-1} = START$"
   ]
  },
  {
   "cell_type": "code",
   "execution_count": 210,
   "metadata": {},
   "outputs": [
    {
     "name": "stdout",
     "output_type": "stream",
     "text": [
      "8\n",
      "8\n"
     ]
    }
   ],
   "source": [
    "y = [[1,2,3], [4,5,6]]\n",
    "a = list(set(word for sent in y for word in sent)) + ['start', 'term']\n",
    "print(len(a))\n",
    "b = {j:i for i,j in enumerate(a)}\n",
    "print(len(b))"
   ]
  },
  {
   "cell_type": "code",
   "execution_count": 211,
   "metadata": {},
   "outputs": [],
   "source": [
    "class HMM:\n",
    "    START = '*'\n",
    "    TERM = '$$'\n",
    "    REST = '$REST$' # to deal with observed states who have never appeared in train dataset.\n",
    "        \n",
    "    def cond_idx(self, u, v):\n",
    "        return u + v*self.h_dim\n",
    "        \n",
    "    def fit(self, X, y):\n",
    "        \"\"\"\n",
    "        X - list of lists, observed states\n",
    "        y - list of lists, hidden states\n",
    "        estimate elements of A, B matrices from train sequence. \n",
    "        \"\"\"\n",
    "        \n",
    "        self.hidden_idx2state = list(set(word for sent in y for word in sent)) + [self.START, self.TERM]\n",
    "        print(self.hidden_idx2state)\n",
    "        self.hidden_states = {j:i for i,j in enumerate(self.hidden_idx2state)}\n",
    "        print(len(self.hidden_states))\n",
    "        self.h_dim = len(self.hidden_idx2state)\n",
    "        \n",
    "        self.observed_idx2state = list(set(word for sent in X for word in sent)) + [self.REST]\n",
    "        self.observed_states = {j:i for i,j in enumerate(self.observed_idx2state)}\n",
    "        self.o_dim = len(self.observed_idx2state)\n",
    "\n",
    "        # lil matrix используется, когда матрица заполняется поэлементно из изначально нулевой матрицы, \n",
    "        # таким образом изменяется разреженность\n",
    "\n",
    "        \"\"\"\n",
    "        B -  emission matrix\n",
    "        B_ij = (# of transitions from state j to observation i)\n",
    "        \"\"\"\n",
    "        self.B = lil_matrix((self.h_dim, self.o_dim))\n",
    "        for j, y_sent in enumerate(y):\n",
    "            for i, y_pos in enumerate(y_sent):\n",
    "                index_1 = self.hidden_states[y_pos]\n",
    "                index_2 = self.observed_states[X[j][i]]\n",
    "                self.B[index_1, index_2] += 1\n",
    "\n",
    "        self.B_rowsum = np.ravel(self.B.sum(axis=1))\n",
    "        \n",
    "        \"\"\"\n",
    "        A - transmition matrix\n",
    "        A_ij = (# transitions from state q to state s)\n",
    "        \"\"\"\n",
    "        self.A = lil_matrix((self.h_dim ** 2, self.h_dim)).todense()\n",
    "        y_padded = [[self.START, self.START]+sent+[self.TERM] for sent in y]\n",
    "        for sent in y_padded:\n",
    "            for i in range(2, len(sent)):\n",
    "                index_1 = HMM.cond_idx(self, u=self.hidden_states[sent[i-1]], v=self.hidden_states[sent[i-2]])\n",
    "                index_2 = self.hidden_states[sent[i]]\n",
    "                self.A[index_1, index_2] += 1\n",
    "        \n",
    "        self.A_rowsum = np.ravel(self.A.sum(axis=1))\n",
    "        \n",
    "        return self\n",
    "    \n",
    "    # Сглаживание Лапласа нужно, чтобы исключить случаи, \n",
    "    # когда какое-то количество перехода равно нулю и дробь не определена или равна нулю\n",
    "    \n",
    "    def tr_prob(self, i, j):\n",
    "        \"\"\"\n",
    "        A_ij = q(j | i) = q(j| u, v) with Laplace smoothing\n",
    "        i - previous, j - next\n",
    "        \"\"\"\n",
    "        result = (self.A[i, j] + 1) / (self.A_rowsum[i] + self.h_dim)\n",
    "\n",
    "        return result\n",
    "    \n",
    "    def em_prob(self, i, j):\n",
    "        \"\"\"\n",
    "        B_ij = e(x_j| i) with Laplace smoothing\n",
    "        i - hidden, j - observed\n",
    "        \"\"\"\n",
    "        result = (self.B[i, j] + 1) / (self.B_rowsum[i] + self.o_dim)\n",
    "        \n",
    "        return result\n",
    "        \n",
    "    def o_state(self, x):\n",
    "        \"\"\"\n",
    "        return index of observed state\n",
    "        \"\"\"\n",
    "        return self.observed_states.get(x, self.observed_states[self.REST])\n",
    "    \n",
    "    \n",
    "    def predict(self, X):\n",
    "        \"\"\"\n",
    "        Predict the most probable sequence of hidden states for every sequence of observed states\n",
    "        X - list of lists\n",
    "        \"\"\"\n",
    "        y_pred = [self._viterbi(seq) for seq in tqdm(X)]\n",
    "        return y_pred \n",
    "            \n",
    "    def _viterbi(self, X):\n",
    "        \"\"\"\n",
    "        X - list of observables\n",
    "        product of probabilities usually is not numerically stable\n",
    "        remember, that log(ab) = log(a) + log(b) and argmax[log(f(x))] = argmax[f(x)]\n",
    "        \n",
    "        \"\"\"\n",
    "        X = X + [self.TERM]\n",
    "        T = len(X)\n",
    "        \n",
    "        # pi[t, u, v] - max probability for any state sequence ending with x_t = v and x_{t-1} = u.\n",
    "        pi = np.zeros((T + 1, self.h_dim, self.h_dim))\n",
    "        # backpointers, bp[t, u, v] = argmax probability for any state sequence ending with x_t = v and x_{t-1} = u.\n",
    "        bp = np.zeros((T + 1, self.h_dim, self.h_dim), dtype=np.int)\n",
    "        \n",
    "        ###################\n",
    "        # fill tables pi and bp\n",
    "        # pi[t, u, v] = max_{w} [ pi[t-1, w, u] * q(v| w, u) * e(x_k| v) ]\n",
    "        # bp[t, u, v] = argmax_{w} [ pi[t-1, w, u] * q(v| w, u) * e(x_k| v) ]\n",
    "        \n",
    "        x0 = self.o_state(X[0])\n",
    "        for v in range(self.h_dim):\n",
    "            log_b_smoothed = self.em_prob(v, x0)\n",
    "            log_a_smoothed = self.tr_prob(v, self.h_states[self.START], self.h_states[self.START])\n",
    "            pi[0, 0, 0] = log_a_smoothed * log_b_smoothed\n",
    "        \n",
    "        for k in range(1, T + 1):\n",
    "            xk = self.o_state(X[k-1])\n",
    "            print('xk = ' + str(xk))\n",
    "            for v in range(self.h_dim):\n",
    "                print('v = ' + str(v))\n",
    "                log_b_smoothed = self.em_prob(v, xk)\n",
    "                print(log_b_smoothed)\n",
    "                for u in range(self.h_dim): \n",
    "                    print('u = ' + str(u))\n",
    "                    r = np.zeros(self.h_dim)\n",
    "                    for w in range(self.h_dim):\n",
    "                        print('w = ' + str(w))\n",
    "                        print('index = ' + str(self.cond_idx(w, u)))\n",
    "                        log_a_smoothed = self.tr_prob(self.cond_idx(w, u), v)\n",
    "                        print(log_a_smoothed)\n",
    "                        r[w] = pi[k-1, w, u] * log_a_smoothed * log_b_smoothed\n",
    "                        print('r[w] = ' + str(r[w]))\n",
    "                    bp[k, u, v] = np.argmax(r)\n",
    "                    pi[k, u, v] = np.max(r)\n",
    "        ###################\n",
    "                    \n",
    "        term_idx = self.hidden_states[self.TERM]\n",
    "        \n",
    "        ###################\n",
    "        # r(u,v) = pi[T, u, v] * q(TERM | u, v)\n",
    "        # find argmax_{u, v} r(u, v)\n",
    "        r = np.zeros((self.h_dim, self.h_dim))\n",
    "        for v in range(self.h_dim):\n",
    "            for u in range(self.h_dim):\n",
    "                r[u, v] = pi[T, u, v] * self.A[self.cond_idx(u, v), self.hidden_states[self.TERM]]\n",
    "        print(r)\n",
    "        u, v = np.argmax(r)\n",
    "        ###################\n",
    "\n",
    "        h_states = [v, u]\n",
    "        ###################\n",
    "        # rollback backpointers\n",
    "        # y_{t-2} = bp[t, y_{t-1}, y_t]\n",
    "        # h_states is a reversed sequence of hidden states\n",
    "        h_states = h_states + [bp[t-2, h_states[t-1], h_states[t-2]] for t in range(2, len(X))]\n",
    "            \n",
    "        ###################        \n",
    "            \n",
    "        return [self.hidden_idx2state[i] for i in reversed(h_states[:T])]"
   ]
  },
  {
   "cell_type": "code",
   "execution_count": 212,
   "metadata": {},
   "outputs": [
    {
     "name": "stdout",
     "output_type": "stream",
     "text": [
      "['VBP', '#', 'VBZ', 'RBS', ',', 'WDT', 'RB', '.', 'TO', 'NNS', 'NN', 'EX', 'IN', 'SYM', 'PDT', 'POS', 'DT', 'RBR', '``', 'WP', \"''\", 'VBG', '-LRB-', 'PRP$', 'WP$', 'VBN', 'UH', 'WRB', '-NONE-', 'NNPS', ':', 'NNP', '-RRB-', 'LS', 'FW', 'JJR', 'VB', 'MD', 'CC', 'PRP', 'RP', 'JJ', '$', 'VBD', 'CD', 'JJS', '*', '$']\n",
      "47\n"
     ]
    },
    {
     "data": {
      "text/plain": [
       "<__main__.HMM at 0x10c15c4a8>"
      ]
     },
     "execution_count": 212,
     "metadata": {},
     "output_type": "execute_result"
    }
   ],
   "source": [
    "hh = HMM()\n",
    "hh.fit(X_train, y_train)"
   ]
  },
  {
   "cell_type": "code",
   "execution_count": 202,
   "metadata": {},
   "outputs": [
    {
     "name": "stdout",
     "output_type": "stream",
     "text": [
      "xk = 8256\n",
      "v = 0\n",
      "8.386447500838645e-05\n",
      "u = 0\n",
      "w = 0\n",
      "index = 0\n",
      "8.386447500838645e-05\n",
      "r[w] = 0.0\n",
      "w = 1\n",
      "index = 1\n",
      "9.26526452330214e-05\n",
      "r[w] = 0.0\n",
      "w = 2\n",
      "index = 2\n",
      "7.970032677133976e-05\n",
      "r[w] = 0.0\n",
      "w = 3\n",
      "index = 3\n",
      "9.25154963456379e-05\n",
      "r[w] = 0.0\n",
      "w = 4\n",
      "index = 4\n",
      "6.868131868131868e-05\n",
      "r[w] = 0.0\n",
      "w = 5\n",
      "index = 5\n",
      "9.004952723998198e-05\n",
      "r[w] = 0.0\n",
      "w = 6\n",
      "index = 6\n",
      "7.65872711955273e-05\n",
      "r[w] = 0.0\n",
      "w = 7\n",
      "index = 7\n",
      "7.265857734505559e-05\n",
      "r[w] = 0.0\n",
      "w = 8\n",
      "index = 8\n",
      "8.038585209003216e-05\n",
      "r[w] = 0.0\n",
      "w = 9\n",
      "index = 9\n",
      "6.453694740238787e-05\n",
      "r[w] = 0.0\n",
      "w = 10\n",
      "index = 10\n",
      "0.0002908949869097256\n",
      "r[w] = 0.0\n",
      "w = 11\n",
      "index = 11\n",
      "9.210647508519849e-05\n",
      "r[w] = 0.0\n",
      "w = 12\n",
      "index = 12\n",
      "5.452860025083156e-05\n",
      "r[w] = 0.0\n",
      "w = 13\n",
      "index = 13\n",
      "9.275577404693442e-05\n",
      "r[w] = 0.0\n",
      "w = 14\n",
      "index = 14\n",
      "9.258401999814833e-05\n",
      "r[w] = 0.0\n",
      "w = 15\n",
      "index = 15\n",
      "8.78966335589347e-05\n",
      "r[w] = 0.0\n",
      "w = 16\n",
      "index = 16\n",
      "5.84316933504733e-05\n",
      "r[w] = 0.0\n",
      "w = 17\n",
      "index = 17\n",
      "9.175995595522114e-05\n",
      "r[w] = 0.0\n",
      "w = 18\n",
      "index = 18\n",
      "8.774238834781083e-05\n",
      "r[w] = 0.0\n",
      "w = 19\n",
      "index = 19\n",
      "9.095043201455206e-05\n",
      "r[w] = 0.0\n",
      "w = 20\n",
      "index = 20\n",
      "8.785802143735723e-05\n",
      "r[w] = 0.0\n",
      "w = 21\n",
      "index = 21\n",
      "8.379420144126027e-05\n",
      "r[w] = 0.0\n",
      "w = 22\n",
      "index = 22\n",
      "9.201324990798675e-05\n",
      "r[w] = 0.0\n",
      "w = 23\n",
      "index = 23\n",
      "8.761938140716727e-05\n",
      "r[w] = 0.0\n",
      "w = 24\n",
      "index = 24\n",
      "9.267840593141798e-05\n",
      "r[w] = 0.0\n",
      "w = 25\n",
      "index = 25\n",
      "8.069722401549386e-05\n",
      "r[w] = 0.0\n",
      "w = 26\n",
      "index = 26\n",
      "9.273856997125104e-05\n",
      "r[w] = 0.0\n",
      "w = 27\n",
      "index = 27\n",
      "9.150805270863836e-05\n",
      "r[w] = 0.0\n",
      "w = 28\n",
      "index = 28\n",
      "6.30159430335875e-05\n",
      "r[w] = 0.0\n",
      "w = 29\n",
      "index = 29\n",
      "9.136592051164915e-05\n",
      "r[w] = 0.0\n",
      "w = 30\n",
      "index = 30\n",
      "8.87941751021133e-05\n",
      "r[w] = 0.0\n",
      "w = 31\n",
      "index = 31\n",
      "5.533421868083223e-05\n",
      "r[w] = 0.0\n",
      "w = 32\n",
      "index = 32\n",
      "9.196247930844215e-05\n",
      "r[w] = 0.0\n",
      "w = 33\n",
      "index = 33\n",
      "9.26526452330214e-05\n",
      "r[w] = 0.0\n",
      "w = 34\n",
      "index = 34\n",
      "9.27299703264095e-05\n",
      "r[w] = 0.0\n",
      "w = 35\n",
      "index = 35\n",
      "9.035872413481521e-05\n",
      "r[w] = 0.0\n",
      "w = 36\n",
      "index = 36\n",
      "7.822277847309137e-05\n",
      "r[w] = 0.0\n",
      "w = 37\n",
      "index = 37\n",
      "8.709284096847239e-05\n",
      "r[w] = 0.0\n",
      "w = 38\n",
      "index = 38\n",
      "7.973210014351777e-05\n",
      "r[w] = 0.0\n",
      "w = 39\n",
      "index = 39\n",
      "8.162598971512529e-05\n",
      "r[w] = 0.0\n",
      "w = 40\n",
      "index = 40\n",
      "9.123255177447313e-05\n",
      "r[w] = 0.0\n",
      "w = 41\n",
      "index = 41\n",
      "6.522731720044354e-05\n",
      "r[w] = 0.0\n",
      "w = 42\n",
      "index = 42\n",
      "9.276437847866419e-05\n",
      "r[w] = 0.0\n",
      "w = 43\n",
      "index = 43\n",
      "7.740537193281214e-05\n",
      "r[w] = 0.0\n",
      "w = 44\n",
      "index = 44\n",
      "7.623113279463333e-05\n",
      "r[w] = 0.0\n",
      "w = 45\n",
      "index = 45\n",
      "9.157509157509158e-05\n",
      "r[w] = 0.0\n",
      "w = 46\n",
      "index = 46\n",
      "9.276437847866419e-05\n",
      "r[w] = 0.0\n",
      "w = 47\n",
      "index = 47\n",
      "8.889679082585119e-05\n",
      "r[w] = 0.0\n",
      "u = 1\n",
      "w = 0\n",
      "index = 48\n"
     ]
    },
    {
     "ename": "IndexError",
     "evalue": "row index (48) out of bounds",
     "output_type": "error",
     "traceback": [
      "\u001b[0;31m---------------------------------------------------------------------------\u001b[0m",
      "\u001b[0;31mIndexError\u001b[0m                                Traceback (most recent call last)",
      "\u001b[0;32m<ipython-input-202-73a6911fb0c3>\u001b[0m in \u001b[0;36m<module>\u001b[0;34m()\u001b[0m\n\u001b[0;32m----> 1\u001b[0;31m \u001b[0mhh\u001b[0m\u001b[0;34m.\u001b[0m\u001b[0m_viterbi\u001b[0m\u001b[0;34m(\u001b[0m\u001b[0;34m[\u001b[0m\u001b[0;34m'61'\u001b[0m\u001b[0;34m,\u001b[0m \u001b[0;34m'years'\u001b[0m\u001b[0;34m,\u001b[0m \u001b[0;34m'old'\u001b[0m\u001b[0;34m]\u001b[0m\u001b[0;34m)\u001b[0m\u001b[0;34m\u001b[0m\u001b[0m\n\u001b[0m",
      "\u001b[0;32m<ipython-input-200-3ae012fba745>\u001b[0m in \u001b[0;36m_viterbi\u001b[0;34m(self, X)\u001b[0m\n\u001b[1;32m    123\u001b[0m                         \u001b[0mprint\u001b[0m\u001b[0;34m(\u001b[0m\u001b[0;34m'w = '\u001b[0m \u001b[0;34m+\u001b[0m \u001b[0mstr\u001b[0m\u001b[0;34m(\u001b[0m\u001b[0mw\u001b[0m\u001b[0;34m)\u001b[0m\u001b[0;34m)\u001b[0m\u001b[0;34m\u001b[0m\u001b[0m\n\u001b[1;32m    124\u001b[0m                         \u001b[0mprint\u001b[0m\u001b[0;34m(\u001b[0m\u001b[0;34m'index = '\u001b[0m \u001b[0;34m+\u001b[0m \u001b[0mstr\u001b[0m\u001b[0;34m(\u001b[0m\u001b[0mself\u001b[0m\u001b[0;34m.\u001b[0m\u001b[0mcond_idx\u001b[0m\u001b[0;34m(\u001b[0m\u001b[0mw\u001b[0m\u001b[0;34m,\u001b[0m \u001b[0mu\u001b[0m\u001b[0;34m)\u001b[0m\u001b[0;34m)\u001b[0m\u001b[0;34m)\u001b[0m\u001b[0;34m\u001b[0m\u001b[0m\n\u001b[0;32m--> 125\u001b[0;31m                         \u001b[0mlog_a_smoothed\u001b[0m \u001b[0;34m=\u001b[0m \u001b[0mself\u001b[0m\u001b[0;34m.\u001b[0m\u001b[0mem_prob\u001b[0m\u001b[0;34m(\u001b[0m\u001b[0mself\u001b[0m\u001b[0;34m.\u001b[0m\u001b[0mcond_idx\u001b[0m\u001b[0;34m(\u001b[0m\u001b[0mw\u001b[0m\u001b[0;34m,\u001b[0m \u001b[0mu\u001b[0m\u001b[0;34m)\u001b[0m\u001b[0;34m,\u001b[0m \u001b[0mv\u001b[0m\u001b[0;34m)\u001b[0m\u001b[0;34m\u001b[0m\u001b[0m\n\u001b[0m\u001b[1;32m    126\u001b[0m                         \u001b[0mprint\u001b[0m\u001b[0;34m(\u001b[0m\u001b[0mlog_a_smoothed\u001b[0m\u001b[0;34m)\u001b[0m\u001b[0;34m\u001b[0m\u001b[0m\n\u001b[1;32m    127\u001b[0m                         \u001b[0mr\u001b[0m\u001b[0;34m[\u001b[0m\u001b[0mw\u001b[0m\u001b[0;34m]\u001b[0m \u001b[0;34m=\u001b[0m \u001b[0mpi\u001b[0m\u001b[0;34m[\u001b[0m\u001b[0mk\u001b[0m\u001b[0;34m-\u001b[0m\u001b[0;36m1\u001b[0m\u001b[0;34m,\u001b[0m \u001b[0mw\u001b[0m\u001b[0;34m,\u001b[0m \u001b[0mu\u001b[0m\u001b[0;34m]\u001b[0m \u001b[0;34m*\u001b[0m \u001b[0mlog_a_smoothed\u001b[0m \u001b[0;34m*\u001b[0m \u001b[0mlog_b_smoothed\u001b[0m\u001b[0;34m\u001b[0m\u001b[0m\n",
      "\u001b[0;32m<ipython-input-200-3ae012fba745>\u001b[0m in \u001b[0;36mem_prob\u001b[0;34m(self, i, j)\u001b[0m\n\u001b[1;32m     71\u001b[0m         \u001b[0mi\u001b[0m \u001b[0;34m-\u001b[0m \u001b[0mhidden\u001b[0m\u001b[0;34m,\u001b[0m \u001b[0mj\u001b[0m \u001b[0;34m-\u001b[0m \u001b[0mobserved\u001b[0m\u001b[0;34m\u001b[0m\u001b[0m\n\u001b[1;32m     72\u001b[0m         \"\"\"\n\u001b[0;32m---> 73\u001b[0;31m         \u001b[0mresult\u001b[0m \u001b[0;34m=\u001b[0m \u001b[0;34m(\u001b[0m\u001b[0mself\u001b[0m\u001b[0;34m.\u001b[0m\u001b[0mB\u001b[0m\u001b[0;34m[\u001b[0m\u001b[0mi\u001b[0m\u001b[0;34m,\u001b[0m \u001b[0mj\u001b[0m\u001b[0;34m]\u001b[0m \u001b[0;34m+\u001b[0m \u001b[0;36m1\u001b[0m\u001b[0;34m)\u001b[0m \u001b[0;34m/\u001b[0m \u001b[0;34m(\u001b[0m\u001b[0mself\u001b[0m\u001b[0;34m.\u001b[0m\u001b[0mB_rowsum\u001b[0m\u001b[0;34m[\u001b[0m\u001b[0mi\u001b[0m\u001b[0;34m]\u001b[0m \u001b[0;34m+\u001b[0m \u001b[0mself\u001b[0m\u001b[0;34m.\u001b[0m\u001b[0mo_dim\u001b[0m\u001b[0;34m)\u001b[0m\u001b[0;34m\u001b[0m\u001b[0m\n\u001b[0m\u001b[1;32m     74\u001b[0m \u001b[0;34m\u001b[0m\u001b[0m\n\u001b[1;32m     75\u001b[0m         \u001b[0;32mreturn\u001b[0m \u001b[0mresult\u001b[0m\u001b[0;34m\u001b[0m\u001b[0m\n",
      "\u001b[0;32m/Library/Frameworks/Python.framework/Versions/3.6/lib/python3.6/site-packages/scipy/sparse/lil.py\u001b[0m in \u001b[0;36m__getitem__\u001b[0;34m(self, index)\u001b[0m\n\u001b[1;32m    254\u001b[0m                 v = _csparsetools.lil_get1(self.shape[0], self.shape[1],\n\u001b[1;32m    255\u001b[0m                                            \u001b[0mself\u001b[0m\u001b[0;34m.\u001b[0m\u001b[0mrows\u001b[0m\u001b[0;34m,\u001b[0m \u001b[0mself\u001b[0m\u001b[0;34m.\u001b[0m\u001b[0mdata\u001b[0m\u001b[0;34m,\u001b[0m\u001b[0;34m\u001b[0m\u001b[0m\n\u001b[0;32m--> 256\u001b[0;31m                                            i, j)\n\u001b[0m\u001b[1;32m    257\u001b[0m                 \u001b[0;32mreturn\u001b[0m \u001b[0mself\u001b[0m\u001b[0;34m.\u001b[0m\u001b[0mdtype\u001b[0m\u001b[0;34m.\u001b[0m\u001b[0mtype\u001b[0m\u001b[0;34m(\u001b[0m\u001b[0mv\u001b[0m\u001b[0;34m)\u001b[0m\u001b[0;34m\u001b[0m\u001b[0m\n\u001b[1;32m    258\u001b[0m \u001b[0;34m\u001b[0m\u001b[0m\n",
      "\u001b[0;32m_csparsetools.pyx\u001b[0m in \u001b[0;36mscipy.sparse._csparsetools.lil_get1\u001b[0;34m()\u001b[0m\n",
      "\u001b[0;32m_csparsetools.pyx\u001b[0m in \u001b[0;36mscipy.sparse._csparsetools.lil_get1\u001b[0;34m()\u001b[0m\n",
      "\u001b[0;31mIndexError\u001b[0m: row index (48) out of bounds"
     ]
    }
   ],
   "source": [
    "hh._viterbi(['61', 'years', 'old'])"
   ]
  },
  {
   "cell_type": "markdown",
   "metadata": {},
   "source": [
    "## Problem 1. Part of speech tagging\n",
    "\n",
    "Build Part-of-Speech tagging model using HMM. Estimate accuracy on test dataset."
   ]
  },
  {
   "cell_type": "code",
   "execution_count": 1,
   "metadata": {},
   "outputs": [
    {
     "name": "stdout",
     "output_type": "stream",
     "text": [
      "[nltk_data] Error loading treebank: <urlopen error [SSL:\n",
      "[nltk_data]     CERTIFICATE_VERIFY_FAILED] certificate verify failed\n",
      "[nltk_data]     (_ssl.c:777)>\n"
     ]
    }
   ],
   "source": [
    "import nltk\n",
    "nltk.download('treebank')\n",
    "from nltk.corpus import treebank\n",
    "from sklearn import metrics"
   ]
  },
  {
   "cell_type": "code",
   "execution_count": 12,
   "metadata": {
    "scrolled": true
   },
   "outputs": [
    {
     "name": "stdout",
     "output_type": "stream",
     "text": [
      "sentence:  Pierre Vinken , 61 years old , will join the board as a nonexecutive director Nov. 29 .\n",
      "tags:  NNP NNP , CD NNS JJ , MD VB DT NN IN DT JJ NN NNP CD .\n"
     ]
    }
   ],
   "source": [
    "data = treebank.tagged_sents()[:3000]\n",
    "test_data = treebank.tagged_sents()[3000:3010]\n",
    "\n",
    "X_train = [[x[0] for x in y] for y in data]\n",
    "y_train = [[x[1] for x in y] for y in data]\n",
    "\n",
    "X_test = [[x[0] for x in y] for y in test_data]\n",
    "y_test = [[x[1] for x in y] for y in test_data]\n",
    "\n",
    "print('sentence: ', \" \".join(X_train[0]))\n",
    "print('tags: ', \" \".join(y_train[0]))"
   ]
  },
  {
   "cell_type": "code",
   "execution_count": 5,
   "metadata": {},
   "outputs": [],
   "source": [
    "def accuracy(y_true, y_pred):       \n",
    "    y_true = np.concatenate(y_true)\n",
    "    y_pred = np.concatenate(y_pred)\n",
    "    \n",
    "    return np.mean(y_true == y_pred)"
   ]
  },
  {
   "cell_type": "code",
   "execution_count": 6,
   "metadata": {
    "scrolled": true
   },
   "outputs": [
    {
     "name": "stderr",
     "output_type": "stream",
     "text": [
      "100%|██████████| 10/10 [01:06<00:00,  6.70s/it]"
     ]
    },
    {
     "name": "stdout",
     "output_type": "stream",
     "text": [
      "0.7488789237668162\n",
      "CPU times: user 1min 7s, sys: 128 ms, total: 1min 7s\n",
      "Wall time: 1min 7s\n"
     ]
    },
    {
     "name": "stderr",
     "output_type": "stream",
     "text": [
      "\n"
     ]
    }
   ],
   "source": [
    "%%time\n",
    "\n",
    "hh = HMM().fit(X_train, y_train)\n",
    "y_pred = hh.predict(X_test)\n",
    "print(accuracy(y_test, y_pred))"
   ]
  },
  {
   "cell_type": "markdown",
   "metadata": {},
   "source": [
    "Your accuracy must be > 0.74"
   ]
  },
  {
   "cell_type": "markdown",
   "metadata": {},
   "source": [
    "## Problem 2. Spelling correction\n",
    "\n",
    "Given data of true_char corrupted\\_char build spelling correction model using HMM.    \n",
    "There are 2 datatsets (spelling10.txt, spelling20.txt) with 10% and 20% corruption probability respectively.  \n",
    "Each dataset contains 30556 words. Use first 28000 for training and the rest for testing. Estimate accuracy on the test subset.  \n"
   ]
  },
  {
   "cell_type": "code",
   "execution_count": 18,
   "metadata": {},
   "outputs": [],
   "source": [
    "# YOUR CODE HERE"
   ]
  },
  {
   "cell_type": "markdown",
   "metadata": {},
   "source": [
    "You should get > 93% accuracy (+3%) on spelling10 dataset"
   ]
  },
  {
   "cell_type": "code",
   "execution_count": 19,
   "metadata": {},
   "outputs": [],
   "source": [
    "# YOUR CODE HERE"
   ]
  },
  {
   "cell_type": "markdown",
   "metadata": {},
   "source": [
    "You should get > 89% accuracy (+9%) on spelling20 dataset"
   ]
  }
 ],
 "metadata": {
  "kernelspec": {
   "display_name": "Python 3.6",
   "language": "python",
   "name": "python3"
  },
  "language_info": {
   "codemirror_mode": {
    "name": "ipython",
    "version": 3
   },
   "file_extension": ".py",
   "mimetype": "text/x-python",
   "name": "python",
   "nbconvert_exporter": "python",
   "pygments_lexer": "ipython3",
   "version": "3.6.3"
  },
  "widgets": {
   "state": {},
   "version": "1.1.2"
  }
 },
 "nbformat": 4,
 "nbformat_minor": 2
}
