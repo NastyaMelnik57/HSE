{
 "cells": [
  {
   "cell_type": "markdown",
   "metadata": {},
   "source": [
    "# Homework: Sentiment analysis\n",
    "\n",
    "Для заданной тестовой выборки построить модель для предсказания тональности твита.  \n",
    "На заданном разбиении (df_train, df_test) ваша модель должна превзойти baseline'ы, приведенные ниже.  \n",
    "\n",
    "Чем больше baseline'ов вы превзойдете, тем выше ваша оценка.  \n",
    "Метрика качества f1 (f1_macro) (чем больше, тем лучше)\n",
    "\n",
    "baseline 0: 0.3319      random  \n",
    "baseline 1: 0.6941      text norm + word embedding + logistic regression\n",
    "baseline 2: 0.6990      tf-idf over words + logistic regression  \n",
    "baseline 3: 0.7418      tf-idf over symbols + logistic regression  \n",
    "\n",
    "Пока мы рассмотрели только линейные модели - поэтому в примерах есть только они. Желательно при решении домашнего задания пользоваться линейными моделями. Таким образом, основные цели задания - feature engineering, hyperparam tuning & model selection.\n",
    "\n",
    "! Your results must be reproducible. Если ваша модель - стохастическая, то вы явно должны задавать все seed и random_state в параметрах моделей  \n",
    "! Вы должны использовать df_test только для измерения качества конечной обученной модели. \n",
    "\n",
    "bonus, think about:\n",
    "1. why we selected f1 with macro averaging as our classification quality measure instead of others? look in docs  \n",
    "2. why word embeddings perform so poorly with linear models?  \n",
    "3. other ideas how to get text2vec from word2vec. look in docs  "
   ]
  },
  {
   "cell_type": "code",
   "execution_count": 1,
   "metadata": {},
   "outputs": [],
   "source": [
    "import pandas as pd\n",
    "import numpy as np\n",
    "from sklearn.model_selection import train_test_split, GridSearchCV\n",
    "from sklearn.preprocessing import LabelEncoder\n",
    "from sklearn import metrics\n",
    "\n",
    "import matplotlib.pyplot as plt\n",
    "import seaborn as sns\n",
    "\n",
    "%matplotlib inline\n",
    "\n",
    "\n",
    "SEED = 1337\n",
    "\n",
    "\n",
    "df = pd.read_csv('Tweets.csv')"
   ]
  },
  {
   "cell_type": "markdown",
   "metadata": {},
   "source": [
    "## Look at the data"
   ]
  },
  {
   "cell_type": "code",
   "execution_count": 2,
   "metadata": {},
   "outputs": [
    {
     "data": {
      "text/html": [
       "<div>\n",
       "<style scoped>\n",
       "    .dataframe tbody tr th:only-of-type {\n",
       "        vertical-align: middle;\n",
       "    }\n",
       "\n",
       "    .dataframe tbody tr th {\n",
       "        vertical-align: top;\n",
       "    }\n",
       "\n",
       "    .dataframe thead th {\n",
       "        text-align: right;\n",
       "    }\n",
       "</style>\n",
       "<table border=\"1\" class=\"dataframe\">\n",
       "  <thead>\n",
       "    <tr style=\"text-align: right;\">\n",
       "      <th></th>\n",
       "      <th>tweet_id</th>\n",
       "      <th>airline_sentiment</th>\n",
       "      <th>airline</th>\n",
       "      <th>retweet_count</th>\n",
       "      <th>text</th>\n",
       "    </tr>\n",
       "  </thead>\n",
       "  <tbody>\n",
       "    <tr>\n",
       "      <th>0</th>\n",
       "      <td>570306133677760513</td>\n",
       "      <td>neutral</td>\n",
       "      <td>Virgin America</td>\n",
       "      <td>0</td>\n",
       "      <td>@VirginAmerica What @dhepburn said.</td>\n",
       "    </tr>\n",
       "    <tr>\n",
       "      <th>1</th>\n",
       "      <td>570301130888122368</td>\n",
       "      <td>positive</td>\n",
       "      <td>Virgin America</td>\n",
       "      <td>0</td>\n",
       "      <td>@VirginAmerica plus you've added commercials t...</td>\n",
       "    </tr>\n",
       "    <tr>\n",
       "      <th>2</th>\n",
       "      <td>570301083672813571</td>\n",
       "      <td>neutral</td>\n",
       "      <td>Virgin America</td>\n",
       "      <td>0</td>\n",
       "      <td>@VirginAmerica I didn't today... Must mean I n...</td>\n",
       "    </tr>\n",
       "    <tr>\n",
       "      <th>3</th>\n",
       "      <td>570301031407624196</td>\n",
       "      <td>negative</td>\n",
       "      <td>Virgin America</td>\n",
       "      <td>0</td>\n",
       "      <td>@VirginAmerica it's really aggressive to blast...</td>\n",
       "    </tr>\n",
       "    <tr>\n",
       "      <th>4</th>\n",
       "      <td>570300817074462722</td>\n",
       "      <td>negative</td>\n",
       "      <td>Virgin America</td>\n",
       "      <td>0</td>\n",
       "      <td>@VirginAmerica and it's a really big bad thing...</td>\n",
       "    </tr>\n",
       "  </tbody>\n",
       "</table>\n",
       "</div>"
      ],
      "text/plain": [
       "             tweet_id airline_sentiment         airline  retweet_count  \\\n",
       "0  570306133677760513           neutral  Virgin America              0   \n",
       "1  570301130888122368          positive  Virgin America              0   \n",
       "2  570301083672813571           neutral  Virgin America              0   \n",
       "3  570301031407624196          negative  Virgin America              0   \n",
       "4  570300817074462722          negative  Virgin America              0   \n",
       "\n",
       "                                                text  \n",
       "0                @VirginAmerica What @dhepburn said.  \n",
       "1  @VirginAmerica plus you've added commercials t...  \n",
       "2  @VirginAmerica I didn't today... Must mean I n...  \n",
       "3  @VirginAmerica it's really aggressive to blast...  \n",
       "4  @VirginAmerica and it's a really big bad thing...  "
      ]
     },
     "execution_count": 2,
     "metadata": {},
     "output_type": "execute_result"
    }
   ],
   "source": [
    "df.head()"
   ]
  },
  {
   "cell_type": "code",
   "execution_count": 3,
   "metadata": {},
   "outputs": [
    {
     "data": {
      "text/plain": [
       "negative    0.626913\n",
       "neutral     0.211680\n",
       "positive    0.161407\n",
       "Name: airline_sentiment, dtype: float64"
      ]
     },
     "execution_count": 3,
     "metadata": {},
     "output_type": "execute_result"
    }
   ],
   "source": [
    "# main reason we have chosen f1 is that class distribution is imbalanced\n",
    "df.airline_sentiment.value_counts(normalize=True)"
   ]
  },
  {
   "cell_type": "code",
   "execution_count": 4,
   "metadata": {},
   "outputs": [
    {
     "data": {
      "image/png": "[encoded data removed]",
      "text/plain": [
       "<matplotlib.figure.Figure at 0x10b348a58>"
      ]
     },
     "metadata": {},
     "output_type": "display_data"
    }
   ],
   "source": [
    "# class distribution over airlines\n",
    "pd.pivot_table(df, index='airline', values='tweet_id', columns='airline_sentiment', aggfunc='count').plot.bar();"
   ]
  },
  {
   "cell_type": "code",
   "execution_count": 5,
   "metadata": {},
   "outputs": [
    {
     "data": {
      "image/png": "[encoded data removed]",
      "text/plain": [
       "<matplotlib.figure.Figure at 0x10abc50f0>"
      ]
     },
     "metadata": {},
     "output_type": "display_data"
    }
   ],
   "source": [
    "# mean retweet count distribution\n",
    "pd.pivot_table(df, index='airline', values='retweet_count', columns='airline_sentiment', aggfunc='mean').plot.bar();"
   ]
  },
  {
   "cell_type": "code",
   "execution_count": 6,
   "metadata": {},
   "outputs": [
    {
     "data": {
      "image/png": "[encoded data removed]",
      "text/plain": [
       "<matplotlib.figure.Figure at 0x10b38d780>"
      ]
     },
     "metadata": {},
     "output_type": "display_data"
    }
   ],
   "source": [
    "# mean text length distribution\n",
    "df['text_len'] = df.text.apply(len)\n",
    "pd.pivot_table(df, index='airline', values='text_len', columns='airline_sentiment', aggfunc='mean').plot.bar();"
   ]
  },
  {
   "cell_type": "markdown",
   "metadata": {},
   "source": [
    "## Baselines"
   ]
  },
  {
   "cell_type": "code",
   "execution_count": 7,
   "metadata": {},
   "outputs": [],
   "source": [
    "def add_metrics(metrics, value, name):\n",
    "    metrics.loc[name, 'f1'] = value\n",
    "best_metrics = pd.DataFrame()"
   ]
  },
  {
   "cell_type": "code",
   "execution_count": 8,
   "metadata": {},
   "outputs": [],
   "source": [
    "# we can notice that negative < neutral < positive\n",
    "# let's encode that appropreately\n",
    "df.loc[df.airline_sentiment == 'negative', 'airline_sentiment'] = 0\n",
    "df.loc[df.airline_sentiment == 'neutral', 'airline_sentiment'] = 1\n",
    "df.loc[df.airline_sentiment == 'positive', 'airline_sentiment'] = 2"
   ]
  },
  {
   "cell_type": "code",
   "execution_count": 9,
   "metadata": {},
   "outputs": [
    {
     "data": {
      "text/html": [
       "<div>\n",
       "<style scoped>\n",
       "    .dataframe tbody tr th:only-of-type {\n",
       "        vertical-align: middle;\n",
       "    }\n",
       "\n",
       "    .dataframe tbody tr th {\n",
       "        vertical-align: top;\n",
       "    }\n",
       "\n",
       "    .dataframe thead th {\n",
       "        text-align: right;\n",
       "    }\n",
       "</style>\n",
       "<table border=\"1\" class=\"dataframe\">\n",
       "  <thead>\n",
       "    <tr style=\"text-align: right;\">\n",
       "      <th></th>\n",
       "      <th>tweet_id</th>\n",
       "      <th>airline_sentiment</th>\n",
       "      <th>airline</th>\n",
       "      <th>retweet_count</th>\n",
       "      <th>text</th>\n",
       "      <th>text_len</th>\n",
       "    </tr>\n",
       "  </thead>\n",
       "  <tbody>\n",
       "    <tr>\n",
       "      <th>0</th>\n",
       "      <td>570306133677760513</td>\n",
       "      <td>1</td>\n",
       "      <td>5</td>\n",
       "      <td>0</td>\n",
       "      <td>@VirginAmerica What @dhepburn said.</td>\n",
       "      <td>35</td>\n",
       "    </tr>\n",
       "    <tr>\n",
       "      <th>1</th>\n",
       "      <td>570301130888122368</td>\n",
       "      <td>2</td>\n",
       "      <td>5</td>\n",
       "      <td>0</td>\n",
       "      <td>@VirginAmerica plus you've added commercials t...</td>\n",
       "      <td>72</td>\n",
       "    </tr>\n",
       "    <tr>\n",
       "      <th>2</th>\n",
       "      <td>570301083672813571</td>\n",
       "      <td>1</td>\n",
       "      <td>5</td>\n",
       "      <td>0</td>\n",
       "      <td>@VirginAmerica I didn't today... Must mean I n...</td>\n",
       "      <td>71</td>\n",
       "    </tr>\n",
       "    <tr>\n",
       "      <th>3</th>\n",
       "      <td>570301031407624196</td>\n",
       "      <td>0</td>\n",
       "      <td>5</td>\n",
       "      <td>0</td>\n",
       "      <td>@VirginAmerica it's really aggressive to blast...</td>\n",
       "      <td>126</td>\n",
       "    </tr>\n",
       "    <tr>\n",
       "      <th>4</th>\n",
       "      <td>570300817074462722</td>\n",
       "      <td>0</td>\n",
       "      <td>5</td>\n",
       "      <td>0</td>\n",
       "      <td>@VirginAmerica and it's a really big bad thing...</td>\n",
       "      <td>55</td>\n",
       "    </tr>\n",
       "  </tbody>\n",
       "</table>\n",
       "</div>"
      ],
      "text/plain": [
       "             tweet_id  airline_sentiment  airline  retweet_count  \\\n",
       "0  570306133677760513                  1        5              0   \n",
       "1  570301130888122368                  2        5              0   \n",
       "2  570301083672813571                  1        5              0   \n",
       "3  570301031407624196                  0        5              0   \n",
       "4  570300817074462722                  0        5              0   \n",
       "\n",
       "                                                text  text_len  \n",
       "0                @VirginAmerica What @dhepburn said.        35  \n",
       "1  @VirginAmerica plus you've added commercials t...        72  \n",
       "2  @VirginAmerica I didn't today... Must mean I n...        71  \n",
       "3  @VirginAmerica it's really aggressive to blast...       126  \n",
       "4  @VirginAmerica and it's a really big bad thing...        55  "
      ]
     },
     "execution_count": 9,
     "metadata": {},
     "output_type": "execute_result"
    }
   ],
   "source": [
    "# encode airline as categorial variable\n",
    "airline_le = LabelEncoder()\n",
    "df['airline'] = airline_le.fit_transform(df.airline)\n",
    "df.head()"
   ]
  },
  {
   "cell_type": "code",
   "execution_count": 10,
   "metadata": {},
   "outputs": [
    {
     "name": "stdout",
     "output_type": "stream",
     "text": [
      "train 10980\n",
      "test 3660\n"
     ]
    }
   ],
   "source": [
    "y = df.airline_sentiment.values\n",
    "df_train, df_test, y_train, y_test = train_test_split(df, y, test_size=0.25, \n",
    "                                                                      stratify=y,\n",
    "                                                                      random_state=SEED, \n",
    "                                                                      shuffle=True)\n",
    "print('train', df_train.shape[0])\n",
    "print('test', df_test.shape[0])"
   ]
  },
  {
   "cell_type": "markdown",
   "metadata": {},
   "source": [
    "#### Baseline 0. Dummy Classifier."
   ]
  },
  {
   "cell_type": "code",
   "execution_count": 11,
   "metadata": {},
   "outputs": [
    {
     "name": "stdout",
     "output_type": "stream",
     "text": [
      "train 0.3365976016519445\n",
      "test 0.33195996490372054\n",
      "CPU times: user 703 ms, sys: 19.1 ms, total: 722 ms\n",
      "Wall time: 726 ms\n"
     ]
    }
   ],
   "source": [
    "%%time\n",
    "# baseline 0\n",
    "# Assigns random class label\n",
    "from sklearn.dummy import DummyClassifier\n",
    "from sklearn.pipeline import Pipeline\n",
    "from sklearn.feature_extraction.text import TfidfVectorizer\n",
    "\n",
    "#DummyClassifier is a classifier that makes predictions using simple rules.\n",
    "#This classifier is useful as a simple baseline to compare with other (real) classifiers.\n",
    "\n",
    "model = Pipeline([\n",
    "    ('tfidf', TfidfVectorizer()),\n",
    "    ('est', DummyClassifier(strategy='stratified', random_state=SEED))\n",
    "])\n",
    "\n",
    "model.fit(df_train.text, y_train)\n",
    "print('train', metrics.f1_score(y_train, model.predict(df_train.text), average='macro'))\n",
    "print('test', metrics.f1_score(y_test, model.predict(df_test.text), average='macro'))"
   ]
  },
  {
   "cell_type": "code",
   "execution_count": 12,
   "metadata": {},
   "outputs": [
    {
     "data": {
      "text/html": [
       "<div>\n",
       "<style scoped>\n",
       "    .dataframe tbody tr th:only-of-type {\n",
       "        vertical-align: middle;\n",
       "    }\n",
       "\n",
       "    .dataframe tbody tr th {\n",
       "        vertical-align: top;\n",
       "    }\n",
       "\n",
       "    .dataframe thead th {\n",
       "        text-align: right;\n",
       "    }\n",
       "</style>\n",
       "<table border=\"1\" class=\"dataframe\">\n",
       "  <thead>\n",
       "    <tr style=\"text-align: right;\">\n",
       "      <th></th>\n",
       "      <th>f1</th>\n",
       "    </tr>\n",
       "  </thead>\n",
       "  <tbody>\n",
       "    <tr>\n",
       "      <th>baseline_0</th>\n",
       "      <td>0.33196</td>\n",
       "    </tr>\n",
       "  </tbody>\n",
       "</table>\n",
       "</div>"
      ],
      "text/plain": [
       "                 f1\n",
       "baseline_0  0.33196"
      ]
     },
     "execution_count": 12,
     "metadata": {},
     "output_type": "execute_result"
    }
   ],
   "source": [
    "add_metrics(best_metrics, metrics.f1_score(y_test, model.predict(df_test.text), average='macro'), 'baseline_0')\n",
    "best_metrics"
   ]
  },
  {
   "cell_type": "code",
   "execution_count": 13,
   "metadata": {},
   "outputs": [],
   "source": [
    "from sklearn.base import TransformerMixin\n",
    "from nltk.stem import SnowballStemmer\n",
    "from nltk.corpus import stopwords\n",
    "import string\n",
    "import re\n",
    "\n",
    "\n",
    "# create wrapper for basic text preprocessing\n",
    "# make lowercase, remove punctuation and make stemming\n",
    "\n",
    "# all transformers (that transform data) must inherit from sklearn.base.TransformerMixin\n",
    "# all classifiers  must inherit from sklearn.base.ClassifierMixin\n",
    "class TextNormalizer(TransformerMixin):\n",
    "    def __init__(self, stop_words=stopwords.words('english'), \n",
    "                 stemmer=SnowballStemmer(\"english\")):\n",
    "        self.stop_words_ = stop_words\n",
    "        self.stemmer_ = stemmer\n",
    "        self.regex_ = re.compile('[%s]' % re.escape(string.punctuation))\n",
    "\n",
    "    # by convention, must return self\n",
    "    def fit(self, X, y):\n",
    "        return self\n",
    "    \n",
    "    def _normalize(self, text):\n",
    "        text = text.lower()\n",
    "        text = self.regex_.sub(' ', text)\n",
    "        text = [self.stemmer_.stem(word) for word in text.split() if word not in self.stop_words_]\n",
    "        return \" \".join(text)\n",
    "\n",
    "    def transform(self, X):\n",
    "        return np.array(list(map(lambda x: self._normalize(x), X)))"
   ]
  },
  {
   "cell_type": "code",
   "execution_count": 14,
   "metadata": {},
   "outputs": [],
   "source": [
    "s = 'This film is awful, but I like it anyway.'\n",
    "tn = TextNormalizer()\n",
    "X = tn.transform(df_train.text)"
   ]
  },
  {
   "cell_type": "code",
   "execution_count": 15,
   "metadata": {},
   "outputs": [
    {
     "data": {
      "text/plain": [
       "array(['americanair serious treat passeng like shit',\n",
       "       'jetblu 1st flight morn fli toddler plane heat comfort temp board start itscold',\n",
       "       'unit think guy half full flight 4 held overbook 3pm flight fill one cancel flightl mine',\n",
       "       'americanair heard back 7 30 today put flight tomorrow arriv home 4 pm mean take 2nd day work',\n",
       "       'southwestair know plane come sw flight 4464 rsw mke'],\n",
       "      dtype='<U131')"
      ]
     },
     "execution_count": 15,
     "metadata": {},
     "output_type": "execute_result"
    }
   ],
   "source": [
    "X[:5]"
   ]
  },
  {
   "cell_type": "code",
   "execution_count": 16,
   "metadata": {},
   "outputs": [],
   "source": [
    "# some wrappers to work with word2vec\n",
    "from gensim.models.word2vec import Word2Vec\n",
    "from sklearn.feature_extraction.text import TfidfVectorizer\n",
    "from collections import defaultdict\n",
    "#from glove import Corpus, Glove\n",
    "\n",
    "\n",
    "# convert words from tweet to vectors and average them over tweet\n",
    "# or use weighted average according to idf\n",
    "class Text2Vec(TransformerMixin):\n",
    "    def __init__(self, vectorizer, use_idf=False):\n",
    "        self.use_idf_ = use_idf\n",
    "        self.w2v = vectorizer\n",
    "        self.size_ = self.w2v.get_size()\n",
    "        self.weights_ = None\n",
    "\n",
    "    def fit(self, X, y=None):\n",
    "        self.w2v.fit(X)\n",
    "        \n",
    "        if self.use_idf_:\n",
    "            tfidf = TfidfVectorizer(analyzer=lambda x: x)\n",
    "            tfidf.fit(X)\n",
    "            # if a word was never seen - it must be at least as infrequent\n",
    "            # as any of the known words - so the default idf is the max of known idf's\n",
    "            max_idf = max(tfidf.idf_)\n",
    "            self.weights_ = defaultdict(lambda: max_idf, [(w, tfidf.idf_[i]) for w, i in tfidf.vocabulary_.items()])\n",
    "\n",
    "        return self\n",
    "\n",
    "    def transform(self, X):\n",
    "        if self.w2v is None:\n",
    "            raise Exception('model not fitted')\n",
    "            \n",
    "        if self.use_idf_:\n",
    "            if self.weights_ is None:\n",
    "                raise Exception('model not fitted')\n",
    "                \n",
    "            result = np.array([np.mean([self.w2v.transform(w) * self.weights_[w] for w in sentence.split() if self.w2v.has(w)]\n",
    "                                       or [np.zeros(self.size_)], axis=0) for sentence in X])\n",
    "        else:\n",
    "            result = np.array([np.mean([self.w2v.transform(w) for w in sentence.split() if self.w2v.has(w)] \n",
    "                                       or [np.zeros(self.size_)], axis=0) for sentence in X])\n",
    "        return result\n",
    "    \n",
    "    \n",
    "class Word2VecWrapper(TransformerMixin):\n",
    "    def __init__(self, window=5,negative=5, size=100, iter=100, is_cbow=False, random_state=SEED):\n",
    "        self.window_ = window\n",
    "        self.negative_ = negative\n",
    "        self.size_ = size\n",
    "        self.iter_ = iter\n",
    "        self.is_cbow_ = is_cbow\n",
    "        self.w2v = None\n",
    "        self.random_state = random_state\n",
    "        \n",
    "    def get_size(self):\n",
    "        return self.size_\n",
    "\n",
    "    def fit(self, X, y=None):\n",
    "        \"\"\"\n",
    "        X: list of strings\n",
    "        \"\"\"\n",
    "        sentences_list = [x.split() for x in X]\n",
    "        self.w2v = Word2Vec(sentences_list, \n",
    "                            window=self.window_,\n",
    "                            negative=self.negative_, \n",
    "                            size=self.size_, \n",
    "                            iter=self.iter_,\n",
    "                            sg=not self.is_cbow_, seed=self.random_state)\n",
    "\n",
    "        return self\n",
    "    \n",
    "    def has(self, word):\n",
    "        return word in self.w2v\n",
    "\n",
    "    def transform(self, X):\n",
    "        \"\"\"\n",
    "        X: a word\n",
    "        \"\"\"\n",
    "        if self.w2v is None:\n",
    "            raise Exception('model not fitted')\n",
    "        return self.w2v[X] if X in self.w2v else np.zeros(self.size_)\n",
    "    \n",
    "\n",
    "class GloveWrapper(TransformerMixin):\n",
    "    def __init__(self, window=5, learning_rate=0.05, size=100, epochs=100, random_state=SEED, verbose=False):\n",
    "        self.window_ = window\n",
    "        self.learning_rate_ = learning_rate\n",
    "        self.size_ = size\n",
    "        self.epochs_ = epochs\n",
    "        self.glove = None\n",
    "        self.random_state = random_state\n",
    "        self.verbose_ = verbose\n",
    "    \n",
    "    def get_size(self):\n",
    "        return self.size_\n",
    "\n",
    "    def fit(self, X, y=None):\n",
    "        \"\"\"\n",
    "        X: list of strings\n",
    "        \"\"\"\n",
    "        sentences_list = [x.split() for x in X]\n",
    "        corpus = Corpus()\n",
    "        corpus.fit(sentences_list, window=self.window_)\n",
    "        self.glove = Glove(no_components=self.size_, \n",
    "                           learning_rate=self.learning_rate_, \n",
    "                           random_state=self.random_state)\n",
    "        self.glove.fit(corpus.matrix, \n",
    "                  epochs=self.epochs_, \n",
    "                  no_threads=4, verbose=self.verbose_)\n",
    "        self.glove.add_dictionary(corpus.dictionary)\n",
    "        return self\n",
    "    \n",
    "    def has(self, word):\n",
    "        return word in self.glove.dictionary\n",
    "\n",
    "    def transform(self, X):\n",
    "        if self.glove is None:\n",
    "            raise Exception('model not fitted')\n",
    "            \n",
    "        return self.glove.word_vectors[self.glove.dictionary[X]] if X in self.glove.dictionary else np.zeros(self.size_)\n",
    "\n",
    "    \n",
    "class WordEmbeddingFabric:\n",
    "    @classmethod\n",
    "    def create(cls, method, size, cbow, n_iter=300):\n",
    "        if method == 'word2vec':\n",
    "            return Word2VecWrapper(window=3, negative=5, size=size, iter=n_iter, is_cbow=cbow)\n",
    "                    \n",
    "        if method == 'glove':\n",
    "            return GloveWrapper(window=3, learning_rate=0.05, size=size, epochs=n_iter, verbose=False)"
   ]
  },
  {
   "cell_type": "code",
   "execution_count": 17,
   "metadata": {},
   "outputs": [
    {
     "name": "stderr",
     "output_type": "stream",
     "text": [
      "/Library/Frameworks/Python.framework/Versions/3.6/lib/python3.6/site-packages/sklearn/metrics/classification.py:1135: UndefinedMetricWarning: F-score is ill-defined and being set to 0.0 in labels with no predicted samples.\n",
      "  'precision', 'predicted', average, warn_for)\n",
      "/Library/Frameworks/Python.framework/Versions/3.6/lib/python3.6/site-packages/sklearn/metrics/classification.py:1135: UndefinedMetricWarning: F-score is ill-defined and being set to 0.0 in labels with no predicted samples.\n",
      "  'precision', 'predicted', average, warn_for)\n",
      "/Library/Frameworks/Python.framework/Versions/3.6/lib/python3.6/site-packages/sklearn/metrics/classification.py:1135: UndefinedMetricWarning: F-score is ill-defined and being set to 0.0 in labels with no predicted samples.\n",
      "  'precision', 'predicted', average, warn_for)\n",
      "/Library/Frameworks/Python.framework/Versions/3.6/lib/python3.6/site-packages/sklearn/metrics/classification.py:1135: UndefinedMetricWarning: F-score is ill-defined and being set to 0.0 in labels with no predicted samples.\n",
      "  'precision', 'predicted', average, warn_for)\n"
     ]
    },
    {
     "name": "stdout",
     "output_type": "stream",
     "text": [
      "train 0.8634104347906314\n",
      "test 0.6990703425659087\n",
      "CPU times: user 2.01 s, sys: 87.8 ms, total: 2.1 s\n",
      "Wall time: 12.3 s\n"
     ]
    }
   ],
   "source": [
    "%%time\n",
    "# baseline 2\n",
    "# simple tf-idf over words + logistic regression\n",
    "\n",
    "from sklearn.pipeline import Pipeline\n",
    "from sklearn.linear_model import LogisticRegressionCV\n",
    "from sklearn.feature_extraction.text import TfidfVectorizer\n",
    "from nltk.corpus import stopwords\n",
    "\n",
    "\n",
    "model = Pipeline([\n",
    "    ('tfidf', TfidfVectorizer(analyzer='word', use_idf=True, smooth_idf=True,\n",
    "                                  lowercase=True, \n",
    "                                  stop_words=stopwords.words('english'),\n",
    "                                  min_df=5,\n",
    "                                  ngram_range=(1,2), norm='l2')),\n",
    "    ('est', LogisticRegressionCV(Cs=10, \n",
    "                                    cv=5, \n",
    "                                    scoring='f1_macro', \n",
    "                                    n_jobs=-1, \n",
    "                                    multi_class='multinomial', random_state=SEED))\n",
    "])\n",
    "\n",
    "model.fit(df_train.text, y_train)\n",
    "print('train', metrics.f1_score(y_train, model.predict(df_train.text), average='macro'))\n",
    "print('test', metrics.f1_score(y_test, model.predict(df_test.text), average='macro'))"
   ]
  },
  {
   "cell_type": "code",
   "execution_count": 18,
   "metadata": {},
   "outputs": [
    {
     "data": {
      "text/html": [
       "<div>\n",
       "<style scoped>\n",
       "    .dataframe tbody tr th:only-of-type {\n",
       "        vertical-align: middle;\n",
       "    }\n",
       "\n",
       "    .dataframe tbody tr th {\n",
       "        vertical-align: top;\n",
       "    }\n",
       "\n",
       "    .dataframe thead th {\n",
       "        text-align: right;\n",
       "    }\n",
       "</style>\n",
       "<table border=\"1\" class=\"dataframe\">\n",
       "  <thead>\n",
       "    <tr style=\"text-align: right;\">\n",
       "      <th></th>\n",
       "      <th>f1</th>\n",
       "    </tr>\n",
       "  </thead>\n",
       "  <tbody>\n",
       "    <tr>\n",
       "      <th>baseline_0</th>\n",
       "      <td>0.33196</td>\n",
       "    </tr>\n",
       "    <tr>\n",
       "      <th>baseline_2</th>\n",
       "      <td>0.69907</td>\n",
       "    </tr>\n",
       "  </tbody>\n",
       "</table>\n",
       "</div>"
      ],
      "text/plain": [
       "                 f1\n",
       "baseline_0  0.33196\n",
       "baseline_2  0.69907"
      ]
     },
     "execution_count": 18,
     "metadata": {},
     "output_type": "execute_result"
    }
   ],
   "source": [
    "add_metrics(best_metrics, metrics.f1_score(y_test, model.predict(df_test.text), average='macro'), 'baseline_2')\n",
    "best_metrics"
   ]
  },
  {
   "cell_type": "code",
   "execution_count": 19,
   "metadata": {},
   "outputs": [
    {
     "name": "stderr",
     "output_type": "stream",
     "text": [
      "/Library/Frameworks/Python.framework/Versions/3.6/lib/python3.6/site-packages/sklearn/metrics/classification.py:1135: UndefinedMetricWarning: F-score is ill-defined and being set to 0.0 in labels with no predicted samples.\n",
      "  'precision', 'predicted', average, warn_for)\n",
      "/Library/Frameworks/Python.framework/Versions/3.6/lib/python3.6/site-packages/sklearn/metrics/classification.py:1135: UndefinedMetricWarning: F-score is ill-defined and being set to 0.0 in labels with no predicted samples.\n",
      "  'precision', 'predicted', average, warn_for)\n",
      "/Library/Frameworks/Python.framework/Versions/3.6/lib/python3.6/site-packages/sklearn/metrics/classification.py:1135: UndefinedMetricWarning: F-score is ill-defined and being set to 0.0 in labels with no predicted samples.\n",
      "  'precision', 'predicted', average, warn_for)\n",
      "/Library/Frameworks/Python.framework/Versions/3.6/lib/python3.6/site-packages/sklearn/metrics/classification.py:1135: UndefinedMetricWarning: F-score is ill-defined and being set to 0.0 in labels with no predicted samples.\n",
      "  'precision', 'predicted', average, warn_for)\n"
     ]
    },
    {
     "name": "stdout",
     "output_type": "stream",
     "text": [
      "train 0.8640062878925994\n",
      "test 0.7418129255654868\n",
      "CPU times: user 9.58 s, sys: 312 ms, total: 9.9 s\n",
      "Wall time: 1min 7s\n"
     ]
    }
   ],
   "source": [
    "%%time\n",
    "# baseline 3\n",
    "# simple tf-idf over symbols + logistic regression\n",
    "from sklearn.pipeline import Pipeline\n",
    "from sklearn.linear_model import LogisticRegressionCV\n",
    "from sklearn.feature_extraction.text import TfidfVectorizer\n",
    "from nltk.corpus import stopwords\n",
    "\n",
    "\n",
    "model = Pipeline([\n",
    "    ('tfidf', TfidfVectorizer(analyzer='char', use_idf=True, smooth_idf=True,\n",
    "                                  lowercase=True, \n",
    "                                  stop_words=stopwords.words('english'),\n",
    "                                  min_df=5,\n",
    "                                  ngram_range=(1,3), norm='l2')),\n",
    "    ('est', LogisticRegressionCV(Cs=10, \n",
    "                                    cv=5, \n",
    "                                    scoring='f1_macro', \n",
    "                                    n_jobs=-1, \n",
    "                                    multi_class='multinomial', random_state=SEED))\n",
    "])\n",
    "\n",
    "model.fit(df_train.text, y_train)\n",
    "print('train', metrics.f1_score(y_train, model.predict(df_train.text), average='macro'))\n",
    "print('test', metrics.f1_score(y_test, model.predict(df_test.text), average='macro'))"
   ]
  },
  {
   "cell_type": "code",
   "execution_count": 20,
   "metadata": {},
   "outputs": [
    {
     "data": {
      "text/html": [
       "<div>\n",
       "<style scoped>\n",
       "    .dataframe tbody tr th:only-of-type {\n",
       "        vertical-align: middle;\n",
       "    }\n",
       "\n",
       "    .dataframe tbody tr th {\n",
       "        vertical-align: top;\n",
       "    }\n",
       "\n",
       "    .dataframe thead th {\n",
       "        text-align: right;\n",
       "    }\n",
       "</style>\n",
       "<table border=\"1\" class=\"dataframe\">\n",
       "  <thead>\n",
       "    <tr style=\"text-align: right;\">\n",
       "      <th></th>\n",
       "      <th>f1</th>\n",
       "    </tr>\n",
       "  </thead>\n",
       "  <tbody>\n",
       "    <tr>\n",
       "      <th>baseline_0</th>\n",
       "      <td>0.331960</td>\n",
       "    </tr>\n",
       "    <tr>\n",
       "      <th>baseline_2</th>\n",
       "      <td>0.699070</td>\n",
       "    </tr>\n",
       "    <tr>\n",
       "      <th>baseline_3</th>\n",
       "      <td>0.741813</td>\n",
       "    </tr>\n",
       "  </tbody>\n",
       "</table>\n",
       "</div>"
      ],
      "text/plain": [
       "                  f1\n",
       "baseline_0  0.331960\n",
       "baseline_2  0.699070\n",
       "baseline_3  0.741813"
      ]
     },
     "execution_count": 20,
     "metadata": {},
     "output_type": "execute_result"
    }
   ],
   "source": [
    "add_metrics(best_metrics, metrics.f1_score(y_test, model.predict(df_test.text), average='macro'), 'baseline_3')\n",
    "best_metrics"
   ]
  },
  {
   "cell_type": "code",
   "execution_count": 39,
   "metadata": {},
   "outputs": [
    {
     "name": "stdout",
     "output_type": "stream",
     "text": [
      "Fitting 5 folds for each of 160 candidates, totalling 800 fits\n",
      "[CV] C=0.0001, class_weight=balanced, penalty=l1, tol=0.0001 .........\n",
      "[CV]  C=0.0001, class_weight=balanced, penalty=l1, tol=0.0001, score=0, total=   0.0s\n",
      "[CV] C=0.0001, class_weight=balanced, penalty=l1, tol=0.0001 .........\n",
      "[CV]  C=0.0001, class_weight=balanced, penalty=l1, tol=0.0001, score=0, total=   0.0s\n",
      "[CV] C=0.0001, class_weight=balanced, penalty=l1, tol=0.0001 .........\n",
      "[CV]  C=0.0001, class_weight=balanced, penalty=l1, tol=0.0001, score=0, total=   0.0s\n",
      "[CV] C=0.0001, class_weight=balanced, penalty=l1, tol=0.0001 .........\n",
      "[CV]  C=0.0001, class_weight=balanced, penalty=l1, tol=0.0001, score=0, total=   0.0s\n",
      "[CV] C=0.0001, class_weight=balanced, penalty=l1, tol=0.0001 .........\n",
      "[CV]  C=0.0001, class_weight=balanced, penalty=l1, tol=0.0001, score=0, total=   0.0s\n",
      "[CV] C=0.0001, class_weight=balanced, penalty=l1, tol=0.001 ..........\n",
      "[CV]  C=0.0001, class_weight=balanced, penalty=l1, tol=0.001, score=0, total=   0.0s\n",
      "[CV] C=0.0001, class_weight=balanced, penalty=l1, tol=0.001 ..........\n"
     ]
    },
    {
     "name": "stderr",
     "output_type": "stream",
     "text": [
      "/Library/Frameworks/Python.framework/Versions/3.6/lib/python3.6/site-packages/sklearn/model_selection/_validation.py:479: FitFailedWarning: Classifier fit failed. The score on this train-test partition for these parameters will be set to 0.000000. Details: \n",
      "ValueError(\"Unsupported set of arguments: The combination of penalty='l1' and loss='squared_hinge' are not supported when dual=True, Parameters: penalty='l1', loss='squared_hinge', dual=True\",)\n",
      "  \"Details: \\n%r\" % (error_score, e), FitFailedWarning)\n",
      "[Parallel(n_jobs=1)]: Done   1 out of   1 | elapsed:    0.0s remaining:    0.0s\n",
      "/Library/Frameworks/Python.framework/Versions/3.6/lib/python3.6/site-packages/sklearn/model_selection/_validation.py:479: FitFailedWarning: Classifier fit failed. The score on this train-test partition for these parameters will be set to 0.000000. Details: \n",
      "ValueError(\"Unsupported set of arguments: The combination of penalty='l1' and loss='squared_hinge' are not supported when dual=True, Parameters: penalty='l1', loss='squared_hinge', dual=True\",)\n",
      "  \"Details: \\n%r\" % (error_score, e), FitFailedWarning)\n",
      "[Parallel(n_jobs=1)]: Done   2 out of   2 | elapsed:    0.1s remaining:    0.0s\n",
      "/Library/Frameworks/Python.framework/Versions/3.6/lib/python3.6/site-packages/sklearn/model_selection/_validation.py:479: FitFailedWarning: Classifier fit failed. The score on this train-test partition for these parameters will be set to 0.000000. Details: \n",
      "ValueError(\"Unsupported set of arguments: The combination of penalty='l1' and loss='squared_hinge' are not supported when dual=True, Parameters: penalty='l1', loss='squared_hinge', dual=True\",)\n",
      "  \"Details: \\n%r\" % (error_score, e), FitFailedWarning)\n",
      "[Parallel(n_jobs=1)]: Done   3 out of   3 | elapsed:    0.1s remaining:    0.0s\n",
      "/Library/Frameworks/Python.framework/Versions/3.6/lib/python3.6/site-packages/sklearn/model_selection/_validation.py:479: FitFailedWarning: Classifier fit failed. The score on this train-test partition for these parameters will be set to 0.000000. Details: \n",
      "ValueError(\"Unsupported set of arguments: The combination of penalty='l1' and loss='squared_hinge' are not supported when dual=True, Parameters: penalty='l1', loss='squared_hinge', dual=True\",)\n",
      "  \"Details: \\n%r\" % (error_score, e), FitFailedWarning)\n",
      "[Parallel(n_jobs=1)]: Done   4 out of   4 | elapsed:    0.1s remaining:    0.0s\n",
      "/Library/Frameworks/Python.framework/Versions/3.6/lib/python3.6/site-packages/sklearn/model_selection/_validation.py:479: FitFailedWarning: Classifier fit failed. The score on this train-test partition for these parameters will be set to 0.000000. Details: \n",
      "ValueError(\"Unsupported set of arguments: The combination of penalty='l1' and loss='squared_hinge' are not supported when dual=True, Parameters: penalty='l1', loss='squared_hinge', dual=True\",)\n",
      "  \"Details: \\n%r\" % (error_score, e), FitFailedWarning)\n",
      "[Parallel(n_jobs=1)]: Done   5 out of   5 | elapsed:    0.2s remaining:    0.0s\n",
      "/Library/Frameworks/Python.framework/Versions/3.6/lib/python3.6/site-packages/sklearn/model_selection/_validation.py:479: FitFailedWarning: Classifier fit failed. The score on this train-test partition for these parameters will be set to 0.000000. Details: \n",
      "ValueError(\"Unsupported set of arguments: The combination of penalty='l1' and loss='squared_hinge' are not supported when dual=True, Parameters: penalty='l1', loss='squared_hinge', dual=True\",)\n",
      "  \"Details: \\n%r\" % (error_score, e), FitFailedWarning)\n",
      "[Parallel(n_jobs=1)]: Done   6 out of   6 | elapsed:    0.2s remaining:    0.0s\n",
      "/Library/Frameworks/Python.framework/Versions/3.6/lib/python3.6/site-packages/sklearn/model_selection/_validation.py:479: FitFailedWarning: Classifier fit failed. The score on this train-test partition for these parameters will be set to 0.000000. Details: \n",
      "ValueError(\"Unsupported set of arguments: The combination of penalty='l1' and loss='squared_hinge' are not supported when dual=True, Parameters: penalty='l1', loss='squared_hinge', dual=True\",)\n",
      "  \"Details: \\n%r\" % (error_score, e), FitFailedWarning)\n",
      "[Parallel(n_jobs=1)]: Done   7 out of   7 | elapsed:    0.2s remaining:    0.0s\n"
     ]
    },
    {
     "name": "stdout",
     "output_type": "stream",
     "text": [
      "[CV]  C=0.0001, class_weight=balanced, penalty=l1, tol=0.001, score=0, total=   0.0s\n",
      "[CV] C=0.0001, class_weight=balanced, penalty=l1, tol=0.001 ..........\n",
      "[CV]  C=0.0001, class_weight=balanced, penalty=l1, tol=0.001, score=0, total=   0.0s\n",
      "[CV] C=0.0001, class_weight=balanced, penalty=l1, tol=0.001 ..........\n",
      "[CV]  C=0.0001, class_weight=balanced, penalty=l1, tol=0.001, score=0, total=   0.0s\n",
      "[CV] C=0.0001, class_weight=balanced, penalty=l1, tol=0.001 ..........\n",
      "[CV]  C=0.0001, class_weight=balanced, penalty=l1, tol=0.001, score=0, total=   0.0s\n",
      "[CV] C=0.0001, class_weight=balanced, penalty=l1, tol=0.01 ...........\n",
      "[CV]  C=0.0001, class_weight=balanced, penalty=l1, tol=0.01, score=0, total=   0.0s\n",
      "[CV] C=0.0001, class_weight=balanced, penalty=l1, tol=0.01 ...........\n",
      "[CV]  C=0.0001, class_weight=balanced, penalty=l1, tol=0.01, score=0, total=   0.0s\n",
      "[CV] C=0.0001, class_weight=balanced, penalty=l1, tol=0.01 ...........\n",
      "[CV]  C=0.0001, class_weight=balanced, penalty=l1, tol=0.01, score=0, total=   0.0s\n",
      "[CV] C=0.0001, class_weight=balanced, penalty=l1, tol=0.01 ...........\n"
     ]
    },
    {
     "name": "stderr",
     "output_type": "stream",
     "text": [
      "/Library/Frameworks/Python.framework/Versions/3.6/lib/python3.6/site-packages/sklearn/model_selection/_validation.py:479: FitFailedWarning: Classifier fit failed. The score on this train-test partition for these parameters will be set to 0.000000. Details: \n",
      "ValueError(\"Unsupported set of arguments: The combination of penalty='l1' and loss='squared_hinge' are not supported when dual=True, Parameters: penalty='l1', loss='squared_hinge', dual=True\",)\n",
      "  \"Details: \\n%r\" % (error_score, e), FitFailedWarning)\n",
      "[Parallel(n_jobs=1)]: Done   8 out of   8 | elapsed:    0.3s remaining:    0.0s\n",
      "/Library/Frameworks/Python.framework/Versions/3.6/lib/python3.6/site-packages/sklearn/model_selection/_validation.py:479: FitFailedWarning: Classifier fit failed. The score on this train-test partition for these parameters will be set to 0.000000. Details: \n",
      "ValueError(\"Unsupported set of arguments: The combination of penalty='l1' and loss='squared_hinge' are not supported when dual=True, Parameters: penalty='l1', loss='squared_hinge', dual=True\",)\n",
      "  \"Details: \\n%r\" % (error_score, e), FitFailedWarning)\n",
      "[Parallel(n_jobs=1)]: Done   9 out of   9 | elapsed:    0.3s remaining:    0.0s\n",
      "/Library/Frameworks/Python.framework/Versions/3.6/lib/python3.6/site-packages/sklearn/model_selection/_validation.py:479: FitFailedWarning: Classifier fit failed. The score on this train-test partition for these parameters will be set to 0.000000. Details: \n",
      "ValueError(\"Unsupported set of arguments: The combination of penalty='l1' and loss='squared_hinge' are not supported when dual=True, Parameters: penalty='l1', loss='squared_hinge', dual=True\",)\n",
      "  \"Details: \\n%r\" % (error_score, e), FitFailedWarning)\n",
      "/Library/Frameworks/Python.framework/Versions/3.6/lib/python3.6/site-packages/sklearn/model_selection/_validation.py:479: FitFailedWarning: Classifier fit failed. The score on this train-test partition for these parameters will be set to 0.000000. Details: \n",
      "ValueError(\"Unsupported set of arguments: The combination of penalty='l1' and loss='squared_hinge' are not supported when dual=True, Parameters: penalty='l1', loss='squared_hinge', dual=True\",)\n",
      "  \"Details: \\n%r\" % (error_score, e), FitFailedWarning)\n",
      "/Library/Frameworks/Python.framework/Versions/3.6/lib/python3.6/site-packages/sklearn/model_selection/_validation.py:479: FitFailedWarning: Classifier fit failed. The score on this train-test partition for these parameters will be set to 0.000000. Details: \n",
      "ValueError(\"Unsupported set of arguments: The combination of penalty='l1' and loss='squared_hinge' are not supported when dual=True, Parameters: penalty='l1', loss='squared_hinge', dual=True\",)\n",
      "  \"Details: \\n%r\" % (error_score, e), FitFailedWarning)\n",
      "/Library/Frameworks/Python.framework/Versions/3.6/lib/python3.6/site-packages/sklearn/model_selection/_validation.py:479: FitFailedWarning: Classifier fit failed. The score on this train-test partition for these parameters will be set to 0.000000. Details: \n",
      "ValueError(\"Unsupported set of arguments: The combination of penalty='l1' and loss='squared_hinge' are not supported when dual=True, Parameters: penalty='l1', loss='squared_hinge', dual=True\",)\n",
      "  \"Details: \\n%r\" % (error_score, e), FitFailedWarning)\n",
      "/Library/Frameworks/Python.framework/Versions/3.6/lib/python3.6/site-packages/sklearn/model_selection/_validation.py:479: FitFailedWarning: Classifier fit failed. The score on this train-test partition for these parameters will be set to 0.000000. Details: \n",
      "ValueError(\"Unsupported set of arguments: The combination of penalty='l1' and loss='squared_hinge' are not supported when dual=True, Parameters: penalty='l1', loss='squared_hinge', dual=True\",)\n",
      "  \"Details: \\n%r\" % (error_score, e), FitFailedWarning)\n"
     ]
    },
    {
     "name": "stdout",
     "output_type": "stream",
     "text": [
      "[CV]  C=0.0001, class_weight=balanced, penalty=l1, tol=0.01, score=0, total=   0.0s\n",
      "[CV] C=0.0001, class_weight=balanced, penalty=l1, tol=0.01 ...........\n",
      "[CV]  C=0.0001, class_weight=balanced, penalty=l1, tol=0.01, score=0, total=   0.0s\n",
      "[CV] C=0.0001, class_weight=balanced, penalty=l1, tol=0.1 ............\n",
      "[CV]  C=0.0001, class_weight=balanced, penalty=l1, tol=0.1, score=0, total=   0.0s\n",
      "[CV] C=0.0001, class_weight=balanced, penalty=l1, tol=0.1 ............\n",
      "[CV]  C=0.0001, class_weight=balanced, penalty=l1, tol=0.1, score=0, total=   0.0s\n",
      "[CV] C=0.0001, class_weight=balanced, penalty=l1, tol=0.1 ............\n",
      "[CV]  C=0.0001, class_weight=balanced, penalty=l1, tol=0.1, score=0, total=   0.0s\n",
      "[CV] C=0.0001, class_weight=balanced, penalty=l1, tol=0.1 ............\n",
      "[CV]  C=0.0001, class_weight=balanced, penalty=l1, tol=0.1, score=0, total=   0.0s\n",
      "[CV] C=0.0001, class_weight=balanced, penalty=l1, tol=0.1 ............\n",
      "[CV]  C=0.0001, class_weight=balanced, penalty=l1, tol=0.1, score=0, total=   0.0s\n",
      "[CV] C=0.0001, class_weight=balanced, penalty=l1, tol=1 ..............\n"
     ]
    },
    {
     "name": "stderr",
     "output_type": "stream",
     "text": [
      "/Library/Frameworks/Python.framework/Versions/3.6/lib/python3.6/site-packages/sklearn/model_selection/_validation.py:479: FitFailedWarning: Classifier fit failed. The score on this train-test partition for these parameters will be set to 0.000000. Details: \n",
      "ValueError(\"Unsupported set of arguments: The combination of penalty='l1' and loss='squared_hinge' are not supported when dual=True, Parameters: penalty='l1', loss='squared_hinge', dual=True\",)\n",
      "  \"Details: \\n%r\" % (error_score, e), FitFailedWarning)\n",
      "/Library/Frameworks/Python.framework/Versions/3.6/lib/python3.6/site-packages/sklearn/model_selection/_validation.py:479: FitFailedWarning: Classifier fit failed. The score on this train-test partition for these parameters will be set to 0.000000. Details: \n",
      "ValueError(\"Unsupported set of arguments: The combination of penalty='l1' and loss='squared_hinge' are not supported when dual=True, Parameters: penalty='l1', loss='squared_hinge', dual=True\",)\n",
      "  \"Details: \\n%r\" % (error_score, e), FitFailedWarning)\n",
      "/Library/Frameworks/Python.framework/Versions/3.6/lib/python3.6/site-packages/sklearn/model_selection/_validation.py:479: FitFailedWarning: Classifier fit failed. The score on this train-test partition for these parameters will be set to 0.000000. Details: \n",
      "ValueError(\"Unsupported set of arguments: The combination of penalty='l1' and loss='squared_hinge' are not supported when dual=True, Parameters: penalty='l1', loss='squared_hinge', dual=True\",)\n",
      "  \"Details: \\n%r\" % (error_score, e), FitFailedWarning)\n",
      "/Library/Frameworks/Python.framework/Versions/3.6/lib/python3.6/site-packages/sklearn/model_selection/_validation.py:479: FitFailedWarning: Classifier fit failed. The score on this train-test partition for these parameters will be set to 0.000000. Details: \n",
      "ValueError(\"Unsupported set of arguments: The combination of penalty='l1' and loss='squared_hinge' are not supported when dual=True, Parameters: penalty='l1', loss='squared_hinge', dual=True\",)\n",
      "  \"Details: \\n%r\" % (error_score, e), FitFailedWarning)\n",
      "/Library/Frameworks/Python.framework/Versions/3.6/lib/python3.6/site-packages/sklearn/model_selection/_validation.py:479: FitFailedWarning: Classifier fit failed. The score on this train-test partition for these parameters will be set to 0.000000. Details: \n",
      "ValueError(\"Unsupported set of arguments: The combination of penalty='l1' and loss='squared_hinge' are not supported when dual=True, Parameters: penalty='l1', loss='squared_hinge', dual=True\",)\n",
      "  \"Details: \\n%r\" % (error_score, e), FitFailedWarning)\n",
      "/Library/Frameworks/Python.framework/Versions/3.6/lib/python3.6/site-packages/sklearn/model_selection/_validation.py:479: FitFailedWarning: Classifier fit failed. The score on this train-test partition for these parameters will be set to 0.000000. Details: \n",
      "ValueError(\"Unsupported set of arguments: The combination of penalty='l1' and loss='squared_hinge' are not supported when dual=True, Parameters: penalty='l1', loss='squared_hinge', dual=True\",)\n",
      "  \"Details: \\n%r\" % (error_score, e), FitFailedWarning)\n",
      "/Library/Frameworks/Python.framework/Versions/3.6/lib/python3.6/site-packages/sklearn/model_selection/_validation.py:479: FitFailedWarning: Classifier fit failed. The score on this train-test partition for these parameters will be set to 0.000000. Details: \n",
      "ValueError(\"Unsupported set of arguments: The combination of penalty='l1' and loss='squared_hinge' are not supported when dual=True, Parameters: penalty='l1', loss='squared_hinge', dual=True\",)\n",
      "  \"Details: \\n%r\" % (error_score, e), FitFailedWarning)\n"
     ]
    },
    {
     "name": "stdout",
     "output_type": "stream",
     "text": [
      "[CV]  C=0.0001, class_weight=balanced, penalty=l1, tol=1, score=0, total=   0.0s\n",
      "[CV] C=0.0001, class_weight=balanced, penalty=l1, tol=1 ..............\n",
      "[CV]  C=0.0001, class_weight=balanced, penalty=l1, tol=1, score=0, total=   0.0s\n",
      "[CV] C=0.0001, class_weight=balanced, penalty=l1, tol=1 ..............\n",
      "[CV]  C=0.0001, class_weight=balanced, penalty=l1, tol=1, score=0, total=   0.0s\n",
      "[CV] C=0.0001, class_weight=balanced, penalty=l1, tol=1 ..............\n",
      "[CV]  C=0.0001, class_weight=balanced, penalty=l1, tol=1, score=0, total=   0.0s\n",
      "[CV] C=0.0001, class_weight=balanced, penalty=l1, tol=1 ..............\n",
      "[CV]  C=0.0001, class_weight=balanced, penalty=l1, tol=1, score=0, total=   0.0s\n",
      "[CV] C=0.0001, class_weight=balanced, penalty=l2, tol=0.0001 .........\n"
     ]
    },
    {
     "name": "stderr",
     "output_type": "stream",
     "text": [
      "/Library/Frameworks/Python.framework/Versions/3.6/lib/python3.6/site-packages/sklearn/model_selection/_validation.py:479: FitFailedWarning: Classifier fit failed. The score on this train-test partition for these parameters will be set to 0.000000. Details: \n",
      "ValueError(\"Unsupported set of arguments: The combination of penalty='l1' and loss='squared_hinge' are not supported when dual=True, Parameters: penalty='l1', loss='squared_hinge', dual=True\",)\n",
      "  \"Details: \\n%r\" % (error_score, e), FitFailedWarning)\n",
      "/Library/Frameworks/Python.framework/Versions/3.6/lib/python3.6/site-packages/sklearn/model_selection/_validation.py:479: FitFailedWarning: Classifier fit failed. The score on this train-test partition for these parameters will be set to 0.000000. Details: \n",
      "ValueError(\"Unsupported set of arguments: The combination of penalty='l1' and loss='squared_hinge' are not supported when dual=True, Parameters: penalty='l1', loss='squared_hinge', dual=True\",)\n",
      "  \"Details: \\n%r\" % (error_score, e), FitFailedWarning)\n",
      "/Library/Frameworks/Python.framework/Versions/3.6/lib/python3.6/site-packages/sklearn/model_selection/_validation.py:479: FitFailedWarning: Classifier fit failed. The score on this train-test partition for these parameters will be set to 0.000000. Details: \n",
      "ValueError(\"Unsupported set of arguments: The combination of penalty='l1' and loss='squared_hinge' are not supported when dual=True, Parameters: penalty='l1', loss='squared_hinge', dual=True\",)\n",
      "  \"Details: \\n%r\" % (error_score, e), FitFailedWarning)\n",
      "/Library/Frameworks/Python.framework/Versions/3.6/lib/python3.6/site-packages/sklearn/model_selection/_validation.py:479: FitFailedWarning: Classifier fit failed. The score on this train-test partition for these parameters will be set to 0.000000. Details: \n",
      "ValueError(\"Unsupported set of arguments: The combination of penalty='l1' and loss='squared_hinge' are not supported when dual=True, Parameters: penalty='l1', loss='squared_hinge', dual=True\",)\n",
      "  \"Details: \\n%r\" % (error_score, e), FitFailedWarning)\n",
      "/Library/Frameworks/Python.framework/Versions/3.6/lib/python3.6/site-packages/sklearn/metrics/classification.py:1135: UndefinedMetricWarning: F-score is ill-defined and being set to 0.0 in labels with no predicted samples.\n",
      "  'precision', 'predicted', average, warn_for)\n"
     ]
    },
    {
     "name": "stdout",
     "output_type": "stream",
     "text": [
      "[CV]  C=0.0001, class_weight=balanced, penalty=l2, tol=0.0001, score=0.2568550643536654, total=   0.3s\n",
      "[CV] C=0.0001, class_weight=balanced, penalty=l2, tol=0.0001 .........\n"
     ]
    },
    {
     "name": "stderr",
     "output_type": "stream",
     "text": [
      "/Library/Frameworks/Python.framework/Versions/3.6/lib/python3.6/site-packages/sklearn/metrics/classification.py:1135: UndefinedMetricWarning: F-score is ill-defined and being set to 0.0 in labels with no predicted samples.\n",
      "  'precision', 'predicted', average, warn_for)\n"
     ]
    },
    {
     "name": "stdout",
     "output_type": "stream",
     "text": [
      "[CV]  C=0.0001, class_weight=balanced, penalty=l2, tol=0.0001, score=0.2568550643536654, total=   0.3s\n",
      "[CV] C=0.0001, class_weight=balanced, penalty=l2, tol=0.0001 .........\n"
     ]
    },
    {
     "name": "stderr",
     "output_type": "stream",
     "text": [
      "/Library/Frameworks/Python.framework/Versions/3.6/lib/python3.6/site-packages/sklearn/metrics/classification.py:1135: UndefinedMetricWarning: F-score is ill-defined and being set to 0.0 in labels with no predicted samples.\n",
      "  'precision', 'predicted', average, warn_for)\n"
     ]
    },
    {
     "name": "stdout",
     "output_type": "stream",
     "text": [
      "[CV]  C=0.0001, class_weight=balanced, penalty=l2, tol=0.0001, score=0.25692695214105793, total=   0.3s\n",
      "[CV] C=0.0001, class_weight=balanced, penalty=l2, tol=0.0001 .........\n"
     ]
    },
    {
     "name": "stderr",
     "output_type": "stream",
     "text": [
      "/Library/Frameworks/Python.framework/Versions/3.6/lib/python3.6/site-packages/sklearn/metrics/classification.py:1135: UndefinedMetricWarning: F-score is ill-defined and being set to 0.0 in labels with no predicted samples.\n",
      "  'precision', 'predicted', average, warn_for)\n"
     ]
    },
    {
     "name": "stdout",
     "output_type": "stream",
     "text": [
      "[CV]  C=0.0001, class_weight=balanced, penalty=l2, tol=0.0001, score=0.25692695214105793, total=   0.3s\n",
      "[CV] C=0.0001, class_weight=balanced, penalty=l2, tol=0.0001 .........\n"
     ]
    },
    {
     "name": "stderr",
     "output_type": "stream",
     "text": [
      "/Library/Frameworks/Python.framework/Versions/3.6/lib/python3.6/site-packages/sklearn/metrics/classification.py:1135: UndefinedMetricWarning: F-score is ill-defined and being set to 0.0 in labels with no predicted samples.\n",
      "  'precision', 'predicted', average, warn_for)\n"
     ]
    },
    {
     "name": "stdout",
     "output_type": "stream",
     "text": [
      "[CV]  C=0.0001, class_weight=balanced, penalty=l2, tol=0.0001, score=0.25695611577964517, total=   0.3s\n",
      "[CV] C=0.0001, class_weight=balanced, penalty=l2, tol=0.001 ..........\n"
     ]
    },
    {
     "name": "stderr",
     "output_type": "stream",
     "text": [
      "/Library/Frameworks/Python.framework/Versions/3.6/lib/python3.6/site-packages/sklearn/metrics/classification.py:1135: UndefinedMetricWarning: F-score is ill-defined and being set to 0.0 in labels with no predicted samples.\n",
      "  'precision', 'predicted', average, warn_for)\n"
     ]
    },
    {
     "name": "stdout",
     "output_type": "stream",
     "text": [
      "[CV]  C=0.0001, class_weight=balanced, penalty=l2, tol=0.001, score=0.2568550643536654, total=   0.2s\n",
      "[CV] C=0.0001, class_weight=balanced, penalty=l2, tol=0.001 ..........\n"
     ]
    },
    {
     "name": "stderr",
     "output_type": "stream",
     "text": [
      "/Library/Frameworks/Python.framework/Versions/3.6/lib/python3.6/site-packages/sklearn/metrics/classification.py:1135: UndefinedMetricWarning: F-score is ill-defined and being set to 0.0 in labels with no predicted samples.\n",
      "  'precision', 'predicted', average, warn_for)\n"
     ]
    },
    {
     "name": "stdout",
     "output_type": "stream",
     "text": [
      "[CV]  C=0.0001, class_weight=balanced, penalty=l2, tol=0.001, score=0.2568550643536654, total=   0.3s\n",
      "[CV] C=0.0001, class_weight=balanced, penalty=l2, tol=0.001 ..........\n"
     ]
    },
    {
     "name": "stderr",
     "output_type": "stream",
     "text": [
      "/Library/Frameworks/Python.framework/Versions/3.6/lib/python3.6/site-packages/sklearn/metrics/classification.py:1135: UndefinedMetricWarning: F-score is ill-defined and being set to 0.0 in labels with no predicted samples.\n",
      "  'precision', 'predicted', average, warn_for)\n"
     ]
    },
    {
     "name": "stdout",
     "output_type": "stream",
     "text": [
      "[CV]  C=0.0001, class_weight=balanced, penalty=l2, tol=0.001, score=0.25692695214105793, total=   0.2s\n",
      "[CV] C=0.0001, class_weight=balanced, penalty=l2, tol=0.001 ..........\n"
     ]
    },
    {
     "name": "stderr",
     "output_type": "stream",
     "text": [
      "/Library/Frameworks/Python.framework/Versions/3.6/lib/python3.6/site-packages/sklearn/metrics/classification.py:1135: UndefinedMetricWarning: F-score is ill-defined and being set to 0.0 in labels with no predicted samples.\n",
      "  'precision', 'predicted', average, warn_for)\n"
     ]
    },
    {
     "name": "stdout",
     "output_type": "stream",
     "text": [
      "[CV]  C=0.0001, class_weight=balanced, penalty=l2, tol=0.001, score=0.25692695214105793, total=   0.3s\n",
      "[CV] C=0.0001, class_weight=balanced, penalty=l2, tol=0.001 ..........\n"
     ]
    },
    {
     "name": "stderr",
     "output_type": "stream",
     "text": [
      "/Library/Frameworks/Python.framework/Versions/3.6/lib/python3.6/site-packages/sklearn/metrics/classification.py:1135: UndefinedMetricWarning: F-score is ill-defined and being set to 0.0 in labels with no predicted samples.\n",
      "  'precision', 'predicted', average, warn_for)\n"
     ]
    },
    {
     "name": "stdout",
     "output_type": "stream",
     "text": [
      "[CV]  C=0.0001, class_weight=balanced, penalty=l2, tol=0.001, score=0.25695611577964517, total=   0.3s\n",
      "[CV] C=0.0001, class_weight=balanced, penalty=l2, tol=0.01 ...........\n"
     ]
    },
    {
     "name": "stderr",
     "output_type": "stream",
     "text": [
      "/Library/Frameworks/Python.framework/Versions/3.6/lib/python3.6/site-packages/sklearn/metrics/classification.py:1135: UndefinedMetricWarning: F-score is ill-defined and being set to 0.0 in labels with no predicted samples.\n",
      "  'precision', 'predicted', average, warn_for)\n",
      "/Library/Frameworks/Python.framework/Versions/3.6/lib/python3.6/site-packages/sklearn/metrics/classification.py:1135: UndefinedMetricWarning: F-score is ill-defined and being set to 0.0 in labels with no predicted samples.\n",
      "  'precision', 'predicted', average, warn_for)\n"
     ]
    },
    {
     "name": "stdout",
     "output_type": "stream",
     "text": [
      "[CV]  C=0.0001, class_weight=balanced, penalty=l2, tol=0.01, score=0.2568550643536654, total=   0.2s\n",
      "[CV] C=0.0001, class_weight=balanced, penalty=l2, tol=0.01 ...........\n",
      "[CV]  C=0.0001, class_weight=balanced, penalty=l2, tol=0.01, score=0.2568550643536654, total=   0.2s\n",
      "[CV] C=0.0001, class_weight=balanced, penalty=l2, tol=0.01 ...........\n"
     ]
    },
    {
     "name": "stderr",
     "output_type": "stream",
     "text": [
      "/Library/Frameworks/Python.framework/Versions/3.6/lib/python3.6/site-packages/sklearn/metrics/classification.py:1135: UndefinedMetricWarning: F-score is ill-defined and being set to 0.0 in labels with no predicted samples.\n",
      "  'precision', 'predicted', average, warn_for)\n"
     ]
    },
    {
     "name": "stdout",
     "output_type": "stream",
     "text": [
      "[CV]  C=0.0001, class_weight=balanced, penalty=l2, tol=0.01, score=0.25692695214105793, total=   0.2s\n",
      "[CV] C=0.0001, class_weight=balanced, penalty=l2, tol=0.01 ...........\n"
     ]
    },
    {
     "name": "stderr",
     "output_type": "stream",
     "text": [
      "/Library/Frameworks/Python.framework/Versions/3.6/lib/python3.6/site-packages/sklearn/metrics/classification.py:1135: UndefinedMetricWarning: F-score is ill-defined and being set to 0.0 in labels with no predicted samples.\n",
      "  'precision', 'predicted', average, warn_for)\n"
     ]
    },
    {
     "name": "stdout",
     "output_type": "stream",
     "text": [
      "[CV]  C=0.0001, class_weight=balanced, penalty=l2, tol=0.01, score=0.25692695214105793, total=   0.2s\n",
      "[CV] C=0.0001, class_weight=balanced, penalty=l2, tol=0.01 ...........\n"
     ]
    },
    {
     "name": "stderr",
     "output_type": "stream",
     "text": [
      "/Library/Frameworks/Python.framework/Versions/3.6/lib/python3.6/site-packages/sklearn/metrics/classification.py:1135: UndefinedMetricWarning: F-score is ill-defined and being set to 0.0 in labels with no predicted samples.\n",
      "  'precision', 'predicted', average, warn_for)\n"
     ]
    },
    {
     "name": "stdout",
     "output_type": "stream",
     "text": [
      "[CV]  C=0.0001, class_weight=balanced, penalty=l2, tol=0.01, score=0.25695611577964517, total=   0.3s\n",
      "[CV] C=0.0001, class_weight=balanced, penalty=l2, tol=0.1 ............\n"
     ]
    },
    {
     "name": "stderr",
     "output_type": "stream",
     "text": [
      "/Library/Frameworks/Python.framework/Versions/3.6/lib/python3.6/site-packages/sklearn/metrics/classification.py:1135: UndefinedMetricWarning: F-score is ill-defined and being set to 0.0 in labels with no predicted samples.\n",
      "  'precision', 'predicted', average, warn_for)\n",
      "/Library/Frameworks/Python.framework/Versions/3.6/lib/python3.6/site-packages/sklearn/metrics/classification.py:1135: UndefinedMetricWarning: F-score is ill-defined and being set to 0.0 in labels with no predicted samples.\n",
      "  'precision', 'predicted', average, warn_for)\n"
     ]
    },
    {
     "name": "stdout",
     "output_type": "stream",
     "text": [
      "[CV]  C=0.0001, class_weight=balanced, penalty=l2, tol=0.1, score=0.2568550643536654, total=   0.2s\n",
      "[CV] C=0.0001, class_weight=balanced, penalty=l2, tol=0.1 ............\n",
      "[CV]  C=0.0001, class_weight=balanced, penalty=l2, tol=0.1, score=0.2568550643536654, total=   0.2s\n",
      "[CV] C=0.0001, class_weight=balanced, penalty=l2, tol=0.1 ............\n"
     ]
    },
    {
     "name": "stderr",
     "output_type": "stream",
     "text": [
      "/Library/Frameworks/Python.framework/Versions/3.6/lib/python3.6/site-packages/sklearn/metrics/classification.py:1135: UndefinedMetricWarning: F-score is ill-defined and being set to 0.0 in labels with no predicted samples.\n",
      "  'precision', 'predicted', average, warn_for)\n",
      "/Library/Frameworks/Python.framework/Versions/3.6/lib/python3.6/site-packages/sklearn/metrics/classification.py:1135: UndefinedMetricWarning: F-score is ill-defined and being set to 0.0 in labels with no predicted samples.\n",
      "  'precision', 'predicted', average, warn_for)\n"
     ]
    },
    {
     "name": "stdout",
     "output_type": "stream",
     "text": [
      "[CV]  C=0.0001, class_weight=balanced, penalty=l2, tol=0.1, score=0.25692695214105793, total=   0.2s\n",
      "[CV] C=0.0001, class_weight=balanced, penalty=l2, tol=0.1 ............\n",
      "[CV]  C=0.0001, class_weight=balanced, penalty=l2, tol=0.1, score=0.25692695214105793, total=   0.2s\n",
      "[CV] C=0.0001, class_weight=balanced, penalty=l2, tol=0.1 ............\n"
     ]
    },
    {
     "name": "stderr",
     "output_type": "stream",
     "text": [
      "/Library/Frameworks/Python.framework/Versions/3.6/lib/python3.6/site-packages/sklearn/metrics/classification.py:1135: UndefinedMetricWarning: F-score is ill-defined and being set to 0.0 in labels with no predicted samples.\n",
      "  'precision', 'predicted', average, warn_for)\n",
      "/Library/Frameworks/Python.framework/Versions/3.6/lib/python3.6/site-packages/sklearn/metrics/classification.py:1135: UndefinedMetricWarning: F-score is ill-defined and being set to 0.0 in labels with no predicted samples.\n",
      "  'precision', 'predicted', average, warn_for)\n"
     ]
    },
    {
     "name": "stdout",
     "output_type": "stream",
     "text": [
      "[CV]  C=0.0001, class_weight=balanced, penalty=l2, tol=0.1, score=0.25695611577964517, total=   0.2s\n",
      "[CV] C=0.0001, class_weight=balanced, penalty=l2, tol=1 ..............\n",
      "[CV]  C=0.0001, class_weight=balanced, penalty=l2, tol=1, score=0.2568550643536654, total=   0.1s\n",
      "[CV] C=0.0001, class_weight=balanced, penalty=l2, tol=1 ..............\n"
     ]
    },
    {
     "name": "stderr",
     "output_type": "stream",
     "text": [
      "/Library/Frameworks/Python.framework/Versions/3.6/lib/python3.6/site-packages/sklearn/metrics/classification.py:1135: UndefinedMetricWarning: F-score is ill-defined and being set to 0.0 in labels with no predicted samples.\n",
      "  'precision', 'predicted', average, warn_for)\n",
      "/Library/Frameworks/Python.framework/Versions/3.6/lib/python3.6/site-packages/sklearn/metrics/classification.py:1135: UndefinedMetricWarning: F-score is ill-defined and being set to 0.0 in labels with no predicted samples.\n",
      "  'precision', 'predicted', average, warn_for)\n"
     ]
    },
    {
     "name": "stdout",
     "output_type": "stream",
     "text": [
      "[CV]  C=0.0001, class_weight=balanced, penalty=l2, tol=1, score=0.2568550643536654, total=   0.1s\n",
      "[CV] C=0.0001, class_weight=balanced, penalty=l2, tol=1 ..............\n",
      "[CV]  C=0.0001, class_weight=balanced, penalty=l2, tol=1, score=0.25692695214105793, total=   0.1s\n",
      "[CV] C=0.0001, class_weight=balanced, penalty=l2, tol=1 ..............\n"
     ]
    },
    {
     "name": "stderr",
     "output_type": "stream",
     "text": [
      "/Library/Frameworks/Python.framework/Versions/3.6/lib/python3.6/site-packages/sklearn/metrics/classification.py:1135: UndefinedMetricWarning: F-score is ill-defined and being set to 0.0 in labels with no predicted samples.\n",
      "  'precision', 'predicted', average, warn_for)\n",
      "/Library/Frameworks/Python.framework/Versions/3.6/lib/python3.6/site-packages/sklearn/metrics/classification.py:1135: UndefinedMetricWarning: F-score is ill-defined and being set to 0.0 in labels with no predicted samples.\n",
      "  'precision', 'predicted', average, warn_for)\n",
      "/Library/Frameworks/Python.framework/Versions/3.6/lib/python3.6/site-packages/sklearn/model_selection/_validation.py:479: FitFailedWarning: Classifier fit failed. The score on this train-test partition for these parameters will be set to 0.000000. Details: \n",
      "ValueError(\"Unsupported set of arguments: The combination of penalty='l1' and loss='squared_hinge' are not supported when dual=True, Parameters: penalty='l1', loss='squared_hinge', dual=True\",)\n",
      "  \"Details: \\n%r\" % (error_score, e), FitFailedWarning)\n",
      "/Library/Frameworks/Python.framework/Versions/3.6/lib/python3.6/site-packages/sklearn/model_selection/_validation.py:479: FitFailedWarning: Classifier fit failed. The score on this train-test partition for these parameters will be set to 0.000000. Details: \n",
      "ValueError(\"Unsupported set of arguments: The combination of penalty='l1' and loss='squared_hinge' are not supported when dual=True, Parameters: penalty='l1', loss='squared_hinge', dual=True\",)\n",
      "  \"Details: \\n%r\" % (error_score, e), FitFailedWarning)\n",
      "/Library/Frameworks/Python.framework/Versions/3.6/lib/python3.6/site-packages/sklearn/model_selection/_validation.py:479: FitFailedWarning: Classifier fit failed. The score on this train-test partition for these parameters will be set to 0.000000. Details: \n",
      "ValueError(\"Unsupported set of arguments: The combination of penalty='l1' and loss='squared_hinge' are not supported when dual=True, Parameters: penalty='l1', loss='squared_hinge', dual=True\",)\n",
      "  \"Details: \\n%r\" % (error_score, e), FitFailedWarning)\n"
     ]
    },
    {
     "name": "stdout",
     "output_type": "stream",
     "text": [
      "[CV]  C=0.0001, class_weight=balanced, penalty=l2, tol=1, score=0.25692695214105793, total=   0.1s\n",
      "[CV] C=0.0001, class_weight=balanced, penalty=l2, tol=1 ..............\n",
      "[CV]  C=0.0001, class_weight=balanced, penalty=l2, tol=1, score=0.25695611577964517, total=   0.1s\n",
      "[CV] C=0.0001, class_weight=None, penalty=l1, tol=0.0001 .............\n",
      "[CV]  C=0.0001, class_weight=None, penalty=l1, tol=0.0001, score=0, total=   0.0s\n",
      "[CV] C=0.0001, class_weight=None, penalty=l1, tol=0.0001 .............\n",
      "[CV]  C=0.0001, class_weight=None, penalty=l1, tol=0.0001, score=0, total=   0.0s\n",
      "[CV] C=0.0001, class_weight=None, penalty=l1, tol=0.0001 .............\n",
      "[CV]  C=0.0001, class_weight=None, penalty=l1, tol=0.0001, score=0, total=   0.0s\n",
      "[CV] C=0.0001, class_weight=None, penalty=l1, tol=0.0001 .............\n"
     ]
    },
    {
     "name": "stderr",
     "output_type": "stream",
     "text": [
      "/Library/Frameworks/Python.framework/Versions/3.6/lib/python3.6/site-packages/sklearn/model_selection/_validation.py:479: FitFailedWarning: Classifier fit failed. The score on this train-test partition for these parameters will be set to 0.000000. Details: \n",
      "ValueError(\"Unsupported set of arguments: The combination of penalty='l1' and loss='squared_hinge' are not supported when dual=True, Parameters: penalty='l1', loss='squared_hinge', dual=True\",)\n",
      "  \"Details: \\n%r\" % (error_score, e), FitFailedWarning)\n",
      "/Library/Frameworks/Python.framework/Versions/3.6/lib/python3.6/site-packages/sklearn/model_selection/_validation.py:479: FitFailedWarning: Classifier fit failed. The score on this train-test partition for these parameters will be set to 0.000000. Details: \n",
      "ValueError(\"Unsupported set of arguments: The combination of penalty='l1' and loss='squared_hinge' are not supported when dual=True, Parameters: penalty='l1', loss='squared_hinge', dual=True\",)\n",
      "  \"Details: \\n%r\" % (error_score, e), FitFailedWarning)\n",
      "/Library/Frameworks/Python.framework/Versions/3.6/lib/python3.6/site-packages/sklearn/model_selection/_validation.py:479: FitFailedWarning: Classifier fit failed. The score on this train-test partition for these parameters will be set to 0.000000. Details: \n",
      "ValueError(\"Unsupported set of arguments: The combination of penalty='l1' and loss='squared_hinge' are not supported when dual=True, Parameters: penalty='l1', loss='squared_hinge', dual=True\",)\n",
      "  \"Details: \\n%r\" % (error_score, e), FitFailedWarning)\n",
      "/Library/Frameworks/Python.framework/Versions/3.6/lib/python3.6/site-packages/sklearn/model_selection/_validation.py:479: FitFailedWarning: Classifier fit failed. The score on this train-test partition for these parameters will be set to 0.000000. Details: \n",
      "ValueError(\"Unsupported set of arguments: The combination of penalty='l1' and loss='squared_hinge' are not supported when dual=True, Parameters: penalty='l1', loss='squared_hinge', dual=True\",)\n",
      "  \"Details: \\n%r\" % (error_score, e), FitFailedWarning)\n",
      "/Library/Frameworks/Python.framework/Versions/3.6/lib/python3.6/site-packages/sklearn/model_selection/_validation.py:479: FitFailedWarning: Classifier fit failed. The score on this train-test partition for these parameters will be set to 0.000000. Details: \n",
      "ValueError(\"Unsupported set of arguments: The combination of penalty='l1' and loss='squared_hinge' are not supported when dual=True, Parameters: penalty='l1', loss='squared_hinge', dual=True\",)\n",
      "  \"Details: \\n%r\" % (error_score, e), FitFailedWarning)\n"
     ]
    },
    {
     "name": "stdout",
     "output_type": "stream",
     "text": [
      "[CV]  C=0.0001, class_weight=None, penalty=l1, tol=0.0001, score=0, total=   0.0s\n",
      "[CV] C=0.0001, class_weight=None, penalty=l1, tol=0.0001 .............\n",
      "[CV]  C=0.0001, class_weight=None, penalty=l1, tol=0.0001, score=0, total=   0.0s\n",
      "[CV] C=0.0001, class_weight=None, penalty=l1, tol=0.001 ..............\n",
      "[CV]  C=0.0001, class_weight=None, penalty=l1, tol=0.001, score=0, total=   0.0s\n",
      "[CV] C=0.0001, class_weight=None, penalty=l1, tol=0.001 ..............\n",
      "[CV]  C=0.0001, class_weight=None, penalty=l1, tol=0.001, score=0, total=   0.0s\n",
      "[CV] C=0.0001, class_weight=None, penalty=l1, tol=0.001 ..............\n",
      "[CV]  C=0.0001, class_weight=None, penalty=l1, tol=0.001, score=0, total=   0.0s\n",
      "[CV] C=0.0001, class_weight=None, penalty=l1, tol=0.001 ..............\n"
     ]
    },
    {
     "name": "stderr",
     "output_type": "stream",
     "text": [
      "/Library/Frameworks/Python.framework/Versions/3.6/lib/python3.6/site-packages/sklearn/model_selection/_validation.py:479: FitFailedWarning: Classifier fit failed. The score on this train-test partition for these parameters will be set to 0.000000. Details: \n",
      "ValueError(\"Unsupported set of arguments: The combination of penalty='l1' and loss='squared_hinge' are not supported when dual=True, Parameters: penalty='l1', loss='squared_hinge', dual=True\",)\n",
      "  \"Details: \\n%r\" % (error_score, e), FitFailedWarning)\n",
      "/Library/Frameworks/Python.framework/Versions/3.6/lib/python3.6/site-packages/sklearn/model_selection/_validation.py:479: FitFailedWarning: Classifier fit failed. The score on this train-test partition for these parameters will be set to 0.000000. Details: \n",
      "ValueError(\"Unsupported set of arguments: The combination of penalty='l1' and loss='squared_hinge' are not supported when dual=True, Parameters: penalty='l1', loss='squared_hinge', dual=True\",)\n",
      "  \"Details: \\n%r\" % (error_score, e), FitFailedWarning)\n",
      "/Library/Frameworks/Python.framework/Versions/3.6/lib/python3.6/site-packages/sklearn/model_selection/_validation.py:479: FitFailedWarning: Classifier fit failed. The score on this train-test partition for these parameters will be set to 0.000000. Details: \n",
      "ValueError(\"Unsupported set of arguments: The combination of penalty='l1' and loss='squared_hinge' are not supported when dual=True, Parameters: penalty='l1', loss='squared_hinge', dual=True\",)\n",
      "  \"Details: \\n%r\" % (error_score, e), FitFailedWarning)\n",
      "/Library/Frameworks/Python.framework/Versions/3.6/lib/python3.6/site-packages/sklearn/model_selection/_validation.py:479: FitFailedWarning: Classifier fit failed. The score on this train-test partition for these parameters will be set to 0.000000. Details: \n",
      "ValueError(\"Unsupported set of arguments: The combination of penalty='l1' and loss='squared_hinge' are not supported when dual=True, Parameters: penalty='l1', loss='squared_hinge', dual=True\",)\n",
      "  \"Details: \\n%r\" % (error_score, e), FitFailedWarning)\n",
      "/Library/Frameworks/Python.framework/Versions/3.6/lib/python3.6/site-packages/sklearn/model_selection/_validation.py:479: FitFailedWarning: Classifier fit failed. The score on this train-test partition for these parameters will be set to 0.000000. Details: \n",
      "ValueError(\"Unsupported set of arguments: The combination of penalty='l1' and loss='squared_hinge' are not supported when dual=True, Parameters: penalty='l1', loss='squared_hinge', dual=True\",)\n",
      "  \"Details: \\n%r\" % (error_score, e), FitFailedWarning)\n",
      "/Library/Frameworks/Python.framework/Versions/3.6/lib/python3.6/site-packages/sklearn/model_selection/_validation.py:479: FitFailedWarning: Classifier fit failed. The score on this train-test partition for these parameters will be set to 0.000000. Details: \n",
      "ValueError(\"Unsupported set of arguments: The combination of penalty='l1' and loss='squared_hinge' are not supported when dual=True, Parameters: penalty='l1', loss='squared_hinge', dual=True\",)\n",
      "  \"Details: \\n%r\" % (error_score, e), FitFailedWarning)\n",
      "/Library/Frameworks/Python.framework/Versions/3.6/lib/python3.6/site-packages/sklearn/model_selection/_validation.py:479: FitFailedWarning: Classifier fit failed. The score on this train-test partition for these parameters will be set to 0.000000. Details: \n",
      "ValueError(\"Unsupported set of arguments: The combination of penalty='l1' and loss='squared_hinge' are not supported when dual=True, Parameters: penalty='l1', loss='squared_hinge', dual=True\",)\n",
      "  \"Details: \\n%r\" % (error_score, e), FitFailedWarning)\n"
     ]
    },
    {
     "name": "stdout",
     "output_type": "stream",
     "text": [
      "[CV]  C=0.0001, class_weight=None, penalty=l1, tol=0.001, score=0, total=   0.0s\n",
      "[CV] C=0.0001, class_weight=None, penalty=l1, tol=0.001 ..............\n",
      "[CV]  C=0.0001, class_weight=None, penalty=l1, tol=0.001, score=0, total=   0.0s\n",
      "[CV] C=0.0001, class_weight=None, penalty=l1, tol=0.01 ...............\n",
      "[CV]  C=0.0001, class_weight=None, penalty=l1, tol=0.01, score=0, total=   0.0s\n",
      "[CV] C=0.0001, class_weight=None, penalty=l1, tol=0.01 ...............\n",
      "[CV]  C=0.0001, class_weight=None, penalty=l1, tol=0.01, score=0, total=   0.0s\n",
      "[CV] C=0.0001, class_weight=None, penalty=l1, tol=0.01 ...............\n",
      "[CV]  C=0.0001, class_weight=None, penalty=l1, tol=0.01, score=0, total=   0.0s\n",
      "[CV] C=0.0001, class_weight=None, penalty=l1, tol=0.01 ...............\n",
      "[CV]  C=0.0001, class_weight=None, penalty=l1, tol=0.01, score=0, total=   0.0s\n",
      "[CV] C=0.0001, class_weight=None, penalty=l1, tol=0.01 ...............\n",
      "[CV]  C=0.0001, class_weight=None, penalty=l1, tol=0.01, score=0, total=   0.0s"
     ]
    },
    {
     "name": "stderr",
     "output_type": "stream",
     "text": [
      "/Library/Frameworks/Python.framework/Versions/3.6/lib/python3.6/site-packages/sklearn/model_selection/_validation.py:479: FitFailedWarning: Classifier fit failed. The score on this train-test partition for these parameters will be set to 0.000000. Details: \n",
      "ValueError(\"Unsupported set of arguments: The combination of penalty='l1' and loss='squared_hinge' are not supported when dual=True, Parameters: penalty='l1', loss='squared_hinge', dual=True\",)\n",
      "  \"Details: \\n%r\" % (error_score, e), FitFailedWarning)\n",
      "/Library/Frameworks/Python.framework/Versions/3.6/lib/python3.6/site-packages/sklearn/model_selection/_validation.py:479: FitFailedWarning: Classifier fit failed. The score on this train-test partition for these parameters will be set to 0.000000. Details: \n",
      "ValueError(\"Unsupported set of arguments: The combination of penalty='l1' and loss='squared_hinge' are not supported when dual=True, Parameters: penalty='l1', loss='squared_hinge', dual=True\",)\n",
      "  \"Details: \\n%r\" % (error_score, e), FitFailedWarning)\n",
      "/Library/Frameworks/Python.framework/Versions/3.6/lib/python3.6/site-packages/sklearn/model_selection/_validation.py:479: FitFailedWarning: Classifier fit failed. The score on this train-test partition for these parameters will be set to 0.000000. Details: \n",
      "ValueError(\"Unsupported set of arguments: The combination of penalty='l1' and loss='squared_hinge' are not supported when dual=True, Parameters: penalty='l1', loss='squared_hinge', dual=True\",)\n",
      "  \"Details: \\n%r\" % (error_score, e), FitFailedWarning)\n",
      "/Library/Frameworks/Python.framework/Versions/3.6/lib/python3.6/site-packages/sklearn/model_selection/_validation.py:479: FitFailedWarning: Classifier fit failed. The score on this train-test partition for these parameters will be set to 0.000000. Details: \n",
      "ValueError(\"Unsupported set of arguments: The combination of penalty='l1' and loss='squared_hinge' are not supported when dual=True, Parameters: penalty='l1', loss='squared_hinge', dual=True\",)\n",
      "  \"Details: \\n%r\" % (error_score, e), FitFailedWarning)\n",
      "/Library/Frameworks/Python.framework/Versions/3.6/lib/python3.6/site-packages/sklearn/model_selection/_validation.py:479: FitFailedWarning: Classifier fit failed. The score on this train-test partition for these parameters will be set to 0.000000. Details: \n",
      "ValueError(\"Unsupported set of arguments: The combination of penalty='l1' and loss='squared_hinge' are not supported when dual=True, Parameters: penalty='l1', loss='squared_hinge', dual=True\",)\n",
      "  \"Details: \\n%r\" % (error_score, e), FitFailedWarning)\n",
      "/Library/Frameworks/Python.framework/Versions/3.6/lib/python3.6/site-packages/sklearn/model_selection/_validation.py:479: FitFailedWarning: Classifier fit failed. The score on this train-test partition for these parameters will be set to 0.000000. Details: \n",
      "ValueError(\"Unsupported set of arguments: The combination of penalty='l1' and loss='squared_hinge' are not supported when dual=True, Parameters: penalty='l1', loss='squared_hinge', dual=True\",)\n",
      "  \"Details: \\n%r\" % (error_score, e), FitFailedWarning)\n",
      "/Library/Frameworks/Python.framework/Versions/3.6/lib/python3.6/site-packages/sklearn/model_selection/_validation.py:479: FitFailedWarning: Classifier fit failed. The score on this train-test partition for these parameters will be set to 0.000000. Details: \n",
      "ValueError(\"Unsupported set of arguments: The combination of penalty='l1' and loss='squared_hinge' are not supported when dual=True, Parameters: penalty='l1', loss='squared_hinge', dual=True\",)\n",
      "  \"Details: \\n%r\" % (error_score, e), FitFailedWarning)\n"
     ]
    },
    {
     "name": "stdout",
     "output_type": "stream",
     "text": [
      "\n",
      "[CV] C=0.0001, class_weight=None, penalty=l1, tol=0.1 ................\n",
      "[CV]  C=0.0001, class_weight=None, penalty=l1, tol=0.1, score=0, total=   0.0s\n",
      "[CV] C=0.0001, class_weight=None, penalty=l1, tol=0.1 ................\n",
      "[CV]  C=0.0001, class_weight=None, penalty=l1, tol=0.1, score=0, total=   0.0s\n",
      "[CV] C=0.0001, class_weight=None, penalty=l1, tol=0.1 ................\n",
      "[CV]  C=0.0001, class_weight=None, penalty=l1, tol=0.1, score=0, total=   0.0s\n",
      "[CV] C=0.0001, class_weight=None, penalty=l1, tol=0.1 ................\n",
      "[CV]  C=0.0001, class_weight=None, penalty=l1, tol=0.1, score=0, total=   0.0s\n",
      "[CV] C=0.0001, class_weight=None, penalty=l1, tol=0.1 ................\n",
      "[CV]  C=0.0001, class_weight=None, penalty=l1, tol=0.1, score=0, total=   0.0s\n",
      "[CV] C=0.0001, class_weight=None, penalty=l1, tol=1 ..................\n",
      "[CV]  C=0.0001, class_weight=None, penalty=l1, tol=1, score=0, total=   0.0s\n",
      "[CV] C=0.0001, class_weight=None, penalty=l1, tol=1 ..................\n",
      "[CV]  C=0.0001, class_weight=None, penalty=l1, tol=1, score=0, total=   0.0s\n",
      "[CV] C=0.0001, class_weight=None, penalty=l1, tol=1 ..................\n"
     ]
    },
    {
     "name": "stderr",
     "output_type": "stream",
     "text": [
      "/Library/Frameworks/Python.framework/Versions/3.6/lib/python3.6/site-packages/sklearn/model_selection/_validation.py:479: FitFailedWarning: Classifier fit failed. The score on this train-test partition for these parameters will be set to 0.000000. Details: \n",
      "ValueError(\"Unsupported set of arguments: The combination of penalty='l1' and loss='squared_hinge' are not supported when dual=True, Parameters: penalty='l1', loss='squared_hinge', dual=True\",)\n",
      "  \"Details: \\n%r\" % (error_score, e), FitFailedWarning)\n",
      "/Library/Frameworks/Python.framework/Versions/3.6/lib/python3.6/site-packages/sklearn/model_selection/_validation.py:479: FitFailedWarning: Classifier fit failed. The score on this train-test partition for these parameters will be set to 0.000000. Details: \n",
      "ValueError(\"Unsupported set of arguments: The combination of penalty='l1' and loss='squared_hinge' are not supported when dual=True, Parameters: penalty='l1', loss='squared_hinge', dual=True\",)\n",
      "  \"Details: \\n%r\" % (error_score, e), FitFailedWarning)\n",
      "/Library/Frameworks/Python.framework/Versions/3.6/lib/python3.6/site-packages/sklearn/model_selection/_validation.py:479: FitFailedWarning: Classifier fit failed. The score on this train-test partition for these parameters will be set to 0.000000. Details: \n",
      "ValueError(\"Unsupported set of arguments: The combination of penalty='l1' and loss='squared_hinge' are not supported when dual=True, Parameters: penalty='l1', loss='squared_hinge', dual=True\",)\n",
      "  \"Details: \\n%r\" % (error_score, e), FitFailedWarning)\n"
     ]
    },
    {
     "name": "stdout",
     "output_type": "stream",
     "text": [
      "[CV]  C=0.0001, class_weight=None, penalty=l1, tol=1, score=0, total=   0.0s\n",
      "[CV] C=0.0001, class_weight=None, penalty=l1, tol=1 ..................\n",
      "[CV]  C=0.0001, class_weight=None, penalty=l1, tol=1, score=0, total=   0.0s\n",
      "[CV] C=0.0001, class_weight=None, penalty=l1, tol=1 ..................\n",
      "[CV]  C=0.0001, class_weight=None, penalty=l1, tol=1, score=0, total=   0.0s\n",
      "[CV] C=0.0001, class_weight=None, penalty=l2, tol=0.0001 .............\n"
     ]
    },
    {
     "name": "stderr",
     "output_type": "stream",
     "text": [
      "/Library/Frameworks/Python.framework/Versions/3.6/lib/python3.6/site-packages/sklearn/metrics/classification.py:1135: UndefinedMetricWarning: F-score is ill-defined and being set to 0.0 in labels with no predicted samples.\n",
      "  'precision', 'predicted', average, warn_for)\n"
     ]
    },
    {
     "name": "stdout",
     "output_type": "stream",
     "text": [
      "[CV]  C=0.0001, class_weight=None, penalty=l2, tol=0.0001, score=0.2568550643536654, total=   0.3s\n",
      "[CV] C=0.0001, class_weight=None, penalty=l2, tol=0.0001 .............\n"
     ]
    },
    {
     "name": "stderr",
     "output_type": "stream",
     "text": [
      "/Library/Frameworks/Python.framework/Versions/3.6/lib/python3.6/site-packages/sklearn/metrics/classification.py:1135: UndefinedMetricWarning: F-score is ill-defined and being set to 0.0 in labels with no predicted samples.\n",
      "  'precision', 'predicted', average, warn_for)\n"
     ]
    },
    {
     "name": "stdout",
     "output_type": "stream",
     "text": [
      "[CV]  C=0.0001, class_weight=None, penalty=l2, tol=0.0001, score=0.2568550643536654, total=   0.3s\n",
      "[CV] C=0.0001, class_weight=None, penalty=l2, tol=0.0001 .............\n"
     ]
    },
    {
     "name": "stderr",
     "output_type": "stream",
     "text": [
      "/Library/Frameworks/Python.framework/Versions/3.6/lib/python3.6/site-packages/sklearn/metrics/classification.py:1135: UndefinedMetricWarning: F-score is ill-defined and being set to 0.0 in labels with no predicted samples.\n",
      "  'precision', 'predicted', average, warn_for)\n"
     ]
    },
    {
     "name": "stdout",
     "output_type": "stream",
     "text": [
      "[CV]  C=0.0001, class_weight=None, penalty=l2, tol=0.0001, score=0.25692695214105793, total=   0.3s\n",
      "[CV] C=0.0001, class_weight=None, penalty=l2, tol=0.0001 .............\n"
     ]
    },
    {
     "name": "stderr",
     "output_type": "stream",
     "text": [
      "/Library/Frameworks/Python.framework/Versions/3.6/lib/python3.6/site-packages/sklearn/metrics/classification.py:1135: UndefinedMetricWarning: F-score is ill-defined and being set to 0.0 in labels with no predicted samples.\n",
      "  'precision', 'predicted', average, warn_for)\n"
     ]
    },
    {
     "name": "stdout",
     "output_type": "stream",
     "text": [
      "[CV]  C=0.0001, class_weight=None, penalty=l2, tol=0.0001, score=0.25692695214105793, total=   0.3s\n",
      "[CV] C=0.0001, class_weight=None, penalty=l2, tol=0.0001 .............\n"
     ]
    },
    {
     "name": "stderr",
     "output_type": "stream",
     "text": [
      "/Library/Frameworks/Python.framework/Versions/3.6/lib/python3.6/site-packages/sklearn/metrics/classification.py:1135: UndefinedMetricWarning: F-score is ill-defined and being set to 0.0 in labels with no predicted samples.\n",
      "  'precision', 'predicted', average, warn_for)\n"
     ]
    },
    {
     "name": "stdout",
     "output_type": "stream",
     "text": [
      "[CV]  C=0.0001, class_weight=None, penalty=l2, tol=0.0001, score=0.25695611577964517, total=   0.3s\n",
      "[CV] C=0.0001, class_weight=None, penalty=l2, tol=0.001 ..............\n"
     ]
    },
    {
     "name": "stderr",
     "output_type": "stream",
     "text": [
      "/Library/Frameworks/Python.framework/Versions/3.6/lib/python3.6/site-packages/sklearn/metrics/classification.py:1135: UndefinedMetricWarning: F-score is ill-defined and being set to 0.0 in labels with no predicted samples.\n",
      "  'precision', 'predicted', average, warn_for)\n"
     ]
    },
    {
     "name": "stdout",
     "output_type": "stream",
     "text": [
      "[CV]  C=0.0001, class_weight=None, penalty=l2, tol=0.001, score=0.2568550643536654, total=   0.3s\n",
      "[CV] C=0.0001, class_weight=None, penalty=l2, tol=0.001 ..............\n"
     ]
    },
    {
     "name": "stderr",
     "output_type": "stream",
     "text": [
      "/Library/Frameworks/Python.framework/Versions/3.6/lib/python3.6/site-packages/sklearn/metrics/classification.py:1135: UndefinedMetricWarning: F-score is ill-defined and being set to 0.0 in labels with no predicted samples.\n",
      "  'precision', 'predicted', average, warn_for)\n"
     ]
    },
    {
     "name": "stdout",
     "output_type": "stream",
     "text": [
      "[CV]  C=0.0001, class_weight=None, penalty=l2, tol=0.001, score=0.2568550643536654, total=   0.3s\n",
      "[CV] C=0.0001, class_weight=None, penalty=l2, tol=0.001 ..............\n"
     ]
    },
    {
     "name": "stderr",
     "output_type": "stream",
     "text": [
      "/Library/Frameworks/Python.framework/Versions/3.6/lib/python3.6/site-packages/sklearn/metrics/classification.py:1135: UndefinedMetricWarning: F-score is ill-defined and being set to 0.0 in labels with no predicted samples.\n",
      "  'precision', 'predicted', average, warn_for)\n"
     ]
    },
    {
     "name": "stdout",
     "output_type": "stream",
     "text": [
      "[CV]  C=0.0001, class_weight=None, penalty=l2, tol=0.001, score=0.25692695214105793, total=   0.3s\n",
      "[CV] C=0.0001, class_weight=None, penalty=l2, tol=0.001 ..............\n"
     ]
    },
    {
     "name": "stderr",
     "output_type": "stream",
     "text": [
      "/Library/Frameworks/Python.framework/Versions/3.6/lib/python3.6/site-packages/sklearn/metrics/classification.py:1135: UndefinedMetricWarning: F-score is ill-defined and being set to 0.0 in labels with no predicted samples.\n",
      "  'precision', 'predicted', average, warn_for)\n"
     ]
    },
    {
     "name": "stdout",
     "output_type": "stream",
     "text": [
      "[CV]  C=0.0001, class_weight=None, penalty=l2, tol=0.001, score=0.25692695214105793, total=   0.3s\n",
      "[CV] C=0.0001, class_weight=None, penalty=l2, tol=0.001 ..............\n"
     ]
    },
    {
     "name": "stderr",
     "output_type": "stream",
     "text": [
      "/Library/Frameworks/Python.framework/Versions/3.6/lib/python3.6/site-packages/sklearn/metrics/classification.py:1135: UndefinedMetricWarning: F-score is ill-defined and being set to 0.0 in labels with no predicted samples.\n",
      "  'precision', 'predicted', average, warn_for)\n"
     ]
    },
    {
     "name": "stdout",
     "output_type": "stream",
     "text": [
      "[CV]  C=0.0001, class_weight=None, penalty=l2, tol=0.001, score=0.25695611577964517, total=   0.3s\n",
      "[CV] C=0.0001, class_weight=None, penalty=l2, tol=0.01 ...............\n"
     ]
    },
    {
     "name": "stderr",
     "output_type": "stream",
     "text": [
      "/Library/Frameworks/Python.framework/Versions/3.6/lib/python3.6/site-packages/sklearn/metrics/classification.py:1135: UndefinedMetricWarning: F-score is ill-defined and being set to 0.0 in labels with no predicted samples.\n",
      "  'precision', 'predicted', average, warn_for)\n"
     ]
    },
    {
     "name": "stdout",
     "output_type": "stream",
     "text": [
      "[CV]  C=0.0001, class_weight=None, penalty=l2, tol=0.01, score=0.2568550643536654, total=   0.2s\n",
      "[CV] C=0.0001, class_weight=None, penalty=l2, tol=0.01 ...............\n"
     ]
    },
    {
     "name": "stderr",
     "output_type": "stream",
     "text": [
      "/Library/Frameworks/Python.framework/Versions/3.6/lib/python3.6/site-packages/sklearn/metrics/classification.py:1135: UndefinedMetricWarning: F-score is ill-defined and being set to 0.0 in labels with no predicted samples.\n",
      "  'precision', 'predicted', average, warn_for)\n"
     ]
    },
    {
     "name": "stdout",
     "output_type": "stream",
     "text": [
      "[CV]  C=0.0001, class_weight=None, penalty=l2, tol=0.01, score=0.2568550643536654, total=   0.2s\n",
      "[CV] C=0.0001, class_weight=None, penalty=l2, tol=0.01 ...............\n"
     ]
    },
    {
     "name": "stderr",
     "output_type": "stream",
     "text": [
      "/Library/Frameworks/Python.framework/Versions/3.6/lib/python3.6/site-packages/sklearn/metrics/classification.py:1135: UndefinedMetricWarning: F-score is ill-defined and being set to 0.0 in labels with no predicted samples.\n",
      "  'precision', 'predicted', average, warn_for)\n"
     ]
    },
    {
     "name": "stdout",
     "output_type": "stream",
     "text": [
      "[CV]  C=0.0001, class_weight=None, penalty=l2, tol=0.01, score=0.25692695214105793, total=   0.3s\n",
      "[CV] C=0.0001, class_weight=None, penalty=l2, tol=0.01 ...............\n"
     ]
    },
    {
     "name": "stderr",
     "output_type": "stream",
     "text": [
      "/Library/Frameworks/Python.framework/Versions/3.6/lib/python3.6/site-packages/sklearn/metrics/classification.py:1135: UndefinedMetricWarning: F-score is ill-defined and being set to 0.0 in labels with no predicted samples.\n",
      "  'precision', 'predicted', average, warn_for)\n"
     ]
    },
    {
     "name": "stdout",
     "output_type": "stream",
     "text": [
      "[CV]  C=0.0001, class_weight=None, penalty=l2, tol=0.01, score=0.25692695214105793, total=   0.2s\n",
      "[CV] C=0.0001, class_weight=None, penalty=l2, tol=0.01 ...............\n"
     ]
    },
    {
     "name": "stderr",
     "output_type": "stream",
     "text": [
      "/Library/Frameworks/Python.framework/Versions/3.6/lib/python3.6/site-packages/sklearn/metrics/classification.py:1135: UndefinedMetricWarning: F-score is ill-defined and being set to 0.0 in labels with no predicted samples.\n",
      "  'precision', 'predicted', average, warn_for)\n"
     ]
    },
    {
     "name": "stdout",
     "output_type": "stream",
     "text": [
      "[CV]  C=0.0001, class_weight=None, penalty=l2, tol=0.01, score=0.25695611577964517, total=   0.2s\n",
      "[CV] C=0.0001, class_weight=None, penalty=l2, tol=0.1 ................\n"
     ]
    },
    {
     "name": "stderr",
     "output_type": "stream",
     "text": [
      "/Library/Frameworks/Python.framework/Versions/3.6/lib/python3.6/site-packages/sklearn/metrics/classification.py:1135: UndefinedMetricWarning: F-score is ill-defined and being set to 0.0 in labels with no predicted samples.\n",
      "  'precision', 'predicted', average, warn_for)\n",
      "/Library/Frameworks/Python.framework/Versions/3.6/lib/python3.6/site-packages/sklearn/metrics/classification.py:1135: UndefinedMetricWarning: F-score is ill-defined and being set to 0.0 in labels with no predicted samples.\n",
      "  'precision', 'predicted', average, warn_for)\n"
     ]
    },
    {
     "name": "stdout",
     "output_type": "stream",
     "text": [
      "[CV]  C=0.0001, class_weight=None, penalty=l2, tol=0.1, score=0.2568550643536654, total=   0.2s\n",
      "[CV] C=0.0001, class_weight=None, penalty=l2, tol=0.1 ................\n",
      "[CV]  C=0.0001, class_weight=None, penalty=l2, tol=0.1, score=0.2568550643536654, total=   0.2s\n",
      "[CV] C=0.0001, class_weight=None, penalty=l2, tol=0.1 ................\n"
     ]
    },
    {
     "name": "stderr",
     "output_type": "stream",
     "text": [
      "/Library/Frameworks/Python.framework/Versions/3.6/lib/python3.6/site-packages/sklearn/metrics/classification.py:1135: UndefinedMetricWarning: F-score is ill-defined and being set to 0.0 in labels with no predicted samples.\n",
      "  'precision', 'predicted', average, warn_for)\n"
     ]
    },
    {
     "name": "stdout",
     "output_type": "stream",
     "text": [
      "[CV]  C=0.0001, class_weight=None, penalty=l2, tol=0.1, score=0.25692695214105793, total=   0.2s\n",
      "[CV] C=0.0001, class_weight=None, penalty=l2, tol=0.1 ................\n"
     ]
    },
    {
     "name": "stderr",
     "output_type": "stream",
     "text": [
      "/Library/Frameworks/Python.framework/Versions/3.6/lib/python3.6/site-packages/sklearn/metrics/classification.py:1135: UndefinedMetricWarning: F-score is ill-defined and being set to 0.0 in labels with no predicted samples.\n",
      "  'precision', 'predicted', average, warn_for)\n",
      "/Library/Frameworks/Python.framework/Versions/3.6/lib/python3.6/site-packages/sklearn/metrics/classification.py:1135: UndefinedMetricWarning: F-score is ill-defined and being set to 0.0 in labels with no predicted samples.\n",
      "  'precision', 'predicted', average, warn_for)\n"
     ]
    },
    {
     "name": "stdout",
     "output_type": "stream",
     "text": [
      "[CV]  C=0.0001, class_weight=None, penalty=l2, tol=0.1, score=0.25692695214105793, total=   0.2s\n",
      "[CV] C=0.0001, class_weight=None, penalty=l2, tol=0.1 ................\n",
      "[CV]  C=0.0001, class_weight=None, penalty=l2, tol=0.1, score=0.25695611577964517, total=   0.2s\n",
      "[CV] C=0.0001, class_weight=None, penalty=l2, tol=1 ..................\n"
     ]
    },
    {
     "name": "stderr",
     "output_type": "stream",
     "text": [
      "/Library/Frameworks/Python.framework/Versions/3.6/lib/python3.6/site-packages/sklearn/metrics/classification.py:1135: UndefinedMetricWarning: F-score is ill-defined and being set to 0.0 in labels with no predicted samples.\n",
      "  'precision', 'predicted', average, warn_for)\n",
      "/Library/Frameworks/Python.framework/Versions/3.6/lib/python3.6/site-packages/sklearn/metrics/classification.py:1135: UndefinedMetricWarning: F-score is ill-defined and being set to 0.0 in labels with no predicted samples.\n",
      "  'precision', 'predicted', average, warn_for)\n"
     ]
    },
    {
     "name": "stdout",
     "output_type": "stream",
     "text": [
      "[CV]  C=0.0001, class_weight=None, penalty=l2, tol=1, score=0.2568550643536654, total=   0.1s\n",
      "[CV] C=0.0001, class_weight=None, penalty=l2, tol=1 ..................\n",
      "[CV]  C=0.0001, class_weight=None, penalty=l2, tol=1, score=0.2568550643536654, total=   0.1s\n",
      "[CV] C=0.0001, class_weight=None, penalty=l2, tol=1 ..................\n"
     ]
    },
    {
     "name": "stderr",
     "output_type": "stream",
     "text": [
      "/Library/Frameworks/Python.framework/Versions/3.6/lib/python3.6/site-packages/sklearn/metrics/classification.py:1135: UndefinedMetricWarning: F-score is ill-defined and being set to 0.0 in labels with no predicted samples.\n",
      "  'precision', 'predicted', average, warn_for)\n",
      "/Library/Frameworks/Python.framework/Versions/3.6/lib/python3.6/site-packages/sklearn/metrics/classification.py:1135: UndefinedMetricWarning: F-score is ill-defined and being set to 0.0 in labels with no predicted samples.\n",
      "  'precision', 'predicted', average, warn_for)\n"
     ]
    },
    {
     "name": "stdout",
     "output_type": "stream",
     "text": [
      "[CV]  C=0.0001, class_weight=None, penalty=l2, tol=1, score=0.25692695214105793, total=   0.1s\n",
      "[CV] C=0.0001, class_weight=None, penalty=l2, tol=1 ..................\n",
      "[CV]  C=0.0001, class_weight=None, penalty=l2, tol=1, score=0.25692695214105793, total=   0.2s\n",
      "[CV] C=0.0001, class_weight=None, penalty=l2, tol=1 ..................\n"
     ]
    },
    {
     "name": "stderr",
     "output_type": "stream",
     "text": [
      "/Library/Frameworks/Python.framework/Versions/3.6/lib/python3.6/site-packages/sklearn/metrics/classification.py:1135: UndefinedMetricWarning: F-score is ill-defined and being set to 0.0 in labels with no predicted samples.\n",
      "  'precision', 'predicted', average, warn_for)\n",
      "/Library/Frameworks/Python.framework/Versions/3.6/lib/python3.6/site-packages/sklearn/model_selection/_validation.py:479: FitFailedWarning: Classifier fit failed. The score on this train-test partition for these parameters will be set to 0.000000. Details: \n",
      "ValueError(\"Unsupported set of arguments: The combination of penalty='l1' and loss='squared_hinge' are not supported when dual=True, Parameters: penalty='l1', loss='squared_hinge', dual=True\",)\n",
      "  \"Details: \\n%r\" % (error_score, e), FitFailedWarning)\n",
      "/Library/Frameworks/Python.framework/Versions/3.6/lib/python3.6/site-packages/sklearn/model_selection/_validation.py:479: FitFailedWarning: Classifier fit failed. The score on this train-test partition for these parameters will be set to 0.000000. Details: \n",
      "ValueError(\"Unsupported set of arguments: The combination of penalty='l1' and loss='squared_hinge' are not supported when dual=True, Parameters: penalty='l1', loss='squared_hinge', dual=True\",)\n",
      "  \"Details: \\n%r\" % (error_score, e), FitFailedWarning)\n",
      "/Library/Frameworks/Python.framework/Versions/3.6/lib/python3.6/site-packages/sklearn/model_selection/_validation.py:479: FitFailedWarning: Classifier fit failed. The score on this train-test partition for these parameters will be set to 0.000000. Details: \n",
      "ValueError(\"Unsupported set of arguments: The combination of penalty='l1' and loss='squared_hinge' are not supported when dual=True, Parameters: penalty='l1', loss='squared_hinge', dual=True\",)\n",
      "  \"Details: \\n%r\" % (error_score, e), FitFailedWarning)\n",
      "/Library/Frameworks/Python.framework/Versions/3.6/lib/python3.6/site-packages/sklearn/model_selection/_validation.py:479: FitFailedWarning: Classifier fit failed. The score on this train-test partition for these parameters will be set to 0.000000. Details: \n",
      "ValueError(\"Unsupported set of arguments: The combination of penalty='l1' and loss='squared_hinge' are not supported when dual=True, Parameters: penalty='l1', loss='squared_hinge', dual=True\",)\n",
      "  \"Details: \\n%r\" % (error_score, e), FitFailedWarning)\n",
      "/Library/Frameworks/Python.framework/Versions/3.6/lib/python3.6/site-packages/sklearn/model_selection/_validation.py:479: FitFailedWarning: Classifier fit failed. The score on this train-test partition for these parameters will be set to 0.000000. Details: \n",
      "ValueError(\"Unsupported set of arguments: The combination of penalty='l1' and loss='squared_hinge' are not supported when dual=True, Parameters: penalty='l1', loss='squared_hinge', dual=True\",)\n",
      "  \"Details: \\n%r\" % (error_score, e), FitFailedWarning)\n"
     ]
    },
    {
     "name": "stdout",
     "output_type": "stream",
     "text": [
      "[CV]  C=0.0001, class_weight=None, penalty=l2, tol=1, score=0.25695611577964517, total=   0.2s\n",
      "[CV] C=0.001, class_weight=balanced, penalty=l1, tol=0.0001 ..........\n",
      "[CV]  C=0.001, class_weight=balanced, penalty=l1, tol=0.0001, score=0, total=   0.0s\n",
      "[CV] C=0.001, class_weight=balanced, penalty=l1, tol=0.0001 ..........\n",
      "[CV]  C=0.001, class_weight=balanced, penalty=l1, tol=0.0001, score=0, total=   0.0s\n",
      "[CV] C=0.001, class_weight=balanced, penalty=l1, tol=0.0001 ..........\n",
      "[CV]  C=0.001, class_weight=balanced, penalty=l1, tol=0.0001, score=0, total=   0.0s\n",
      "[CV] C=0.001, class_weight=balanced, penalty=l1, tol=0.0001 ..........\n",
      "[CV]  C=0.001, class_weight=balanced, penalty=l1, tol=0.0001, score=0, total=   0.0s\n",
      "[CV] C=0.001, class_weight=balanced, penalty=l1, tol=0.0001 ..........\n",
      "[CV]  C=0.001, class_weight=balanced, penalty=l1, tol=0.0001, score=0, total=   0.0s\n",
      "[CV] C=0.001, class_weight=balanced, penalty=l1, tol=0.001 ...........\n"
     ]
    },
    {
     "name": "stderr",
     "output_type": "stream",
     "text": [
      "/Library/Frameworks/Python.framework/Versions/3.6/lib/python3.6/site-packages/sklearn/model_selection/_validation.py:479: FitFailedWarning: Classifier fit failed. The score on this train-test partition for these parameters will be set to 0.000000. Details: \n",
      "ValueError(\"Unsupported set of arguments: The combination of penalty='l1' and loss='squared_hinge' are not supported when dual=True, Parameters: penalty='l1', loss='squared_hinge', dual=True\",)\n",
      "  \"Details: \\n%r\" % (error_score, e), FitFailedWarning)\n",
      "/Library/Frameworks/Python.framework/Versions/3.6/lib/python3.6/site-packages/sklearn/model_selection/_validation.py:479: FitFailedWarning: Classifier fit failed. The score on this train-test partition for these parameters will be set to 0.000000. Details: \n",
      "ValueError(\"Unsupported set of arguments: The combination of penalty='l1' and loss='squared_hinge' are not supported when dual=True, Parameters: penalty='l1', loss='squared_hinge', dual=True\",)\n",
      "  \"Details: \\n%r\" % (error_score, e), FitFailedWarning)\n",
      "/Library/Frameworks/Python.framework/Versions/3.6/lib/python3.6/site-packages/sklearn/model_selection/_validation.py:479: FitFailedWarning: Classifier fit failed. The score on this train-test partition for these parameters will be set to 0.000000. Details: \n",
      "ValueError(\"Unsupported set of arguments: The combination of penalty='l1' and loss='squared_hinge' are not supported when dual=True, Parameters: penalty='l1', loss='squared_hinge', dual=True\",)\n",
      "  \"Details: \\n%r\" % (error_score, e), FitFailedWarning)\n",
      "/Library/Frameworks/Python.framework/Versions/3.6/lib/python3.6/site-packages/sklearn/model_selection/_validation.py:479: FitFailedWarning: Classifier fit failed. The score on this train-test partition for these parameters will be set to 0.000000. Details: \n",
      "ValueError(\"Unsupported set of arguments: The combination of penalty='l1' and loss='squared_hinge' are not supported when dual=True, Parameters: penalty='l1', loss='squared_hinge', dual=True\",)\n",
      "  \"Details: \\n%r\" % (error_score, e), FitFailedWarning)\n",
      "/Library/Frameworks/Python.framework/Versions/3.6/lib/python3.6/site-packages/sklearn/model_selection/_validation.py:479: FitFailedWarning: Classifier fit failed. The score on this train-test partition for these parameters will be set to 0.000000. Details: \n",
      "ValueError(\"Unsupported set of arguments: The combination of penalty='l1' and loss='squared_hinge' are not supported when dual=True, Parameters: penalty='l1', loss='squared_hinge', dual=True\",)\n",
      "  \"Details: \\n%r\" % (error_score, e), FitFailedWarning)\n",
      "/Library/Frameworks/Python.framework/Versions/3.6/lib/python3.6/site-packages/sklearn/model_selection/_validation.py:479: FitFailedWarning: Classifier fit failed. The score on this train-test partition for these parameters will be set to 0.000000. Details: \n",
      "ValueError(\"Unsupported set of arguments: The combination of penalty='l1' and loss='squared_hinge' are not supported when dual=True, Parameters: penalty='l1', loss='squared_hinge', dual=True\",)\n",
      "  \"Details: \\n%r\" % (error_score, e), FitFailedWarning)\n"
     ]
    },
    {
     "name": "stdout",
     "output_type": "stream",
     "text": [
      "[CV]  C=0.001, class_weight=balanced, penalty=l1, tol=0.001, score=0, total=   0.0s\n",
      "[CV] C=0.001, class_weight=balanced, penalty=l1, tol=0.001 ...........\n",
      "[CV]  C=0.001, class_weight=balanced, penalty=l1, tol=0.001, score=0, total=   0.0s\n",
      "[CV] C=0.001, class_weight=balanced, penalty=l1, tol=0.001 ...........\n",
      "[CV]  C=0.001, class_weight=balanced, penalty=l1, tol=0.001, score=0, total=   0.0s\n",
      "[CV] C=0.001, class_weight=balanced, penalty=l1, tol=0.001 ...........\n",
      "[CV]  C=0.001, class_weight=balanced, penalty=l1, tol=0.001, score=0, total=   0.0s\n",
      "[CV] C=0.001, class_weight=balanced, penalty=l1, tol=0.001 ...........\n",
      "[CV]  C=0.001, class_weight=balanced, penalty=l1, tol=0.001, score=0, total=   0.0s\n",
      "[CV] C=0.001, class_weight=balanced, penalty=l1, tol=0.01 ............\n",
      "[CV]  C=0.001, class_weight=balanced, penalty=l1, tol=0.01, score=0, total=   0.0s\n",
      "[CV] C=0.001, class_weight=balanced, penalty=l1, tol=0.01 ............\n"
     ]
    },
    {
     "name": "stderr",
     "output_type": "stream",
     "text": [
      "/Library/Frameworks/Python.framework/Versions/3.6/lib/python3.6/site-packages/sklearn/model_selection/_validation.py:479: FitFailedWarning: Classifier fit failed. The score on this train-test partition for these parameters will be set to 0.000000. Details: \n",
      "ValueError(\"Unsupported set of arguments: The combination of penalty='l1' and loss='squared_hinge' are not supported when dual=True, Parameters: penalty='l1', loss='squared_hinge', dual=True\",)\n",
      "  \"Details: \\n%r\" % (error_score, e), FitFailedWarning)\n",
      "/Library/Frameworks/Python.framework/Versions/3.6/lib/python3.6/site-packages/sklearn/model_selection/_validation.py:479: FitFailedWarning: Classifier fit failed. The score on this train-test partition for these parameters will be set to 0.000000. Details: \n",
      "ValueError(\"Unsupported set of arguments: The combination of penalty='l1' and loss='squared_hinge' are not supported when dual=True, Parameters: penalty='l1', loss='squared_hinge', dual=True\",)\n",
      "  \"Details: \\n%r\" % (error_score, e), FitFailedWarning)\n",
      "/Library/Frameworks/Python.framework/Versions/3.6/lib/python3.6/site-packages/sklearn/model_selection/_validation.py:479: FitFailedWarning: Classifier fit failed. The score on this train-test partition for these parameters will be set to 0.000000. Details: \n",
      "ValueError(\"Unsupported set of arguments: The combination of penalty='l1' and loss='squared_hinge' are not supported when dual=True, Parameters: penalty='l1', loss='squared_hinge', dual=True\",)\n",
      "  \"Details: \\n%r\" % (error_score, e), FitFailedWarning)\n",
      "/Library/Frameworks/Python.framework/Versions/3.6/lib/python3.6/site-packages/sklearn/model_selection/_validation.py:479: FitFailedWarning: Classifier fit failed. The score on this train-test partition for these parameters will be set to 0.000000. Details: \n",
      "ValueError(\"Unsupported set of arguments: The combination of penalty='l1' and loss='squared_hinge' are not supported when dual=True, Parameters: penalty='l1', loss='squared_hinge', dual=True\",)\n",
      "  \"Details: \\n%r\" % (error_score, e), FitFailedWarning)\n",
      "/Library/Frameworks/Python.framework/Versions/3.6/lib/python3.6/site-packages/sklearn/model_selection/_validation.py:479: FitFailedWarning: Classifier fit failed. The score on this train-test partition for these parameters will be set to 0.000000. Details: \n",
      "ValueError(\"Unsupported set of arguments: The combination of penalty='l1' and loss='squared_hinge' are not supported when dual=True, Parameters: penalty='l1', loss='squared_hinge', dual=True\",)\n",
      "  \"Details: \\n%r\" % (error_score, e), FitFailedWarning)\n",
      "/Library/Frameworks/Python.framework/Versions/3.6/lib/python3.6/site-packages/sklearn/model_selection/_validation.py:479: FitFailedWarning: Classifier fit failed. The score on this train-test partition for these parameters will be set to 0.000000. Details: \n",
      "ValueError(\"Unsupported set of arguments: The combination of penalty='l1' and loss='squared_hinge' are not supported when dual=True, Parameters: penalty='l1', loss='squared_hinge', dual=True\",)\n",
      "  \"Details: \\n%r\" % (error_score, e), FitFailedWarning)\n"
     ]
    },
    {
     "name": "stdout",
     "output_type": "stream",
     "text": [
      "[CV]  C=0.001, class_weight=balanced, penalty=l1, tol=0.01, score=0, total=   0.0s\n",
      "[CV] C=0.001, class_weight=balanced, penalty=l1, tol=0.01 ............\n",
      "[CV]  C=0.001, class_weight=balanced, penalty=l1, tol=0.01, score=0, total=   0.0s\n",
      "[CV] C=0.001, class_weight=balanced, penalty=l1, tol=0.01 ............\n",
      "[CV]  C=0.001, class_weight=balanced, penalty=l1, tol=0.01, score=0, total=   0.0s\n",
      "[CV] C=0.001, class_weight=balanced, penalty=l1, tol=0.01 ............\n",
      "[CV]  C=0.001, class_weight=balanced, penalty=l1, tol=0.01, score=0, total=   0.0s\n",
      "[CV] C=0.001, class_weight=balanced, penalty=l1, tol=0.1 .............\n",
      "[CV]  C=0.001, class_weight=balanced, penalty=l1, tol=0.1, score=0, total=   0.0s\n",
      "[CV] C=0.001, class_weight=balanced, penalty=l1, tol=0.1 .............\n",
      "[CV]  C=0.001, class_weight=balanced, penalty=l1, tol=0.1, score=0, total=   0.0s\n",
      "[CV] C=0.001, class_weight=balanced, penalty=l1, tol=0.1 .............\n"
     ]
    },
    {
     "name": "stderr",
     "output_type": "stream",
     "text": [
      "/Library/Frameworks/Python.framework/Versions/3.6/lib/python3.6/site-packages/sklearn/model_selection/_validation.py:479: FitFailedWarning: Classifier fit failed. The score on this train-test partition for these parameters will be set to 0.000000. Details: \n",
      "ValueError(\"Unsupported set of arguments: The combination of penalty='l1' and loss='squared_hinge' are not supported when dual=True, Parameters: penalty='l1', loss='squared_hinge', dual=True\",)\n",
      "  \"Details: \\n%r\" % (error_score, e), FitFailedWarning)\n",
      "/Library/Frameworks/Python.framework/Versions/3.6/lib/python3.6/site-packages/sklearn/model_selection/_validation.py:479: FitFailedWarning: Classifier fit failed. The score on this train-test partition for these parameters will be set to 0.000000. Details: \n",
      "ValueError(\"Unsupported set of arguments: The combination of penalty='l1' and loss='squared_hinge' are not supported when dual=True, Parameters: penalty='l1', loss='squared_hinge', dual=True\",)\n",
      "  \"Details: \\n%r\" % (error_score, e), FitFailedWarning)\n",
      "/Library/Frameworks/Python.framework/Versions/3.6/lib/python3.6/site-packages/sklearn/model_selection/_validation.py:479: FitFailedWarning: Classifier fit failed. The score on this train-test partition for these parameters will be set to 0.000000. Details: \n",
      "ValueError(\"Unsupported set of arguments: The combination of penalty='l1' and loss='squared_hinge' are not supported when dual=True, Parameters: penalty='l1', loss='squared_hinge', dual=True\",)\n",
      "  \"Details: \\n%r\" % (error_score, e), FitFailedWarning)\n",
      "/Library/Frameworks/Python.framework/Versions/3.6/lib/python3.6/site-packages/sklearn/model_selection/_validation.py:479: FitFailedWarning: Classifier fit failed. The score on this train-test partition for these parameters will be set to 0.000000. Details: \n",
      "ValueError(\"Unsupported set of arguments: The combination of penalty='l1' and loss='squared_hinge' are not supported when dual=True, Parameters: penalty='l1', loss='squared_hinge', dual=True\",)\n",
      "  \"Details: \\n%r\" % (error_score, e), FitFailedWarning)\n",
      "/Library/Frameworks/Python.framework/Versions/3.6/lib/python3.6/site-packages/sklearn/model_selection/_validation.py:479: FitFailedWarning: Classifier fit failed. The score on this train-test partition for these parameters will be set to 0.000000. Details: \n",
      "ValueError(\"Unsupported set of arguments: The combination of penalty='l1' and loss='squared_hinge' are not supported when dual=True, Parameters: penalty='l1', loss='squared_hinge', dual=True\",)\n",
      "  \"Details: \\n%r\" % (error_score, e), FitFailedWarning)\n",
      "/Library/Frameworks/Python.framework/Versions/3.6/lib/python3.6/site-packages/sklearn/model_selection/_validation.py:479: FitFailedWarning: Classifier fit failed. The score on this train-test partition for these parameters will be set to 0.000000. Details: \n",
      "ValueError(\"Unsupported set of arguments: The combination of penalty='l1' and loss='squared_hinge' are not supported when dual=True, Parameters: penalty='l1', loss='squared_hinge', dual=True\",)\n",
      "  \"Details: \\n%r\" % (error_score, e), FitFailedWarning)\n"
     ]
    },
    {
     "name": "stdout",
     "output_type": "stream",
     "text": [
      "[CV]  C=0.001, class_weight=balanced, penalty=l1, tol=0.1, score=0, total=   0.0s\n",
      "[CV] C=0.001, class_weight=balanced, penalty=l1, tol=0.1 .............\n",
      "[CV]  C=0.001, class_weight=balanced, penalty=l1, tol=0.1, score=0, total=   0.0s\n",
      "[CV] C=0.001, class_weight=balanced, penalty=l1, tol=0.1 .............\n",
      "[CV]  C=0.001, class_weight=balanced, penalty=l1, tol=0.1, score=0, total=   0.0s\n",
      "[CV] C=0.001, class_weight=balanced, penalty=l1, tol=1 ...............\n",
      "[CV]  C=0.001, class_weight=balanced, penalty=l1, tol=1, score=0, total=   0.0s\n",
      "[CV] C=0.001, class_weight=balanced, penalty=l1, tol=1 ...............\n",
      "[CV]  C=0.001, class_weight=balanced, penalty=l1, tol=1, score=0, total=   0.0s\n",
      "[CV] C=0.001, class_weight=balanced, penalty=l1, tol=1 ...............\n",
      "[CV]  C=0.001, class_weight=balanced, penalty=l1, tol=1, score=0, total=   0.0s\n",
      "[CV] C=0.001, class_weight=balanced, penalty=l1, tol=1 ...............\n"
     ]
    },
    {
     "name": "stderr",
     "output_type": "stream",
     "text": [
      "/Library/Frameworks/Python.framework/Versions/3.6/lib/python3.6/site-packages/sklearn/model_selection/_validation.py:479: FitFailedWarning: Classifier fit failed. The score on this train-test partition for these parameters will be set to 0.000000. Details: \n",
      "ValueError(\"Unsupported set of arguments: The combination of penalty='l1' and loss='squared_hinge' are not supported when dual=True, Parameters: penalty='l1', loss='squared_hinge', dual=True\",)\n",
      "  \"Details: \\n%r\" % (error_score, e), FitFailedWarning)\n",
      "/Library/Frameworks/Python.framework/Versions/3.6/lib/python3.6/site-packages/sklearn/model_selection/_validation.py:479: FitFailedWarning: Classifier fit failed. The score on this train-test partition for these parameters will be set to 0.000000. Details: \n",
      "ValueError(\"Unsupported set of arguments: The combination of penalty='l1' and loss='squared_hinge' are not supported when dual=True, Parameters: penalty='l1', loss='squared_hinge', dual=True\",)\n",
      "  \"Details: \\n%r\" % (error_score, e), FitFailedWarning)\n"
     ]
    },
    {
     "name": "stdout",
     "output_type": "stream",
     "text": [
      "[CV]  C=0.001, class_weight=balanced, penalty=l1, tol=1, score=0, total=   0.0s\n",
      "[CV] C=0.001, class_weight=balanced, penalty=l1, tol=1 ...............\n",
      "[CV]  C=0.001, class_weight=balanced, penalty=l1, tol=1, score=0, total=   0.0s\n",
      "[CV] C=0.001, class_weight=balanced, penalty=l2, tol=0.0001 ..........\n",
      "[CV]  C=0.001, class_weight=balanced, penalty=l2, tol=0.0001, score=0.3910886772337126, total=   0.2s\n",
      "[CV] C=0.001, class_weight=balanced, penalty=l2, tol=0.0001 ..........\n",
      "[CV]  C=0.001, class_weight=balanced, penalty=l2, tol=0.0001, score=0.37510950865395354, total=   0.2s\n",
      "[CV] C=0.001, class_weight=balanced, penalty=l2, tol=0.0001 ..........\n",
      "[CV]  C=0.001, class_weight=balanced, penalty=l2, tol=0.0001, score=0.3831748642320323, total=   0.3s\n",
      "[CV] C=0.001, class_weight=balanced, penalty=l2, tol=0.0001 ..........\n",
      "[CV]  C=0.001, class_weight=balanced, penalty=l2, tol=0.0001, score=0.36655291475757384, total=   0.3s\n",
      "[CV] C=0.001, class_weight=balanced, penalty=l2, tol=0.0001 ..........\n",
      "[CV]  C=0.001, class_weight=balanced, penalty=l2, tol=0.0001, score=0.37726920417367876, total=   0.4s\n",
      "[CV] C=0.001, class_weight=balanced, penalty=l2, tol=0.001 ...........\n",
      "[CV]  C=0.001, class_weight=balanced, penalty=l2, tol=0.001, score=0.3910886772337126, total=   0.2s\n",
      "[CV] C=0.001, class_weight=balanced, penalty=l2, tol=0.001 ...........\n",
      "[CV]  C=0.001, class_weight=balanced, penalty=l2, tol=0.001, score=0.37510950865395354, total=   0.2s\n",
      "[CV] C=0.001, class_weight=balanced, penalty=l2, tol=0.001 ...........\n",
      "[CV]  C=0.001, class_weight=balanced, penalty=l2, tol=0.001, score=0.3831748642320323, total=   0.2s\n",
      "[CV] C=0.001, class_weight=balanced, penalty=l2, tol=0.001 ...........\n",
      "[CV]  C=0.001, class_weight=balanced, penalty=l2, tol=0.001, score=0.36655291475757384, total=   0.3s\n",
      "[CV] C=0.001, class_weight=balanced, penalty=l2, tol=0.001 ...........\n",
      "[CV]  C=0.001, class_weight=balanced, penalty=l2, tol=0.001, score=0.37726920417367876, total=   0.2s\n",
      "[CV] C=0.001, class_weight=balanced, penalty=l2, tol=0.01 ............\n",
      "[CV]  C=0.001, class_weight=balanced, penalty=l2, tol=0.01, score=0.3910886772337126, total=   0.2s\n",
      "[CV] C=0.001, class_weight=balanced, penalty=l2, tol=0.01 ............\n",
      "[CV]  C=0.001, class_weight=balanced, penalty=l2, tol=0.01, score=0.37510950865395354, total=   0.2s\n",
      "[CV] C=0.001, class_weight=balanced, penalty=l2, tol=0.01 ............\n",
      "[CV]  C=0.001, class_weight=balanced, penalty=l2, tol=0.01, score=0.3831748642320323, total=   0.2s\n",
      "[CV] C=0.001, class_weight=balanced, penalty=l2, tol=0.01 ............\n",
      "[CV]  C=0.001, class_weight=balanced, penalty=l2, tol=0.01, score=0.36655291475757384, total=   0.2s\n",
      "[CV] C=0.001, class_weight=balanced, penalty=l2, tol=0.01 ............\n",
      "[CV]  C=0.001, class_weight=balanced, penalty=l2, tol=0.01, score=0.37726920417367876, total=   0.2s\n",
      "[CV] C=0.001, class_weight=balanced, penalty=l2, tol=0.1 .............\n",
      "[CV]  C=0.001, class_weight=balanced, penalty=l2, tol=0.1, score=0.3910886772337126, total=   0.2s\n",
      "[CV] C=0.001, class_weight=balanced, penalty=l2, tol=0.1 .............\n",
      "[CV]  C=0.001, class_weight=balanced, penalty=l2, tol=0.1, score=0.37510950865395354, total=   0.1s\n",
      "[CV] C=0.001, class_weight=balanced, penalty=l2, tol=0.1 .............\n",
      "[CV]  C=0.001, class_weight=balanced, penalty=l2, tol=0.1, score=0.3831748642320323, total=   0.2s\n",
      "[CV] C=0.001, class_weight=balanced, penalty=l2, tol=0.1 .............\n",
      "[CV]  C=0.001, class_weight=balanced, penalty=l2, tol=0.1, score=0.36655291475757384, total=   0.1s\n",
      "[CV] C=0.001, class_weight=balanced, penalty=l2, tol=0.1 .............\n",
      "[CV]  C=0.001, class_weight=balanced, penalty=l2, tol=0.1, score=0.37726920417367876, total=   0.1s\n",
      "[CV] C=0.001, class_weight=balanced, penalty=l2, tol=1 ...............\n",
      "[CV]  C=0.001, class_weight=balanced, penalty=l2, tol=1, score=0.39360248630898814, total=   0.1s\n",
      "[CV] C=0.001, class_weight=balanced, penalty=l2, tol=1 ...............\n",
      "[CV]  C=0.001, class_weight=balanced, penalty=l2, tol=1, score=0.3706894001721089, total=   0.1s\n",
      "[CV] C=0.001, class_weight=balanced, penalty=l2, tol=1 ...............\n",
      "[CV]  C=0.001, class_weight=balanced, penalty=l2, tol=1, score=0.39376772030472473, total=   0.1s\n",
      "[CV] C=0.001, class_weight=balanced, penalty=l2, tol=1 ...............\n",
      "[CV]  C=0.001, class_weight=balanced, penalty=l2, tol=1, score=0.3859727857695579, total=   0.1s\n",
      "[CV] C=0.001, class_weight=balanced, penalty=l2, tol=1 ...............\n",
      "[CV]  C=0.001, class_weight=balanced, penalty=l2, tol=1, score=0.39797022562728296, total=   0.1s\n",
      "[CV] C=0.001, class_weight=None, penalty=l1, tol=0.0001 ..............\n",
      "[CV]  C=0.001, class_weight=None, penalty=l1, tol=0.0001, score=0, total=   0.0s\n",
      "[CV] C=0.001, class_weight=None, penalty=l1, tol=0.0001 ..............\n",
      "[CV]  C=0.001, class_weight=None, penalty=l1, tol=0.0001, score=0, total=   0.0s\n",
      "[CV] C=0.001, class_weight=None, penalty=l1, tol=0.0001 ..............\n"
     ]
    },
    {
     "name": "stderr",
     "output_type": "stream",
     "text": [
      "/Library/Frameworks/Python.framework/Versions/3.6/lib/python3.6/site-packages/sklearn/model_selection/_validation.py:479: FitFailedWarning: Classifier fit failed. The score on this train-test partition for these parameters will be set to 0.000000. Details: \n",
      "ValueError(\"Unsupported set of arguments: The combination of penalty='l1' and loss='squared_hinge' are not supported when dual=True, Parameters: penalty='l1', loss='squared_hinge', dual=True\",)\n",
      "  \"Details: \\n%r\" % (error_score, e), FitFailedWarning)\n",
      "/Library/Frameworks/Python.framework/Versions/3.6/lib/python3.6/site-packages/sklearn/model_selection/_validation.py:479: FitFailedWarning: Classifier fit failed. The score on this train-test partition for these parameters will be set to 0.000000. Details: \n",
      "ValueError(\"Unsupported set of arguments: The combination of penalty='l1' and loss='squared_hinge' are not supported when dual=True, Parameters: penalty='l1', loss='squared_hinge', dual=True\",)\n",
      "  \"Details: \\n%r\" % (error_score, e), FitFailedWarning)\n",
      "/Library/Frameworks/Python.framework/Versions/3.6/lib/python3.6/site-packages/sklearn/model_selection/_validation.py:479: FitFailedWarning: Classifier fit failed. The score on this train-test partition for these parameters will be set to 0.000000. Details: \n",
      "ValueError(\"Unsupported set of arguments: The combination of penalty='l1' and loss='squared_hinge' are not supported when dual=True, Parameters: penalty='l1', loss='squared_hinge', dual=True\",)\n",
      "  \"Details: \\n%r\" % (error_score, e), FitFailedWarning)\n",
      "/Library/Frameworks/Python.framework/Versions/3.6/lib/python3.6/site-packages/sklearn/model_selection/_validation.py:479: FitFailedWarning: Classifier fit failed. The score on this train-test partition for these parameters will be set to 0.000000. Details: \n",
      "ValueError(\"Unsupported set of arguments: The combination of penalty='l1' and loss='squared_hinge' are not supported when dual=True, Parameters: penalty='l1', loss='squared_hinge', dual=True\",)\n",
      "  \"Details: \\n%r\" % (error_score, e), FitFailedWarning)\n",
      "/Library/Frameworks/Python.framework/Versions/3.6/lib/python3.6/site-packages/sklearn/model_selection/_validation.py:479: FitFailedWarning: Classifier fit failed. The score on this train-test partition for these parameters will be set to 0.000000. Details: \n",
      "ValueError(\"Unsupported set of arguments: The combination of penalty='l1' and loss='squared_hinge' are not supported when dual=True, Parameters: penalty='l1', loss='squared_hinge', dual=True\",)\n",
      "  \"Details: \\n%r\" % (error_score, e), FitFailedWarning)\n",
      "/Library/Frameworks/Python.framework/Versions/3.6/lib/python3.6/site-packages/sklearn/model_selection/_validation.py:479: FitFailedWarning: Classifier fit failed. The score on this train-test partition for these parameters will be set to 0.000000. Details: \n",
      "ValueError(\"Unsupported set of arguments: The combination of penalty='l1' and loss='squared_hinge' are not supported when dual=True, Parameters: penalty='l1', loss='squared_hinge', dual=True\",)\n",
      "  \"Details: \\n%r\" % (error_score, e), FitFailedWarning)\n",
      "/Library/Frameworks/Python.framework/Versions/3.6/lib/python3.6/site-packages/sklearn/model_selection/_validation.py:479: FitFailedWarning: Classifier fit failed. The score on this train-test partition for these parameters will be set to 0.000000. Details: \n",
      "ValueError(\"Unsupported set of arguments: The combination of penalty='l1' and loss='squared_hinge' are not supported when dual=True, Parameters: penalty='l1', loss='squared_hinge', dual=True\",)\n",
      "  \"Details: \\n%r\" % (error_score, e), FitFailedWarning)\n"
     ]
    },
    {
     "name": "stdout",
     "output_type": "stream",
     "text": [
      "[CV]  C=0.001, class_weight=None, penalty=l1, tol=0.0001, score=0, total=   0.0s\n",
      "[CV] C=0.001, class_weight=None, penalty=l1, tol=0.0001 ..............\n",
      "[CV]  C=0.001, class_weight=None, penalty=l1, tol=0.0001, score=0, total=   0.0s\n",
      "[CV] C=0.001, class_weight=None, penalty=l1, tol=0.0001 ..............\n",
      "[CV]  C=0.001, class_weight=None, penalty=l1, tol=0.0001, score=0, total=   0.0s\n",
      "[CV] C=0.001, class_weight=None, penalty=l1, tol=0.001 ...............\n",
      "[CV]  C=0.001, class_weight=None, penalty=l1, tol=0.001, score=0, total=   0.0s\n",
      "[CV] C=0.001, class_weight=None, penalty=l1, tol=0.001 ...............\n",
      "[CV]  C=0.001, class_weight=None, penalty=l1, tol=0.001, score=0, total=   0.0s\n",
      "[CV] C=0.001, class_weight=None, penalty=l1, tol=0.001 ...............\n",
      "[CV]  C=0.001, class_weight=None, penalty=l1, tol=0.001, score=0, total=   0.0s\n",
      "[CV] C=0.001, class_weight=None, penalty=l1, tol=0.001 ...............\n",
      "[CV]  C=0.001, class_weight=None, penalty=l1, tol=0.001, score=0, total=   0.0s\n",
      "[CV] C=0.001, class_weight=None, penalty=l1, tol=0.001 ...............\n"
     ]
    },
    {
     "name": "stderr",
     "output_type": "stream",
     "text": [
      "/Library/Frameworks/Python.framework/Versions/3.6/lib/python3.6/site-packages/sklearn/model_selection/_validation.py:479: FitFailedWarning: Classifier fit failed. The score on this train-test partition for these parameters will be set to 0.000000. Details: \n",
      "ValueError(\"Unsupported set of arguments: The combination of penalty='l1' and loss='squared_hinge' are not supported when dual=True, Parameters: penalty='l1', loss='squared_hinge', dual=True\",)\n",
      "  \"Details: \\n%r\" % (error_score, e), FitFailedWarning)\n",
      "/Library/Frameworks/Python.framework/Versions/3.6/lib/python3.6/site-packages/sklearn/model_selection/_validation.py:479: FitFailedWarning: Classifier fit failed. The score on this train-test partition for these parameters will be set to 0.000000. Details: \n",
      "ValueError(\"Unsupported set of arguments: The combination of penalty='l1' and loss='squared_hinge' are not supported when dual=True, Parameters: penalty='l1', loss='squared_hinge', dual=True\",)\n",
      "  \"Details: \\n%r\" % (error_score, e), FitFailedWarning)\n",
      "/Library/Frameworks/Python.framework/Versions/3.6/lib/python3.6/site-packages/sklearn/model_selection/_validation.py:479: FitFailedWarning: Classifier fit failed. The score on this train-test partition for these parameters will be set to 0.000000. Details: \n",
      "ValueError(\"Unsupported set of arguments: The combination of penalty='l1' and loss='squared_hinge' are not supported when dual=True, Parameters: penalty='l1', loss='squared_hinge', dual=True\",)\n",
      "  \"Details: \\n%r\" % (error_score, e), FitFailedWarning)\n",
      "/Library/Frameworks/Python.framework/Versions/3.6/lib/python3.6/site-packages/sklearn/model_selection/_validation.py:479: FitFailedWarning: Classifier fit failed. The score on this train-test partition for these parameters will be set to 0.000000. Details: \n",
      "ValueError(\"Unsupported set of arguments: The combination of penalty='l1' and loss='squared_hinge' are not supported when dual=True, Parameters: penalty='l1', loss='squared_hinge', dual=True\",)\n",
      "  \"Details: \\n%r\" % (error_score, e), FitFailedWarning)\n",
      "/Library/Frameworks/Python.framework/Versions/3.6/lib/python3.6/site-packages/sklearn/model_selection/_validation.py:479: FitFailedWarning: Classifier fit failed. The score on this train-test partition for these parameters will be set to 0.000000. Details: \n",
      "ValueError(\"Unsupported set of arguments: The combination of penalty='l1' and loss='squared_hinge' are not supported when dual=True, Parameters: penalty='l1', loss='squared_hinge', dual=True\",)\n",
      "  \"Details: \\n%r\" % (error_score, e), FitFailedWarning)\n",
      "/Library/Frameworks/Python.framework/Versions/3.6/lib/python3.6/site-packages/sklearn/model_selection/_validation.py:479: FitFailedWarning: Classifier fit failed. The score on this train-test partition for these parameters will be set to 0.000000. Details: \n",
      "ValueError(\"Unsupported set of arguments: The combination of penalty='l1' and loss='squared_hinge' are not supported when dual=True, Parameters: penalty='l1', loss='squared_hinge', dual=True\",)\n",
      "  \"Details: \\n%r\" % (error_score, e), FitFailedWarning)\n",
      "/Library/Frameworks/Python.framework/Versions/3.6/lib/python3.6/site-packages/sklearn/model_selection/_validation.py:479: FitFailedWarning: Classifier fit failed. The score on this train-test partition for these parameters will be set to 0.000000. Details: \n",
      "ValueError(\"Unsupported set of arguments: The combination of penalty='l1' and loss='squared_hinge' are not supported when dual=True, Parameters: penalty='l1', loss='squared_hinge', dual=True\",)\n",
      "  \"Details: \\n%r\" % (error_score, e), FitFailedWarning)\n"
     ]
    },
    {
     "name": "stdout",
     "output_type": "stream",
     "text": [
      "[CV]  C=0.001, class_weight=None, penalty=l1, tol=0.001, score=0, total=   0.0s\n",
      "[CV] C=0.001, class_weight=None, penalty=l1, tol=0.01 ................\n",
      "[CV]  C=0.001, class_weight=None, penalty=l1, tol=0.01, score=0, total=   0.0s\n",
      "[CV] C=0.001, class_weight=None, penalty=l1, tol=0.01 ................\n",
      "[CV]  C=0.001, class_weight=None, penalty=l1, tol=0.01, score=0, total=   0.0s\n",
      "[CV] C=0.001, class_weight=None, penalty=l1, tol=0.01 ................\n",
      "[CV]  C=0.001, class_weight=None, penalty=l1, tol=0.01, score=0, total=   0.0s\n",
      "[CV] C=0.001, class_weight=None, penalty=l1, tol=0.01 ................\n",
      "[CV]  C=0.001, class_weight=None, penalty=l1, tol=0.01, score=0, total=   0.0s\n",
      "[CV] C=0.001, class_weight=None, penalty=l1, tol=0.01 ................\n",
      "[CV]  C=0.001, class_weight=None, penalty=l1, tol=0.01, score=0, total=   0.0s\n",
      "[CV] C=0.001, class_weight=None, penalty=l1, tol=0.1 .................\n",
      "[CV]  C=0.001, class_weight=None, penalty=l1, tol=0.1, score=0, total=   0.0s\n",
      "[CV] C=0.001, class_weight=None, penalty=l1, tol=0.1 .................\n"
     ]
    },
    {
     "name": "stderr",
     "output_type": "stream",
     "text": [
      "/Library/Frameworks/Python.framework/Versions/3.6/lib/python3.6/site-packages/sklearn/model_selection/_validation.py:479: FitFailedWarning: Classifier fit failed. The score on this train-test partition for these parameters will be set to 0.000000. Details: \n",
      "ValueError(\"Unsupported set of arguments: The combination of penalty='l1' and loss='squared_hinge' are not supported when dual=True, Parameters: penalty='l1', loss='squared_hinge', dual=True\",)\n",
      "  \"Details: \\n%r\" % (error_score, e), FitFailedWarning)\n",
      "/Library/Frameworks/Python.framework/Versions/3.6/lib/python3.6/site-packages/sklearn/model_selection/_validation.py:479: FitFailedWarning: Classifier fit failed. The score on this train-test partition for these parameters will be set to 0.000000. Details: \n",
      "ValueError(\"Unsupported set of arguments: The combination of penalty='l1' and loss='squared_hinge' are not supported when dual=True, Parameters: penalty='l1', loss='squared_hinge', dual=True\",)\n",
      "  \"Details: \\n%r\" % (error_score, e), FitFailedWarning)\n",
      "/Library/Frameworks/Python.framework/Versions/3.6/lib/python3.6/site-packages/sklearn/model_selection/_validation.py:479: FitFailedWarning: Classifier fit failed. The score on this train-test partition for these parameters will be set to 0.000000. Details: \n",
      "ValueError(\"Unsupported set of arguments: The combination of penalty='l1' and loss='squared_hinge' are not supported when dual=True, Parameters: penalty='l1', loss='squared_hinge', dual=True\",)\n",
      "  \"Details: \\n%r\" % (error_score, e), FitFailedWarning)\n",
      "/Library/Frameworks/Python.framework/Versions/3.6/lib/python3.6/site-packages/sklearn/model_selection/_validation.py:479: FitFailedWarning: Classifier fit failed. The score on this train-test partition for these parameters will be set to 0.000000. Details: \n",
      "ValueError(\"Unsupported set of arguments: The combination of penalty='l1' and loss='squared_hinge' are not supported when dual=True, Parameters: penalty='l1', loss='squared_hinge', dual=True\",)\n",
      "  \"Details: \\n%r\" % (error_score, e), FitFailedWarning)\n",
      "/Library/Frameworks/Python.framework/Versions/3.6/lib/python3.6/site-packages/sklearn/model_selection/_validation.py:479: FitFailedWarning: Classifier fit failed. The score on this train-test partition for these parameters will be set to 0.000000. Details: \n",
      "ValueError(\"Unsupported set of arguments: The combination of penalty='l1' and loss='squared_hinge' are not supported when dual=True, Parameters: penalty='l1', loss='squared_hinge', dual=True\",)\n",
      "  \"Details: \\n%r\" % (error_score, e), FitFailedWarning)\n",
      "/Library/Frameworks/Python.framework/Versions/3.6/lib/python3.6/site-packages/sklearn/model_selection/_validation.py:479: FitFailedWarning: Classifier fit failed. The score on this train-test partition for these parameters will be set to 0.000000. Details: \n",
      "ValueError(\"Unsupported set of arguments: The combination of penalty='l1' and loss='squared_hinge' are not supported when dual=True, Parameters: penalty='l1', loss='squared_hinge', dual=True\",)\n",
      "  \"Details: \\n%r\" % (error_score, e), FitFailedWarning)\n",
      "/Library/Frameworks/Python.framework/Versions/3.6/lib/python3.6/site-packages/sklearn/model_selection/_validation.py:479: FitFailedWarning: Classifier fit failed. The score on this train-test partition for these parameters will be set to 0.000000. Details: \n",
      "ValueError(\"Unsupported set of arguments: The combination of penalty='l1' and loss='squared_hinge' are not supported when dual=True, Parameters: penalty='l1', loss='squared_hinge', dual=True\",)\n",
      "  \"Details: \\n%r\" % (error_score, e), FitFailedWarning)\n"
     ]
    },
    {
     "name": "stdout",
     "output_type": "stream",
     "text": [
      "[CV]  C=0.001, class_weight=None, penalty=l1, tol=0.1, score=0, total=   0.0s\n",
      "[CV] C=0.001, class_weight=None, penalty=l1, tol=0.1 .................\n",
      "[CV]  C=0.001, class_weight=None, penalty=l1, tol=0.1, score=0, total=   0.0s\n",
      "[CV] C=0.001, class_weight=None, penalty=l1, tol=0.1 .................\n",
      "[CV]  C=0.001, class_weight=None, penalty=l1, tol=0.1, score=0, total=   0.0s\n",
      "[CV] C=0.001, class_weight=None, penalty=l1, tol=0.1 .................\n",
      "[CV]  C=0.001, class_weight=None, penalty=l1, tol=0.1, score=0, total=   0.0s\n",
      "[CV] C=0.001, class_weight=None, penalty=l1, tol=1 ...................\n",
      "[CV]  C=0.001, class_weight=None, penalty=l1, tol=1, score=0, total=   0.0s\n",
      "[CV] C=0.001, class_weight=None, penalty=l1, tol=1 ...................\n",
      "[CV]  C=0.001, class_weight=None, penalty=l1, tol=1, score=0, total=   0.0s\n",
      "[CV] C=0.001, class_weight=None, penalty=l1, tol=1 ...................\n",
      "[CV]  C=0.001, class_weight=None, penalty=l1, tol=1, score=0, total=   0.0s\n",
      "[CV] C=0.001, class_weight=None, penalty=l1, tol=1 ...................\n"
     ]
    },
    {
     "name": "stderr",
     "output_type": "stream",
     "text": [
      "/Library/Frameworks/Python.framework/Versions/3.6/lib/python3.6/site-packages/sklearn/model_selection/_validation.py:479: FitFailedWarning: Classifier fit failed. The score on this train-test partition for these parameters will be set to 0.000000. Details: \n",
      "ValueError(\"Unsupported set of arguments: The combination of penalty='l1' and loss='squared_hinge' are not supported when dual=True, Parameters: penalty='l1', loss='squared_hinge', dual=True\",)\n",
      "  \"Details: \\n%r\" % (error_score, e), FitFailedWarning)\n",
      "/Library/Frameworks/Python.framework/Versions/3.6/lib/python3.6/site-packages/sklearn/model_selection/_validation.py:479: FitFailedWarning: Classifier fit failed. The score on this train-test partition for these parameters will be set to 0.000000. Details: \n",
      "ValueError(\"Unsupported set of arguments: The combination of penalty='l1' and loss='squared_hinge' are not supported when dual=True, Parameters: penalty='l1', loss='squared_hinge', dual=True\",)\n",
      "  \"Details: \\n%r\" % (error_score, e), FitFailedWarning)\n",
      "/Library/Frameworks/Python.framework/Versions/3.6/lib/python3.6/site-packages/sklearn/model_selection/_validation.py:479: FitFailedWarning: Classifier fit failed. The score on this train-test partition for these parameters will be set to 0.000000. Details: \n",
      "ValueError(\"Unsupported set of arguments: The combination of penalty='l1' and loss='squared_hinge' are not supported when dual=True, Parameters: penalty='l1', loss='squared_hinge', dual=True\",)\n",
      "  \"Details: \\n%r\" % (error_score, e), FitFailedWarning)\n",
      "/Library/Frameworks/Python.framework/Versions/3.6/lib/python3.6/site-packages/sklearn/model_selection/_validation.py:479: FitFailedWarning: Classifier fit failed. The score on this train-test partition for these parameters will be set to 0.000000. Details: \n",
      "ValueError(\"Unsupported set of arguments: The combination of penalty='l1' and loss='squared_hinge' are not supported when dual=True, Parameters: penalty='l1', loss='squared_hinge', dual=True\",)\n",
      "  \"Details: \\n%r\" % (error_score, e), FitFailedWarning)\n"
     ]
    },
    {
     "name": "stdout",
     "output_type": "stream",
     "text": [
      "[CV]  C=0.001, class_weight=None, penalty=l1, tol=1, score=0, total=   0.0s\n",
      "[CV] C=0.001, class_weight=None, penalty=l1, tol=1 ...................\n",
      "[CV]  C=0.001, class_weight=None, penalty=l1, tol=1, score=0, total=   0.0s\n",
      "[CV] C=0.001, class_weight=None, penalty=l2, tol=0.0001 ..............\n"
     ]
    },
    {
     "name": "stderr",
     "output_type": "stream",
     "text": [
      "/Library/Frameworks/Python.framework/Versions/3.6/lib/python3.6/site-packages/sklearn/metrics/classification.py:1135: UndefinedMetricWarning: F-score is ill-defined and being set to 0.0 in labels with no predicted samples.\n",
      "  'precision', 'predicted', average, warn_for)\n"
     ]
    },
    {
     "name": "stdout",
     "output_type": "stream",
     "text": [
      "[CV]  C=0.001, class_weight=None, penalty=l2, tol=0.0001, score=0.2568550643536654, total=   0.2s\n",
      "[CV] C=0.001, class_weight=None, penalty=l2, tol=0.0001 ..............\n"
     ]
    },
    {
     "name": "stderr",
     "output_type": "stream",
     "text": [
      "/Library/Frameworks/Python.framework/Versions/3.6/lib/python3.6/site-packages/sklearn/metrics/classification.py:1135: UndefinedMetricWarning: F-score is ill-defined and being set to 0.0 in labels with no predicted samples.\n",
      "  'precision', 'predicted', average, warn_for)\n"
     ]
    },
    {
     "name": "stdout",
     "output_type": "stream",
     "text": [
      "[CV]  C=0.001, class_weight=None, penalty=l2, tol=0.0001, score=0.2568550643536654, total=   0.2s\n",
      "[CV] C=0.001, class_weight=None, penalty=l2, tol=0.0001 ..............\n"
     ]
    },
    {
     "name": "stderr",
     "output_type": "stream",
     "text": [
      "/Library/Frameworks/Python.framework/Versions/3.6/lib/python3.6/site-packages/sklearn/metrics/classification.py:1135: UndefinedMetricWarning: F-score is ill-defined and being set to 0.0 in labels with no predicted samples.\n",
      "  'precision', 'predicted', average, warn_for)\n"
     ]
    },
    {
     "name": "stdout",
     "output_type": "stream",
     "text": [
      "[CV]  C=0.001, class_weight=None, penalty=l2, tol=0.0001, score=0.25692695214105793, total=   0.2s\n",
      "[CV] C=0.001, class_weight=None, penalty=l2, tol=0.0001 ..............\n"
     ]
    },
    {
     "name": "stderr",
     "output_type": "stream",
     "text": [
      "/Library/Frameworks/Python.framework/Versions/3.6/lib/python3.6/site-packages/sklearn/metrics/classification.py:1135: UndefinedMetricWarning: F-score is ill-defined and being set to 0.0 in labels with no predicted samples.\n",
      "  'precision', 'predicted', average, warn_for)\n"
     ]
    },
    {
     "name": "stdout",
     "output_type": "stream",
     "text": [
      "[CV]  C=0.001, class_weight=None, penalty=l2, tol=0.0001, score=0.25692695214105793, total=   0.2s\n",
      "[CV] C=0.001, class_weight=None, penalty=l2, tol=0.0001 ..............\n"
     ]
    },
    {
     "name": "stderr",
     "output_type": "stream",
     "text": [
      "/Library/Frameworks/Python.framework/Versions/3.6/lib/python3.6/site-packages/sklearn/metrics/classification.py:1135: UndefinedMetricWarning: F-score is ill-defined and being set to 0.0 in labels with no predicted samples.\n",
      "  'precision', 'predicted', average, warn_for)\n",
      "/Library/Frameworks/Python.framework/Versions/3.6/lib/python3.6/site-packages/sklearn/metrics/classification.py:1135: UndefinedMetricWarning: F-score is ill-defined and being set to 0.0 in labels with no predicted samples.\n",
      "  'precision', 'predicted', average, warn_for)\n"
     ]
    },
    {
     "name": "stdout",
     "output_type": "stream",
     "text": [
      "[CV]  C=0.001, class_weight=None, penalty=l2, tol=0.0001, score=0.25695611577964517, total=   0.2s\n",
      "[CV] C=0.001, class_weight=None, penalty=l2, tol=0.001 ...............\n",
      "[CV]  C=0.001, class_weight=None, penalty=l2, tol=0.001, score=0.2568550643536654, total=   0.2s\n",
      "[CV] C=0.001, class_weight=None, penalty=l2, tol=0.001 ...............\n",
      "[CV]  C=0.001, class_weight=None, penalty=l2, tol=0.001, score=0.2568550643536654, total=   0.2s"
     ]
    },
    {
     "name": "stderr",
     "output_type": "stream",
     "text": [
      "/Library/Frameworks/Python.framework/Versions/3.6/lib/python3.6/site-packages/sklearn/metrics/classification.py:1135: UndefinedMetricWarning: F-score is ill-defined and being set to 0.0 in labels with no predicted samples.\n",
      "  'precision', 'predicted', average, warn_for)\n",
      "/Library/Frameworks/Python.framework/Versions/3.6/lib/python3.6/site-packages/sklearn/metrics/classification.py:1135: UndefinedMetricWarning: F-score is ill-defined and being set to 0.0 in labels with no predicted samples.\n",
      "  'precision', 'predicted', average, warn_for)\n"
     ]
    },
    {
     "name": "stdout",
     "output_type": "stream",
     "text": [
      "\n",
      "[CV] C=0.001, class_weight=None, penalty=l2, tol=0.001 ...............\n",
      "[CV]  C=0.001, class_weight=None, penalty=l2, tol=0.001, score=0.25692695214105793, total=   0.2s\n",
      "[CV] C=0.001, class_weight=None, penalty=l2, tol=0.001 ...............\n"
     ]
    },
    {
     "name": "stderr",
     "output_type": "stream",
     "text": [
      "/Library/Frameworks/Python.framework/Versions/3.6/lib/python3.6/site-packages/sklearn/metrics/classification.py:1135: UndefinedMetricWarning: F-score is ill-defined and being set to 0.0 in labels with no predicted samples.\n",
      "  'precision', 'predicted', average, warn_for)\n",
      "/Library/Frameworks/Python.framework/Versions/3.6/lib/python3.6/site-packages/sklearn/metrics/classification.py:1135: UndefinedMetricWarning: F-score is ill-defined and being set to 0.0 in labels with no predicted samples.\n",
      "  'precision', 'predicted', average, warn_for)\n"
     ]
    },
    {
     "name": "stdout",
     "output_type": "stream",
     "text": [
      "[CV]  C=0.001, class_weight=None, penalty=l2, tol=0.001, score=0.25692695214105793, total=   0.2s\n",
      "[CV] C=0.001, class_weight=None, penalty=l2, tol=0.001 ...............\n",
      "[CV]  C=0.001, class_weight=None, penalty=l2, tol=0.001, score=0.25695611577964517, total=   0.2s\n",
      "[CV] C=0.001, class_weight=None, penalty=l2, tol=0.01 ................\n"
     ]
    },
    {
     "name": "stderr",
     "output_type": "stream",
     "text": [
      "/Library/Frameworks/Python.framework/Versions/3.6/lib/python3.6/site-packages/sklearn/metrics/classification.py:1135: UndefinedMetricWarning: F-score is ill-defined and being set to 0.0 in labels with no predicted samples.\n",
      "  'precision', 'predicted', average, warn_for)\n"
     ]
    },
    {
     "name": "stdout",
     "output_type": "stream",
     "text": [
      "[CV]  C=0.001, class_weight=None, penalty=l2, tol=0.01, score=0.2568550643536654, total=   0.2s\n",
      "[CV] C=0.001, class_weight=None, penalty=l2, tol=0.01 ................\n"
     ]
    },
    {
     "name": "stderr",
     "output_type": "stream",
     "text": [
      "/Library/Frameworks/Python.framework/Versions/3.6/lib/python3.6/site-packages/sklearn/metrics/classification.py:1135: UndefinedMetricWarning: F-score is ill-defined and being set to 0.0 in labels with no predicted samples.\n",
      "  'precision', 'predicted', average, warn_for)\n",
      "/Library/Frameworks/Python.framework/Versions/3.6/lib/python3.6/site-packages/sklearn/metrics/classification.py:1135: UndefinedMetricWarning: F-score is ill-defined and being set to 0.0 in labels with no predicted samples.\n",
      "  'precision', 'predicted', average, warn_for)\n"
     ]
    },
    {
     "name": "stdout",
     "output_type": "stream",
     "text": [
      "[CV]  C=0.001, class_weight=None, penalty=l2, tol=0.01, score=0.2568550643536654, total=   0.2s\n",
      "[CV] C=0.001, class_weight=None, penalty=l2, tol=0.01 ................\n",
      "[CV]  C=0.001, class_weight=None, penalty=l2, tol=0.01, score=0.25692695214105793, total=   0.1s\n",
      "[CV] C=0.001, class_weight=None, penalty=l2, tol=0.01 ................\n"
     ]
    },
    {
     "name": "stderr",
     "output_type": "stream",
     "text": [
      "/Library/Frameworks/Python.framework/Versions/3.6/lib/python3.6/site-packages/sklearn/metrics/classification.py:1135: UndefinedMetricWarning: F-score is ill-defined and being set to 0.0 in labels with no predicted samples.\n",
      "  'precision', 'predicted', average, warn_for)\n",
      "/Library/Frameworks/Python.framework/Versions/3.6/lib/python3.6/site-packages/sklearn/metrics/classification.py:1135: UndefinedMetricWarning: F-score is ill-defined and being set to 0.0 in labels with no predicted samples.\n",
      "  'precision', 'predicted', average, warn_for)\n"
     ]
    },
    {
     "name": "stdout",
     "output_type": "stream",
     "text": [
      "[CV]  C=0.001, class_weight=None, penalty=l2, tol=0.01, score=0.25692695214105793, total=   0.2s\n",
      "[CV] C=0.001, class_weight=None, penalty=l2, tol=0.01 ................\n",
      "[CV]  C=0.001, class_weight=None, penalty=l2, tol=0.01, score=0.25695611577964517, total=   0.2s\n",
      "[CV] C=0.001, class_weight=None, penalty=l2, tol=0.1 .................\n"
     ]
    },
    {
     "name": "stderr",
     "output_type": "stream",
     "text": [
      "/Library/Frameworks/Python.framework/Versions/3.6/lib/python3.6/site-packages/sklearn/metrics/classification.py:1135: UndefinedMetricWarning: F-score is ill-defined and being set to 0.0 in labels with no predicted samples.\n",
      "  'precision', 'predicted', average, warn_for)\n"
     ]
    },
    {
     "name": "stdout",
     "output_type": "stream",
     "text": [
      "[CV]  C=0.001, class_weight=None, penalty=l2, tol=0.1, score=0.2568550643536654, total=   0.1s\n",
      "[CV] C=0.001, class_weight=None, penalty=l2, tol=0.1 .................\n"
     ]
    },
    {
     "name": "stderr",
     "output_type": "stream",
     "text": [
      "/Library/Frameworks/Python.framework/Versions/3.6/lib/python3.6/site-packages/sklearn/metrics/classification.py:1135: UndefinedMetricWarning: F-score is ill-defined and being set to 0.0 in labels with no predicted samples.\n",
      "  'precision', 'predicted', average, warn_for)\n"
     ]
    },
    {
     "name": "stdout",
     "output_type": "stream",
     "text": [
      "[CV]  C=0.001, class_weight=None, penalty=l2, tol=0.1, score=0.2568550643536654, total=   0.2s\n",
      "[CV] C=0.001, class_weight=None, penalty=l2, tol=0.1 .................\n"
     ]
    },
    {
     "name": "stderr",
     "output_type": "stream",
     "text": [
      "/Library/Frameworks/Python.framework/Versions/3.6/lib/python3.6/site-packages/sklearn/metrics/classification.py:1135: UndefinedMetricWarning: F-score is ill-defined and being set to 0.0 in labels with no predicted samples.\n",
      "  'precision', 'predicted', average, warn_for)\n"
     ]
    },
    {
     "name": "stdout",
     "output_type": "stream",
     "text": [
      "[CV]  C=0.001, class_weight=None, penalty=l2, tol=0.1, score=0.25692695214105793, total=   0.2s\n",
      "[CV] C=0.001, class_weight=None, penalty=l2, tol=0.1 .................\n"
     ]
    },
    {
     "name": "stderr",
     "output_type": "stream",
     "text": [
      "/Library/Frameworks/Python.framework/Versions/3.6/lib/python3.6/site-packages/sklearn/metrics/classification.py:1135: UndefinedMetricWarning: F-score is ill-defined and being set to 0.0 in labels with no predicted samples.\n",
      "  'precision', 'predicted', average, warn_for)\n",
      "/Library/Frameworks/Python.framework/Versions/3.6/lib/python3.6/site-packages/sklearn/metrics/classification.py:1135: UndefinedMetricWarning: F-score is ill-defined and being set to 0.0 in labels with no predicted samples.\n",
      "  'precision', 'predicted', average, warn_for)\n"
     ]
    },
    {
     "name": "stdout",
     "output_type": "stream",
     "text": [
      "[CV]  C=0.001, class_weight=None, penalty=l2, tol=0.1, score=0.25692695214105793, total=   0.2s\n",
      "[CV] C=0.001, class_weight=None, penalty=l2, tol=0.1 .................\n",
      "[CV]  C=0.001, class_weight=None, penalty=l2, tol=0.1, score=0.25695611577964517, total=   0.2s\n",
      "[CV] C=0.001, class_weight=None, penalty=l2, tol=1 ...................\n",
      "[CV]  C=0.001, class_weight=None, penalty=l2, tol=1, score=0.2568550643536654, total=   0.1s\n",
      "[CV] C=0.001, class_weight=None, penalty=l2, tol=1 ...................\n"
     ]
    },
    {
     "name": "stderr",
     "output_type": "stream",
     "text": [
      "/Library/Frameworks/Python.framework/Versions/3.6/lib/python3.6/site-packages/sklearn/metrics/classification.py:1135: UndefinedMetricWarning: F-score is ill-defined and being set to 0.0 in labels with no predicted samples.\n",
      "  'precision', 'predicted', average, warn_for)\n",
      "/Library/Frameworks/Python.framework/Versions/3.6/lib/python3.6/site-packages/sklearn/metrics/classification.py:1135: UndefinedMetricWarning: F-score is ill-defined and being set to 0.0 in labels with no predicted samples.\n",
      "  'precision', 'predicted', average, warn_for)\n"
     ]
    },
    {
     "name": "stdout",
     "output_type": "stream",
     "text": [
      "[CV]  C=0.001, class_weight=None, penalty=l2, tol=1, score=0.2568550643536654, total=   0.2s\n",
      "[CV] C=0.001, class_weight=None, penalty=l2, tol=1 ...................\n",
      "[CV]  C=0.001, class_weight=None, penalty=l2, tol=1, score=0.25692695214105793, total=   0.2s\n",
      "[CV] C=0.001, class_weight=None, penalty=l2, tol=1 ...................\n"
     ]
    },
    {
     "name": "stderr",
     "output_type": "stream",
     "text": [
      "/Library/Frameworks/Python.framework/Versions/3.6/lib/python3.6/site-packages/sklearn/metrics/classification.py:1135: UndefinedMetricWarning: F-score is ill-defined and being set to 0.0 in labels with no predicted samples.\n",
      "  'precision', 'predicted', average, warn_for)\n",
      "/Library/Frameworks/Python.framework/Versions/3.6/lib/python3.6/site-packages/sklearn/metrics/classification.py:1135: UndefinedMetricWarning: F-score is ill-defined and being set to 0.0 in labels with no predicted samples.\n",
      "  'precision', 'predicted', average, warn_for)\n"
     ]
    },
    {
     "name": "stdout",
     "output_type": "stream",
     "text": [
      "[CV]  C=0.001, class_weight=None, penalty=l2, tol=1, score=0.25692695214105793, total=   0.2s\n",
      "[CV] C=0.001, class_weight=None, penalty=l2, tol=1 ...................\n",
      "[CV]  C=0.001, class_weight=None, penalty=l2, tol=1, score=0.25695611577964517, total=   0.1s\n",
      "[CV] C=0.01, class_weight=balanced, penalty=l1, tol=0.0001 ...........\n",
      "[CV]  C=0.01, class_weight=balanced, penalty=l1, tol=0.0001, score=0, total=   0.0s\n",
      "[CV] C=0.01, class_weight=balanced, penalty=l1, tol=0.0001 ...........\n"
     ]
    },
    {
     "name": "stderr",
     "output_type": "stream",
     "text": [
      "/Library/Frameworks/Python.framework/Versions/3.6/lib/python3.6/site-packages/sklearn/metrics/classification.py:1135: UndefinedMetricWarning: F-score is ill-defined and being set to 0.0 in labels with no predicted samples.\n",
      "  'precision', 'predicted', average, warn_for)\n",
      "/Library/Frameworks/Python.framework/Versions/3.6/lib/python3.6/site-packages/sklearn/model_selection/_validation.py:479: FitFailedWarning: Classifier fit failed. The score on this train-test partition for these parameters will be set to 0.000000. Details: \n",
      "ValueError(\"Unsupported set of arguments: The combination of penalty='l1' and loss='squared_hinge' are not supported when dual=True, Parameters: penalty='l1', loss='squared_hinge', dual=True\",)\n",
      "  \"Details: \\n%r\" % (error_score, e), FitFailedWarning)\n",
      "/Library/Frameworks/Python.framework/Versions/3.6/lib/python3.6/site-packages/sklearn/model_selection/_validation.py:479: FitFailedWarning: Classifier fit failed. The score on this train-test partition for these parameters will be set to 0.000000. Details: \n",
      "ValueError(\"Unsupported set of arguments: The combination of penalty='l1' and loss='squared_hinge' are not supported when dual=True, Parameters: penalty='l1', loss='squared_hinge', dual=True\",)\n",
      "  \"Details: \\n%r\" % (error_score, e), FitFailedWarning)\n",
      "/Library/Frameworks/Python.framework/Versions/3.6/lib/python3.6/site-packages/sklearn/model_selection/_validation.py:479: FitFailedWarning: Classifier fit failed. The score on this train-test partition for these parameters will be set to 0.000000. Details: \n",
      "ValueError(\"Unsupported set of arguments: The combination of penalty='l1' and loss='squared_hinge' are not supported when dual=True, Parameters: penalty='l1', loss='squared_hinge', dual=True\",)\n",
      "  \"Details: \\n%r\" % (error_score, e), FitFailedWarning)\n",
      "/Library/Frameworks/Python.framework/Versions/3.6/lib/python3.6/site-packages/sklearn/model_selection/_validation.py:479: FitFailedWarning: Classifier fit failed. The score on this train-test partition for these parameters will be set to 0.000000. Details: \n",
      "ValueError(\"Unsupported set of arguments: The combination of penalty='l1' and loss='squared_hinge' are not supported when dual=True, Parameters: penalty='l1', loss='squared_hinge', dual=True\",)\n",
      "  \"Details: \\n%r\" % (error_score, e), FitFailedWarning)\n",
      "/Library/Frameworks/Python.framework/Versions/3.6/lib/python3.6/site-packages/sklearn/model_selection/_validation.py:479: FitFailedWarning: Classifier fit failed. The score on this train-test partition for these parameters will be set to 0.000000. Details: \n",
      "ValueError(\"Unsupported set of arguments: The combination of penalty='l1' and loss='squared_hinge' are not supported when dual=True, Parameters: penalty='l1', loss='squared_hinge', dual=True\",)\n",
      "  \"Details: \\n%r\" % (error_score, e), FitFailedWarning)\n"
     ]
    },
    {
     "name": "stdout",
     "output_type": "stream",
     "text": [
      "[CV]  C=0.01, class_weight=balanced, penalty=l1, tol=0.0001, score=0, total=   0.0s\n",
      "[CV] C=0.01, class_weight=balanced, penalty=l1, tol=0.0001 ...........\n",
      "[CV]  C=0.01, class_weight=balanced, penalty=l1, tol=0.0001, score=0, total=   0.0s\n",
      "[CV] C=0.01, class_weight=balanced, penalty=l1, tol=0.0001 ...........\n",
      "[CV]  C=0.01, class_weight=balanced, penalty=l1, tol=0.0001, score=0, total=   0.0s\n",
      "[CV] C=0.01, class_weight=balanced, penalty=l1, tol=0.0001 ...........\n",
      "[CV]  C=0.01, class_weight=balanced, penalty=l1, tol=0.0001, score=0, total=   0.0s\n",
      "[CV] C=0.01, class_weight=balanced, penalty=l1, tol=0.001 ............\n",
      "[CV]  C=0.01, class_weight=balanced, penalty=l1, tol=0.001, score=0, total=   0.0s\n",
      "[CV] C=0.01, class_weight=balanced, penalty=l1, tol=0.001 ............\n",
      "[CV]  C=0.01, class_weight=balanced, penalty=l1, tol=0.001, score=0, total=   0.0s\n",
      "[CV] C=0.01, class_weight=balanced, penalty=l1, tol=0.001 ............\n"
     ]
    },
    {
     "name": "stderr",
     "output_type": "stream",
     "text": [
      "/Library/Frameworks/Python.framework/Versions/3.6/lib/python3.6/site-packages/sklearn/model_selection/_validation.py:479: FitFailedWarning: Classifier fit failed. The score on this train-test partition for these parameters will be set to 0.000000. Details: \n",
      "ValueError(\"Unsupported set of arguments: The combination of penalty='l1' and loss='squared_hinge' are not supported when dual=True, Parameters: penalty='l1', loss='squared_hinge', dual=True\",)\n",
      "  \"Details: \\n%r\" % (error_score, e), FitFailedWarning)\n",
      "/Library/Frameworks/Python.framework/Versions/3.6/lib/python3.6/site-packages/sklearn/model_selection/_validation.py:479: FitFailedWarning: Classifier fit failed. The score on this train-test partition for these parameters will be set to 0.000000. Details: \n",
      "ValueError(\"Unsupported set of arguments: The combination of penalty='l1' and loss='squared_hinge' are not supported when dual=True, Parameters: penalty='l1', loss='squared_hinge', dual=True\",)\n",
      "  \"Details: \\n%r\" % (error_score, e), FitFailedWarning)\n",
      "/Library/Frameworks/Python.framework/Versions/3.6/lib/python3.6/site-packages/sklearn/model_selection/_validation.py:479: FitFailedWarning: Classifier fit failed. The score on this train-test partition for these parameters will be set to 0.000000. Details: \n",
      "ValueError(\"Unsupported set of arguments: The combination of penalty='l1' and loss='squared_hinge' are not supported when dual=True, Parameters: penalty='l1', loss='squared_hinge', dual=True\",)\n",
      "  \"Details: \\n%r\" % (error_score, e), FitFailedWarning)\n",
      "/Library/Frameworks/Python.framework/Versions/3.6/lib/python3.6/site-packages/sklearn/model_selection/_validation.py:479: FitFailedWarning: Classifier fit failed. The score on this train-test partition for these parameters will be set to 0.000000. Details: \n",
      "ValueError(\"Unsupported set of arguments: The combination of penalty='l1' and loss='squared_hinge' are not supported when dual=True, Parameters: penalty='l1', loss='squared_hinge', dual=True\",)\n",
      "  \"Details: \\n%r\" % (error_score, e), FitFailedWarning)\n",
      "/Library/Frameworks/Python.framework/Versions/3.6/lib/python3.6/site-packages/sklearn/model_selection/_validation.py:479: FitFailedWarning: Classifier fit failed. The score on this train-test partition for these parameters will be set to 0.000000. Details: \n",
      "ValueError(\"Unsupported set of arguments: The combination of penalty='l1' and loss='squared_hinge' are not supported when dual=True, Parameters: penalty='l1', loss='squared_hinge', dual=True\",)\n",
      "  \"Details: \\n%r\" % (error_score, e), FitFailedWarning)\n",
      "/Library/Frameworks/Python.framework/Versions/3.6/lib/python3.6/site-packages/sklearn/model_selection/_validation.py:479: FitFailedWarning: Classifier fit failed. The score on this train-test partition for these parameters will be set to 0.000000. Details: \n",
      "ValueError(\"Unsupported set of arguments: The combination of penalty='l1' and loss='squared_hinge' are not supported when dual=True, Parameters: penalty='l1', loss='squared_hinge', dual=True\",)\n",
      "  \"Details: \\n%r\" % (error_score, e), FitFailedWarning)\n"
     ]
    },
    {
     "name": "stdout",
     "output_type": "stream",
     "text": [
      "[CV]  C=0.01, class_weight=balanced, penalty=l1, tol=0.001, score=0, total=   0.0s\n",
      "[CV] C=0.01, class_weight=balanced, penalty=l1, tol=0.001 ............\n",
      "[CV]  C=0.01, class_weight=balanced, penalty=l1, tol=0.001, score=0, total=   0.0s\n",
      "[CV] C=0.01, class_weight=balanced, penalty=l1, tol=0.001 ............\n",
      "[CV]  C=0.01, class_weight=balanced, penalty=l1, tol=0.001, score=0, total=   0.0s\n",
      "[CV] C=0.01, class_weight=balanced, penalty=l1, tol=0.01 .............\n",
      "[CV]  C=0.01, class_weight=balanced, penalty=l1, tol=0.01, score=0, total=   0.0s\n",
      "[CV] C=0.01, class_weight=balanced, penalty=l1, tol=0.01 .............\n",
      "[CV]  C=0.01, class_weight=balanced, penalty=l1, tol=0.01, score=0, total=   0.0s\n",
      "[CV] C=0.01, class_weight=balanced, penalty=l1, tol=0.01 .............\n",
      "[CV]  C=0.01, class_weight=balanced, penalty=l1, tol=0.01, score=0, total=   0.0s\n",
      "[CV] C=0.01, class_weight=balanced, penalty=l1, tol=0.01 .............\n",
      "[CV]  C=0.01, class_weight=balanced, penalty=l1, tol=0.01, score=0, total=   0.0s\n",
      "[CV] C=0.01, class_weight=balanced, penalty=l1, tol=0.01 .............\n"
     ]
    },
    {
     "name": "stderr",
     "output_type": "stream",
     "text": [
      "/Library/Frameworks/Python.framework/Versions/3.6/lib/python3.6/site-packages/sklearn/model_selection/_validation.py:479: FitFailedWarning: Classifier fit failed. The score on this train-test partition for these parameters will be set to 0.000000. Details: \n",
      "ValueError(\"Unsupported set of arguments: The combination of penalty='l1' and loss='squared_hinge' are not supported when dual=True, Parameters: penalty='l1', loss='squared_hinge', dual=True\",)\n",
      "  \"Details: \\n%r\" % (error_score, e), FitFailedWarning)\n",
      "/Library/Frameworks/Python.framework/Versions/3.6/lib/python3.6/site-packages/sklearn/model_selection/_validation.py:479: FitFailedWarning: Classifier fit failed. The score on this train-test partition for these parameters will be set to 0.000000. Details: \n",
      "ValueError(\"Unsupported set of arguments: The combination of penalty='l1' and loss='squared_hinge' are not supported when dual=True, Parameters: penalty='l1', loss='squared_hinge', dual=True\",)\n",
      "  \"Details: \\n%r\" % (error_score, e), FitFailedWarning)\n",
      "/Library/Frameworks/Python.framework/Versions/3.6/lib/python3.6/site-packages/sklearn/model_selection/_validation.py:479: FitFailedWarning: Classifier fit failed. The score on this train-test partition for these parameters will be set to 0.000000. Details: \n",
      "ValueError(\"Unsupported set of arguments: The combination of penalty='l1' and loss='squared_hinge' are not supported when dual=True, Parameters: penalty='l1', loss='squared_hinge', dual=True\",)\n",
      "  \"Details: \\n%r\" % (error_score, e), FitFailedWarning)\n",
      "/Library/Frameworks/Python.framework/Versions/3.6/lib/python3.6/site-packages/sklearn/model_selection/_validation.py:479: FitFailedWarning: Classifier fit failed. The score on this train-test partition for these parameters will be set to 0.000000. Details: \n",
      "ValueError(\"Unsupported set of arguments: The combination of penalty='l1' and loss='squared_hinge' are not supported when dual=True, Parameters: penalty='l1', loss='squared_hinge', dual=True\",)\n",
      "  \"Details: \\n%r\" % (error_score, e), FitFailedWarning)\n",
      "/Library/Frameworks/Python.framework/Versions/3.6/lib/python3.6/site-packages/sklearn/model_selection/_validation.py:479: FitFailedWarning: Classifier fit failed. The score on this train-test partition for these parameters will be set to 0.000000. Details: \n",
      "ValueError(\"Unsupported set of arguments: The combination of penalty='l1' and loss='squared_hinge' are not supported when dual=True, Parameters: penalty='l1', loss='squared_hinge', dual=True\",)\n",
      "  \"Details: \\n%r\" % (error_score, e), FitFailedWarning)\n",
      "/Library/Frameworks/Python.framework/Versions/3.6/lib/python3.6/site-packages/sklearn/model_selection/_validation.py:479: FitFailedWarning: Classifier fit failed. The score on this train-test partition for these parameters will be set to 0.000000. Details: \n",
      "ValueError(\"Unsupported set of arguments: The combination of penalty='l1' and loss='squared_hinge' are not supported when dual=True, Parameters: penalty='l1', loss='squared_hinge', dual=True\",)\n",
      "  \"Details: \\n%r\" % (error_score, e), FitFailedWarning)\n",
      "/Library/Frameworks/Python.framework/Versions/3.6/lib/python3.6/site-packages/sklearn/model_selection/_validation.py:479: FitFailedWarning: Classifier fit failed. The score on this train-test partition for these parameters will be set to 0.000000. Details: \n",
      "ValueError(\"Unsupported set of arguments: The combination of penalty='l1' and loss='squared_hinge' are not supported when dual=True, Parameters: penalty='l1', loss='squared_hinge', dual=True\",)\n",
      "  \"Details: \\n%r\" % (error_score, e), FitFailedWarning)\n"
     ]
    },
    {
     "name": "stdout",
     "output_type": "stream",
     "text": [
      "[CV]  C=0.01, class_weight=balanced, penalty=l1, tol=0.01, score=0, total=   0.0s\n",
      "[CV] C=0.01, class_weight=balanced, penalty=l1, tol=0.1 ..............\n",
      "[CV]  C=0.01, class_weight=balanced, penalty=l1, tol=0.1, score=0, total=   0.0s\n",
      "[CV] C=0.01, class_weight=balanced, penalty=l1, tol=0.1 ..............\n",
      "[CV]  C=0.01, class_weight=balanced, penalty=l1, tol=0.1, score=0, total=   0.0s\n",
      "[CV] C=0.01, class_weight=balanced, penalty=l1, tol=0.1 ..............\n",
      "[CV]  C=0.01, class_weight=balanced, penalty=l1, tol=0.1, score=0, total=   0.0s\n",
      "[CV] C=0.01, class_weight=balanced, penalty=l1, tol=0.1 ..............\n",
      "[CV]  C=0.01, class_weight=balanced, penalty=l1, tol=0.1, score=0, total=   0.0s\n",
      "[CV] C=0.01, class_weight=balanced, penalty=l1, tol=0.1 ..............\n",
      "[CV]  C=0.01, class_weight=balanced, penalty=l1, tol=0.1, score=0, total=   0.0s\n",
      "[CV] C=0.01, class_weight=balanced, penalty=l1, tol=1 ................\n"
     ]
    },
    {
     "name": "stderr",
     "output_type": "stream",
     "text": [
      "/Library/Frameworks/Python.framework/Versions/3.6/lib/python3.6/site-packages/sklearn/model_selection/_validation.py:479: FitFailedWarning: Classifier fit failed. The score on this train-test partition for these parameters will be set to 0.000000. Details: \n",
      "ValueError(\"Unsupported set of arguments: The combination of penalty='l1' and loss='squared_hinge' are not supported when dual=True, Parameters: penalty='l1', loss='squared_hinge', dual=True\",)\n",
      "  \"Details: \\n%r\" % (error_score, e), FitFailedWarning)\n",
      "/Library/Frameworks/Python.framework/Versions/3.6/lib/python3.6/site-packages/sklearn/model_selection/_validation.py:479: FitFailedWarning: Classifier fit failed. The score on this train-test partition for these parameters will be set to 0.000000. Details: \n",
      "ValueError(\"Unsupported set of arguments: The combination of penalty='l1' and loss='squared_hinge' are not supported when dual=True, Parameters: penalty='l1', loss='squared_hinge', dual=True\",)\n",
      "  \"Details: \\n%r\" % (error_score, e), FitFailedWarning)\n",
      "/Library/Frameworks/Python.framework/Versions/3.6/lib/python3.6/site-packages/sklearn/model_selection/_validation.py:479: FitFailedWarning: Classifier fit failed. The score on this train-test partition for these parameters will be set to 0.000000. Details: \n",
      "ValueError(\"Unsupported set of arguments: The combination of penalty='l1' and loss='squared_hinge' are not supported when dual=True, Parameters: penalty='l1', loss='squared_hinge', dual=True\",)\n",
      "  \"Details: \\n%r\" % (error_score, e), FitFailedWarning)\n",
      "/Library/Frameworks/Python.framework/Versions/3.6/lib/python3.6/site-packages/sklearn/model_selection/_validation.py:479: FitFailedWarning: Classifier fit failed. The score on this train-test partition for these parameters will be set to 0.000000. Details: \n",
      "ValueError(\"Unsupported set of arguments: The combination of penalty='l1' and loss='squared_hinge' are not supported when dual=True, Parameters: penalty='l1', loss='squared_hinge', dual=True\",)\n",
      "  \"Details: \\n%r\" % (error_score, e), FitFailedWarning)\n",
      "/Library/Frameworks/Python.framework/Versions/3.6/lib/python3.6/site-packages/sklearn/model_selection/_validation.py:479: FitFailedWarning: Classifier fit failed. The score on this train-test partition for these parameters will be set to 0.000000. Details: \n",
      "ValueError(\"Unsupported set of arguments: The combination of penalty='l1' and loss='squared_hinge' are not supported when dual=True, Parameters: penalty='l1', loss='squared_hinge', dual=True\",)\n",
      "  \"Details: \\n%r\" % (error_score, e), FitFailedWarning)\n",
      "/Library/Frameworks/Python.framework/Versions/3.6/lib/python3.6/site-packages/sklearn/model_selection/_validation.py:479: FitFailedWarning: Classifier fit failed. The score on this train-test partition for these parameters will be set to 0.000000. Details: \n",
      "ValueError(\"Unsupported set of arguments: The combination of penalty='l1' and loss='squared_hinge' are not supported when dual=True, Parameters: penalty='l1', loss='squared_hinge', dual=True\",)\n",
      "  \"Details: \\n%r\" % (error_score, e), FitFailedWarning)\n",
      "/Library/Frameworks/Python.framework/Versions/3.6/lib/python3.6/site-packages/sklearn/model_selection/_validation.py:479: FitFailedWarning: Classifier fit failed. The score on this train-test partition for these parameters will be set to 0.000000. Details: \n",
      "ValueError(\"Unsupported set of arguments: The combination of penalty='l1' and loss='squared_hinge' are not supported when dual=True, Parameters: penalty='l1', loss='squared_hinge', dual=True\",)\n",
      "  \"Details: \\n%r\" % (error_score, e), FitFailedWarning)\n"
     ]
    },
    {
     "name": "stdout",
     "output_type": "stream",
     "text": [
      "[CV]  C=0.01, class_weight=balanced, penalty=l1, tol=1, score=0, total=   0.0s\n",
      "[CV] C=0.01, class_weight=balanced, penalty=l1, tol=1 ................\n",
      "[CV]  C=0.01, class_weight=balanced, penalty=l1, tol=1, score=0, total=   0.0s\n",
      "[CV] C=0.01, class_weight=balanced, penalty=l1, tol=1 ................\n",
      "[CV]  C=0.01, class_weight=balanced, penalty=l1, tol=1, score=0, total=   0.0s\n",
      "[CV] C=0.01, class_weight=balanced, penalty=l1, tol=1 ................\n",
      "[CV]  C=0.01, class_weight=balanced, penalty=l1, tol=1, score=0, total=   0.0s\n",
      "[CV] C=0.01, class_weight=balanced, penalty=l1, tol=1 ................\n",
      "[CV]  C=0.01, class_weight=balanced, penalty=l1, tol=1, score=0, total=   0.0s\n",
      "[CV] C=0.01, class_weight=balanced, penalty=l2, tol=0.0001 ...........\n",
      "[CV]  C=0.01, class_weight=balanced, penalty=l2, tol=0.0001, score=0.6489743165459122, total=   0.4s\n",
      "[CV] C=0.01, class_weight=balanced, penalty=l2, tol=0.0001 ...........\n",
      "[CV]  C=0.01, class_weight=balanced, penalty=l2, tol=0.0001, score=0.6358628259863872, total=   0.5s\n",
      "[CV] C=0.01, class_weight=balanced, penalty=l2, tol=0.0001 ...........\n",
      "[CV]  C=0.01, class_weight=balanced, penalty=l2, tol=0.0001, score=0.6793510829820901, total=   0.4s\n",
      "[CV] C=0.01, class_weight=balanced, penalty=l2, tol=0.0001 ...........\n",
      "[CV]  C=0.01, class_weight=balanced, penalty=l2, tol=0.0001, score=0.6430906926673821, total=   0.3s\n",
      "[CV] C=0.01, class_weight=balanced, penalty=l2, tol=0.0001 ...........\n",
      "[CV]  C=0.01, class_weight=balanced, penalty=l2, tol=0.0001, score=0.6388421536087034, total=   0.4s\n",
      "[CV] C=0.01, class_weight=balanced, penalty=l2, tol=0.001 ............\n",
      "[CV]  C=0.01, class_weight=balanced, penalty=l2, tol=0.001, score=0.6489743165459122, total=   0.3s\n",
      "[CV] C=0.01, class_weight=balanced, penalty=l2, tol=0.001 ............\n",
      "[CV]  C=0.01, class_weight=balanced, penalty=l2, tol=0.001, score=0.6358628259863872, total=   0.3s\n",
      "[CV] C=0.01, class_weight=balanced, penalty=l2, tol=0.001 ............\n",
      "[CV]  C=0.01, class_weight=balanced, penalty=l2, tol=0.001, score=0.6793510829820901, total=   0.4s\n",
      "[CV] C=0.01, class_weight=balanced, penalty=l2, tol=0.001 ............\n",
      "[CV]  C=0.01, class_weight=balanced, penalty=l2, tol=0.001, score=0.6430906926673821, total=   0.3s\n",
      "[CV] C=0.01, class_weight=balanced, penalty=l2, tol=0.001 ............\n",
      "[CV]  C=0.01, class_weight=balanced, penalty=l2, tol=0.001, score=0.6388421536087034, total=   0.3s\n",
      "[CV] C=0.01, class_weight=balanced, penalty=l2, tol=0.01 .............\n",
      "[CV]  C=0.01, class_weight=balanced, penalty=l2, tol=0.01, score=0.6489743165459122, total=   0.3s\n",
      "[CV] C=0.01, class_weight=balanced, penalty=l2, tol=0.01 .............\n",
      "[CV]  C=0.01, class_weight=balanced, penalty=l2, tol=0.01, score=0.6358628259863872, total=   0.3s\n",
      "[CV] C=0.01, class_weight=balanced, penalty=l2, tol=0.01 .............\n",
      "[CV]  C=0.01, class_weight=balanced, penalty=l2, tol=0.01, score=0.6793510829820901, total=   0.3s\n",
      "[CV] C=0.01, class_weight=balanced, penalty=l2, tol=0.01 .............\n",
      "[CV]  C=0.01, class_weight=balanced, penalty=l2, tol=0.01, score=0.6430906926673821, total=   0.3s\n",
      "[CV] C=0.01, class_weight=balanced, penalty=l2, tol=0.01 .............\n",
      "[CV]  C=0.01, class_weight=balanced, penalty=l2, tol=0.01, score=0.6388421536087034, total=   0.3s\n",
      "[CV] C=0.01, class_weight=balanced, penalty=l2, tol=0.1 ..............\n",
      "[CV]  C=0.01, class_weight=balanced, penalty=l2, tol=0.1, score=0.6489743165459122, total=   0.2s\n",
      "[CV] C=0.01, class_weight=balanced, penalty=l2, tol=0.1 ..............\n",
      "[CV]  C=0.01, class_weight=balanced, penalty=l2, tol=0.1, score=0.6358628259863872, total=   0.2s\n",
      "[CV] C=0.01, class_weight=balanced, penalty=l2, tol=0.1 ..............\n",
      "[CV]  C=0.01, class_weight=balanced, penalty=l2, tol=0.1, score=0.6793510829820901, total=   0.3s\n",
      "[CV] C=0.01, class_weight=balanced, penalty=l2, tol=0.1 ..............\n",
      "[CV]  C=0.01, class_weight=balanced, penalty=l2, tol=0.1, score=0.6430906926673821, total=   0.2s\n",
      "[CV] C=0.01, class_weight=balanced, penalty=l2, tol=0.1 ..............\n",
      "[CV]  C=0.01, class_weight=balanced, penalty=l2, tol=0.1, score=0.6388421536087034, total=   0.3s\n",
      "[CV] C=0.01, class_weight=balanced, penalty=l2, tol=1 ................\n",
      "[CV]  C=0.01, class_weight=balanced, penalty=l2, tol=1, score=0.6481623022214039, total=   0.2s\n",
      "[CV] C=0.01, class_weight=balanced, penalty=l2, tol=1 ................\n",
      "[CV]  C=0.01, class_weight=balanced, penalty=l2, tol=1, score=0.6346049425924177, total=   0.2s\n",
      "[CV] C=0.01, class_weight=balanced, penalty=l2, tol=1 ................\n",
      "[CV]  C=0.01, class_weight=balanced, penalty=l2, tol=1, score=0.6784584038458504, total=   0.1s\n",
      "[CV] C=0.01, class_weight=balanced, penalty=l2, tol=1 ................\n",
      "[CV]  C=0.01, class_weight=balanced, penalty=l2, tol=1, score=0.6445551727909011, total=   0.1s\n",
      "[CV] C=0.01, class_weight=balanced, penalty=l2, tol=1 ................\n",
      "[CV]  C=0.01, class_weight=balanced, penalty=l2, tol=1, score=0.6400777629904585, total=   0.1s\n",
      "[CV] C=0.01, class_weight=None, penalty=l1, tol=0.0001 ...............\n",
      "[CV]  C=0.01, class_weight=None, penalty=l1, tol=0.0001, score=0, total=   0.0s\n",
      "[CV] C=0.01, class_weight=None, penalty=l1, tol=0.0001 ...............\n"
     ]
    },
    {
     "name": "stderr",
     "output_type": "stream",
     "text": [
      "/Library/Frameworks/Python.framework/Versions/3.6/lib/python3.6/site-packages/sklearn/model_selection/_validation.py:479: FitFailedWarning: Classifier fit failed. The score on this train-test partition for these parameters will be set to 0.000000. Details: \n",
      "ValueError(\"Unsupported set of arguments: The combination of penalty='l1' and loss='squared_hinge' are not supported when dual=True, Parameters: penalty='l1', loss='squared_hinge', dual=True\",)\n",
      "  \"Details: \\n%r\" % (error_score, e), FitFailedWarning)\n",
      "/Library/Frameworks/Python.framework/Versions/3.6/lib/python3.6/site-packages/sklearn/model_selection/_validation.py:479: FitFailedWarning: Classifier fit failed. The score on this train-test partition for these parameters will be set to 0.000000. Details: \n",
      "ValueError(\"Unsupported set of arguments: The combination of penalty='l1' and loss='squared_hinge' are not supported when dual=True, Parameters: penalty='l1', loss='squared_hinge', dual=True\",)\n",
      "  \"Details: \\n%r\" % (error_score, e), FitFailedWarning)\n",
      "/Library/Frameworks/Python.framework/Versions/3.6/lib/python3.6/site-packages/sklearn/model_selection/_validation.py:479: FitFailedWarning: Classifier fit failed. The score on this train-test partition for these parameters will be set to 0.000000. Details: \n",
      "ValueError(\"Unsupported set of arguments: The combination of penalty='l1' and loss='squared_hinge' are not supported when dual=True, Parameters: penalty='l1', loss='squared_hinge', dual=True\",)\n",
      "  \"Details: \\n%r\" % (error_score, e), FitFailedWarning)\n",
      "/Library/Frameworks/Python.framework/Versions/3.6/lib/python3.6/site-packages/sklearn/model_selection/_validation.py:479: FitFailedWarning: Classifier fit failed. The score on this train-test partition for these parameters will be set to 0.000000. Details: \n",
      "ValueError(\"Unsupported set of arguments: The combination of penalty='l1' and loss='squared_hinge' are not supported when dual=True, Parameters: penalty='l1', loss='squared_hinge', dual=True\",)\n",
      "  \"Details: \\n%r\" % (error_score, e), FitFailedWarning)\n",
      "/Library/Frameworks/Python.framework/Versions/3.6/lib/python3.6/site-packages/sklearn/model_selection/_validation.py:479: FitFailedWarning: Classifier fit failed. The score on this train-test partition for these parameters will be set to 0.000000. Details: \n",
      "ValueError(\"Unsupported set of arguments: The combination of penalty='l1' and loss='squared_hinge' are not supported when dual=True, Parameters: penalty='l1', loss='squared_hinge', dual=True\",)\n",
      "  \"Details: \\n%r\" % (error_score, e), FitFailedWarning)\n",
      "/Library/Frameworks/Python.framework/Versions/3.6/lib/python3.6/site-packages/sklearn/model_selection/_validation.py:479: FitFailedWarning: Classifier fit failed. The score on this train-test partition for these parameters will be set to 0.000000. Details: \n",
      "ValueError(\"Unsupported set of arguments: The combination of penalty='l1' and loss='squared_hinge' are not supported when dual=True, Parameters: penalty='l1', loss='squared_hinge', dual=True\",)\n",
      "  \"Details: \\n%r\" % (error_score, e), FitFailedWarning)\n",
      "/Library/Frameworks/Python.framework/Versions/3.6/lib/python3.6/site-packages/sklearn/model_selection/_validation.py:479: FitFailedWarning: Classifier fit failed. The score on this train-test partition for these parameters will be set to 0.000000. Details: \n",
      "ValueError(\"Unsupported set of arguments: The combination of penalty='l1' and loss='squared_hinge' are not supported when dual=True, Parameters: penalty='l1', loss='squared_hinge', dual=True\",)\n",
      "  \"Details: \\n%r\" % (error_score, e), FitFailedWarning)\n"
     ]
    },
    {
     "name": "stdout",
     "output_type": "stream",
     "text": [
      "[CV]  C=0.01, class_weight=None, penalty=l1, tol=0.0001, score=0, total=   0.0s\n",
      "[CV] C=0.01, class_weight=None, penalty=l1, tol=0.0001 ...............\n",
      "[CV]  C=0.01, class_weight=None, penalty=l1, tol=0.0001, score=0, total=   0.0s\n",
      "[CV] C=0.01, class_weight=None, penalty=l1, tol=0.0001 ...............\n",
      "[CV]  C=0.01, class_weight=None, penalty=l1, tol=0.0001, score=0, total=   0.0s\n",
      "[CV] C=0.01, class_weight=None, penalty=l1, tol=0.0001 ...............\n",
      "[CV]  C=0.01, class_weight=None, penalty=l1, tol=0.0001, score=0, total=   0.0s\n",
      "[CV] C=0.01, class_weight=None, penalty=l1, tol=0.001 ................\n",
      "[CV]  C=0.01, class_weight=None, penalty=l1, tol=0.001, score=0, total=   0.0s\n",
      "[CV] C=0.01, class_weight=None, penalty=l1, tol=0.001 ................\n",
      "[CV]  C=0.01, class_weight=None, penalty=l1, tol=0.001, score=0, total=   0.0s\n",
      "[CV] C=0.01, class_weight=None, penalty=l1, tol=0.001 ................\n",
      "[CV]  C=0.01, class_weight=None, penalty=l1, tol=0.001, score=0, total=   0.0s\n",
      "[CV] C=0.01, class_weight=None, penalty=l1, tol=0.001 ................\n"
     ]
    },
    {
     "name": "stderr",
     "output_type": "stream",
     "text": [
      "/Library/Frameworks/Python.framework/Versions/3.6/lib/python3.6/site-packages/sklearn/model_selection/_validation.py:479: FitFailedWarning: Classifier fit failed. The score on this train-test partition for these parameters will be set to 0.000000. Details: \n",
      "ValueError(\"Unsupported set of arguments: The combination of penalty='l1' and loss='squared_hinge' are not supported when dual=True, Parameters: penalty='l1', loss='squared_hinge', dual=True\",)\n",
      "  \"Details: \\n%r\" % (error_score, e), FitFailedWarning)\n",
      "/Library/Frameworks/Python.framework/Versions/3.6/lib/python3.6/site-packages/sklearn/model_selection/_validation.py:479: FitFailedWarning: Classifier fit failed. The score on this train-test partition for these parameters will be set to 0.000000. Details: \n",
      "ValueError(\"Unsupported set of arguments: The combination of penalty='l1' and loss='squared_hinge' are not supported when dual=True, Parameters: penalty='l1', loss='squared_hinge', dual=True\",)\n",
      "  \"Details: \\n%r\" % (error_score, e), FitFailedWarning)\n",
      "/Library/Frameworks/Python.framework/Versions/3.6/lib/python3.6/site-packages/sklearn/model_selection/_validation.py:479: FitFailedWarning: Classifier fit failed. The score on this train-test partition for these parameters will be set to 0.000000. Details: \n",
      "ValueError(\"Unsupported set of arguments: The combination of penalty='l1' and loss='squared_hinge' are not supported when dual=True, Parameters: penalty='l1', loss='squared_hinge', dual=True\",)\n",
      "  \"Details: \\n%r\" % (error_score, e), FitFailedWarning)\n",
      "/Library/Frameworks/Python.framework/Versions/3.6/lib/python3.6/site-packages/sklearn/model_selection/_validation.py:479: FitFailedWarning: Classifier fit failed. The score on this train-test partition for these parameters will be set to 0.000000. Details: \n",
      "ValueError(\"Unsupported set of arguments: The combination of penalty='l1' and loss='squared_hinge' are not supported when dual=True, Parameters: penalty='l1', loss='squared_hinge', dual=True\",)\n",
      "  \"Details: \\n%r\" % (error_score, e), FitFailedWarning)\n",
      "/Library/Frameworks/Python.framework/Versions/3.6/lib/python3.6/site-packages/sklearn/model_selection/_validation.py:479: FitFailedWarning: Classifier fit failed. The score on this train-test partition for these parameters will be set to 0.000000. Details: \n",
      "ValueError(\"Unsupported set of arguments: The combination of penalty='l1' and loss='squared_hinge' are not supported when dual=True, Parameters: penalty='l1', loss='squared_hinge', dual=True\",)\n",
      "  \"Details: \\n%r\" % (error_score, e), FitFailedWarning)\n",
      "/Library/Frameworks/Python.framework/Versions/3.6/lib/python3.6/site-packages/sklearn/model_selection/_validation.py:479: FitFailedWarning: Classifier fit failed. The score on this train-test partition for these parameters will be set to 0.000000. Details: \n",
      "ValueError(\"Unsupported set of arguments: The combination of penalty='l1' and loss='squared_hinge' are not supported when dual=True, Parameters: penalty='l1', loss='squared_hinge', dual=True\",)\n",
      "  \"Details: \\n%r\" % (error_score, e), FitFailedWarning)\n",
      "/Library/Frameworks/Python.framework/Versions/3.6/lib/python3.6/site-packages/sklearn/model_selection/_validation.py:479: FitFailedWarning: Classifier fit failed. The score on this train-test partition for these parameters will be set to 0.000000. Details: \n",
      "ValueError(\"Unsupported set of arguments: The combination of penalty='l1' and loss='squared_hinge' are not supported when dual=True, Parameters: penalty='l1', loss='squared_hinge', dual=True\",)\n",
      "  \"Details: \\n%r\" % (error_score, e), FitFailedWarning)\n"
     ]
    },
    {
     "name": "stdout",
     "output_type": "stream",
     "text": [
      "[CV]  C=0.01, class_weight=None, penalty=l1, tol=0.001, score=0, total=   0.0s\n",
      "[CV] C=0.01, class_weight=None, penalty=l1, tol=0.001 ................\n",
      "[CV]  C=0.01, class_weight=None, penalty=l1, tol=0.001, score=0, total=   0.0s\n",
      "[CV] C=0.01, class_weight=None, penalty=l1, tol=0.01 .................\n",
      "[CV]  C=0.01, class_weight=None, penalty=l1, tol=0.01, score=0, total=   0.0s\n",
      "[CV] C=0.01, class_weight=None, penalty=l1, tol=0.01 .................\n",
      "[CV]  C=0.01, class_weight=None, penalty=l1, tol=0.01, score=0, total=   0.0s\n",
      "[CV] C=0.01, class_weight=None, penalty=l1, tol=0.01 .................\n",
      "[CV]  C=0.01, class_weight=None, penalty=l1, tol=0.01, score=0, total=   0.0s\n",
      "[CV] C=0.01, class_weight=None, penalty=l1, tol=0.01 .................\n",
      "[CV]  C=0.01, class_weight=None, penalty=l1, tol=0.01, score=0, total=   0.0s\n",
      "[CV] C=0.01, class_weight=None, penalty=l1, tol=0.01 .................\n",
      "[CV]  C=0.01, class_weight=None, penalty=l1, tol=0.01, score=0, total=   0.0s\n",
      "[CV] C=0.01, class_weight=None, penalty=l1, tol=0.1 ..................\n"
     ]
    },
    {
     "name": "stderr",
     "output_type": "stream",
     "text": [
      "/Library/Frameworks/Python.framework/Versions/3.6/lib/python3.6/site-packages/sklearn/model_selection/_validation.py:479: FitFailedWarning: Classifier fit failed. The score on this train-test partition for these parameters will be set to 0.000000. Details: \n",
      "ValueError(\"Unsupported set of arguments: The combination of penalty='l1' and loss='squared_hinge' are not supported when dual=True, Parameters: penalty='l1', loss='squared_hinge', dual=True\",)\n",
      "  \"Details: \\n%r\" % (error_score, e), FitFailedWarning)\n",
      "/Library/Frameworks/Python.framework/Versions/3.6/lib/python3.6/site-packages/sklearn/model_selection/_validation.py:479: FitFailedWarning: Classifier fit failed. The score on this train-test partition for these parameters will be set to 0.000000. Details: \n",
      "ValueError(\"Unsupported set of arguments: The combination of penalty='l1' and loss='squared_hinge' are not supported when dual=True, Parameters: penalty='l1', loss='squared_hinge', dual=True\",)\n",
      "  \"Details: \\n%r\" % (error_score, e), FitFailedWarning)\n",
      "/Library/Frameworks/Python.framework/Versions/3.6/lib/python3.6/site-packages/sklearn/model_selection/_validation.py:479: FitFailedWarning: Classifier fit failed. The score on this train-test partition for these parameters will be set to 0.000000. Details: \n",
      "ValueError(\"Unsupported set of arguments: The combination of penalty='l1' and loss='squared_hinge' are not supported when dual=True, Parameters: penalty='l1', loss='squared_hinge', dual=True\",)\n",
      "  \"Details: \\n%r\" % (error_score, e), FitFailedWarning)\n",
      "/Library/Frameworks/Python.framework/Versions/3.6/lib/python3.6/site-packages/sklearn/model_selection/_validation.py:479: FitFailedWarning: Classifier fit failed. The score on this train-test partition for these parameters will be set to 0.000000. Details: \n",
      "ValueError(\"Unsupported set of arguments: The combination of penalty='l1' and loss='squared_hinge' are not supported when dual=True, Parameters: penalty='l1', loss='squared_hinge', dual=True\",)\n",
      "  \"Details: \\n%r\" % (error_score, e), FitFailedWarning)\n",
      "/Library/Frameworks/Python.framework/Versions/3.6/lib/python3.6/site-packages/sklearn/model_selection/_validation.py:479: FitFailedWarning: Classifier fit failed. The score on this train-test partition for these parameters will be set to 0.000000. Details: \n",
      "ValueError(\"Unsupported set of arguments: The combination of penalty='l1' and loss='squared_hinge' are not supported when dual=True, Parameters: penalty='l1', loss='squared_hinge', dual=True\",)\n",
      "  \"Details: \\n%r\" % (error_score, e), FitFailedWarning)\n",
      "/Library/Frameworks/Python.framework/Versions/3.6/lib/python3.6/site-packages/sklearn/model_selection/_validation.py:479: FitFailedWarning: Classifier fit failed. The score on this train-test partition for these parameters will be set to 0.000000. Details: \n",
      "ValueError(\"Unsupported set of arguments: The combination of penalty='l1' and loss='squared_hinge' are not supported when dual=True, Parameters: penalty='l1', loss='squared_hinge', dual=True\",)\n",
      "  \"Details: \\n%r\" % (error_score, e), FitFailedWarning)\n",
      "/Library/Frameworks/Python.framework/Versions/3.6/lib/python3.6/site-packages/sklearn/model_selection/_validation.py:479: FitFailedWarning: Classifier fit failed. The score on this train-test partition for these parameters will be set to 0.000000. Details: \n",
      "ValueError(\"Unsupported set of arguments: The combination of penalty='l1' and loss='squared_hinge' are not supported when dual=True, Parameters: penalty='l1', loss='squared_hinge', dual=True\",)\n",
      "  \"Details: \\n%r\" % (error_score, e), FitFailedWarning)\n"
     ]
    },
    {
     "name": "stdout",
     "output_type": "stream",
     "text": [
      "[CV]  C=0.01, class_weight=None, penalty=l1, tol=0.1, score=0, total=   0.0s\n",
      "[CV] C=0.01, class_weight=None, penalty=l1, tol=0.1 ..................\n",
      "[CV]  C=0.01, class_weight=None, penalty=l1, tol=0.1, score=0, total=   0.0s\n",
      "[CV] C=0.01, class_weight=None, penalty=l1, tol=0.1 ..................\n",
      "[CV]  C=0.01, class_weight=None, penalty=l1, tol=0.1, score=0, total=   0.0s\n",
      "[CV] C=0.01, class_weight=None, penalty=l1, tol=0.1 ..................\n",
      "[CV]  C=0.01, class_weight=None, penalty=l1, tol=0.1, score=0, total=   0.0s\n",
      "[CV] C=0.01, class_weight=None, penalty=l1, tol=0.1 ..................\n",
      "[CV]  C=0.01, class_weight=None, penalty=l1, tol=0.1, score=0, total=   0.0s\n",
      "[CV] C=0.01, class_weight=None, penalty=l1, tol=1 ....................\n",
      "[CV]  C=0.01, class_weight=None, penalty=l1, tol=1, score=0, total=   0.0s\n",
      "[CV] C=0.01, class_weight=None, penalty=l1, tol=1 ....................\n",
      "[CV]  C=0.01, class_weight=None, penalty=l1, tol=1, score=0, total=   0.0s\n",
      "[CV] C=0.01, class_weight=None, penalty=l1, tol=1 ....................\n"
     ]
    },
    {
     "name": "stderr",
     "output_type": "stream",
     "text": [
      "/Library/Frameworks/Python.framework/Versions/3.6/lib/python3.6/site-packages/sklearn/model_selection/_validation.py:479: FitFailedWarning: Classifier fit failed. The score on this train-test partition for these parameters will be set to 0.000000. Details: \n",
      "ValueError(\"Unsupported set of arguments: The combination of penalty='l1' and loss='squared_hinge' are not supported when dual=True, Parameters: penalty='l1', loss='squared_hinge', dual=True\",)\n",
      "  \"Details: \\n%r\" % (error_score, e), FitFailedWarning)\n",
      "/Library/Frameworks/Python.framework/Versions/3.6/lib/python3.6/site-packages/sklearn/model_selection/_validation.py:479: FitFailedWarning: Classifier fit failed. The score on this train-test partition for these parameters will be set to 0.000000. Details: \n",
      "ValueError(\"Unsupported set of arguments: The combination of penalty='l1' and loss='squared_hinge' are not supported when dual=True, Parameters: penalty='l1', loss='squared_hinge', dual=True\",)\n",
      "  \"Details: \\n%r\" % (error_score, e), FitFailedWarning)\n",
      "/Library/Frameworks/Python.framework/Versions/3.6/lib/python3.6/site-packages/sklearn/model_selection/_validation.py:479: FitFailedWarning: Classifier fit failed. The score on this train-test partition for these parameters will be set to 0.000000. Details: \n",
      "ValueError(\"Unsupported set of arguments: The combination of penalty='l1' and loss='squared_hinge' are not supported when dual=True, Parameters: penalty='l1', loss='squared_hinge', dual=True\",)\n",
      "  \"Details: \\n%r\" % (error_score, e), FitFailedWarning)\n",
      "/Library/Frameworks/Python.framework/Versions/3.6/lib/python3.6/site-packages/sklearn/model_selection/_validation.py:479: FitFailedWarning: Classifier fit failed. The score on this train-test partition for these parameters will be set to 0.000000. Details: \n",
      "ValueError(\"Unsupported set of arguments: The combination of penalty='l1' and loss='squared_hinge' are not supported when dual=True, Parameters: penalty='l1', loss='squared_hinge', dual=True\",)\n",
      "  \"Details: \\n%r\" % (error_score, e), FitFailedWarning)\n"
     ]
    },
    {
     "name": "stdout",
     "output_type": "stream",
     "text": [
      "[CV]  C=0.01, class_weight=None, penalty=l1, tol=1, score=0, total=   0.0s\n",
      "[CV] C=0.01, class_weight=None, penalty=l1, tol=1 ....................\n",
      "[CV]  C=0.01, class_weight=None, penalty=l1, tol=1, score=0, total=   0.0s\n",
      "[CV] C=0.01, class_weight=None, penalty=l1, tol=1 ....................\n",
      "[CV]  C=0.01, class_weight=None, penalty=l1, tol=1, score=0, total=   0.0s\n",
      "[CV] C=0.01, class_weight=None, penalty=l2, tol=0.0001 ...............\n",
      "[CV]  C=0.01, class_weight=None, penalty=l2, tol=0.0001, score=0.5036944808311389, total=   0.4s\n",
      "[CV] C=0.01, class_weight=None, penalty=l2, tol=0.0001 ...............\n",
      "[CV]  C=0.01, class_weight=None, penalty=l2, tol=0.0001, score=0.49962090423858885, total=   0.4s\n",
      "[CV] C=0.01, class_weight=None, penalty=l2, tol=0.0001 ...............\n",
      "[CV]  C=0.01, class_weight=None, penalty=l2, tol=0.0001, score=0.5197190544001141, total=   0.4s\n",
      "[CV] C=0.01, class_weight=None, penalty=l2, tol=0.0001 ...............\n",
      "[CV]  C=0.01, class_weight=None, penalty=l2, tol=0.0001, score=0.5097166871968355, total=   0.4s\n",
      "[CV] C=0.01, class_weight=None, penalty=l2, tol=0.0001 ...............\n",
      "[CV]  C=0.01, class_weight=None, penalty=l2, tol=0.0001, score=0.5068751947175035, total=   0.4s\n",
      "[CV] C=0.01, class_weight=None, penalty=l2, tol=0.001 ................\n",
      "[CV]  C=0.01, class_weight=None, penalty=l2, tol=0.001, score=0.5036944808311389, total=   0.3s\n",
      "[CV] C=0.01, class_weight=None, penalty=l2, tol=0.001 ................\n",
      "[CV]  C=0.01, class_weight=None, penalty=l2, tol=0.001, score=0.49962090423858885, total=   0.4s\n",
      "[CV] C=0.01, class_weight=None, penalty=l2, tol=0.001 ................\n",
      "[CV]  C=0.01, class_weight=None, penalty=l2, tol=0.001, score=0.5197190544001141, total=   0.3s\n",
      "[CV] C=0.01, class_weight=None, penalty=l2, tol=0.001 ................\n",
      "[CV]  C=0.01, class_weight=None, penalty=l2, tol=0.001, score=0.5097166871968355, total=   0.4s\n",
      "[CV] C=0.01, class_weight=None, penalty=l2, tol=0.001 ................\n",
      "[CV]  C=0.01, class_weight=None, penalty=l2, tol=0.001, score=0.5068751947175035, total=   0.3s\n",
      "[CV] C=0.01, class_weight=None, penalty=l2, tol=0.01 .................\n",
      "[CV]  C=0.01, class_weight=None, penalty=l2, tol=0.01, score=0.5036944808311389, total=   0.3s\n",
      "[CV] C=0.01, class_weight=None, penalty=l2, tol=0.01 .................\n",
      "[CV]  C=0.01, class_weight=None, penalty=l2, tol=0.01, score=0.49962090423858885, total=   0.3s\n",
      "[CV] C=0.01, class_weight=None, penalty=l2, tol=0.01 .................\n",
      "[CV]  C=0.01, class_weight=None, penalty=l2, tol=0.01, score=0.5197190544001141, total=   0.3s\n",
      "[CV] C=0.01, class_weight=None, penalty=l2, tol=0.01 .................\n",
      "[CV]  C=0.01, class_weight=None, penalty=l2, tol=0.01, score=0.5097166871968355, total=   0.3s\n",
      "[CV] C=0.01, class_weight=None, penalty=l2, tol=0.01 .................\n",
      "[CV]  C=0.01, class_weight=None, penalty=l2, tol=0.01, score=0.5068751947175035, total=   0.3s\n",
      "[CV] C=0.01, class_weight=None, penalty=l2, tol=0.1 ..................\n",
      "[CV]  C=0.01, class_weight=None, penalty=l2, tol=0.1, score=0.5036944808311389, total=   0.2s\n",
      "[CV] C=0.01, class_weight=None, penalty=l2, tol=0.1 ..................\n",
      "[CV]  C=0.01, class_weight=None, penalty=l2, tol=0.1, score=0.49962090423858885, total=   0.2s\n",
      "[CV] C=0.01, class_weight=None, penalty=l2, tol=0.1 ..................\n",
      "[CV]  C=0.01, class_weight=None, penalty=l2, tol=0.1, score=0.5197190544001141, total=   0.2s\n",
      "[CV] C=0.01, class_weight=None, penalty=l2, tol=0.1 ..................\n",
      "[CV]  C=0.01, class_weight=None, penalty=l2, tol=0.1, score=0.5097166871968355, total=   0.2s\n",
      "[CV] C=0.01, class_weight=None, penalty=l2, tol=0.1 ..................\n",
      "[CV]  C=0.01, class_weight=None, penalty=l2, tol=0.1, score=0.5068751947175035, total=   0.2s\n",
      "[CV] C=0.01, class_weight=None, penalty=l2, tol=1 ....................\n",
      "[CV]  C=0.01, class_weight=None, penalty=l2, tol=1, score=0.5142823178542045, total=   0.2s\n",
      "[CV] C=0.01, class_weight=None, penalty=l2, tol=1 ....................\n",
      "[CV]  C=0.01, class_weight=None, penalty=l2, tol=1, score=0.5060046056890819, total=   0.2s\n",
      "[CV] C=0.01, class_weight=None, penalty=l2, tol=1 ....................\n",
      "[CV]  C=0.01, class_weight=None, penalty=l2, tol=1, score=0.5205969001798375, total=   0.2s\n",
      "[CV] C=0.01, class_weight=None, penalty=l2, tol=1 ....................\n",
      "[CV]  C=0.01, class_weight=None, penalty=l2, tol=1, score=0.512918003481215, total=   0.2s\n",
      "[CV] C=0.01, class_weight=None, penalty=l2, tol=1 ....................\n",
      "[CV]  C=0.01, class_weight=None, penalty=l2, tol=1, score=0.510744437568976, total=   0.2s\n",
      "[CV] C=0.1, class_weight=balanced, penalty=l1, tol=0.0001 ............\n"
     ]
    },
    {
     "name": "stderr",
     "output_type": "stream",
     "text": [
      "/Library/Frameworks/Python.framework/Versions/3.6/lib/python3.6/site-packages/sklearn/model_selection/_validation.py:479: FitFailedWarning: Classifier fit failed. The score on this train-test partition for these parameters will be set to 0.000000. Details: \n",
      "ValueError(\"Unsupported set of arguments: The combination of penalty='l1' and loss='squared_hinge' are not supported when dual=True, Parameters: penalty='l1', loss='squared_hinge', dual=True\",)\n",
      "  \"Details: \\n%r\" % (error_score, e), FitFailedWarning)\n",
      "/Library/Frameworks/Python.framework/Versions/3.6/lib/python3.6/site-packages/sklearn/model_selection/_validation.py:479: FitFailedWarning: Classifier fit failed. The score on this train-test partition for these parameters will be set to 0.000000. Details: \n",
      "ValueError(\"Unsupported set of arguments: The combination of penalty='l1' and loss='squared_hinge' are not supported when dual=True, Parameters: penalty='l1', loss='squared_hinge', dual=True\",)\n",
      "  \"Details: \\n%r\" % (error_score, e), FitFailedWarning)\n",
      "/Library/Frameworks/Python.framework/Versions/3.6/lib/python3.6/site-packages/sklearn/model_selection/_validation.py:479: FitFailedWarning: Classifier fit failed. The score on this train-test partition for these parameters will be set to 0.000000. Details: \n",
      "ValueError(\"Unsupported set of arguments: The combination of penalty='l1' and loss='squared_hinge' are not supported when dual=True, Parameters: penalty='l1', loss='squared_hinge', dual=True\",)\n",
      "  \"Details: \\n%r\" % (error_score, e), FitFailedWarning)\n",
      "/Library/Frameworks/Python.framework/Versions/3.6/lib/python3.6/site-packages/sklearn/model_selection/_validation.py:479: FitFailedWarning: Classifier fit failed. The score on this train-test partition for these parameters will be set to 0.000000. Details: \n",
      "ValueError(\"Unsupported set of arguments: The combination of penalty='l1' and loss='squared_hinge' are not supported when dual=True, Parameters: penalty='l1', loss='squared_hinge', dual=True\",)\n",
      "  \"Details: \\n%r\" % (error_score, e), FitFailedWarning)\n",
      "/Library/Frameworks/Python.framework/Versions/3.6/lib/python3.6/site-packages/sklearn/model_selection/_validation.py:479: FitFailedWarning: Classifier fit failed. The score on this train-test partition for these parameters will be set to 0.000000. Details: \n",
      "ValueError(\"Unsupported set of arguments: The combination of penalty='l1' and loss='squared_hinge' are not supported when dual=True, Parameters: penalty='l1', loss='squared_hinge', dual=True\",)\n",
      "  \"Details: \\n%r\" % (error_score, e), FitFailedWarning)\n",
      "/Library/Frameworks/Python.framework/Versions/3.6/lib/python3.6/site-packages/sklearn/model_selection/_validation.py:479: FitFailedWarning: Classifier fit failed. The score on this train-test partition for these parameters will be set to 0.000000. Details: \n",
      "ValueError(\"Unsupported set of arguments: The combination of penalty='l1' and loss='squared_hinge' are not supported when dual=True, Parameters: penalty='l1', loss='squared_hinge', dual=True\",)\n",
      "  \"Details: \\n%r\" % (error_score, e), FitFailedWarning)\n"
     ]
    },
    {
     "name": "stdout",
     "output_type": "stream",
     "text": [
      "[CV]  C=0.1, class_weight=balanced, penalty=l1, tol=0.0001, score=0, total=   0.0s\n",
      "[CV] C=0.1, class_weight=balanced, penalty=l1, tol=0.0001 ............\n",
      "[CV]  C=0.1, class_weight=balanced, penalty=l1, tol=0.0001, score=0, total=   0.0s\n",
      "[CV] C=0.1, class_weight=balanced, penalty=l1, tol=0.0001 ............\n",
      "[CV]  C=0.1, class_weight=balanced, penalty=l1, tol=0.0001, score=0, total=   0.0s\n",
      "[CV] C=0.1, class_weight=balanced, penalty=l1, tol=0.0001 ............\n",
      "[CV]  C=0.1, class_weight=balanced, penalty=l1, tol=0.0001, score=0, total=   0.0s\n",
      "[CV] C=0.1, class_weight=balanced, penalty=l1, tol=0.0001 ............\n",
      "[CV]  C=0.1, class_weight=balanced, penalty=l1, tol=0.0001, score=0, total=   0.0s\n",
      "[CV] C=0.1, class_weight=balanced, penalty=l1, tol=0.001 .............\n",
      "[CV]  C=0.1, class_weight=balanced, penalty=l1, tol=0.001, score=0, total=   0.0s\n",
      "[CV] C=0.1, class_weight=balanced, penalty=l1, tol=0.001 .............\n"
     ]
    },
    {
     "name": "stderr",
     "output_type": "stream",
     "text": [
      "/Library/Frameworks/Python.framework/Versions/3.6/lib/python3.6/site-packages/sklearn/model_selection/_validation.py:479: FitFailedWarning: Classifier fit failed. The score on this train-test partition for these parameters will be set to 0.000000. Details: \n",
      "ValueError(\"Unsupported set of arguments: The combination of penalty='l1' and loss='squared_hinge' are not supported when dual=True, Parameters: penalty='l1', loss='squared_hinge', dual=True\",)\n",
      "  \"Details: \\n%r\" % (error_score, e), FitFailedWarning)\n",
      "/Library/Frameworks/Python.framework/Versions/3.6/lib/python3.6/site-packages/sklearn/model_selection/_validation.py:479: FitFailedWarning: Classifier fit failed. The score on this train-test partition for these parameters will be set to 0.000000. Details: \n",
      "ValueError(\"Unsupported set of arguments: The combination of penalty='l1' and loss='squared_hinge' are not supported when dual=True, Parameters: penalty='l1', loss='squared_hinge', dual=True\",)\n",
      "  \"Details: \\n%r\" % (error_score, e), FitFailedWarning)\n",
      "/Library/Frameworks/Python.framework/Versions/3.6/lib/python3.6/site-packages/sklearn/model_selection/_validation.py:479: FitFailedWarning: Classifier fit failed. The score on this train-test partition for these parameters will be set to 0.000000. Details: \n",
      "ValueError(\"Unsupported set of arguments: The combination of penalty='l1' and loss='squared_hinge' are not supported when dual=True, Parameters: penalty='l1', loss='squared_hinge', dual=True\",)\n",
      "  \"Details: \\n%r\" % (error_score, e), FitFailedWarning)\n",
      "/Library/Frameworks/Python.framework/Versions/3.6/lib/python3.6/site-packages/sklearn/model_selection/_validation.py:479: FitFailedWarning: Classifier fit failed. The score on this train-test partition for these parameters will be set to 0.000000. Details: \n",
      "ValueError(\"Unsupported set of arguments: The combination of penalty='l1' and loss='squared_hinge' are not supported when dual=True, Parameters: penalty='l1', loss='squared_hinge', dual=True\",)\n",
      "  \"Details: \\n%r\" % (error_score, e), FitFailedWarning)\n",
      "/Library/Frameworks/Python.framework/Versions/3.6/lib/python3.6/site-packages/sklearn/model_selection/_validation.py:479: FitFailedWarning: Classifier fit failed. The score on this train-test partition for these parameters will be set to 0.000000. Details: \n",
      "ValueError(\"Unsupported set of arguments: The combination of penalty='l1' and loss='squared_hinge' are not supported when dual=True, Parameters: penalty='l1', loss='squared_hinge', dual=True\",)\n",
      "  \"Details: \\n%r\" % (error_score, e), FitFailedWarning)\n",
      "/Library/Frameworks/Python.framework/Versions/3.6/lib/python3.6/site-packages/sklearn/model_selection/_validation.py:479: FitFailedWarning: Classifier fit failed. The score on this train-test partition for these parameters will be set to 0.000000. Details: \n",
      "ValueError(\"Unsupported set of arguments: The combination of penalty='l1' and loss='squared_hinge' are not supported when dual=True, Parameters: penalty='l1', loss='squared_hinge', dual=True\",)\n",
      "  \"Details: \\n%r\" % (error_score, e), FitFailedWarning)\n",
      "/Library/Frameworks/Python.framework/Versions/3.6/lib/python3.6/site-packages/sklearn/model_selection/_validation.py:479: FitFailedWarning: Classifier fit failed. The score on this train-test partition for these parameters will be set to 0.000000. Details: \n",
      "ValueError(\"Unsupported set of arguments: The combination of penalty='l1' and loss='squared_hinge' are not supported when dual=True, Parameters: penalty='l1', loss='squared_hinge', dual=True\",)\n",
      "  \"Details: \\n%r\" % (error_score, e), FitFailedWarning)\n"
     ]
    },
    {
     "name": "stdout",
     "output_type": "stream",
     "text": [
      "[CV]  C=0.1, class_weight=balanced, penalty=l1, tol=0.001, score=0, total=   0.0s\n",
      "[CV] C=0.1, class_weight=balanced, penalty=l1, tol=0.001 .............\n",
      "[CV]  C=0.1, class_weight=balanced, penalty=l1, tol=0.001, score=0, total=   0.0s\n",
      "[CV] C=0.1, class_weight=balanced, penalty=l1, tol=0.001 .............\n",
      "[CV]  C=0.1, class_weight=balanced, penalty=l1, tol=0.001, score=0, total=   0.0s\n",
      "[CV] C=0.1, class_weight=balanced, penalty=l1, tol=0.001 .............\n",
      "[CV]  C=0.1, class_weight=balanced, penalty=l1, tol=0.001, score=0, total=   0.0s\n",
      "[CV] C=0.1, class_weight=balanced, penalty=l1, tol=0.01 ..............\n",
      "[CV]  C=0.1, class_weight=balanced, penalty=l1, tol=0.01, score=0, total=   0.0s\n",
      "[CV] C=0.1, class_weight=balanced, penalty=l1, tol=0.01 ..............\n",
      "[CV]  C=0.1, class_weight=balanced, penalty=l1, tol=0.01, score=0, total=   0.0s\n",
      "[CV] C=0.1, class_weight=balanced, penalty=l1, tol=0.01 ..............\n",
      "[CV]  C=0.1, class_weight=balanced, penalty=l1, tol=0.01, score=0, total=   0.0s\n"
     ]
    },
    {
     "name": "stderr",
     "output_type": "stream",
     "text": [
      "/Library/Frameworks/Python.framework/Versions/3.6/lib/python3.6/site-packages/sklearn/model_selection/_validation.py:479: FitFailedWarning: Classifier fit failed. The score on this train-test partition for these parameters will be set to 0.000000. Details: \n",
      "ValueError(\"Unsupported set of arguments: The combination of penalty='l1' and loss='squared_hinge' are not supported when dual=True, Parameters: penalty='l1', loss='squared_hinge', dual=True\",)\n",
      "  \"Details: \\n%r\" % (error_score, e), FitFailedWarning)\n",
      "/Library/Frameworks/Python.framework/Versions/3.6/lib/python3.6/site-packages/sklearn/model_selection/_validation.py:479: FitFailedWarning: Classifier fit failed. The score on this train-test partition for these parameters will be set to 0.000000. Details: \n",
      "ValueError(\"Unsupported set of arguments: The combination of penalty='l1' and loss='squared_hinge' are not supported when dual=True, Parameters: penalty='l1', loss='squared_hinge', dual=True\",)\n",
      "  \"Details: \\n%r\" % (error_score, e), FitFailedWarning)\n",
      "/Library/Frameworks/Python.framework/Versions/3.6/lib/python3.6/site-packages/sklearn/model_selection/_validation.py:479: FitFailedWarning: Classifier fit failed. The score on this train-test partition for these parameters will be set to 0.000000. Details: \n",
      "ValueError(\"Unsupported set of arguments: The combination of penalty='l1' and loss='squared_hinge' are not supported when dual=True, Parameters: penalty='l1', loss='squared_hinge', dual=True\",)\n",
      "  \"Details: \\n%r\" % (error_score, e), FitFailedWarning)\n",
      "/Library/Frameworks/Python.framework/Versions/3.6/lib/python3.6/site-packages/sklearn/model_selection/_validation.py:479: FitFailedWarning: Classifier fit failed. The score on this train-test partition for these parameters will be set to 0.000000. Details: \n",
      "ValueError(\"Unsupported set of arguments: The combination of penalty='l1' and loss='squared_hinge' are not supported when dual=True, Parameters: penalty='l1', loss='squared_hinge', dual=True\",)\n",
      "  \"Details: \\n%r\" % (error_score, e), FitFailedWarning)\n",
      "/Library/Frameworks/Python.framework/Versions/3.6/lib/python3.6/site-packages/sklearn/model_selection/_validation.py:479: FitFailedWarning: Classifier fit failed. The score on this train-test partition for these parameters will be set to 0.000000. Details: \n",
      "ValueError(\"Unsupported set of arguments: The combination of penalty='l1' and loss='squared_hinge' are not supported when dual=True, Parameters: penalty='l1', loss='squared_hinge', dual=True\",)\n",
      "  \"Details: \\n%r\" % (error_score, e), FitFailedWarning)\n",
      "/Library/Frameworks/Python.framework/Versions/3.6/lib/python3.6/site-packages/sklearn/model_selection/_validation.py:479: FitFailedWarning: Classifier fit failed. The score on this train-test partition for these parameters will be set to 0.000000. Details: \n",
      "ValueError(\"Unsupported set of arguments: The combination of penalty='l1' and loss='squared_hinge' are not supported when dual=True, Parameters: penalty='l1', loss='squared_hinge', dual=True\",)\n",
      "  \"Details: \\n%r\" % (error_score, e), FitFailedWarning)\n",
      "/Library/Frameworks/Python.framework/Versions/3.6/lib/python3.6/site-packages/sklearn/model_selection/_validation.py:479: FitFailedWarning: Classifier fit failed. The score on this train-test partition for these parameters will be set to 0.000000. Details: \n",
      "ValueError(\"Unsupported set of arguments: The combination of penalty='l1' and loss='squared_hinge' are not supported when dual=True, Parameters: penalty='l1', loss='squared_hinge', dual=True\",)\n",
      "  \"Details: \\n%r\" % (error_score, e), FitFailedWarning)\n"
     ]
    },
    {
     "name": "stdout",
     "output_type": "stream",
     "text": [
      "[CV] C=0.1, class_weight=balanced, penalty=l1, tol=0.01 ..............\n",
      "[CV]  C=0.1, class_weight=balanced, penalty=l1, tol=0.01, score=0, total=   0.0s\n",
      "[CV] C=0.1, class_weight=balanced, penalty=l1, tol=0.01 ..............\n",
      "[CV]  C=0.1, class_weight=balanced, penalty=l1, tol=0.01, score=0, total=   0.0s\n",
      "[CV] C=0.1, class_weight=balanced, penalty=l1, tol=0.1 ...............\n",
      "[CV]  C=0.1, class_weight=balanced, penalty=l1, tol=0.1, score=0, total=   0.0s\n",
      "[CV] C=0.1, class_weight=balanced, penalty=l1, tol=0.1 ...............\n",
      "[CV]  C=0.1, class_weight=balanced, penalty=l1, tol=0.1, score=0, total=   0.0s\n",
      "[CV] C=0.1, class_weight=balanced, penalty=l1, tol=0.1 ...............\n",
      "[CV]  C=0.1, class_weight=balanced, penalty=l1, tol=0.1, score=0, total=   0.0s\n",
      "[CV] C=0.1, class_weight=balanced, penalty=l1, tol=0.1 ...............\n",
      "[CV]  C=0.1, class_weight=balanced, penalty=l1, tol=0.1, score=0, total=   0.0s\n",
      "[CV] C=0.1, class_weight=balanced, penalty=l1, tol=0.1 ...............\n",
      "[CV]  C=0.1, class_weight=balanced, penalty=l1, tol=0.1, score=0, total=   0.0s\n",
      "[CV] C=0.1, class_weight=balanced, penalty=l1, tol=1 .................\n"
     ]
    },
    {
     "name": "stderr",
     "output_type": "stream",
     "text": [
      "/Library/Frameworks/Python.framework/Versions/3.6/lib/python3.6/site-packages/sklearn/model_selection/_validation.py:479: FitFailedWarning: Classifier fit failed. The score on this train-test partition for these parameters will be set to 0.000000. Details: \n",
      "ValueError(\"Unsupported set of arguments: The combination of penalty='l1' and loss='squared_hinge' are not supported when dual=True, Parameters: penalty='l1', loss='squared_hinge', dual=True\",)\n",
      "  \"Details: \\n%r\" % (error_score, e), FitFailedWarning)\n",
      "/Library/Frameworks/Python.framework/Versions/3.6/lib/python3.6/site-packages/sklearn/model_selection/_validation.py:479: FitFailedWarning: Classifier fit failed. The score on this train-test partition for these parameters will be set to 0.000000. Details: \n",
      "ValueError(\"Unsupported set of arguments: The combination of penalty='l1' and loss='squared_hinge' are not supported when dual=True, Parameters: penalty='l1', loss='squared_hinge', dual=True\",)\n",
      "  \"Details: \\n%r\" % (error_score, e), FitFailedWarning)\n",
      "/Library/Frameworks/Python.framework/Versions/3.6/lib/python3.6/site-packages/sklearn/model_selection/_validation.py:479: FitFailedWarning: Classifier fit failed. The score on this train-test partition for these parameters will be set to 0.000000. Details: \n",
      "ValueError(\"Unsupported set of arguments: The combination of penalty='l1' and loss='squared_hinge' are not supported when dual=True, Parameters: penalty='l1', loss='squared_hinge', dual=True\",)\n",
      "  \"Details: \\n%r\" % (error_score, e), FitFailedWarning)\n",
      "/Library/Frameworks/Python.framework/Versions/3.6/lib/python3.6/site-packages/sklearn/model_selection/_validation.py:479: FitFailedWarning: Classifier fit failed. The score on this train-test partition for these parameters will be set to 0.000000. Details: \n",
      "ValueError(\"Unsupported set of arguments: The combination of penalty='l1' and loss='squared_hinge' are not supported when dual=True, Parameters: penalty='l1', loss='squared_hinge', dual=True\",)\n",
      "  \"Details: \\n%r\" % (error_score, e), FitFailedWarning)\n",
      "/Library/Frameworks/Python.framework/Versions/3.6/lib/python3.6/site-packages/sklearn/model_selection/_validation.py:479: FitFailedWarning: Classifier fit failed. The score on this train-test partition for these parameters will be set to 0.000000. Details: \n",
      "ValueError(\"Unsupported set of arguments: The combination of penalty='l1' and loss='squared_hinge' are not supported when dual=True, Parameters: penalty='l1', loss='squared_hinge', dual=True\",)\n",
      "  \"Details: \\n%r\" % (error_score, e), FitFailedWarning)\n"
     ]
    },
    {
     "name": "stdout",
     "output_type": "stream",
     "text": [
      "[CV]  C=0.1, class_weight=balanced, penalty=l1, tol=1, score=0, total=   0.0s\n",
      "[CV] C=0.1, class_weight=balanced, penalty=l1, tol=1 .................\n",
      "[CV]  C=0.1, class_weight=balanced, penalty=l1, tol=1, score=0, total=   0.0s\n",
      "[CV] C=0.1, class_weight=balanced, penalty=l1, tol=1 .................\n",
      "[CV]  C=0.1, class_weight=balanced, penalty=l1, tol=1, score=0, total=   0.0s\n",
      "[CV] C=0.1, class_weight=balanced, penalty=l1, tol=1 .................\n",
      "[CV]  C=0.1, class_weight=balanced, penalty=l1, tol=1, score=0, total=   0.0s\n",
      "[CV] C=0.1, class_weight=balanced, penalty=l1, tol=1 .................\n",
      "[CV]  C=0.1, class_weight=balanced, penalty=l1, tol=1, score=0, total=   0.0s\n",
      "[CV] C=0.1, class_weight=balanced, penalty=l2, tol=0.0001 ............\n",
      "[CV]  C=0.1, class_weight=balanced, penalty=l2, tol=0.0001, score=0.7449322444369, total=   0.4s\n",
      "[CV] C=0.1, class_weight=balanced, penalty=l2, tol=0.0001 ............\n",
      "[CV]  C=0.1, class_weight=balanced, penalty=l2, tol=0.0001, score=0.7324190391649855, total=   0.4s\n",
      "[CV] C=0.1, class_weight=balanced, penalty=l2, tol=0.0001 ............\n",
      "[CV]  C=0.1, class_weight=balanced, penalty=l2, tol=0.0001, score=0.7419187353686372, total=   0.4s\n",
      "[CV] C=0.1, class_weight=balanced, penalty=l2, tol=0.0001 ............\n",
      "[CV]  C=0.1, class_weight=balanced, penalty=l2, tol=0.0001, score=0.733397655163731, total=   0.4s\n",
      "[CV] C=0.1, class_weight=balanced, penalty=l2, tol=0.0001 ............\n",
      "[CV]  C=0.1, class_weight=balanced, penalty=l2, tol=0.0001, score=0.7292409381633149, total=   0.4s\n",
      "[CV] C=0.1, class_weight=balanced, penalty=l2, tol=0.001 .............\n",
      "[CV]  C=0.1, class_weight=balanced, penalty=l2, tol=0.001, score=0.7449322444369, total=   0.3s\n",
      "[CV] C=0.1, class_weight=balanced, penalty=l2, tol=0.001 .............\n",
      "[CV]  C=0.1, class_weight=balanced, penalty=l2, tol=0.001, score=0.7324190391649855, total=   0.3s\n",
      "[CV] C=0.1, class_weight=balanced, penalty=l2, tol=0.001 .............\n",
      "[CV]  C=0.1, class_weight=balanced, penalty=l2, tol=0.001, score=0.7419187353686372, total=   0.3s\n",
      "[CV] C=0.1, class_weight=balanced, penalty=l2, tol=0.001 .............\n",
      "[CV]  C=0.1, class_weight=balanced, penalty=l2, tol=0.001, score=0.733397655163731, total=   0.4s\n",
      "[CV] C=0.1, class_weight=balanced, penalty=l2, tol=0.001 .............\n",
      "[CV]  C=0.1, class_weight=balanced, penalty=l2, tol=0.001, score=0.7292409381633149, total=   0.3s\n",
      "[CV] C=0.1, class_weight=balanced, penalty=l2, tol=0.01 ..............\n",
      "[CV]  C=0.1, class_weight=balanced, penalty=l2, tol=0.01, score=0.7449322444369, total=   0.3s\n",
      "[CV] C=0.1, class_weight=balanced, penalty=l2, tol=0.01 ..............\n",
      "[CV]  C=0.1, class_weight=balanced, penalty=l2, tol=0.01, score=0.7324190391649855, total=   0.3s\n",
      "[CV] C=0.1, class_weight=balanced, penalty=l2, tol=0.01 ..............\n",
      "[CV]  C=0.1, class_weight=balanced, penalty=l2, tol=0.01, score=0.7419187353686372, total=   0.3s\n",
      "[CV] C=0.1, class_weight=balanced, penalty=l2, tol=0.01 ..............\n",
      "[CV]  C=0.1, class_weight=balanced, penalty=l2, tol=0.01, score=0.733397655163731, total=   0.3s\n",
      "[CV] C=0.1, class_weight=balanced, penalty=l2, tol=0.01 ..............\n",
      "[CV]  C=0.1, class_weight=balanced, penalty=l2, tol=0.01, score=0.7301155784827312, total=   0.3s\n",
      "[CV] C=0.1, class_weight=balanced, penalty=l2, tol=0.1 ...............\n",
      "[CV]  C=0.1, class_weight=balanced, penalty=l2, tol=0.1, score=0.7449322444369, total=   0.2s\n",
      "[CV] C=0.1, class_weight=balanced, penalty=l2, tol=0.1 ...............\n",
      "[CV]  C=0.1, class_weight=balanced, penalty=l2, tol=0.1, score=0.7324190391649855, total=   0.2s\n",
      "[CV] C=0.1, class_weight=balanced, penalty=l2, tol=0.1 ...............\n",
      "[CV]  C=0.1, class_weight=balanced, penalty=l2, tol=0.1, score=0.7419187353686372, total=   0.2s\n",
      "[CV] C=0.1, class_weight=balanced, penalty=l2, tol=0.1 ...............\n",
      "[CV]  C=0.1, class_weight=balanced, penalty=l2, tol=0.1, score=0.7337639318945258, total=   0.2s\n",
      "[CV] C=0.1, class_weight=balanced, penalty=l2, tol=0.1 ...............\n",
      "[CV]  C=0.1, class_weight=balanced, penalty=l2, tol=0.1, score=0.7301155784827312, total=   0.2s\n",
      "[CV] C=0.1, class_weight=balanced, penalty=l2, tol=1 .................\n",
      "[CV]  C=0.1, class_weight=balanced, penalty=l2, tol=1, score=0.7449401148868038, total=   0.2s\n",
      "[CV] C=0.1, class_weight=balanced, penalty=l2, tol=1 .................\n",
      "[CV]  C=0.1, class_weight=balanced, penalty=l2, tol=1, score=0.7295283442810768, total=   0.2s\n",
      "[CV] C=0.1, class_weight=balanced, penalty=l2, tol=1 .................\n",
      "[CV]  C=0.1, class_weight=balanced, penalty=l2, tol=1, score=0.7396884223235681, total=   0.1s\n",
      "[CV] C=0.1, class_weight=balanced, penalty=l2, tol=1 .................\n",
      "[CV]  C=0.1, class_weight=balanced, penalty=l2, tol=1, score=0.7356032602913766, total=   0.1s\n",
      "[CV] C=0.1, class_weight=balanced, penalty=l2, tol=1 .................\n",
      "[CV]  C=0.1, class_weight=balanced, penalty=l2, tol=1, score=0.7319866242099226, total=   0.1s\n",
      "[CV] C=0.1, class_weight=None, penalty=l1, tol=0.0001 ................\n",
      "[CV]  C=0.1, class_weight=None, penalty=l1, tol=0.0001, score=0, total=   0.0s\n",
      "[CV] C=0.1, class_weight=None, penalty=l1, tol=0.0001 ................\n"
     ]
    },
    {
     "name": "stderr",
     "output_type": "stream",
     "text": [
      "/Library/Frameworks/Python.framework/Versions/3.6/lib/python3.6/site-packages/sklearn/model_selection/_validation.py:479: FitFailedWarning: Classifier fit failed. The score on this train-test partition for these parameters will be set to 0.000000. Details: \n",
      "ValueError(\"Unsupported set of arguments: The combination of penalty='l1' and loss='squared_hinge' are not supported when dual=True, Parameters: penalty='l1', loss='squared_hinge', dual=True\",)\n",
      "  \"Details: \\n%r\" % (error_score, e), FitFailedWarning)\n",
      "/Library/Frameworks/Python.framework/Versions/3.6/lib/python3.6/site-packages/sklearn/model_selection/_validation.py:479: FitFailedWarning: Classifier fit failed. The score on this train-test partition for these parameters will be set to 0.000000. Details: \n",
      "ValueError(\"Unsupported set of arguments: The combination of penalty='l1' and loss='squared_hinge' are not supported when dual=True, Parameters: penalty='l1', loss='squared_hinge', dual=True\",)\n",
      "  \"Details: \\n%r\" % (error_score, e), FitFailedWarning)\n",
      "/Library/Frameworks/Python.framework/Versions/3.6/lib/python3.6/site-packages/sklearn/model_selection/_validation.py:479: FitFailedWarning: Classifier fit failed. The score on this train-test partition for these parameters will be set to 0.000000. Details: \n",
      "ValueError(\"Unsupported set of arguments: The combination of penalty='l1' and loss='squared_hinge' are not supported when dual=True, Parameters: penalty='l1', loss='squared_hinge', dual=True\",)\n",
      "  \"Details: \\n%r\" % (error_score, e), FitFailedWarning)\n",
      "/Library/Frameworks/Python.framework/Versions/3.6/lib/python3.6/site-packages/sklearn/model_selection/_validation.py:479: FitFailedWarning: Classifier fit failed. The score on this train-test partition for these parameters will be set to 0.000000. Details: \n",
      "ValueError(\"Unsupported set of arguments: The combination of penalty='l1' and loss='squared_hinge' are not supported when dual=True, Parameters: penalty='l1', loss='squared_hinge', dual=True\",)\n",
      "  \"Details: \\n%r\" % (error_score, e), FitFailedWarning)\n",
      "/Library/Frameworks/Python.framework/Versions/3.6/lib/python3.6/site-packages/sklearn/model_selection/_validation.py:479: FitFailedWarning: Classifier fit failed. The score on this train-test partition for these parameters will be set to 0.000000. Details: \n",
      "ValueError(\"Unsupported set of arguments: The combination of penalty='l1' and loss='squared_hinge' are not supported when dual=True, Parameters: penalty='l1', loss='squared_hinge', dual=True\",)\n",
      "  \"Details: \\n%r\" % (error_score, e), FitFailedWarning)\n",
      "/Library/Frameworks/Python.framework/Versions/3.6/lib/python3.6/site-packages/sklearn/model_selection/_validation.py:479: FitFailedWarning: Classifier fit failed. The score on this train-test partition for these parameters will be set to 0.000000. Details: \n",
      "ValueError(\"Unsupported set of arguments: The combination of penalty='l1' and loss='squared_hinge' are not supported when dual=True, Parameters: penalty='l1', loss='squared_hinge', dual=True\",)\n",
      "  \"Details: \\n%r\" % (error_score, e), FitFailedWarning)\n",
      "/Library/Frameworks/Python.framework/Versions/3.6/lib/python3.6/site-packages/sklearn/model_selection/_validation.py:479: FitFailedWarning: Classifier fit failed. The score on this train-test partition for these parameters will be set to 0.000000. Details: \n",
      "ValueError(\"Unsupported set of arguments: The combination of penalty='l1' and loss='squared_hinge' are not supported when dual=True, Parameters: penalty='l1', loss='squared_hinge', dual=True\",)\n",
      "  \"Details: \\n%r\" % (error_score, e), FitFailedWarning)\n"
     ]
    },
    {
     "name": "stdout",
     "output_type": "stream",
     "text": [
      "[CV]  C=0.1, class_weight=None, penalty=l1, tol=0.0001, score=0, total=   0.0s\n",
      "[CV] C=0.1, class_weight=None, penalty=l1, tol=0.0001 ................\n",
      "[CV]  C=0.1, class_weight=None, penalty=l1, tol=0.0001, score=0, total=   0.0s\n",
      "[CV] C=0.1, class_weight=None, penalty=l1, tol=0.0001 ................\n",
      "[CV]  C=0.1, class_weight=None, penalty=l1, tol=0.0001, score=0, total=   0.0s\n",
      "[CV] C=0.1, class_weight=None, penalty=l1, tol=0.0001 ................\n",
      "[CV]  C=0.1, class_weight=None, penalty=l1, tol=0.0001, score=0, total=   0.0s\n",
      "[CV] C=0.1, class_weight=None, penalty=l1, tol=0.001 .................\n",
      "[CV]  C=0.1, class_weight=None, penalty=l1, tol=0.001, score=0, total=   0.0s\n",
      "[CV] C=0.1, class_weight=None, penalty=l1, tol=0.001 .................\n",
      "[CV]  C=0.1, class_weight=None, penalty=l1, tol=0.001, score=0, total=   0.0s\n",
      "[CV] C=0.1, class_weight=None, penalty=l1, tol=0.001 .................\n",
      "[CV]  C=0.1, class_weight=None, penalty=l1, tol=0.001, score=0, total=   0.0s\n",
      "[CV] C=0.1, class_weight=None, penalty=l1, tol=0.001 .................\n"
     ]
    },
    {
     "name": "stderr",
     "output_type": "stream",
     "text": [
      "/Library/Frameworks/Python.framework/Versions/3.6/lib/python3.6/site-packages/sklearn/model_selection/_validation.py:479: FitFailedWarning: Classifier fit failed. The score on this train-test partition for these parameters will be set to 0.000000. Details: \n",
      "ValueError(\"Unsupported set of arguments: The combination of penalty='l1' and loss='squared_hinge' are not supported when dual=True, Parameters: penalty='l1', loss='squared_hinge', dual=True\",)\n",
      "  \"Details: \\n%r\" % (error_score, e), FitFailedWarning)\n",
      "/Library/Frameworks/Python.framework/Versions/3.6/lib/python3.6/site-packages/sklearn/model_selection/_validation.py:479: FitFailedWarning: Classifier fit failed. The score on this train-test partition for these parameters will be set to 0.000000. Details: \n",
      "ValueError(\"Unsupported set of arguments: The combination of penalty='l1' and loss='squared_hinge' are not supported when dual=True, Parameters: penalty='l1', loss='squared_hinge', dual=True\",)\n",
      "  \"Details: \\n%r\" % (error_score, e), FitFailedWarning)\n",
      "/Library/Frameworks/Python.framework/Versions/3.6/lib/python3.6/site-packages/sklearn/model_selection/_validation.py:479: FitFailedWarning: Classifier fit failed. The score on this train-test partition for these parameters will be set to 0.000000. Details: \n",
      "ValueError(\"Unsupported set of arguments: The combination of penalty='l1' and loss='squared_hinge' are not supported when dual=True, Parameters: penalty='l1', loss='squared_hinge', dual=True\",)\n",
      "  \"Details: \\n%r\" % (error_score, e), FitFailedWarning)\n",
      "/Library/Frameworks/Python.framework/Versions/3.6/lib/python3.6/site-packages/sklearn/model_selection/_validation.py:479: FitFailedWarning: Classifier fit failed. The score on this train-test partition for these parameters will be set to 0.000000. Details: \n",
      "ValueError(\"Unsupported set of arguments: The combination of penalty='l1' and loss='squared_hinge' are not supported when dual=True, Parameters: penalty='l1', loss='squared_hinge', dual=True\",)\n",
      "  \"Details: \\n%r\" % (error_score, e), FitFailedWarning)\n",
      "/Library/Frameworks/Python.framework/Versions/3.6/lib/python3.6/site-packages/sklearn/model_selection/_validation.py:479: FitFailedWarning: Classifier fit failed. The score on this train-test partition for these parameters will be set to 0.000000. Details: \n",
      "ValueError(\"Unsupported set of arguments: The combination of penalty='l1' and loss='squared_hinge' are not supported when dual=True, Parameters: penalty='l1', loss='squared_hinge', dual=True\",)\n",
      "  \"Details: \\n%r\" % (error_score, e), FitFailedWarning)\n",
      "/Library/Frameworks/Python.framework/Versions/3.6/lib/python3.6/site-packages/sklearn/model_selection/_validation.py:479: FitFailedWarning: Classifier fit failed. The score on this train-test partition for these parameters will be set to 0.000000. Details: \n",
      "ValueError(\"Unsupported set of arguments: The combination of penalty='l1' and loss='squared_hinge' are not supported when dual=True, Parameters: penalty='l1', loss='squared_hinge', dual=True\",)\n",
      "  \"Details: \\n%r\" % (error_score, e), FitFailedWarning)\n",
      "/Library/Frameworks/Python.framework/Versions/3.6/lib/python3.6/site-packages/sklearn/model_selection/_validation.py:479: FitFailedWarning: Classifier fit failed. The score on this train-test partition for these parameters will be set to 0.000000. Details: \n",
      "ValueError(\"Unsupported set of arguments: The combination of penalty='l1' and loss='squared_hinge' are not supported when dual=True, Parameters: penalty='l1', loss='squared_hinge', dual=True\",)\n",
      "  \"Details: \\n%r\" % (error_score, e), FitFailedWarning)\n"
     ]
    },
    {
     "name": "stdout",
     "output_type": "stream",
     "text": [
      "[CV]  C=0.1, class_weight=None, penalty=l1, tol=0.001, score=0, total=   0.0s\n",
      "[CV] C=0.1, class_weight=None, penalty=l1, tol=0.001 .................\n",
      "[CV]  C=0.1, class_weight=None, penalty=l1, tol=0.001, score=0, total=   0.0s\n",
      "[CV] C=0.1, class_weight=None, penalty=l1, tol=0.01 ..................\n",
      "[CV]  C=0.1, class_weight=None, penalty=l1, tol=0.01, score=0, total=   0.0s\n",
      "[CV] C=0.1, class_weight=None, penalty=l1, tol=0.01 ..................\n",
      "[CV]  C=0.1, class_weight=None, penalty=l1, tol=0.01, score=0, total=   0.0s\n",
      "[CV] C=0.1, class_weight=None, penalty=l1, tol=0.01 ..................\n",
      "[CV]  C=0.1, class_weight=None, penalty=l1, tol=0.01, score=0, total=   0.0s\n",
      "[CV] C=0.1, class_weight=None, penalty=l1, tol=0.01 ..................\n",
      "[CV]  C=0.1, class_weight=None, penalty=l1, tol=0.01, score=0, total=   0.0s\n",
      "[CV] C=0.1, class_weight=None, penalty=l1, tol=0.01 ..................\n",
      "[CV]  C=0.1, class_weight=None, penalty=l1, tol=0.01, score=0, total=   0.0s\n",
      "[CV] C=0.1, class_weight=None, penalty=l1, tol=0.1 ...................\n"
     ]
    },
    {
     "name": "stderr",
     "output_type": "stream",
     "text": [
      "/Library/Frameworks/Python.framework/Versions/3.6/lib/python3.6/site-packages/sklearn/model_selection/_validation.py:479: FitFailedWarning: Classifier fit failed. The score on this train-test partition for these parameters will be set to 0.000000. Details: \n",
      "ValueError(\"Unsupported set of arguments: The combination of penalty='l1' and loss='squared_hinge' are not supported when dual=True, Parameters: penalty='l1', loss='squared_hinge', dual=True\",)\n",
      "  \"Details: \\n%r\" % (error_score, e), FitFailedWarning)\n",
      "/Library/Frameworks/Python.framework/Versions/3.6/lib/python3.6/site-packages/sklearn/model_selection/_validation.py:479: FitFailedWarning: Classifier fit failed. The score on this train-test partition for these parameters will be set to 0.000000. Details: \n",
      "ValueError(\"Unsupported set of arguments: The combination of penalty='l1' and loss='squared_hinge' are not supported when dual=True, Parameters: penalty='l1', loss='squared_hinge', dual=True\",)\n",
      "  \"Details: \\n%r\" % (error_score, e), FitFailedWarning)\n",
      "/Library/Frameworks/Python.framework/Versions/3.6/lib/python3.6/site-packages/sklearn/model_selection/_validation.py:479: FitFailedWarning: Classifier fit failed. The score on this train-test partition for these parameters will be set to 0.000000. Details: \n",
      "ValueError(\"Unsupported set of arguments: The combination of penalty='l1' and loss='squared_hinge' are not supported when dual=True, Parameters: penalty='l1', loss='squared_hinge', dual=True\",)\n",
      "  \"Details: \\n%r\" % (error_score, e), FitFailedWarning)\n",
      "/Library/Frameworks/Python.framework/Versions/3.6/lib/python3.6/site-packages/sklearn/model_selection/_validation.py:479: FitFailedWarning: Classifier fit failed. The score on this train-test partition for these parameters will be set to 0.000000. Details: \n",
      "ValueError(\"Unsupported set of arguments: The combination of penalty='l1' and loss='squared_hinge' are not supported when dual=True, Parameters: penalty='l1', loss='squared_hinge', dual=True\",)\n",
      "  \"Details: \\n%r\" % (error_score, e), FitFailedWarning)\n",
      "/Library/Frameworks/Python.framework/Versions/3.6/lib/python3.6/site-packages/sklearn/model_selection/_validation.py:479: FitFailedWarning: Classifier fit failed. The score on this train-test partition for these parameters will be set to 0.000000. Details: \n",
      "ValueError(\"Unsupported set of arguments: The combination of penalty='l1' and loss='squared_hinge' are not supported when dual=True, Parameters: penalty='l1', loss='squared_hinge', dual=True\",)\n",
      "  \"Details: \\n%r\" % (error_score, e), FitFailedWarning)\n",
      "/Library/Frameworks/Python.framework/Versions/3.6/lib/python3.6/site-packages/sklearn/model_selection/_validation.py:479: FitFailedWarning: Classifier fit failed. The score on this train-test partition for these parameters will be set to 0.000000. Details: \n",
      "ValueError(\"Unsupported set of arguments: The combination of penalty='l1' and loss='squared_hinge' are not supported when dual=True, Parameters: penalty='l1', loss='squared_hinge', dual=True\",)\n",
      "  \"Details: \\n%r\" % (error_score, e), FitFailedWarning)\n",
      "/Library/Frameworks/Python.framework/Versions/3.6/lib/python3.6/site-packages/sklearn/model_selection/_validation.py:479: FitFailedWarning: Classifier fit failed. The score on this train-test partition for these parameters will be set to 0.000000. Details: \n",
      "ValueError(\"Unsupported set of arguments: The combination of penalty='l1' and loss='squared_hinge' are not supported when dual=True, Parameters: penalty='l1', loss='squared_hinge', dual=True\",)\n",
      "  \"Details: \\n%r\" % (error_score, e), FitFailedWarning)\n"
     ]
    },
    {
     "name": "stdout",
     "output_type": "stream",
     "text": [
      "[CV]  C=0.1, class_weight=None, penalty=l1, tol=0.1, score=0, total=   0.0s\n",
      "[CV] C=0.1, class_weight=None, penalty=l1, tol=0.1 ...................\n",
      "[CV]  C=0.1, class_weight=None, penalty=l1, tol=0.1, score=0, total=   0.0s\n",
      "[CV] C=0.1, class_weight=None, penalty=l1, tol=0.1 ...................\n",
      "[CV]  C=0.1, class_weight=None, penalty=l1, tol=0.1, score=0, total=   0.0s\n",
      "[CV] C=0.1, class_weight=None, penalty=l1, tol=0.1 ...................\n",
      "[CV]  C=0.1, class_weight=None, penalty=l1, tol=0.1, score=0, total=   0.0s\n",
      "[CV] C=0.1, class_weight=None, penalty=l1, tol=0.1 ...................\n",
      "[CV]  C=0.1, class_weight=None, penalty=l1, tol=0.1, score=0, total=   0.0s\n",
      "[CV] C=0.1, class_weight=None, penalty=l1, tol=1 .....................\n",
      "[CV]  C=0.1, class_weight=None, penalty=l1, tol=1, score=0, total=   0.0s\n",
      "[CV] C=0.1, class_weight=None, penalty=l1, tol=1 .....................\n",
      "[CV]  C=0.1, class_weight=None, penalty=l1, tol=1, score=0, total=   0.0s\n",
      "[CV] C=0.1, class_weight=None, penalty=l1, tol=1 .....................\n"
     ]
    },
    {
     "name": "stderr",
     "output_type": "stream",
     "text": [
      "/Library/Frameworks/Python.framework/Versions/3.6/lib/python3.6/site-packages/sklearn/model_selection/_validation.py:479: FitFailedWarning: Classifier fit failed. The score on this train-test partition for these parameters will be set to 0.000000. Details: \n",
      "ValueError(\"Unsupported set of arguments: The combination of penalty='l1' and loss='squared_hinge' are not supported when dual=True, Parameters: penalty='l1', loss='squared_hinge', dual=True\",)\n",
      "  \"Details: \\n%r\" % (error_score, e), FitFailedWarning)\n",
      "/Library/Frameworks/Python.framework/Versions/3.6/lib/python3.6/site-packages/sklearn/model_selection/_validation.py:479: FitFailedWarning: Classifier fit failed. The score on this train-test partition for these parameters will be set to 0.000000. Details: \n",
      "ValueError(\"Unsupported set of arguments: The combination of penalty='l1' and loss='squared_hinge' are not supported when dual=True, Parameters: penalty='l1', loss='squared_hinge', dual=True\",)\n",
      "  \"Details: \\n%r\" % (error_score, e), FitFailedWarning)\n",
      "/Library/Frameworks/Python.framework/Versions/3.6/lib/python3.6/site-packages/sklearn/model_selection/_validation.py:479: FitFailedWarning: Classifier fit failed. The score on this train-test partition for these parameters will be set to 0.000000. Details: \n",
      "ValueError(\"Unsupported set of arguments: The combination of penalty='l1' and loss='squared_hinge' are not supported when dual=True, Parameters: penalty='l1', loss='squared_hinge', dual=True\",)\n",
      "  \"Details: \\n%r\" % (error_score, e), FitFailedWarning)\n",
      "/Library/Frameworks/Python.framework/Versions/3.6/lib/python3.6/site-packages/sklearn/model_selection/_validation.py:479: FitFailedWarning: Classifier fit failed. The score on this train-test partition for these parameters will be set to 0.000000. Details: \n",
      "ValueError(\"Unsupported set of arguments: The combination of penalty='l1' and loss='squared_hinge' are not supported when dual=True, Parameters: penalty='l1', loss='squared_hinge', dual=True\",)\n",
      "  \"Details: \\n%r\" % (error_score, e), FitFailedWarning)\n"
     ]
    },
    {
     "name": "stdout",
     "output_type": "stream",
     "text": [
      "[CV]  C=0.1, class_weight=None, penalty=l1, tol=1, score=0, total=   0.0s\n",
      "[CV] C=0.1, class_weight=None, penalty=l1, tol=1 .....................\n",
      "[CV]  C=0.1, class_weight=None, penalty=l1, tol=1, score=0, total=   0.0s\n",
      "[CV] C=0.1, class_weight=None, penalty=l1, tol=1 .....................\n",
      "[CV]  C=0.1, class_weight=None, penalty=l1, tol=1, score=0, total=   0.0s\n",
      "[CV] C=0.1, class_weight=None, penalty=l2, tol=0.0001 ................\n",
      "[CV]  C=0.1, class_weight=None, penalty=l2, tol=0.0001, score=0.6894869833143978, total=   0.3s\n",
      "[CV] C=0.1, class_weight=None, penalty=l2, tol=0.0001 ................\n",
      "[CV]  C=0.1, class_weight=None, penalty=l2, tol=0.0001, score=0.6836277358413353, total=   0.3s\n",
      "[CV] C=0.1, class_weight=None, penalty=l2, tol=0.0001 ................\n",
      "[CV]  C=0.1, class_weight=None, penalty=l2, tol=0.0001, score=0.7158777118367082, total=   0.4s\n",
      "[CV] C=0.1, class_weight=None, penalty=l2, tol=0.0001 ................\n",
      "[CV]  C=0.1, class_weight=None, penalty=l2, tol=0.0001, score=0.6833369432547766, total=   0.3s\n",
      "[CV] C=0.1, class_weight=None, penalty=l2, tol=0.0001 ................\n",
      "[CV]  C=0.1, class_weight=None, penalty=l2, tol=0.0001, score=0.693259730896071, total=   0.4s\n",
      "[CV] C=0.1, class_weight=None, penalty=l2, tol=0.001 .................\n",
      "[CV]  C=0.1, class_weight=None, penalty=l2, tol=0.001, score=0.6894869833143978, total=   0.3s\n",
      "[CV] C=0.1, class_weight=None, penalty=l2, tol=0.001 .................\n",
      "[CV]  C=0.1, class_weight=None, penalty=l2, tol=0.001, score=0.6836277358413353, total=   0.3s\n",
      "[CV] C=0.1, class_weight=None, penalty=l2, tol=0.001 .................\n",
      "[CV]  C=0.1, class_weight=None, penalty=l2, tol=0.001, score=0.7158777118367082, total=   0.3s\n",
      "[CV] C=0.1, class_weight=None, penalty=l2, tol=0.001 .................\n",
      "[CV]  C=0.1, class_weight=None, penalty=l2, tol=0.001, score=0.6833369432547766, total=   0.4s\n",
      "[CV] C=0.1, class_weight=None, penalty=l2, tol=0.001 .................\n",
      "[CV]  C=0.1, class_weight=None, penalty=l2, tol=0.001, score=0.693259730896071, total=   0.3s\n",
      "[CV] C=0.1, class_weight=None, penalty=l2, tol=0.01 ..................\n",
      "[CV]  C=0.1, class_weight=None, penalty=l2, tol=0.01, score=0.6894869833143978, total=   0.3s\n",
      "[CV] C=0.1, class_weight=None, penalty=l2, tol=0.01 ..................\n",
      "[CV]  C=0.1, class_weight=None, penalty=l2, tol=0.01, score=0.6836277358413353, total=   0.3s\n",
      "[CV] C=0.1, class_weight=None, penalty=l2, tol=0.01 ..................\n",
      "[CV]  C=0.1, class_weight=None, penalty=l2, tol=0.01, score=0.7158777118367082, total=   0.3s\n",
      "[CV] C=0.1, class_weight=None, penalty=l2, tol=0.01 ..................\n",
      "[CV]  C=0.1, class_weight=None, penalty=l2, tol=0.01, score=0.6833369432547766, total=   0.3s\n",
      "[CV] C=0.1, class_weight=None, penalty=l2, tol=0.01 ..................\n",
      "[CV]  C=0.1, class_weight=None, penalty=l2, tol=0.01, score=0.693259730896071, total=   0.3s\n",
      "[CV] C=0.1, class_weight=None, penalty=l2, tol=0.1 ...................\n",
      "[CV]  C=0.1, class_weight=None, penalty=l2, tol=0.1, score=0.6887458519209922, total=   0.2s\n",
      "[CV] C=0.1, class_weight=None, penalty=l2, tol=0.1 ...................\n",
      "[CV]  C=0.1, class_weight=None, penalty=l2, tol=0.1, score=0.6836277358413353, total=   0.3s\n",
      "[CV] C=0.1, class_weight=None, penalty=l2, tol=0.1 ...................\n",
      "[CV]  C=0.1, class_weight=None, penalty=l2, tol=0.1, score=0.7150648895563675, total=   0.2s\n",
      "[CV] C=0.1, class_weight=None, penalty=l2, tol=0.1 ...................\n",
      "[CV]  C=0.1, class_weight=None, penalty=l2, tol=0.1, score=0.6833369432547766, total=   0.2s\n",
      "[CV] C=0.1, class_weight=None, penalty=l2, tol=0.1 ...................\n",
      "[CV]  C=0.1, class_weight=None, penalty=l2, tol=0.1, score=0.693259730896071, total=   0.2s\n",
      "[CV] C=0.1, class_weight=None, penalty=l2, tol=1 .....................\n",
      "[CV]  C=0.1, class_weight=None, penalty=l2, tol=1, score=0.6865910855076103, total=   0.1s\n",
      "[CV] C=0.1, class_weight=None, penalty=l2, tol=1 .....................\n",
      "[CV]  C=0.1, class_weight=None, penalty=l2, tol=1, score=0.6843390586381576, total=   0.2s\n",
      "[CV] C=0.1, class_weight=None, penalty=l2, tol=1 .....................\n",
      "[CV]  C=0.1, class_weight=None, penalty=l2, tol=1, score=0.7064184507070501, total=   0.1s\n",
      "[CV] C=0.1, class_weight=None, penalty=l2, tol=1 .....................\n",
      "[CV]  C=0.1, class_weight=None, penalty=l2, tol=1, score=0.6863413147724798, total=   0.1s\n",
      "[CV] C=0.1, class_weight=None, penalty=l2, tol=1 .....................\n",
      "[CV]  C=0.1, class_weight=None, penalty=l2, tol=1, score=0.7007338322638709, total=   0.1s\n",
      "[CV] C=1, class_weight=balanced, penalty=l1, tol=0.0001 ..............\n",
      "[CV]  C=1, class_weight=balanced, penalty=l1, tol=0.0001, score=0, total=   0.0s\n",
      "[CV] C=1, class_weight=balanced, penalty=l1, tol=0.0001 ..............\n"
     ]
    },
    {
     "name": "stderr",
     "output_type": "stream",
     "text": [
      "/Library/Frameworks/Python.framework/Versions/3.6/lib/python3.6/site-packages/sklearn/model_selection/_validation.py:479: FitFailedWarning: Classifier fit failed. The score on this train-test partition for these parameters will be set to 0.000000. Details: \n",
      "ValueError(\"Unsupported set of arguments: The combination of penalty='l1' and loss='squared_hinge' are not supported when dual=True, Parameters: penalty='l1', loss='squared_hinge', dual=True\",)\n",
      "  \"Details: \\n%r\" % (error_score, e), FitFailedWarning)\n",
      "/Library/Frameworks/Python.framework/Versions/3.6/lib/python3.6/site-packages/sklearn/model_selection/_validation.py:479: FitFailedWarning: Classifier fit failed. The score on this train-test partition for these parameters will be set to 0.000000. Details: \n",
      "ValueError(\"Unsupported set of arguments: The combination of penalty='l1' and loss='squared_hinge' are not supported when dual=True, Parameters: penalty='l1', loss='squared_hinge', dual=True\",)\n",
      "  \"Details: \\n%r\" % (error_score, e), FitFailedWarning)\n",
      "/Library/Frameworks/Python.framework/Versions/3.6/lib/python3.6/site-packages/sklearn/model_selection/_validation.py:479: FitFailedWarning: Classifier fit failed. The score on this train-test partition for these parameters will be set to 0.000000. Details: \n",
      "ValueError(\"Unsupported set of arguments: The combination of penalty='l1' and loss='squared_hinge' are not supported when dual=True, Parameters: penalty='l1', loss='squared_hinge', dual=True\",)\n",
      "  \"Details: \\n%r\" % (error_score, e), FitFailedWarning)\n",
      "/Library/Frameworks/Python.framework/Versions/3.6/lib/python3.6/site-packages/sklearn/model_selection/_validation.py:479: FitFailedWarning: Classifier fit failed. The score on this train-test partition for these parameters will be set to 0.000000. Details: \n",
      "ValueError(\"Unsupported set of arguments: The combination of penalty='l1' and loss='squared_hinge' are not supported when dual=True, Parameters: penalty='l1', loss='squared_hinge', dual=True\",)\n",
      "  \"Details: \\n%r\" % (error_score, e), FitFailedWarning)\n",
      "/Library/Frameworks/Python.framework/Versions/3.6/lib/python3.6/site-packages/sklearn/model_selection/_validation.py:479: FitFailedWarning: Classifier fit failed. The score on this train-test partition for these parameters will be set to 0.000000. Details: \n",
      "ValueError(\"Unsupported set of arguments: The combination of penalty='l1' and loss='squared_hinge' are not supported when dual=True, Parameters: penalty='l1', loss='squared_hinge', dual=True\",)\n",
      "  \"Details: \\n%r\" % (error_score, e), FitFailedWarning)\n",
      "/Library/Frameworks/Python.framework/Versions/3.6/lib/python3.6/site-packages/sklearn/model_selection/_validation.py:479: FitFailedWarning: Classifier fit failed. The score on this train-test partition for these parameters will be set to 0.000000. Details: \n",
      "ValueError(\"Unsupported set of arguments: The combination of penalty='l1' and loss='squared_hinge' are not supported when dual=True, Parameters: penalty='l1', loss='squared_hinge', dual=True\",)\n",
      "  \"Details: \\n%r\" % (error_score, e), FitFailedWarning)\n",
      "/Library/Frameworks/Python.framework/Versions/3.6/lib/python3.6/site-packages/sklearn/model_selection/_validation.py:479: FitFailedWarning: Classifier fit failed. The score on this train-test partition for these parameters will be set to 0.000000. Details: \n",
      "ValueError(\"Unsupported set of arguments: The combination of penalty='l1' and loss='squared_hinge' are not supported when dual=True, Parameters: penalty='l1', loss='squared_hinge', dual=True\",)\n",
      "  \"Details: \\n%r\" % (error_score, e), FitFailedWarning)\n"
     ]
    },
    {
     "name": "stdout",
     "output_type": "stream",
     "text": [
      "[CV]  C=1, class_weight=balanced, penalty=l1, tol=0.0001, score=0, total=   0.0s\n",
      "[CV] C=1, class_weight=balanced, penalty=l1, tol=0.0001 ..............\n",
      "[CV]  C=1, class_weight=balanced, penalty=l1, tol=0.0001, score=0, total=   0.0s\n",
      "[CV] C=1, class_weight=balanced, penalty=l1, tol=0.0001 ..............\n",
      "[CV]  C=1, class_weight=balanced, penalty=l1, tol=0.0001, score=0, total=   0.0s\n",
      "[CV] C=1, class_weight=balanced, penalty=l1, tol=0.0001 ..............\n",
      "[CV]  C=1, class_weight=balanced, penalty=l1, tol=0.0001, score=0, total=   0.0s\n",
      "[CV] C=1, class_weight=balanced, penalty=l1, tol=0.001 ...............\n",
      "[CV]  C=1, class_weight=balanced, penalty=l1, tol=0.001, score=0, total=   0.0s\n",
      "[CV] C=1, class_weight=balanced, penalty=l1, tol=0.001 ...............\n",
      "[CV]  C=1, class_weight=balanced, penalty=l1, tol=0.001, score=0, total=   0.0s\n",
      "[CV] C=1, class_weight=balanced, penalty=l1, tol=0.001 ...............\n"
     ]
    },
    {
     "name": "stderr",
     "output_type": "stream",
     "text": [
      "/Library/Frameworks/Python.framework/Versions/3.6/lib/python3.6/site-packages/sklearn/model_selection/_validation.py:479: FitFailedWarning: Classifier fit failed. The score on this train-test partition for these parameters will be set to 0.000000. Details: \n",
      "ValueError(\"Unsupported set of arguments: The combination of penalty='l1' and loss='squared_hinge' are not supported when dual=True, Parameters: penalty='l1', loss='squared_hinge', dual=True\",)\n",
      "  \"Details: \\n%r\" % (error_score, e), FitFailedWarning)\n",
      "/Library/Frameworks/Python.framework/Versions/3.6/lib/python3.6/site-packages/sklearn/model_selection/_validation.py:479: FitFailedWarning: Classifier fit failed. The score on this train-test partition for these parameters will be set to 0.000000. Details: \n",
      "ValueError(\"Unsupported set of arguments: The combination of penalty='l1' and loss='squared_hinge' are not supported when dual=True, Parameters: penalty='l1', loss='squared_hinge', dual=True\",)\n",
      "  \"Details: \\n%r\" % (error_score, e), FitFailedWarning)\n",
      "/Library/Frameworks/Python.framework/Versions/3.6/lib/python3.6/site-packages/sklearn/model_selection/_validation.py:479: FitFailedWarning: Classifier fit failed. The score on this train-test partition for these parameters will be set to 0.000000. Details: \n",
      "ValueError(\"Unsupported set of arguments: The combination of penalty='l1' and loss='squared_hinge' are not supported when dual=True, Parameters: penalty='l1', loss='squared_hinge', dual=True\",)\n",
      "  \"Details: \\n%r\" % (error_score, e), FitFailedWarning)\n",
      "/Library/Frameworks/Python.framework/Versions/3.6/lib/python3.6/site-packages/sklearn/model_selection/_validation.py:479: FitFailedWarning: Classifier fit failed. The score on this train-test partition for these parameters will be set to 0.000000. Details: \n",
      "ValueError(\"Unsupported set of arguments: The combination of penalty='l1' and loss='squared_hinge' are not supported when dual=True, Parameters: penalty='l1', loss='squared_hinge', dual=True\",)\n",
      "  \"Details: \\n%r\" % (error_score, e), FitFailedWarning)\n",
      "/Library/Frameworks/Python.framework/Versions/3.6/lib/python3.6/site-packages/sklearn/model_selection/_validation.py:479: FitFailedWarning: Classifier fit failed. The score on this train-test partition for these parameters will be set to 0.000000. Details: \n",
      "ValueError(\"Unsupported set of arguments: The combination of penalty='l1' and loss='squared_hinge' are not supported when dual=True, Parameters: penalty='l1', loss='squared_hinge', dual=True\",)\n",
      "  \"Details: \\n%r\" % (error_score, e), FitFailedWarning)\n",
      "/Library/Frameworks/Python.framework/Versions/3.6/lib/python3.6/site-packages/sklearn/model_selection/_validation.py:479: FitFailedWarning: Classifier fit failed. The score on this train-test partition for these parameters will be set to 0.000000. Details: \n",
      "ValueError(\"Unsupported set of arguments: The combination of penalty='l1' and loss='squared_hinge' are not supported when dual=True, Parameters: penalty='l1', loss='squared_hinge', dual=True\",)\n",
      "  \"Details: \\n%r\" % (error_score, e), FitFailedWarning)\n"
     ]
    },
    {
     "name": "stdout",
     "output_type": "stream",
     "text": [
      "[CV]  C=1, class_weight=balanced, penalty=l1, tol=0.001, score=0, total=   0.0s\n",
      "[CV] C=1, class_weight=balanced, penalty=l1, tol=0.001 ...............\n",
      "[CV]  C=1, class_weight=balanced, penalty=l1, tol=0.001, score=0, total=   0.0s\n",
      "[CV] C=1, class_weight=balanced, penalty=l1, tol=0.001 ...............\n",
      "[CV]  C=1, class_weight=balanced, penalty=l1, tol=0.001, score=0, total=   0.0s\n",
      "[CV] C=1, class_weight=balanced, penalty=l1, tol=0.01 ................\n",
      "[CV]  C=1, class_weight=balanced, penalty=l1, tol=0.01, score=0, total=   0.0s\n",
      "[CV] C=1, class_weight=balanced, penalty=l1, tol=0.01 ................\n",
      "[CV]  C=1, class_weight=balanced, penalty=l1, tol=0.01, score=0, total=   0.0s\n",
      "[CV] C=1, class_weight=balanced, penalty=l1, tol=0.01 ................\n",
      "[CV]  C=1, class_weight=balanced, penalty=l1, tol=0.01, score=0, total=   0.0s\n",
      "[CV] C=1, class_weight=balanced, penalty=l1, tol=0.01 ................\n"
     ]
    },
    {
     "name": "stderr",
     "output_type": "stream",
     "text": [
      "/Library/Frameworks/Python.framework/Versions/3.6/lib/python3.6/site-packages/sklearn/model_selection/_validation.py:479: FitFailedWarning: Classifier fit failed. The score on this train-test partition for these parameters will be set to 0.000000. Details: \n",
      "ValueError(\"Unsupported set of arguments: The combination of penalty='l1' and loss='squared_hinge' are not supported when dual=True, Parameters: penalty='l1', loss='squared_hinge', dual=True\",)\n",
      "  \"Details: \\n%r\" % (error_score, e), FitFailedWarning)\n",
      "/Library/Frameworks/Python.framework/Versions/3.6/lib/python3.6/site-packages/sklearn/model_selection/_validation.py:479: FitFailedWarning: Classifier fit failed. The score on this train-test partition for these parameters will be set to 0.000000. Details: \n",
      "ValueError(\"Unsupported set of arguments: The combination of penalty='l1' and loss='squared_hinge' are not supported when dual=True, Parameters: penalty='l1', loss='squared_hinge', dual=True\",)\n",
      "  \"Details: \\n%r\" % (error_score, e), FitFailedWarning)\n",
      "/Library/Frameworks/Python.framework/Versions/3.6/lib/python3.6/site-packages/sklearn/model_selection/_validation.py:479: FitFailedWarning: Classifier fit failed. The score on this train-test partition for these parameters will be set to 0.000000. Details: \n",
      "ValueError(\"Unsupported set of arguments: The combination of penalty='l1' and loss='squared_hinge' are not supported when dual=True, Parameters: penalty='l1', loss='squared_hinge', dual=True\",)\n",
      "  \"Details: \\n%r\" % (error_score, e), FitFailedWarning)\n",
      "/Library/Frameworks/Python.framework/Versions/3.6/lib/python3.6/site-packages/sklearn/model_selection/_validation.py:479: FitFailedWarning: Classifier fit failed. The score on this train-test partition for these parameters will be set to 0.000000. Details: \n",
      "ValueError(\"Unsupported set of arguments: The combination of penalty='l1' and loss='squared_hinge' are not supported when dual=True, Parameters: penalty='l1', loss='squared_hinge', dual=True\",)\n",
      "  \"Details: \\n%r\" % (error_score, e), FitFailedWarning)\n",
      "/Library/Frameworks/Python.framework/Versions/3.6/lib/python3.6/site-packages/sklearn/model_selection/_validation.py:479: FitFailedWarning: Classifier fit failed. The score on this train-test partition for these parameters will be set to 0.000000. Details: \n",
      "ValueError(\"Unsupported set of arguments: The combination of penalty='l1' and loss='squared_hinge' are not supported when dual=True, Parameters: penalty='l1', loss='squared_hinge', dual=True\",)\n",
      "  \"Details: \\n%r\" % (error_score, e), FitFailedWarning)\n",
      "/Library/Frameworks/Python.framework/Versions/3.6/lib/python3.6/site-packages/sklearn/model_selection/_validation.py:479: FitFailedWarning: Classifier fit failed. The score on this train-test partition for these parameters will be set to 0.000000. Details: \n",
      "ValueError(\"Unsupported set of arguments: The combination of penalty='l1' and loss='squared_hinge' are not supported when dual=True, Parameters: penalty='l1', loss='squared_hinge', dual=True\",)\n",
      "  \"Details: \\n%r\" % (error_score, e), FitFailedWarning)\n"
     ]
    },
    {
     "name": "stdout",
     "output_type": "stream",
     "text": [
      "[CV]  C=1, class_weight=balanced, penalty=l1, tol=0.01, score=0, total=   0.0s\n",
      "[CV] C=1, class_weight=balanced, penalty=l1, tol=0.01 ................\n",
      "[CV]  C=1, class_weight=balanced, penalty=l1, tol=0.01, score=0, total=   0.0s\n",
      "[CV] C=1, class_weight=balanced, penalty=l1, tol=0.1 .................\n",
      "[CV]  C=1, class_weight=balanced, penalty=l1, tol=0.1, score=0, total=   0.0s\n",
      "[CV] C=1, class_weight=balanced, penalty=l1, tol=0.1 .................\n",
      "[CV]  C=1, class_weight=balanced, penalty=l1, tol=0.1, score=0, total=   0.0s\n",
      "[CV] C=1, class_weight=balanced, penalty=l1, tol=0.1 .................\n",
      "[CV]  C=1, class_weight=balanced, penalty=l1, tol=0.1, score=0, total=   0.0s\n",
      "[CV] C=1, class_weight=balanced, penalty=l1, tol=0.1 .................\n",
      "[CV]  C=1, class_weight=balanced, penalty=l1, tol=0.1, score=0, total=   0.0s\n",
      "[CV] C=1, class_weight=balanced, penalty=l1, tol=0.1 .................\n"
     ]
    },
    {
     "name": "stderr",
     "output_type": "stream",
     "text": [
      "/Library/Frameworks/Python.framework/Versions/3.6/lib/python3.6/site-packages/sklearn/model_selection/_validation.py:479: FitFailedWarning: Classifier fit failed. The score on this train-test partition for these parameters will be set to 0.000000. Details: \n",
      "ValueError(\"Unsupported set of arguments: The combination of penalty='l1' and loss='squared_hinge' are not supported when dual=True, Parameters: penalty='l1', loss='squared_hinge', dual=True\",)\n",
      "  \"Details: \\n%r\" % (error_score, e), FitFailedWarning)\n",
      "/Library/Frameworks/Python.framework/Versions/3.6/lib/python3.6/site-packages/sklearn/model_selection/_validation.py:479: FitFailedWarning: Classifier fit failed. The score on this train-test partition for these parameters will be set to 0.000000. Details: \n",
      "ValueError(\"Unsupported set of arguments: The combination of penalty='l1' and loss='squared_hinge' are not supported when dual=True, Parameters: penalty='l1', loss='squared_hinge', dual=True\",)\n",
      "  \"Details: \\n%r\" % (error_score, e), FitFailedWarning)\n",
      "/Library/Frameworks/Python.framework/Versions/3.6/lib/python3.6/site-packages/sklearn/model_selection/_validation.py:479: FitFailedWarning: Classifier fit failed. The score on this train-test partition for these parameters will be set to 0.000000. Details: \n",
      "ValueError(\"Unsupported set of arguments: The combination of penalty='l1' and loss='squared_hinge' are not supported when dual=True, Parameters: penalty='l1', loss='squared_hinge', dual=True\",)\n",
      "  \"Details: \\n%r\" % (error_score, e), FitFailedWarning)\n",
      "/Library/Frameworks/Python.framework/Versions/3.6/lib/python3.6/site-packages/sklearn/model_selection/_validation.py:479: FitFailedWarning: Classifier fit failed. The score on this train-test partition for these parameters will be set to 0.000000. Details: \n",
      "ValueError(\"Unsupported set of arguments: The combination of penalty='l1' and loss='squared_hinge' are not supported when dual=True, Parameters: penalty='l1', loss='squared_hinge', dual=True\",)\n",
      "  \"Details: \\n%r\" % (error_score, e), FitFailedWarning)\n",
      "/Library/Frameworks/Python.framework/Versions/3.6/lib/python3.6/site-packages/sklearn/model_selection/_validation.py:479: FitFailedWarning: Classifier fit failed. The score on this train-test partition for these parameters will be set to 0.000000. Details: \n",
      "ValueError(\"Unsupported set of arguments: The combination of penalty='l1' and loss='squared_hinge' are not supported when dual=True, Parameters: penalty='l1', loss='squared_hinge', dual=True\",)\n",
      "  \"Details: \\n%r\" % (error_score, e), FitFailedWarning)\n",
      "/Library/Frameworks/Python.framework/Versions/3.6/lib/python3.6/site-packages/sklearn/model_selection/_validation.py:479: FitFailedWarning: Classifier fit failed. The score on this train-test partition for these parameters will be set to 0.000000. Details: \n",
      "ValueError(\"Unsupported set of arguments: The combination of penalty='l1' and loss='squared_hinge' are not supported when dual=True, Parameters: penalty='l1', loss='squared_hinge', dual=True\",)\n",
      "  \"Details: \\n%r\" % (error_score, e), FitFailedWarning)\n"
     ]
    },
    {
     "name": "stdout",
     "output_type": "stream",
     "text": [
      "[CV]  C=1, class_weight=balanced, penalty=l1, tol=0.1, score=0, total=   0.0s\n",
      "[CV] C=1, class_weight=balanced, penalty=l1, tol=1 ...................\n",
      "[CV]  C=1, class_weight=balanced, penalty=l1, tol=1, score=0, total=   0.0s\n",
      "[CV] C=1, class_weight=balanced, penalty=l1, tol=1 ...................\n",
      "[CV]  C=1, class_weight=balanced, penalty=l1, tol=1, score=0, total=   0.0s\n",
      "[CV] C=1, class_weight=balanced, penalty=l1, tol=1 ...................\n",
      "[CV]  C=1, class_weight=balanced, penalty=l1, tol=1, score=0, total=   0.0s\n",
      "[CV] C=1, class_weight=balanced, penalty=l1, tol=1 ...................\n",
      "[CV]  C=1, class_weight=balanced, penalty=l1, tol=1, score=0, total=   0.0s\n",
      "[CV] C=1, class_weight=balanced, penalty=l1, tol=1 ...................\n",
      "[CV]  C=1, class_weight=balanced, penalty=l1, tol=1, score=0, total=   0.0s\n",
      "[CV] C=1, class_weight=balanced, penalty=l2, tol=0.0001 ..............\n",
      "[CV]  C=1, class_weight=balanced, penalty=l2, tol=0.0001, score=0.7451509811292208, total=   1.0s\n",
      "[CV] C=1, class_weight=balanced, penalty=l2, tol=0.0001 ..............\n",
      "[CV]  C=1, class_weight=balanced, penalty=l2, tol=0.0001, score=0.7410945352278137, total=   1.0s\n",
      "[CV] C=1, class_weight=balanced, penalty=l2, tol=0.0001 ..............\n",
      "[CV]  C=1, class_weight=balanced, penalty=l2, tol=0.0001, score=0.7462910097520027, total=   1.1s\n",
      "[CV] C=1, class_weight=balanced, penalty=l2, tol=0.0001 ..............\n",
      "[CV]  C=1, class_weight=balanced, penalty=l2, tol=0.0001, score=0.7488314851657801, total=   1.2s\n",
      "[CV] C=1, class_weight=balanced, penalty=l2, tol=0.0001 ..............\n",
      "[CV]  C=1, class_weight=balanced, penalty=l2, tol=0.0001, score=0.7361726980522566, total=   0.9s\n",
      "[CV] C=1, class_weight=balanced, penalty=l2, tol=0.001 ...............\n",
      "[CV]  C=1, class_weight=balanced, penalty=l2, tol=0.001, score=0.7451509811292208, total=   0.8s\n",
      "[CV] C=1, class_weight=balanced, penalty=l2, tol=0.001 ...............\n",
      "[CV]  C=1, class_weight=balanced, penalty=l2, tol=0.001, score=0.7410945352278137, total=   0.9s\n",
      "[CV] C=1, class_weight=balanced, penalty=l2, tol=0.001 ...............\n",
      "[CV]  C=1, class_weight=balanced, penalty=l2, tol=0.001, score=0.7462910097520027, total=   0.8s\n",
      "[CV] C=1, class_weight=balanced, penalty=l2, tol=0.001 ...............\n",
      "[CV]  C=1, class_weight=balanced, penalty=l2, tol=0.001, score=0.7488314851657801, total=   0.8s\n",
      "[CV] C=1, class_weight=balanced, penalty=l2, tol=0.001 ...............\n",
      "[CV]  C=1, class_weight=balanced, penalty=l2, tol=0.001, score=0.7361726980522566, total=   0.8s\n",
      "[CV] C=1, class_weight=balanced, penalty=l2, tol=0.01 ................\n",
      "[CV]  C=1, class_weight=balanced, penalty=l2, tol=0.01, score=0.7451509811292208, total=   0.6s\n",
      "[CV] C=1, class_weight=balanced, penalty=l2, tol=0.01 ................\n",
      "[CV]  C=1, class_weight=balanced, penalty=l2, tol=0.01, score=0.7410945352278137, total=   0.6s\n",
      "[CV] C=1, class_weight=balanced, penalty=l2, tol=0.01 ................\n",
      "[CV]  C=1, class_weight=balanced, penalty=l2, tol=0.01, score=0.7462910097520027, total=   0.6s\n",
      "[CV] C=1, class_weight=balanced, penalty=l2, tol=0.01 ................\n",
      "[CV]  C=1, class_weight=balanced, penalty=l2, tol=0.01, score=0.7488314851657801, total=   0.6s\n",
      "[CV] C=1, class_weight=balanced, penalty=l2, tol=0.01 ................\n",
      "[CV]  C=1, class_weight=balanced, penalty=l2, tol=0.01, score=0.7361726980522566, total=   0.6s\n",
      "[CV] C=1, class_weight=balanced, penalty=l2, tol=0.1 .................\n",
      "[CV]  C=1, class_weight=balanced, penalty=l2, tol=0.1, score=0.7451509811292208, total=   0.4s\n",
      "[CV] C=1, class_weight=balanced, penalty=l2, tol=0.1 .................\n",
      "[CV]  C=1, class_weight=balanced, penalty=l2, tol=0.1, score=0.7409738211317212, total=   0.5s\n",
      "[CV] C=1, class_weight=balanced, penalty=l2, tol=0.1 .................\n",
      "[CV]  C=1, class_weight=balanced, penalty=l2, tol=0.1, score=0.747242653852583, total=   0.5s\n",
      "[CV] C=1, class_weight=balanced, penalty=l2, tol=0.1 .................\n",
      "[CV]  C=1, class_weight=balanced, penalty=l2, tol=0.1, score=0.7484514680712643, total=   0.5s\n",
      "[CV] C=1, class_weight=balanced, penalty=l2, tol=0.1 .................\n",
      "[CV]  C=1, class_weight=balanced, penalty=l2, tol=0.1, score=0.7355801655644622, total=   0.5s\n",
      "[CV] C=1, class_weight=balanced, penalty=l2, tol=1 ...................\n",
      "[CV]  C=1, class_weight=balanced, penalty=l2, tol=1, score=0.7463768986501872, total=   0.3s\n",
      "[CV] C=1, class_weight=balanced, penalty=l2, tol=1 ...................\n",
      "[CV]  C=1, class_weight=balanced, penalty=l2, tol=1, score=0.7414383061130252, total=   0.3s\n",
      "[CV] C=1, class_weight=balanced, penalty=l2, tol=1 ...................\n",
      "[CV]  C=1, class_weight=balanced, penalty=l2, tol=1, score=0.7488384650158221, total=   0.3s\n",
      "[CV] C=1, class_weight=balanced, penalty=l2, tol=1 ...................\n",
      "[CV]  C=1, class_weight=balanced, penalty=l2, tol=1, score=0.7432562537554542, total=   0.3s\n",
      "[CV] C=1, class_weight=balanced, penalty=l2, tol=1 ...................\n",
      "[CV]  C=1, class_weight=balanced, penalty=l2, tol=1, score=0.7363225031566699, total=   0.3s\n",
      "[CV] C=1, class_weight=None, penalty=l1, tol=0.0001 ..................\n",
      "[CV]  C=1, class_weight=None, penalty=l1, tol=0.0001, score=0, total=   0.0s\n",
      "[CV] C=1, class_weight=None, penalty=l1, tol=0.0001 ..................\n",
      "[CV]  C=1, class_weight=None, penalty=l1, tol=0.0001, score=0, total=   0.0s\n",
      "[CV] C=1, class_weight=None, penalty=l1, tol=0.0001 ..................\n",
      "[CV]  C=1, class_weight=None, penalty=l1, tol=0.0001, score=0, total=   0.0s\n",
      "[CV] C=1, class_weight=None, penalty=l1, tol=0.0001 ..................\n",
      "[CV]  C=1, class_weight=None, penalty=l1, tol=0.0001, score=0, total=   0.0s\n",
      "[CV] C=1, class_weight=None, penalty=l1, tol=0.0001 ..................\n",
      "[CV]  C=1, class_weight=None, penalty=l1, tol=0.0001, score=0, total=   0.0s\n",
      "[CV] C=1, class_weight=None, penalty=l1, tol=0.001 ...................\n",
      "[CV]  C=1, class_weight=None, penalty=l1, tol=0.001, score=0, total=   0.0s\n",
      "[CV] C=1, class_weight=None, penalty=l1, tol=0.001 ...................\n"
     ]
    },
    {
     "name": "stderr",
     "output_type": "stream",
     "text": [
      "/Library/Frameworks/Python.framework/Versions/3.6/lib/python3.6/site-packages/sklearn/model_selection/_validation.py:479: FitFailedWarning: Classifier fit failed. The score on this train-test partition for these parameters will be set to 0.000000. Details: \n",
      "ValueError(\"Unsupported set of arguments: The combination of penalty='l1' and loss='squared_hinge' are not supported when dual=True, Parameters: penalty='l1', loss='squared_hinge', dual=True\",)\n",
      "  \"Details: \\n%r\" % (error_score, e), FitFailedWarning)\n",
      "/Library/Frameworks/Python.framework/Versions/3.6/lib/python3.6/site-packages/sklearn/model_selection/_validation.py:479: FitFailedWarning: Classifier fit failed. The score on this train-test partition for these parameters will be set to 0.000000. Details: \n",
      "ValueError(\"Unsupported set of arguments: The combination of penalty='l1' and loss='squared_hinge' are not supported when dual=True, Parameters: penalty='l1', loss='squared_hinge', dual=True\",)\n",
      "  \"Details: \\n%r\" % (error_score, e), FitFailedWarning)\n",
      "/Library/Frameworks/Python.framework/Versions/3.6/lib/python3.6/site-packages/sklearn/model_selection/_validation.py:479: FitFailedWarning: Classifier fit failed. The score on this train-test partition for these parameters will be set to 0.000000. Details: \n",
      "ValueError(\"Unsupported set of arguments: The combination of penalty='l1' and loss='squared_hinge' are not supported when dual=True, Parameters: penalty='l1', loss='squared_hinge', dual=True\",)\n",
      "  \"Details: \\n%r\" % (error_score, e), FitFailedWarning)\n",
      "/Library/Frameworks/Python.framework/Versions/3.6/lib/python3.6/site-packages/sklearn/model_selection/_validation.py:479: FitFailedWarning: Classifier fit failed. The score on this train-test partition for these parameters will be set to 0.000000. Details: \n",
      "ValueError(\"Unsupported set of arguments: The combination of penalty='l1' and loss='squared_hinge' are not supported when dual=True, Parameters: penalty='l1', loss='squared_hinge', dual=True\",)\n",
      "  \"Details: \\n%r\" % (error_score, e), FitFailedWarning)\n",
      "/Library/Frameworks/Python.framework/Versions/3.6/lib/python3.6/site-packages/sklearn/model_selection/_validation.py:479: FitFailedWarning: Classifier fit failed. The score on this train-test partition for these parameters will be set to 0.000000. Details: \n",
      "ValueError(\"Unsupported set of arguments: The combination of penalty='l1' and loss='squared_hinge' are not supported when dual=True, Parameters: penalty='l1', loss='squared_hinge', dual=True\",)\n",
      "  \"Details: \\n%r\" % (error_score, e), FitFailedWarning)\n",
      "/Library/Frameworks/Python.framework/Versions/3.6/lib/python3.6/site-packages/sklearn/model_selection/_validation.py:479: FitFailedWarning: Classifier fit failed. The score on this train-test partition for these parameters will be set to 0.000000. Details: \n",
      "ValueError(\"Unsupported set of arguments: The combination of penalty='l1' and loss='squared_hinge' are not supported when dual=True, Parameters: penalty='l1', loss='squared_hinge', dual=True\",)\n",
      "  \"Details: \\n%r\" % (error_score, e), FitFailedWarning)\n",
      "/Library/Frameworks/Python.framework/Versions/3.6/lib/python3.6/site-packages/sklearn/model_selection/_validation.py:479: FitFailedWarning: Classifier fit failed. The score on this train-test partition for these parameters will be set to 0.000000. Details: \n",
      "ValueError(\"Unsupported set of arguments: The combination of penalty='l1' and loss='squared_hinge' are not supported when dual=True, Parameters: penalty='l1', loss='squared_hinge', dual=True\",)\n",
      "  \"Details: \\n%r\" % (error_score, e), FitFailedWarning)\n"
     ]
    },
    {
     "name": "stdout",
     "output_type": "stream",
     "text": [
      "[CV]  C=1, class_weight=None, penalty=l1, tol=0.001, score=0, total=   0.0s\n",
      "[CV] C=1, class_weight=None, penalty=l1, tol=0.001 ...................\n",
      "[CV]  C=1, class_weight=None, penalty=l1, tol=0.001, score=0, total=   0.0s\n",
      "[CV] C=1, class_weight=None, penalty=l1, tol=0.001 ...................\n",
      "[CV]  C=1, class_weight=None, penalty=l1, tol=0.001, score=0, total=   0.0s\n",
      "[CV] C=1, class_weight=None, penalty=l1, tol=0.001 ...................\n",
      "[CV]  C=1, class_weight=None, penalty=l1, tol=0.001, score=0, total=   0.0s\n",
      "[CV] C=1, class_weight=None, penalty=l1, tol=0.01 ....................\n",
      "[CV]  C=1, class_weight=None, penalty=l1, tol=0.01, score=0, total=   0.0s\n",
      "[CV] C=1, class_weight=None, penalty=l1, tol=0.01 ....................\n",
      "[CV]  C=1, class_weight=None, penalty=l1, tol=0.01, score=0, total=   0.0s\n",
      "[CV] C=1, class_weight=None, penalty=l1, tol=0.01 ....................\n",
      "[CV]  C=1, class_weight=None, penalty=l1, tol=0.01, score=0, total=   0.0s\n",
      "[CV] C=1, class_weight=None, penalty=l1, tol=0.01 ....................\n"
     ]
    },
    {
     "name": "stderr",
     "output_type": "stream",
     "text": [
      "/Library/Frameworks/Python.framework/Versions/3.6/lib/python3.6/site-packages/sklearn/model_selection/_validation.py:479: FitFailedWarning: Classifier fit failed. The score on this train-test partition for these parameters will be set to 0.000000. Details: \n",
      "ValueError(\"Unsupported set of arguments: The combination of penalty='l1' and loss='squared_hinge' are not supported when dual=True, Parameters: penalty='l1', loss='squared_hinge', dual=True\",)\n",
      "  \"Details: \\n%r\" % (error_score, e), FitFailedWarning)\n",
      "/Library/Frameworks/Python.framework/Versions/3.6/lib/python3.6/site-packages/sklearn/model_selection/_validation.py:479: FitFailedWarning: Classifier fit failed. The score on this train-test partition for these parameters will be set to 0.000000. Details: \n",
      "ValueError(\"Unsupported set of arguments: The combination of penalty='l1' and loss='squared_hinge' are not supported when dual=True, Parameters: penalty='l1', loss='squared_hinge', dual=True\",)\n",
      "  \"Details: \\n%r\" % (error_score, e), FitFailedWarning)\n",
      "/Library/Frameworks/Python.framework/Versions/3.6/lib/python3.6/site-packages/sklearn/model_selection/_validation.py:479: FitFailedWarning: Classifier fit failed. The score on this train-test partition for these parameters will be set to 0.000000. Details: \n",
      "ValueError(\"Unsupported set of arguments: The combination of penalty='l1' and loss='squared_hinge' are not supported when dual=True, Parameters: penalty='l1', loss='squared_hinge', dual=True\",)\n",
      "  \"Details: \\n%r\" % (error_score, e), FitFailedWarning)\n",
      "/Library/Frameworks/Python.framework/Versions/3.6/lib/python3.6/site-packages/sklearn/model_selection/_validation.py:479: FitFailedWarning: Classifier fit failed. The score on this train-test partition for these parameters will be set to 0.000000. Details: \n",
      "ValueError(\"Unsupported set of arguments: The combination of penalty='l1' and loss='squared_hinge' are not supported when dual=True, Parameters: penalty='l1', loss='squared_hinge', dual=True\",)\n",
      "  \"Details: \\n%r\" % (error_score, e), FitFailedWarning)\n",
      "/Library/Frameworks/Python.framework/Versions/3.6/lib/python3.6/site-packages/sklearn/model_selection/_validation.py:479: FitFailedWarning: Classifier fit failed. The score on this train-test partition for these parameters will be set to 0.000000. Details: \n",
      "ValueError(\"Unsupported set of arguments: The combination of penalty='l1' and loss='squared_hinge' are not supported when dual=True, Parameters: penalty='l1', loss='squared_hinge', dual=True\",)\n",
      "  \"Details: \\n%r\" % (error_score, e), FitFailedWarning)\n",
      "/Library/Frameworks/Python.framework/Versions/3.6/lib/python3.6/site-packages/sklearn/model_selection/_validation.py:479: FitFailedWarning: Classifier fit failed. The score on this train-test partition for these parameters will be set to 0.000000. Details: \n",
      "ValueError(\"Unsupported set of arguments: The combination of penalty='l1' and loss='squared_hinge' are not supported when dual=True, Parameters: penalty='l1', loss='squared_hinge', dual=True\",)\n",
      "  \"Details: \\n%r\" % (error_score, e), FitFailedWarning)\n",
      "/Library/Frameworks/Python.framework/Versions/3.6/lib/python3.6/site-packages/sklearn/model_selection/_validation.py:479: FitFailedWarning: Classifier fit failed. The score on this train-test partition for these parameters will be set to 0.000000. Details: \n",
      "ValueError(\"Unsupported set of arguments: The combination of penalty='l1' and loss='squared_hinge' are not supported when dual=True, Parameters: penalty='l1', loss='squared_hinge', dual=True\",)\n",
      "  \"Details: \\n%r\" % (error_score, e), FitFailedWarning)\n"
     ]
    },
    {
     "name": "stdout",
     "output_type": "stream",
     "text": [
      "[CV]  C=1, class_weight=None, penalty=l1, tol=0.01, score=0, total=   0.0s\n",
      "[CV] C=1, class_weight=None, penalty=l1, tol=0.01 ....................\n",
      "[CV]  C=1, class_weight=None, penalty=l1, tol=0.01, score=0, total=   0.0s\n",
      "[CV] C=1, class_weight=None, penalty=l1, tol=0.1 .....................\n",
      "[CV]  C=1, class_weight=None, penalty=l1, tol=0.1, score=0, total=   0.0s\n",
      "[CV] C=1, class_weight=None, penalty=l1, tol=0.1 .....................\n",
      "[CV]  C=1, class_weight=None, penalty=l1, tol=0.1, score=0, total=   0.0s\n",
      "[CV] C=1, class_weight=None, penalty=l1, tol=0.1 .....................\n",
      "[CV]  C=1, class_weight=None, penalty=l1, tol=0.1, score=0, total=   0.0s\n",
      "[CV] C=1, class_weight=None, penalty=l1, tol=0.1 .....................\n",
      "[CV]  C=1, class_weight=None, penalty=l1, tol=0.1, score=0, total=   0.0s\n",
      "[CV] C=1, class_weight=None, penalty=l1, tol=0.1 .....................\n",
      "[CV]  C=1, class_weight=None, penalty=l1, tol=0.1, score=0, total=   0.0s\n",
      "[CV] C=1, class_weight=None, penalty=l1, tol=1 .......................\n"
     ]
    },
    {
     "name": "stderr",
     "output_type": "stream",
     "text": [
      "/Library/Frameworks/Python.framework/Versions/3.6/lib/python3.6/site-packages/sklearn/model_selection/_validation.py:479: FitFailedWarning: Classifier fit failed. The score on this train-test partition for these parameters will be set to 0.000000. Details: \n",
      "ValueError(\"Unsupported set of arguments: The combination of penalty='l1' and loss='squared_hinge' are not supported when dual=True, Parameters: penalty='l1', loss='squared_hinge', dual=True\",)\n",
      "  \"Details: \\n%r\" % (error_score, e), FitFailedWarning)\n",
      "/Library/Frameworks/Python.framework/Versions/3.6/lib/python3.6/site-packages/sklearn/model_selection/_validation.py:479: FitFailedWarning: Classifier fit failed. The score on this train-test partition for these parameters will be set to 0.000000. Details: \n",
      "ValueError(\"Unsupported set of arguments: The combination of penalty='l1' and loss='squared_hinge' are not supported when dual=True, Parameters: penalty='l1', loss='squared_hinge', dual=True\",)\n",
      "  \"Details: \\n%r\" % (error_score, e), FitFailedWarning)\n",
      "/Library/Frameworks/Python.framework/Versions/3.6/lib/python3.6/site-packages/sklearn/model_selection/_validation.py:479: FitFailedWarning: Classifier fit failed. The score on this train-test partition for these parameters will be set to 0.000000. Details: \n",
      "ValueError(\"Unsupported set of arguments: The combination of penalty='l1' and loss='squared_hinge' are not supported when dual=True, Parameters: penalty='l1', loss='squared_hinge', dual=True\",)\n",
      "  \"Details: \\n%r\" % (error_score, e), FitFailedWarning)\n",
      "/Library/Frameworks/Python.framework/Versions/3.6/lib/python3.6/site-packages/sklearn/model_selection/_validation.py:479: FitFailedWarning: Classifier fit failed. The score on this train-test partition for these parameters will be set to 0.000000. Details: \n",
      "ValueError(\"Unsupported set of arguments: The combination of penalty='l1' and loss='squared_hinge' are not supported when dual=True, Parameters: penalty='l1', loss='squared_hinge', dual=True\",)\n",
      "  \"Details: \\n%r\" % (error_score, e), FitFailedWarning)\n",
      "/Library/Frameworks/Python.framework/Versions/3.6/lib/python3.6/site-packages/sklearn/model_selection/_validation.py:479: FitFailedWarning: Classifier fit failed. The score on this train-test partition for these parameters will be set to 0.000000. Details: \n",
      "ValueError(\"Unsupported set of arguments: The combination of penalty='l1' and loss='squared_hinge' are not supported when dual=True, Parameters: penalty='l1', loss='squared_hinge', dual=True\",)\n",
      "  \"Details: \\n%r\" % (error_score, e), FitFailedWarning)\n",
      "/Library/Frameworks/Python.framework/Versions/3.6/lib/python3.6/site-packages/sklearn/model_selection/_validation.py:479: FitFailedWarning: Classifier fit failed. The score on this train-test partition for these parameters will be set to 0.000000. Details: \n",
      "ValueError(\"Unsupported set of arguments: The combination of penalty='l1' and loss='squared_hinge' are not supported when dual=True, Parameters: penalty='l1', loss='squared_hinge', dual=True\",)\n",
      "  \"Details: \\n%r\" % (error_score, e), FitFailedWarning)\n",
      "/Library/Frameworks/Python.framework/Versions/3.6/lib/python3.6/site-packages/sklearn/model_selection/_validation.py:479: FitFailedWarning: Classifier fit failed. The score on this train-test partition for these parameters will be set to 0.000000. Details: \n",
      "ValueError(\"Unsupported set of arguments: The combination of penalty='l1' and loss='squared_hinge' are not supported when dual=True, Parameters: penalty='l1', loss='squared_hinge', dual=True\",)\n",
      "  \"Details: \\n%r\" % (error_score, e), FitFailedWarning)\n"
     ]
    },
    {
     "name": "stdout",
     "output_type": "stream",
     "text": [
      "[CV]  C=1, class_weight=None, penalty=l1, tol=1, score=0, total=   0.0s\n",
      "[CV] C=1, class_weight=None, penalty=l1, tol=1 .......................\n",
      "[CV]  C=1, class_weight=None, penalty=l1, tol=1, score=0, total=   0.0s\n",
      "[CV] C=1, class_weight=None, penalty=l1, tol=1 .......................\n",
      "[CV]  C=1, class_weight=None, penalty=l1, tol=1, score=0, total=   0.0s\n",
      "[CV] C=1, class_weight=None, penalty=l1, tol=1 .......................\n",
      "[CV]  C=1, class_weight=None, penalty=l1, tol=1, score=0, total=   0.0s\n",
      "[CV] C=1, class_weight=None, penalty=l1, tol=1 .......................\n",
      "[CV]  C=1, class_weight=None, penalty=l1, tol=1, score=0, total=   0.0s\n",
      "[CV] C=1, class_weight=None, penalty=l2, tol=0.0001 ..................\n"
     ]
    },
    {
     "name": "stderr",
     "output_type": "stream",
     "text": [
      "/Library/Frameworks/Python.framework/Versions/3.6/lib/python3.6/site-packages/sklearn/model_selection/_validation.py:479: FitFailedWarning: Classifier fit failed. The score on this train-test partition for these parameters will be set to 0.000000. Details: \n",
      "ValueError(\"Unsupported set of arguments: The combination of penalty='l1' and loss='squared_hinge' are not supported when dual=True, Parameters: penalty='l1', loss='squared_hinge', dual=True\",)\n",
      "  \"Details: \\n%r\" % (error_score, e), FitFailedWarning)\n",
      "/Library/Frameworks/Python.framework/Versions/3.6/lib/python3.6/site-packages/sklearn/model_selection/_validation.py:479: FitFailedWarning: Classifier fit failed. The score on this train-test partition for these parameters will be set to 0.000000. Details: \n",
      "ValueError(\"Unsupported set of arguments: The combination of penalty='l1' and loss='squared_hinge' are not supported when dual=True, Parameters: penalty='l1', loss='squared_hinge', dual=True\",)\n",
      "  \"Details: \\n%r\" % (error_score, e), FitFailedWarning)\n",
      "/Library/Frameworks/Python.framework/Versions/3.6/lib/python3.6/site-packages/sklearn/model_selection/_validation.py:479: FitFailedWarning: Classifier fit failed. The score on this train-test partition for these parameters will be set to 0.000000. Details: \n",
      "ValueError(\"Unsupported set of arguments: The combination of penalty='l1' and loss='squared_hinge' are not supported when dual=True, Parameters: penalty='l1', loss='squared_hinge', dual=True\",)\n",
      "  \"Details: \\n%r\" % (error_score, e), FitFailedWarning)\n",
      "/Library/Frameworks/Python.framework/Versions/3.6/lib/python3.6/site-packages/sklearn/model_selection/_validation.py:479: FitFailedWarning: Classifier fit failed. The score on this train-test partition for these parameters will be set to 0.000000. Details: \n",
      "ValueError(\"Unsupported set of arguments: The combination of penalty='l1' and loss='squared_hinge' are not supported when dual=True, Parameters: penalty='l1', loss='squared_hinge', dual=True\",)\n",
      "  \"Details: \\n%r\" % (error_score, e), FitFailedWarning)\n"
     ]
    },
    {
     "name": "stdout",
     "output_type": "stream",
     "text": [
      "[CV]  C=1, class_weight=None, penalty=l2, tol=0.0001, score=0.7351712527194086, total=   0.9s\n",
      "[CV] C=1, class_weight=None, penalty=l2, tol=0.0001 ..................\n",
      "[CV]  C=1, class_weight=None, penalty=l2, tol=0.0001, score=0.7412058674346094, total=   0.7s\n",
      "[CV] C=1, class_weight=None, penalty=l2, tol=0.0001 ..................\n",
      "[CV]  C=1, class_weight=None, penalty=l2, tol=0.0001, score=0.7419584479425746, total=   1.0s\n",
      "[CV] C=1, class_weight=None, penalty=l2, tol=0.0001 ..................\n",
      "[CV]  C=1, class_weight=None, penalty=l2, tol=0.0001, score=0.7305816978349132, total=   1.0s\n",
      "[CV] C=1, class_weight=None, penalty=l2, tol=0.0001 ..................\n",
      "[CV]  C=1, class_weight=None, penalty=l2, tol=0.0001, score=0.7428998032111326, total=   0.9s\n",
      "[CV] C=1, class_weight=None, penalty=l2, tol=0.001 ...................\n",
      "[CV]  C=1, class_weight=None, penalty=l2, tol=0.001, score=0.7351712527194086, total=   0.8s\n",
      "[CV] C=1, class_weight=None, penalty=l2, tol=0.001 ...................\n",
      "[CV]  C=1, class_weight=None, penalty=l2, tol=0.001, score=0.7412058674346094, total=   0.7s\n",
      "[CV] C=1, class_weight=None, penalty=l2, tol=0.001 ...................\n",
      "[CV]  C=1, class_weight=None, penalty=l2, tol=0.001, score=0.7419584479425746, total=   0.7s\n",
      "[CV] C=1, class_weight=None, penalty=l2, tol=0.001 ...................\n",
      "[CV]  C=1, class_weight=None, penalty=l2, tol=0.001, score=0.7305816978349132, total=   0.7s\n",
      "[CV] C=1, class_weight=None, penalty=l2, tol=0.001 ...................\n",
      "[CV]  C=1, class_weight=None, penalty=l2, tol=0.001, score=0.7428998032111326, total=   0.8s\n",
      "[CV] C=1, class_weight=None, penalty=l2, tol=0.01 ....................\n",
      "[CV]  C=1, class_weight=None, penalty=l2, tol=0.01, score=0.7351712527194086, total=   0.6s\n",
      "[CV] C=1, class_weight=None, penalty=l2, tol=0.01 ....................\n",
      "[CV]  C=1, class_weight=None, penalty=l2, tol=0.01, score=0.7405615577736367, total=   0.6s\n",
      "[CV] C=1, class_weight=None, penalty=l2, tol=0.01 ....................\n",
      "[CV]  C=1, class_weight=None, penalty=l2, tol=0.01, score=0.7419584479425746, total=   0.6s\n",
      "[CV] C=1, class_weight=None, penalty=l2, tol=0.01 ....................\n",
      "[CV]  C=1, class_weight=None, penalty=l2, tol=0.01, score=0.7305816978349132, total=   0.6s\n",
      "[CV] C=1, class_weight=None, penalty=l2, tol=0.01 ....................\n",
      "[CV]  C=1, class_weight=None, penalty=l2, tol=0.01, score=0.7428998032111326, total=   0.6s\n",
      "[CV] C=1, class_weight=None, penalty=l2, tol=0.1 .....................\n",
      "[CV]  C=1, class_weight=None, penalty=l2, tol=0.1, score=0.7357272926930464, total=   0.4s\n",
      "[CV] C=1, class_weight=None, penalty=l2, tol=0.1 .....................\n",
      "[CV]  C=1, class_weight=None, penalty=l2, tol=0.1, score=0.7394103011255478, total=   0.4s\n",
      "[CV] C=1, class_weight=None, penalty=l2, tol=0.1 .....................\n",
      "[CV]  C=1, class_weight=None, penalty=l2, tol=0.1, score=0.742698096730407, total=   0.4s\n",
      "[CV] C=1, class_weight=None, penalty=l2, tol=0.1 .....................\n",
      "[CV]  C=1, class_weight=None, penalty=l2, tol=0.1, score=0.7307289840243305, total=   0.4s\n",
      "[CV] C=1, class_weight=None, penalty=l2, tol=0.1 .....................\n",
      "[CV]  C=1, class_weight=None, penalty=l2, tol=0.1, score=0.7421644177536774, total=   0.4s\n",
      "[CV] C=1, class_weight=None, penalty=l2, tol=1 .......................\n",
      "[CV]  C=1, class_weight=None, penalty=l2, tol=1, score=0.7217984870444408, total=   0.3s\n",
      "[CV] C=1, class_weight=None, penalty=l2, tol=1 .......................\n",
      "[CV]  C=1, class_weight=None, penalty=l2, tol=1, score=0.7376751863574151, total=   0.2s\n",
      "[CV] C=1, class_weight=None, penalty=l2, tol=1 .......................\n",
      "[CV]  C=1, class_weight=None, penalty=l2, tol=1, score=0.7478877486759578, total=   0.3s\n",
      "[CV] C=1, class_weight=None, penalty=l2, tol=1 .......................\n",
      "[CV]  C=1, class_weight=None, penalty=l2, tol=1, score=0.7430904665213708, total=   0.3s\n",
      "[CV] C=1, class_weight=None, penalty=l2, tol=1 .......................\n",
      "[CV]  C=1, class_weight=None, penalty=l2, tol=1, score=0.7410816604013205, total=   0.3s\n",
      "[CV] C=2, class_weight=balanced, penalty=l1, tol=0.0001 ..............\n",
      "[CV]  C=2, class_weight=balanced, penalty=l1, tol=0.0001, score=0, total=   0.0s\n",
      "[CV] C=2, class_weight=balanced, penalty=l1, tol=0.0001 ..............\n",
      "[CV]  C=2, class_weight=balanced, penalty=l1, tol=0.0001, score=0, total=   0.0s\n",
      "[CV] C=2, class_weight=balanced, penalty=l1, tol=0.0001 ..............\n",
      "[CV]  C=2, class_weight=balanced, penalty=l1, tol=0.0001, score=0, total=   0.0s\n",
      "[CV] C=2, class_weight=balanced, penalty=l1, tol=0.0001 ..............\n",
      "[CV]  C=2, class_weight=balanced, penalty=l1, tol=0.0001, score=0, total=   0.0s\n",
      "[CV] C=2, class_weight=balanced, penalty=l1, tol=0.0001 ..............\n",
      "[CV]  C=2, class_weight=balanced, penalty=l1, tol=0.0001, score=0, total=   0.0s\n",
      "[CV] C=2, class_weight=balanced, penalty=l1, tol=0.001 ...............\n",
      "[CV]  C=2, class_weight=balanced, penalty=l1, tol=0.001, score=0, total=   0.0s\n",
      "[CV] C=2, class_weight=balanced, penalty=l1, tol=0.001 ...............\n"
     ]
    },
    {
     "name": "stderr",
     "output_type": "stream",
     "text": [
      "/Library/Frameworks/Python.framework/Versions/3.6/lib/python3.6/site-packages/sklearn/model_selection/_validation.py:479: FitFailedWarning: Classifier fit failed. The score on this train-test partition for these parameters will be set to 0.000000. Details: \n",
      "ValueError(\"Unsupported set of arguments: The combination of penalty='l1' and loss='squared_hinge' are not supported when dual=True, Parameters: penalty='l1', loss='squared_hinge', dual=True\",)\n",
      "  \"Details: \\n%r\" % (error_score, e), FitFailedWarning)\n",
      "/Library/Frameworks/Python.framework/Versions/3.6/lib/python3.6/site-packages/sklearn/model_selection/_validation.py:479: FitFailedWarning: Classifier fit failed. The score on this train-test partition for these parameters will be set to 0.000000. Details: \n",
      "ValueError(\"Unsupported set of arguments: The combination of penalty='l1' and loss='squared_hinge' are not supported when dual=True, Parameters: penalty='l1', loss='squared_hinge', dual=True\",)\n",
      "  \"Details: \\n%r\" % (error_score, e), FitFailedWarning)\n",
      "/Library/Frameworks/Python.framework/Versions/3.6/lib/python3.6/site-packages/sklearn/model_selection/_validation.py:479: FitFailedWarning: Classifier fit failed. The score on this train-test partition for these parameters will be set to 0.000000. Details: \n",
      "ValueError(\"Unsupported set of arguments: The combination of penalty='l1' and loss='squared_hinge' are not supported when dual=True, Parameters: penalty='l1', loss='squared_hinge', dual=True\",)\n",
      "  \"Details: \\n%r\" % (error_score, e), FitFailedWarning)\n",
      "/Library/Frameworks/Python.framework/Versions/3.6/lib/python3.6/site-packages/sklearn/model_selection/_validation.py:479: FitFailedWarning: Classifier fit failed. The score on this train-test partition for these parameters will be set to 0.000000. Details: \n",
      "ValueError(\"Unsupported set of arguments: The combination of penalty='l1' and loss='squared_hinge' are not supported when dual=True, Parameters: penalty='l1', loss='squared_hinge', dual=True\",)\n",
      "  \"Details: \\n%r\" % (error_score, e), FitFailedWarning)\n",
      "/Library/Frameworks/Python.framework/Versions/3.6/lib/python3.6/site-packages/sklearn/model_selection/_validation.py:479: FitFailedWarning: Classifier fit failed. The score on this train-test partition for these parameters will be set to 0.000000. Details: \n",
      "ValueError(\"Unsupported set of arguments: The combination of penalty='l1' and loss='squared_hinge' are not supported when dual=True, Parameters: penalty='l1', loss='squared_hinge', dual=True\",)\n",
      "  \"Details: \\n%r\" % (error_score, e), FitFailedWarning)\n",
      "/Library/Frameworks/Python.framework/Versions/3.6/lib/python3.6/site-packages/sklearn/model_selection/_validation.py:479: FitFailedWarning: Classifier fit failed. The score on this train-test partition for these parameters will be set to 0.000000. Details: \n",
      "ValueError(\"Unsupported set of arguments: The combination of penalty='l1' and loss='squared_hinge' are not supported when dual=True, Parameters: penalty='l1', loss='squared_hinge', dual=True\",)\n",
      "  \"Details: \\n%r\" % (error_score, e), FitFailedWarning)\n",
      "/Library/Frameworks/Python.framework/Versions/3.6/lib/python3.6/site-packages/sklearn/model_selection/_validation.py:479: FitFailedWarning: Classifier fit failed. The score on this train-test partition for these parameters will be set to 0.000000. Details: \n",
      "ValueError(\"Unsupported set of arguments: The combination of penalty='l1' and loss='squared_hinge' are not supported when dual=True, Parameters: penalty='l1', loss='squared_hinge', dual=True\",)\n",
      "  \"Details: \\n%r\" % (error_score, e), FitFailedWarning)\n"
     ]
    },
    {
     "name": "stdout",
     "output_type": "stream",
     "text": [
      "[CV]  C=2, class_weight=balanced, penalty=l1, tol=0.001, score=0, total=   0.0s\n",
      "[CV] C=2, class_weight=balanced, penalty=l1, tol=0.001 ...............\n",
      "[CV]  C=2, class_weight=balanced, penalty=l1, tol=0.001, score=0, total=   0.0s\n",
      "[CV] C=2, class_weight=balanced, penalty=l1, tol=0.001 ...............\n",
      "[CV]  C=2, class_weight=balanced, penalty=l1, tol=0.001, score=0, total=   0.0s\n",
      "[CV] C=2, class_weight=balanced, penalty=l1, tol=0.001 ...............\n",
      "[CV]  C=2, class_weight=balanced, penalty=l1, tol=0.001, score=0, total=   0.0s\n",
      "[CV] C=2, class_weight=balanced, penalty=l1, tol=0.01 ................\n",
      "[CV]  C=2, class_weight=balanced, penalty=l1, tol=0.01, score=0, total=   0.0s\n",
      "[CV] C=2, class_weight=balanced, penalty=l1, tol=0.01 ................\n",
      "[CV]  C=2, class_weight=balanced, penalty=l1, tol=0.01, score=0, total=   0.0s\n",
      "[CV] C=2, class_weight=balanced, penalty=l1, tol=0.01 ................\n",
      "[CV]  C=2, class_weight=balanced, penalty=l1, tol=0.01, score=0, total=   0.0s\n",
      "[CV] C=2, class_weight=balanced, penalty=l1, tol=0.01 ................\n"
     ]
    },
    {
     "name": "stderr",
     "output_type": "stream",
     "text": [
      "/Library/Frameworks/Python.framework/Versions/3.6/lib/python3.6/site-packages/sklearn/model_selection/_validation.py:479: FitFailedWarning: Classifier fit failed. The score on this train-test partition for these parameters will be set to 0.000000. Details: \n",
      "ValueError(\"Unsupported set of arguments: The combination of penalty='l1' and loss='squared_hinge' are not supported when dual=True, Parameters: penalty='l1', loss='squared_hinge', dual=True\",)\n",
      "  \"Details: \\n%r\" % (error_score, e), FitFailedWarning)\n",
      "/Library/Frameworks/Python.framework/Versions/3.6/lib/python3.6/site-packages/sklearn/model_selection/_validation.py:479: FitFailedWarning: Classifier fit failed. The score on this train-test partition for these parameters will be set to 0.000000. Details: \n",
      "ValueError(\"Unsupported set of arguments: The combination of penalty='l1' and loss='squared_hinge' are not supported when dual=True, Parameters: penalty='l1', loss='squared_hinge', dual=True\",)\n",
      "  \"Details: \\n%r\" % (error_score, e), FitFailedWarning)\n",
      "/Library/Frameworks/Python.framework/Versions/3.6/lib/python3.6/site-packages/sklearn/model_selection/_validation.py:479: FitFailedWarning: Classifier fit failed. The score on this train-test partition for these parameters will be set to 0.000000. Details: \n",
      "ValueError(\"Unsupported set of arguments: The combination of penalty='l1' and loss='squared_hinge' are not supported when dual=True, Parameters: penalty='l1', loss='squared_hinge', dual=True\",)\n",
      "  \"Details: \\n%r\" % (error_score, e), FitFailedWarning)\n",
      "/Library/Frameworks/Python.framework/Versions/3.6/lib/python3.6/site-packages/sklearn/model_selection/_validation.py:479: FitFailedWarning: Classifier fit failed. The score on this train-test partition for these parameters will be set to 0.000000. Details: \n",
      "ValueError(\"Unsupported set of arguments: The combination of penalty='l1' and loss='squared_hinge' are not supported when dual=True, Parameters: penalty='l1', loss='squared_hinge', dual=True\",)\n",
      "  \"Details: \\n%r\" % (error_score, e), FitFailedWarning)\n",
      "/Library/Frameworks/Python.framework/Versions/3.6/lib/python3.6/site-packages/sklearn/model_selection/_validation.py:479: FitFailedWarning: Classifier fit failed. The score on this train-test partition for these parameters will be set to 0.000000. Details: \n",
      "ValueError(\"Unsupported set of arguments: The combination of penalty='l1' and loss='squared_hinge' are not supported when dual=True, Parameters: penalty='l1', loss='squared_hinge', dual=True\",)\n",
      "  \"Details: \\n%r\" % (error_score, e), FitFailedWarning)\n",
      "/Library/Frameworks/Python.framework/Versions/3.6/lib/python3.6/site-packages/sklearn/model_selection/_validation.py:479: FitFailedWarning: Classifier fit failed. The score on this train-test partition for these parameters will be set to 0.000000. Details: \n",
      "ValueError(\"Unsupported set of arguments: The combination of penalty='l1' and loss='squared_hinge' are not supported when dual=True, Parameters: penalty='l1', loss='squared_hinge', dual=True\",)\n",
      "  \"Details: \\n%r\" % (error_score, e), FitFailedWarning)\n",
      "/Library/Frameworks/Python.framework/Versions/3.6/lib/python3.6/site-packages/sklearn/model_selection/_validation.py:479: FitFailedWarning: Classifier fit failed. The score on this train-test partition for these parameters will be set to 0.000000. Details: \n",
      "ValueError(\"Unsupported set of arguments: The combination of penalty='l1' and loss='squared_hinge' are not supported when dual=True, Parameters: penalty='l1', loss='squared_hinge', dual=True\",)\n",
      "  \"Details: \\n%r\" % (error_score, e), FitFailedWarning)\n"
     ]
    },
    {
     "name": "stdout",
     "output_type": "stream",
     "text": [
      "[CV]  C=2, class_weight=balanced, penalty=l1, tol=0.01, score=0, total=   0.0s\n",
      "[CV] C=2, class_weight=balanced, penalty=l1, tol=0.01 ................\n",
      "[CV]  C=2, class_weight=balanced, penalty=l1, tol=0.01, score=0, total=   0.0s\n",
      "[CV] C=2, class_weight=balanced, penalty=l1, tol=0.1 .................\n",
      "[CV]  C=2, class_weight=balanced, penalty=l1, tol=0.1, score=0, total=   0.0s\n",
      "[CV] C=2, class_weight=balanced, penalty=l1, tol=0.1 .................\n",
      "[CV]  C=2, class_weight=balanced, penalty=l1, tol=0.1, score=0, total=   0.0s\n",
      "[CV] C=2, class_weight=balanced, penalty=l1, tol=0.1 .................\n",
      "[CV]  C=2, class_weight=balanced, penalty=l1, tol=0.1, score=0, total=   0.0s\n",
      "[CV] C=2, class_weight=balanced, penalty=l1, tol=0.1 .................\n",
      "[CV]  C=2, class_weight=balanced, penalty=l1, tol=0.1, score=0, total=   0.0s\n",
      "[CV] C=2, class_weight=balanced, penalty=l1, tol=0.1 .................\n",
      "[CV]  C=2, class_weight=balanced, penalty=l1, tol=0.1, score=0, total=   0.0s\n",
      "[CV] C=2, class_weight=balanced, penalty=l1, tol=1 ...................\n"
     ]
    },
    {
     "name": "stderr",
     "output_type": "stream",
     "text": [
      "/Library/Frameworks/Python.framework/Versions/3.6/lib/python3.6/site-packages/sklearn/model_selection/_validation.py:479: FitFailedWarning: Classifier fit failed. The score on this train-test partition for these parameters will be set to 0.000000. Details: \n",
      "ValueError(\"Unsupported set of arguments: The combination of penalty='l1' and loss='squared_hinge' are not supported when dual=True, Parameters: penalty='l1', loss='squared_hinge', dual=True\",)\n",
      "  \"Details: \\n%r\" % (error_score, e), FitFailedWarning)\n",
      "/Library/Frameworks/Python.framework/Versions/3.6/lib/python3.6/site-packages/sklearn/model_selection/_validation.py:479: FitFailedWarning: Classifier fit failed. The score on this train-test partition for these parameters will be set to 0.000000. Details: \n",
      "ValueError(\"Unsupported set of arguments: The combination of penalty='l1' and loss='squared_hinge' are not supported when dual=True, Parameters: penalty='l1', loss='squared_hinge', dual=True\",)\n",
      "  \"Details: \\n%r\" % (error_score, e), FitFailedWarning)\n",
      "/Library/Frameworks/Python.framework/Versions/3.6/lib/python3.6/site-packages/sklearn/model_selection/_validation.py:479: FitFailedWarning: Classifier fit failed. The score on this train-test partition for these parameters will be set to 0.000000. Details: \n",
      "ValueError(\"Unsupported set of arguments: The combination of penalty='l1' and loss='squared_hinge' are not supported when dual=True, Parameters: penalty='l1', loss='squared_hinge', dual=True\",)\n",
      "  \"Details: \\n%r\" % (error_score, e), FitFailedWarning)\n",
      "/Library/Frameworks/Python.framework/Versions/3.6/lib/python3.6/site-packages/sklearn/model_selection/_validation.py:479: FitFailedWarning: Classifier fit failed. The score on this train-test partition for these parameters will be set to 0.000000. Details: \n",
      "ValueError(\"Unsupported set of arguments: The combination of penalty='l1' and loss='squared_hinge' are not supported when dual=True, Parameters: penalty='l1', loss='squared_hinge', dual=True\",)\n",
      "  \"Details: \\n%r\" % (error_score, e), FitFailedWarning)\n",
      "/Library/Frameworks/Python.framework/Versions/3.6/lib/python3.6/site-packages/sklearn/model_selection/_validation.py:479: FitFailedWarning: Classifier fit failed. The score on this train-test partition for these parameters will be set to 0.000000. Details: \n",
      "ValueError(\"Unsupported set of arguments: The combination of penalty='l1' and loss='squared_hinge' are not supported when dual=True, Parameters: penalty='l1', loss='squared_hinge', dual=True\",)\n",
      "  \"Details: \\n%r\" % (error_score, e), FitFailedWarning)\n",
      "/Library/Frameworks/Python.framework/Versions/3.6/lib/python3.6/site-packages/sklearn/model_selection/_validation.py:479: FitFailedWarning: Classifier fit failed. The score on this train-test partition for these parameters will be set to 0.000000. Details: \n",
      "ValueError(\"Unsupported set of arguments: The combination of penalty='l1' and loss='squared_hinge' are not supported when dual=True, Parameters: penalty='l1', loss='squared_hinge', dual=True\",)\n",
      "  \"Details: \\n%r\" % (error_score, e), FitFailedWarning)\n",
      "/Library/Frameworks/Python.framework/Versions/3.6/lib/python3.6/site-packages/sklearn/model_selection/_validation.py:479: FitFailedWarning: Classifier fit failed. The score on this train-test partition for these parameters will be set to 0.000000. Details: \n",
      "ValueError(\"Unsupported set of arguments: The combination of penalty='l1' and loss='squared_hinge' are not supported when dual=True, Parameters: penalty='l1', loss='squared_hinge', dual=True\",)\n",
      "  \"Details: \\n%r\" % (error_score, e), FitFailedWarning)\n"
     ]
    },
    {
     "name": "stdout",
     "output_type": "stream",
     "text": [
      "[CV]  C=2, class_weight=balanced, penalty=l1, tol=1, score=0, total=   0.0s\n",
      "[CV] C=2, class_weight=balanced, penalty=l1, tol=1 ...................\n",
      "[CV]  C=2, class_weight=balanced, penalty=l1, tol=1, score=0, total=   0.0s\n",
      "[CV] C=2, class_weight=balanced, penalty=l1, tol=1 ...................\n",
      "[CV]  C=2, class_weight=balanced, penalty=l1, tol=1, score=0, total=   0.0s\n",
      "[CV] C=2, class_weight=balanced, penalty=l1, tol=1 ...................\n",
      "[CV]  C=2, class_weight=balanced, penalty=l1, tol=1, score=0, total=   0.0s\n",
      "[CV] C=2, class_weight=balanced, penalty=l1, tol=1 ...................\n",
      "[CV]  C=2, class_weight=balanced, penalty=l1, tol=1, score=0, total=   0.0s\n",
      "[CV] C=2, class_weight=balanced, penalty=l2, tol=0.0001 ..............\n"
     ]
    },
    {
     "name": "stderr",
     "output_type": "stream",
     "text": [
      "/Library/Frameworks/Python.framework/Versions/3.6/lib/python3.6/site-packages/sklearn/model_selection/_validation.py:479: FitFailedWarning: Classifier fit failed. The score on this train-test partition for these parameters will be set to 0.000000. Details: \n",
      "ValueError(\"Unsupported set of arguments: The combination of penalty='l1' and loss='squared_hinge' are not supported when dual=True, Parameters: penalty='l1', loss='squared_hinge', dual=True\",)\n",
      "  \"Details: \\n%r\" % (error_score, e), FitFailedWarning)\n",
      "/Library/Frameworks/Python.framework/Versions/3.6/lib/python3.6/site-packages/sklearn/model_selection/_validation.py:479: FitFailedWarning: Classifier fit failed. The score on this train-test partition for these parameters will be set to 0.000000. Details: \n",
      "ValueError(\"Unsupported set of arguments: The combination of penalty='l1' and loss='squared_hinge' are not supported when dual=True, Parameters: penalty='l1', loss='squared_hinge', dual=True\",)\n",
      "  \"Details: \\n%r\" % (error_score, e), FitFailedWarning)\n",
      "/Library/Frameworks/Python.framework/Versions/3.6/lib/python3.6/site-packages/sklearn/model_selection/_validation.py:479: FitFailedWarning: Classifier fit failed. The score on this train-test partition for these parameters will be set to 0.000000. Details: \n",
      "ValueError(\"Unsupported set of arguments: The combination of penalty='l1' and loss='squared_hinge' are not supported when dual=True, Parameters: penalty='l1', loss='squared_hinge', dual=True\",)\n",
      "  \"Details: \\n%r\" % (error_score, e), FitFailedWarning)\n",
      "/Library/Frameworks/Python.framework/Versions/3.6/lib/python3.6/site-packages/sklearn/model_selection/_validation.py:479: FitFailedWarning: Classifier fit failed. The score on this train-test partition for these parameters will be set to 0.000000. Details: \n",
      "ValueError(\"Unsupported set of arguments: The combination of penalty='l1' and loss='squared_hinge' are not supported when dual=True, Parameters: penalty='l1', loss='squared_hinge', dual=True\",)\n",
      "  \"Details: \\n%r\" % (error_score, e), FitFailedWarning)\n"
     ]
    },
    {
     "name": "stdout",
     "output_type": "stream",
     "text": [
      "[CV]  C=2, class_weight=balanced, penalty=l2, tol=0.0001, score=0.7321238503249815, total=   1.5s\n",
      "[CV] C=2, class_weight=balanced, penalty=l2, tol=0.0001 ..............\n",
      "[CV]  C=2, class_weight=balanced, penalty=l2, tol=0.0001, score=0.72703808743122, total=   1.6s\n",
      "[CV] C=2, class_weight=balanced, penalty=l2, tol=0.0001 ..............\n",
      "[CV]  C=2, class_weight=balanced, penalty=l2, tol=0.0001, score=0.741958775074041, total=   1.8s\n",
      "[CV] C=2, class_weight=balanced, penalty=l2, tol=0.0001 ..............\n",
      "[CV]  C=2, class_weight=balanced, penalty=l2, tol=0.0001, score=0.737530959637696, total=   1.7s\n",
      "[CV] C=2, class_weight=balanced, penalty=l2, tol=0.0001 ..............\n",
      "[CV]  C=2, class_weight=balanced, penalty=l2, tol=0.0001, score=0.7326734110265848, total=   1.6s\n",
      "[CV] C=2, class_weight=balanced, penalty=l2, tol=0.001 ...............\n",
      "[CV]  C=2, class_weight=balanced, penalty=l2, tol=0.001, score=0.7321238503249815, total=   1.2s\n",
      "[CV] C=2, class_weight=balanced, penalty=l2, tol=0.001 ...............\n",
      "[CV]  C=2, class_weight=balanced, penalty=l2, tol=0.001, score=0.72703808743122, total=   1.2s\n",
      "[CV] C=2, class_weight=balanced, penalty=l2, tol=0.001 ...............\n",
      "[CV]  C=2, class_weight=balanced, penalty=l2, tol=0.001, score=0.741958775074041, total=   1.2s\n",
      "[CV] C=2, class_weight=balanced, penalty=l2, tol=0.001 ...............\n",
      "[CV]  C=2, class_weight=balanced, penalty=l2, tol=0.001, score=0.737530959637696, total=   1.5s\n",
      "[CV] C=2, class_weight=balanced, penalty=l2, tol=0.001 ...............\n",
      "[CV]  C=2, class_weight=balanced, penalty=l2, tol=0.001, score=0.7326734110265848, total=   1.5s\n",
      "[CV] C=2, class_weight=balanced, penalty=l2, tol=0.01 ................\n",
      "[CV]  C=2, class_weight=balanced, penalty=l2, tol=0.01, score=0.7334350222098659, total=   1.3s\n",
      "[CV] C=2, class_weight=balanced, penalty=l2, tol=0.01 ................\n",
      "[CV]  C=2, class_weight=balanced, penalty=l2, tol=0.01, score=0.7278811927511247, total=   1.2s\n",
      "[CV] C=2, class_weight=balanced, penalty=l2, tol=0.01 ................\n",
      "[CV]  C=2, class_weight=balanced, penalty=l2, tol=0.01, score=0.7424380938494811, total=   1.1s\n",
      "[CV] C=2, class_weight=balanced, penalty=l2, tol=0.01 ................\n",
      "[CV]  C=2, class_weight=balanced, penalty=l2, tol=0.01, score=0.737530959637696, total=   1.1s\n",
      "[CV] C=2, class_weight=balanced, penalty=l2, tol=0.01 ................\n",
      "[CV]  C=2, class_weight=balanced, penalty=l2, tol=0.01, score=0.7326734110265848, total=   0.9s\n",
      "[CV] C=2, class_weight=balanced, penalty=l2, tol=0.1 .................\n",
      "[CV]  C=2, class_weight=balanced, penalty=l2, tol=0.1, score=0.7334081013326297, total=   0.6s\n",
      "[CV] C=2, class_weight=balanced, penalty=l2, tol=0.1 .................\n",
      "[CV]  C=2, class_weight=balanced, penalty=l2, tol=0.1, score=0.7275621427120799, total=   0.7s\n",
      "[CV] C=2, class_weight=balanced, penalty=l2, tol=0.1 .................\n",
      "[CV]  C=2, class_weight=balanced, penalty=l2, tol=0.1, score=0.7425550422674244, total=   0.7s\n",
      "[CV] C=2, class_weight=balanced, penalty=l2, tol=0.1 .................\n",
      "[CV]  C=2, class_weight=balanced, penalty=l2, tol=0.1, score=0.7371704276258911, total=   0.7s\n",
      "[CV] C=2, class_weight=balanced, penalty=l2, tol=0.1 .................\n",
      "[CV]  C=2, class_weight=balanced, penalty=l2, tol=0.1, score=0.7326763344080608, total=   0.7s\n",
      "[CV] C=2, class_weight=balanced, penalty=l2, tol=1 ...................\n",
      "[CV]  C=2, class_weight=balanced, penalty=l2, tol=1, score=0.7366976362732299, total=   0.4s\n",
      "[CV] C=2, class_weight=balanced, penalty=l2, tol=1 ...................\n",
      "[CV]  C=2, class_weight=balanced, penalty=l2, tol=1, score=0.7237104518309684, total=   0.4s\n",
      "[CV] C=2, class_weight=balanced, penalty=l2, tol=1 ...................\n",
      "[CV]  C=2, class_weight=balanced, penalty=l2, tol=1, score=0.7471132143377578, total=   0.4s\n",
      "[CV] C=2, class_weight=balanced, penalty=l2, tol=1 ...................\n",
      "[CV]  C=2, class_weight=balanced, penalty=l2, tol=1, score=0.7392170150023197, total=   0.4s\n",
      "[CV] C=2, class_weight=balanced, penalty=l2, tol=1 ...................\n",
      "[CV]  C=2, class_weight=balanced, penalty=l2, tol=1, score=0.7324859552563536, total=   0.4s\n",
      "[CV] C=2, class_weight=None, penalty=l1, tol=0.0001 ..................\n",
      "[CV]  C=2, class_weight=None, penalty=l1, tol=0.0001, score=0, total=   0.0s\n",
      "[CV] C=2, class_weight=None, penalty=l1, tol=0.0001 ..................\n",
      "[CV]  C=2, class_weight=None, penalty=l1, tol=0.0001, score=0, total=   0.0s\n",
      "[CV] C=2, class_weight=None, penalty=l1, tol=0.0001 ..................\n",
      "[CV]  C=2, class_weight=None, penalty=l1, tol=0.0001, score=0, total=   0.0s\n",
      "[CV] C=2, class_weight=None, penalty=l1, tol=0.0001 ..................\n",
      "[CV]  C=2, class_weight=None, penalty=l1, tol=0.0001, score=0, total=   0.0s\n",
      "[CV] C=2, class_weight=None, penalty=l1, tol=0.0001 ..................\n",
      "[CV]  C=2, class_weight=None, penalty=l1, tol=0.0001, score=0, total=   0.0s\n",
      "[CV] C=2, class_weight=None, penalty=l1, tol=0.001 ...................\n",
      "[CV]  C=2, class_weight=None, penalty=l1, tol=0.001, score=0, total=   0.0s\n",
      "[CV] C=2, class_weight=None, penalty=l1, tol=0.001 ...................\n"
     ]
    },
    {
     "name": "stderr",
     "output_type": "stream",
     "text": [
      "/Library/Frameworks/Python.framework/Versions/3.6/lib/python3.6/site-packages/sklearn/model_selection/_validation.py:479: FitFailedWarning: Classifier fit failed. The score on this train-test partition for these parameters will be set to 0.000000. Details: \n",
      "ValueError(\"Unsupported set of arguments: The combination of penalty='l1' and loss='squared_hinge' are not supported when dual=True, Parameters: penalty='l1', loss='squared_hinge', dual=True\",)\n",
      "  \"Details: \\n%r\" % (error_score, e), FitFailedWarning)\n",
      "/Library/Frameworks/Python.framework/Versions/3.6/lib/python3.6/site-packages/sklearn/model_selection/_validation.py:479: FitFailedWarning: Classifier fit failed. The score on this train-test partition for these parameters will be set to 0.000000. Details: \n",
      "ValueError(\"Unsupported set of arguments: The combination of penalty='l1' and loss='squared_hinge' are not supported when dual=True, Parameters: penalty='l1', loss='squared_hinge', dual=True\",)\n",
      "  \"Details: \\n%r\" % (error_score, e), FitFailedWarning)\n",
      "/Library/Frameworks/Python.framework/Versions/3.6/lib/python3.6/site-packages/sklearn/model_selection/_validation.py:479: FitFailedWarning: Classifier fit failed. The score on this train-test partition for these parameters will be set to 0.000000. Details: \n",
      "ValueError(\"Unsupported set of arguments: The combination of penalty='l1' and loss='squared_hinge' are not supported when dual=True, Parameters: penalty='l1', loss='squared_hinge', dual=True\",)\n",
      "  \"Details: \\n%r\" % (error_score, e), FitFailedWarning)\n",
      "/Library/Frameworks/Python.framework/Versions/3.6/lib/python3.6/site-packages/sklearn/model_selection/_validation.py:479: FitFailedWarning: Classifier fit failed. The score on this train-test partition for these parameters will be set to 0.000000. Details: \n",
      "ValueError(\"Unsupported set of arguments: The combination of penalty='l1' and loss='squared_hinge' are not supported when dual=True, Parameters: penalty='l1', loss='squared_hinge', dual=True\",)\n",
      "  \"Details: \\n%r\" % (error_score, e), FitFailedWarning)\n",
      "/Library/Frameworks/Python.framework/Versions/3.6/lib/python3.6/site-packages/sklearn/model_selection/_validation.py:479: FitFailedWarning: Classifier fit failed. The score on this train-test partition for these parameters will be set to 0.000000. Details: \n",
      "ValueError(\"Unsupported set of arguments: The combination of penalty='l1' and loss='squared_hinge' are not supported when dual=True, Parameters: penalty='l1', loss='squared_hinge', dual=True\",)\n",
      "  \"Details: \\n%r\" % (error_score, e), FitFailedWarning)\n",
      "/Library/Frameworks/Python.framework/Versions/3.6/lib/python3.6/site-packages/sklearn/model_selection/_validation.py:479: FitFailedWarning: Classifier fit failed. The score on this train-test partition for these parameters will be set to 0.000000. Details: \n",
      "ValueError(\"Unsupported set of arguments: The combination of penalty='l1' and loss='squared_hinge' are not supported when dual=True, Parameters: penalty='l1', loss='squared_hinge', dual=True\",)\n",
      "  \"Details: \\n%r\" % (error_score, e), FitFailedWarning)\n",
      "/Library/Frameworks/Python.framework/Versions/3.6/lib/python3.6/site-packages/sklearn/model_selection/_validation.py:479: FitFailedWarning: Classifier fit failed. The score on this train-test partition for these parameters will be set to 0.000000. Details: \n",
      "ValueError(\"Unsupported set of arguments: The combination of penalty='l1' and loss='squared_hinge' are not supported when dual=True, Parameters: penalty='l1', loss='squared_hinge', dual=True\",)\n",
      "  \"Details: \\n%r\" % (error_score, e), FitFailedWarning)\n"
     ]
    },
    {
     "name": "stdout",
     "output_type": "stream",
     "text": [
      "[CV]  C=2, class_weight=None, penalty=l1, tol=0.001, score=0, total=   0.0s\n",
      "[CV] C=2, class_weight=None, penalty=l1, tol=0.001 ...................\n",
      "[CV]  C=2, class_weight=None, penalty=l1, tol=0.001, score=0, total=   0.0s\n",
      "[CV] C=2, class_weight=None, penalty=l1, tol=0.001 ...................\n",
      "[CV]  C=2, class_weight=None, penalty=l1, tol=0.001, score=0, total=   0.0s\n",
      "[CV] C=2, class_weight=None, penalty=l1, tol=0.001 ...................\n",
      "[CV]  C=2, class_weight=None, penalty=l1, tol=0.001, score=0, total=   0.0s\n",
      "[CV] C=2, class_weight=None, penalty=l1, tol=0.01 ....................\n",
      "[CV]  C=2, class_weight=None, penalty=l1, tol=0.01, score=0, total=   0.0s\n",
      "[CV] C=2, class_weight=None, penalty=l1, tol=0.01 ....................\n",
      "[CV]  C=2, class_weight=None, penalty=l1, tol=0.01, score=0, total=   0.0s\n",
      "[CV] C=2, class_weight=None, penalty=l1, tol=0.01 ....................\n",
      "[CV]  C=2, class_weight=None, penalty=l1, tol=0.01, score=0, total=   0.0s\n",
      "[CV] C=2, class_weight=None, penalty=l1, tol=0.01 ....................\n"
     ]
    },
    {
     "name": "stderr",
     "output_type": "stream",
     "text": [
      "/Library/Frameworks/Python.framework/Versions/3.6/lib/python3.6/site-packages/sklearn/model_selection/_validation.py:479: FitFailedWarning: Classifier fit failed. The score on this train-test partition for these parameters will be set to 0.000000. Details: \n",
      "ValueError(\"Unsupported set of arguments: The combination of penalty='l1' and loss='squared_hinge' are not supported when dual=True, Parameters: penalty='l1', loss='squared_hinge', dual=True\",)\n",
      "  \"Details: \\n%r\" % (error_score, e), FitFailedWarning)\n",
      "/Library/Frameworks/Python.framework/Versions/3.6/lib/python3.6/site-packages/sklearn/model_selection/_validation.py:479: FitFailedWarning: Classifier fit failed. The score on this train-test partition for these parameters will be set to 0.000000. Details: \n",
      "ValueError(\"Unsupported set of arguments: The combination of penalty='l1' and loss='squared_hinge' are not supported when dual=True, Parameters: penalty='l1', loss='squared_hinge', dual=True\",)\n",
      "  \"Details: \\n%r\" % (error_score, e), FitFailedWarning)\n",
      "/Library/Frameworks/Python.framework/Versions/3.6/lib/python3.6/site-packages/sklearn/model_selection/_validation.py:479: FitFailedWarning: Classifier fit failed. The score on this train-test partition for these parameters will be set to 0.000000. Details: \n",
      "ValueError(\"Unsupported set of arguments: The combination of penalty='l1' and loss='squared_hinge' are not supported when dual=True, Parameters: penalty='l1', loss='squared_hinge', dual=True\",)\n",
      "  \"Details: \\n%r\" % (error_score, e), FitFailedWarning)\n",
      "/Library/Frameworks/Python.framework/Versions/3.6/lib/python3.6/site-packages/sklearn/model_selection/_validation.py:479: FitFailedWarning: Classifier fit failed. The score on this train-test partition for these parameters will be set to 0.000000. Details: \n",
      "ValueError(\"Unsupported set of arguments: The combination of penalty='l1' and loss='squared_hinge' are not supported when dual=True, Parameters: penalty='l1', loss='squared_hinge', dual=True\",)\n",
      "  \"Details: \\n%r\" % (error_score, e), FitFailedWarning)\n",
      "/Library/Frameworks/Python.framework/Versions/3.6/lib/python3.6/site-packages/sklearn/model_selection/_validation.py:479: FitFailedWarning: Classifier fit failed. The score on this train-test partition for these parameters will be set to 0.000000. Details: \n",
      "ValueError(\"Unsupported set of arguments: The combination of penalty='l1' and loss='squared_hinge' are not supported when dual=True, Parameters: penalty='l1', loss='squared_hinge', dual=True\",)\n",
      "  \"Details: \\n%r\" % (error_score, e), FitFailedWarning)\n",
      "/Library/Frameworks/Python.framework/Versions/3.6/lib/python3.6/site-packages/sklearn/model_selection/_validation.py:479: FitFailedWarning: Classifier fit failed. The score on this train-test partition for these parameters will be set to 0.000000. Details: \n",
      "ValueError(\"Unsupported set of arguments: The combination of penalty='l1' and loss='squared_hinge' are not supported when dual=True, Parameters: penalty='l1', loss='squared_hinge', dual=True\",)\n",
      "  \"Details: \\n%r\" % (error_score, e), FitFailedWarning)\n",
      "/Library/Frameworks/Python.framework/Versions/3.6/lib/python3.6/site-packages/sklearn/model_selection/_validation.py:479: FitFailedWarning: Classifier fit failed. The score on this train-test partition for these parameters will be set to 0.000000. Details: \n",
      "ValueError(\"Unsupported set of arguments: The combination of penalty='l1' and loss='squared_hinge' are not supported when dual=True, Parameters: penalty='l1', loss='squared_hinge', dual=True\",)\n",
      "  \"Details: \\n%r\" % (error_score, e), FitFailedWarning)\n"
     ]
    },
    {
     "name": "stdout",
     "output_type": "stream",
     "text": [
      "[CV]  C=2, class_weight=None, penalty=l1, tol=0.01, score=0, total=   0.0s\n",
      "[CV] C=2, class_weight=None, penalty=l1, tol=0.01 ....................\n",
      "[CV]  C=2, class_weight=None, penalty=l1, tol=0.01, score=0, total=   0.0s\n",
      "[CV] C=2, class_weight=None, penalty=l1, tol=0.1 .....................\n",
      "[CV]  C=2, class_weight=None, penalty=l1, tol=0.1, score=0, total=   0.0s\n",
      "[CV] C=2, class_weight=None, penalty=l1, tol=0.1 .....................\n",
      "[CV]  C=2, class_weight=None, penalty=l1, tol=0.1, score=0, total=   0.0s\n",
      "[CV] C=2, class_weight=None, penalty=l1, tol=0.1 .....................\n",
      "[CV]  C=2, class_weight=None, penalty=l1, tol=0.1, score=0, total=   0.0s\n",
      "[CV] C=2, class_weight=None, penalty=l1, tol=0.1 .....................\n",
      "[CV]  C=2, class_weight=None, penalty=l1, tol=0.1, score=0, total=   0.0s\n",
      "[CV] C=2, class_weight=None, penalty=l1, tol=0.1 .....................\n",
      "[CV]  C=2, class_weight=None, penalty=l1, tol=0.1, score=0, total=   0.0s\n",
      "[CV] C=2, class_weight=None, penalty=l1, tol=1 .......................\n"
     ]
    },
    {
     "name": "stderr",
     "output_type": "stream",
     "text": [
      "/Library/Frameworks/Python.framework/Versions/3.6/lib/python3.6/site-packages/sklearn/model_selection/_validation.py:479: FitFailedWarning: Classifier fit failed. The score on this train-test partition for these parameters will be set to 0.000000. Details: \n",
      "ValueError(\"Unsupported set of arguments: The combination of penalty='l1' and loss='squared_hinge' are not supported when dual=True, Parameters: penalty='l1', loss='squared_hinge', dual=True\",)\n",
      "  \"Details: \\n%r\" % (error_score, e), FitFailedWarning)\n",
      "/Library/Frameworks/Python.framework/Versions/3.6/lib/python3.6/site-packages/sklearn/model_selection/_validation.py:479: FitFailedWarning: Classifier fit failed. The score on this train-test partition for these parameters will be set to 0.000000. Details: \n",
      "ValueError(\"Unsupported set of arguments: The combination of penalty='l1' and loss='squared_hinge' are not supported when dual=True, Parameters: penalty='l1', loss='squared_hinge', dual=True\",)\n",
      "  \"Details: \\n%r\" % (error_score, e), FitFailedWarning)\n",
      "/Library/Frameworks/Python.framework/Versions/3.6/lib/python3.6/site-packages/sklearn/model_selection/_validation.py:479: FitFailedWarning: Classifier fit failed. The score on this train-test partition for these parameters will be set to 0.000000. Details: \n",
      "ValueError(\"Unsupported set of arguments: The combination of penalty='l1' and loss='squared_hinge' are not supported when dual=True, Parameters: penalty='l1', loss='squared_hinge', dual=True\",)\n",
      "  \"Details: \\n%r\" % (error_score, e), FitFailedWarning)\n",
      "/Library/Frameworks/Python.framework/Versions/3.6/lib/python3.6/site-packages/sklearn/model_selection/_validation.py:479: FitFailedWarning: Classifier fit failed. The score on this train-test partition for these parameters will be set to 0.000000. Details: \n",
      "ValueError(\"Unsupported set of arguments: The combination of penalty='l1' and loss='squared_hinge' are not supported when dual=True, Parameters: penalty='l1', loss='squared_hinge', dual=True\",)\n",
      "  \"Details: \\n%r\" % (error_score, e), FitFailedWarning)\n",
      "/Library/Frameworks/Python.framework/Versions/3.6/lib/python3.6/site-packages/sklearn/model_selection/_validation.py:479: FitFailedWarning: Classifier fit failed. The score on this train-test partition for these parameters will be set to 0.000000. Details: \n",
      "ValueError(\"Unsupported set of arguments: The combination of penalty='l1' and loss='squared_hinge' are not supported when dual=True, Parameters: penalty='l1', loss='squared_hinge', dual=True\",)\n",
      "  \"Details: \\n%r\" % (error_score, e), FitFailedWarning)\n",
      "/Library/Frameworks/Python.framework/Versions/3.6/lib/python3.6/site-packages/sklearn/model_selection/_validation.py:479: FitFailedWarning: Classifier fit failed. The score on this train-test partition for these parameters will be set to 0.000000. Details: \n",
      "ValueError(\"Unsupported set of arguments: The combination of penalty='l1' and loss='squared_hinge' are not supported when dual=True, Parameters: penalty='l1', loss='squared_hinge', dual=True\",)\n",
      "  \"Details: \\n%r\" % (error_score, e), FitFailedWarning)\n",
      "/Library/Frameworks/Python.framework/Versions/3.6/lib/python3.6/site-packages/sklearn/model_selection/_validation.py:479: FitFailedWarning: Classifier fit failed. The score on this train-test partition for these parameters will be set to 0.000000. Details: \n",
      "ValueError(\"Unsupported set of arguments: The combination of penalty='l1' and loss='squared_hinge' are not supported when dual=True, Parameters: penalty='l1', loss='squared_hinge', dual=True\",)\n",
      "  \"Details: \\n%r\" % (error_score, e), FitFailedWarning)\n"
     ]
    },
    {
     "name": "stdout",
     "output_type": "stream",
     "text": [
      "[CV]  C=2, class_weight=None, penalty=l1, tol=1, score=0, total=   0.0s\n",
      "[CV] C=2, class_weight=None, penalty=l1, tol=1 .......................\n",
      "[CV]  C=2, class_weight=None, penalty=l1, tol=1, score=0, total=   0.0s\n",
      "[CV] C=2, class_weight=None, penalty=l1, tol=1 .......................\n",
      "[CV]  C=2, class_weight=None, penalty=l1, tol=1, score=0, total=   0.0s\n",
      "[CV] C=2, class_weight=None, penalty=l1, tol=1 .......................\n",
      "[CV]  C=2, class_weight=None, penalty=l1, tol=1, score=0, total=   0.0s\n",
      "[CV] C=2, class_weight=None, penalty=l1, tol=1 .......................\n",
      "[CV]  C=2, class_weight=None, penalty=l1, tol=1, score=0, total=   0.0s\n",
      "[CV] C=2, class_weight=None, penalty=l2, tol=0.0001 ..................\n"
     ]
    },
    {
     "name": "stderr",
     "output_type": "stream",
     "text": [
      "/Library/Frameworks/Python.framework/Versions/3.6/lib/python3.6/site-packages/sklearn/model_selection/_validation.py:479: FitFailedWarning: Classifier fit failed. The score on this train-test partition for these parameters will be set to 0.000000. Details: \n",
      "ValueError(\"Unsupported set of arguments: The combination of penalty='l1' and loss='squared_hinge' are not supported when dual=True, Parameters: penalty='l1', loss='squared_hinge', dual=True\",)\n",
      "  \"Details: \\n%r\" % (error_score, e), FitFailedWarning)\n",
      "/Library/Frameworks/Python.framework/Versions/3.6/lib/python3.6/site-packages/sklearn/model_selection/_validation.py:479: FitFailedWarning: Classifier fit failed. The score on this train-test partition for these parameters will be set to 0.000000. Details: \n",
      "ValueError(\"Unsupported set of arguments: The combination of penalty='l1' and loss='squared_hinge' are not supported when dual=True, Parameters: penalty='l1', loss='squared_hinge', dual=True\",)\n",
      "  \"Details: \\n%r\" % (error_score, e), FitFailedWarning)\n",
      "/Library/Frameworks/Python.framework/Versions/3.6/lib/python3.6/site-packages/sklearn/model_selection/_validation.py:479: FitFailedWarning: Classifier fit failed. The score on this train-test partition for these parameters will be set to 0.000000. Details: \n",
      "ValueError(\"Unsupported set of arguments: The combination of penalty='l1' and loss='squared_hinge' are not supported when dual=True, Parameters: penalty='l1', loss='squared_hinge', dual=True\",)\n",
      "  \"Details: \\n%r\" % (error_score, e), FitFailedWarning)\n",
      "/Library/Frameworks/Python.framework/Versions/3.6/lib/python3.6/site-packages/sklearn/model_selection/_validation.py:479: FitFailedWarning: Classifier fit failed. The score on this train-test partition for these parameters will be set to 0.000000. Details: \n",
      "ValueError(\"Unsupported set of arguments: The combination of penalty='l1' and loss='squared_hinge' are not supported when dual=True, Parameters: penalty='l1', loss='squared_hinge', dual=True\",)\n",
      "  \"Details: \\n%r\" % (error_score, e), FitFailedWarning)\n"
     ]
    },
    {
     "name": "stdout",
     "output_type": "stream",
     "text": [
      "[CV]  C=2, class_weight=None, penalty=l2, tol=0.0001, score=0.7345416454170861, total=   1.2s\n",
      "[CV] C=2, class_weight=None, penalty=l2, tol=0.0001 ..................\n",
      "[CV]  C=2, class_weight=None, penalty=l2, tol=0.0001, score=0.730625882841272, total=   1.2s\n",
      "[CV] C=2, class_weight=None, penalty=l2, tol=0.0001 ..................\n",
      "[CV]  C=2, class_weight=None, penalty=l2, tol=0.0001, score=0.7357747166740044, total=   1.5s\n",
      "[CV] C=2, class_weight=None, penalty=l2, tol=0.0001 ..................\n",
      "[CV]  C=2, class_weight=None, penalty=l2, tol=0.0001, score=0.7344535490816221, total=   1.4s\n",
      "[CV] C=2, class_weight=None, penalty=l2, tol=0.0001 ..................\n",
      "[CV]  C=2, class_weight=None, penalty=l2, tol=0.0001, score=0.7360753788186797, total=   2.1s\n",
      "[CV] C=2, class_weight=None, penalty=l2, tol=0.001 ...................\n",
      "[CV]  C=2, class_weight=None, penalty=l2, tol=0.001, score=0.7345416454170861, total=   1.0s\n",
      "[CV] C=2, class_weight=None, penalty=l2, tol=0.001 ...................\n",
      "[CV]  C=2, class_weight=None, penalty=l2, tol=0.001, score=0.730625882841272, total=   1.1s\n",
      "[CV] C=2, class_weight=None, penalty=l2, tol=0.001 ...................\n",
      "[CV]  C=2, class_weight=None, penalty=l2, tol=0.001, score=0.7357747166740044, total=   1.1s\n",
      "[CV] C=2, class_weight=None, penalty=l2, tol=0.001 ...................\n",
      "[CV]  C=2, class_weight=None, penalty=l2, tol=0.001, score=0.7344535490816221, total=   1.1s\n",
      "[CV] C=2, class_weight=None, penalty=l2, tol=0.001 ...................\n",
      "[CV]  C=2, class_weight=None, penalty=l2, tol=0.001, score=0.7360753788186797, total=   1.0s\n",
      "[CV] C=2, class_weight=None, penalty=l2, tol=0.01 ....................\n",
      "[CV]  C=2, class_weight=None, penalty=l2, tol=0.01, score=0.7345416454170861, total=   0.9s\n",
      "[CV] C=2, class_weight=None, penalty=l2, tol=0.01 ....................\n",
      "[CV]  C=2, class_weight=None, penalty=l2, tol=0.01, score=0.730625882841272, total=   0.9s\n",
      "[CV] C=2, class_weight=None, penalty=l2, tol=0.01 ....................\n",
      "[CV]  C=2, class_weight=None, penalty=l2, tol=0.01, score=0.7357747166740044, total=   0.9s\n",
      "[CV] C=2, class_weight=None, penalty=l2, tol=0.01 ....................\n",
      "[CV]  C=2, class_weight=None, penalty=l2, tol=0.01, score=0.7344535490816221, total=   0.9s\n",
      "[CV] C=2, class_weight=None, penalty=l2, tol=0.01 ....................\n",
      "[CV]  C=2, class_weight=None, penalty=l2, tol=0.01, score=0.7360753788186797, total=   0.8s\n",
      "[CV] C=2, class_weight=None, penalty=l2, tol=0.1 .....................\n",
      "[CV]  C=2, class_weight=None, penalty=l2, tol=0.1, score=0.7344057366188098, total=   0.5s\n",
      "[CV] C=2, class_weight=None, penalty=l2, tol=0.1 .....................\n",
      "[CV]  C=2, class_weight=None, penalty=l2, tol=0.1, score=0.7313461080786215, total=   0.5s\n",
      "[CV] C=2, class_weight=None, penalty=l2, tol=0.1 .....................\n",
      "[CV]  C=2, class_weight=None, penalty=l2, tol=0.1, score=0.7357747166740044, total=   0.6s\n",
      "[CV] C=2, class_weight=None, penalty=l2, tol=0.1 .....................\n",
      "[CV]  C=2, class_weight=None, penalty=l2, tol=0.1, score=0.7359644279989954, total=   0.6s\n",
      "[CV] C=2, class_weight=None, penalty=l2, tol=0.1 .....................\n",
      "[CV]  C=2, class_weight=None, penalty=l2, tol=0.1, score=0.7347697873863899, total=   0.6s\n",
      "[CV] C=2, class_weight=None, penalty=l2, tol=1 .......................\n",
      "[CV]  C=2, class_weight=None, penalty=l2, tol=1, score=0.7313333396171876, total=   0.4s\n",
      "[CV] C=2, class_weight=None, penalty=l2, tol=1 .......................\n",
      "[CV]  C=2, class_weight=None, penalty=l2, tol=1, score=0.7339415874324496, total=   0.4s\n",
      "[CV] C=2, class_weight=None, penalty=l2, tol=1 .......................\n",
      "[CV]  C=2, class_weight=None, penalty=l2, tol=1, score=0.7418091139521411, total=   0.4s\n",
      "[CV] C=2, class_weight=None, penalty=l2, tol=1 .......................\n",
      "[CV]  C=2, class_weight=None, penalty=l2, tol=1, score=0.7339424337708502, total=   0.4s\n",
      "[CV] C=2, class_weight=None, penalty=l2, tol=1 .......................\n",
      "[CV]  C=2, class_weight=None, penalty=l2, tol=1, score=0.7377653331835594, total=   0.4s\n",
      "[CV] C=10, class_weight=balanced, penalty=l1, tol=0.0001 .............\n",
      "[CV]  C=10, class_weight=balanced, penalty=l1, tol=0.0001, score=0, total=   0.0s\n",
      "[CV] C=10, class_weight=balanced, penalty=l1, tol=0.0001 .............\n",
      "[CV]  C=10, class_weight=balanced, penalty=l1, tol=0.0001, score=0, total=   0.0s\n",
      "[CV] C=10, class_weight=balanced, penalty=l1, tol=0.0001 .............\n",
      "[CV]  C=10, class_weight=balanced, penalty=l1, tol=0.0001, score=0, total=   0.0s\n",
      "[CV] C=10, class_weight=balanced, penalty=l1, tol=0.0001 .............\n",
      "[CV]  C=10, class_weight=balanced, penalty=l1, tol=0.0001, score=0, total=   0.0s\n",
      "[CV] C=10, class_weight=balanced, penalty=l1, tol=0.0001 .............\n",
      "[CV]  C=10, class_weight=balanced, penalty=l1, tol=0.0001, score=0, total=   0.0s\n",
      "[CV] C=10, class_weight=balanced, penalty=l1, tol=0.001 ..............\n"
     ]
    },
    {
     "name": "stderr",
     "output_type": "stream",
     "text": [
      "/Library/Frameworks/Python.framework/Versions/3.6/lib/python3.6/site-packages/sklearn/model_selection/_validation.py:479: FitFailedWarning: Classifier fit failed. The score on this train-test partition for these parameters will be set to 0.000000. Details: \n",
      "ValueError(\"Unsupported set of arguments: The combination of penalty='l1' and loss='squared_hinge' are not supported when dual=True, Parameters: penalty='l1', loss='squared_hinge', dual=True\",)\n",
      "  \"Details: \\n%r\" % (error_score, e), FitFailedWarning)\n",
      "/Library/Frameworks/Python.framework/Versions/3.6/lib/python3.6/site-packages/sklearn/model_selection/_validation.py:479: FitFailedWarning: Classifier fit failed. The score on this train-test partition for these parameters will be set to 0.000000. Details: \n",
      "ValueError(\"Unsupported set of arguments: The combination of penalty='l1' and loss='squared_hinge' are not supported when dual=True, Parameters: penalty='l1', loss='squared_hinge', dual=True\",)\n",
      "  \"Details: \\n%r\" % (error_score, e), FitFailedWarning)\n",
      "/Library/Frameworks/Python.framework/Versions/3.6/lib/python3.6/site-packages/sklearn/model_selection/_validation.py:479: FitFailedWarning: Classifier fit failed. The score on this train-test partition for these parameters will be set to 0.000000. Details: \n",
      "ValueError(\"Unsupported set of arguments: The combination of penalty='l1' and loss='squared_hinge' are not supported when dual=True, Parameters: penalty='l1', loss='squared_hinge', dual=True\",)\n",
      "  \"Details: \\n%r\" % (error_score, e), FitFailedWarning)\n",
      "/Library/Frameworks/Python.framework/Versions/3.6/lib/python3.6/site-packages/sklearn/model_selection/_validation.py:479: FitFailedWarning: Classifier fit failed. The score on this train-test partition for these parameters will be set to 0.000000. Details: \n",
      "ValueError(\"Unsupported set of arguments: The combination of penalty='l1' and loss='squared_hinge' are not supported when dual=True, Parameters: penalty='l1', loss='squared_hinge', dual=True\",)\n",
      "  \"Details: \\n%r\" % (error_score, e), FitFailedWarning)\n",
      "/Library/Frameworks/Python.framework/Versions/3.6/lib/python3.6/site-packages/sklearn/model_selection/_validation.py:479: FitFailedWarning: Classifier fit failed. The score on this train-test partition for these parameters will be set to 0.000000. Details: \n",
      "ValueError(\"Unsupported set of arguments: The combination of penalty='l1' and loss='squared_hinge' are not supported when dual=True, Parameters: penalty='l1', loss='squared_hinge', dual=True\",)\n",
      "  \"Details: \\n%r\" % (error_score, e), FitFailedWarning)\n",
      "/Library/Frameworks/Python.framework/Versions/3.6/lib/python3.6/site-packages/sklearn/model_selection/_validation.py:479: FitFailedWarning: Classifier fit failed. The score on this train-test partition for these parameters will be set to 0.000000. Details: \n",
      "ValueError(\"Unsupported set of arguments: The combination of penalty='l1' and loss='squared_hinge' are not supported when dual=True, Parameters: penalty='l1', loss='squared_hinge', dual=True\",)\n",
      "  \"Details: \\n%r\" % (error_score, e), FitFailedWarning)\n",
      "/Library/Frameworks/Python.framework/Versions/3.6/lib/python3.6/site-packages/sklearn/model_selection/_validation.py:479: FitFailedWarning: Classifier fit failed. The score on this train-test partition for these parameters will be set to 0.000000. Details: \n",
      "ValueError(\"Unsupported set of arguments: The combination of penalty='l1' and loss='squared_hinge' are not supported when dual=True, Parameters: penalty='l1', loss='squared_hinge', dual=True\",)\n",
      "  \"Details: \\n%r\" % (error_score, e), FitFailedWarning)\n"
     ]
    },
    {
     "name": "stdout",
     "output_type": "stream",
     "text": [
      "[CV]  C=10, class_weight=balanced, penalty=l1, tol=0.001, score=0, total=   0.0s\n",
      "[CV] C=10, class_weight=balanced, penalty=l1, tol=0.001 ..............\n",
      "[CV]  C=10, class_weight=balanced, penalty=l1, tol=0.001, score=0, total=   0.0s\n",
      "[CV] C=10, class_weight=balanced, penalty=l1, tol=0.001 ..............\n",
      "[CV]  C=10, class_weight=balanced, penalty=l1, tol=0.001, score=0, total=   0.0s\n",
      "[CV] C=10, class_weight=balanced, penalty=l1, tol=0.001 ..............\n",
      "[CV]  C=10, class_weight=balanced, penalty=l1, tol=0.001, score=0, total=   0.0s\n",
      "[CV] C=10, class_weight=balanced, penalty=l1, tol=0.001 ..............\n",
      "[CV]  C=10, class_weight=balanced, penalty=l1, tol=0.001, score=0, total=   0.0s\n",
      "[CV] C=10, class_weight=balanced, penalty=l1, tol=0.01 ...............\n",
      "[CV]  C=10, class_weight=balanced, penalty=l1, tol=0.01, score=0, total=   0.0s\n",
      "[CV] C=10, class_weight=balanced, penalty=l1, tol=0.01 ...............\n",
      "[CV]  C=10, class_weight=balanced, penalty=l1, tol=0.01, score=0, total=   0.0s\n",
      "[CV] C=10, class_weight=balanced, penalty=l1, tol=0.01 ...............\n"
     ]
    },
    {
     "name": "stderr",
     "output_type": "stream",
     "text": [
      "/Library/Frameworks/Python.framework/Versions/3.6/lib/python3.6/site-packages/sklearn/model_selection/_validation.py:479: FitFailedWarning: Classifier fit failed. The score on this train-test partition for these parameters will be set to 0.000000. Details: \n",
      "ValueError(\"Unsupported set of arguments: The combination of penalty='l1' and loss='squared_hinge' are not supported when dual=True, Parameters: penalty='l1', loss='squared_hinge', dual=True\",)\n",
      "  \"Details: \\n%r\" % (error_score, e), FitFailedWarning)\n",
      "/Library/Frameworks/Python.framework/Versions/3.6/lib/python3.6/site-packages/sklearn/model_selection/_validation.py:479: FitFailedWarning: Classifier fit failed. The score on this train-test partition for these parameters will be set to 0.000000. Details: \n",
      "ValueError(\"Unsupported set of arguments: The combination of penalty='l1' and loss='squared_hinge' are not supported when dual=True, Parameters: penalty='l1', loss='squared_hinge', dual=True\",)\n",
      "  \"Details: \\n%r\" % (error_score, e), FitFailedWarning)\n",
      "/Library/Frameworks/Python.framework/Versions/3.6/lib/python3.6/site-packages/sklearn/model_selection/_validation.py:479: FitFailedWarning: Classifier fit failed. The score on this train-test partition for these parameters will be set to 0.000000. Details: \n",
      "ValueError(\"Unsupported set of arguments: The combination of penalty='l1' and loss='squared_hinge' are not supported when dual=True, Parameters: penalty='l1', loss='squared_hinge', dual=True\",)\n",
      "  \"Details: \\n%r\" % (error_score, e), FitFailedWarning)\n",
      "/Library/Frameworks/Python.framework/Versions/3.6/lib/python3.6/site-packages/sklearn/model_selection/_validation.py:479: FitFailedWarning: Classifier fit failed. The score on this train-test partition for these parameters will be set to 0.000000. Details: \n",
      "ValueError(\"Unsupported set of arguments: The combination of penalty='l1' and loss='squared_hinge' are not supported when dual=True, Parameters: penalty='l1', loss='squared_hinge', dual=True\",)\n",
      "  \"Details: \\n%r\" % (error_score, e), FitFailedWarning)\n",
      "/Library/Frameworks/Python.framework/Versions/3.6/lib/python3.6/site-packages/sklearn/model_selection/_validation.py:479: FitFailedWarning: Classifier fit failed. The score on this train-test partition for these parameters will be set to 0.000000. Details: \n",
      "ValueError(\"Unsupported set of arguments: The combination of penalty='l1' and loss='squared_hinge' are not supported when dual=True, Parameters: penalty='l1', loss='squared_hinge', dual=True\",)\n",
      "  \"Details: \\n%r\" % (error_score, e), FitFailedWarning)\n",
      "/Library/Frameworks/Python.framework/Versions/3.6/lib/python3.6/site-packages/sklearn/model_selection/_validation.py:479: FitFailedWarning: Classifier fit failed. The score on this train-test partition for these parameters will be set to 0.000000. Details: \n",
      "ValueError(\"Unsupported set of arguments: The combination of penalty='l1' and loss='squared_hinge' are not supported when dual=True, Parameters: penalty='l1', loss='squared_hinge', dual=True\",)\n",
      "  \"Details: \\n%r\" % (error_score, e), FitFailedWarning)\n",
      "/Library/Frameworks/Python.framework/Versions/3.6/lib/python3.6/site-packages/sklearn/model_selection/_validation.py:479: FitFailedWarning: Classifier fit failed. The score on this train-test partition for these parameters will be set to 0.000000. Details: \n",
      "ValueError(\"Unsupported set of arguments: The combination of penalty='l1' and loss='squared_hinge' are not supported when dual=True, Parameters: penalty='l1', loss='squared_hinge', dual=True\",)\n",
      "  \"Details: \\n%r\" % (error_score, e), FitFailedWarning)\n"
     ]
    },
    {
     "name": "stdout",
     "output_type": "stream",
     "text": [
      "[CV]  C=10, class_weight=balanced, penalty=l1, tol=0.01, score=0, total=   0.0s\n",
      "[CV] C=10, class_weight=balanced, penalty=l1, tol=0.01 ...............\n",
      "[CV]  C=10, class_weight=balanced, penalty=l1, tol=0.01, score=0, total=   0.0s\n",
      "[CV] C=10, class_weight=balanced, penalty=l1, tol=0.01 ...............\n",
      "[CV]  C=10, class_weight=balanced, penalty=l1, tol=0.01, score=0, total=   0.0s\n",
      "[CV] C=10, class_weight=balanced, penalty=l1, tol=0.1 ................\n",
      "[CV]  C=10, class_weight=balanced, penalty=l1, tol=0.1, score=0, total=   0.0s\n",
      "[CV] C=10, class_weight=balanced, penalty=l1, tol=0.1 ................\n",
      "[CV]  C=10, class_weight=balanced, penalty=l1, tol=0.1, score=0, total=   0.0s\n",
      "[CV] C=10, class_weight=balanced, penalty=l1, tol=0.1 ................\n",
      "[CV]  C=10, class_weight=balanced, penalty=l1, tol=0.1, score=0, total=   0.0s\n",
      "[CV] C=10, class_weight=balanced, penalty=l1, tol=0.1 ................\n",
      "[CV]  C=10, class_weight=balanced, penalty=l1, tol=0.1, score=0, total=   0.0s"
     ]
    },
    {
     "name": "stderr",
     "output_type": "stream",
     "text": [
      "/Library/Frameworks/Python.framework/Versions/3.6/lib/python3.6/site-packages/sklearn/model_selection/_validation.py:479: FitFailedWarning: Classifier fit failed. The score on this train-test partition for these parameters will be set to 0.000000. Details: \n",
      "ValueError(\"Unsupported set of arguments: The combination of penalty='l1' and loss='squared_hinge' are not supported when dual=True, Parameters: penalty='l1', loss='squared_hinge', dual=True\",)\n",
      "  \"Details: \\n%r\" % (error_score, e), FitFailedWarning)\n",
      "/Library/Frameworks/Python.framework/Versions/3.6/lib/python3.6/site-packages/sklearn/model_selection/_validation.py:479: FitFailedWarning: Classifier fit failed. The score on this train-test partition for these parameters will be set to 0.000000. Details: \n",
      "ValueError(\"Unsupported set of arguments: The combination of penalty='l1' and loss='squared_hinge' are not supported when dual=True, Parameters: penalty='l1', loss='squared_hinge', dual=True\",)\n",
      "  \"Details: \\n%r\" % (error_score, e), FitFailedWarning)\n",
      "/Library/Frameworks/Python.framework/Versions/3.6/lib/python3.6/site-packages/sklearn/model_selection/_validation.py:479: FitFailedWarning: Classifier fit failed. The score on this train-test partition for these parameters will be set to 0.000000. Details: \n",
      "ValueError(\"Unsupported set of arguments: The combination of penalty='l1' and loss='squared_hinge' are not supported when dual=True, Parameters: penalty='l1', loss='squared_hinge', dual=True\",)\n",
      "  \"Details: \\n%r\" % (error_score, e), FitFailedWarning)\n",
      "/Library/Frameworks/Python.framework/Versions/3.6/lib/python3.6/site-packages/sklearn/model_selection/_validation.py:479: FitFailedWarning: Classifier fit failed. The score on this train-test partition for these parameters will be set to 0.000000. Details: \n",
      "ValueError(\"Unsupported set of arguments: The combination of penalty='l1' and loss='squared_hinge' are not supported when dual=True, Parameters: penalty='l1', loss='squared_hinge', dual=True\",)\n",
      "  \"Details: \\n%r\" % (error_score, e), FitFailedWarning)\n",
      "/Library/Frameworks/Python.framework/Versions/3.6/lib/python3.6/site-packages/sklearn/model_selection/_validation.py:479: FitFailedWarning: Classifier fit failed. The score on this train-test partition for these parameters will be set to 0.000000. Details: \n",
      "ValueError(\"Unsupported set of arguments: The combination of penalty='l1' and loss='squared_hinge' are not supported when dual=True, Parameters: penalty='l1', loss='squared_hinge', dual=True\",)\n",
      "  \"Details: \\n%r\" % (error_score, e), FitFailedWarning)\n",
      "/Library/Frameworks/Python.framework/Versions/3.6/lib/python3.6/site-packages/sklearn/model_selection/_validation.py:479: FitFailedWarning: Classifier fit failed. The score on this train-test partition for these parameters will be set to 0.000000. Details: \n",
      "ValueError(\"Unsupported set of arguments: The combination of penalty='l1' and loss='squared_hinge' are not supported when dual=True, Parameters: penalty='l1', loss='squared_hinge', dual=True\",)\n",
      "  \"Details: \\n%r\" % (error_score, e), FitFailedWarning)\n"
     ]
    },
    {
     "name": "stdout",
     "output_type": "stream",
     "text": [
      "\n",
      "[CV] C=10, class_weight=balanced, penalty=l1, tol=0.1 ................\n",
      "[CV]  C=10, class_weight=balanced, penalty=l1, tol=0.1, score=0, total=   0.0s\n",
      "[CV] C=10, class_weight=balanced, penalty=l1, tol=1 ..................\n",
      "[CV]  C=10, class_weight=balanced, penalty=l1, tol=1, score=0, total=   0.0s\n",
      "[CV] C=10, class_weight=balanced, penalty=l1, tol=1 ..................\n",
      "[CV]  C=10, class_weight=balanced, penalty=l1, tol=1, score=0, total=   0.0s\n",
      "[CV] C=10, class_weight=balanced, penalty=l1, tol=1 ..................\n",
      "[CV]  C=10, class_weight=balanced, penalty=l1, tol=1, score=0, total=   0.0s\n",
      "[CV] C=10, class_weight=balanced, penalty=l1, tol=1 ..................\n",
      "[CV]  C=10, class_weight=balanced, penalty=l1, tol=1, score=0, total=   0.0s\n",
      "[CV] C=10, class_weight=balanced, penalty=l1, tol=1 ..................\n"
     ]
    },
    {
     "name": "stderr",
     "output_type": "stream",
     "text": [
      "/Library/Frameworks/Python.framework/Versions/3.6/lib/python3.6/site-packages/sklearn/model_selection/_validation.py:479: FitFailedWarning: Classifier fit failed. The score on this train-test partition for these parameters will be set to 0.000000. Details: \n",
      "ValueError(\"Unsupported set of arguments: The combination of penalty='l1' and loss='squared_hinge' are not supported when dual=True, Parameters: penalty='l1', loss='squared_hinge', dual=True\",)\n",
      "  \"Details: \\n%r\" % (error_score, e), FitFailedWarning)\n",
      "/Library/Frameworks/Python.framework/Versions/3.6/lib/python3.6/site-packages/sklearn/model_selection/_validation.py:479: FitFailedWarning: Classifier fit failed. The score on this train-test partition for these parameters will be set to 0.000000. Details: \n",
      "ValueError(\"Unsupported set of arguments: The combination of penalty='l1' and loss='squared_hinge' are not supported when dual=True, Parameters: penalty='l1', loss='squared_hinge', dual=True\",)\n",
      "  \"Details: \\n%r\" % (error_score, e), FitFailedWarning)\n",
      "/Library/Frameworks/Python.framework/Versions/3.6/lib/python3.6/site-packages/sklearn/model_selection/_validation.py:479: FitFailedWarning: Classifier fit failed. The score on this train-test partition for these parameters will be set to 0.000000. Details: \n",
      "ValueError(\"Unsupported set of arguments: The combination of penalty='l1' and loss='squared_hinge' are not supported when dual=True, Parameters: penalty='l1', loss='squared_hinge', dual=True\",)\n",
      "  \"Details: \\n%r\" % (error_score, e), FitFailedWarning)\n",
      "/Library/Frameworks/Python.framework/Versions/3.6/lib/python3.6/site-packages/sklearn/model_selection/_validation.py:479: FitFailedWarning: Classifier fit failed. The score on this train-test partition for these parameters will be set to 0.000000. Details: \n",
      "ValueError(\"Unsupported set of arguments: The combination of penalty='l1' and loss='squared_hinge' are not supported when dual=True, Parameters: penalty='l1', loss='squared_hinge', dual=True\",)\n",
      "  \"Details: \\n%r\" % (error_score, e), FitFailedWarning)\n",
      "/Library/Frameworks/Python.framework/Versions/3.6/lib/python3.6/site-packages/sklearn/model_selection/_validation.py:479: FitFailedWarning: Classifier fit failed. The score on this train-test partition for these parameters will be set to 0.000000. Details: \n",
      "ValueError(\"Unsupported set of arguments: The combination of penalty='l1' and loss='squared_hinge' are not supported when dual=True, Parameters: penalty='l1', loss='squared_hinge', dual=True\",)\n",
      "  \"Details: \\n%r\" % (error_score, e), FitFailedWarning)\n"
     ]
    },
    {
     "name": "stdout",
     "output_type": "stream",
     "text": [
      "[CV]  C=10, class_weight=balanced, penalty=l1, tol=1, score=0, total=   0.0s\n",
      "[CV] C=10, class_weight=balanced, penalty=l2, tol=0.0001 .............\n",
      "[CV]  C=10, class_weight=balanced, penalty=l2, tol=0.0001, score=0.6961272295292922, total=   5.8s\n",
      "[CV] C=10, class_weight=balanced, penalty=l2, tol=0.0001 .............\n",
      "[CV]  C=10, class_weight=balanced, penalty=l2, tol=0.0001, score=0.702395114299359, total=   6.7s\n",
      "[CV] C=10, class_weight=balanced, penalty=l2, tol=0.0001 .............\n",
      "[CV]  C=10, class_weight=balanced, penalty=l2, tol=0.0001, score=0.7151922291652176, total=   6.4s\n",
      "[CV] C=10, class_weight=balanced, penalty=l2, tol=0.0001 .............\n",
      "[CV]  C=10, class_weight=balanced, penalty=l2, tol=0.0001, score=0.7190263531972407, total=   5.8s\n",
      "[CV] C=10, class_weight=balanced, penalty=l2, tol=0.0001 .............\n",
      "[CV]  C=10, class_weight=balanced, penalty=l2, tol=0.0001, score=0.708262083803664, total=   5.8s\n",
      "[CV] C=10, class_weight=balanced, penalty=l2, tol=0.001 ..............\n",
      "[CV]  C=10, class_weight=balanced, penalty=l2, tol=0.001, score=0.6961272295292922, total=   4.1s\n",
      "[CV] C=10, class_weight=balanced, penalty=l2, tol=0.001 ..............\n",
      "[CV]  C=10, class_weight=balanced, penalty=l2, tol=0.001, score=0.702395114299359, total=   4.3s\n",
      "[CV] C=10, class_weight=balanced, penalty=l2, tol=0.001 ..............\n",
      "[CV]  C=10, class_weight=balanced, penalty=l2, tol=0.001, score=0.7151922291652176, total=   4.8s\n",
      "[CV] C=10, class_weight=balanced, penalty=l2, tol=0.001 ..............\n",
      "[CV]  C=10, class_weight=balanced, penalty=l2, tol=0.001, score=0.7190263531972407, total=   4.5s\n",
      "[CV] C=10, class_weight=balanced, penalty=l2, tol=0.001 ..............\n",
      "[CV]  C=10, class_weight=balanced, penalty=l2, tol=0.001, score=0.708262083803664, total=   3.8s\n",
      "[CV] C=10, class_weight=balanced, penalty=l2, tol=0.01 ...............\n",
      "[CV]  C=10, class_weight=balanced, penalty=l2, tol=0.01, score=0.6953943786430464, total=   2.8s\n",
      "[CV] C=10, class_weight=balanced, penalty=l2, tol=0.01 ...............\n",
      "[CV]  C=10, class_weight=balanced, penalty=l2, tol=0.01, score=0.702395114299359, total=   2.8s\n",
      "[CV] C=10, class_weight=balanced, penalty=l2, tol=0.01 ...............\n",
      "[CV]  C=10, class_weight=balanced, penalty=l2, tol=0.01, score=0.7151922291652176, total=   2.8s\n",
      "[CV] C=10, class_weight=balanced, penalty=l2, tol=0.01 ...............\n",
      "[CV]  C=10, class_weight=balanced, penalty=l2, tol=0.01, score=0.7190263531972407, total=   3.0s\n",
      "[CV] C=10, class_weight=balanced, penalty=l2, tol=0.01 ...............\n",
      "[CV]  C=10, class_weight=balanced, penalty=l2, tol=0.01, score=0.708262083803664, total=   3.2s\n",
      "[CV] C=10, class_weight=balanced, penalty=l2, tol=0.1 ................\n",
      "[CV]  C=10, class_weight=balanced, penalty=l2, tol=0.1, score=0.6953943786430464, total=   1.8s\n",
      "[CV] C=10, class_weight=balanced, penalty=l2, tol=0.1 ................\n",
      "[CV]  C=10, class_weight=balanced, penalty=l2, tol=0.1, score=0.7027363774848528, total=   1.9s\n",
      "[CV] C=10, class_weight=balanced, penalty=l2, tol=0.1 ................\n",
      "[CV]  C=10, class_weight=balanced, penalty=l2, tol=0.1, score=0.7160339913594752, total=   2.1s\n",
      "[CV] C=10, class_weight=balanced, penalty=l2, tol=0.1 ................\n",
      "[CV]  C=10, class_weight=balanced, penalty=l2, tol=0.1, score=0.7191325927596735, total=   1.9s\n",
      "[CV] C=10, class_weight=balanced, penalty=l2, tol=0.1 ................\n",
      "[CV]  C=10, class_weight=balanced, penalty=l2, tol=0.1, score=0.7102125662994697, total=   1.9s\n",
      "[CV] C=10, class_weight=balanced, penalty=l2, tol=1 ..................\n",
      "[CV]  C=10, class_weight=balanced, penalty=l2, tol=1, score=0.6963805888813434, total=   0.9s\n",
      "[CV] C=10, class_weight=balanced, penalty=l2, tol=1 ..................\n",
      "[CV]  C=10, class_weight=balanced, penalty=l2, tol=1, score=0.7043555092469648, total=   0.9s\n",
      "[CV] C=10, class_weight=balanced, penalty=l2, tol=1 ..................\n",
      "[CV]  C=10, class_weight=balanced, penalty=l2, tol=1, score=0.7153778354731136, total=   0.9s\n",
      "[CV] C=10, class_weight=balanced, penalty=l2, tol=1 ..................\n",
      "[CV]  C=10, class_weight=balanced, penalty=l2, tol=1, score=0.7200912831095212, total=   0.9s\n",
      "[CV] C=10, class_weight=balanced, penalty=l2, tol=1 ..................\n",
      "[CV]  C=10, class_weight=balanced, penalty=l2, tol=1, score=0.712074454970232, total=   1.0s\n",
      "[CV] C=10, class_weight=None, penalty=l1, tol=0.0001 .................\n",
      "[CV]  C=10, class_weight=None, penalty=l1, tol=0.0001, score=0, total=   0.0s\n",
      "[CV] C=10, class_weight=None, penalty=l1, tol=0.0001 .................\n",
      "[CV]  C=10, class_weight=None, penalty=l1, tol=0.0001, score=0, total=   0.0s\n",
      "[CV] C=10, class_weight=None, penalty=l1, tol=0.0001 .................\n",
      "[CV]  C=10, class_weight=None, penalty=l1, tol=0.0001, score=0, total=   0.0s\n",
      "[CV] C=10, class_weight=None, penalty=l1, tol=0.0001 .................\n",
      "[CV]  C=10, class_weight=None, penalty=l1, tol=0.0001, score=0, total=   0.0s\n",
      "[CV] C=10, class_weight=None, penalty=l1, tol=0.0001 .................\n",
      "[CV]  C=10, class_weight=None, penalty=l1, tol=0.0001, score=0, total=   0.0s\n",
      "[CV] C=10, class_weight=None, penalty=l1, tol=0.001 ..................\n",
      "[CV]  C=10, class_weight=None, penalty=l1, tol=0.001, score=0, total=   0.0s\n",
      "[CV] C=10, class_weight=None, penalty=l1, tol=0.001 ..................\n"
     ]
    },
    {
     "name": "stderr",
     "output_type": "stream",
     "text": [
      "/Library/Frameworks/Python.framework/Versions/3.6/lib/python3.6/site-packages/sklearn/model_selection/_validation.py:479: FitFailedWarning: Classifier fit failed. The score on this train-test partition for these parameters will be set to 0.000000. Details: \n",
      "ValueError(\"Unsupported set of arguments: The combination of penalty='l1' and loss='squared_hinge' are not supported when dual=True, Parameters: penalty='l1', loss='squared_hinge', dual=True\",)\n",
      "  \"Details: \\n%r\" % (error_score, e), FitFailedWarning)\n",
      "/Library/Frameworks/Python.framework/Versions/3.6/lib/python3.6/site-packages/sklearn/model_selection/_validation.py:479: FitFailedWarning: Classifier fit failed. The score on this train-test partition for these parameters will be set to 0.000000. Details: \n",
      "ValueError(\"Unsupported set of arguments: The combination of penalty='l1' and loss='squared_hinge' are not supported when dual=True, Parameters: penalty='l1', loss='squared_hinge', dual=True\",)\n",
      "  \"Details: \\n%r\" % (error_score, e), FitFailedWarning)\n",
      "/Library/Frameworks/Python.framework/Versions/3.6/lib/python3.6/site-packages/sklearn/model_selection/_validation.py:479: FitFailedWarning: Classifier fit failed. The score on this train-test partition for these parameters will be set to 0.000000. Details: \n",
      "ValueError(\"Unsupported set of arguments: The combination of penalty='l1' and loss='squared_hinge' are not supported when dual=True, Parameters: penalty='l1', loss='squared_hinge', dual=True\",)\n",
      "  \"Details: \\n%r\" % (error_score, e), FitFailedWarning)\n",
      "/Library/Frameworks/Python.framework/Versions/3.6/lib/python3.6/site-packages/sklearn/model_selection/_validation.py:479: FitFailedWarning: Classifier fit failed. The score on this train-test partition for these parameters will be set to 0.000000. Details: \n",
      "ValueError(\"Unsupported set of arguments: The combination of penalty='l1' and loss='squared_hinge' are not supported when dual=True, Parameters: penalty='l1', loss='squared_hinge', dual=True\",)\n",
      "  \"Details: \\n%r\" % (error_score, e), FitFailedWarning)\n",
      "/Library/Frameworks/Python.framework/Versions/3.6/lib/python3.6/site-packages/sklearn/model_selection/_validation.py:479: FitFailedWarning: Classifier fit failed. The score on this train-test partition for these parameters will be set to 0.000000. Details: \n",
      "ValueError(\"Unsupported set of arguments: The combination of penalty='l1' and loss='squared_hinge' are not supported when dual=True, Parameters: penalty='l1', loss='squared_hinge', dual=True\",)\n",
      "  \"Details: \\n%r\" % (error_score, e), FitFailedWarning)\n",
      "/Library/Frameworks/Python.framework/Versions/3.6/lib/python3.6/site-packages/sklearn/model_selection/_validation.py:479: FitFailedWarning: Classifier fit failed. The score on this train-test partition for these parameters will be set to 0.000000. Details: \n",
      "ValueError(\"Unsupported set of arguments: The combination of penalty='l1' and loss='squared_hinge' are not supported when dual=True, Parameters: penalty='l1', loss='squared_hinge', dual=True\",)\n",
      "  \"Details: \\n%r\" % (error_score, e), FitFailedWarning)\n",
      "/Library/Frameworks/Python.framework/Versions/3.6/lib/python3.6/site-packages/sklearn/model_selection/_validation.py:479: FitFailedWarning: Classifier fit failed. The score on this train-test partition for these parameters will be set to 0.000000. Details: \n",
      "ValueError(\"Unsupported set of arguments: The combination of penalty='l1' and loss='squared_hinge' are not supported when dual=True, Parameters: penalty='l1', loss='squared_hinge', dual=True\",)\n",
      "  \"Details: \\n%r\" % (error_score, e), FitFailedWarning)\n"
     ]
    },
    {
     "name": "stdout",
     "output_type": "stream",
     "text": [
      "[CV]  C=10, class_weight=None, penalty=l1, tol=0.001, score=0, total=   0.0s\n",
      "[CV] C=10, class_weight=None, penalty=l1, tol=0.001 ..................\n",
      "[CV]  C=10, class_weight=None, penalty=l1, tol=0.001, score=0, total=   0.0s\n",
      "[CV] C=10, class_weight=None, penalty=l1, tol=0.001 ..................\n",
      "[CV]  C=10, class_weight=None, penalty=l1, tol=0.001, score=0, total=   0.0s\n",
      "[CV] C=10, class_weight=None, penalty=l1, tol=0.001 ..................\n",
      "[CV]  C=10, class_weight=None, penalty=l1, tol=0.001, score=0, total=   0.0s\n",
      "[CV] C=10, class_weight=None, penalty=l1, tol=0.01 ...................\n",
      "[CV]  C=10, class_weight=None, penalty=l1, tol=0.01, score=0, total=   0.0s\n",
      "[CV] C=10, class_weight=None, penalty=l1, tol=0.01 ...................\n",
      "[CV]  C=10, class_weight=None, penalty=l1, tol=0.01, score=0, total=   0.0s\n",
      "[CV] C=10, class_weight=None, penalty=l1, tol=0.01 ...................\n",
      "[CV]  C=10, class_weight=None, penalty=l1, tol=0.01, score=0, total=   0.0s\n",
      "[CV] C=10, class_weight=None, penalty=l1, tol=0.01 ...................\n"
     ]
    },
    {
     "name": "stderr",
     "output_type": "stream",
     "text": [
      "/Library/Frameworks/Python.framework/Versions/3.6/lib/python3.6/site-packages/sklearn/model_selection/_validation.py:479: FitFailedWarning: Classifier fit failed. The score on this train-test partition for these parameters will be set to 0.000000. Details: \n",
      "ValueError(\"Unsupported set of arguments: The combination of penalty='l1' and loss='squared_hinge' are not supported when dual=True, Parameters: penalty='l1', loss='squared_hinge', dual=True\",)\n",
      "  \"Details: \\n%r\" % (error_score, e), FitFailedWarning)\n",
      "/Library/Frameworks/Python.framework/Versions/3.6/lib/python3.6/site-packages/sklearn/model_selection/_validation.py:479: FitFailedWarning: Classifier fit failed. The score on this train-test partition for these parameters will be set to 0.000000. Details: \n",
      "ValueError(\"Unsupported set of arguments: The combination of penalty='l1' and loss='squared_hinge' are not supported when dual=True, Parameters: penalty='l1', loss='squared_hinge', dual=True\",)\n",
      "  \"Details: \\n%r\" % (error_score, e), FitFailedWarning)\n",
      "/Library/Frameworks/Python.framework/Versions/3.6/lib/python3.6/site-packages/sklearn/model_selection/_validation.py:479: FitFailedWarning: Classifier fit failed. The score on this train-test partition for these parameters will be set to 0.000000. Details: \n",
      "ValueError(\"Unsupported set of arguments: The combination of penalty='l1' and loss='squared_hinge' are not supported when dual=True, Parameters: penalty='l1', loss='squared_hinge', dual=True\",)\n",
      "  \"Details: \\n%r\" % (error_score, e), FitFailedWarning)\n",
      "/Library/Frameworks/Python.framework/Versions/3.6/lib/python3.6/site-packages/sklearn/model_selection/_validation.py:479: FitFailedWarning: Classifier fit failed. The score on this train-test partition for these parameters will be set to 0.000000. Details: \n",
      "ValueError(\"Unsupported set of arguments: The combination of penalty='l1' and loss='squared_hinge' are not supported when dual=True, Parameters: penalty='l1', loss='squared_hinge', dual=True\",)\n",
      "  \"Details: \\n%r\" % (error_score, e), FitFailedWarning)\n",
      "/Library/Frameworks/Python.framework/Versions/3.6/lib/python3.6/site-packages/sklearn/model_selection/_validation.py:479: FitFailedWarning: Classifier fit failed. The score on this train-test partition for these parameters will be set to 0.000000. Details: \n",
      "ValueError(\"Unsupported set of arguments: The combination of penalty='l1' and loss='squared_hinge' are not supported when dual=True, Parameters: penalty='l1', loss='squared_hinge', dual=True\",)\n",
      "  \"Details: \\n%r\" % (error_score, e), FitFailedWarning)\n",
      "/Library/Frameworks/Python.framework/Versions/3.6/lib/python3.6/site-packages/sklearn/model_selection/_validation.py:479: FitFailedWarning: Classifier fit failed. The score on this train-test partition for these parameters will be set to 0.000000. Details: \n",
      "ValueError(\"Unsupported set of arguments: The combination of penalty='l1' and loss='squared_hinge' are not supported when dual=True, Parameters: penalty='l1', loss='squared_hinge', dual=True\",)\n",
      "  \"Details: \\n%r\" % (error_score, e), FitFailedWarning)\n",
      "/Library/Frameworks/Python.framework/Versions/3.6/lib/python3.6/site-packages/sklearn/model_selection/_validation.py:479: FitFailedWarning: Classifier fit failed. The score on this train-test partition for these parameters will be set to 0.000000. Details: \n",
      "ValueError(\"Unsupported set of arguments: The combination of penalty='l1' and loss='squared_hinge' are not supported when dual=True, Parameters: penalty='l1', loss='squared_hinge', dual=True\",)\n",
      "  \"Details: \\n%r\" % (error_score, e), FitFailedWarning)\n"
     ]
    },
    {
     "name": "stdout",
     "output_type": "stream",
     "text": [
      "[CV]  C=10, class_weight=None, penalty=l1, tol=0.01, score=0, total=   0.0s\n",
      "[CV] C=10, class_weight=None, penalty=l1, tol=0.01 ...................\n",
      "[CV]  C=10, class_weight=None, penalty=l1, tol=0.01, score=0, total=   0.0s\n",
      "[CV] C=10, class_weight=None, penalty=l1, tol=0.1 ....................\n",
      "[CV]  C=10, class_weight=None, penalty=l1, tol=0.1, score=0, total=   0.0s\n",
      "[CV] C=10, class_weight=None, penalty=l1, tol=0.1 ....................\n",
      "[CV]  C=10, class_weight=None, penalty=l1, tol=0.1, score=0, total=   0.0s\n",
      "[CV] C=10, class_weight=None, penalty=l1, tol=0.1 ....................\n",
      "[CV]  C=10, class_weight=None, penalty=l1, tol=0.1, score=0, total=   0.0s\n",
      "[CV] C=10, class_weight=None, penalty=l1, tol=0.1 ....................\n",
      "[CV]  C=10, class_weight=None, penalty=l1, tol=0.1, score=0, total=   0.0s\n",
      "[CV] C=10, class_weight=None, penalty=l1, tol=0.1 ....................\n",
      "[CV]  C=10, class_weight=None, penalty=l1, tol=0.1, score=0, total=   0.0s\n",
      "[CV] C=10, class_weight=None, penalty=l1, tol=1 ......................\n"
     ]
    },
    {
     "name": "stderr",
     "output_type": "stream",
     "text": [
      "/Library/Frameworks/Python.framework/Versions/3.6/lib/python3.6/site-packages/sklearn/model_selection/_validation.py:479: FitFailedWarning: Classifier fit failed. The score on this train-test partition for these parameters will be set to 0.000000. Details: \n",
      "ValueError(\"Unsupported set of arguments: The combination of penalty='l1' and loss='squared_hinge' are not supported when dual=True, Parameters: penalty='l1', loss='squared_hinge', dual=True\",)\n",
      "  \"Details: \\n%r\" % (error_score, e), FitFailedWarning)\n",
      "/Library/Frameworks/Python.framework/Versions/3.6/lib/python3.6/site-packages/sklearn/model_selection/_validation.py:479: FitFailedWarning: Classifier fit failed. The score on this train-test partition for these parameters will be set to 0.000000. Details: \n",
      "ValueError(\"Unsupported set of arguments: The combination of penalty='l1' and loss='squared_hinge' are not supported when dual=True, Parameters: penalty='l1', loss='squared_hinge', dual=True\",)\n",
      "  \"Details: \\n%r\" % (error_score, e), FitFailedWarning)\n",
      "/Library/Frameworks/Python.framework/Versions/3.6/lib/python3.6/site-packages/sklearn/model_selection/_validation.py:479: FitFailedWarning: Classifier fit failed. The score on this train-test partition for these parameters will be set to 0.000000. Details: \n",
      "ValueError(\"Unsupported set of arguments: The combination of penalty='l1' and loss='squared_hinge' are not supported when dual=True, Parameters: penalty='l1', loss='squared_hinge', dual=True\",)\n",
      "  \"Details: \\n%r\" % (error_score, e), FitFailedWarning)\n",
      "/Library/Frameworks/Python.framework/Versions/3.6/lib/python3.6/site-packages/sklearn/model_selection/_validation.py:479: FitFailedWarning: Classifier fit failed. The score on this train-test partition for these parameters will be set to 0.000000. Details: \n",
      "ValueError(\"Unsupported set of arguments: The combination of penalty='l1' and loss='squared_hinge' are not supported when dual=True, Parameters: penalty='l1', loss='squared_hinge', dual=True\",)\n",
      "  \"Details: \\n%r\" % (error_score, e), FitFailedWarning)\n",
      "/Library/Frameworks/Python.framework/Versions/3.6/lib/python3.6/site-packages/sklearn/model_selection/_validation.py:479: FitFailedWarning: Classifier fit failed. The score on this train-test partition for these parameters will be set to 0.000000. Details: \n",
      "ValueError(\"Unsupported set of arguments: The combination of penalty='l1' and loss='squared_hinge' are not supported when dual=True, Parameters: penalty='l1', loss='squared_hinge', dual=True\",)\n",
      "  \"Details: \\n%r\" % (error_score, e), FitFailedWarning)\n",
      "/Library/Frameworks/Python.framework/Versions/3.6/lib/python3.6/site-packages/sklearn/model_selection/_validation.py:479: FitFailedWarning: Classifier fit failed. The score on this train-test partition for these parameters will be set to 0.000000. Details: \n",
      "ValueError(\"Unsupported set of arguments: The combination of penalty='l1' and loss='squared_hinge' are not supported when dual=True, Parameters: penalty='l1', loss='squared_hinge', dual=True\",)\n",
      "  \"Details: \\n%r\" % (error_score, e), FitFailedWarning)\n",
      "/Library/Frameworks/Python.framework/Versions/3.6/lib/python3.6/site-packages/sklearn/model_selection/_validation.py:479: FitFailedWarning: Classifier fit failed. The score on this train-test partition for these parameters will be set to 0.000000. Details: \n",
      "ValueError(\"Unsupported set of arguments: The combination of penalty='l1' and loss='squared_hinge' are not supported when dual=True, Parameters: penalty='l1', loss='squared_hinge', dual=True\",)\n",
      "  \"Details: \\n%r\" % (error_score, e), FitFailedWarning)\n"
     ]
    },
    {
     "name": "stdout",
     "output_type": "stream",
     "text": [
      "[CV]  C=10, class_weight=None, penalty=l1, tol=1, score=0, total=   0.0s\n",
      "[CV] C=10, class_weight=None, penalty=l1, tol=1 ......................\n",
      "[CV]  C=10, class_weight=None, penalty=l1, tol=1, score=0, total=   0.0s\n",
      "[CV] C=10, class_weight=None, penalty=l1, tol=1 ......................\n",
      "[CV]  C=10, class_weight=None, penalty=l1, tol=1, score=0, total=   0.0s\n",
      "[CV] C=10, class_weight=None, penalty=l1, tol=1 ......................\n",
      "[CV]  C=10, class_weight=None, penalty=l1, tol=1, score=0, total=   0.0s\n",
      "[CV] C=10, class_weight=None, penalty=l1, tol=1 ......................\n",
      "[CV]  C=10, class_weight=None, penalty=l1, tol=1, score=0, total=   0.0s\n",
      "[CV] C=10, class_weight=None, penalty=l2, tol=0.0001 .................\n"
     ]
    },
    {
     "name": "stderr",
     "output_type": "stream",
     "text": [
      "/Library/Frameworks/Python.framework/Versions/3.6/lib/python3.6/site-packages/sklearn/model_selection/_validation.py:479: FitFailedWarning: Classifier fit failed. The score on this train-test partition for these parameters will be set to 0.000000. Details: \n",
      "ValueError(\"Unsupported set of arguments: The combination of penalty='l1' and loss='squared_hinge' are not supported when dual=True, Parameters: penalty='l1', loss='squared_hinge', dual=True\",)\n",
      "  \"Details: \\n%r\" % (error_score, e), FitFailedWarning)\n",
      "/Library/Frameworks/Python.framework/Versions/3.6/lib/python3.6/site-packages/sklearn/model_selection/_validation.py:479: FitFailedWarning: Classifier fit failed. The score on this train-test partition for these parameters will be set to 0.000000. Details: \n",
      "ValueError(\"Unsupported set of arguments: The combination of penalty='l1' and loss='squared_hinge' are not supported when dual=True, Parameters: penalty='l1', loss='squared_hinge', dual=True\",)\n",
      "  \"Details: \\n%r\" % (error_score, e), FitFailedWarning)\n",
      "/Library/Frameworks/Python.framework/Versions/3.6/lib/python3.6/site-packages/sklearn/model_selection/_validation.py:479: FitFailedWarning: Classifier fit failed. The score on this train-test partition for these parameters will be set to 0.000000. Details: \n",
      "ValueError(\"Unsupported set of arguments: The combination of penalty='l1' and loss='squared_hinge' are not supported when dual=True, Parameters: penalty='l1', loss='squared_hinge', dual=True\",)\n",
      "  \"Details: \\n%r\" % (error_score, e), FitFailedWarning)\n",
      "/Library/Frameworks/Python.framework/Versions/3.6/lib/python3.6/site-packages/sklearn/model_selection/_validation.py:479: FitFailedWarning: Classifier fit failed. The score on this train-test partition for these parameters will be set to 0.000000. Details: \n",
      "ValueError(\"Unsupported set of arguments: The combination of penalty='l1' and loss='squared_hinge' are not supported when dual=True, Parameters: penalty='l1', loss='squared_hinge', dual=True\",)\n",
      "  \"Details: \\n%r\" % (error_score, e), FitFailedWarning)\n"
     ]
    },
    {
     "name": "stdout",
     "output_type": "stream",
     "text": [
      "[CV]  C=10, class_weight=None, penalty=l2, tol=0.0001, score=0.6992818933049888, total=   4.5s\n",
      "[CV] C=10, class_weight=None, penalty=l2, tol=0.0001 .................\n",
      "[CV]  C=10, class_weight=None, penalty=l2, tol=0.0001, score=0.7021240949025458, total=   4.3s\n",
      "[CV] C=10, class_weight=None, penalty=l2, tol=0.0001 .................\n",
      "[CV]  C=10, class_weight=None, penalty=l2, tol=0.0001, score=0.7175720958093272, total=   4.0s\n",
      "[CV] C=10, class_weight=None, penalty=l2, tol=0.0001 .................\n",
      "[CV]  C=10, class_weight=None, penalty=l2, tol=0.0001, score=0.719560963363184, total=   4.0s\n",
      "[CV] C=10, class_weight=None, penalty=l2, tol=0.0001 .................\n",
      "[CV]  C=10, class_weight=None, penalty=l2, tol=0.0001, score=0.7097145880757646, total=   4.3s\n",
      "[CV] C=10, class_weight=None, penalty=l2, tol=0.001 ..................\n",
      "[CV]  C=10, class_weight=None, penalty=l2, tol=0.001, score=0.6992818933049888, total=   3.4s\n",
      "[CV] C=10, class_weight=None, penalty=l2, tol=0.001 ..................\n",
      "[CV]  C=10, class_weight=None, penalty=l2, tol=0.001, score=0.7021240949025458, total=   3.2s\n",
      "[CV] C=10, class_weight=None, penalty=l2, tol=0.001 ..................\n",
      "[CV]  C=10, class_weight=None, penalty=l2, tol=0.001, score=0.7175720958093272, total=   3.3s\n",
      "[CV] C=10, class_weight=None, penalty=l2, tol=0.001 ..................\n",
      "[CV]  C=10, class_weight=None, penalty=l2, tol=0.001, score=0.719560963363184, total=   3.4s\n",
      "[CV] C=10, class_weight=None, penalty=l2, tol=0.001 ..................\n",
      "[CV]  C=10, class_weight=None, penalty=l2, tol=0.001, score=0.7097145880757646, total=   3.5s\n",
      "[CV] C=10, class_weight=None, penalty=l2, tol=0.01 ...................\n",
      "[CV]  C=10, class_weight=None, penalty=l2, tol=0.01, score=0.6992818933049888, total=   2.4s\n",
      "[CV] C=10, class_weight=None, penalty=l2, tol=0.01 ...................\n",
      "[CV]  C=10, class_weight=None, penalty=l2, tol=0.01, score=0.7021240949025458, total=   2.5s\n",
      "[CV] C=10, class_weight=None, penalty=l2, tol=0.01 ...................\n",
      "[CV]  C=10, class_weight=None, penalty=l2, tol=0.01, score=0.7175720958093272, total=   2.4s\n",
      "[CV] C=10, class_weight=None, penalty=l2, tol=0.01 ...................\n",
      "[CV]  C=10, class_weight=None, penalty=l2, tol=0.01, score=0.7199107765137995, total=   2.4s\n",
      "[CV] C=10, class_weight=None, penalty=l2, tol=0.01 ...................\n",
      "[CV]  C=10, class_weight=None, penalty=l2, tol=0.01, score=0.7097145880757646, total=   2.5s\n",
      "[CV] C=10, class_weight=None, penalty=l2, tol=0.1 ....................\n",
      "[CV]  C=10, class_weight=None, penalty=l2, tol=0.1, score=0.6992818933049888, total=   1.7s\n",
      "[CV] C=10, class_weight=None, penalty=l2, tol=0.1 ....................\n",
      "[CV]  C=10, class_weight=None, penalty=l2, tol=0.1, score=0.7021240949025458, total=   1.6s\n",
      "[CV] C=10, class_weight=None, penalty=l2, tol=0.1 ....................\n",
      "[CV]  C=10, class_weight=None, penalty=l2, tol=0.1, score=0.7175720958093272, total=   1.7s\n",
      "[CV] C=10, class_weight=None, penalty=l2, tol=0.1 ....................\n",
      "[CV]  C=10, class_weight=None, penalty=l2, tol=0.1, score=0.7190550004744084, total=   1.6s\n",
      "[CV] C=10, class_weight=None, penalty=l2, tol=0.1 ....................\n",
      "[CV]  C=10, class_weight=None, penalty=l2, tol=0.1, score=0.7097145880757646, total=   1.7s\n",
      "[CV] C=10, class_weight=None, penalty=l2, tol=1 ......................\n",
      "[CV]  C=10, class_weight=None, penalty=l2, tol=1, score=0.7020222779801298, total=   0.8s\n",
      "[CV] C=10, class_weight=None, penalty=l2, tol=1 ......................\n",
      "[CV]  C=10, class_weight=None, penalty=l2, tol=1, score=0.7063961180677517, total=   0.9s\n",
      "[CV] C=10, class_weight=None, penalty=l2, tol=1 ......................\n",
      "[CV]  C=10, class_weight=None, penalty=l2, tol=1, score=0.71924418368053, total=   0.9s\n",
      "[CV] C=10, class_weight=None, penalty=l2, tol=1 ......................\n",
      "[CV]  C=10, class_weight=None, penalty=l2, tol=1, score=0.7185783716695086, total=   0.8s\n",
      "[CV] C=10, class_weight=None, penalty=l2, tol=1 ......................\n",
      "[CV]  C=10, class_weight=None, penalty=l2, tol=1, score=0.7122528140522165, total=   0.9s\n",
      "[CV] C=100, class_weight=balanced, penalty=l1, tol=0.0001 ............\n",
      "[CV]  C=100, class_weight=balanced, penalty=l1, tol=0.0001, score=0, total=   0.0s\n",
      "[CV] C=100, class_weight=balanced, penalty=l1, tol=0.0001 ............\n",
      "[CV]  C=100, class_weight=balanced, penalty=l1, tol=0.0001, score=0, total=   0.0s\n",
      "[CV] C=100, class_weight=balanced, penalty=l1, tol=0.0001 ............\n",
      "[CV]  C=100, class_weight=balanced, penalty=l1, tol=0.0001, score=0, total=   0.0s\n",
      "[CV] C=100, class_weight=balanced, penalty=l1, tol=0.0001 ............\n",
      "[CV]  C=100, class_weight=balanced, penalty=l1, tol=0.0001, score=0, total=   0.0s\n",
      "[CV] C=100, class_weight=balanced, penalty=l1, tol=0.0001 ............\n",
      "[CV]  C=100, class_weight=balanced, penalty=l1, tol=0.0001, score=0, total=   0.0s\n",
      "[CV] C=100, class_weight=balanced, penalty=l1, tol=0.001 .............\n",
      "[CV]  C=100, class_weight=balanced, penalty=l1, tol=0.001, score=0, total=   0.0s\n",
      "[CV] C=100, class_weight=balanced, penalty=l1, tol=0.001 .............\n"
     ]
    },
    {
     "name": "stderr",
     "output_type": "stream",
     "text": [
      "/Library/Frameworks/Python.framework/Versions/3.6/lib/python3.6/site-packages/sklearn/model_selection/_validation.py:479: FitFailedWarning: Classifier fit failed. The score on this train-test partition for these parameters will be set to 0.000000. Details: \n",
      "ValueError(\"Unsupported set of arguments: The combination of penalty='l1' and loss='squared_hinge' are not supported when dual=True, Parameters: penalty='l1', loss='squared_hinge', dual=True\",)\n",
      "  \"Details: \\n%r\" % (error_score, e), FitFailedWarning)\n",
      "/Library/Frameworks/Python.framework/Versions/3.6/lib/python3.6/site-packages/sklearn/model_selection/_validation.py:479: FitFailedWarning: Classifier fit failed. The score on this train-test partition for these parameters will be set to 0.000000. Details: \n",
      "ValueError(\"Unsupported set of arguments: The combination of penalty='l1' and loss='squared_hinge' are not supported when dual=True, Parameters: penalty='l1', loss='squared_hinge', dual=True\",)\n",
      "  \"Details: \\n%r\" % (error_score, e), FitFailedWarning)\n",
      "/Library/Frameworks/Python.framework/Versions/3.6/lib/python3.6/site-packages/sklearn/model_selection/_validation.py:479: FitFailedWarning: Classifier fit failed. The score on this train-test partition for these parameters will be set to 0.000000. Details: \n",
      "ValueError(\"Unsupported set of arguments: The combination of penalty='l1' and loss='squared_hinge' are not supported when dual=True, Parameters: penalty='l1', loss='squared_hinge', dual=True\",)\n",
      "  \"Details: \\n%r\" % (error_score, e), FitFailedWarning)\n",
      "/Library/Frameworks/Python.framework/Versions/3.6/lib/python3.6/site-packages/sklearn/model_selection/_validation.py:479: FitFailedWarning: Classifier fit failed. The score on this train-test partition for these parameters will be set to 0.000000. Details: \n",
      "ValueError(\"Unsupported set of arguments: The combination of penalty='l1' and loss='squared_hinge' are not supported when dual=True, Parameters: penalty='l1', loss='squared_hinge', dual=True\",)\n",
      "  \"Details: \\n%r\" % (error_score, e), FitFailedWarning)\n",
      "/Library/Frameworks/Python.framework/Versions/3.6/lib/python3.6/site-packages/sklearn/model_selection/_validation.py:479: FitFailedWarning: Classifier fit failed. The score on this train-test partition for these parameters will be set to 0.000000. Details: \n",
      "ValueError(\"Unsupported set of arguments: The combination of penalty='l1' and loss='squared_hinge' are not supported when dual=True, Parameters: penalty='l1', loss='squared_hinge', dual=True\",)\n",
      "  \"Details: \\n%r\" % (error_score, e), FitFailedWarning)\n",
      "/Library/Frameworks/Python.framework/Versions/3.6/lib/python3.6/site-packages/sklearn/model_selection/_validation.py:479: FitFailedWarning: Classifier fit failed. The score on this train-test partition for these parameters will be set to 0.000000. Details: \n",
      "ValueError(\"Unsupported set of arguments: The combination of penalty='l1' and loss='squared_hinge' are not supported when dual=True, Parameters: penalty='l1', loss='squared_hinge', dual=True\",)\n",
      "  \"Details: \\n%r\" % (error_score, e), FitFailedWarning)\n",
      "/Library/Frameworks/Python.framework/Versions/3.6/lib/python3.6/site-packages/sklearn/model_selection/_validation.py:479: FitFailedWarning: Classifier fit failed. The score on this train-test partition for these parameters will be set to 0.000000. Details: \n",
      "ValueError(\"Unsupported set of arguments: The combination of penalty='l1' and loss='squared_hinge' are not supported when dual=True, Parameters: penalty='l1', loss='squared_hinge', dual=True\",)\n",
      "  \"Details: \\n%r\" % (error_score, e), FitFailedWarning)\n"
     ]
    },
    {
     "name": "stdout",
     "output_type": "stream",
     "text": [
      "[CV]  C=100, class_weight=balanced, penalty=l1, tol=0.001, score=0, total=   0.0s\n",
      "[CV] C=100, class_weight=balanced, penalty=l1, tol=0.001 .............\n",
      "[CV]  C=100, class_weight=balanced, penalty=l1, tol=0.001, score=0, total=   0.0s\n",
      "[CV] C=100, class_weight=balanced, penalty=l1, tol=0.001 .............\n",
      "[CV]  C=100, class_weight=balanced, penalty=l1, tol=0.001, score=0, total=   0.0s\n",
      "[CV] C=100, class_weight=balanced, penalty=l1, tol=0.001 .............\n",
      "[CV]  C=100, class_weight=balanced, penalty=l1, tol=0.001, score=0, total=   0.0s\n",
      "[CV] C=100, class_weight=balanced, penalty=l1, tol=0.01 ..............\n",
      "[CV]  C=100, class_weight=balanced, penalty=l1, tol=0.01, score=0, total=   0.0s\n",
      "[CV] C=100, class_weight=balanced, penalty=l1, tol=0.01 ..............\n",
      "[CV]  C=100, class_weight=balanced, penalty=l1, tol=0.01, score=0, total=   0.0s\n",
      "[CV] C=100, class_weight=balanced, penalty=l1, tol=0.01 ..............\n",
      "[CV]  C=100, class_weight=balanced, penalty=l1, tol=0.01, score=0, total=   0.0s\n",
      "[CV] C=100, class_weight=balanced, penalty=l1, tol=0.01 ..............\n"
     ]
    },
    {
     "name": "stderr",
     "output_type": "stream",
     "text": [
      "/Library/Frameworks/Python.framework/Versions/3.6/lib/python3.6/site-packages/sklearn/model_selection/_validation.py:479: FitFailedWarning: Classifier fit failed. The score on this train-test partition for these parameters will be set to 0.000000. Details: \n",
      "ValueError(\"Unsupported set of arguments: The combination of penalty='l1' and loss='squared_hinge' are not supported when dual=True, Parameters: penalty='l1', loss='squared_hinge', dual=True\",)\n",
      "  \"Details: \\n%r\" % (error_score, e), FitFailedWarning)\n",
      "/Library/Frameworks/Python.framework/Versions/3.6/lib/python3.6/site-packages/sklearn/model_selection/_validation.py:479: FitFailedWarning: Classifier fit failed. The score on this train-test partition for these parameters will be set to 0.000000. Details: \n",
      "ValueError(\"Unsupported set of arguments: The combination of penalty='l1' and loss='squared_hinge' are not supported when dual=True, Parameters: penalty='l1', loss='squared_hinge', dual=True\",)\n",
      "  \"Details: \\n%r\" % (error_score, e), FitFailedWarning)\n",
      "/Library/Frameworks/Python.framework/Versions/3.6/lib/python3.6/site-packages/sklearn/model_selection/_validation.py:479: FitFailedWarning: Classifier fit failed. The score on this train-test partition for these parameters will be set to 0.000000. Details: \n",
      "ValueError(\"Unsupported set of arguments: The combination of penalty='l1' and loss='squared_hinge' are not supported when dual=True, Parameters: penalty='l1', loss='squared_hinge', dual=True\",)\n",
      "  \"Details: \\n%r\" % (error_score, e), FitFailedWarning)\n",
      "/Library/Frameworks/Python.framework/Versions/3.6/lib/python3.6/site-packages/sklearn/model_selection/_validation.py:479: FitFailedWarning: Classifier fit failed. The score on this train-test partition for these parameters will be set to 0.000000. Details: \n",
      "ValueError(\"Unsupported set of arguments: The combination of penalty='l1' and loss='squared_hinge' are not supported when dual=True, Parameters: penalty='l1', loss='squared_hinge', dual=True\",)\n",
      "  \"Details: \\n%r\" % (error_score, e), FitFailedWarning)\n",
      "/Library/Frameworks/Python.framework/Versions/3.6/lib/python3.6/site-packages/sklearn/model_selection/_validation.py:479: FitFailedWarning: Classifier fit failed. The score on this train-test partition for these parameters will be set to 0.000000. Details: \n",
      "ValueError(\"Unsupported set of arguments: The combination of penalty='l1' and loss='squared_hinge' are not supported when dual=True, Parameters: penalty='l1', loss='squared_hinge', dual=True\",)\n",
      "  \"Details: \\n%r\" % (error_score, e), FitFailedWarning)\n",
      "/Library/Frameworks/Python.framework/Versions/3.6/lib/python3.6/site-packages/sklearn/model_selection/_validation.py:479: FitFailedWarning: Classifier fit failed. The score on this train-test partition for these parameters will be set to 0.000000. Details: \n",
      "ValueError(\"Unsupported set of arguments: The combination of penalty='l1' and loss='squared_hinge' are not supported when dual=True, Parameters: penalty='l1', loss='squared_hinge', dual=True\",)\n",
      "  \"Details: \\n%r\" % (error_score, e), FitFailedWarning)\n",
      "/Library/Frameworks/Python.framework/Versions/3.6/lib/python3.6/site-packages/sklearn/model_selection/_validation.py:479: FitFailedWarning: Classifier fit failed. The score on this train-test partition for these parameters will be set to 0.000000. Details: \n",
      "ValueError(\"Unsupported set of arguments: The combination of penalty='l1' and loss='squared_hinge' are not supported when dual=True, Parameters: penalty='l1', loss='squared_hinge', dual=True\",)\n",
      "  \"Details: \\n%r\" % (error_score, e), FitFailedWarning)\n"
     ]
    },
    {
     "name": "stdout",
     "output_type": "stream",
     "text": [
      "[CV]  C=100, class_weight=balanced, penalty=l1, tol=0.01, score=0, total=   0.0s\n",
      "[CV] C=100, class_weight=balanced, penalty=l1, tol=0.01 ..............\n",
      "[CV]  C=100, class_weight=balanced, penalty=l1, tol=0.01, score=0, total=   0.0s\n",
      "[CV] C=100, class_weight=balanced, penalty=l1, tol=0.1 ...............\n",
      "[CV]  C=100, class_weight=balanced, penalty=l1, tol=0.1, score=0, total=   0.0s\n",
      "[CV] C=100, class_weight=balanced, penalty=l1, tol=0.1 ...............\n",
      "[CV]  C=100, class_weight=balanced, penalty=l1, tol=0.1, score=0, total=   0.0s\n",
      "[CV] C=100, class_weight=balanced, penalty=l1, tol=0.1 ...............\n",
      "[CV]  C=100, class_weight=balanced, penalty=l1, tol=0.1, score=0, total=   0.0s\n",
      "[CV] C=100, class_weight=balanced, penalty=l1, tol=0.1 ...............\n",
      "[CV]  C=100, class_weight=balanced, penalty=l1, tol=0.1, score=0, total=   0.0s\n",
      "[CV] C=100, class_weight=balanced, penalty=l1, tol=0.1 ...............\n",
      "[CV]  C=100, class_weight=balanced, penalty=l1, tol=0.1, score=0, total=   0.0s\n",
      "[CV] C=100, class_weight=balanced, penalty=l1, tol=1 .................\n"
     ]
    },
    {
     "name": "stderr",
     "output_type": "stream",
     "text": [
      "/Library/Frameworks/Python.framework/Versions/3.6/lib/python3.6/site-packages/sklearn/model_selection/_validation.py:479: FitFailedWarning: Classifier fit failed. The score on this train-test partition for these parameters will be set to 0.000000. Details: \n",
      "ValueError(\"Unsupported set of arguments: The combination of penalty='l1' and loss='squared_hinge' are not supported when dual=True, Parameters: penalty='l1', loss='squared_hinge', dual=True\",)\n",
      "  \"Details: \\n%r\" % (error_score, e), FitFailedWarning)\n",
      "/Library/Frameworks/Python.framework/Versions/3.6/lib/python3.6/site-packages/sklearn/model_selection/_validation.py:479: FitFailedWarning: Classifier fit failed. The score on this train-test partition for these parameters will be set to 0.000000. Details: \n",
      "ValueError(\"Unsupported set of arguments: The combination of penalty='l1' and loss='squared_hinge' are not supported when dual=True, Parameters: penalty='l1', loss='squared_hinge', dual=True\",)\n",
      "  \"Details: \\n%r\" % (error_score, e), FitFailedWarning)\n",
      "/Library/Frameworks/Python.framework/Versions/3.6/lib/python3.6/site-packages/sklearn/model_selection/_validation.py:479: FitFailedWarning: Classifier fit failed. The score on this train-test partition for these parameters will be set to 0.000000. Details: \n",
      "ValueError(\"Unsupported set of arguments: The combination of penalty='l1' and loss='squared_hinge' are not supported when dual=True, Parameters: penalty='l1', loss='squared_hinge', dual=True\",)\n",
      "  \"Details: \\n%r\" % (error_score, e), FitFailedWarning)\n",
      "/Library/Frameworks/Python.framework/Versions/3.6/lib/python3.6/site-packages/sklearn/model_selection/_validation.py:479: FitFailedWarning: Classifier fit failed. The score on this train-test partition for these parameters will be set to 0.000000. Details: \n",
      "ValueError(\"Unsupported set of arguments: The combination of penalty='l1' and loss='squared_hinge' are not supported when dual=True, Parameters: penalty='l1', loss='squared_hinge', dual=True\",)\n",
      "  \"Details: \\n%r\" % (error_score, e), FitFailedWarning)\n",
      "/Library/Frameworks/Python.framework/Versions/3.6/lib/python3.6/site-packages/sklearn/model_selection/_validation.py:479: FitFailedWarning: Classifier fit failed. The score on this train-test partition for these parameters will be set to 0.000000. Details: \n",
      "ValueError(\"Unsupported set of arguments: The combination of penalty='l1' and loss='squared_hinge' are not supported when dual=True, Parameters: penalty='l1', loss='squared_hinge', dual=True\",)\n",
      "  \"Details: \\n%r\" % (error_score, e), FitFailedWarning)\n",
      "/Library/Frameworks/Python.framework/Versions/3.6/lib/python3.6/site-packages/sklearn/model_selection/_validation.py:479: FitFailedWarning: Classifier fit failed. The score on this train-test partition for these parameters will be set to 0.000000. Details: \n",
      "ValueError(\"Unsupported set of arguments: The combination of penalty='l1' and loss='squared_hinge' are not supported when dual=True, Parameters: penalty='l1', loss='squared_hinge', dual=True\",)\n",
      "  \"Details: \\n%r\" % (error_score, e), FitFailedWarning)\n",
      "/Library/Frameworks/Python.framework/Versions/3.6/lib/python3.6/site-packages/sklearn/model_selection/_validation.py:479: FitFailedWarning: Classifier fit failed. The score on this train-test partition for these parameters will be set to 0.000000. Details: \n",
      "ValueError(\"Unsupported set of arguments: The combination of penalty='l1' and loss='squared_hinge' are not supported when dual=True, Parameters: penalty='l1', loss='squared_hinge', dual=True\",)\n",
      "  \"Details: \\n%r\" % (error_score, e), FitFailedWarning)\n"
     ]
    },
    {
     "name": "stdout",
     "output_type": "stream",
     "text": [
      "[CV]  C=100, class_weight=balanced, penalty=l1, tol=1, score=0, total=   0.0s\n",
      "[CV] C=100, class_weight=balanced, penalty=l1, tol=1 .................\n",
      "[CV]  C=100, class_weight=balanced, penalty=l1, tol=1, score=0, total=   0.0s\n",
      "[CV] C=100, class_weight=balanced, penalty=l1, tol=1 .................\n",
      "[CV]  C=100, class_weight=balanced, penalty=l1, tol=1, score=0, total=   0.0s\n",
      "[CV] C=100, class_weight=balanced, penalty=l1, tol=1 .................\n",
      "[CV]  C=100, class_weight=balanced, penalty=l1, tol=1, score=0, total=   0.0s\n",
      "[CV] C=100, class_weight=balanced, penalty=l1, tol=1 .................\n",
      "[CV]  C=100, class_weight=balanced, penalty=l1, tol=1, score=0, total=   0.0s\n",
      "[CV] C=100, class_weight=balanced, penalty=l2, tol=0.0001 ............\n"
     ]
    },
    {
     "name": "stderr",
     "output_type": "stream",
     "text": [
      "/Library/Frameworks/Python.framework/Versions/3.6/lib/python3.6/site-packages/sklearn/model_selection/_validation.py:479: FitFailedWarning: Classifier fit failed. The score on this train-test partition for these parameters will be set to 0.000000. Details: \n",
      "ValueError(\"Unsupported set of arguments: The combination of penalty='l1' and loss='squared_hinge' are not supported when dual=True, Parameters: penalty='l1', loss='squared_hinge', dual=True\",)\n",
      "  \"Details: \\n%r\" % (error_score, e), FitFailedWarning)\n",
      "/Library/Frameworks/Python.framework/Versions/3.6/lib/python3.6/site-packages/sklearn/model_selection/_validation.py:479: FitFailedWarning: Classifier fit failed. The score on this train-test partition for these parameters will be set to 0.000000. Details: \n",
      "ValueError(\"Unsupported set of arguments: The combination of penalty='l1' and loss='squared_hinge' are not supported when dual=True, Parameters: penalty='l1', loss='squared_hinge', dual=True\",)\n",
      "  \"Details: \\n%r\" % (error_score, e), FitFailedWarning)\n",
      "/Library/Frameworks/Python.framework/Versions/3.6/lib/python3.6/site-packages/sklearn/model_selection/_validation.py:479: FitFailedWarning: Classifier fit failed. The score on this train-test partition for these parameters will be set to 0.000000. Details: \n",
      "ValueError(\"Unsupported set of arguments: The combination of penalty='l1' and loss='squared_hinge' are not supported when dual=True, Parameters: penalty='l1', loss='squared_hinge', dual=True\",)\n",
      "  \"Details: \\n%r\" % (error_score, e), FitFailedWarning)\n",
      "/Library/Frameworks/Python.framework/Versions/3.6/lib/python3.6/site-packages/sklearn/model_selection/_validation.py:479: FitFailedWarning: Classifier fit failed. The score on this train-test partition for these parameters will be set to 0.000000. Details: \n",
      "ValueError(\"Unsupported set of arguments: The combination of penalty='l1' and loss='squared_hinge' are not supported when dual=True, Parameters: penalty='l1', loss='squared_hinge', dual=True\",)\n",
      "  \"Details: \\n%r\" % (error_score, e), FitFailedWarning)\n"
     ]
    },
    {
     "name": "stdout",
     "output_type": "stream",
     "text": [
      "[CV]  C=100, class_weight=balanced, penalty=l2, tol=0.0001, score=0.6636026406062215, total=  11.0s\n",
      "[CV] C=100, class_weight=balanced, penalty=l2, tol=0.0001 ............\n",
      "[CV]  C=100, class_weight=balanced, penalty=l2, tol=0.0001, score=0.6737134134959163, total=  11.9s\n",
      "[CV] C=100, class_weight=balanced, penalty=l2, tol=0.0001 ............\n",
      "[CV]  C=100, class_weight=balanced, penalty=l2, tol=0.0001, score=0.6928035257108079, total=  10.6s\n",
      "[CV] C=100, class_weight=balanced, penalty=l2, tol=0.0001 ............\n",
      "[CV]  C=100, class_weight=balanced, penalty=l2, tol=0.0001, score=0.6959921784100302, total=  10.2s\n",
      "[CV] C=100, class_weight=balanced, penalty=l2, tol=0.0001 ............\n",
      "[CV]  C=100, class_weight=balanced, penalty=l2, tol=0.0001, score=0.6886779405863375, total=  10.5s\n",
      "[CV] C=100, class_weight=balanced, penalty=l2, tol=0.001 .............\n",
      "[CV]  C=100, class_weight=balanced, penalty=l2, tol=0.001, score=0.6650595921931505, total=  10.9s\n",
      "[CV] C=100, class_weight=balanced, penalty=l2, tol=0.001 .............\n",
      "[CV]  C=100, class_weight=balanced, penalty=l2, tol=0.001, score=0.6730315549619371, total=  10.2s\n",
      "[CV] C=100, class_weight=balanced, penalty=l2, tol=0.001 .............\n",
      "[CV]  C=100, class_weight=balanced, penalty=l2, tol=0.001, score=0.6918030890349568, total=  10.3s\n",
      "[CV] C=100, class_weight=balanced, penalty=l2, tol=0.001 .............\n",
      "[CV]  C=100, class_weight=balanced, penalty=l2, tol=0.001, score=0.6940555688550756, total=  10.3s\n",
      "[CV] C=100, class_weight=balanced, penalty=l2, tol=0.001 .............\n",
      "[CV]  C=100, class_weight=balanced, penalty=l2, tol=0.001, score=0.6882328039248389, total=  10.4s\n",
      "[CV] C=100, class_weight=balanced, penalty=l2, tol=0.01 ..............\n",
      "[CV]  C=100, class_weight=balanced, penalty=l2, tol=0.01, score=0.6632456063576359, total=  10.4s\n",
      "[CV] C=100, class_weight=balanced, penalty=l2, tol=0.01 ..............\n",
      "[CV]  C=100, class_weight=balanced, penalty=l2, tol=0.01, score=0.6727974922087094, total=  10.4s\n",
      "[CV] C=100, class_weight=balanced, penalty=l2, tol=0.01 ..............\n",
      "[CV]  C=100, class_weight=balanced, penalty=l2, tol=0.01, score=0.693464122030345, total=  10.2s\n",
      "[CV] C=100, class_weight=balanced, penalty=l2, tol=0.01 ..............\n",
      "[CV]  C=100, class_weight=balanced, penalty=l2, tol=0.01, score=0.6941843270648428, total=  10.2s\n",
      "[CV] C=100, class_weight=balanced, penalty=l2, tol=0.01 ..............\n",
      "[CV]  C=100, class_weight=balanced, penalty=l2, tol=0.01, score=0.6895315486599888, total=  10.4s\n",
      "[CV] C=100, class_weight=balanced, penalty=l2, tol=0.1 ...............\n",
      "[CV]  C=100, class_weight=balanced, penalty=l2, tol=0.1, score=0.6650595921931505, total=  10.6s\n",
      "[CV] C=100, class_weight=balanced, penalty=l2, tol=0.1 ...............\n",
      "[CV]  C=100, class_weight=balanced, penalty=l2, tol=0.1, score=0.6719010558308035, total=  10.0s\n",
      "[CV] C=100, class_weight=balanced, penalty=l2, tol=0.1 ...............\n",
      "[CV]  C=100, class_weight=balanced, penalty=l2, tol=0.1, score=0.6909455531795422, total=   9.6s\n",
      "[CV] C=100, class_weight=balanced, penalty=l2, tol=0.1 ...............\n",
      "[CV]  C=100, class_weight=balanced, penalty=l2, tol=0.1, score=0.6931798858458252, total=  10.2s\n",
      "[CV] C=100, class_weight=balanced, penalty=l2, tol=0.1 ...............\n",
      "[CV]  C=100, class_weight=balanced, penalty=l2, tol=0.1, score=0.6898693485008333, total=   9.5s\n",
      "[CV] C=100, class_weight=balanced, penalty=l2, tol=1 .................\n",
      "[CV]  C=100, class_weight=balanced, penalty=l2, tol=1, score=0.6651741879101823, total=   4.2s\n",
      "[CV] C=100, class_weight=balanced, penalty=l2, tol=1 .................\n",
      "[CV]  C=100, class_weight=balanced, penalty=l2, tol=1, score=0.6707692677774645, total=   4.3s\n",
      "[CV] C=100, class_weight=balanced, penalty=l2, tol=1 .................\n",
      "[CV]  C=100, class_weight=balanced, penalty=l2, tol=1, score=0.6938287251019153, total=   4.2s\n",
      "[CV] C=100, class_weight=balanced, penalty=l2, tol=1 .................\n",
      "[CV]  C=100, class_weight=balanced, penalty=l2, tol=1, score=0.695916214005386, total=   4.4s\n",
      "[CV] C=100, class_weight=balanced, penalty=l2, tol=1 .................\n",
      "[CV]  C=100, class_weight=balanced, penalty=l2, tol=1, score=0.687980487551092, total=   4.8s\n",
      "[CV] C=100, class_weight=None, penalty=l1, tol=0.0001 ................\n",
      "[CV]  C=100, class_weight=None, penalty=l1, tol=0.0001, score=0, total=   0.0s\n",
      "[CV] C=100, class_weight=None, penalty=l1, tol=0.0001 ................\n",
      "[CV]  C=100, class_weight=None, penalty=l1, tol=0.0001, score=0, total=   0.0s\n",
      "[CV] C=100, class_weight=None, penalty=l1, tol=0.0001 ................\n",
      "[CV]  C=100, class_weight=None, penalty=l1, tol=0.0001, score=0, total=   0.0s\n",
      "[CV] C=100, class_weight=None, penalty=l1, tol=0.0001 ................\n",
      "[CV]  C=100, class_weight=None, penalty=l1, tol=0.0001, score=0, total=   0.0s\n",
      "[CV] C=100, class_weight=None, penalty=l1, tol=0.0001 ................\n",
      "[CV]  C=100, class_weight=None, penalty=l1, tol=0.0001, score=0, total=   0.0s\n",
      "[CV] C=100, class_weight=None, penalty=l1, tol=0.001 .................\n",
      "[CV]  C=100, class_weight=None, penalty=l1, tol=0.001, score=0, total=   0.0s\n",
      "[CV] C=100, class_weight=None, penalty=l1, tol=0.001 .................\n"
     ]
    },
    {
     "name": "stderr",
     "output_type": "stream",
     "text": [
      "/Library/Frameworks/Python.framework/Versions/3.6/lib/python3.6/site-packages/sklearn/model_selection/_validation.py:479: FitFailedWarning: Classifier fit failed. The score on this train-test partition for these parameters will be set to 0.000000. Details: \n",
      "ValueError(\"Unsupported set of arguments: The combination of penalty='l1' and loss='squared_hinge' are not supported when dual=True, Parameters: penalty='l1', loss='squared_hinge', dual=True\",)\n",
      "  \"Details: \\n%r\" % (error_score, e), FitFailedWarning)\n",
      "/Library/Frameworks/Python.framework/Versions/3.6/lib/python3.6/site-packages/sklearn/model_selection/_validation.py:479: FitFailedWarning: Classifier fit failed. The score on this train-test partition for these parameters will be set to 0.000000. Details: \n",
      "ValueError(\"Unsupported set of arguments: The combination of penalty='l1' and loss='squared_hinge' are not supported when dual=True, Parameters: penalty='l1', loss='squared_hinge', dual=True\",)\n",
      "  \"Details: \\n%r\" % (error_score, e), FitFailedWarning)\n",
      "/Library/Frameworks/Python.framework/Versions/3.6/lib/python3.6/site-packages/sklearn/model_selection/_validation.py:479: FitFailedWarning: Classifier fit failed. The score on this train-test partition for these parameters will be set to 0.000000. Details: \n",
      "ValueError(\"Unsupported set of arguments: The combination of penalty='l1' and loss='squared_hinge' are not supported when dual=True, Parameters: penalty='l1', loss='squared_hinge', dual=True\",)\n",
      "  \"Details: \\n%r\" % (error_score, e), FitFailedWarning)\n",
      "/Library/Frameworks/Python.framework/Versions/3.6/lib/python3.6/site-packages/sklearn/model_selection/_validation.py:479: FitFailedWarning: Classifier fit failed. The score on this train-test partition for these parameters will be set to 0.000000. Details: \n",
      "ValueError(\"Unsupported set of arguments: The combination of penalty='l1' and loss='squared_hinge' are not supported when dual=True, Parameters: penalty='l1', loss='squared_hinge', dual=True\",)\n",
      "  \"Details: \\n%r\" % (error_score, e), FitFailedWarning)\n",
      "/Library/Frameworks/Python.framework/Versions/3.6/lib/python3.6/site-packages/sklearn/model_selection/_validation.py:479: FitFailedWarning: Classifier fit failed. The score on this train-test partition for these parameters will be set to 0.000000. Details: \n",
      "ValueError(\"Unsupported set of arguments: The combination of penalty='l1' and loss='squared_hinge' are not supported when dual=True, Parameters: penalty='l1', loss='squared_hinge', dual=True\",)\n",
      "  \"Details: \\n%r\" % (error_score, e), FitFailedWarning)\n",
      "/Library/Frameworks/Python.framework/Versions/3.6/lib/python3.6/site-packages/sklearn/model_selection/_validation.py:479: FitFailedWarning: Classifier fit failed. The score on this train-test partition for these parameters will be set to 0.000000. Details: \n",
      "ValueError(\"Unsupported set of arguments: The combination of penalty='l1' and loss='squared_hinge' are not supported when dual=True, Parameters: penalty='l1', loss='squared_hinge', dual=True\",)\n",
      "  \"Details: \\n%r\" % (error_score, e), FitFailedWarning)\n",
      "/Library/Frameworks/Python.framework/Versions/3.6/lib/python3.6/site-packages/sklearn/model_selection/_validation.py:479: FitFailedWarning: Classifier fit failed. The score on this train-test partition for these parameters will be set to 0.000000. Details: \n",
      "ValueError(\"Unsupported set of arguments: The combination of penalty='l1' and loss='squared_hinge' are not supported when dual=True, Parameters: penalty='l1', loss='squared_hinge', dual=True\",)\n",
      "  \"Details: \\n%r\" % (error_score, e), FitFailedWarning)\n"
     ]
    },
    {
     "name": "stdout",
     "output_type": "stream",
     "text": [
      "[CV]  C=100, class_weight=None, penalty=l1, tol=0.001, score=0, total=   0.0s\n",
      "[CV] C=100, class_weight=None, penalty=l1, tol=0.001 .................\n",
      "[CV]  C=100, class_weight=None, penalty=l1, tol=0.001, score=0, total=   0.0s\n",
      "[CV] C=100, class_weight=None, penalty=l1, tol=0.001 .................\n",
      "[CV]  C=100, class_weight=None, penalty=l1, tol=0.001, score=0, total=   0.0s\n",
      "[CV] C=100, class_weight=None, penalty=l1, tol=0.001 .................\n",
      "[CV]  C=100, class_weight=None, penalty=l1, tol=0.001, score=0, total=   0.0s\n",
      "[CV] C=100, class_weight=None, penalty=l1, tol=0.01 ..................\n",
      "[CV]  C=100, class_weight=None, penalty=l1, tol=0.01, score=0, total=   0.0s\n",
      "[CV] C=100, class_weight=None, penalty=l1, tol=0.01 ..................\n",
      "[CV]  C=100, class_weight=None, penalty=l1, tol=0.01, score=0, total=   0.0s\n",
      "[CV] C=100, class_weight=None, penalty=l1, tol=0.01 ..................\n",
      "[CV]  C=100, class_weight=None, penalty=l1, tol=0.01, score=0, total=   0.0s\n",
      "[CV] C=100, class_weight=None, penalty=l1, tol=0.01 ..................\n"
     ]
    },
    {
     "name": "stderr",
     "output_type": "stream",
     "text": [
      "/Library/Frameworks/Python.framework/Versions/3.6/lib/python3.6/site-packages/sklearn/model_selection/_validation.py:479: FitFailedWarning: Classifier fit failed. The score on this train-test partition for these parameters will be set to 0.000000. Details: \n",
      "ValueError(\"Unsupported set of arguments: The combination of penalty='l1' and loss='squared_hinge' are not supported when dual=True, Parameters: penalty='l1', loss='squared_hinge', dual=True\",)\n",
      "  \"Details: \\n%r\" % (error_score, e), FitFailedWarning)\n",
      "/Library/Frameworks/Python.framework/Versions/3.6/lib/python3.6/site-packages/sklearn/model_selection/_validation.py:479: FitFailedWarning: Classifier fit failed. The score on this train-test partition for these parameters will be set to 0.000000. Details: \n",
      "ValueError(\"Unsupported set of arguments: The combination of penalty='l1' and loss='squared_hinge' are not supported when dual=True, Parameters: penalty='l1', loss='squared_hinge', dual=True\",)\n",
      "  \"Details: \\n%r\" % (error_score, e), FitFailedWarning)\n",
      "/Library/Frameworks/Python.framework/Versions/3.6/lib/python3.6/site-packages/sklearn/model_selection/_validation.py:479: FitFailedWarning: Classifier fit failed. The score on this train-test partition for these parameters will be set to 0.000000. Details: \n",
      "ValueError(\"Unsupported set of arguments: The combination of penalty='l1' and loss='squared_hinge' are not supported when dual=True, Parameters: penalty='l1', loss='squared_hinge', dual=True\",)\n",
      "  \"Details: \\n%r\" % (error_score, e), FitFailedWarning)\n",
      "/Library/Frameworks/Python.framework/Versions/3.6/lib/python3.6/site-packages/sklearn/model_selection/_validation.py:479: FitFailedWarning: Classifier fit failed. The score on this train-test partition for these parameters will be set to 0.000000. Details: \n",
      "ValueError(\"Unsupported set of arguments: The combination of penalty='l1' and loss='squared_hinge' are not supported when dual=True, Parameters: penalty='l1', loss='squared_hinge', dual=True\",)\n",
      "  \"Details: \\n%r\" % (error_score, e), FitFailedWarning)\n",
      "/Library/Frameworks/Python.framework/Versions/3.6/lib/python3.6/site-packages/sklearn/model_selection/_validation.py:479: FitFailedWarning: Classifier fit failed. The score on this train-test partition for these parameters will be set to 0.000000. Details: \n",
      "ValueError(\"Unsupported set of arguments: The combination of penalty='l1' and loss='squared_hinge' are not supported when dual=True, Parameters: penalty='l1', loss='squared_hinge', dual=True\",)\n",
      "  \"Details: \\n%r\" % (error_score, e), FitFailedWarning)\n",
      "/Library/Frameworks/Python.framework/Versions/3.6/lib/python3.6/site-packages/sklearn/model_selection/_validation.py:479: FitFailedWarning: Classifier fit failed. The score on this train-test partition for these parameters will be set to 0.000000. Details: \n",
      "ValueError(\"Unsupported set of arguments: The combination of penalty='l1' and loss='squared_hinge' are not supported when dual=True, Parameters: penalty='l1', loss='squared_hinge', dual=True\",)\n",
      "  \"Details: \\n%r\" % (error_score, e), FitFailedWarning)\n",
      "/Library/Frameworks/Python.framework/Versions/3.6/lib/python3.6/site-packages/sklearn/model_selection/_validation.py:479: FitFailedWarning: Classifier fit failed. The score on this train-test partition for these parameters will be set to 0.000000. Details: \n",
      "ValueError(\"Unsupported set of arguments: The combination of penalty='l1' and loss='squared_hinge' are not supported when dual=True, Parameters: penalty='l1', loss='squared_hinge', dual=True\",)\n",
      "  \"Details: \\n%r\" % (error_score, e), FitFailedWarning)\n",
      "/Library/Frameworks/Python.framework/Versions/3.6/lib/python3.6/site-packages/sklearn/model_selection/_validation.py:479: FitFailedWarning: Classifier fit failed. The score on this train-test partition for these parameters will be set to 0.000000. Details: \n",
      "ValueError(\"Unsupported set of arguments: The combination of penalty='l1' and loss='squared_hinge' are not supported when dual=True, Parameters: penalty='l1', loss='squared_hinge', dual=True\",)\n",
      "  \"Details: \\n%r\" % (error_score, e), FitFailedWarning)\n"
     ]
    },
    {
     "name": "stdout",
     "output_type": "stream",
     "text": [
      "[CV]  C=100, class_weight=None, penalty=l1, tol=0.01, score=0, total=   0.0s\n",
      "[CV] C=100, class_weight=None, penalty=l1, tol=0.01 ..................\n",
      "[CV]  C=100, class_weight=None, penalty=l1, tol=0.01, score=0, total=   0.0s\n",
      "[CV] C=100, class_weight=None, penalty=l1, tol=0.1 ...................\n",
      "[CV]  C=100, class_weight=None, penalty=l1, tol=0.1, score=0, total=   0.0s\n",
      "[CV] C=100, class_weight=None, penalty=l1, tol=0.1 ...................\n",
      "[CV]  C=100, class_weight=None, penalty=l1, tol=0.1, score=0, total=   0.0s\n",
      "[CV] C=100, class_weight=None, penalty=l1, tol=0.1 ...................\n",
      "[CV]  C=100, class_weight=None, penalty=l1, tol=0.1, score=0, total=   0.0s\n",
      "[CV] C=100, class_weight=None, penalty=l1, tol=0.1 ...................\n",
      "[CV]  C=100, class_weight=None, penalty=l1, tol=0.1, score=0, total=   0.0s\n",
      "[CV] C=100, class_weight=None, penalty=l1, tol=0.1 ...................\n",
      "[CV]  C=100, class_weight=None, penalty=l1, tol=0.1, score=0, total=   0.0s\n",
      "[CV] C=100, class_weight=None, penalty=l1, tol=1 .....................\n",
      "[CV]  C=100, class_weight=None, penalty=l1, tol=1, score=0, total=   0.0s"
     ]
    },
    {
     "name": "stderr",
     "output_type": "stream",
     "text": [
      "/Library/Frameworks/Python.framework/Versions/3.6/lib/python3.6/site-packages/sklearn/model_selection/_validation.py:479: FitFailedWarning: Classifier fit failed. The score on this train-test partition for these parameters will be set to 0.000000. Details: \n",
      "ValueError(\"Unsupported set of arguments: The combination of penalty='l1' and loss='squared_hinge' are not supported when dual=True, Parameters: penalty='l1', loss='squared_hinge', dual=True\",)\n",
      "  \"Details: \\n%r\" % (error_score, e), FitFailedWarning)\n",
      "/Library/Frameworks/Python.framework/Versions/3.6/lib/python3.6/site-packages/sklearn/model_selection/_validation.py:479: FitFailedWarning: Classifier fit failed. The score on this train-test partition for these parameters will be set to 0.000000. Details: \n",
      "ValueError(\"Unsupported set of arguments: The combination of penalty='l1' and loss='squared_hinge' are not supported when dual=True, Parameters: penalty='l1', loss='squared_hinge', dual=True\",)\n",
      "  \"Details: \\n%r\" % (error_score, e), FitFailedWarning)\n",
      "/Library/Frameworks/Python.framework/Versions/3.6/lib/python3.6/site-packages/sklearn/model_selection/_validation.py:479: FitFailedWarning: Classifier fit failed. The score on this train-test partition for these parameters will be set to 0.000000. Details: \n",
      "ValueError(\"Unsupported set of arguments: The combination of penalty='l1' and loss='squared_hinge' are not supported when dual=True, Parameters: penalty='l1', loss='squared_hinge', dual=True\",)\n",
      "  \"Details: \\n%r\" % (error_score, e), FitFailedWarning)\n",
      "/Library/Frameworks/Python.framework/Versions/3.6/lib/python3.6/site-packages/sklearn/model_selection/_validation.py:479: FitFailedWarning: Classifier fit failed. The score on this train-test partition for these parameters will be set to 0.000000. Details: \n",
      "ValueError(\"Unsupported set of arguments: The combination of penalty='l1' and loss='squared_hinge' are not supported when dual=True, Parameters: penalty='l1', loss='squared_hinge', dual=True\",)\n",
      "  \"Details: \\n%r\" % (error_score, e), FitFailedWarning)\n",
      "/Library/Frameworks/Python.framework/Versions/3.6/lib/python3.6/site-packages/sklearn/model_selection/_validation.py:479: FitFailedWarning: Classifier fit failed. The score on this train-test partition for these parameters will be set to 0.000000. Details: \n",
      "ValueError(\"Unsupported set of arguments: The combination of penalty='l1' and loss='squared_hinge' are not supported when dual=True, Parameters: penalty='l1', loss='squared_hinge', dual=True\",)\n",
      "  \"Details: \\n%r\" % (error_score, e), FitFailedWarning)\n",
      "/Library/Frameworks/Python.framework/Versions/3.6/lib/python3.6/site-packages/sklearn/model_selection/_validation.py:479: FitFailedWarning: Classifier fit failed. The score on this train-test partition for these parameters will be set to 0.000000. Details: \n",
      "ValueError(\"Unsupported set of arguments: The combination of penalty='l1' and loss='squared_hinge' are not supported when dual=True, Parameters: penalty='l1', loss='squared_hinge', dual=True\",)\n",
      "  \"Details: \\n%r\" % (error_score, e), FitFailedWarning)\n",
      "/Library/Frameworks/Python.framework/Versions/3.6/lib/python3.6/site-packages/sklearn/model_selection/_validation.py:479: FitFailedWarning: Classifier fit failed. The score on this train-test partition for these parameters will be set to 0.000000. Details: \n",
      "ValueError(\"Unsupported set of arguments: The combination of penalty='l1' and loss='squared_hinge' are not supported when dual=True, Parameters: penalty='l1', loss='squared_hinge', dual=True\",)\n",
      "  \"Details: \\n%r\" % (error_score, e), FitFailedWarning)\n",
      "/Library/Frameworks/Python.framework/Versions/3.6/lib/python3.6/site-packages/sklearn/model_selection/_validation.py:479: FitFailedWarning: Classifier fit failed. The score on this train-test partition for these parameters will be set to 0.000000. Details: \n",
      "ValueError(\"Unsupported set of arguments: The combination of penalty='l1' and loss='squared_hinge' are not supported when dual=True, Parameters: penalty='l1', loss='squared_hinge', dual=True\",)\n",
      "  \"Details: \\n%r\" % (error_score, e), FitFailedWarning)\n"
     ]
    },
    {
     "name": "stdout",
     "output_type": "stream",
     "text": [
      "\n",
      "[CV] C=100, class_weight=None, penalty=l1, tol=1 .....................\n",
      "[CV]  C=100, class_weight=None, penalty=l1, tol=1, score=0, total=   0.0s\n",
      "[CV] C=100, class_weight=None, penalty=l1, tol=1 .....................\n",
      "[CV]  C=100, class_weight=None, penalty=l1, tol=1, score=0, total=   0.0s\n",
      "[CV] C=100, class_weight=None, penalty=l1, tol=1 .....................\n",
      "[CV]  C=100, class_weight=None, penalty=l1, tol=1, score=0, total=   0.0s\n",
      "[CV] C=100, class_weight=None, penalty=l1, tol=1 .....................\n",
      "[CV]  C=100, class_weight=None, penalty=l1, tol=1, score=0, total=   0.0s\n",
      "[CV] C=100, class_weight=None, penalty=l2, tol=0.0001 ................\n"
     ]
    },
    {
     "name": "stderr",
     "output_type": "stream",
     "text": [
      "/Library/Frameworks/Python.framework/Versions/3.6/lib/python3.6/site-packages/sklearn/model_selection/_validation.py:479: FitFailedWarning: Classifier fit failed. The score on this train-test partition for these parameters will be set to 0.000000. Details: \n",
      "ValueError(\"Unsupported set of arguments: The combination of penalty='l1' and loss='squared_hinge' are not supported when dual=True, Parameters: penalty='l1', loss='squared_hinge', dual=True\",)\n",
      "  \"Details: \\n%r\" % (error_score, e), FitFailedWarning)\n",
      "/Library/Frameworks/Python.framework/Versions/3.6/lib/python3.6/site-packages/sklearn/model_selection/_validation.py:479: FitFailedWarning: Classifier fit failed. The score on this train-test partition for these parameters will be set to 0.000000. Details: \n",
      "ValueError(\"Unsupported set of arguments: The combination of penalty='l1' and loss='squared_hinge' are not supported when dual=True, Parameters: penalty='l1', loss='squared_hinge', dual=True\",)\n",
      "  \"Details: \\n%r\" % (error_score, e), FitFailedWarning)\n"
     ]
    },
    {
     "name": "stdout",
     "output_type": "stream",
     "text": [
      "[CV]  C=100, class_weight=None, penalty=l2, tol=0.0001, score=0.6625254891427416, total=   9.7s\n",
      "[CV] C=100, class_weight=None, penalty=l2, tol=0.0001 ................\n",
      "[CV]  C=100, class_weight=None, penalty=l2, tol=0.0001, score=0.67459484394483, total=  10.4s\n",
      "[CV] C=100, class_weight=None, penalty=l2, tol=0.0001 ................\n",
      "[CV]  C=100, class_weight=None, penalty=l2, tol=0.0001, score=0.6922180694928078, total=  10.3s\n",
      "[CV] C=100, class_weight=None, penalty=l2, tol=0.0001 ................\n",
      "[CV]  C=100, class_weight=None, penalty=l2, tol=0.0001, score=0.6900435911638113, total=  10.3s\n",
      "[CV] C=100, class_weight=None, penalty=l2, tol=0.0001 ................\n",
      "[CV]  C=100, class_weight=None, penalty=l2, tol=0.0001, score=0.6891683218654236, total=  10.6s\n",
      "[CV] C=100, class_weight=None, penalty=l2, tol=0.001 .................\n",
      "[CV]  C=100, class_weight=None, penalty=l2, tol=0.001, score=0.6593592964734486, total=  10.4s\n",
      "[CV] C=100, class_weight=None, penalty=l2, tol=0.001 .................\n",
      "[CV]  C=100, class_weight=None, penalty=l2, tol=0.001, score=0.672016841971967, total=  10.3s\n",
      "[CV] C=100, class_weight=None, penalty=l2, tol=0.001 .................\n",
      "[CV]  C=100, class_weight=None, penalty=l2, tol=0.001, score=0.6932526965635842, total=  10.2s\n",
      "[CV] C=100, class_weight=None, penalty=l2, tol=0.001 .................\n",
      "[CV]  C=100, class_weight=None, penalty=l2, tol=0.001, score=0.6899086715151412, total=  10.2s\n",
      "[CV] C=100, class_weight=None, penalty=l2, tol=0.001 .................\n",
      "[CV]  C=100, class_weight=None, penalty=l2, tol=0.001, score=0.6887799258838806, total=  10.5s\n",
      "[CV] C=100, class_weight=None, penalty=l2, tol=0.01 ..................\n",
      "[CV]  C=100, class_weight=None, penalty=l2, tol=0.01, score=0.6603951516812109, total=  10.2s\n",
      "[CV] C=100, class_weight=None, penalty=l2, tol=0.01 ..................\n",
      "[CV]  C=100, class_weight=None, penalty=l2, tol=0.01, score=0.6708264866973567, total=  10.4s\n",
      "[CV] C=100, class_weight=None, penalty=l2, tol=0.01 ..................\n",
      "[CV]  C=100, class_weight=None, penalty=l2, tol=0.01, score=0.6939219335837099, total=  10.3s\n",
      "[CV] C=100, class_weight=None, penalty=l2, tol=0.01 ..................\n",
      "[CV]  C=100, class_weight=None, penalty=l2, tol=0.01, score=0.6880122896744325, total=  10.4s\n",
      "[CV] C=100, class_weight=None, penalty=l2, tol=0.01 ..................\n",
      "[CV]  C=100, class_weight=None, penalty=l2, tol=0.01, score=0.6893326253317632, total=  10.4s\n",
      "[CV] C=100, class_weight=None, penalty=l2, tol=0.1 ...................\n",
      "[CV]  C=100, class_weight=None, penalty=l2, tol=0.1, score=0.6596471106894731, total=  10.3s\n",
      "[CV] C=100, class_weight=None, penalty=l2, tol=0.1 ...................\n",
      "[CV]  C=100, class_weight=None, penalty=l2, tol=0.1, score=0.6738093949096005, total=  11.0s\n",
      "[CV] C=100, class_weight=None, penalty=l2, tol=0.1 ...................\n",
      "[CV]  C=100, class_weight=None, penalty=l2, tol=0.1, score=0.6944222086529953, total=  10.8s\n",
      "[CV] C=100, class_weight=None, penalty=l2, tol=0.1 ...................\n",
      "[CV]  C=100, class_weight=None, penalty=l2, tol=0.1, score=0.6904817558594151, total=  11.5s\n",
      "[CV] C=100, class_weight=None, penalty=l2, tol=0.1 ...................\n",
      "[CV]  C=100, class_weight=None, penalty=l2, tol=0.1, score=0.6901394787794448, total=  10.9s\n",
      "[CV] C=100, class_weight=None, penalty=l2, tol=1 .....................\n",
      "[CV]  C=100, class_weight=None, penalty=l2, tol=1, score=0.6616258547393769, total=   4.7s\n",
      "[CV] C=100, class_weight=None, penalty=l2, tol=1 .....................\n",
      "[CV]  C=100, class_weight=None, penalty=l2, tol=1, score=0.6728506315330511, total=   4.7s\n",
      "[CV] C=100, class_weight=None, penalty=l2, tol=1 .....................\n",
      "[CV]  C=100, class_weight=None, penalty=l2, tol=1, score=0.692716395613964, total=   4.4s\n",
      "[CV] C=100, class_weight=None, penalty=l2, tol=1 .....................\n",
      "[CV]  C=100, class_weight=None, penalty=l2, tol=1, score=0.6916240918592583, total=   4.3s\n",
      "[CV] C=100, class_weight=None, penalty=l2, tol=1 .....................\n",
      "[CV]  C=100, class_weight=None, penalty=l2, tol=1, score=0.6891536959967608, total=   4.7s\n"
     ]
    },
    {
     "name": "stderr",
     "output_type": "stream",
     "text": [
      "[Parallel(n_jobs=1)]: Done 800 out of 800 | elapsed: 12.5min finished\n"
     ]
    },
    {
     "name": "stdout",
     "output_type": "stream",
     "text": [
      "train 0.9193612699574839\n",
      "test 0.7515594139204446\n"
     ]
    }
   ],
   "source": [
    "from sklearn.svm import LinearSVC\n",
    "from sklearn.model_selection import GridSearchCV\n",
    "\n",
    "svc = LinearSVC(multi_class='ovr')\n",
    "#     intercept_scaling=1, loss='squared_hinge', max_iter=1000,\n",
    "#     multi_class='ovr',tol=0.00001,verbose=10,random_state=SEED)\n",
    "\n",
    "params = {'penalty':['l1','l2'],\n",
    "         'C': [1.e-4, 1.e-3, 1.e-2, 1.e-1, 1, 2, 10, 100],\n",
    "          'tol': [1.e-4, 1.e-3, 1.e-2, 1.e-1, 1],\n",
    "          'class_weight': ['balanced', None]\n",
    "         }\n",
    "\n",
    "model = Pipeline([\n",
    "    ('tfidf', TfidfVectorizer(analyzer='char', use_idf=True, smooth_idf=True,\n",
    "                                  lowercase=True, \n",
    "                                  stop_words=stopwords.words('english'),\n",
    "                                  min_df=5,\n",
    "                                  ngram_range=(1,3), norm='l2')),\n",
    "    ('est', GridSearchCV(svc, params, cv=5, verbose=10, scoring='f1_macro', error_score=0))])\n",
    "\n",
    "model.fit(df_train.text, y_train)\n",
    "print('train', metrics.f1_score(y_train, model.predict(df_train.text), average='macro'))\n",
    "print('test', metrics.f1_score(y_test, model.predict(df_test.text), average='macro'))"
   ]
  },
  {
   "cell_type": "code",
   "execution_count": 41,
   "metadata": {},
   "outputs": [
    {
     "data": {
      "text/html": [
       "<div>\n",
       "<style scoped>\n",
       "    .dataframe tbody tr th:only-of-type {\n",
       "        vertical-align: middle;\n",
       "    }\n",
       "\n",
       "    .dataframe tbody tr th {\n",
       "        vertical-align: top;\n",
       "    }\n",
       "\n",
       "    .dataframe thead th {\n",
       "        text-align: right;\n",
       "    }\n",
       "</style>\n",
       "<table border=\"1\" class=\"dataframe\">\n",
       "  <thead>\n",
       "    <tr style=\"text-align: right;\">\n",
       "      <th></th>\n",
       "      <th>f1</th>\n",
       "    </tr>\n",
       "  </thead>\n",
       "  <tbody>\n",
       "    <tr>\n",
       "      <th>baseline_0</th>\n",
       "      <td>0.331960</td>\n",
       "    </tr>\n",
       "    <tr>\n",
       "      <th>baseline_2</th>\n",
       "      <td>0.699070</td>\n",
       "    </tr>\n",
       "    <tr>\n",
       "      <th>baseline_3</th>\n",
       "      <td>0.741813</td>\n",
       "    </tr>\n",
       "    <tr>\n",
       "      <th>my_baseline</th>\n",
       "      <td>0.751559</td>\n",
       "    </tr>\n",
       "  </tbody>\n",
       "</table>\n",
       "</div>"
      ],
      "text/plain": [
       "                   f1\n",
       "baseline_0   0.331960\n",
       "baseline_2   0.699070\n",
       "baseline_3   0.741813\n",
       "my_baseline  0.751559"
      ]
     },
     "execution_count": 41,
     "metadata": {},
     "output_type": "execute_result"
    }
   ],
   "source": [
    "add_metrics(best_metrics, metrics.f1_score(y_test, model.predict(df_test.text), average='macro'), 'my_baseline')\n",
    "best_metrics"
   ]
  },
  {
   "cell_type": "code",
   "execution_count": null,
   "metadata": {},
   "outputs": [],
   "source": []
  }
 ],
 "metadata": {
  "kernelspec": {
   "display_name": "Python 3.6",
   "language": "python",
   "name": "python3"
  },
  "language_info": {
   "codemirror_mode": {
    "name": "ipython",
    "version": 3
   },
   "file_extension": ".py",
   "mimetype": "text/x-python",
   "name": "python",
   "nbconvert_exporter": "python",
   "pygments_lexer": "ipython3",
   "version": "3.6.3"
  }
 },
 "nbformat": 4,
 "nbformat_minor": 2
}
