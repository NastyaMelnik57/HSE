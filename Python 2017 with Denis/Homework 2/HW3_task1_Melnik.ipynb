{
 "cells": [
  {
   "cell_type": "code",
   "execution_count": 1,
   "metadata": {},
   "outputs": [],
   "source": [
    "import pattern\n",
    "from pattern.web import Wikipedia, plaintext\n",
    "import string\n",
    "import re\n",
    "import nltk\n",
    "from nltk import trigrams\n",
    "from nltk import word_tokenize"
   ]
  },
  {
   "cell_type": "code",
   "execution_count": 35,
   "metadata": {},
   "outputs": [],
   "source": [
    "class WikiParser:\n",
    "    def __init__(self):\n",
    "        pass\n",
    "    def get_articles(self, start):\n",
    "        exclude = set(string.punctuation) - set('-')\n",
    "        article = Wikipedia().article(start)\n",
    "        links = article.links\n",
    "        list_of_strings = []\n",
    "        for link in links:\n",
    "            linked_article = Wikipedia().article(link)\n",
    "            if linked_article is not None:\n",
    "                s = plaintext(linked_article.source)\n",
    "                s = s.encode('ascii', 'ignore')\n",
    "                s = s.lower()\n",
    "                s = ''.join(ch for ch in s if ch not in exclude)\n",
    "                s = ' '.join(re.split('\\s+', s))\n",
    "                list_of_strings.append(s)\n",
    "        return list_of_strings"
   ]
  },
  {
   "cell_type": "code",
   "execution_count": 13,
   "metadata": {},
   "outputs": [],
   "source": [
    "class TextStatistics:\n",
    "    def __init__(self, articles):\n",
    "        self.list = articles\n",
    "        pass\n",
    "    \n",
    "    def get_top_3grams(self, n):\n",
    "        dict_trigrams = {}\n",
    "        for article in self.list:\n",
    "            article = ''.join([i for i in article if ((not i.isdigit()) and (i != '-'))])\n",
    "            article_trigrams = list(trigrams(article))\n",
    "            for article_trigram in article_trigrams:\n",
    "                article_trigram_join = ''.join(article_trigram)\n",
    "                if article_trigram_join in dict_trigrams:\n",
    "                    dict_trigrams[article_trigram_join] += 1\n",
    "                else:\n",
    "                    dict_trigrams[article_trigram_join] = 1\n",
    "            list_of_3grams_in_descending_order_by_freq = sorted(dict_trigrams, key=dict_trigrams.get)[-1:-1-n:-1]\n",
    "            list_of_their_corresponding_freq = [dict_trigrams[x] for x in list_of_3grams_in_descending_order_by_freq]\n",
    "        return (list_of_3grams_in_descending_order_by_freq, list_of_their_corresponding_freq)\n",
    "    \n",
    "    def get_top_words(self, n):\n",
    "        dict_words = {}\n",
    "        pos_articles = set(['a', 'an', 'the'])\n",
    "        pos_prepositions = set(['aboard', 'about', 'above', 'across', 'afore', 'after', 'against', 'along', 'amid', 'amidst', 'among', 'amongst', 'around', 'as', 'aside', 'aslant', 'astride', 'at', 'athwart', 'atop', 'between', 'before', 'behind', 'below', 'beneath', 'beside', 'besides', 'between', 'betwixt', 'beyond', 'by', 'circa', 'despite','down', 'except', 'for', 'from', 'in', 'inside', 'into', 'like', 'near', 'neath', 'next', 'of', 'off', 'on', 'opposite', 'out', 'outside', 'over', 'per', 'through', 'till'', toward', 'towards', 'under', 'underneath', 'unlike', 'until', 'up', 'with', 'without'])\n",
    "        for article in self.list:\n",
    "            article = ''.join([i for i in article if ((not i.isdigit()) and (i != '-'))])\n",
    "            article = ' '.join([i for i in re.split(' ', article) if ((not i in pos_articles) and (not i in pos_prepositions))])\n",
    "            article_words = article.split()\n",
    "            for article_word in article_words:\n",
    "                if article_word in dict_words:\n",
    "                    dict_words[article_word] += 1\n",
    "                else:\n",
    "                    dict_words[article_word] = 1\n",
    "            list_of_words_in_descending_order_by_freq = sorted(dict_words, key=dict_words.get)[-1:-1-n:-1]\n",
    "            list_of_their_corresponding_freq = [dict_words[x] for x in list_of_words_in_descending_order_by_freq]\n",
    "        return (list_of_words_in_descending_order_by_freq, list_of_their_corresponding_freq)"
   ]
  },
  {
   "cell_type": "code",
   "execution_count": 40,
   "metadata": {},
   "outputs": [],
   "source": [
    "class Experiment:\n",
    "    def show_results(self):\n",
    "        exclude = set(string.punctuation) - set('-')\n",
    "        parser = WikiParser()\n",
    "        articles = parser.get_articles(\"Natural_language_processing\")\n",
    "        stat = TextStatistics(articles)\n",
    "        top20_3grams = stat.get_top_3grams(20)\n",
    "        top20_words = stat.get_top_words(20)\n",
    "        print(\"top-20 3-gramms: \", top20_3grams)\n",
    "        print(\"top-20 words: \", top20_words)\n",
    "        NLP = Wikipedia().article(\"Natural_language_processing\")\n",
    "        NLP_parsed = plaintext(NLP.source).lower()\n",
    "        NLP_parsed = ''.join(ch for ch in NLP_parsed if ch not in exclude)\n",
    "        NLP_parsed = ' '.join(re.split('\\s+', NLP_parsed))\n",
    "        NLP_parsed.lower()\n",
    "        statNLP = TextStatistics([NLP_parsed])\n",
    "        top5_3grams_NLP = statNLP.get_top_3grams(5)\n",
    "        top5_words_NLP = statNLP.get_top_words(5)\n",
    "        print(\"top-5 3-gramms in 'Natural language processing' article and their frequencies: \", top5_3grams_NLP)\n",
    "        print(\"top-5 words in 'Natural language processing' article and their frequencies: \", top5_words_NLP)"
   ]
  },
  {
   "cell_type": "code",
   "execution_count": 41,
   "metadata": {},
   "outputs": [
    {
     "name": "stdout",
     "output_type": "stream",
     "text": [
      "('top-20 3-gramms: ', ([' th', 'the', 'he ', 'ion', ' in', 'on ', 'ed ', 'ing', 'tio', ' of', ' an', 'of ', 'ng ', 'es ', 'ati', 'nd ', 'and', ' co', 'al ', 'in '], [52579, 46625, 35783, 29112, 28357, 26560, 25823, 25782, 25612, 24302, 23627, 23202, 22467, 21953, 20902, 20665, 20617, 20168, 19995, 18366]))\n",
      "('top-20 words: ', (['and', 'to', 'is', 'that', 'are', 'language', 'or', 'be', 'it', 'this', 'which', 'can', 'not', 'english', 'was', 'speech', 'languages', 'retrieved', 'such', 'words'], [16849, 11965, 8681, 4821, 4300, 4073, 3849, 3399, 2734, 2527, 2205, 1966, 1952, 1801, 1797, 1739, 1710, 1708, 1700, 1668]))\n",
      "(\"top-5 3-gramms in 'Natural language processing' article and their frequencies: \", ([u' th', u'ing', u'the', u'ion', u'ng '], [227, 209, 203, 178, 175]))\n",
      "(\"top-5 words in 'Natural language processing' article and their frequencies: \", ([u'and', u'language', u'to', u'is', u'natural'], [72, 59, 54, 48, 39]))\n"
     ]
    }
   ],
   "source": [
    "exp = Experiment()\n",
    "exp.show_results()"
   ]
  }
 ],
 "metadata": {
  "kernelspec": {
   "display_name": "Python 2",
   "language": "python",
   "name": "python2"
  },
  "language_info": {
   "codemirror_mode": {
    "name": "ipython",
    "version": 2
   },
   "file_extension": ".py",
   "mimetype": "text/x-python",
   "name": "python",
   "nbconvert_exporter": "python",
   "pygments_lexer": "ipython2",
   "version": "2.7.14"
  }
 },
 "nbformat": 4,
 "nbformat_minor": 2
}
