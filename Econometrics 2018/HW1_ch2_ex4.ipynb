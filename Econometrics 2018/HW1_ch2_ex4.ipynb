{
 "cells": [
  {
   "cell_type": "markdown",
   "metadata": {
    "ExecuteTime": {
     "end_time": "2018-10-11T19:28:08.626525Z",
     "start_time": "2018-10-11T19:28:08.622867Z"
    }
   },
   "source": [
    "#### Chapter 1. Exercise 4."
   ]
  },
  {
   "cell_type": "code",
   "execution_count": 2,
   "metadata": {
    "ExecuteTime": {
     "end_time": "2018-10-12T00:02:43.827967Z",
     "start_time": "2018-10-12T00:02:43.177710Z"
    }
   },
   "outputs": [],
   "source": [
    "import pandas as pd"
   ]
  },
  {
   "cell_type": "code",
   "execution_count": 3,
   "metadata": {
    "ExecuteTime": {
     "end_time": "2018-10-12T00:02:43.996169Z",
     "start_time": "2018-10-12T00:02:43.850157Z"
    }
   },
   "outputs": [],
   "source": [
    "data = pd.read_excel('chapter2data.xlsx', index_col='DATE')"
   ]
  },
  {
   "cell_type": "code",
   "execution_count": 4,
   "metadata": {
    "ExecuteTime": {
     "end_time": "2018-10-12T00:02:44.148911Z",
     "start_time": "2018-10-12T00:02:44.135554Z"
    }
   },
   "outputs": [],
   "source": [
    "delta = data.DELTA.loc[pd.Timestamp('1983-01-01'):pd.Timestamp('1987-12-01')]\n",
    "rkfree = data.RKFREE.loc[pd.Timestamp('1983-01-01'):pd.Timestamp('1987-12-01')]\n",
    "market = data.MARKET.loc[pd.Timestamp('1983-01-01'):pd.Timestamp('1987-12-01')]"
   ]
  },
  {
   "cell_type": "code",
   "execution_count": 5,
   "metadata": {
    "ExecuteTime": {
     "end_time": "2018-10-12T00:02:44.883713Z",
     "start_time": "2018-10-12T00:02:44.305601Z"
    }
   },
   "outputs": [],
   "source": [
    "delta_risk_premium = delta - rkfree\n",
    "market_risk_premium = market - rkfree"
   ]
  },
  {
   "cell_type": "code",
   "execution_count": 6,
   "metadata": {
    "ExecuteTime": {
     "end_time": "2018-10-12T00:02:45.968897Z",
     "start_time": "2018-10-12T00:02:45.052658Z"
    }
   },
   "outputs": [],
   "source": [
    "from scipy import stats\n",
    "delta_slope_incorrect, delta_intercept_incorrect, delta_r_value_incorrect, delta_p_value_incorrect, delta_std_err_incorrect = stats.linregress(market_risk_premium,\n",
    "                                                                                             delta_risk_premium)\n",
    "delta_slope, delta_intercept, delta_r_value, delta_p_value, delta_std_err = stats.linregress(delta_risk_premium,\n",
    "                                                                                            market_risk_premium)"
   ]
  },
  {
   "cell_type": "markdown",
   "metadata": {},
   "source": [
    "**_d) Why $R_1^2$ from the correct equation is identical to the $R_2^2$ from the incorrect equation? Show that $R^2 = b_y * g = b_y / b_x$_**"
   ]
  },
  {
   "cell_type": "markdown",
   "metadata": {},
   "source": [
    "1) $$R_1^2 = 1 - \\frac{V(y|x)}{V(y)} = 1 - \\frac{V(x|y)}{V(x)} = R_2^2$$"
   ]
  },
  {
   "cell_type": "markdown",
   "metadata": {},
   "source": [
    "2) From b by construction: $b_x = 1 / g$ => $b_y * g = b_y / b_x$\n",
    "\n",
    "$$b_y = \\frac{\\sum x_i*y_i}{\\sum x_i^2}$$\n",
    "$$g = \\frac{\\sum x_i*y_i}{\\sum y_i^2}$$\n",
    "$$b_y * g = \\frac{\\sum x_i*y_i}{\\sum x_i^2} * \\frac{\\sum x_i*y_i}{\\sum y_i^2} = \\frac{(\\sum x_i*y_i)^2}{\\sum x_i^2 * \\sum y_i^2} = R^2$$"
   ]
  },
  {
   "cell_type": "markdown",
   "metadata": {
    "ExecuteTime": {
     "end_time": "2018-10-12T00:10:17.994353Z",
     "start_time": "2018-10-12T00:10:17.955691Z"
    }
   },
   "source": [
    "**Verify numerically that this relationship among $R^2$, b_y, g and b_x occurs with your data for Delta Airlines**"
   ]
  },
  {
   "cell_type": "code",
   "execution_count": 28,
   "metadata": {
    "ExecuteTime": {
     "end_time": "2018-10-12T00:14:56.712792Z",
     "start_time": "2018-10-12T00:14:56.703431Z"
    }
   },
   "outputs": [
    {
     "name": "stdout",
     "output_type": "stream",
     "text": [
      "b_y get from the relationship: 0.25695083963856374 = 0.16432648515463424 * 1.5636605346774641\n",
      "actual b_y: 0.25695083963856374\n"
     ]
    }
   ],
   "source": [
    "r2 = delta_r_value_incorrect ** 2\n",
    "g = delta_slope_incorrect\n",
    "b_x = 1 / g\n",
    "b_y = r2 * b_x\n",
    "print('b_y get from the relationship:', b_y, '=', r2, '*', b_x)\n",
    "print('actual b_y:', delta_slope)"
   ]
  },
  {
   "cell_type": "markdown",
   "metadata": {},
   "source": [
    "**e) Which estimate of $\\beta$ do you prefer - the smaller $b_y$ or the larger $b_x$?**"
   ]
  },
  {
   "cell_type": "markdown",
   "metadata": {},
   "source": [
    "Well, we defined $b_y$ as an estimator of $\\beta$...do we have a choice? Larger b doesn't mean better b as we have already seen in exercise 2, because larger b doesn't mean larger $R^2$."
   ]
  }
 ],
 "metadata": {
  "kernelspec": {
   "display_name": "Python 3.6",
   "language": "python",
   "name": "python3"
  },
  "language_info": {
   "codemirror_mode": {
    "name": "ipython",
    "version": 3
   },
   "file_extension": ".py",
   "mimetype": "text/x-python",
   "name": "python",
   "nbconvert_exporter": "python",
   "pygments_lexer": "ipython3",
   "version": "3.6.3"
  },
  "toc": {
   "base_numbering": 1,
   "nav_menu": {},
   "number_sections": true,
   "sideBar": true,
   "skip_h1_title": false,
   "title_cell": "Table of Contents",
   "title_sidebar": "Contents",
   "toc_cell": false,
   "toc_position": {},
   "toc_section_display": true,
   "toc_window_display": false
  },
  "varInspector": {
   "cols": {
    "lenName": 16,
    "lenType": 16,
    "lenVar": 40
   },
   "kernels_config": {
    "python": {
     "delete_cmd_postfix": "",
     "delete_cmd_prefix": "del ",
     "library": "var_list.py",
     "varRefreshCmd": "print(var_dic_list())"
    },
    "r": {
     "delete_cmd_postfix": ") ",
     "delete_cmd_prefix": "rm(",
     "library": "var_list.r",
     "varRefreshCmd": "cat(var_dic_list()) "
    }
   },
   "types_to_exclude": [
    "module",
    "function",
    "builtin_function_or_method",
    "instance",
    "_Feature"
   ],
   "window_display": false
  }
 },
 "nbformat": 4,
 "nbformat_minor": 2
}
