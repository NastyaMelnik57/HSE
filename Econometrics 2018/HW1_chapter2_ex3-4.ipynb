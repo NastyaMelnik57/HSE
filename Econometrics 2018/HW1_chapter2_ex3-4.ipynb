{
 "cells": [
  {
   "cell_type": "markdown",
   "metadata": {},
   "source": [
    "##### Exercise 3"
   ]
  },
  {
   "cell_type": "markdown",
   "metadata": {},
   "source": [
    "###### a) Using the January 1976 - December 1979 four-year time period and the CAPM, generate variables measuring the GOLD-specific and the market risk premiums,and then estimate $\\beta$ for GOLD. "
   ]
  },
  {
   "cell_type": "code",
   "execution_count": 3,
   "metadata": {
    "ExecuteTime": {
     "end_time": "2018-10-12T01:12:50.957976Z",
     "start_time": "2018-10-12T01:12:48.583288Z"
    }
   },
   "outputs": [
    {
     "name": "stderr",
     "output_type": "stream",
     "text": [
      "/Library/Frameworks/Python.framework/Versions/3.6/lib/python3.6/site-packages/statsmodels/compat/pandas.py:56: FutureWarning: The pandas.core.datetools module is deprecated and will be removed in a future version. Please use the pandas.tseries module instead.\n",
      "  from pandas.core import datetools\n"
     ]
    }
   ],
   "source": [
    "import numpy as np\n",
    "import pandas as pd\n",
    "from scipy import stats\n",
    "import statsmodels.api as sm\n",
    "from statsmodels.formula.api import ols"
   ]
  },
  {
   "cell_type": "code",
   "execution_count": 4,
   "metadata": {
    "ExecuteTime": {
     "end_time": "2018-10-12T01:12:51.101976Z",
     "start_time": "2018-10-12T01:12:50.977881Z"
    }
   },
   "outputs": [],
   "source": [
    "frame = pd.read_excel('chapter2data.xlsx', header=0, index_col='DATE')"
   ]
  },
  {
   "cell_type": "code",
   "execution_count": 5,
   "metadata": {
    "ExecuteTime": {
     "end_time": "2018-10-12T01:12:51.259474Z",
     "start_time": "2018-10-12T01:12:51.251840Z"
    }
   },
   "outputs": [],
   "source": [
    "gold   = frame.GOLD.loc  [pd.Timestamp('1976-01-01'):pd.Timestamp('1979-12-01')]\n",
    "rkfree = frame.RKFREE.loc[pd.Timestamp('1976-01-01'):pd.Timestamp('1979-12-01')]\n",
    "market = frame.MARKET.loc[pd.Timestamp('1976-01-01'):pd.Timestamp('1979-12-01')]"
   ]
  },
  {
   "cell_type": "code",
   "execution_count": 6,
   "metadata": {
    "ExecuteTime": {
     "end_time": "2018-10-12T01:12:51.460961Z",
     "start_time": "2018-10-12T01:12:51.401839Z"
    }
   },
   "outputs": [],
   "source": [
    "gold_specific       = gold - rkfree\n",
    "market_risk_premium = market - rkfree"
   ]
  },
  {
   "cell_type": "code",
   "execution_count": 7,
   "metadata": {
    "ExecuteTime": {
     "end_time": "2018-10-12T01:12:52.074837Z",
     "start_time": "2018-10-12T01:12:52.062177Z"
    }
   },
   "outputs": [],
   "source": [
    "gold_slope, gold_intercept, gold_r_value, gold_p_value, gold_std_err = stats.linregress(gold_specific,\n",
    "                                                                                        market_risk_premium)"
   ]
  },
  {
   "cell_type": "code",
   "execution_count": 8,
   "metadata": {
    "ExecuteTime": {
     "end_time": "2018-10-12T01:12:52.261920Z",
     "start_time": "2018-10-12T01:12:52.255856Z"
    }
   },
   "outputs": [
    {
     "name": "stdout",
     "output_type": "stream",
     "text": [
      "alpha for GOLD: 0.0242045534692234\n",
      "betta for GOLD: -0.23380356107998435\n"
     ]
    }
   ],
   "source": [
    "print('alpha for GOLD:', gold_intercept)\n",
    "print('betta for GOLD:', gold_slope)"
   ]
  },
  {
   "cell_type": "markdown",
   "metadata": {},
   "source": [
    "$\\beta$ for GOLD is -0.2338"
   ]
  },
  {
   "cell_type": "markdown",
   "metadata": {},
   "source": [
    "Compute 95% confidence interval for $\\beta$"
   ]
  },
  {
   "cell_type": "code",
   "execution_count": 9,
   "metadata": {
    "ExecuteTime": {
     "end_time": "2018-10-12T01:12:54.087374Z",
     "start_time": "2018-10-12T01:12:54.016254Z"
    }
   },
   "outputs": [
    {
     "data": {
      "text/html": [
       "<table class=\"simpletable\">\n",
       "<caption>OLS Regression Results</caption>\n",
       "<tr>\n",
       "  <th>Dep. Variable:</th>            <td>y</td>        <th>  R-squared:         </th> <td>   0.055</td>\n",
       "</tr>\n",
       "<tr>\n",
       "  <th>Model:</th>                   <td>OLS</td>       <th>  Adj. R-squared:    </th> <td>   0.034</td>\n",
       "</tr>\n",
       "<tr>\n",
       "  <th>Method:</th>             <td>Least Squares</td>  <th>  F-statistic:       </th> <td>   2.672</td>\n",
       "</tr>\n",
       "<tr>\n",
       "  <th>Date:</th>             <td>Fri, 12 Oct 2018</td> <th>  Prob (F-statistic):</th>  <td> 0.109</td> \n",
       "</tr>\n",
       "<tr>\n",
       "  <th>Time:</th>                 <td>04:12:54</td>     <th>  Log-Likelihood:    </th> <td>  69.399</td>\n",
       "</tr>\n",
       "<tr>\n",
       "  <th>No. Observations:</th>      <td>    48</td>      <th>  AIC:               </th> <td>  -134.8</td>\n",
       "</tr>\n",
       "<tr>\n",
       "  <th>Df Residuals:</th>          <td>    46</td>      <th>  BIC:               </th> <td>  -131.1</td>\n",
       "</tr>\n",
       "<tr>\n",
       "  <th>Df Model:</th>              <td>     1</td>      <th>                     </th>     <td> </td>   \n",
       "</tr>\n",
       "<tr>\n",
       "  <th>Covariance Type:</th>      <td>nonrobust</td>    <th>                     </th>     <td> </td>   \n",
       "</tr>\n",
       "</table>\n",
       "<table class=\"simpletable\">\n",
       "<tr>\n",
       "      <td></td>         <th>coef</th>     <th>std err</th>      <th>t</th>      <th>P>|t|</th>  <th>[0.025</th>    <th>0.975]</th>  \n",
       "</tr>\n",
       "<tr>\n",
       "  <th>Intercept</th> <td>    0.0259</td> <td>    0.009</td> <td>    2.927</td> <td> 0.005</td> <td>    0.008</td> <td>    0.044</td>\n",
       "</tr>\n",
       "<tr>\n",
       "  <th>x</th>         <td>   -0.2348</td> <td>    0.144</td> <td>   -1.635</td> <td> 0.109</td> <td>   -0.524</td> <td>    0.054</td>\n",
       "</tr>\n",
       "</table>\n",
       "<table class=\"simpletable\">\n",
       "<tr>\n",
       "  <th>Omnibus:</th>       <td> 4.217</td> <th>  Durbin-Watson:     </th> <td>   1.450</td>\n",
       "</tr>\n",
       "<tr>\n",
       "  <th>Prob(Omnibus):</th> <td> 0.121</td> <th>  Jarque-Bera (JB):  </th> <td>   3.071</td>\n",
       "</tr>\n",
       "<tr>\n",
       "  <th>Skew:</th>          <td> 0.505</td> <th>  Prob(JB):          </th> <td>   0.215</td>\n",
       "</tr>\n",
       "<tr>\n",
       "  <th>Kurtosis:</th>      <td> 3.718</td> <th>  Cond. No.          </th> <td>    17.1</td>\n",
       "</tr>\n",
       "</table>"
      ],
      "text/plain": [
       "<class 'statsmodels.iolib.summary.Summary'>\n",
       "\"\"\"\n",
       "                            OLS Regression Results                            \n",
       "==============================================================================\n",
       "Dep. Variable:                      y   R-squared:                       0.055\n",
       "Model:                            OLS   Adj. R-squared:                  0.034\n",
       "Method:                 Least Squares   F-statistic:                     2.672\n",
       "Date:                Fri, 12 Oct 2018   Prob (F-statistic):              0.109\n",
       "Time:                        04:12:54   Log-Likelihood:                 69.399\n",
       "No. Observations:                  48   AIC:                            -134.8\n",
       "Df Residuals:                      46   BIC:                            -131.1\n",
       "Df Model:                           1                                         \n",
       "Covariance Type:            nonrobust                                         \n",
       "==============================================================================\n",
       "                 coef    std err          t      P>|t|      [0.025      0.975]\n",
       "------------------------------------------------------------------------------\n",
       "Intercept      0.0259      0.009      2.927      0.005       0.008       0.044\n",
       "x             -0.2348      0.144     -1.635      0.109      -0.524       0.054\n",
       "==============================================================================\n",
       "Omnibus:                        4.217   Durbin-Watson:                   1.450\n",
       "Prob(Omnibus):                  0.121   Jarque-Bera (JB):                3.071\n",
       "Skew:                           0.505   Prob(JB):                        0.215\n",
       "Kurtosis:                       3.718   Cond. No.                         17.1\n",
       "==============================================================================\n",
       "\n",
       "Warnings:\n",
       "[1] Standard Errors assume that the covariance matrix of the errors is correctly specified.\n",
       "\"\"\""
      ]
     },
     "execution_count": 9,
     "metadata": {},
     "output_type": "execute_result"
    }
   ],
   "source": [
    "df_gold = pd.DataFrame({'x':market_risk_premium , 'y': gold_specific})\n",
    "model_gold = ols(\"y ~ x\", df_gold).fit()\n",
    "model_gold.summary()"
   ]
  },
  {
   "cell_type": "markdown",
   "metadata": {},
   "source": [
    "Confidence interval for $\\beta$ is [-0.524,0.054] "
   ]
  },
  {
   "cell_type": "markdown",
   "metadata": {},
   "source": [
    "Why might such an asset be particularly desirable to an investor who is attempting to reduce risk through diversification? What does this imply concerning the expected return on such an asset?"
   ]
  },
  {
   "cell_type": "markdown",
   "metadata": {},
   "source": [
    "Gold is an asset that can be quickly sold in any situation."
   ]
  },
  {
   "cell_type": "markdown",
   "metadata": {},
   "source": [
    "###### b) Estimate the $\\beta$ for GOLD using data from January 1980-December 1985 and construct a 95% confidence interval for $\\beta$."
   ]
  },
  {
   "cell_type": "code",
   "execution_count": 10,
   "metadata": {
    "ExecuteTime": {
     "end_time": "2018-10-12T01:12:55.936739Z",
     "start_time": "2018-10-12T01:12:55.930750Z"
    }
   },
   "outputs": [],
   "source": [
    "gold   = frame.GOLD.loc[pd.Timestamp('1980-01-01'):pd.Timestamp('1985-12-01')]\n",
    "rkfree = frame.RKFREE.loc[pd.Timestamp('1980-01-01'):pd.Timestamp('1985-12-01')]\n",
    "market = frame.MARKET.loc[pd.Timestamp('1980-01-01'):pd.Timestamp('1985-12-01')]"
   ]
  },
  {
   "cell_type": "code",
   "execution_count": 11,
   "metadata": {
    "ExecuteTime": {
     "end_time": "2018-10-12T01:12:56.164003Z",
     "start_time": "2018-10-12T01:12:56.159008Z"
    }
   },
   "outputs": [],
   "source": [
    "gold_specific = gold - rkfree\n",
    "market_risk_premium = market - rkfree"
   ]
  },
  {
   "cell_type": "code",
   "execution_count": 12,
   "metadata": {
    "ExecuteTime": {
     "end_time": "2018-10-12T01:12:56.392231Z",
     "start_time": "2018-10-12T01:12:56.382845Z"
    }
   },
   "outputs": [
    {
     "name": "stdout",
     "output_type": "stream",
     "text": [
      "alpha for GOLD: 0.005724775562333638\n",
      "betta for GOLD: 0.24836205036317202\n"
     ]
    }
   ],
   "source": [
    "gold_slope, gold_intercept, gold_r_value, gold_p_value, gold_std_err = stats.linregress(gold_specific,\n",
    "                                                                                        market_risk_premium)\n",
    "print('alpha for GOLD:', gold_intercept)\n",
    "print('betta for GOLD:', gold_slope)"
   ]
  },
  {
   "cell_type": "markdown",
   "metadata": {},
   "source": [
    "$\\beta$ for GOLD is 0.2484"
   ]
  },
  {
   "cell_type": "code",
   "execution_count": 13,
   "metadata": {
    "ExecuteTime": {
     "end_time": "2018-10-12T01:12:57.908262Z",
     "start_time": "2018-10-12T01:12:57.871262Z"
    }
   },
   "outputs": [
    {
     "data": {
      "text/html": [
       "<table class=\"simpletable\">\n",
       "<caption>OLS Regression Results</caption>\n",
       "<tr>\n",
       "  <th>Dep. Variable:</th>            <td>y</td>        <th>  R-squared:         </th> <td>   0.101</td>\n",
       "</tr>\n",
       "<tr>\n",
       "  <th>Model:</th>                   <td>OLS</td>       <th>  Adj. R-squared:    </th> <td>   0.088</td>\n",
       "</tr>\n",
       "<tr>\n",
       "  <th>Method:</th>             <td>Least Squares</td>  <th>  F-statistic:       </th> <td>   7.846</td>\n",
       "</tr>\n",
       "<tr>\n",
       "  <th>Date:</th>             <td>Fri, 12 Oct 2018</td> <th>  Prob (F-statistic):</th>  <td>0.00658</td>\n",
       "</tr>\n",
       "<tr>\n",
       "  <th>Time:</th>                 <td>04:12:57</td>     <th>  Log-Likelihood:    </th> <td>  79.725</td>\n",
       "</tr>\n",
       "<tr>\n",
       "  <th>No. Observations:</th>      <td>    72</td>      <th>  AIC:               </th> <td>  -155.4</td>\n",
       "</tr>\n",
       "<tr>\n",
       "  <th>Df Residuals:</th>          <td>    70</td>      <th>  BIC:               </th> <td>  -150.9</td>\n",
       "</tr>\n",
       "<tr>\n",
       "  <th>Df Model:</th>              <td>     1</td>      <th>                     </th>     <td> </td>   \n",
       "</tr>\n",
       "<tr>\n",
       "  <th>Covariance Type:</th>      <td>nonrobust</td>    <th>                     </th>     <td> </td>   \n",
       "</tr>\n",
       "</table>\n",
       "<table class=\"simpletable\">\n",
       "<tr>\n",
       "      <td></td>         <th>coef</th>     <th>std err</th>      <th>t</th>      <th>P>|t|</th>  <th>[0.025</th>    <th>0.975]</th>  \n",
       "</tr>\n",
       "<tr>\n",
       "  <th>Intercept</th> <td>   -0.0110</td> <td>    0.010</td> <td>   -1.152</td> <td> 0.253</td> <td>   -0.030</td> <td>    0.008</td>\n",
       "</tr>\n",
       "<tr>\n",
       "  <th>x</th>         <td>    0.4058</td> <td>    0.145</td> <td>    2.801</td> <td> 0.007</td> <td>    0.117</td> <td>    0.695</td>\n",
       "</tr>\n",
       "</table>\n",
       "<table class=\"simpletable\">\n",
       "<tr>\n",
       "  <th>Omnibus:</th>       <td>59.338</td> <th>  Durbin-Watson:     </th> <td>   1.683</td>\n",
       "</tr>\n",
       "<tr>\n",
       "  <th>Prob(Omnibus):</th> <td> 0.000</td> <th>  Jarque-Bera (JB):  </th> <td> 369.487</td>\n",
       "</tr>\n",
       "<tr>\n",
       "  <th>Skew:</th>          <td> 2.362</td> <th>  Prob(JB):          </th> <td>5.85e-81</td>\n",
       "</tr>\n",
       "<tr>\n",
       "  <th>Kurtosis:</th>      <td>13.042</td> <th>  Cond. No.          </th> <td>    15.2</td>\n",
       "</tr>\n",
       "</table>"
      ],
      "text/plain": [
       "<class 'statsmodels.iolib.summary.Summary'>\n",
       "\"\"\"\n",
       "                            OLS Regression Results                            \n",
       "==============================================================================\n",
       "Dep. Variable:                      y   R-squared:                       0.101\n",
       "Model:                            OLS   Adj. R-squared:                  0.088\n",
       "Method:                 Least Squares   F-statistic:                     7.846\n",
       "Date:                Fri, 12 Oct 2018   Prob (F-statistic):            0.00658\n",
       "Time:                        04:12:57   Log-Likelihood:                 79.725\n",
       "No. Observations:                  72   AIC:                            -155.4\n",
       "Df Residuals:                      70   BIC:                            -150.9\n",
       "Df Model:                           1                                         \n",
       "Covariance Type:            nonrobust                                         \n",
       "==============================================================================\n",
       "                 coef    std err          t      P>|t|      [0.025      0.975]\n",
       "------------------------------------------------------------------------------\n",
       "Intercept     -0.0110      0.010     -1.152      0.253      -0.030       0.008\n",
       "x              0.4058      0.145      2.801      0.007       0.117       0.695\n",
       "==============================================================================\n",
       "Omnibus:                       59.338   Durbin-Watson:                   1.683\n",
       "Prob(Omnibus):                  0.000   Jarque-Bera (JB):              369.487\n",
       "Skew:                           2.362   Prob(JB):                     5.85e-81\n",
       "Kurtosis:                      13.042   Cond. No.                         15.2\n",
       "==============================================================================\n",
       "\n",
       "Warnings:\n",
       "[1] Standard Errors assume that the covariance matrix of the errors is correctly specified.\n",
       "\"\"\""
      ]
     },
     "execution_count": 13,
     "metadata": {},
     "output_type": "execute_result"
    }
   ],
   "source": [
    "df_gold = pd.DataFrame({'x':market_risk_premium , 'y': gold_specific})\n",
    "model_gold = ols(\"y ~ x\", df_gold).fit()\n",
    "model_gold.summary()"
   ]
  },
  {
   "cell_type": "markdown",
   "metadata": {},
   "source": [
    "Confidence interval for $\\beta$ is [0.117,0.695] "
   ]
  },
  {
   "cell_type": "markdown",
   "metadata": {},
   "source": [
    "Comment on supply and demand shift factors possibly altering the $\\beta$ of GOLD"
   ]
  },
  {
   "cell_type": "markdown",
   "metadata": {},
   "source": [
    "After a little analysis we could notice an increase in price of gold as an asset, which lasted for at least 1o years from 1970 to 1980. \n",
    "\n",
    "This situation arose because the price was constantly manipulated - suppressed - during the 1960s. When the manipulations ceased, prices rose strongly and quickly in order to reach the level to which they themselves would rise without suppression.\n",
    "\n",
    "After a period of moderate inflation, which began in 1980, the trend in the gold market altered. "
   ]
  },
  {
   "cell_type": "markdown",
   "metadata": {},
   "source": [
    "##### Exercise 4"
   ]
  },
  {
   "cell_type": "markdown",
   "metadata": {},
   "source": [
    "###### a) We need to show that using \"the incorrect\" reciprocal regression equation, one can still find the original CAPM parameters"
   ]
  },
  {
   "cell_type": "code",
   "execution_count": 14,
   "metadata": {
    "ExecuteTime": {
     "end_time": "2018-10-12T01:13:00.307582Z",
     "start_time": "2018-10-12T01:13:00.301568Z"
    }
   },
   "outputs": [],
   "source": [
    "Delta  = frame.DELTA.loc [pd.Timestamp('1983-01-01'):pd.Timestamp('1987-12-01')]\n",
    "rkfree = frame.RKFREE.loc[pd.Timestamp('1983-01-01'):pd.Timestamp('1987-12-01')]\n",
    "market = frame.MARKET.loc[pd.Timestamp('1983-01-01'):pd.Timestamp('1987-12-01')]"
   ]
  },
  {
   "cell_type": "code",
   "execution_count": 15,
   "metadata": {
    "ExecuteTime": {
     "end_time": "2018-10-12T01:13:00.525103Z",
     "start_time": "2018-10-12T01:13:00.520446Z"
    }
   },
   "outputs": [],
   "source": [
    "delta_risk_premium = Delta - rkfree\n",
    "market_risk_premium = market - rkfree"
   ]
  },
  {
   "cell_type": "code",
   "execution_count": 16,
   "metadata": {
    "ExecuteTime": {
     "end_time": "2018-10-12T01:13:00.748909Z",
     "start_time": "2018-10-12T01:13:00.742363Z"
    }
   },
   "outputs": [],
   "source": [
    "delta_wrong_slope, delta_wrong_intercept, delta_wrong_r_value, delta_wrong_p_value, delta_wrong_std_err = stats.linregress( market_risk_premium,\n",
    "                                                                                                          delta_risk_premium)"
   ]
  },
  {
   "cell_type": "code",
   "execution_count": 17,
   "metadata": {
    "ExecuteTime": {
     "end_time": "2018-10-12T01:13:07.431806Z",
     "start_time": "2018-10-12T01:13:07.425720Z"
    }
   },
   "outputs": [
    {
     "name": "stdout",
     "output_type": "stream",
     "text": [
      "inversed delta for DELTA: -0.004296310359829957\n",
      "inversed gamma for DELTA: 0.6395249978002865\n",
      "checking the hypothesis, that gamma is 0, p-value is 0.001313131332783861\n"
     ]
    }
   ],
   "source": [
    "print('inversed delta for DELTA:', delta_wrong_intercept)\n",
    "print('inversed gamma for DELTA:', delta_wrong_slope)\n",
    "print('checking the hypothesis, that gamma is 0, p-value is', delta_wrong_p_value)"
   ]
  },
  {
   "cell_type": "markdown",
   "metadata": {},
   "source": [
    "We reject the hypothesis that gamma equals to 0"
   ]
  },
  {
   "cell_type": "code",
   "execution_count": 18,
   "metadata": {
    "ExecuteTime": {
     "end_time": "2018-10-12T01:13:14.598642Z",
     "start_time": "2018-10-12T01:13:14.592387Z"
    }
   },
   "outputs": [
    {
     "name": "stdout",
     "output_type": "stream",
     "text": [
      "0.006717970954392039\n"
     ]
    }
   ],
   "source": [
    "delta = -delta_wrong_intercept/delta_wrong_slope\n",
    "print(delta)"
   ]
  },
  {
   "cell_type": "code",
   "execution_count": 19,
   "metadata": {
    "ExecuteTime": {
     "end_time": "2018-10-12T01:13:15.247151Z",
     "start_time": "2018-10-12T01:13:15.242319Z"
    }
   },
   "outputs": [
    {
     "name": "stdout",
     "output_type": "stream",
     "text": [
      "1.5636605346774641\n"
     ]
    }
   ],
   "source": [
    "gamma = 1/delta_wrong_slope\n",
    "print(gamma)"
   ]
  },
  {
   "cell_type": "code",
   "execution_count": 20,
   "metadata": {
    "ExecuteTime": {
     "end_time": "2018-10-12T01:13:17.540684Z",
     "start_time": "2018-10-12T01:13:17.534869Z"
    }
   },
   "outputs": [],
   "source": [
    "delta_slope, delta_intercept, delta_r_value, delta_p_value, delta_std_err = stats.linregress(delta_risk_premium,\n",
    "                                                                                             market_risk_premium)"
   ]
  },
  {
   "cell_type": "code",
   "execution_count": 21,
   "metadata": {
    "ExecuteTime": {
     "end_time": "2018-10-12T01:13:18.231442Z",
     "start_time": "2018-10-12T01:13:18.225257Z"
    }
   },
   "outputs": [
    {
     "name": "stdout",
     "output_type": "stream",
     "text": [
      "alpha for DELTA: 0.003701213838445564\n",
      "betta for DELTA: 0.25695083963856374\n",
      "checking the hypothesis, that beta is 0, p-value is 0.001313131332783861\n"
     ]
    }
   ],
   "source": [
    "print('alpha for DELTA:', delta_intercept)\n",
    "print('betta for DELTA:', delta_slope)\n",
    "print('checking the hypothesis, that beta is 0, p-value is', delta_p_value)"
   ]
  },
  {
   "cell_type": "markdown",
   "metadata": {},
   "source": [
    "We reject the hypothesis, that beta equals to 0 (p-value is less that 0.05)"
   ]
  },
  {
   "cell_type": "markdown",
   "metadata": {},
   "source": [
    "We can see, that coeffs, which were calculated using the wrong method, can not be changed to the right ones by any manipulations."
   ]
  },
  {
   "cell_type": "code",
   "execution_count": 313,
   "metadata": {},
   "outputs": [
    {
     "data": {
      "text/html": [
       "<table class=\"simpletable\">\n",
       "<caption>OLS Regression Results</caption>\n",
       "<tr>\n",
       "  <th>Dep. Variable:</th>            <td>y</td>        <th>  R-squared:         </th> <td>   0.164</td>\n",
       "</tr>\n",
       "<tr>\n",
       "  <th>Model:</th>                   <td>OLS</td>       <th>  Adj. R-squared:    </th> <td>   0.150</td>\n",
       "</tr>\n",
       "<tr>\n",
       "  <th>Method:</th>             <td>Least Squares</td>  <th>  F-statistic:       </th> <td>   11.41</td>\n",
       "</tr>\n",
       "<tr>\n",
       "  <th>Date:</th>             <td>Fri, 12 Oct 2018</td> <th>  Prob (F-statistic):</th>  <td>0.00131</td>\n",
       "</tr>\n",
       "<tr>\n",
       "  <th>Time:</th>                 <td>04:01:51</td>     <th>  Log-Likelihood:    </th> <td>  62.531</td>\n",
       "</tr>\n",
       "<tr>\n",
       "  <th>No. Observations:</th>      <td>    60</td>      <th>  AIC:               </th> <td>  -121.1</td>\n",
       "</tr>\n",
       "<tr>\n",
       "  <th>Df Residuals:</th>          <td>    58</td>      <th>  BIC:               </th> <td>  -116.9</td>\n",
       "</tr>\n",
       "<tr>\n",
       "  <th>Df Model:</th>              <td>     1</td>      <th>                     </th>     <td> </td>   \n",
       "</tr>\n",
       "<tr>\n",
       "  <th>Covariance Type:</th>      <td>nonrobust</td>    <th>                     </th>     <td> </td>   \n",
       "</tr>\n",
       "</table>\n",
       "<table class=\"simpletable\">\n",
       "<tr>\n",
       "      <td></td>         <th>coef</th>     <th>std err</th>      <th>t</th>      <th>P>|t|</th>  <th>[0.025</th>    <th>0.975]</th>  \n",
       "</tr>\n",
       "<tr>\n",
       "  <th>Intercept</th> <td>   -0.0043</td> <td>    0.011</td> <td>   -0.383</td> <td> 0.703</td> <td>   -0.027</td> <td>    0.018</td>\n",
       "</tr>\n",
       "<tr>\n",
       "  <th>x</th>         <td>    0.6395</td> <td>    0.189</td> <td>    3.377</td> <td> 0.001</td> <td>    0.260</td> <td>    1.019</td>\n",
       "</tr>\n",
       "</table>\n",
       "<table class=\"simpletable\">\n",
       "<tr>\n",
       "  <th>Omnibus:</th>       <td> 0.111</td> <th>  Durbin-Watson:     </th> <td>   2.160</td>\n",
       "</tr>\n",
       "<tr>\n",
       "  <th>Prob(Omnibus):</th> <td> 0.946</td> <th>  Jarque-Bera (JB):  </th> <td>   0.003</td>\n",
       "</tr>\n",
       "<tr>\n",
       "  <th>Skew:</th>          <td>-0.004</td> <th>  Prob(JB):          </th> <td>   0.999</td>\n",
       "</tr>\n",
       "<tr>\n",
       "  <th>Kurtosis:</th>      <td> 2.967</td> <th>  Cond. No.          </th> <td>    16.9</td>\n",
       "</tr>\n",
       "</table><br/><br/>Warnings:<br/>[1] Standard Errors assume that the covariance matrix of the errors is correctly specified."
      ],
      "text/plain": [
       "<class 'statsmodels.iolib.summary.Summary'>\n",
       "\"\"\"\n",
       "                            OLS Regression Results                            \n",
       "==============================================================================\n",
       "Dep. Variable:                      y   R-squared:                       0.164\n",
       "Model:                            OLS   Adj. R-squared:                  0.150\n",
       "Method:                 Least Squares   F-statistic:                     11.41\n",
       "Date:                Fri, 12 Oct 2018   Prob (F-statistic):            0.00131\n",
       "Time:                        04:01:51   Log-Likelihood:                 62.531\n",
       "No. Observations:                  60   AIC:                            -121.1\n",
       "Df Residuals:                      58   BIC:                            -116.9\n",
       "Df Model:                           1                                         \n",
       "Covariance Type:            nonrobust                                         \n",
       "==============================================================================\n",
       "                 coef    std err          t      P>|t|      [0.025      0.975]\n",
       "------------------------------------------------------------------------------\n",
       "Intercept     -0.0043      0.011     -0.383      0.703      -0.027       0.018\n",
       "x              0.6395      0.189      3.377      0.001       0.260       1.019\n",
       "==============================================================================\n",
       "Omnibus:                        0.111   Durbin-Watson:                   2.160\n",
       "Prob(Omnibus):                  0.946   Jarque-Bera (JB):                0.003\n",
       "Skew:                          -0.004   Prob(JB):                        0.999\n",
       "Kurtosis:                       2.967   Cond. No.                         16.9\n",
       "==============================================================================\n",
       "\n",
       "Warnings:\n",
       "[1] Standard Errors assume that the covariance matrix of the errors is correctly specified.\n",
       "\"\"\""
      ]
     },
     "execution_count": 313,
     "metadata": {},
     "output_type": "execute_result"
    }
   ],
   "source": [
    "df_delta = pd.DataFrame({'x':market_risk_premium , 'y':delta_risk_premium})\n",
    "model_delta = ols(\"y ~ x\", df_delta).fit()\n",
    "model_delta.summary()"
   ]
  },
  {
   "cell_type": "markdown",
   "metadata": {},
   "source": [
    "$R^2$ equals to 0.164"
   ]
  },
  {
   "cell_type": "code",
   "execution_count": 314,
   "metadata": {},
   "outputs": [
    {
     "data": {
      "text/html": [
       "<table class=\"simpletable\">\n",
       "<caption>OLS Regression Results</caption>\n",
       "<tr>\n",
       "  <th>Dep. Variable:</th>            <td>y</td>        <th>  R-squared:         </th> <td>   0.164</td>\n",
       "</tr>\n",
       "<tr>\n",
       "  <th>Model:</th>                   <td>OLS</td>       <th>  Adj. R-squared:    </th> <td>   0.150</td>\n",
       "</tr>\n",
       "<tr>\n",
       "  <th>Method:</th>             <td>Least Squares</td>  <th>  F-statistic:       </th> <td>   11.41</td>\n",
       "</tr>\n",
       "<tr>\n",
       "  <th>Date:</th>             <td>Fri, 12 Oct 2018</td> <th>  Prob (F-statistic):</th>  <td>0.00131</td>\n",
       "</tr>\n",
       "<tr>\n",
       "  <th>Time:</th>                 <td>04:01:51</td>     <th>  Log-Likelihood:    </th> <td>  62.531</td>\n",
       "</tr>\n",
       "<tr>\n",
       "  <th>No. Observations:</th>      <td>    60</td>      <th>  AIC:               </th> <td>  -121.1</td>\n",
       "</tr>\n",
       "<tr>\n",
       "  <th>Df Residuals:</th>          <td>    58</td>      <th>  BIC:               </th> <td>  -116.9</td>\n",
       "</tr>\n",
       "<tr>\n",
       "  <th>Df Model:</th>              <td>     1</td>      <th>                     </th>     <td> </td>   \n",
       "</tr>\n",
       "<tr>\n",
       "  <th>Covariance Type:</th>      <td>nonrobust</td>    <th>                     </th>     <td> </td>   \n",
       "</tr>\n",
       "</table>\n",
       "<table class=\"simpletable\">\n",
       "<tr>\n",
       "      <td></td>         <th>coef</th>     <th>std err</th>      <th>t</th>      <th>P>|t|</th>  <th>[0.025</th>    <th>0.975]</th>  \n",
       "</tr>\n",
       "<tr>\n",
       "  <th>Intercept</th> <td>   -0.0043</td> <td>    0.011</td> <td>   -0.383</td> <td> 0.703</td> <td>   -0.027</td> <td>    0.018</td>\n",
       "</tr>\n",
       "<tr>\n",
       "  <th>x</th>         <td>    0.6395</td> <td>    0.189</td> <td>    3.377</td> <td> 0.001</td> <td>    0.260</td> <td>    1.019</td>\n",
       "</tr>\n",
       "</table>\n",
       "<table class=\"simpletable\">\n",
       "<tr>\n",
       "  <th>Omnibus:</th>       <td> 0.111</td> <th>  Durbin-Watson:     </th> <td>   2.160</td>\n",
       "</tr>\n",
       "<tr>\n",
       "  <th>Prob(Omnibus):</th> <td> 0.946</td> <th>  Jarque-Bera (JB):  </th> <td>   0.003</td>\n",
       "</tr>\n",
       "<tr>\n",
       "  <th>Skew:</th>          <td>-0.004</td> <th>  Prob(JB):          </th> <td>   0.999</td>\n",
       "</tr>\n",
       "<tr>\n",
       "  <th>Kurtosis:</th>      <td> 2.967</td> <th>  Cond. No.          </th> <td>    16.9</td>\n",
       "</tr>\n",
       "</table><br/><br/>Warnings:<br/>[1] Standard Errors assume that the covariance matrix of the errors is correctly specified."
      ],
      "text/plain": [
       "<class 'statsmodels.iolib.summary.Summary'>\n",
       "\"\"\"\n",
       "                            OLS Regression Results                            \n",
       "==============================================================================\n",
       "Dep. Variable:                      y   R-squared:                       0.164\n",
       "Model:                            OLS   Adj. R-squared:                  0.150\n",
       "Method:                 Least Squares   F-statistic:                     11.41\n",
       "Date:                Fri, 12 Oct 2018   Prob (F-statistic):            0.00131\n",
       "Time:                        04:01:51   Log-Likelihood:                 62.531\n",
       "No. Observations:                  60   AIC:                            -121.1\n",
       "Df Residuals:                      58   BIC:                            -116.9\n",
       "Df Model:                           1                                         \n",
       "Covariance Type:            nonrobust                                         \n",
       "==============================================================================\n",
       "                 coef    std err          t      P>|t|      [0.025      0.975]\n",
       "------------------------------------------------------------------------------\n",
       "Intercept     -0.0043      0.011     -0.383      0.703      -0.027       0.018\n",
       "x              0.6395      0.189      3.377      0.001       0.260       1.019\n",
       "==============================================================================\n",
       "Omnibus:                        0.111   Durbin-Watson:                   2.160\n",
       "Prob(Omnibus):                  0.946   Jarque-Bera (JB):                0.003\n",
       "Skew:                          -0.004   Prob(JB):                        0.999\n",
       "Kurtosis:                       2.967   Cond. No.                         16.9\n",
       "==============================================================================\n",
       "\n",
       "Warnings:\n",
       "[1] Standard Errors assume that the covariance matrix of the errors is correctly specified.\n",
       "\"\"\""
      ]
     },
     "execution_count": 314,
     "metadata": {},
     "output_type": "execute_result"
    }
   ],
   "source": [
    "df_delta = pd.DataFrame({'y':market_risk_premium , 'x':delta_risk_premium})\n",
    "model_deltAa = ols(\"y ~ x\", df_delta).fit()\n",
    "model_delta.summary()"
   ]
  },
  {
   "cell_type": "markdown",
   "metadata": {},
   "source": [
    "$R^2$ also equals ro 0.164"
   ]
  },
  {
   "cell_type": "markdown",
   "metadata": {},
   "source": [
    "But, as we see, $R^2$ happens to be the same"
   ]
  },
  {
   "cell_type": "markdown",
   "metadata": {},
   "source": [
    "**_d) Why $R_1^2$ from the correct equation is identical to the $R_2^2$ from the incorrect equation? Show that $R^2 = b_y * g = b_y / b_x$_**"
   ]
  },
  {
   "cell_type": "markdown",
   "metadata": {},
   "source": [
    "1) $$R_1^2 = 1 - \\frac{V(y|x)}{V(y)} = 1 - \\frac{V(x|y)}{V(x)} = R_2^2$$"
   ]
  },
  {
   "cell_type": "markdown",
   "metadata": {},
   "source": [
    "2) From b by construction: $b_x = 1 / g$ => $b_y * g = b_y / b_x$\n",
    "\n",
    "$$b_y = \\frac{\\sum x_i*y_i}{\\sum x_i^2}$$\n",
    "$$g = \\frac{\\sum x_i*y_i}{\\sum y_i^2}$$\n",
    "$$b_y * g = \\frac{\\sum x_i*y_i}{\\sum x_i^2} * \\frac{\\sum x_i*y_i}{\\sum y_i^2} = \\frac{(\\sum x_i*y_i)^2}{\\sum x_i^2 * \\sum y_i^2} = R^2$$"
   ]
  },
  {
   "cell_type": "markdown",
   "metadata": {},
   "source": [
    "**Verify numerically that this relationship among $R^2$, b_y, g and b_x occurs with your data for Delta Airlines**"
   ]
  },
  {
   "cell_type": "code",
   "execution_count": 22,
   "metadata": {
    "ExecuteTime": {
     "end_time": "2018-10-12T01:14:03.557484Z",
     "start_time": "2018-10-12T01:14:03.551060Z"
    }
   },
   "outputs": [
    {
     "name": "stdout",
     "output_type": "stream",
     "text": [
      "b_y get from the relationship: 0.25695083963856374 = 0.16432648515463424 * 1.5636605346774641\n",
      "actual b_y: 0.25695083963856374\n"
     ]
    }
   ],
   "source": [
    "r2 = delta_wrong_r_value ** 2\n",
    "g = delta_wrong_slope\n",
    "b_x = 1 / g\n",
    "b_y = r2 * b_x\n",
    "print('b_y get from the relationship:', b_y, '=', r2, '*', b_x)\n",
    "print('actual b_y:', delta_slope)"
   ]
  },
  {
   "cell_type": "markdown",
   "metadata": {
    "ExecuteTime": {
     "end_time": "2018-10-12T01:09:56.180253Z",
     "start_time": "2018-10-12T01:09:56.169575Z"
    }
   },
   "source": [
    "**e) Which estimate of $\\beta$ do you prefer - the smaller $b_y$ or the larger $b_x$?**"
   ]
  },
  {
   "cell_type": "markdown",
   "metadata": {},
   "source": [
    "Well, we defined $b_y$ as an estimator of $\\beta$...do we have a choice? Larger b doesn't mean better b as we have already seen in exercise 2, because larger b doesn't mean larger $R^2$."
   ]
  }
 ],
 "metadata": {
  "kernelspec": {
   "display_name": "Python 3.6",
   "language": "python",
   "name": "python3"
  },
  "language_info": {
   "codemirror_mode": {
    "name": "ipython",
    "version": 3
   },
   "file_extension": ".py",
   "mimetype": "text/x-python",
   "name": "python",
   "nbconvert_exporter": "python",
   "pygments_lexer": "ipython3",
   "version": "3.6.3"
  },
  "toc": {
   "base_numbering": 1,
   "nav_menu": {},
   "number_sections": true,
   "sideBar": true,
   "skip_h1_title": false,
   "title_cell": "Table of Contents",
   "title_sidebar": "Contents",
   "toc_cell": false,
   "toc_position": {},
   "toc_section_display": true,
   "toc_window_display": false
  },
  "varInspector": {
   "cols": {
    "lenName": 16,
    "lenType": 16,
    "lenVar": 40
   },
   "kernels_config": {
    "python": {
     "delete_cmd_postfix": "",
     "delete_cmd_prefix": "del ",
     "library": "var_list.py",
     "varRefreshCmd": "print(var_dic_list())"
    },
    "r": {
     "delete_cmd_postfix": ") ",
     "delete_cmd_prefix": "rm(",
     "library": "var_list.r",
     "varRefreshCmd": "cat(var_dic_list()) "
    }
   },
   "types_to_exclude": [
    "module",
    "function",
    "builtin_function_or_method",
    "instance",
    "_Feature"
   ],
   "window_display": false
  }
 },
 "nbformat": 4,
 "nbformat_minor": 2
}
