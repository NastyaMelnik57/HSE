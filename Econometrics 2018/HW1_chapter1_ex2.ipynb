{
 "cells": [
  {
   "cell_type": "markdown",
   "metadata": {},
   "source": [
    "#### Chapter 1. Exercise 2."
   ]
  },
  {
   "cell_type": "code",
   "execution_count": 2,
   "metadata": {
    "ExecuteTime": {
     "end_time": "2018-10-11T22:39:13.958158Z",
     "start_time": "2018-10-11T22:39:13.397966Z"
    }
   },
   "outputs": [],
   "source": [
    "import pandas as pd"
   ]
  },
  {
   "cell_type": "code",
   "execution_count": 3,
   "metadata": {
    "ExecuteTime": {
     "end_time": "2018-10-11T22:39:14.125204Z",
     "start_time": "2018-10-11T22:39:13.970940Z"
    }
   },
   "outputs": [],
   "source": [
    "data = pd.read_excel('chapter2data.xlsx', index_col='DATE')"
   ]
  },
  {
   "cell_type": "markdown",
   "metadata": {},
   "source": [
    "**_Choose one industry that you think is highly risky and another industry that you think is relatively \"safe\"._**\n",
    "\n",
    "Food ingustry seems to be relatively safe and banks - risky. Let's look at CITCRP and GENMIL data."
   ]
  },
  {
   "cell_type": "markdown",
   "metadata": {},
   "source": [
    "**_Divide your sample into the first half (January 1978 - December 1982) and the second half (January 1983 - December 1987) and choose the half with wich you will work._**\n",
    "\n",
    "Let's consider the first half of data."
   ]
  },
  {
   "cell_type": "code",
   "execution_count": 4,
   "metadata": {
    "ExecuteTime": {
     "end_time": "2018-10-11T22:39:15.261429Z",
     "start_time": "2018-10-11T22:39:15.251966Z"
    }
   },
   "outputs": [],
   "source": [
    "citcrp = data.CITCRP.loc[pd.Timestamp('1978-01-01'):pd.Timestamp('1982-12-01')]\n",
    "genmil = data.GENMIL.loc[pd.Timestamp('1978-01-01'):pd.Timestamp('1982-12-01')]\n",
    "rkfree = data.RKFREE.loc[pd.Timestamp('1978-01-01'):pd.Timestamp('1982-12-01')]\n",
    "market = data.MARKET.loc[pd.Timestamp('1978-01-01'):pd.Timestamp('1982-12-01')]"
   ]
  },
  {
   "cell_type": "markdown",
   "metadata": {},
   "source": [
    "Eq. 2.17\n",
    "\n",
    "$$r_j - r_f = \\alpha_j + \\beta_j (r_m - r_f) + e_j$$"
   ]
  },
  {
   "cell_type": "markdown",
   "metadata": {},
   "source": [
    "**_a) Using your computer regression software, the 60 observations you have chosen, and Eq. (2.17), estimate by ordinary least squares the parameters $\\alpha$ and $\\beta$ for one firm in each of these two industries. Do the estimates of $\\beta$ correspond well with your prior intuition or belief? Why or why not?_**"
   ]
  },
  {
   "cell_type": "markdown",
   "metadata": {},
   "source": [
    "Let's use a linear least-squares regression available within the stats module of Scipy (scipy.stats.linregress)."
   ]
  },
  {
   "cell_type": "code",
   "execution_count": 5,
   "metadata": {
    "ExecuteTime": {
     "end_time": "2018-10-11T22:39:17.033951Z",
     "start_time": "2018-10-11T22:39:16.619955Z"
    }
   },
   "outputs": [],
   "source": [
    "citcrp_risk_premium = citcrp - rkfree\n",
    "genmil_risk_premium = genmil - rkfree\n",
    "market_risk_premium = market - rkfree"
   ]
  },
  {
   "cell_type": "code",
   "execution_count": 6,
   "metadata": {
    "ExecuteTime": {
     "end_time": "2018-10-11T22:39:17.945978Z",
     "start_time": "2018-10-11T22:39:17.121909Z"
    }
   },
   "outputs": [],
   "source": [
    "from scipy import stats\n",
    "citcrp_slope, citcrp_intercept, citcrp_r_value, citcrp_p_value, citcrp_std_err = stats.linregress(citcrp_risk_premium, market_risk_premium)\n",
    "genmil_slope, genmil_intercept, genmil_r_value, genmil_p_value, genmil_std_err = stats.linregress(genmil_risk_premium, market_risk_premium)"
   ]
  },
  {
   "cell_type": "code",
   "execution_count": 7,
   "metadata": {
    "ExecuteTime": {
     "end_time": "2018-10-11T22:39:18.164320Z",
     "start_time": "2018-10-11T22:39:18.152555Z"
    }
   },
   "outputs": [
    {
     "name": "stdout",
     "output_type": "stream",
     "text": [
      "alpha for CONTIL: 0.008755978253758671\n",
      "beta for CONTIL: 0.43624789298424993\n",
      "alpha for GENMIL: 0.010334427642417241\n",
      "beta for GENMIL: 0.16150188991543996\n"
     ]
    }
   ],
   "source": [
    "print('alpha for CONTIL:', citcrp_intercept)\n",
    "print('beta for CONTIL:', citcrp_slope)\n",
    "print('alpha for GENMIL:', genmil_intercept)\n",
    "print('beta for GENMIL:', genmil_slope)"
   ]
  },
  {
   "cell_type": "markdown",
   "metadata": {},
   "source": [
    "The estimate of $\\beta$ for the firm from food industry (~0.16) is less than the one for the bank (~0.44) by 63%. Which means that the food firm is actually less risky that the bank what seems to make sense since food in general is a necessary good and food market shouldn't change a lot even in case of common market shock while banks activity is very sensitive to whatever is going on in the world and depends on insides and news (like it was with Sberbank in December 2014 when it lost during one week more than trillion of rubles because of someone's spam attack)."
   ]
  },
  {
   "cell_type": "markdown",
   "metadata": {},
   "source": [
    "But let's now check all other firms due to find the safest one and the riskiest one."
   ]
  },
  {
   "cell_type": "code",
   "execution_count": 8,
   "metadata": {
    "ExecuteTime": {
     "end_time": "2018-10-11T22:39:18.793480Z",
     "start_time": "2018-10-11T22:39:18.752661Z"
    }
   },
   "outputs": [
    {
     "name": "stdout",
     "output_type": "stream",
     "text": [
      "MOBIL 0.5456005896315541 0.6090048338697057\n",
      "TEXACO 0.5633210458483533 0.6019655310019463\n",
      "IBM 0.5923942373685911 0.4481393516792449\n",
      "DEC 0.5751301278668433 0.6375628742600715\n",
      "DATGEN 0.33187394033108486 0.5777007058141425\n",
      "CONED 0.299648601534844 0.20518346043722774\n",
      "PSNH 0.5676915710965611 0.35180419533007595\n",
      "WEYER 0.5472763199100223 0.6224226338412773\n",
      "BOISE 0.46002849950546026 0.637935536422588\n",
      "MOTOR 0.43055189391301785 0.4892532636646321\n",
      "TANDY 0.2997049493276856 0.5558227460949497\n",
      "PANAM 0.2625724172503772 0.44277284536656053\n",
      "DELTA 0.24097437141453976 0.3073850517901633\n",
      "CONTIL 0.2799178866521468 0.3297904357033843\n",
      "CITCRP 0.43624789298424993 0.44140882103160134\n",
      "GERBER 0.42087049341019667 0.44150974111942803\n",
      "GENMIL 0.16150188991543996 0.12627879422349467\n"
     ]
    }
   ],
   "source": [
    "for firm in ['MOBIL', 'TEXACO', 'IBM', 'DEC', 'DATGEN', 'CONED', 'PSNH', 'WEYER', 'BOISE', 'MOTOR', 'TANDY', 'PANAM',\n",
    "            'DELTA', 'CONTIL', 'CITCRP', 'GERBER', 'GENMIL']:\n",
    "    firm_data = data[firm].loc[pd.Timestamp('1978-01-01'):pd.Timestamp('1982-12-01')]\n",
    "    firm_risk_premium = firm_data - rkfree\n",
    "    slope, intercept, r_value, p_value, std_err = stats.linregress(firm_risk_premium, market_risk_premium)\n",
    "    print(firm, slope, r_value)"
   ]
  },
  {
   "cell_type": "markdown",
   "metadata": {
    "ExecuteTime": {
     "end_time": "2018-10-03T22:10:02.040257Z",
     "start_time": "2018-10-03T22:10:02.021145Z"
    }
   },
   "source": [
    "GENMIL is indeed the safest company from given. While IBM and DEC companies, which belongs to computers industry, have the highest risk."
   ]
  },
  {
   "cell_type": "markdown",
   "metadata": {
    "ExecuteTime": {
     "end_time": "2018-10-03T22:17:28.004269Z",
     "start_time": "2018-10-03T22:17:27.977875Z"
    }
   },
   "source": [
    "**_b) For one of those companies, make a time plot of the historical company risk premium, the company risk premium predicted by the regression model and the associated residuals._**"
   ]
  },
  {
   "cell_type": "markdown",
   "metadata": {},
   "source": [
    "Let's consider GENMIL company and use the regression model and the second half of market data to predict the second half of genmil risk premium."
   ]
  },
  {
   "cell_type": "code",
   "execution_count": 9,
   "metadata": {
    "ExecuteTime": {
     "end_time": "2018-10-11T22:39:20.227624Z",
     "start_time": "2018-10-11T22:39:20.220337Z"
    }
   },
   "outputs": [],
   "source": [
    "genmil_future = data.GENMIL.loc[pd.Timestamp('1983-01-01'):]\n",
    "market_future = data.MARKET.loc[pd.Timestamp('1983-01-01'):]\n",
    "rkfree_future = data.RKFREE.loc[pd.Timestamp('1983-01-01'):]\n",
    "market_risk_premium_future = market_future - rkfree_future \n",
    "genmil_risk_premium_forecast = genmil_intercept + genmil_slope * market_risk_premium_future\n",
    "residuals = genmil_future - genmil_risk_premium_forecast"
   ]
  },
  {
   "cell_type": "code",
   "execution_count": 13,
   "metadata": {
    "ExecuteTime": {
     "end_time": "2018-10-11T22:51:08.140734Z",
     "start_time": "2018-10-11T22:51:08.114290Z"
    }
   },
   "outputs": [
    {
     "data": {
      "application/vnd.plotly.v1+json": {
       "data": [
        {
         "mode": "lines",
         "name": "history",
         "type": "scatter",
         "x": [
          "1978-01-01",
          "1978-02-01",
          "1978-03-01",
          "1978-04-01",
          "1978-05-01",
          "1978-06-01",
          "1978-07-01",
          "1978-08-01",
          "1978-09-01",
          "1978-10-01",
          "1978-11-01",
          "1978-12-01",
          "1979-01-01",
          "1979-02-01",
          "1979-03-01",
          "1979-04-01",
          "1979-05-01",
          "1979-06-01",
          "1979-07-01",
          "1979-08-01",
          "1979-09-01",
          "1979-10-01",
          "1979-11-01",
          "1979-12-01",
          "1980-01-01",
          "1980-02-01",
          "1980-03-01",
          "1980-04-01",
          "1980-05-01",
          "1980-06-01",
          "1980-07-01",
          "1980-08-01",
          "1980-09-01",
          "1980-10-01",
          "1980-11-01",
          "1980-12-01",
          "1981-01-01",
          "1981-02-01",
          "1981-03-01",
          "1981-04-01",
          "1981-05-01",
          "1981-06-01",
          "1981-07-01",
          "1981-08-01",
          "1981-09-01",
          "1981-10-01",
          "1981-11-01",
          "1981-12-01",
          "1982-01-01",
          "1982-02-01",
          "1982-03-01",
          "1982-04-01",
          "1982-05-01",
          "1982-06-01",
          "1982-07-01",
          "1982-08-01",
          "1982-09-01",
          "1982-10-01",
          "1982-11-01",
          "1982-12-01",
          "1983-01-01",
          "1983-02-01",
          "1983-03-01",
          "1983-04-01",
          "1983-05-01",
          "1983-06-01",
          "1983-07-01",
          "1983-08-01",
          "1983-09-01",
          "1983-10-01",
          "1983-11-01",
          "1983-12-01",
          "1984-01-01",
          "1984-02-01",
          "1984-03-01",
          "1984-04-01",
          "1984-05-01",
          "1984-06-01",
          "1984-07-01",
          "1984-08-01",
          "1984-09-01",
          "1984-10-01",
          "1984-11-01",
          "1984-12-01",
          "1985-01-01",
          "1985-02-01",
          "1985-03-01",
          "1985-04-01",
          "1985-05-01",
          "1985-06-01",
          "1985-07-01",
          "1985-08-01",
          "1985-09-01",
          "1985-10-01",
          "1985-11-01",
          "1985-12-01",
          "1986-01-01",
          "1986-02-01",
          "1986-03-01",
          "1986-04-01",
          "1986-05-01",
          "1986-06-01",
          "1986-07-01",
          "1986-08-01",
          "1986-09-01",
          "1986-10-01",
          "1986-11-01",
          "1986-12-01",
          "1987-01-01",
          "1987-02-01",
          "1987-03-01",
          "1987-04-01",
          "1987-05-01",
          "1987-06-01",
          "1987-07-01",
          "1987-08-01",
          "1987-09-01",
          "1987-10-01",
          "1987-11-01",
          "1987-12-01"
         ],
         "y": [
          -0.099,
          0.018,
          -0.023,
          0.046,
          0.063,
          0.008,
          0.075,
          -0.051,
          -0.012,
          -0.032,
          0.009,
          0.022,
          -0.032,
          -0.079,
          -0.043,
          0.022,
          0.035,
          -0.043,
          -0.013,
          0.138,
          -0.032,
          -0.067,
          0.005,
          0.005,
          0.003,
          -0.096,
          0.011,
          0.059,
          0.18,
          -0.013,
          0.012,
          0.018,
          -0.013,
          -0.073,
          -0.03,
          0.102,
          0.079,
          0.013,
          0.146,
          0.019,
          0.03,
          0.094,
          -0.045,
          -0.031,
          0.036,
          0.067,
          -0.03,
          -0.024,
          -0.03,
          0.098,
          0.02,
          0.076,
          -0.027,
          0.05,
          0.038,
          0.032,
          0,
          0.16,
          -0.025,
          -0.02,
          -0.039,
          0.067,
          0.061,
          0.066,
          0.023,
          -0.026,
          -0.072,
          -0.01,
          -0.037,
          0.116,
          -0.014,
          -0.009,
          -0.009,
          -0.073,
          -0.018,
          0.065,
          0.018,
          0.055,
          -0.018,
          0.061,
          0.011,
          -0.01,
          -0.072,
          0.017,
          0.095,
          0,
          0.054,
          -0.083,
          0.137,
          0.06,
          -0.099,
          0.002,
          0.081,
          0.013,
          0.114,
          0.027,
          0.019,
          0.121,
          0.072,
          -0.051,
          0.109,
          0.071,
          0.049,
          0.003,
          -0.088,
          0.123,
          0.011,
          -0.034,
          0.123,
          0.049,
          0.01,
          -0.104,
          0.19,
          0.03,
          0.036,
          0.022,
          -0.009,
          -0.148,
          -0.102,
          0.128
         ]
        },
        {
         "mode": "lines",
         "name": "model prediction",
         "type": "scatter",
         "x": [
          "1983-01-01",
          "1983-02-01",
          "1983-03-01",
          "1983-04-01",
          "1983-05-01",
          "1983-06-01",
          "1983-07-01",
          "1983-08-01",
          "1983-09-01",
          "1983-10-01",
          "1983-11-01",
          "1983-12-01",
          "1984-01-01",
          "1984-02-01",
          "1984-03-01",
          "1984-04-01",
          "1984-05-01",
          "1984-06-01",
          "1984-07-01",
          "1984-08-01",
          "1984-09-01",
          "1984-10-01",
          "1984-11-01",
          "1984-12-01",
          "1985-01-01",
          "1985-02-01",
          "1985-03-01",
          "1985-04-01",
          "1985-05-01",
          "1985-06-01",
          "1985-07-01",
          "1985-08-01",
          "1985-09-01",
          "1985-10-01",
          "1985-11-01",
          "1985-12-01",
          "1986-01-01",
          "1986-02-01",
          "1986-03-01",
          "1986-04-01",
          "1986-05-01",
          "1986-06-01",
          "1986-07-01",
          "1986-08-01",
          "1986-09-01",
          "1986-10-01",
          "1986-11-01",
          "1986-12-01",
          "1987-01-01",
          "1987-02-01",
          "1987-03-01",
          "1987-04-01",
          "1987-05-01",
          "1987-06-01",
          "1987-07-01",
          "1987-08-01",
          "1987-09-01",
          "1987-10-01",
          "1987-11-01",
          "1987-12-01"
         ],
         "y": [
          -0.0587887482780671,
          0.05311091576054393,
          0.04482889405603876,
          0.041052881358033755,
          0.0007935684298987639,
          -0.04299961063922744,
          -0.07843577201985852,
          -0.013764530760657144,
          -0.046200684375210854,
          0.12000371014427552,
          -0.033890494468713825,
          -0.016277196866317963,
          -0.013500979378671549,
          -0.07740407824472229,
          -0.027586673892108754,
          0.05634680703160249,
          0.018045298822448083,
          0.04506609704457305,
          -0.017722138456073677,
          0.028462292532008077,
          0.0020060380438809092,
          -0.013570728492758616,
          -0.07829365035673293,
          0.007815465813780693,
          0.06997859048867265,
          -0.011326049246498042,
          0.0434233195227096,
          -0.09074878238487105,
          0.12442392612555646,
          0.051015728157275834,
          -0.11036480970007775,
          -0.008261751791955292,
          0.08047035209434912,
          -0.0006016108754065917,
          0.09500907105811518,
          0.015339641841376997,
          0.01100411972355833,
          0.10359663463598395,
          0.05473391124241207,
          -0.05916384224195373,
          0.09150942361542962,
          0.060791543831716796,
          0.05167939464696891,
          -0.014694068765863839,
          -0.09007199095434333,
          0.11043361623895137,
          0.0013438802952276067,
          -0.042909980973363064,
          0.08949651123031374,
          0.028873712772009636,
          -0.005626844574946209,
          -0.10996257148240628,
          0.17972694307575063,
          0.01417773813825611,
          0.01751780201134881,
          0.009985952702462182,
          -0.01607208946612535,
          -0.11576575949850557,
          -0.10056416990537997,
          0.10632329462882141
         ]
        },
        {
         "mode": "lines",
         "name": "residuals",
         "type": "scatter",
         "x": [
          "1983-01-01",
          "1983-02-01",
          "1983-03-01",
          "1983-04-01",
          "1983-05-01",
          "1983-06-01",
          "1983-07-01",
          "1983-08-01",
          "1983-09-01",
          "1983-10-01",
          "1983-11-01",
          "1983-12-01",
          "1984-01-01",
          "1984-02-01",
          "1984-03-01",
          "1984-04-01",
          "1984-05-01",
          "1984-06-01",
          "1984-07-01",
          "1984-08-01",
          "1984-09-01",
          "1984-10-01",
          "1984-11-01",
          "1984-12-01",
          "1985-01-01",
          "1985-02-01",
          "1985-03-01",
          "1985-04-01",
          "1985-05-01",
          "1985-06-01",
          "1985-07-01",
          "1985-08-01",
          "1985-09-01",
          "1985-10-01",
          "1985-11-01",
          "1985-12-01",
          "1986-01-01",
          "1986-02-01",
          "1986-03-01",
          "1986-04-01",
          "1986-05-01",
          "1986-06-01",
          "1986-07-01",
          "1986-08-01",
          "1986-09-01",
          "1986-10-01",
          "1986-11-01",
          "1986-12-01",
          "1987-01-01",
          "1987-02-01",
          "1987-03-01",
          "1987-04-01",
          "1987-05-01",
          "1987-06-01",
          "1987-07-01",
          "1987-08-01",
          "1987-09-01",
          "1987-10-01",
          "1987-11-01",
          "1987-12-01"
         ],
         "y": [
          0.0197887482780671,
          0.013889084239456074,
          0.01617110594396124,
          0.02494711864196625,
          0.022206431570101236,
          0.016999610639227447,
          0.00643577201985852,
          0.0037645307606571435,
          0.009200684375210853,
          -0.0040037101442755175,
          0.019890494468713823,
          0.007277196866317962,
          0.00450097937867155,
          0.0044040782447222855,
          0.009586673892108754,
          0.008653192968397512,
          -4.529882244808624e-05,
          0.00993390295542695,
          -0.0002778615439263197,
          0.03253770746799192,
          0.00899396195611909,
          0.0035707284927586156,
          0.006293650356732934,
          0.009184534186219308,
          0.02502140951132735,
          0.011326049246498042,
          0.010576680477290401,
          0.007748782384871047,
          0.012576073874443547,
          0.008984271842724163,
          0.011364809700077748,
          0.010261751791955293,
          0.0005296479056508818,
          0.013601610875406591,
          0.018990928941884824,
          0.011660358158623003,
          0.00799588027644167,
          0.01740336536401605,
          0.017266088757587922,
          0.008163842241953729,
          0.017490576384570387,
          0.010208456168283198,
          -0.0026793946469689106,
          0.017694068765863838,
          0.0020719909543433328,
          0.01256638376104862,
          0.009656119704772393,
          0.008909980973363062,
          0.03350348876968626,
          0.020126287227990366,
          0.01562684457494621,
          0.005962571482406281,
          0.010273056924249374,
          0.01582226186174389,
          0.018482197988651188,
          0.012014047297537817,
          0.007072089466125354,
          -0.03223424050149443,
          -0.0014358300946200227,
          0.02167670537117859
         ]
        }
       ],
       "layout": {}
      }
     },
     "metadata": {},
     "output_type": "display_data"
    }
   ],
   "source": [
    "import plotly\n",
    "import plotly.graph_objs as go\n",
    "\n",
    "x1=pd.concat([genmil, genmil_future]).index\n",
    "y1=pd.concat([genmil, genmil_future]).values\n",
    "\n",
    "x2=genmil_risk_premium_forecast.index\n",
    "y2=genmil_risk_premium_forecast.values\n",
    "\n",
    "x3=residuals.index\n",
    "y3=residuals.values\n",
    "\n",
    "\n",
    "trace0 = go.Scatter(\n",
    "    x = x1,\n",
    "    y = y1,\n",
    "    mode = 'lines',\n",
    "    name = 'history'\n",
    ")\n",
    "trace1 = go.Scatter(\n",
    "    x = x2,\n",
    "    y = y2,\n",
    "    mode = 'lines',\n",
    "    name = 'residuals'\n",
    ")\n",
    "trace2 = go.Scatter(\n",
    "    x = x3,\n",
    "    y = y3,\n",
    "    mode = 'lines',\n",
    "    name = 'model prediction'\n",
    ")\n",
    "data = [trace0, trace2, trace1]\n",
    "\n",
    "plotly.offline.iplot(data, filename='line-mode')"
   ]
  },
  {
   "cell_type": "markdown",
   "metadata": {},
   "source": [
    "**_c) For each of the companies, test the null hypothesis that $\\alpha = 0$ against the alternative hypothesis that $\\alpha \\neq 0$, using a significance level of 95%._**"
   ]
  },
  {
   "cell_type": "markdown",
   "metadata": {
    "ExecuteTime": {
     "end_time": "2018-10-03T23:04:46.374416Z",
     "start_time": "2018-10-03T23:04:46.352154Z"
    }
   },
   "source": [
    "For statistical tests, we will use the _statsmodels_. Let's fit the linear model one more time but with statistic software."
   ]
  },
  {
   "cell_type": "code",
   "execution_count": 48,
   "metadata": {
    "ExecuteTime": {
     "end_time": "2018-10-11T17:59:42.124593Z",
     "start_time": "2018-10-11T17:59:41.239715Z"
    }
   },
   "outputs": [
    {
     "name": "stderr",
     "output_type": "stream",
     "text": [
      "/Library/Frameworks/Python.framework/Versions/3.6/lib/python3.6/site-packages/statsmodels/compat/pandas.py:56: FutureWarning:\n",
      "\n",
      "The pandas.core.datetools module is deprecated and will be removed in a future version. Please use the pandas.tseries module instead.\n",
      "\n"
     ]
    }
   ],
   "source": [
    "import statsmodels.api as sm\n",
    "from statsmodels.formula.api import ols\n",
    "df_genmil = pd.DataFrame({'x':market_risk_premium , 'y': genmil_risk_premium})\n",
    "df_citcrp = pd.DataFrame({'x':market_risk_premium , 'y': citcrp_risk_premium})\n",
    "model_genmil = ols(\"y ~ x\", df_genmil).fit()\n",
    "model_citcrp = ols(\"y ~ x\", df_citcrp).fit()"
   ]
  },
  {
   "cell_type": "code",
   "execution_count": 49,
   "metadata": {
    "ExecuteTime": {
     "end_time": "2018-10-11T17:59:52.208458Z",
     "start_time": "2018-10-11T17:59:52.166987Z"
    }
   },
   "outputs": [
    {
     "data": {
      "text/html": [
       "<table class=\"simpletable\">\n",
       "<caption>OLS Regression Results</caption>\n",
       "<tr>\n",
       "  <th>Dep. Variable:</th>            <td>y</td>        <th>  R-squared:         </th> <td>   0.016</td>\n",
       "</tr>\n",
       "<tr>\n",
       "  <th>Model:</th>                   <td>OLS</td>       <th>  Adj. R-squared:    </th> <td>  -0.001</td>\n",
       "</tr>\n",
       "<tr>\n",
       "  <th>Method:</th>             <td>Least Squares</td>  <th>  F-statistic:       </th> <td>  0.9399</td>\n",
       "</tr>\n",
       "<tr>\n",
       "  <th>Date:</th>             <td>Thu, 11 Oct 2018</td> <th>  Prob (F-statistic):</th>  <td> 0.336</td> \n",
       "</tr>\n",
       "<tr>\n",
       "  <th>Time:</th>                 <td>20:59:52</td>     <th>  Log-Likelihood:    </th> <td>  84.600</td>\n",
       "</tr>\n",
       "<tr>\n",
       "  <th>No. Observations:</th>      <td>    60</td>      <th>  AIC:               </th> <td>  -165.2</td>\n",
       "</tr>\n",
       "<tr>\n",
       "  <th>Df Residuals:</th>          <td>    58</td>      <th>  BIC:               </th> <td>  -161.0</td>\n",
       "</tr>\n",
       "<tr>\n",
       "  <th>Df Model:</th>              <td>     1</td>      <th>                     </th>     <td> </td>   \n",
       "</tr>\n",
       "<tr>\n",
       "  <th>Covariance Type:</th>      <td>nonrobust</td>    <th>                     </th>     <td> </td>   \n",
       "</tr>\n",
       "</table>\n",
       "<table class=\"simpletable\">\n",
       "<tr>\n",
       "      <td></td>         <th>coef</th>     <th>std err</th>      <th>t</th>      <th>P>|t|</th>  <th>[0.025</th>    <th>0.975]</th>  \n",
       "</tr>\n",
       "<tr>\n",
       "  <th>Intercept</th> <td>    0.0042</td> <td>    0.008</td> <td>    0.541</td> <td> 0.591</td> <td>   -0.011</td> <td>    0.020</td>\n",
       "</tr>\n",
       "<tr>\n",
       "  <th>x</th>         <td>    0.0987</td> <td>    0.102</td> <td>    0.969</td> <td> 0.336</td> <td>   -0.105</td> <td>    0.303</td>\n",
       "</tr>\n",
       "</table>\n",
       "<table class=\"simpletable\">\n",
       "<tr>\n",
       "  <th>Omnibus:</th>       <td> 4.477</td> <th>  Durbin-Watson:     </th> <td>   1.907</td>\n",
       "</tr>\n",
       "<tr>\n",
       "  <th>Prob(Omnibus):</th> <td> 0.107</td> <th>  Jarque-Bera (JB):  </th> <td>   3.733</td>\n",
       "</tr>\n",
       "<tr>\n",
       "  <th>Skew:</th>          <td> 0.600</td> <th>  Prob(JB):          </th> <td>   0.155</td>\n",
       "</tr>\n",
       "<tr>\n",
       "  <th>Kurtosis:</th>      <td> 3.231</td> <th>  Cond. No.          </th> <td>    13.1</td>\n",
       "</tr>\n",
       "</table>"
      ],
      "text/plain": [
       "<class 'statsmodels.iolib.summary.Summary'>\n",
       "\"\"\"\n",
       "                            OLS Regression Results                            \n",
       "==============================================================================\n",
       "Dep. Variable:                      y   R-squared:                       0.016\n",
       "Model:                            OLS   Adj. R-squared:                 -0.001\n",
       "Method:                 Least Squares   F-statistic:                    0.9399\n",
       "Date:                Thu, 11 Oct 2018   Prob (F-statistic):              0.336\n",
       "Time:                        20:59:52   Log-Likelihood:                 84.600\n",
       "No. Observations:                  60   AIC:                            -165.2\n",
       "Df Residuals:                      58   BIC:                            -161.0\n",
       "Df Model:                           1                                         \n",
       "Covariance Type:            nonrobust                                         \n",
       "==============================================================================\n",
       "                 coef    std err          t      P>|t|      [0.025      0.975]\n",
       "------------------------------------------------------------------------------\n",
       "Intercept      0.0042      0.008      0.541      0.591      -0.011       0.020\n",
       "x              0.0987      0.102      0.969      0.336      -0.105       0.303\n",
       "==============================================================================\n",
       "Omnibus:                        4.477   Durbin-Watson:                   1.907\n",
       "Prob(Omnibus):                  0.107   Jarque-Bera (JB):                3.733\n",
       "Skew:                           0.600   Prob(JB):                        0.155\n",
       "Kurtosis:                       3.231   Cond. No.                         13.1\n",
       "==============================================================================\n",
       "\n",
       "Warnings:\n",
       "[1] Standard Errors assume that the covariance matrix of the errors is correctly specified.\n",
       "\"\"\""
      ]
     },
     "execution_count": 49,
     "metadata": {},
     "output_type": "execute_result"
    }
   ],
   "source": [
    "model_genmil.summary()"
   ]
  },
  {
   "cell_type": "code",
   "execution_count": 50,
   "metadata": {
    "ExecuteTime": {
     "end_time": "2018-10-11T17:59:55.099312Z",
     "start_time": "2018-10-11T17:59:55.074221Z"
    },
    "scrolled": true
   },
   "outputs": [
    {
     "data": {
      "text/html": [
       "<table class=\"simpletable\">\n",
       "<caption>OLS Regression Results</caption>\n",
       "<tr>\n",
       "  <th>Dep. Variable:</th>            <td>y</td>        <th>  R-squared:         </th> <td>   0.195</td>\n",
       "</tr>\n",
       "<tr>\n",
       "  <th>Model:</th>                   <td>OLS</td>       <th>  Adj. R-squared:    </th> <td>   0.181</td>\n",
       "</tr>\n",
       "<tr>\n",
       "  <th>Method:</th>             <td>Least Squares</td>  <th>  F-statistic:       </th> <td>   14.04</td>\n",
       "</tr>\n",
       "<tr>\n",
       "  <th>Date:</th>             <td>Thu, 11 Oct 2018</td> <th>  Prob (F-statistic):</th> <td>0.000415</td>\n",
       "</tr>\n",
       "<tr>\n",
       "  <th>Time:</th>                 <td>20:59:55</td>     <th>  Log-Likelihood:    </th> <td>  75.152</td>\n",
       "</tr>\n",
       "<tr>\n",
       "  <th>No. Observations:</th>      <td>    60</td>      <th>  AIC:               </th> <td>  -146.3</td>\n",
       "</tr>\n",
       "<tr>\n",
       "  <th>Df Residuals:</th>          <td>    58</td>      <th>  BIC:               </th> <td>  -142.1</td>\n",
       "</tr>\n",
       "<tr>\n",
       "  <th>Df Model:</th>              <td>     1</td>      <th>                     </th>     <td> </td>   \n",
       "</tr>\n",
       "<tr>\n",
       "  <th>Covariance Type:</th>      <td>nonrobust</td>    <th>                     </th>     <td> </td>   \n",
       "</tr>\n",
       "</table>\n",
       "<table class=\"simpletable\">\n",
       "<tr>\n",
       "      <td></td>         <th>coef</th>     <th>std err</th>      <th>t</th>      <th>P>|t|</th>  <th>[0.025</th>    <th>0.975]</th>  \n",
       "</tr>\n",
       "<tr>\n",
       "  <th>Intercept</th> <td>    0.0006</td> <td>    0.009</td> <td>    0.065</td> <td> 0.948</td> <td>   -0.018</td> <td>    0.019</td>\n",
       "</tr>\n",
       "<tr>\n",
       "  <th>x</th>         <td>    0.4466</td> <td>    0.119</td> <td>    3.746</td> <td> 0.000</td> <td>    0.208</td> <td>    0.685</td>\n",
       "</tr>\n",
       "</table>\n",
       "<table class=\"simpletable\">\n",
       "<tr>\n",
       "  <th>Omnibus:</th>       <td> 9.036</td> <th>  Durbin-Watson:     </th> <td>   1.852</td>\n",
       "</tr>\n",
       "<tr>\n",
       "  <th>Prob(Omnibus):</th> <td> 0.011</td> <th>  Jarque-Bera (JB):  </th> <td>  10.837</td>\n",
       "</tr>\n",
       "<tr>\n",
       "  <th>Skew:</th>          <td> 0.588</td> <th>  Prob(JB):          </th> <td> 0.00443</td>\n",
       "</tr>\n",
       "<tr>\n",
       "  <th>Kurtosis:</th>      <td> 4.719</td> <th>  Cond. No.          </th> <td>    13.1</td>\n",
       "</tr>\n",
       "</table>"
      ],
      "text/plain": [
       "<class 'statsmodels.iolib.summary.Summary'>\n",
       "\"\"\"\n",
       "                            OLS Regression Results                            \n",
       "==============================================================================\n",
       "Dep. Variable:                      y   R-squared:                       0.195\n",
       "Model:                            OLS   Adj. R-squared:                  0.181\n",
       "Method:                 Least Squares   F-statistic:                     14.04\n",
       "Date:                Thu, 11 Oct 2018   Prob (F-statistic):           0.000415\n",
       "Time:                        20:59:55   Log-Likelihood:                 75.152\n",
       "No. Observations:                  60   AIC:                            -146.3\n",
       "Df Residuals:                      58   BIC:                            -142.1\n",
       "Df Model:                           1                                         \n",
       "Covariance Type:            nonrobust                                         \n",
       "==============================================================================\n",
       "                 coef    std err          t      P>|t|      [0.025      0.975]\n",
       "------------------------------------------------------------------------------\n",
       "Intercept      0.0006      0.009      0.065      0.948      -0.018       0.019\n",
       "x              0.4466      0.119      3.746      0.000       0.208       0.685\n",
       "==============================================================================\n",
       "Omnibus:                        9.036   Durbin-Watson:                   1.852\n",
       "Prob(Omnibus):                  0.011   Jarque-Bera (JB):               10.837\n",
       "Skew:                           0.588   Prob(JB):                      0.00443\n",
       "Kurtosis:                       4.719   Cond. No.                         13.1\n",
       "==============================================================================\n",
       "\n",
       "Warnings:\n",
       "[1] Standard Errors assume that the covariance matrix of the errors is correctly specified.\n",
       "\"\"\""
      ]
     },
     "execution_count": 50,
     "metadata": {},
     "output_type": "execute_result"
    }
   ],
   "source": [
    "model_citcrp.summary()"
   ]
  },
  {
   "cell_type": "markdown",
   "metadata": {
    "ExecuteTime": {
     "end_time": "2018-10-12T01:54:49.142320Z",
     "start_time": "2018-10-12T01:54:49.101716Z"
    }
   },
   "source": [
    "For each of these companies $\\alpha = 0$ enters the 95% CI for $\\alpha$ thus we cannot reject the null hypothesis $\\alpha = 0$ for these companies."
   ]
  },
  {
   "cell_type": "markdown",
   "metadata": {},
   "source": [
    "If we reject the hypothesis the model is regarded to be inefficient (see p.36 Berndt). Signficant alpha from 0 would mean that for some reason the investors expect to get positive excess return even if the while market don't get anything."
   ]
  },
  {
   "cell_type": "markdown",
   "metadata": {},
   "source": [
    "**_d) For each company, construct a 95% confidence interval for $\\beta$. Then test the null hypothesis that the company's risk is the same as the average risk over the entire market, that is, test that $\\beta = 1$ against the alternative hypothesis that $\\beta \\neq 1$._**"
   ]
  },
  {
   "cell_type": "code",
   "execution_count": 22,
   "metadata": {
    "ExecuteTime": {
     "end_time": "2018-10-12T01:30:08.583495Z",
     "start_time": "2018-10-12T01:30:08.545603Z"
    },
    "code_folding": [
     9
    ]
   },
   "outputs": [],
   "source": [
    "import random\n",
    "import math\n",
    "import collections\n",
    "import scipy.stats\n",
    "import scipy.stats.distributions as distributions\n",
    "import numpy as np\n",
    "import sys\n",
    "\n",
    "# taken from scipy source code\n",
    "def pvalue_beta(X, Y, beta):\n",
    "    sampleSize = len(X)\n",
    "\n",
    "    # Compute their average\n",
    "    avgX = sum(X)/sampleSize\n",
    "    avgY = sum(Y)/sampleSize\n",
    "\n",
    "    # Partial steps to compute estimators of linear regression parameters.\n",
    "    XDiff = [X_i - avgX for X_i in X]\n",
    "    XDiffSquared = [i*i for i in XDiff]\n",
    "    YDiff = [Y_i - avgY for Y_i in Y]\n",
    "\n",
    "    # B1 is the estimator of slope.\n",
    "    # B0 is the estimator of intercept.\n",
    "    # r is the estimator of Y given X.\n",
    "    B1 = sum(x * y for x, y in zip(XDiff, YDiff)) / sum(XDiffSquared)\n",
    "    B0 = avgY - B1*avgX\n",
    "    r = lambda x: B0 + B1*x\n",
    "\n",
    "    # Partial steps to compute Wald Statistic.\n",
    "    errs = [y - r(x) for x, y in zip(X, Y)]\n",
    "    errStd = math.sqrt((1/(sampleSize-2))*(sum([err**2 for err in errs])))\n",
    "    XStd = math.sqrt((1/(sampleSize))*sum([diff**2 for diff in XDiff]))\n",
    "    stdB1 = errStd / (XStd * math.sqrt(sampleSize))\n",
    "\n",
    "    # Wald Statistic.\n",
    "    W = (B1 - beta)/stdB1\n",
    "\n",
    "    # pvalue of Wald Test of B1 = 0.\n",
    "    pvalueWald = 2*scipy.stats.norm.cdf(-abs(W))\n",
    "\n",
    "    # pvalue of T test of B1 = 0.\n",
    "    pvalueT = 2*distributions.t.sf(abs(W), sampleSize - 2)\n",
    "\n",
    "    return pvalueT"
   ]
  },
  {
   "cell_type": "code",
   "execution_count": 38,
   "metadata": {
    "ExecuteTime": {
     "end_time": "2018-10-12T01:36:18.055705Z",
     "start_time": "2018-10-12T01:36:18.045137Z"
    }
   },
   "outputs": [
    {
     "name": "stdout",
     "output_type": "stream",
     "text": [
      "GENMIL P-value for the null hypothesis $\beta = 1$: 0.04494243489978189\n",
      "CITCRP P-value for the null hypothesis $\beta = 1$: 2.021992302619369e-05\n"
     ]
    }
   ],
   "source": [
    "print('GENMIL P-value for the null hypothesis $\\beta = 1$:', pvalue_beta(X = market_risk_premium.values,\n",
    "                                                                         Y = genmil_risk_premium.values,\n",
    "                                                                        beta = -0.11))\n",
    "print('CITCRP P-value for the null hypothesis $\\beta = 1$:', pvalue_beta(X = market_risk_premium.values,\n",
    "                                                                         Y = citcrp_risk_premium.values,\n",
    "                                                                        beta = 1))"
   ]
  },
  {
   "cell_type": "markdown",
   "metadata": {},
   "source": [
    "Both p-value are less than 0.05 => we reject the null hypothesis both times. (We can get the same result looking at summary and 95% CI for beta)"
   ]
  },
  {
   "cell_type": "markdown",
   "metadata": {
    "ExecuteTime": {
     "end_time": "2018-10-03T23:32:55.409766Z",
     "start_time": "2018-10-03T23:32:55.393975Z"
    }
   },
   "source": [
    "From summaries we get that\n",
    "- a 95% confidence interval for genmil $\\beta$ is $[-0.1345, 0.3870]$;\n",
    "- a 95% confidence interval for citcrp $\\beta$ is $[0.206, 0.677]$."
   ]
  },
  {
   "cell_type": "markdown",
   "metadata": {},
   "source": [
    "**_e) For each of the two companies, compute the proportion of total risk that is market risk, also called systematic and nondiversifiable. Does evidence from the two companies you have chosen correspond to Sharpe's typical stock? Why or why not?_**"
   ]
  },
  {
   "cell_type": "markdown",
   "metadata": {
    "ExecuteTime": {
     "end_time": "2018-10-11T18:10:27.885398Z",
     "start_time": "2018-10-11T18:10:27.874834Z"
    }
   },
   "source": [
    "$R^2$ is for systematic risk.\n",
    "\n",
    "From summaries we get that\n",
    "- a systematic risk for genmil is $0.016$;\n",
    "- a systematic risk for citcrp is $0.195$.\n",
    "- a specific risk for genmil is $1 - 0.016 = 0.984$\n",
    "- a specific risk for citcrp is $1 - 0.195 = 0.805$"
   ]
  },
  {
   "cell_type": "markdown",
   "metadata": {},
   "source": [
    "The numbers reflect the idea that banks are more sensitive to macro shocks (CITCRP's risk is nearly 20%, while GENMIL's one is 1.6% which means 20% of the bank's risk can be explained by uncertainty of the overall market). In case of global shock people loose the confidence in the future. Most likely they would take cash from banks, sell assets and so on rather than stop eating bread.\n",
    "CITCRP's risk is quite close to Sharpe's statement while GENMIL's is not at all.\n",
    "Apparently Sharpe's proposition is based on average firm data while we have two specific firms."
   ]
  },
  {
   "cell_type": "markdown",
   "metadata": {},
   "source": [
    "**_i) In your sample, do large estimates of $\\beta$ correspond with higher $R^2$ values? Would you expect this always to be the case? Why or why not?._**"
   ]
  },
  {
   "cell_type": "markdown",
   "metadata": {
    "ExecuteTime": {
     "end_time": "2018-10-11T18:40:59.226941Z",
     "start_time": "2018-10-11T18:40:59.205936Z"
    }
   },
   "source": [
    "From summaries we get:\n",
    "\n",
    "|  \t| $\\beta$ \t| $R^2$ \t|\n",
    "|--------\t|--------\t|:-----:\t|\n",
    "| genmil \t| 0.0987 \t| 0.016 \t|\n",
    "| citcrp \t| 0.45 \t| 0.195 \t|"
   ]
  },
  {
   "cell_type": "markdown",
   "metadata": {},
   "source": [
    "Here large estimates of $\\beta$ **do** correspond with higher $R^2$. Still it's not always the case. Parameter $R^2$ reflects error on input dataset. Assume all values in dataset were multiplied by 1000. Then b will increase respectively while $R^2$ will not change. Moreover,\n",
    "\n",
    "$$R^2 = \\frac{\\sum(a+bx)^2}{\\sum(y^2)} $$\n",
    "\n",
    "which doesn't imply at all that increasing of $\\beta$ causes increasing of $R^2$."
   ]
  },
  {
   "cell_type": "code",
   "execution_count": null,
   "metadata": {},
   "outputs": [],
   "source": []
  }
 ],
 "metadata": {
  "kernelspec": {
   "display_name": "Python 3.6",
   "language": "python",
   "name": "python3"
  },
  "language_info": {
   "codemirror_mode": {
    "name": "ipython",
    "version": 3
   },
   "file_extension": ".py",
   "mimetype": "text/x-python",
   "name": "python",
   "nbconvert_exporter": "python",
   "pygments_lexer": "ipython3",
   "version": "3.6.3"
  },
  "toc": {
   "base_numbering": 1,
   "nav_menu": {},
   "number_sections": true,
   "sideBar": true,
   "skip_h1_title": false,
   "title_cell": "Table of Contents",
   "title_sidebar": "Contents",
   "toc_cell": false,
   "toc_position": {},
   "toc_section_display": true,
   "toc_window_display": false
  },
  "varInspector": {
   "cols": {
    "lenName": 16,
    "lenType": 16,
    "lenVar": 40
   },
   "kernels_config": {
    "python": {
     "delete_cmd_postfix": "",
     "delete_cmd_prefix": "del ",
     "library": "var_list.py",
     "varRefreshCmd": "print(var_dic_list())"
    },
    "r": {
     "delete_cmd_postfix": ") ",
     "delete_cmd_prefix": "rm(",
     "library": "var_list.r",
     "varRefreshCmd": "cat(var_dic_list()) "
    }
   },
   "types_to_exclude": [
    "module",
    "function",
    "builtin_function_or_method",
    "instance",
    "_Feature"
   ],
   "window_display": false
  }
 },
 "nbformat": 4,
 "nbformat_minor": 2
}
